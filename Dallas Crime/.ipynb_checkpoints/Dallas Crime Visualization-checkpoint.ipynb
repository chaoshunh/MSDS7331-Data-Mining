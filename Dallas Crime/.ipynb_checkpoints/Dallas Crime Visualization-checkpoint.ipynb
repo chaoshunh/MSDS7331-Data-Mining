{
 "cells": [
  {
   "cell_type": "code",
   "execution_count": null,
   "metadata": {
    "collapsed": false,
    "deletable": true,
    "editable": true
   },
   "outputs": [],
   "source": [
    "import matplotlib.pyplot as plt\n",
    "import pandas as pd\n",
    "import numpy as np\n",
    "\n",
    "\n",
    "\n",
    "df = pd.read_csv('../../Dallas Crime/Data/Police_Incidents.csv',low_memory=False) # read in the csv file\n",
    "\n",
    "df.head()"
   ]
  },
  {
   "cell_type": "code",
   "execution_count": 7,
   "metadata": {
    "collapsed": true,
    "deletable": true,
    "editable": true
   },
   "outputs": [],
   "source": [
    "#get incident counts per city\n",
    "df2 = df[['Incident Number w/year','Division']].groupby(['Division']).agg(['count'])"
   ]
  },
  {
   "cell_type": "code",
   "execution_count": 8,
   "metadata": {
    "collapsed": false,
    "deletable": true,
    "editable": true
   },
   "outputs": [
    {
     "data": {
      "text/html": [
       "<div>\n",
       "<table border=\"1\" class=\"dataframe\">\n",
       "  <thead>\n",
       "    <tr>\n",
       "      <th></th>\n",
       "      <th>Incident Number w/year</th>\n",
       "    </tr>\n",
       "    <tr>\n",
       "      <th></th>\n",
       "      <th>count</th>\n",
       "    </tr>\n",
       "    <tr>\n",
       "      <th>Division</th>\n",
       "      <th></th>\n",
       "    </tr>\n",
       "  </thead>\n",
       "  <tbody>\n",
       "    <tr>\n",
       "      <th>CENTRAL</th>\n",
       "      <td>66966</td>\n",
       "    </tr>\n",
       "    <tr>\n",
       "      <th>Central</th>\n",
       "      <td>42</td>\n",
       "    </tr>\n",
       "    <tr>\n",
       "      <th>NORTH CENTRAL</th>\n",
       "      <td>48177</td>\n",
       "    </tr>\n",
       "    <tr>\n",
       "      <th>NORTHEAST</th>\n",
       "      <td>79414</td>\n",
       "    </tr>\n",
       "    <tr>\n",
       "      <th>NORTHWEST</th>\n",
       "      <td>66755</td>\n",
       "    </tr>\n",
       "    <tr>\n",
       "      <th>North Central</th>\n",
       "      <td>52</td>\n",
       "    </tr>\n",
       "    <tr>\n",
       "      <th>NorthEast</th>\n",
       "      <td>52</td>\n",
       "    </tr>\n",
       "    <tr>\n",
       "      <th>NorthWest</th>\n",
       "      <td>56</td>\n",
       "    </tr>\n",
       "    <tr>\n",
       "      <th>SOUTH CENTRAL</th>\n",
       "      <td>61403</td>\n",
       "    </tr>\n",
       "    <tr>\n",
       "      <th>SOUTHEAST</th>\n",
       "      <td>72950</td>\n",
       "    </tr>\n",
       "    <tr>\n",
       "      <th>SOUTHWEST</th>\n",
       "      <td>69981</td>\n",
       "    </tr>\n",
       "    <tr>\n",
       "      <th>South Central</th>\n",
       "      <td>27</td>\n",
       "    </tr>\n",
       "    <tr>\n",
       "      <th>SouthEast</th>\n",
       "      <td>37</td>\n",
       "    </tr>\n",
       "    <tr>\n",
       "      <th>SouthWest</th>\n",
       "      <td>49</td>\n",
       "    </tr>\n",
       "  </tbody>\n",
       "</table>\n",
       "</div>"
      ],
      "text/plain": [
       "              Incident Number w/year\n",
       "                               count\n",
       "Division                            \n",
       "CENTRAL                        66966\n",
       "Central                           42\n",
       "NORTH CENTRAL                  48177\n",
       "NORTHEAST                      79414\n",
       "NORTHWEST                      66755\n",
       "North Central                     52\n",
       "NorthEast                         52\n",
       "NorthWest                         56\n",
       "SOUTH CENTRAL                  61403\n",
       "SOUTHEAST                      72950\n",
       "SOUTHWEST                      69981\n",
       "South Central                     27\n",
       "SouthEast                         37\n",
       "SouthWest                         49"
      ]
     },
     "execution_count": 8,
     "metadata": {},
     "output_type": "execute_result"
    }
   ],
   "source": [
    "df2"
   ]
  },
  {
   "cell_type": "code",
   "execution_count": 9,
   "metadata": {
    "collapsed": false,
    "deletable": true,
    "editable": true
   },
   "outputs": [
    {
     "data": {
      "text/plain": [
       "<matplotlib.axes._subplots.AxesSubplot at 0x23000349048>"
      ]
     },
     "execution_count": 9,
     "metadata": {},
     "output_type": "execute_result"
    },
    {
     "data": {
      "image/png": "[encoded data removed]",
      "text/plain": [
       "<matplotlib.figure.Figure at 0x230018bf860>"
      ]
     },
     "metadata": {},
     "output_type": "display_data"
    }
   ],
   "source": [
    "%matplotlib inline\n",
    "df2.plot.bar()"
   ]
  },
  {
   "cell_type": "code",
   "execution_count": null,
   "metadata": {
    "collapsed": true,
    "deletable": true,
    "editable": true
   },
   "outputs": [],
   "source": [
    "#get incident counts per year\n",
    "df3 = df[['Incident Number w/year','Year of Incident']].groupby(['Year of Incident']).agg(['count'])"
   ]
  },
  {
   "cell_type": "code",
   "execution_count": null,
   "metadata": {
    "collapsed": false
   },
   "outputs": [],
   "source": [
    "df3"
   ]
  },
  {
   "cell_type": "code",
   "execution_count": null,
   "metadata": {
    "collapsed": false
   },
   "outputs": [],
   "source": [
    "df3.plot.bar()"
   ]
  },
  {
   "cell_type": "code",
   "execution_count": null,
   "metadata": {
    "collapsed": true
   },
   "outputs": [],
   "source": []
  }
 ],
 "metadata": {
  "kernelspec": {
   "display_name": "Python 3",
   "language": "python",
   "name": "python3"
  }
 },
 "nbformat": 4,
 "nbformat_minor": 2
}
