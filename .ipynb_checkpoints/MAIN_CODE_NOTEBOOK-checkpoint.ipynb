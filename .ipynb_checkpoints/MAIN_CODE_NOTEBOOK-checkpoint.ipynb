{
 "cells": [
  {
   "cell_type": "markdown",
   "metadata": {},
   "source": [
    "# DATA MINING PROJECT\n",
    "\n",
    "\n",
    "TEST CHANGE"
   ]
  },
  {
   "cell_type": "markdown",
   "metadata": {},
   "source": [
    "# DALLAS CRIME DATA\n",
    "\n",
    "\n",
    "DESCRIPTION FROM WEBSITE (EDIT IN OWN WORDS)\n",
    "\n",
    "This dataset represents the Dallas Police Public Data - RMS Incidents beginning June 1, 2014 to current-date. The Dallas Police Department strives to collect and disseminate police report information in a timely, accurate manner. This information reflects crimes as reported to the Dallas Police Department as of the current date. Crime classifications are based upon preliminary information supplied to the Dallas Police Department by the reporting parties and the preliminary classifications may be changed at a later date based upon additional investigation. Therefore, the Dallas Police Department does not guarantee (either expressed or implied) the accuracy, completeness, timeliness, or correct sequencing of the information contained herein and the information should not be used for comparison purposes over time. The Dallas Police Department will not be responsible for any error or omission, or for the use of, or the results obtained from the use of this information.\n",
    "\n",
    "This online site is an attempt to make it easier for citizens to access offense reports. In disseminating this crime information, we must also comply with current laws that regulate the release of potentially sensitive and confidential information. To ensure that privacy concerns are protected and legal standards are met, report data is \"filtered\" prior to being made available to the public. Among the exclusions are:\n",
    "\n",
    "1.) Sexually oriented offenses\n",
    "2.) Offenses where juveniles or children (individuals under 17 years of age) are the victim or suspect\n",
    "3.) Listing of property items that are considered evidence\n",
    "4.) Social Service Referral offenses\n",
    "5.) Identifying vehicle information in certain offenses"
   ]
  },
  {
   "cell_type": "markdown",
   "metadata": {},
   "source": [
    "## Business Understanding"
   ]
  },
  {
   "cell_type": "markdown",
   "metadata": {},
   "source": [
    "- Track crime, Classification time, Response time\n",
    "\n",
    "- Arrest made, Victim profile analysis(minors, adult, race), Seasonality of crime cycles, Response time vs location vs Popn density.\n",
    "\n",
    "- Cross validation, Dividing the data set into test and train"
   ]
  },
  {
   "cell_type": "markdown",
   "metadata": {},
   "source": [
    "## Data Meaning Type"
   ]
  },
  {
   "attachments": {},
   "cell_type": "markdown",
   "metadata": {},
   "source": [
    "In Dallas police incident dataset, it has 469,927 entries with 100 variables. The full schema of this dataset can be found at <a href=\"https://www.dallasopendata.com/Public-Safety/Police-Incidents/qv6i-rri7\"/>  here. </a> We only selected 42 variables for our analysis and 58 attributes we eleminated in our analysis due to below reasons:\n",
    "- Some redundant information like incident number, we can eaily parse from service number field to get the incident year and number of offense on the incident. \n",
    "- Some information like address, apartment number, etc. are out of scope of our analysis. \n",
    "- And some attribues has a lot of missing values, like Victim Package, Criminal Justice Information Service Code, etc.\n",
    "\n",
    "Please see below the definition of the attribute we selected for our analysis:\n",
    "\n",
    "Attribute|Data Type|Description|%missing    \n",
    ":---------| :-----------------| :---------------------|:---------:\n",
    "Service Number ID||Incident number plus year code plus offense number (Ex: -02 means there is two offense with this one incident) Internal use\n",
    "Watch||Police watch 1st 2nd or 3rd (1st watch = Late Night, 2nd watch = Days and 3rd watch = Evenings)\n",
    "Type of Incident||Type of Incident\n",
    "Type Location||Location type where incident took place For example, Apartment Parking, Residence\n",
    "Reporting Area||Geographic area comprised of reporting areas where incident occurred\n",
    "Beat||Geographic area comprised of beats where incident occurred ( the city broken down for patrol and statistical purposes)\n",
    "Division||Geographic area comprised of census blocks where incident occurred (smallest police geography)\n",
    "Sector||Geographic area comprised of Sectors where incident occurred\n",
    "Council District||Geographic area comprised of city council districts where incident occurred\n",
    "Date1 of Occurrence||The first date of the date occurrence of the incident (Ex: incident occurred between 1/1/2016 and 1/2/2016)\n",
    "Day1 of the Week||Day of the indent based on the Date of Occurrence (Date1). Internal use\n",
    "Time1 of Occurrence||The first (starting) time of the time occurrence of the incident (Ex: incident occurred between 8:00am and 5:00pm)\n",
    "Date2 of Occurrence||The second date of the date occurrence of the incident (Ex: incident occurred between 1/1/2016 and 1/2/2016)\n",
    "Day2 of the Week||Day of the indent based on the Date of Occurrence (Date2)\n",
    "Time2 of Occurrence||The second(end) time of the time occurrence of the incident (Ex: incident occurred between 8:00am and 5:00pm)\n",
    "Call Received Date Time||The date the related call was received\n",
    "Call Date Time||Date and time of the related call\n",
    "Call Cleared Date Time\t||Date and time related call was cleared\n",
    "Call Dispatch Date Time||Date and time related call was dispatched\n",
    "Person Involvement Type||Person can be; victim, reporting person, witness\n",
    "Victim Type||Victim Type\n",
    "Victim Race\t|| Race\n",
    "Victim Ethnicity\t||Victim Ethnicity\n",
    "Victim Gender\t||Victim Gender\n",
    "Victim Age\t||Victim Age\n",
    "Victim Age at Offense\t||Victim Age at Offense\n",
    "Victim Zip Code\t||Victim Zip Code\n",
    "Victim City\t||Victim City\n",
    "Victim State\t||Victim State\n",
    "Offense Status\t||Status of the offense\n",
    "UCR Disposition\t||UCR Disposition of the incident\n",
    "Family Offense\t||Yes or no if the offense is family violence\n",
    "Hate Crime\t||Yes or no if offense is a hate crime\n",
    "Weapon Used\t||Weapon Used\n",
    "Gang Related Offense\t||Yes or no if offense is gang realated\n",
    "Drug Related Istevencident\t||Yes or no if incident is drug related\n",
    "RMS Code\t||UCR Offense code\n",
    "UCR Code\t||UCR Code\n",
    "X Coordinate\t||X Coordinate\n",
    "Y Cordinate\t||Y Cordinate\n",
    "Zip Code\t||Zipcode in which incident occured\n",
    "City\t||City in which incident occurred\n",
    "\n",
    "\n"
   ]
  },
  {
   "cell_type": "markdown",
   "metadata": {},
   "source": [
    "## Data Quality"
   ]
  },
  {
   "cell_type": "markdown",
   "metadata": {},
   "source": [
    "- Explain missing data values, duplicate data, outliers, standardization\n",
    "- Reasons for mistake on data\n",
    "- Deletion and imputation"
   ]
  },
  {
   "cell_type": "markdown",
   "metadata": {},
   "source": [
    "## Simple Statistics"
   ]
  },
  {
   "cell_type": "markdown",
   "metadata": {},
   "source": [
    "- General stats table\n",
    "- General visualization "
   ]
  },
  {
   "cell_type": "markdown",
   "metadata": {},
   "source": [
    "## Visualize Attributes"
   ]
  },
  {
   "cell_type": "markdown",
   "metadata": {},
   "source": [
    "- Relational visualization"
   ]
  },
  {
   "cell_type": "markdown",
   "metadata": {},
   "source": [
    "## Explore Joint Attributes"
   ]
  },
  {
   "cell_type": "markdown",
   "metadata": {},
   "source": [
    "WRITE SOMETHING....."
   ]
  },
  {
   "cell_type": "markdown",
   "metadata": {},
   "source": [
    "## Explore Attributes and Class"
   ]
  },
  {
   "cell_type": "markdown",
   "metadata": {},
   "source": [
    "WRITE SOMETHING....."
   ]
  },
  {
   "cell_type": "markdown",
   "metadata": {},
   "source": [
    "## New Features"
   ]
  },
  {
   "cell_type": "markdown",
   "metadata": {},
   "source": [
    "WRITE SOMETHING....."
   ]
  },
  {
   "cell_type": "markdown",
   "metadata": {},
   "source": [
    "## Exceptional Work"
   ]
  },
  {
   "cell_type": "markdown",
   "metadata": {},
   "source": [
    "WRITE SOMETHING....."
   ]
  },
  {
   "cell_type": "markdown",
   "metadata": {},
   "source": [
    "# ELIMINATE"
   ]
  },
  {
   "cell_type": "markdown",
   "metadata": {},
   "source": [
    "#### Importing packages"
   ]
  },
  {
   "cell_type": "code",
   "execution_count": 2,
   "metadata": {},
   "outputs": [
    {
     "name": "stderr",
     "output_type": "stream",
     "text": [
      "D:\\Anaconda3\\envs\\BINENV\\lib\\site-packages\\sklearn\\cross_validation.py:41: DeprecationWarning: This module was deprecated in version 0.18 in favor of the model_selection module into which all the refactored classes and functions are moved. Also note that the interface of the new CV iterators are different from that of this module. This module will be removed in 0.20.\n",
      "  \"This module will be removed in 0.20.\", DeprecationWarning)\n"
     ]
    },
    {
     "name": "stdout",
     "output_type": "stream",
     "text": [
      "Pixiedust database opened successfully\n"
     ]
    },
    {
     "data": {
      "text/html": [
       "\n",
       "        <div style=\"margin:10px\">\n",
       "            <a href=\"https://github.com/ibm-watson-data-lab/pixiedust\" target=\"_new\">\n",
       "                <img src=\"https://github.com/ibm-watson-data-lab/pixiedust/raw/master/docs/_static/pd_icon32.png\" style=\"float:left;margin-right:10px\"/>\n",
       "            </a>\n",
       "            <span>Pixiedust version 1.1.11</span>\n",
       "        </div>\n",
       "        "
      ],
      "text/plain": [
       "<IPython.core.display.HTML object>"
      ]
     },
     "metadata": {},
     "output_type": "display_data"
    }
   ],
   "source": [
    "# Importing necessary packages for python\n",
    "import pandas as pd\n",
    "import numpy as np\n",
    "import datetime\n",
    "import time\n",
    "from dateutil.relativedelta import relativedelta\n",
    "\n",
    "from sklearn.neighbors import KNeighborsClassifier\n",
    "from sklearn.cross_validation import StratifiedKFold\n",
    "from sklearn import metrics as mt\n",
    "%matplotlib inline\n",
    "import matplotlib.pyplot as plt\n",
    "import warnings\n",
    "warnings.simplefilter('ignore', DeprecationWarning)\n",
    "plt.style.use('ggplot')\n",
    "import pixiedust\n",
    "import seaborn as sns\n"
   ]
  },
  {
   "cell_type": "markdown",
   "metadata": {},
   "source": [
    "## Importing datasets"
   ]
  },
  {
   "cell_type": "code",
   "execution_count": 3,
   "metadata": {
    "collapsed": true
   },
   "outputs": [],
   "source": [
    "\n",
    "#path = r\"C:\\\\Users\\\\yubin\\\\OneDrive\\\\MyWork\\\\SMU\\\\MSDS7331\\\\Dallas Crime\\Data\\\\\" # Bin Yu\n",
    "\n",
    "#path = r\"C:\\\\Users\\\\YejurSKunwar\\\\OneDrive - City Electric Supply\\\\SMU\\\\Data\\\\raw\\\\\" # Yejur\n",
    "\n",
    "path = \"../Data/\" # Generic\n",
    "\n",
    "# Dallas population dataset\n",
    "\n",
    "\n",
    "population = pd.read_csv(path + 'Population.csv', low_memory=False)\n",
    "# Dallas area police station dataset\n",
    "police_station = pd.read_csv(path + 'Dallas_Police_Stations.csv', low_memory=False)\n",
    "\n",
    "# Police arrest records\n",
    "police_arrest = pd.read_csv(path + 'Police_arrests.csv', low_memory=False)\n",
    "\n"
   ]
  },
  {
   "cell_type": "code",
   "execution_count": 4,
   "metadata": {
    "collapsed": true
   },
   "outputs": [],
   "source": [
    "# Incident dataset\n",
    "# SEP 5, 2018\n",
    "\n",
    "incident_Origin = pd.read_csv(path + 'Police_Incidents.csv', low_memory=False)"
   ]
  },
  {
   "cell_type": "code",
   "execution_count": 5,
   "metadata": {},
   "outputs": [
    {
     "name": "stdout",
     "output_type": "stream",
     "text": [
      "<class 'pandas.core.frame.DataFrame'>\n",
      "RangeIndex: 469927 entries, 0 to 469926\n",
      "Data columns (total 100 columns):\n",
      "Incident_Number_wyear                        469927 non-null object\n",
      "Year_of_Incident                             469927 non-null int64\n",
      "Service_Number_ID                            469927 non-null object\n",
      "Watch                                        469927 non-null object\n",
      "Call_911_Problem                             468058 non-null object\n",
      "Type_of_Incident                             469927 non-null object\n",
      "Type_Location                                457381 non-null object\n",
      "Type_of_Property                             114560 non-null object\n",
      "Incident_Address                             466603 non-null object\n",
      "Apartment_Number                             89425 non-null object\n",
      "Reporting_Area                               469366 non-null float64\n",
      "Beat                                         469710 non-null float64\n",
      "Division                                     469710 non-null object\n",
      "Sector                                       469719 non-null float64\n",
      "Council_District                             467897 non-null object\n",
      "Target_Area_Action_Grids                     157645 non-null object\n",
      "Community                                    50284 non-null object\n",
      "Date1_of_Occurrence                          469923 non-null object\n",
      "Year1_of_Occurrence                          469923 non-null float64\n",
      "Month1_of_Occurence                          469923 non-null object\n",
      "Day1_of_the_Week                             469923 non-null object\n",
      "Time1_of_Occurrence                          469923 non-null object\n",
      "Day1_of_the_Year                             469923 non-null float64\n",
      "Date2_of_Occurrence                          469922 non-null object\n",
      "Year2_of_Occurrence                          469922 non-null float64\n",
      "Month2_of_Occurence                          469922 non-null object\n",
      "Day2_of_the_Week                             469922 non-null object\n",
      "Time2_of_Occurrence                          469922 non-null object\n",
      "Day2_of_the_Year                             469922 non-null float64\n",
      "Date_of_Report                               469927 non-null object\n",
      "Date_incident_created                        469927 non-null object\n",
      "Offense_Entered_Year                         469927 non-null int64\n",
      "Offense_Entered_Month                        469927 non-null object\n",
      "Offense_Entered_Day_of_the_Week              469927 non-null object\n",
      "Offense_Entered_Time                         469927 non-null object\n",
      "Offense_Entered_DateTime                     469927 non-null int64\n",
      "CFS_Number                                   468059 non-null object\n",
      "Call_Received_Date_Time                      468059 non-null object\n",
      "Call_Date_Time                               468059 non-null object\n",
      "Call_Cleared_Date_Time                       467724 non-null object\n",
      "Call_Dispatch_Date_Time                      468015 non-null object\n",
      "Special_Report_Pre_RMS                       2717 non-null object\n",
      "Person_Involvement_Type                      453646 non-null object\n",
      "Victim_Type                                  445375 non-null object\n",
      "Victim_Name                                  450277 non-null object\n",
      "Victim_Race                                  307657 non-null object\n",
      "Victim_Ethnicity                             304838 non-null object\n",
      "Victim_Gender                                307818 non-null object\n",
      "Victim_Age                                   291326 non-null float64\n",
      "Victim_Age_at_Offense                        287871 non-null float64\n",
      "Victim_Home_Address                          440084 non-null object\n",
      "Victim_Apartment                             125567 non-null object\n",
      "Victim_Zip_Code                              432529 non-null float64\n",
      "Victim_City                                  439582 non-null object\n",
      "Victim_State                                 434526 non-null object\n",
      "Victim_Business_Name                         18717 non-null object\n",
      "Victim_Business_Address                      11988 non-null object\n",
      "Victim_Business_Phone                        6521 non-null object\n",
      "Responding_Officer_Nbr1_Badge_No             467481 non-null object\n",
      "Responding_Officer_Nbr1_Name                 466688 non-null object\n",
      "Responding_Officer_Nbr2_Badge_No             170541 non-null object\n",
      "Responding_Officer_Nbr2_Name                 170539 non-null object\n",
      "Reporting_Officer_Badge_No                   468686 non-null object\n",
      "Assisting_Officer_Badge_No                   355821 non-null object\n",
      "Reviewing_Officer_Badge_No                   467955 non-null object\n",
      "Element_Number_Assigned                      467632 non-null object\n",
      "Investigating_Unit_1                         345848 non-null object\n",
      "Investigating_Unit_2                         345878 non-null object\n",
      "Offense_Status                               460408 non-null object\n",
      "UCR_Disposition                              460471 non-null object\n",
      "Victim_Injury_Description                    27198 non-null object\n",
      "Victim_Condition                             22398 non-null object\n",
      "Modus_Operandi_MO                            445450 non-null object\n",
      "Family_Offense                               469820 non-null object\n",
      "Hate_Crime                                   587 non-null object\n",
      "Hate_Crime_Description                       469787 non-null object\n",
      "Weapon_Used                                  395751 non-null object\n",
      "Gang_Related_Offense                         396299 non-null object\n",
      "Victim_Package                               0 non-null float64\n",
      "Drug_Related_Istevencident                   469773 non-null object\n",
      "RMS_Code                                     469927 non-null object\n",
      "Criminal_Justice_Information_Service_Code    469927 non-null int64\n",
      "Penal_Code                                   469927 non-null object\n",
      "UCR_Offense_Name                             428687 non-null object\n",
      "UCR_Offense_Description                      428687 non-null object\n",
      "UCR_Code                                     428687 non-null float64\n",
      "Offense_Type                                 428687 non-null object\n",
      "NIBRS_Crime                                  196568 non-null object\n",
      "NIBRS_Crime_Category                         196568 non-null object\n",
      "NIBRS_Crime_Against                          196568 non-null object\n",
      "NIBRS_Code                                   196568 non-null object\n",
      "NIBRS_Group                                  196568 non-null object\n",
      "NIBRS_Type                                   196568 non-null object\n",
      "Update_Date                                  469927 non-null object\n",
      "X_Coordinate                                 418307 non-null float64\n",
      "Y_Cordinate                                  418307 non-null float64\n",
      "Zip_Code                                     466432 non-null float64\n",
      "City                                         465029 non-null object\n",
      "State                                        465486 non-null object\n",
      "Location1                                    466603 non-null object\n",
      "dtypes: float64(15), int64(4), object(81)\n",
      "memory usage: 358.5+ MB\n"
     ]
    }
   ],
   "source": [
    "# reformat the field names\n",
    "incident_Origin.columns = ['Incident_Number_wyear', 'Year_of_Incident', 'Service_Number_ID', 'Watch', 'Call_911_Problem'\n",
    "                           , 'Type_of_Incident', 'Type_Location', 'Type_of_Property', 'Incident_Address', 'Apartment_Number'\n",
    "                           , 'Reporting_Area', 'Beat', 'Division', 'Sector', 'Council_District', 'Target_Area_Action_Grids'\n",
    "                           , 'Community', 'Date1_of_Occurrence', 'Year1_of_Occurrence', 'Month1_of_Occurence'\n",
    "                           , 'Day1_of_the_Week', 'Time1_of_Occurrence', 'Day1_of_the_Year', 'Date2_of_Occurrence'\n",
    "                           , 'Year2_of_Occurrence', 'Month2_of_Occurence', 'Day2_of_the_Week', 'Time2_of_Occurrence'\n",
    "                           , 'Day2_of_the_Year', 'Date_of_Report', 'Date_incident_created', 'Offense_Entered_Year'\n",
    "                           , 'Offense_Entered_Month', 'Offense_Entered_Day_of_the_Week', 'Offense_Entered_Time'\n",
    "                           , 'Offense_Entered_DateTime', 'CFS_Number', 'Call_Received_Date_Time', 'Call_Date_Time'\n",
    "                           , 'Call_Cleared_Date_Time', 'Call_Dispatch_Date_Time', 'Special_Report_Pre_RMS'\n",
    "                           , 'Person_Involvement_Type', 'Victim_Type', 'Victim_Name', 'Victim_Race', 'Victim_Ethnicity'\n",
    "                           , 'Victim_Gender', 'Victim_Age', 'Victim_Age_at_Offense', 'Victim_Home_Address'\n",
    "                           , 'Victim_Apartment', 'Victim_Zip_Code', 'Victim_City', 'Victim_State', 'Victim_Business_Name'\n",
    "                           , 'Victim_Business_Address', 'Victim_Business_Phone', 'Responding_Officer_Nbr1_Badge_No'\n",
    "                           , 'Responding_Officer_Nbr1_Name', 'Responding_Officer_Nbr2_Badge_No', 'Responding_Officer_Nbr2_Name'\n",
    "                           , 'Reporting_Officer_Badge_No', 'Assisting_Officer_Badge_No', 'Reviewing_Officer_Badge_No'\n",
    "                           , 'Element_Number_Assigned', 'Investigating_Unit_1', 'Investigating_Unit_2', 'Offense_Status'\n",
    "                           , 'UCR_Disposition', 'Victim_Injury_Description', 'Victim_Condition', 'Modus_Operandi_MO'\n",
    "                           , 'Family_Offense', 'Hate_Crime', 'Hate_Crime_Description', 'Weapon_Used', 'Gang_Related_Offense'\n",
    "                           , 'Victim_Package', 'Drug_Related_Istevencident', 'RMS_Code'\n",
    "                           , 'Criminal_Justice_Information_Service_Code', 'Penal_Code', 'UCR_Offense_Name'\n",
    "                           , 'UCR_Offense_Description', 'UCR_Code', 'Offense_Type', 'NIBRS_Crime', 'NIBRS_Crime_Category'\n",
    "                           , 'NIBRS_Crime_Against', 'NIBRS_Code', 'NIBRS_Group', 'NIBRS_Type', 'Update_Date', 'X_Coordinate'\n",
    "                           , 'Y_Cordinate', 'Zip_Code', 'City', 'State', 'Location1']\n",
    "incident_Origin.info()"
   ]
  },
  {
   "cell_type": "code",
   "execution_count": 17,
   "metadata": {},
   "outputs": [],
   "source": [
    "# get only the attributes we want to be in our analysis\n",
    "\n",
    "incident = incident_Origin[['Service_Number_ID','Watch','Type_of_Incident','Type_Location','Reporting_Area','Beat','Division'\n",
    "                           ,'Sector','Council_District','Date1_of_Occurrence','Day1_of_the_Week', 'Time1_of_Occurrence','Date2_of_Occurrence'\n",
    "                           , 'Day2_of_the_Week','Time2_of_Occurrence','Call_Received_Date_Time', 'Call_Date_Time', 'Call_Cleared_Date_Time'\n",
    "                           , 'Call_Dispatch_Date_Time','Person_Involvement_Type','Victim_Type', 'Victim_Race', 'Victim_Ethnicity'\n",
    "                            ,'Victim_Gender', 'Victim_Age', 'Victim_Age_at_Offense', 'Victim_Zip_Code', 'Victim_City', 'Victim_State','Family_Offense','Offense_Status'\n",
    "                            , 'UCR_Disposition'\n",
    "                            , 'Hate_Crime','Weapon_Used','Gang_Related_Offense','Drug_Related_Istevencident','RMS_Code','UCR_Code'\n",
    "                            ,  'X_Coordinate','Y_Cordinate', 'Zip_Code', 'City','Location1'\n",
    "                           ]]\n"
   ]
  },
  {
   "cell_type": "code",
   "execution_count": 18,
   "metadata": {},
   "outputs": [
    {
     "name": "stdout",
     "output_type": "stream",
     "text": [
      "<class 'pandas.core.frame.DataFrame'>\n",
      "RangeIndex: 469927 entries, 0 to 469926\n",
      "Data columns (total 43 columns):\n",
      "Service_Number_ID             469927 non-null object\n",
      "Watch                         469927 non-null object\n",
      "Type_of_Incident              469927 non-null object\n",
      "Type_Location                 457381 non-null object\n",
      "Reporting_Area                469366 non-null float64\n",
      "Beat                          469710 non-null float64\n",
      "Division                      469710 non-null object\n",
      "Sector                        469719 non-null float64\n",
      "Council_District              467897 non-null object\n",
      "Date1_of_Occurrence           469923 non-null object\n",
      "Day1_of_the_Week              469923 non-null object\n",
      "Time1_of_Occurrence           469923 non-null object\n",
      "Date2_of_Occurrence           469922 non-null object\n",
      "Day2_of_the_Week              469922 non-null object\n",
      "Time2_of_Occurrence           469922 non-null object\n",
      "Call_Received_Date_Time       468059 non-null object\n",
      "Call_Date_Time                468059 non-null object\n",
      "Call_Cleared_Date_Time        467724 non-null object\n",
      "Call_Dispatch_Date_Time       468015 non-null object\n",
      "Person_Involvement_Type       453646 non-null object\n",
      "Victim_Type                   445375 non-null object\n",
      "Victim_Race                   307657 non-null object\n",
      "Victim_Ethnicity              304838 non-null object\n",
      "Victim_Gender                 307818 non-null object\n",
      "Victim_Age                    291326 non-null float64\n",
      "Victim_Age_at_Offense         287871 non-null float64\n",
      "Victim_Zip_Code               432529 non-null float64\n",
      "Victim_City                   439582 non-null object\n",
      "Victim_State                  434526 non-null object\n",
      "Family_Offense                469820 non-null object\n",
      "Offense_Status                460408 non-null object\n",
      "UCR_Disposition               460471 non-null object\n",
      "Hate_Crime                    587 non-null object\n",
      "Weapon_Used                   395751 non-null object\n",
      "Gang_Related_Offense          396299 non-null object\n",
      "Drug_Related_Istevencident    469773 non-null object\n",
      "RMS_Code                      469927 non-null object\n",
      "UCR_Code                      428687 non-null float64\n",
      "X_Coordinate                  418307 non-null float64\n",
      "Y_Cordinate                   418307 non-null float64\n",
      "Zip_Code                      466432 non-null float64\n",
      "City                          465029 non-null object\n",
      "Location1                     466603 non-null object\n",
      "dtypes: float64(10), object(33)\n",
      "memory usage: 154.2+ MB\n"
     ]
    }
   ],
   "source": [
    "# attribute information before the clean up.\n",
    "incident.info()"
   ]
  },
  {
   "cell_type": "code",
   "execution_count": 41,
   "metadata": {},
   "outputs": [
    {
     "data": {
      "text/plain": [
       "Service_Number_ID                 0.000000\n",
       "Watch                             0.000000\n",
       "Type_of_Incident                  0.000000\n",
       "Type_Location                     2.743009\n",
       "Reporting_Area                    0.119523\n",
       "Beat                              0.046199\n",
       "Division                          0.046199\n",
       "Sector                            0.044282\n",
       "Council_District                  0.433856\n",
       "Date1_of_Occurrence               0.000851\n",
       "Day1_of_the_Week                  0.000851\n",
       "Time1_of_Occurrence               0.000851\n",
       "Date2_of_Occurrence               0.001064\n",
       "Day2_of_the_Week                  0.001064\n",
       "Time2_of_Occurrence               0.001064\n",
       "Call_Received_Date_Time           0.399095\n",
       "Call_Date_Time                    0.399095\n",
       "Call_Cleared_Date_Time            0.471004\n",
       "Call_Dispatch_Date_Time           0.408534\n",
       "Person_Involvement_Type           3.588922\n",
       "Victim_Type                       5.512658\n",
       "Victim_Race                      52.743802\n",
       "Victim_Ethnicity                 54.156306\n",
       "Victim_Gender                    52.663912\n",
       "Victim_Age                       61.306234\n",
       "Victim_Age_at_Offense            63.242216\n",
       "Victim_Zip_Code                   8.646357\n",
       "Victim_City                       6.903149\n",
       "Victim_State                      8.147038\n",
       "Family_Offense                    0.022775\n",
       "Offense_Status                    2.067514\n",
       "UCR_Disposition                   2.053550\n",
       "Hate_Crime                    79955.706985\n",
       "Weapon_Used                      18.743099\n",
       "Gang_Related_Offense             18.578901\n",
       "Drug_Related_Istevencident        0.032782\n",
       "RMS_Code                          0.000000\n",
       "UCR_Code                          9.620072\n",
       "X_Coordinate                     12.340219\n",
       "Y_Cordinate                      12.340219\n",
       "Zip_Code                          0.749305\n",
       "City                              1.053268\n",
       "Location1                         0.712383\n",
       "dtype: float64"
      ]
     },
     "execution_count": 41,
     "metadata": {},
     "output_type": "execute_result"
    }
   ],
   "source": [
    "# Get Missing value rate before the cleanup\n",
    "\n",
    "def getPctMissing(series):\n",
    "    num = series.isnull().sum(axis=0)\n",
    "    den = series.count()\n",
    "    #print(num.str()+';'+den.str())\n",
    "    result = 100*(num/den)\n",
    "    return result\n",
    "\n",
    "getPctMissing(incident)\n",
    "\n",
    "# the number not looks right, need more research"
   ]
  },
  {
   "cell_type": "code",
   "execution_count": 40,
   "metadata": {},
   "outputs": [
    {
     "data": {
      "text/plain": [
       "469340"
      ]
     },
     "execution_count": 40,
     "metadata": {},
     "output_type": "execute_result"
    }
   ],
   "source": []
  },
  {
   "cell_type": "markdown",
   "metadata": {},
   "source": [
    "# Dataset exploration"
   ]
  },
  {
   "cell_type": "code",
   "execution_count": 51,
   "metadata": {},
   "outputs": [
    {
     "data": {
      "text/html": [
       "<div>\n",
       "<style scoped>\n",
       "    .dataframe tbody tr th:only-of-type {\n",
       "        vertical-align: middle;\n",
       "    }\n",
       "\n",
       "    .dataframe tbody tr th {\n",
       "        vertical-align: top;\n",
       "    }\n",
       "\n",
       "    .dataframe thead th {\n",
       "        text-align: right;\n",
       "    }\n",
       "</style>\n",
       "<table border=\"1\" class=\"dataframe\">\n",
       "  <thead>\n",
       "    <tr style=\"text-align: right;\">\n",
       "      <th></th>\n",
       "      <th>Zip</th>\n",
       "      <th>Total population</th>\n",
       "      <th>Male</th>\n",
       "      <th>Male - 0  to 9 years</th>\n",
       "      <th>Male - 10  to 18 years</th>\n",
       "      <th>Male - 19 to 21 years</th>\n",
       "      <th>Male - 22 - 29 years</th>\n",
       "      <th>Male - 30 - 44 years</th>\n",
       "      <th>Male - 45 to 59 years</th>\n",
       "      <th>Male - 60 - 69 years</th>\n",
       "      <th>Male - 70 years +</th>\n",
       "      <th>Female</th>\n",
       "      <th>Female - 0  to 9 years</th>\n",
       "      <th>Female - 10  to 18 years</th>\n",
       "      <th>Female - 19 to 22 years</th>\n",
       "      <th>Female - 23 - 29 years</th>\n",
       "      <th>Female - 30 - 44 years</th>\n",
       "      <th>Female - 45 to 59 years</th>\n",
       "      <th>Female - 60 - 69 years</th>\n",
       "      <th>Female - 70 years +</th>\n",
       "    </tr>\n",
       "  </thead>\n",
       "  <tbody>\n",
       "    <tr>\n",
       "      <th>21757</th>\n",
       "      <td>64854</td>\n",
       "      <td>3909</td>\n",
       "      <td>2016</td>\n",
       "      <td>326</td>\n",
       "      <td>230</td>\n",
       "      <td>81</td>\n",
       "      <td>293</td>\n",
       "      <td>443</td>\n",
       "      <td>338</td>\n",
       "      <td>168</td>\n",
       "      <td>137</td>\n",
       "      <td>1893</td>\n",
       "      <td>365</td>\n",
       "      <td>194</td>\n",
       "      <td>81</td>\n",
       "      <td>190</td>\n",
       "      <td>421</td>\n",
       "      <td>345</td>\n",
       "      <td>162</td>\n",
       "      <td>135</td>\n",
       "    </tr>\n",
       "    <tr>\n",
       "      <th>29373</th>\n",
       "      <td>91962</td>\n",
       "      <td>1560</td>\n",
       "      <td>770</td>\n",
       "      <td>73</td>\n",
       "      <td>101</td>\n",
       "      <td>12</td>\n",
       "      <td>26</td>\n",
       "      <td>169</td>\n",
       "      <td>241</td>\n",
       "      <td>79</td>\n",
       "      <td>69</td>\n",
       "      <td>790</td>\n",
       "      <td>88</td>\n",
       "      <td>134</td>\n",
       "      <td>9</td>\n",
       "      <td>24</td>\n",
       "      <td>174</td>\n",
       "      <td>208</td>\n",
       "      <td>63</td>\n",
       "      <td>90</td>\n",
       "    </tr>\n",
       "  </tbody>\n",
       "</table>\n",
       "</div>"
      ],
      "text/plain": [
       "         Zip  Total population  Male  Male - 0  to 9 years  \\\n",
       "21757  64854              3909  2016                   326   \n",
       "29373  91962              1560   770                    73   \n",
       "\n",
       "       Male - 10  to 18 years  Male - 19 to 21 years  Male - 22 - 29 years  \\\n",
       "21757                     230                     81                   293   \n",
       "29373                     101                     12                    26   \n",
       "\n",
       "       Male - 30 - 44 years  Male - 45 to 59 years  Male - 60 - 69 years  \\\n",
       "21757                   443                    338                   168   \n",
       "29373                   169                    241                    79   \n",
       "\n",
       "       Male - 70 years +  Female  Female - 0  to 9 years  \\\n",
       "21757                137    1893                     365   \n",
       "29373                 69     790                      88   \n",
       "\n",
       "       Female - 10  to 18 years  Female - 19 to 22 years  \\\n",
       "21757                       194                       81   \n",
       "29373                       134                        9   \n",
       "\n",
       "       Female - 23 - 29 years  Female - 30 - 44 years  \\\n",
       "21757                     190                     421   \n",
       "29373                      24                     174   \n",
       "\n",
       "       Female - 45 to 59 years  Female - 60 - 69 years  Female - 70 years +  \n",
       "21757                      345                     162                  135  \n",
       "29373                      208                      63                   90  "
      ]
     },
     "execution_count": 51,
     "metadata": {},
     "output_type": "execute_result"
    }
   ],
   "source": [
    "population.sample(2)"
   ]
  },
  {
   "cell_type": "code",
   "execution_count": 52,
   "metadata": {},
   "outputs": [
    {
     "data": {
      "text/html": [
       "<div>\n",
       "<style scoped>\n",
       "    .dataframe tbody tr th:only-of-type {\n",
       "        vertical-align: middle;\n",
       "    }\n",
       "\n",
       "    .dataframe tbody tr th {\n",
       "        vertical-align: top;\n",
       "    }\n",
       "\n",
       "    .dataframe thead th {\n",
       "        text-align: right;\n",
       "    }\n",
       "</style>\n",
       "<table border=\"1\" class=\"dataframe\">\n",
       "  <thead>\n",
       "    <tr style=\"text-align: right;\">\n",
       "      <th></th>\n",
       "      <th>Station</th>\n",
       "      <th>Address</th>\n",
       "      <th>Zip Code</th>\n",
       "      <th>Phone Number</th>\n",
       "      <th>Location</th>\n",
       "    </tr>\n",
       "  </thead>\n",
       "  <tbody>\n",
       "    <tr>\n",
       "      <th>5</th>\n",
       "      <td>Jack Evans Police Headquarters</td>\n",
       "      <td>1400 S. Lamar St.</td>\n",
       "      <td>75215</td>\n",
       "      <td>214-671-3001</td>\n",
       "      <td>1400 S. Lamar St.\\nDallas, Texas 75215\\n(32.76...</td>\n",
       "    </tr>\n",
       "    <tr>\n",
       "      <th>2</th>\n",
       "      <td>Southeast Operations Division</td>\n",
       "      <td>725 North Jim Miller Rd.</td>\n",
       "      <td>75217</td>\n",
       "      <td>214-670-8345</td>\n",
       "      <td>725 North Jim Miller Rd.\\nDallas, Texas 75217\\...</td>\n",
       "    </tr>\n",
       "  </tbody>\n",
       "</table>\n",
       "</div>"
      ],
      "text/plain": [
       "                          Station                   Address  Zip Code  \\\n",
       "5  Jack Evans Police Headquarters         1400 S. Lamar St.     75215   \n",
       "2   Southeast Operations Division  725 North Jim Miller Rd.     75217   \n",
       "\n",
       "   Phone Number                                           Location  \n",
       "5  214-671-3001  1400 S. Lamar St.\\nDallas, Texas 75215\\n(32.76...  \n",
       "2  214-670-8345  725 North Jim Miller Rd.\\nDallas, Texas 75217\\...  "
      ]
     },
     "execution_count": 52,
     "metadata": {},
     "output_type": "execute_result"
    }
   ],
   "source": [
    "police_station.sample(2)"
   ]
  },
  {
   "cell_type": "code",
   "execution_count": 53,
   "metadata": {},
   "outputs": [
    {
     "data": {
      "text/html": [
       "<div>\n",
       "<style scoped>\n",
       "    .dataframe tbody tr th:only-of-type {\n",
       "        vertical-align: middle;\n",
       "    }\n",
       "\n",
       "    .dataframe tbody tr th {\n",
       "        vertical-align: top;\n",
       "    }\n",
       "\n",
       "    .dataframe thead th {\n",
       "        text-align: right;\n",
       "    }\n",
       "</style>\n",
       "<table border=\"1\" class=\"dataframe\">\n",
       "  <thead>\n",
       "    <tr style=\"text-align: right;\">\n",
       "      <th></th>\n",
       "      <th>IncidentNum</th>\n",
       "      <th>Involvement</th>\n",
       "      <th>ArrestYr</th>\n",
       "      <th>ArrestNum</th>\n",
       "      <th>ArBkNum</th>\n",
       "      <th>ArCaseNum</th>\n",
       "      <th>ArrestNumID</th>\n",
       "      <th>ArBkDate</th>\n",
       "      <th>ArBkNo</th>\n",
       "      <th>ArLBlock</th>\n",
       "      <th>...</th>\n",
       "      <th>TatooComment</th>\n",
       "      <th>Occupation</th>\n",
       "      <th>JobSchStatus</th>\n",
       "      <th>Employer</th>\n",
       "      <th>Drug</th>\n",
       "      <th>DrugRelated</th>\n",
       "      <th>DrugType</th>\n",
       "      <th>ClothingWorn</th>\n",
       "      <th>Expunged</th>\n",
       "      <th>UpZDate</th>\n",
       "    </tr>\n",
       "  </thead>\n",
       "  <tbody>\n",
       "    <tr>\n",
       "      <th>3222</th>\n",
       "      <td>296365-2014</td>\n",
       "      <td>NaN</td>\n",
       "      <td>2014</td>\n",
       "      <td>NaN</td>\n",
       "      <td>NaN</td>\n",
       "      <td>NaN</td>\n",
       "      <td>14-053056</td>\n",
       "      <td>12/13/2014 12:00:00 AM</td>\n",
       "      <td>NaN</td>\n",
       "      <td>NaN</td>\n",
       "      <td>...</td>\n",
       "      <td>NaN</td>\n",
       "      <td>GLOBAL EDUCATOR</td>\n",
       "      <td>NaN</td>\n",
       "      <td>IMC</td>\n",
       "      <td>NaN</td>\n",
       "      <td>No</td>\n",
       "      <td>NaN</td>\n",
       "      <td>Shirt: BLACK SHIRT Jacket: NONE Pants: BLACK P...</td>\n",
       "      <td>NaN</td>\n",
       "      <td>01/07/2015 12:16:31 PM</td>\n",
       "    </tr>\n",
       "    <tr>\n",
       "      <th>125400</th>\n",
       "      <td>166481-2016</td>\n",
       "      <td>NaN</td>\n",
       "      <td>2016</td>\n",
       "      <td>NaN</td>\n",
       "      <td>NaN</td>\n",
       "      <td>NaN</td>\n",
       "      <td>16-030409</td>\n",
       "      <td>07/09/2016 12:00:00 AM</td>\n",
       "      <td>NaN</td>\n",
       "      <td>NaN</td>\n",
       "      <td>...</td>\n",
       "      <td>NaN</td>\n",
       "      <td>NaN</td>\n",
       "      <td>NaN</td>\n",
       "      <td>NaN</td>\n",
       "      <td>NaN</td>\n",
       "      <td>No</td>\n",
       "      <td>NaN</td>\n",
       "      <td>Shirt: WHITE AND BLUE FOOTBALL JERSEY Jacket: ...</td>\n",
       "      <td>NaN</td>\n",
       "      <td>07/18/2016 09:52:32 AM</td>\n",
       "    </tr>\n",
       "  </tbody>\n",
       "</table>\n",
       "<p>2 rows × 77 columns</p>\n",
       "</div>"
      ],
      "text/plain": [
       "        IncidentNum  Involvement  ArrestYr  ArrestNum  ArBkNum  ArCaseNum  \\\n",
       "3222    296365-2014          NaN      2014        NaN      NaN        NaN   \n",
       "125400  166481-2016          NaN      2016        NaN      NaN        NaN   \n",
       "\n",
       "       ArrestNumID                ArBkDate  ArBkNo  ArLBlock  \\\n",
       "3222     14-053056  12/13/2014 12:00:00 AM     NaN       NaN   \n",
       "125400   16-030409  07/09/2016 12:00:00 AM     NaN       NaN   \n",
       "\n",
       "                 ...            TatooComment       Occupation JobSchStatus  \\\n",
       "3222             ...                     NaN  GLOBAL EDUCATOR          NaN   \n",
       "125400           ...                     NaN              NaN          NaN   \n",
       "\n",
       "        Employer Drug DrugRelated  DrugType  \\\n",
       "3222         IMC  NaN          No       NaN   \n",
       "125400       NaN  NaN          No       NaN   \n",
       "\n",
       "                                             ClothingWorn  Expunged  \\\n",
       "3222    Shirt: BLACK SHIRT Jacket: NONE Pants: BLACK P...       NaN   \n",
       "125400  Shirt: WHITE AND BLUE FOOTBALL JERSEY Jacket: ...       NaN   \n",
       "\n",
       "                       UpZDate  \n",
       "3222    01/07/2015 12:16:31 PM  \n",
       "125400  07/18/2016 09:52:32 AM  \n",
       "\n",
       "[2 rows x 77 columns]"
      ]
     },
     "execution_count": 53,
     "metadata": {},
     "output_type": "execute_result"
    }
   ],
   "source": [
    "police_arrest.sample(2)"
   ]
  },
  {
   "cell_type": "code",
   "execution_count": 58,
   "metadata": {
    "collapsed": true
   },
   "outputs": [],
   "source": [
    "# incident.Division.value_counts()\n",
    "# incident.State.value_counts()\n",
    "# incident['Type_of_Incident'].nunique()\n",
    "# incident['UCR Disposition'].value_counts()\n",
    "# incident['UCR Offense Description'].value_counts()\n",
    "# incident['Call (911) Problem'].value_counts()\n",
    "# incident['Type of Property'].value_counts()\n",
    "# incident['Zip Code'].value_counts().plot(kind=barh)\n",
    "# incident['NIBRS Crime'].value_counts()"
   ]
  },
  {
   "cell_type": "code",
   "execution_count": 15,
   "metadata": {},
   "outputs": [
    {
     "data": {
      "text/plain": [
       "149941-2018-01    1\n",
       "290253-2016-01    1\n",
       "164598-2017-03    1\n",
       "105903-2015-01    1\n",
       "123096-2015-01    1\n",
       "061429-2016-01    1\n",
       "125117-2017-01    1\n",
       "169784-2015-01    1\n",
       "291811-2017-01    1\n",
       "195490-2014-01    1\n",
       "016342-2017-01    1\n",
       "188773-2016-01    1\n",
       "177844-2018-01    1\n",
       "040449-2017-01    1\n",
       "169351-2014-01    1\n",
       "095271-2015-03    1\n",
       "188774-2014-01    1\n",
       "044611-2016-01    1\n",
       "242592-2016-01    1\n",
       "132363-2016-05    1\n",
       "146253-2015-01    1\n",
       "140797-2016-01    1\n",
       "270366-2015-01    1\n",
       "174433-2018-01    1\n",
       "150550-2014-01    1\n",
       "150276-2015-01    1\n",
       "161953-2014-01    1\n",
       "152140-2014-01    1\n",
       "131904-2017-01    1\n",
       "037080-2017-01    1\n",
       "                 ..\n",
       "183494-2014-01    1\n",
       "122681-2015-01    1\n",
       "234963-2015-01    1\n",
       "252003-2016-01    1\n",
       "150164-2018-01    1\n",
       "135909-2016-01    1\n",
       "006159-2018-01    1\n",
       "223654-2015-03    1\n",
       "219613-2017-01    1\n",
       "149025-2018-01    1\n",
       "105978-2016-01    1\n",
       "248512-2014-01    1\n",
       "199045-2015-01    1\n",
       "211853-2015-01    1\n",
       "181887-2017-01    1\n",
       "138030-2016-01    1\n",
       "134366-2014-01    1\n",
       "272877-2015-02    1\n",
       "222332-2016-01    1\n",
       "010264-2018-01    1\n",
       "030555-2016-01    1\n",
       "052961-2016-01    1\n",
       "107356-2015-01    1\n",
       "237141-2015-01    1\n",
       "116901-2015-01    1\n",
       "181152-2016-01    1\n",
       "182421-2018-01    1\n",
       "013727-2016-01    1\n",
       "278075-2017-01    1\n",
       "185680-2018-01    1\n",
       "Name: Service_Number_ID, Length: 469927, dtype: int64"
      ]
     },
     "execution_count": 15,
     "metadata": {},
     "output_type": "execute_result"
    }
   ],
   "source": [
    "incident.Service_Number_ID.fillna('***MISSING***').value_counts()\n"
   ]
  },
  {
   "cell_type": "code",
   "execution_count": 15,
   "metadata": {
    "collapsed": true
   },
   "outputs": [],
   "source": [
    "# incident['NIBRS Crime'].value_counts().plot(kind='barh')"
   ]
  },
  {
   "cell_type": "markdown",
   "metadata": {},
   "source": [
    "### CLEANING AND NOTES "
   ]
  },
  {
   "cell_type": "markdown",
   "metadata": {},
   "source": [
    "##### *  NOTES \n",
    "\n",
    "'Service Number ID' means Incident number plus year code plus offense number (Ex: -02 means there is two offense with this one incident) Internal use\n",
    "\n",
    "'Watch' means Police watch 1st 2nd or 3rd (1st watch = Late Night, 2nd watch = Days and 3rd watch = Evenings)\n",
    "\n",
    "'beat' is the territory and time that a police officer patrols\n",
    "\n",
    "\n",
    "- Cleaner and full categorical data UCR and NIBR"
   ]
  },
  {
   "cell_type": "markdown",
   "metadata": {},
   "source": [
    "### CODE TO CLEAN"
   ]
  },
  {
   "cell_type": "code",
   "execution_count": 11,
   "metadata": {
    "collapsed": true
   },
   "outputs": [],
   "source": [
    "incident_1 = incident.copy()\n",
    "incident_1['Incident Number w/year'] = incident_1['Incident Number w/year'].str.split(\"-\",expand=True).rename(columns = {0 : 'Incident_number'})"
   ]
  },
  {
   "cell_type": "code",
   "execution_count": 12,
   "metadata": {
    "collapsed": true
   },
   "outputs": [],
   "source": [
    "police_arrest_1 = police_arrest.copy()\n",
    "police_arrest_1['IncidentNum'] = police_arrest_1['IncidentNum'].str.split(\"-\",expand=True).rename(columns = {0 : 'Incident_number'})"
   ]
  },
  {
   "cell_type": "code",
   "execution_count": 13,
   "metadata": {},
   "outputs": [
    {
     "data": {
      "text/plain": [
       "True     104798\n",
       "False     20628\n",
       "Name: IncidentNum, dtype: int64"
      ]
     },
     "execution_count": 13,
     "metadata": {},
     "output_type": "execute_result"
    }
   ],
   "source": [
    "police_arrest_1['IncidentNum'].isin(incident_1['Incident Number w/year']).value_counts()"
   ]
  },
  {
   "cell_type": "code",
   "execution_count": 14,
   "metadata": {},
   "outputs": [
    {
     "data": {
      "text/plain": [
       "False    78296\n",
       "True     47130\n",
       "Name: IncidentNum, dtype: int64"
      ]
     },
     "execution_count": 14,
     "metadata": {},
     "output_type": "execute_result"
    }
   ],
   "source": [
    "# WITHOUT CLEANING\n",
    "police_arrest['IncidentNum'].isin(incident['Incident Number w/year']).value_counts()"
   ]
  },
  {
   "cell_type": "code",
   "execution_count": 20,
   "metadata": {},
   "outputs": [
    {
     "name": "stdout",
     "output_type": "stream",
     "text": [
      "{(466823, 100)} {(125426, 77)}\n"
     ]
    }
   ],
   "source": [
    "print({incident_1.shape}, {police_arrest_1.shape})"
   ]
  },
  {
   "cell_type": "code",
   "execution_count": 21,
   "metadata": {
    "collapsed": true
   },
   "outputs": [],
   "source": [
    "# Converting string to datetimes\n",
    "incident_1['Call_Received']= pd.to_datetime(incident_1['Call Received Date Time'], \n",
    "                                                      format=\"%m/%d/%Y %I:%M:%S %p\")\n",
    "incident_1['Call_Cleared']= pd.to_datetime(incident_1['Call Cleared Date Time'], \n",
    "                                                      format=\"%m/%d/%Y %I:%M:%S %p\")\n",
    "incident_1['Call_Dispatch']= pd.to_datetime(incident_1['Call Dispatch Date Time'], \n",
    "                                                      format=\"%m/%d/%Y %I:%M:%S %p\")\n"
   ]
  },
  {
   "cell_type": "code",
   "execution_count": 22,
   "metadata": {},
   "outputs": [
    {
     "data": {
      "text/plain": [
       "(466823, 103)"
      ]
     },
     "execution_count": 22,
     "metadata": {},
     "output_type": "execute_result"
    }
   ],
   "source": [
    "incident_1.shape"
   ]
  },
  {
   "cell_type": "code",
   "execution_count": 23,
   "metadata": {
    "collapsed": true
   },
   "outputs": [],
   "source": [
    "incident_1['Response_time'] = pd.Series(data=(incident_1['Call_Dispatch']-incident_1['Call_Received']).astype('timedelta64[m]').astype('float'),\n",
    "                                        index=incident_1.index,name='Response Time')"
   ]
  },
  {
   "cell_type": "code",
   "execution_count": 24,
   "metadata": {},
   "outputs": [
    {
     "data": {
      "text/plain": [
       "count    464917.000000\n",
       "mean         37.002231\n",
       "std          76.468209\n",
       "min         -61.000000\n",
       "25%           2.000000\n",
       "50%           9.000000\n",
       "75%          40.000000\n",
       "max       13290.000000\n",
       "Name: Response_time, dtype: float64"
      ]
     },
     "execution_count": 24,
     "metadata": {},
     "output_type": "execute_result"
    }
   ],
   "source": [
    "incident_1['Response_time'].describe()"
   ]
  },
  {
   "cell_type": "markdown",
   "metadata": {},
   "source": [
    "- Response time in minutes can't be negative \n",
    "\n",
    "Discuss on removing those values"
   ]
  },
  {
   "cell_type": "code",
   "execution_count": 25,
   "metadata": {
    "collapsed": true
   },
   "outputs": [],
   "source": [
    "# Since Response time cannot be negative and cannot be larger than 24 hrs, removing those records\n",
    "# Assumption: Response time from call received to dispatch should be within 0-1440 minutes (i.e. 24 hrs)\n",
    "incident_1 = incident_1[incident_1['Response_time']> 0]\n",
    "incident_1 = incident_1[incident_1['Response_time'] < 1441] \n",
    "\n",
    "\n",
    "# Expalin the urgent time and emergent time"
   ]
  },
  {
   "cell_type": "code",
   "execution_count": 26,
   "metadata": {},
   "outputs": [
    {
     "data": {
      "text/plain": [
       "count    385791.000000\n",
       "mean         44.446242\n",
       "std          74.052427\n",
       "min           1.000000\n",
       "25%           5.000000\n",
       "50%          15.000000\n",
       "75%          52.000000\n",
       "max        1438.000000\n",
       "Name: Response_time, dtype: float64"
      ]
     },
     "execution_count": 26,
     "metadata": {},
     "output_type": "execute_result"
    }
   ],
   "source": [
    "incident_1['Response_time'].describe()"
   ]
  },
  {
   "cell_type": "markdown",
   "metadata": {},
   "source": [
    "FROM CALL RECEIVED TO DISPATCH, assuming 24 hrs data\n",
    "- Average response time is now 44 minutes "
   ]
  },
  {
   "cell_type": "code",
   "execution_count": 27,
   "metadata": {},
   "outputs": [
    {
     "data": {
      "text/plain": [
       "array(['TX', nan, 'UT', 'TN', 'T', 'OR', 'NY', 'WA', 'DE', 'TY', 'TC',\n",
       "       'YX', 'UK', 'RX'], dtype=object)"
      ]
     },
     "execution_count": 27,
     "metadata": {},
     "output_type": "execute_result"
    }
   ],
   "source": [
    "# Since we have data entry error, eliminating some states that make non sense\n",
    "\n",
    "# DECIDE ON ELIMINATION BY STATE OR ZIP CODE IN ORDER TO NOT IGNORE GOOD DATA\n",
    "\n",
    "incident_1['State'].unique()"
   ]
  },
  {
   "cell_type": "code",
   "execution_count": 28,
   "metadata": {
    "collapsed": true
   },
   "outputs": [],
   "source": [
    "# Incidents only in state of Texas\n",
    "incident_1 = incident_1[incident_1['State'] == \"TX\"]"
   ]
  },
  {
   "cell_type": "code",
   "execution_count": 29,
   "metadata": {},
   "outputs": [
    {
     "data": {
      "text/plain": [
       "(382387, 104)"
      ]
     },
     "execution_count": 29,
     "metadata": {},
     "output_type": "execute_result"
    }
   ],
   "source": [
    "incident_1.shape"
   ]
  },
  {
   "cell_type": "code",
   "execution_count": 30,
   "metadata": {},
   "outputs": [
    {
     "data": {
      "text/plain": [
       "array(['Suspended', 'Clear by Arrest', 'Clear by Exceptional Arrest',\n",
       "       'Open', 'Closed/Cleared', nan, 'SW', 'D',\n",
       "       'Returned for Correction', 'CL', 'W'], dtype=object)"
      ]
     },
     "execution_count": 30,
     "metadata": {},
     "output_type": "execute_result"
    }
   ],
   "source": [
    "incident_1['Offense Status'].unique()"
   ]
  },
  {
   "cell_type": "code",
   "execution_count": 31,
   "metadata": {},
   "outputs": [
    {
     "data": {
      "text/plain": [
       "765"
      ]
     },
     "execution_count": 31,
     "metadata": {},
     "output_type": "execute_result"
    }
   ],
   "source": [
    "incident_1['Type of Incident'].nunique()"
   ]
  },
  {
   "cell_type": "code",
   "execution_count": 32,
   "metadata": {
    "collapsed": true
   },
   "outputs": [],
   "source": [
    "# Arrest_status variable binary coding\n",
    "def get_status(row):\n",
    "    if row['Offense Status']=='Clear by Arrest':\n",
    "        return 1\n",
    "    elif row['Offense Status']=='Clear by Exceptional Arrest':\n",
    "        return 1\n",
    "    else:\n",
    "        return 0\n",
    "# UCR description category normalization    \n",
    "def UCR_off_type(row):\n",
    "    if row['UCR Offense Description'] == 'THEFT':\n",
    "        return 'THEFT'\n",
    "    elif row['UCR Offense Description'] == 'BURGLARY':\n",
    "        return 'BURGLARY' \n",
    "    elif row['UCR Offense Description'] == 'CRIMINAL MISCHIEF/VANDALISM':\n",
    "        return 'CRIMINAL MISCHIEF/VANDALISM' \n",
    "    elif row['UCR Offense Description'] == 'AUTO THEFT - UUMV':\n",
    "        return 'AUTO THEFT - UUMV'\n",
    "    elif row['UCR Offense Description'] == 'ROBBERY':\n",
    "        return 'ROBBERY' \n",
    "    else:\n",
    "        return 'OTHER'"
   ]
  },
  {
   "cell_type": "code",
   "execution_count": 33,
   "metadata": {
    "collapsed": true
   },
   "outputs": [],
   "source": [
    "incident_1['Arrest_status']= incident_1.apply(get_status, axis=1)\n",
    "incident_1['UCR_category']= incident_1.apply(UCR_off_type, axis=1)"
   ]
  },
  {
   "cell_type": "code",
   "execution_count": 34,
   "metadata": {},
   "outputs": [
    {
     "data": {
      "text/plain": [
       "<matplotlib.axes._subplots.AxesSubplot at 0x1e926d7e470>"
      ]
     },
     "execution_count": 34,
     "metadata": {},
     "output_type": "execute_result"
    },
    {
     "data": {
      "image/png": "[encoded data removed]",
      "text/plain": [
       "<matplotlib.figure.Figure at 0x1e926d820f0>"
      ]
     },
     "metadata": {},
     "output_type": "display_data"
    }
   ],
   "source": [
    "incident_1['Arrest_status'].value_counts().plot(kind='barh', legend= True)"
   ]
  },
  {
   "cell_type": "code",
   "execution_count": 35,
   "metadata": {},
   "outputs": [
    {
     "data": {
      "text/plain": [
       "<matplotlib.axes._subplots.AxesSubplot at 0x1e926d3e1d0>"
      ]
     },
     "execution_count": 35,
     "metadata": {},
     "output_type": "execute_result"
    },
    {
     "data": {
      "image/png": "[encoded data removed]",
      "text/plain": [
       "<matplotlib.figure.Figure at 0x1e926db1940>"
      ]
     },
     "metadata": {},
     "output_type": "display_data"
    }
   ],
   "source": [
    "# 1st watch = Late Night, 2nd watch = Days and 3rd watch = Evenings\n",
    "incident_1['Watch'].value_counts().plot(kind='bar', legend=True)"
   ]
  },
  {
   "cell_type": "code",
   "execution_count": 36,
   "metadata": {},
   "outputs": [
    {
     "data": {
      "text/plain": [
       "<matplotlib.axes._subplots.AxesSubplot at 0x1e926de8710>"
      ]
     },
     "execution_count": 36,
     "metadata": {},
     "output_type": "execute_result"
    },
    {
     "data": {
      "image/png": "[encoded data removed]",
      "text/plain": [
       "<matplotlib.figure.Figure at 0x1e926e1b048>"
      ]
     },
     "metadata": {},
     "output_type": "display_data"
    }
   ],
   "source": [
    "incident_1['Call_Dispatch'].value_counts().plot(kind='line', legend=True)"
   ]
  },
  {
   "cell_type": "code",
   "execution_count": 37,
   "metadata": {},
   "outputs": [
    {
     "data": {
      "text/plain": [
       "<matplotlib.axes._subplots.AxesSubplot at 0x1e926d9d128>"
      ]
     },
     "execution_count": 37,
     "metadata": {},
     "output_type": "execute_result"
    },
    {
     "data": {
      "image/png": "[encoded data removed]",
      "text/plain": [
       "<matplotlib.figure.Figure at 0x1e926e427f0>"
      ]
     },
     "metadata": {},
     "output_type": "display_data"
    }
   ],
   "source": [
    "incident_1['Division'].value_counts().plot(kind='pie', legend=False)"
   ]
  },
  {
   "cell_type": "code",
   "execution_count": 38,
   "metadata": {},
   "outputs": [
    {
     "data": {
      "text/plain": [
       "<matplotlib.axes._subplots.AxesSubplot at 0x1e926ea33c8>"
      ]
     },
     "execution_count": 38,
     "metadata": {},
     "output_type": "execute_result"
    },
    {
     "data": {
      "image/png": "[encoded data removed]",
      "text/plain": [
       "<matplotlib.figure.Figure at 0x1e926e7f4a8>"
      ]
     },
     "metadata": {},
     "output_type": "display_data"
    }
   ],
   "source": [
    "incident_1['NIBRS Crime Category'].value_counts().plot(kind='barh', legend=True)"
   ]
  },
  {
   "cell_type": "code",
   "execution_count": 39,
   "metadata": {},
   "outputs": [
    {
     "data": {
      "text/plain": [
       "<matplotlib.axes._subplots.AxesSubplot at 0x1e926f6b828>"
      ]
     },
     "execution_count": 39,
     "metadata": {},
     "output_type": "execute_result"
    },
    {
     "data": {
      "image/png": "[encoded data removed]",
      "text/plain": [
       "<matplotlib.figure.Figure at 0x1e926f02c88>"
      ]
     },
     "metadata": {},
     "output_type": "display_data"
    }
   ],
   "source": [
    "incident_1['UCR_category'].value_counts().plot(kind='barh', legend=True)"
   ]
  },
  {
   "cell_type": "code",
   "execution_count": 40,
   "metadata": {},
   "outputs": [
    {
     "data": {
      "text/plain": [
       "<matplotlib.axes._subplots.AxesSubplot at 0x1e926f4dc50>"
      ]
     },
     "execution_count": 40,
     "metadata": {},
     "output_type": "execute_result"
    },
    {
     "data": {
      "image/png": "[encoded data removed]",
      "text/plain": [
       "<matplotlib.figure.Figure at 0x1e926ffe9b0>"
      ]
     },
     "metadata": {},
     "output_type": "display_data"
    }
   ],
   "source": [
    "incident_1['Type  Location'].value_counts().plot(kind='barh', legend=True)"
   ]
  },
  {
   "cell_type": "code",
   "execution_count": 41,
   "metadata": {
    "pixiedust": {
     "displayParams": {
      "aggregation": "COUNT",
      "handlerId": "barChart",
      "keyFields": "Offense Entered  Date/Time",
      "timeseries": "true"
     }
    }
   },
   "outputs": [
    {
     "data": {
      "text/html": [
       "<style type=\"text/css\">.pd_warning{display:none;}</style><div class=\"pd_warning\"><em>Hey, there's something awesome here! To see it, open this notebook outside GitHub, in a viewer like Jupyter</em></div>\n",
       "        <div class=\"pd_save is-viewer-good\" style=\"padding-right:10px;text-align: center;line-height:initial !important;font-size: xx-large;font-weight: 500;color: coral;\">\n",
       "            \n",
       "        </div>\n",
       "    <div class=\"pd_save is-viewer-good\" id=\"chartFiguree49d12a8\" style=\"overflow-x:auto\">\n",
       "            \n",
       "                    \n",
       "                            <center><img class=\"pd_save\" style=\"max-width:initial !important\" src=\"data:image/png;base64,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\"></center>\n",
       "                        \n",
       "                    \n",
       "                        <div>Some labels are not displayed because of a lack of space. Click on Stretch image to see them all</div>\n",
       "                    \n",
       "                \n",
       "        </div>"
      ],
      "text/plain": [
       "<IPython.core.display.HTML object>"
      ]
     },
     "metadata": {},
     "output_type": "display_data"
    }
   ],
   "source": [
    "display(incident_1)"
   ]
  },
  {
   "cell_type": "code",
   "execution_count": null,
   "metadata": {
    "collapsed": true
   },
   "outputs": [],
   "source": []
  }
 ],
 "metadata": {
  "kernelspec": {
   "display_name": "Python 3",
   "language": "python",
   "name": "python3"
  },
  "language_info": {
   "codemirror_mode": {
    "name": "ipython",
    "version": 3
   },
   "file_extension": ".py",
   "mimetype": "text/x-python",
   "name": "python",
   "nbconvert_exporter": "python",
   "pygments_lexer": "ipython3",
   "version": "3.6.1"
  }
 },
 "nbformat": 4,
 "nbformat_minor": 2
}
