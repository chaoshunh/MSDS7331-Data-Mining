{
 "cells": [
  {
   "cell_type": "markdown",
   "metadata": {},
   "source": [
    "# DATA MINING PROJECT\n",
    "\n",
    "\n",
    "TEST CHANGE"
   ]
  },
  {
   "cell_type": "markdown",
   "metadata": {},
   "source": [
    "# DALLAS CRIME DATA\n",
    "\n",
    "\n",
    "DESCRIPTION FROM WEBSITE (EDIT IN OWN WORDS)\n",
    "\n",
    "The dataset represents the Dallas Police Public Data - RMS Incidents beginning June 1, 2014 to current-date. It disseminates police report information in a timely, accurate manner. This information reflects crimes as reported to the Dallas Police Department as of Sep 5, 2018. Crime classifications are based upon preliminary information supplied to the Dallas Police Department by the reporting parties and the preliminary classifications may be changed at a later date based upon additional investigation. \n",
    "\n",
    "To ensure that privacy concerns are protected and legal standards are met, report data is \"filtered\" prior to being made available to the public. Among the exclusions are:\n",
    "\n",
    "1.) Sexually oriented offenses\n",
    "2.) Offenses where juveniles or children (individuals under 17 years of age) are the victim or suspect\n",
    "3.) Listing of property items that are considered evidence\n",
    "4.) Social Service Referral offenses\n",
    "5.) Identifying vehicle information in certain offenses"
   ]
  },
  {
   "cell_type": "markdown",
   "metadata": {},
   "source": [
    "## Business Understanding"
   ]
  },
  {
   "cell_type": "markdown",
   "metadata": {},
   "source": [
    "- Track crime, Classification time, Response time\n",
    "\n",
    "- Arrest made, Victim profile analysis(minors, adult, race), Seasonality of crime cycles, Response time vs location vs Popn density.\n",
    "\n",
    "- Cross validation, Dividing the data set into test and train"
   ]
  },
  {
   "cell_type": "markdown",
   "metadata": {},
   "source": [
    "## Data Meaning Type"
   ]
  },
  {
   "cell_type": "markdown",
   "metadata": {},
   "source": [
    "In Dallas police incident dataset, it has 469,927 entries with 100 variables. The full schema of this dataset can be found at <a href=\"https://www.dallasopendata.com/Public-Safety/Police-Incidents/qv6i-rri7\"/>  here. </a> We only selected 43 variables for our analysis and 57 attributes we eleminated in our analysis due to below reasons:\n",
    "- Some redundant information like incident number, we can eaily parse from service number field to get the incident year and number of offense on the incident. \n",
    "- Some information like address, apartment number, etc. are out of scope of our analysis. \n",
    "- And some attribues has a lot of missing values, like Victim Package, Criminal Justice Information Service Code, etc.\n",
    "\n",
    "Please see below the definition of the attribute we selected for our analysis:\n",
    "\n",
    "Attribute|Data Type|Description|%missing    \n",
    ":--------- | :----------------- | :-------------               | :---------\n",
    "<p align=\"left\">Service_Number_ID</p>|Norminal|<p align=\"left\">Incident number plus year code plus offense number (Ex: -02 means there is two offense with this one incident) Internal use</p>|0.00\n",
    "<p align=\"left\">Watch</p>|Norminal|<p align=\"left\">Police watch 1st 2nd or 3rd (1st watch = Late Night, 2nd watch = Days and 3rd watch = Evenings)</p>|0.00\n",
    "<p align=\"left\">Type_of_Incident</p>|Norminal|<p align=\"left\">Type of Incident</p>|0.00\n",
    "<p align=\"left\">Type_Location</p>|Norminal|<p align=\"left\">Location type where incident took place For example, Apartment Parking, Residence</p>|2.67\n",
    "<p align=\"left\">Reporting Area</p>|Norminal|<p align=\"left\">Geographic area comprised of reporting areas where incident occurred</p>|0.12\n",
    "<p align=\"left\">Beat</p>|Norminal|<p align=\"left\">Geographic area comprised of beats where incident occurred ( the city broken down for patrol and statistical purposes)</p>|0.05\n",
    "<p align=\"left\">Division</p>|Norminal|<p align=\"left\">Geographic area comprised of census blocks where incident occurred (smallest police geography)</p>|0.05\n",
    "<p align=\"left\">Sector</p>|Norminal|<p align=\"left\">Geographic area comprised of Sectors where incident occurred</p>|0.04\n",
    "<p align=\"left\">Council_District</p>|Norminal|<p align=\"left\">Geographic area comprised of city council districts where incident occurred</p>|0.43\n",
    "<p align=\"left\">Date1_of_Occurrence</p>|Interval|<p align=\"left\">The first date of the date occurrence of the incident (Ex: incident occurred between 1/1/2016 and 1/2/2016)</p>|0.00\n",
    "<p align=\"left\">Day1_of_the_Week</p>|Interval|<p align=\"left\">Day of the indent based on the Date of Occurrence (Date1). Internal use</p>|0.00\n",
    "<p align=\"left\">Time1_of_Occurrence</p>|Interval|<p align=\"left\">The first (starting) time of the time occurrence of the incident (Ex: incident occurred between 8:00am and 5:00pm)</p>|0.00\n",
    "<p align=\"left\">Date2_of_Occurrence</p>|Interval|<p align=\"left\">The second date of the date occurrence of the incident (Ex: incident occurred between 1/1/2016 and 1/2/2016)</p>|0.00\n",
    "<p align=\"left\">Day2_of_the_Week</p>|Interval|<p align=\"left\">Day of the indent based on the Date of Occurrence (Date2)</p>|0.00\n",
    "<p align=\"left\">Time2_of_Occurrence</p>|Interval|<p align=\"left\">The second(end) time of the time occurrence of the incident (Ex: incident occurred between 8:00am and 5:00pm)</p>|0.00\n",
    "<p align=\"left\">Call_Received_Date_Time</p>|Interval|<p align=\"left\">The date the related call was received</p>|0.40\n",
    "<p align=\"left\">Call_Date_Time</p>|Interval|<p align=\"left\">Date and time of the related call</p>|0.40\n",
    "<p align=\"left\">Call_Cleared_Date_Time</p>|Interval|<p align=\"left\">Date and time related call was cleared</p>|0.47\n",
    "<p align=\"left\">Call_Dispatch_Date_Time</p>|Interval|<p align=\"left\">Date and time related call was dispatched</p>|0.41\n",
    "<p align=\"left\">Person_Involvement_Type</p>|Norminal|<p align=\"left\">Person can be; 'Victim', 'Registered Owner', 'Owner', nan,'Passenger', 'Driver','Reporting Person', 'Witness', 'Victim/RP'</p>|3.46\n",
    "<p align=\"left\">Victim_Type</p>|Norminal|<p align=\"left\">Victim Type</p>|5.22\n",
    "<p align=\"left\">Victim_Race</p>|Norminal|<p align=\"left\">Race</p>|34.53\n",
    "<p align=\"left\">Victim_Ethnicity</p>|Norminal|<p align=\"left\">Victim Ethnicity</p>|35.13\n",
    "<p align=\"left\">Victim_Gender</p>|Norminal|<p align=\"left\">Victim Gender</p>|34.50\n",
    "<p align=\"left\">Victim_Age</p>|Ratio|<p align=\"left\">Victim Age</p>|38.01\n",
    "<p align=\"left\">Victim_Age_at_Offense</p>|Ratio|<p align=\"left\">Victim Age at Offense</p>|38.74\n",
    "<p align=\"left\">Victim_Zip_Code</p>|Norminal|<p align=\"left\">Victim Zip Code</p>|7.96\n",
    "<p align=\"left\">Victim_City</p>|Norminal|<p align=\"left\">Victim City</p>|6.46\n",
    "<p align=\"left\">Victim_State</p>|Norminal|<p align=\"left\">Victim State</p>|7.53\n",
    "<p align=\"left\">Offense_Status</p>|Norminal|<p align=\"left\">Status of the offense. Values: 'Suspended', 'Clear by Arrest', 'Clear by Exceptional Arrest','Open', 'Closed/Cleared', nan, 'SW', 'D','Returned for Correction', 'CL',W'</p>|2.03\n",
    "<p align=\"left\">UCR_Disposition</p>|Norminal|<p align=\"left\">UCR Disposition of the incident</p>|2.01\n",
    "<p align=\"left\">Family_Offense</p>|Interval|<p align=\"left\">Yes or no if the offense is family violence</p>|0.02\n",
    "<p align=\"left\">Hate_Crime</p>|Interval|<p align=\"left\">Yes or no if offense is a hate crime</p>|99.88\n",
    "<p align=\"left\">Weapon_Used</p>|Interval|<p align=\"left\">Weapon Used</p>|15.78\n",
    "<p align=\"left\">Gang_Related_Offense</p>|Interval|<p align=\"left\">Yes or no if offense is gang realated</p>|15.67\n",
    "<p align=\"left\">Drug_Related_Istevencident</p>|Interval|<p align=\"left\">Yes or no if incident is drug related</p>|0.03\n",
    "<p align=\"left\">RMS_Code</p>|Norminal|<p align=\"left\">UCR Offense code</p>|0.00\n",
    "<p align=\"left\">UCR_Code</p>|Norminal|<p align=\"left\">UCR Code</p>|8.87\n",
    "<p align=\"left\">X_Coordinate</p>|Interval|<p align=\"left\">X Coordinate</p>|10.98\n",
    "<p align=\"left\">Y_Cordinate</p>|Interval|<p align=\"left\">Y Cordinate</p>|10.98\n",
    "<p align=\"left\">Zip_Code</p>|Norminal|<p align=\"left\">Zipcode in which incident occured</p>|0.74\n",
    "<p align=\"left\">City</p>|Norminal|<p align=\"left\">City in which incident occurred</p>|1.04\n",
    "<p align=\"left\">Location1</p>|Norminal|<p align=\"left\">Incident Location has X cordinate and Y cordinate</p>|0.71\n",
    "\n",
    "\n",
    "In the incident record, call received date/time, call leared date/time and call dispatch date/time will be used to calculate the police responce time. we will use that value to find the relationship between the police response time and the incident location, incident type, incident time (morning, evening or night), witness involved or not ect. Person_Involvement_Type can be used to analysis if the response time fast if there is the witness involved int.\n",
    "\n",
    "Time series can be apply for each UCR crime type which season is happened more often. "
   ]
  },
  {
   "cell_type": "markdown",
   "metadata": {},
   "source": [
    "## Data Quality"
   ]
  },
  {
   "cell_type": "markdown",
   "metadata": {},
   "source": [
    "- Explain missing data values, duplicate data, outliers, standardization\n",
    "- Reasons for mistake on data\n",
    "- Deletion and imputation"
   ]
  },
  {
   "cell_type": "markdown",
   "metadata": {},
   "source": [
    "## Simple Statistics"
   ]
  },
  {
   "cell_type": "markdown",
   "metadata": {},
   "source": [
    "- General stats table\n",
    "- General visualization "
   ]
  },
  {
   "cell_type": "markdown",
   "metadata": {},
   "source": [
    "## Visualize Attributes"
   ]
  },
  {
   "cell_type": "markdown",
   "metadata": {},
   "source": [
    "- Relational visualization"
   ]
  },
  {
   "cell_type": "markdown",
   "metadata": {},
   "source": [
    "## Explore Joint Attributes"
   ]
  },
  {
   "cell_type": "markdown",
   "metadata": {},
   "source": [
    "WRITE SOMETHING....."
   ]
  },
  {
   "cell_type": "markdown",
   "metadata": {},
   "source": [
    "## Explore Attributes and Class"
   ]
  },
  {
   "cell_type": "markdown",
   "metadata": {},
   "source": [
    "WRITE SOMETHING....."
   ]
  },
  {
   "cell_type": "markdown",
   "metadata": {},
   "source": [
    "## New Features"
   ]
  },
  {
   "cell_type": "markdown",
   "metadata": {},
   "source": [
    "WRITE SOMETHING....."
   ]
  },
  {
   "cell_type": "markdown",
   "metadata": {},
   "source": [
    "## Exceptional Work"
   ]
  },
  {
   "cell_type": "markdown",
   "metadata": {},
   "source": [
    "WRITE SOMETHING....."
   ]
  },
  {
   "cell_type": "markdown",
   "metadata": {},
   "source": [
    "# ELIMINATE"
   ]
  },
  {
   "cell_type": "markdown",
   "metadata": {},
   "source": [
    "WRITE SOMETHING"
   ]
  },
  {
   "cell_type": "markdown",
   "metadata": {},
   "source": [
    "###### REFERENCE FOR CODING PURPOSE"
   ]
  },
  {
   "cell_type": "markdown",
   "metadata": {},
   "source": [
    "BINS CODE FOR CHANGING LAT LONG\n",
    "\n",
    "dx = (lon2-lon1)*40000*math.cos((lat1+lat2)*math.pi/360)/360\n",
    "dy = (lat1-lat2)*40000/360"
   ]
  },
  {
   "cell_type": "markdown",
   "metadata": {},
   "source": [
    "#### Importing packages"
   ]
  },
  {
   "cell_type": "code",
   "execution_count": 37,
   "metadata": {},
   "outputs": [],
   "source": [
    "# Importing necessary packages for python\n",
    "import pandas as pd\n",
    "import numpy as np\n",
    "import datetime\n",
    "import time\n",
    "import string\n",
    "from dateutil.relativedelta import relativedelta\n",
    "\n",
    "from sklearn.neighbors import KNeighborsClassifier\n",
    "from sklearn.cross_validation import StratifiedKFold\n",
    "from sklearn import metrics as mt\n",
    "%matplotlib inline\n",
    "import matplotlib.pyplot as plt\n",
    "import warnings\n",
    "warnings.simplefilter('ignore', DeprecationWarning)\n",
    "pd.set_option('mode.chained_assignment', None)\n",
    "plt.style.use('ggplot')\n",
    "import seaborn as sns\n",
    "\n"
   ]
  },
  {
   "cell_type": "markdown",
   "metadata": {},
   "source": [
    "## Importing datasets"
   ]
  },
  {
   "cell_type": "code",
   "execution_count": 2,
   "metadata": {},
   "outputs": [],
   "source": [
    "# LOADING DATA INTO DATAFRAME\n",
    "# Dallas population dataset\n",
    "path = \"../Data/\" # Generic path\n",
    "# Dallas area population dataset\n",
    "population = pd.read_csv(path + 'Population.csv', low_memory=False)\n",
    "# Dallas area police station dataset\n",
    "police_station = pd.read_csv(path + 'Dallas_Police_Stations.csv', low_memory=False)\n",
    "# Police arrest records for crosss reference\n",
    "police_arrest = pd.read_csv(path + 'Police_arrests.csv', low_memory=False)"
   ]
  },
  {
   "cell_type": "code",
   "execution_count": 3,
   "metadata": {},
   "outputs": [],
   "source": [
    "# MAIN DATA SET- Incident dataset\n",
    "# SEP 5, 2018\n",
    "incident_Origin = pd.read_csv(path + 'Police_Incidents.csv', low_memory=False)"
   ]
  },
  {
   "cell_type": "code",
   "execution_count": 4,
   "metadata": {},
   "outputs": [],
   "source": [
    "# police_arrest.head()"
   ]
  },
  {
   "cell_type": "code",
   "execution_count": 5,
   "metadata": {},
   "outputs": [],
   "source": [
    "## BIN HERE IS THE CODE YOU WERE ASKING FOR COMPARISION\n",
    "\n",
    "# incident_Origin[incident_Origin['Incident Number w/year'].isin(police_arrest.IncidentNum)== True].nunique()"
   ]
  },
  {
   "cell_type": "code",
   "execution_count": 6,
   "metadata": {},
   "outputs": [
    {
     "name": "stdout",
     "output_type": "stream",
     "text": [
      "<class 'pandas.core.frame.DataFrame'>\n",
      "RangeIndex: 469927 entries, 0 to 469926\n",
      "Data columns (total 100 columns):\n",
      "Incident Number w/year                       469927 non-null object\n",
      "Year of Incident                             469927 non-null int64\n",
      "Service Number ID                            469927 non-null object\n",
      "Watch                                        469927 non-null object\n",
      "Call (911) Problem                           468058 non-null object\n",
      "Type of Incident                             469927 non-null object\n",
      "Type  Location                               457381 non-null object\n",
      "Type of Property                             114560 non-null object\n",
      "Incident Address                             466603 non-null object\n",
      "Apartment Number                             89425 non-null object\n",
      "Reporting Area                               469366 non-null float64\n",
      "Beat                                         469710 non-null float64\n",
      "Division                                     469710 non-null object\n",
      "Sector                                       469719 non-null float64\n",
      "Council District                             467897 non-null object\n",
      "Target Area Action Grids                     157645 non-null object\n",
      "Community                                    50284 non-null object\n",
      "Date1 of Occurrence                          469923 non-null object\n",
      "Year1 of Occurrence                          469923 non-null float64\n",
      "Month1 of Occurence                          469923 non-null object\n",
      "Day1 of the Week                             469923 non-null object\n",
      "Time1 of Occurrence                          469923 non-null object\n",
      "Day1 of the Year                             469923 non-null float64\n",
      "Date2 of Occurrence                          469922 non-null object\n",
      "Year2 of Occurrence                          469922 non-null float64\n",
      "Month2 of Occurence                          469922 non-null object\n",
      "Day2 of the Week                             469922 non-null object\n",
      "Time2 of Occurrence                          469922 non-null object\n",
      "Day2 of the Year                             469922 non-null float64\n",
      "Date of Report                               469927 non-null object\n",
      "Date incident created                        469927 non-null object\n",
      "Offense Entered Year                         469927 non-null int64\n",
      "Offense Entered Month                        469927 non-null object\n",
      "Offense Entered Day of the Week              469927 non-null object\n",
      "Offense Entered Time                         469927 non-null object\n",
      "Offense Entered  Date/Time                   469927 non-null int64\n",
      "CFS Number                                   468059 non-null object\n",
      "Call Received Date Time                      468059 non-null object\n",
      "Call Date Time                               468059 non-null object\n",
      "Call Cleared Date Time                       467724 non-null object\n",
      "Call Dispatch Date Time                      468015 non-null object\n",
      "Special Report (Pre-RMS)                     2717 non-null object\n",
      "Person Involvement Type                      453646 non-null object\n",
      "Victim Type                                  445375 non-null object\n",
      "Victim Name                                  450277 non-null object\n",
      "Victim Race                                  307657 non-null object\n",
      "Victim Ethnicity                             304838 non-null object\n",
      "Victim Gender                                307818 non-null object\n",
      "Victim Age                                   291326 non-null float64\n",
      "Victim Age at Offense                        287871 non-null float64\n",
      "Victim Home Address                          440084 non-null object\n",
      "Victim Apartment                             125567 non-null object\n",
      "Victim Zip Code                              432529 non-null float64\n",
      "Victim City                                  439582 non-null object\n",
      "Victim State                                 434526 non-null object\n",
      "Victim Business Name                         18717 non-null object\n",
      "Victim Business Address                      11988 non-null object\n",
      "Victim Business Phone                        6521 non-null object\n",
      "Responding Officer #1  Badge No              467481 non-null object\n",
      "Responding Officer #1  Name                  466688 non-null object\n",
      "Responding Officer #2 Badge No               170541 non-null object\n",
      "Responding Officer #2  Name                  170539 non-null object\n",
      "Reporting Officer Badge No                   468686 non-null object\n",
      "Assisting Officer Badge No                   355821 non-null object\n",
      "Reviewing Officer Badge No                   467955 non-null object\n",
      "Element Number Assigned                      467632 non-null object\n",
      "Investigating Unit 1                         345848 non-null object\n",
      "Investigating Unit 2                         345878 non-null object\n",
      "Offense Status                               460408 non-null object\n",
      "UCR Disposition                              460471 non-null object\n",
      "Victim Injury Description                    27198 non-null object\n",
      "Victim Condition                             22398 non-null object\n",
      "Modus Operandi (MO)                          445450 non-null object\n",
      "Family Offense                               469820 non-null object\n",
      "Hate Crime                                   587 non-null object\n",
      "Hate Crime Description                       469787 non-null object\n",
      "Weapon Used                                  395751 non-null object\n",
      "Gang Related Offense                         396299 non-null object\n",
      "Victim Package                               0 non-null float64\n",
      "Drug Related Istevencident                   469773 non-null object\n",
      "RMS Code                                     469927 non-null object\n",
      "Criminal Justice Information Service Code    469927 non-null int64\n",
      "Penal Code                                   469927 non-null object\n",
      "UCR Offense Name                             428687 non-null object\n",
      "UCR Offense Description                      428687 non-null object\n",
      " UCR Code                                    428687 non-null float64\n",
      "Offense Type                                 428687 non-null object\n",
      "NIBRS Crime                                  196568 non-null object\n",
      "NIBRS Crime Category                         196568 non-null object\n",
      "NIBRS Crime Against                          196568 non-null object\n",
      "NIBRS Code                                   196568 non-null object\n",
      "NIBRS Group                                  196568 non-null object\n",
      "NIBRS Type                                   196568 non-null object\n",
      "Update Date                                  469927 non-null object\n",
      "X Coordinate                                 418307 non-null float64\n",
      "Y Cordinate                                  418307 non-null float64\n",
      "Zip Code                                     466432 non-null float64\n",
      "City                                         465029 non-null object\n",
      "State                                        465486 non-null object\n",
      "Location1                                    466603 non-null object\n",
      "dtypes: float64(15), int64(4), object(81)\n",
      "memory usage: 358.5+ MB\n"
     ]
    }
   ],
   "source": [
    "incident_Origin.info()"
   ]
  },
  {
   "cell_type": "code",
   "execution_count": 7,
   "metadata": {},
   "outputs": [],
   "source": [
    "# Keeping only the attributes we want to be in our analysis\n",
    "\n",
    "incident= incident_Origin[['Incident Number w/year','Year of Incident', 'Service Number ID','Watch', 'Type of Incident', \n",
    "                           'Type  Location','Reporting Area', 'Beat', 'Division', 'Sector', 'Council District', \n",
    "                           'Date of Report','Date incident created', 'Offense Entered  Date/Time',\n",
    "                           'Call Received Date Time','Call Cleared Date Time','Call Dispatch Date Time', \n",
    "                           'Person Involvement Type', 'Victim Type', 'Victim Race', 'Victim Gender', 'Victim Age',\n",
    "                           'Victim State','Offense Status','Victim Condition', 'Hate Crime', 'Weapon Used',\n",
    "                           'Gang Related Offense','Drug Related Istevencident','UCR Offense Name',' UCR Code', \n",
    "                           'X Coordinate', 'Y Cordinate','Zip Code', 'City','State','Location1']] \n",
    "                           \n",
    "\n",
    "# Renaming some columns for ease of use \n",
    "incident = incident.rename(columns = {'Incident Number w/year':'Incident_Number_w_year',\n",
    "                                      'Year of Incident':'Year_of_Incident', 'Service Number ID':'Service_Number_ID',\n",
    "                                      'Type of Incident':'Type_of_Incident', 'Type  Location':'Type_Location',\n",
    "                                      'Reporting Area':'Reporting_Area','Council District':'Council_District',\n",
    "                                      'Date of Report':'Date_of_Report', 'Date incident created':'Date_incident_created',\n",
    "                                      'Offense Entered  Date/Time':'Offense_Entered_Date_Time', \n",
    "                                      'Call Received Date Time':'Call_Received_Date_Time',\n",
    "                                      'Call Cleared Date Time':'Call_Cleared_Date_Time',\n",
    "                                      'Call Dispatch Date Time':'Call_Dispatch_Date_Time',\n",
    "                                      'Person Involvement Type':'Person_Involvement_Type',\n",
    "                                      'Victim Type':'Victim_Type', 'Victim Race':'Victim_Race', \n",
    "                                      'Victim Gender':'Victim_Gender', 'Victim Age':'Victim_Age',\n",
    "                                      'Victim State':'Victim_State','Offense Status':'Offense_Status',\n",
    "                                      'Victim Condition':'Victim_Condition', 'Hate Crime':'Hate_Crime',\n",
    "                                      'Weapon Used':'Weapon_Used', 'Gang Related Offense':'Gang_Related_Offense',\n",
    "                                      'Drug Related Istevencident':'Drug_Related_Istevencident',\n",
    "                                      'UCR Offense Name':'UCR_Offense_Name', ' UCR Code':'UCR_Code',\n",
    "                                      'X Coordinate':'X_Coordinate', 'Y Cordinate':'Y_Cordinate', 'Zip Code':'Zip_Code'})\n",
    "                      \n"
   ]
  },
  {
   "cell_type": "code",
   "execution_count": 8,
   "metadata": {},
   "outputs": [
    {
     "name": "stdout",
     "output_type": "stream",
     "text": [
      "<class 'pandas.core.frame.DataFrame'>\n",
      "RangeIndex: 469927 entries, 0 to 469926\n",
      "Data columns (total 37 columns):\n",
      "Incident_Number_w_year        469927 non-null object\n",
      "Year_of_Incident              469927 non-null int64\n",
      "Service_Number_ID             469927 non-null object\n",
      "Watch                         469927 non-null object\n",
      "Type_of_Incident              469927 non-null object\n",
      "Type_Location                 457381 non-null object\n",
      "Reporting_Area                469366 non-null float64\n",
      "Beat                          469710 non-null float64\n",
      "Division                      469710 non-null object\n",
      "Sector                        469719 non-null float64\n",
      "Council_District              467897 non-null object\n",
      "Date_of_Report                469927 non-null object\n",
      "Date_incident_created         469927 non-null object\n",
      "Offense_Entered_Date_Time     469927 non-null int64\n",
      "Call_Received_Date_Time       468059 non-null object\n",
      "Call_Cleared_Date_Time        467724 non-null object\n",
      "Call_Dispatch_Date_Time       468015 non-null object\n",
      "Person_Involvement_Type       453646 non-null object\n",
      "Victim_Type                   445375 non-null object\n",
      "Victim_Race                   307657 non-null object\n",
      "Victim_Gender                 307818 non-null object\n",
      "Victim_Age                    291326 non-null float64\n",
      "Victim_State                  434526 non-null object\n",
      "Offense_Status                460408 non-null object\n",
      "Victim_Condition              22398 non-null object\n",
      "Hate_Crime                    587 non-null object\n",
      "Weapon_Used                   395751 non-null object\n",
      "Gang_Related_Offense          396299 non-null object\n",
      "Drug_Related_Istevencident    469773 non-null object\n",
      "UCR_Offense_Name              428687 non-null object\n",
      "UCR_Code                      428687 non-null float64\n",
      "X_Coordinate                  418307 non-null float64\n",
      "Y_Cordinate                   418307 non-null float64\n",
      "Zip_Code                      466432 non-null float64\n",
      "City                          465029 non-null object\n",
      "State                         465486 non-null object\n",
      "Location1                     466603 non-null object\n",
      "dtypes: float64(8), int64(2), object(27)\n",
      "memory usage: 132.7+ MB\n",
      "None\n"
     ]
    },
    {
     "data": {
      "text/html": [
       "<div>\n",
       "<style scoped>\n",
       "    .dataframe tbody tr th:only-of-type {\n",
       "        vertical-align: middle;\n",
       "    }\n",
       "\n",
       "    .dataframe tbody tr th {\n",
       "        vertical-align: top;\n",
       "    }\n",
       "\n",
       "    .dataframe thead th {\n",
       "        text-align: right;\n",
       "    }\n",
       "</style>\n",
       "<table border=\"1\" class=\"dataframe\">\n",
       "  <thead>\n",
       "    <tr style=\"text-align: right;\">\n",
       "      <th></th>\n",
       "      <th>Incident_Number_w_year</th>\n",
       "      <th>Year_of_Incident</th>\n",
       "      <th>Service_Number_ID</th>\n",
       "      <th>Watch</th>\n",
       "      <th>Type_of_Incident</th>\n",
       "      <th>Type_Location</th>\n",
       "      <th>Reporting_Area</th>\n",
       "      <th>Beat</th>\n",
       "      <th>Division</th>\n",
       "      <th>Sector</th>\n",
       "      <th>...</th>\n",
       "      <th>Gang_Related_Offense</th>\n",
       "      <th>Drug_Related_Istevencident</th>\n",
       "      <th>UCR_Offense_Name</th>\n",
       "      <th>UCR_Code</th>\n",
       "      <th>X_Coordinate</th>\n",
       "      <th>Y_Cordinate</th>\n",
       "      <th>Zip_Code</th>\n",
       "      <th>City</th>\n",
       "      <th>State</th>\n",
       "      <th>Location1</th>\n",
       "    </tr>\n",
       "  </thead>\n",
       "  <tbody>\n",
       "    <tr>\n",
       "      <th>0</th>\n",
       "      <td>234975-2017</td>\n",
       "      <td>2017</td>\n",
       "      <td>234975-2017-01</td>\n",
       "      <td>1</td>\n",
       "      <td>ASSAULT (AGG) -PUB SERV (AGG, LAW ENF)</td>\n",
       "      <td>Highway, Street, Alley ETC</td>\n",
       "      <td>4048.0</td>\n",
       "      <td>424.0</td>\n",
       "      <td>SOUTHWEST</td>\n",
       "      <td>420.0</td>\n",
       "      <td>...</td>\n",
       "      <td>No</td>\n",
       "      <td>No</td>\n",
       "      <td>AGG ASSAULT - NFV</td>\n",
       "      <td>400.0</td>\n",
       "      <td>NaN</td>\n",
       "      <td>NaN</td>\n",
       "      <td>NaN</td>\n",
       "      <td>NaN</td>\n",
       "      <td>NaN</td>\n",
       "      <td>NaN</td>\n",
       "    </tr>\n",
       "    <tr>\n",
       "      <th>1</th>\n",
       "      <td>179463-2017</td>\n",
       "      <td>2017</td>\n",
       "      <td>179463-2017-01</td>\n",
       "      <td>U</td>\n",
       "      <td>UNAUTHORIZED USE OF MOTOR VEH - AUTOMOBILE</td>\n",
       "      <td>Parking Lot (All Others)</td>\n",
       "      <td>2019.0</td>\n",
       "      <td>156.0</td>\n",
       "      <td>CENTRAL</td>\n",
       "      <td>150.0</td>\n",
       "      <td>...</td>\n",
       "      <td>No</td>\n",
       "      <td>UNK</td>\n",
       "      <td>UUMV</td>\n",
       "      <td>710.0</td>\n",
       "      <td>2.498099e+06</td>\n",
       "      <td>6.978035e+06</td>\n",
       "      <td>75204.0</td>\n",
       "      <td>DALLAS</td>\n",
       "      <td>TX</td>\n",
       "      <td>4500 LIVE OAK ST\\nDALLAS, TX 75204\\n(32.799576...</td>\n",
       "    </tr>\n",
       "    <tr>\n",
       "      <th>2</th>\n",
       "      <td>175975-2016</td>\n",
       "      <td>2016</td>\n",
       "      <td>175975-2016-01</td>\n",
       "      <td>1</td>\n",
       "      <td>BMV</td>\n",
       "      <td>Motor Vehicle</td>\n",
       "      <td>3104.0</td>\n",
       "      <td>542.0</td>\n",
       "      <td>NORTHWEST</td>\n",
       "      <td>540.0</td>\n",
       "      <td>...</td>\n",
       "      <td>No</td>\n",
       "      <td>No</td>\n",
       "      <td>THEFT/BMV</td>\n",
       "      <td>640.0</td>\n",
       "      <td>2.482440e+06</td>\n",
       "      <td>6.986586e+06</td>\n",
       "      <td>75235.0</td>\n",
       "      <td>DALLAS</td>\n",
       "      <td>TX</td>\n",
       "      <td>3136 HUDNALL ST\\nDALLAS, TX 75235\\n(32.823936,...</td>\n",
       "    </tr>\n",
       "    <tr>\n",
       "      <th>3</th>\n",
       "      <td>072196-2016</td>\n",
       "      <td>2016</td>\n",
       "      <td>072196-2016-01</td>\n",
       "      <td>1</td>\n",
       "      <td>UNAUTHORIZED USE OF MOTOR VEH - AUTOMOBILE</td>\n",
       "      <td>Parking Lot (All Others)</td>\n",
       "      <td>3059.0</td>\n",
       "      <td>538.0</td>\n",
       "      <td>NORTHWEST</td>\n",
       "      <td>530.0</td>\n",
       "      <td>...</td>\n",
       "      <td>No</td>\n",
       "      <td>No</td>\n",
       "      <td>UUMV</td>\n",
       "      <td>710.0</td>\n",
       "      <td>2.470509e+06</td>\n",
       "      <td>7.000605e+06</td>\n",
       "      <td>75220.0</td>\n",
       "      <td>DALLAS</td>\n",
       "      <td>TX</td>\n",
       "      <td>3332 WEBB CHAPEL EXT\\nDALLAS, TX 75220\\n(32.86...</td>\n",
       "    </tr>\n",
       "    <tr>\n",
       "      <th>4</th>\n",
       "      <td>098976-2018</td>\n",
       "      <td>2018</td>\n",
       "      <td>098976-2018-01</td>\n",
       "      <td>2</td>\n",
       "      <td>BURGLARY OF A COIN OPERATED MACHINE</td>\n",
       "      <td>Other</td>\n",
       "      <td>1136.0</td>\n",
       "      <td>226.0</td>\n",
       "      <td>NORTHEAST</td>\n",
       "      <td>220.0</td>\n",
       "      <td>...</td>\n",
       "      <td>NaN</td>\n",
       "      <td>No</td>\n",
       "      <td>OTHER THEFTS</td>\n",
       "      <td>680.0</td>\n",
       "      <td>2.541731e+06</td>\n",
       "      <td>6.977385e+06</td>\n",
       "      <td>75150.0</td>\n",
       "      <td>Dallas</td>\n",
       "      <td>TX</td>\n",
       "      <td>2215 GUS THOMASSON RD\\nDallas, TX 75150\\n(32.7...</td>\n",
       "    </tr>\n",
       "  </tbody>\n",
       "</table>\n",
       "<p>5 rows × 37 columns</p>\n",
       "</div>"
      ],
      "text/plain": [
       "  Incident_Number_w_year  Year_of_Incident Service_Number_ID Watch  \\\n",
       "0            234975-2017              2017    234975-2017-01     1   \n",
       "1            179463-2017              2017    179463-2017-01     U   \n",
       "2            175975-2016              2016    175975-2016-01     1   \n",
       "3            072196-2016              2016    072196-2016-01     1   \n",
       "4            098976-2018              2018    098976-2018-01     2   \n",
       "\n",
       "                             Type_of_Incident               Type_Location  \\\n",
       "0      ASSAULT (AGG) -PUB SERV (AGG, LAW ENF)  Highway, Street, Alley ETC   \n",
       "1  UNAUTHORIZED USE OF MOTOR VEH - AUTOMOBILE    Parking Lot (All Others)   \n",
       "2                                         BMV               Motor Vehicle   \n",
       "3  UNAUTHORIZED USE OF MOTOR VEH - AUTOMOBILE    Parking Lot (All Others)   \n",
       "4         BURGLARY OF A COIN OPERATED MACHINE                       Other   \n",
       "\n",
       "   Reporting_Area   Beat   Division  Sector  \\\n",
       "0          4048.0  424.0  SOUTHWEST   420.0   \n",
       "1          2019.0  156.0    CENTRAL   150.0   \n",
       "2          3104.0  542.0  NORTHWEST   540.0   \n",
       "3          3059.0  538.0  NORTHWEST   530.0   \n",
       "4          1136.0  226.0  NORTHEAST   220.0   \n",
       "\n",
       "                         ...                         Gang_Related_Offense  \\\n",
       "0                        ...                                           No   \n",
       "1                        ...                                           No   \n",
       "2                        ...                                           No   \n",
       "3                        ...                                           No   \n",
       "4                        ...                                          NaN   \n",
       "\n",
       "  Drug_Related_Istevencident   UCR_Offense_Name  UCR_Code  X_Coordinate  \\\n",
       "0                         No  AGG ASSAULT - NFV     400.0           NaN   \n",
       "1                        UNK               UUMV     710.0  2.498099e+06   \n",
       "2                         No          THEFT/BMV     640.0  2.482440e+06   \n",
       "3                         No               UUMV     710.0  2.470509e+06   \n",
       "4                         No       OTHER THEFTS     680.0  2.541731e+06   \n",
       "\n",
       "    Y_Cordinate Zip_Code    City State  \\\n",
       "0           NaN      NaN     NaN   NaN   \n",
       "1  6.978035e+06  75204.0  DALLAS    TX   \n",
       "2  6.986586e+06  75235.0  DALLAS    TX   \n",
       "3  7.000605e+06  75220.0  DALLAS    TX   \n",
       "4  6.977385e+06  75150.0  Dallas    TX   \n",
       "\n",
       "                                           Location1  \n",
       "0                                                NaN  \n",
       "1  4500 LIVE OAK ST\\nDALLAS, TX 75204\\n(32.799576...  \n",
       "2  3136 HUDNALL ST\\nDALLAS, TX 75235\\n(32.823936,...  \n",
       "3  3332 WEBB CHAPEL EXT\\nDALLAS, TX 75220\\n(32.86...  \n",
       "4  2215 GUS THOMASSON RD\\nDallas, TX 75150\\n(32.7...  \n",
       "\n",
       "[5 rows x 37 columns]"
      ]
     },
     "execution_count": 8,
     "metadata": {},
     "output_type": "execute_result"
    }
   ],
   "source": [
    "# Data head and attribute information before the clean up.\n",
    "print(incident.info())\n",
    "incident.head()"
   ]
  },
  {
   "cell_type": "code",
   "execution_count": 9,
   "metadata": {},
   "outputs": [],
   "source": [
    "# # Get Missing value rate before the cleanup\n",
    "\n",
    "# def getPctMissing(series):\n",
    "#     num = series.isnull().sum(axis=0)\n",
    "#     den = series.fillna('MISSING').count()\n",
    "#     #print(num.str()+';'+den.str())\n",
    "#     result = 100*(num/den)\n",
    "#     return result\n",
    "\n",
    "# getPctMissing(incident)\n",
    "\n",
    "# # the number not looks right, need more research"
   ]
  },
  {
   "cell_type": "markdown",
   "metadata": {},
   "source": [
    "## Dataset exploration and cleaning\n",
    "\n",
    "- Includes creation of informational attributes plus parsing data from location"
   ]
  },
  {
   "cell_type": "code",
   "execution_count": 10,
   "metadata": {},
   "outputs": [
    {
     "data": {
      "text/html": [
       "<style  type=\"text/css\" >\n",
       "    #T_70f66ea6_b56f_11e8_b1af_c85b76fac13frow0_col0 {\n",
       "            background-color:  #ffe0e0;\n",
       "        }    #T_70f66ea6_b56f_11e8_b1af_c85b76fac13frow0_col1 {\n",
       "            background-color:  #ffe0e0;\n",
       "        }    #T_70f66ea6_b56f_11e8_b1af_c85b76fac13frow1_col0 {\n",
       "            background-color:  #ffe5e5;\n",
       "        }    #T_70f66ea6_b56f_11e8_b1af_c85b76fac13frow1_col1 {\n",
       "            background-color:  #ffe5e5;\n",
       "        }    #T_70f66ea6_b56f_11e8_b1af_c85b76fac13frow2_col0 {\n",
       "            background-color:  #ffe5e5;\n",
       "        }    #T_70f66ea6_b56f_11e8_b1af_c85b76fac13frow2_col1 {\n",
       "            background-color:  #ffe5e5;\n",
       "        }    #T_70f66ea6_b56f_11e8_b1af_c85b76fac13frow3_col0 {\n",
       "            background-color:  #ffe5e5;\n",
       "        }    #T_70f66ea6_b56f_11e8_b1af_c85b76fac13frow3_col1 {\n",
       "            background-color:  #ffe5e5;\n",
       "        }    #T_70f66ea6_b56f_11e8_b1af_c85b76fac13frow4_col0 {\n",
       "            background-color:  #ffe5e5;\n",
       "        }    #T_70f66ea6_b56f_11e8_b1af_c85b76fac13frow4_col1 {\n",
       "            background-color:  #ffe5e5;\n",
       "        }    #T_70f66ea6_b56f_11e8_b1af_c85b76fac13frow5_col0 {\n",
       "            background-color:  #ffe5e5;\n",
       "        }    #T_70f66ea6_b56f_11e8_b1af_c85b76fac13frow5_col1 {\n",
       "            background-color:  #ffe5e5;\n",
       "        }    #T_70f66ea6_b56f_11e8_b1af_c85b76fac13frow6_col0 {\n",
       "            background-color:  #ffe5e5;\n",
       "        }    #T_70f66ea6_b56f_11e8_b1af_c85b76fac13frow6_col1 {\n",
       "            background-color:  #ffe5e5;\n",
       "        }    #T_70f66ea6_b56f_11e8_b1af_c85b76fac13frow7_col0 {\n",
       "            background-color:  #ffe5e5;\n",
       "        }    #T_70f66ea6_b56f_11e8_b1af_c85b76fac13frow7_col1 {\n",
       "            background-color:  #ffe5e5;\n",
       "        }    #T_70f66ea6_b56f_11e8_b1af_c85b76fac13frow8_col0 {\n",
       "            background-color:  #ffe5e5;\n",
       "        }    #T_70f66ea6_b56f_11e8_b1af_c85b76fac13frow8_col1 {\n",
       "            background-color:  #ffe5e5;\n",
       "        }    #T_70f66ea6_b56f_11e8_b1af_c85b76fac13frow9_col0 {\n",
       "            background-color:  #ffdede;\n",
       "        }    #T_70f66ea6_b56f_11e8_b1af_c85b76fac13frow9_col1 {\n",
       "            background-color:  #ffdede;\n",
       "        }    #T_70f66ea6_b56f_11e8_b1af_c85b76fac13frow10_col0 {\n",
       "            background-color:  #ffdada;\n",
       "        }    #T_70f66ea6_b56f_11e8_b1af_c85b76fac13frow10_col1 {\n",
       "            background-color:  #ffdada;\n",
       "        }    #T_70f66ea6_b56f_11e8_b1af_c85b76fac13frow11_col0 {\n",
       "            background-color:  #ff9696;\n",
       "        }    #T_70f66ea6_b56f_11e8_b1af_c85b76fac13frow11_col1 {\n",
       "            background-color:  #ff9696;\n",
       "        }    #T_70f66ea6_b56f_11e8_b1af_c85b76fac13frow12_col0 {\n",
       "            background-color:  #ff9696;\n",
       "        }    #T_70f66ea6_b56f_11e8_b1af_c85b76fac13frow12_col1 {\n",
       "            background-color:  #ff9696;\n",
       "        }    #T_70f66ea6_b56f_11e8_b1af_c85b76fac13frow13_col0 {\n",
       "            background-color:  #ff8e8e;\n",
       "        }    #T_70f66ea6_b56f_11e8_b1af_c85b76fac13frow13_col1 {\n",
       "            background-color:  #ff8e8e;\n",
       "        }    #T_70f66ea6_b56f_11e8_b1af_c85b76fac13frow14_col0 {\n",
       "            background-color:  #ffd4d4;\n",
       "        }    #T_70f66ea6_b56f_11e8_b1af_c85b76fac13frow14_col1 {\n",
       "            background-color:  #ffd4d4;\n",
       "        }    #T_70f66ea6_b56f_11e8_b1af_c85b76fac13frow15_col0 {\n",
       "            background-color:  #ffe1e1;\n",
       "        }    #T_70f66ea6_b56f_11e8_b1af_c85b76fac13frow15_col1 {\n",
       "            background-color:  #ffe1e1;\n",
       "        }    #T_70f66ea6_b56f_11e8_b1af_c85b76fac13frow16_col0 {\n",
       "            background-color:  #ff0a0a;\n",
       "        }    #T_70f66ea6_b56f_11e8_b1af_c85b76fac13frow16_col1 {\n",
       "            background-color:  #ff0a0a;\n",
       "        }    #T_70f66ea6_b56f_11e8_b1af_c85b76fac13frow17_col0 {\n",
       "            background-color:  #ff0000;\n",
       "        }    #T_70f66ea6_b56f_11e8_b1af_c85b76fac13frow17_col1 {\n",
       "            background-color:  #ff0000;\n",
       "        }    #T_70f66ea6_b56f_11e8_b1af_c85b76fac13frow18_col0 {\n",
       "            background-color:  #ffc2c2;\n",
       "        }    #T_70f66ea6_b56f_11e8_b1af_c85b76fac13frow18_col1 {\n",
       "            background-color:  #ffc2c2;\n",
       "        }    #T_70f66ea6_b56f_11e8_b1af_c85b76fac13frow19_col0 {\n",
       "            background-color:  #ffc2c2;\n",
       "        }    #T_70f66ea6_b56f_11e8_b1af_c85b76fac13frow19_col1 {\n",
       "            background-color:  #ffc2c2;\n",
       "        }    #T_70f66ea6_b56f_11e8_b1af_c85b76fac13frow20_col0 {\n",
       "            background-color:  #ffe5e5;\n",
       "        }    #T_70f66ea6_b56f_11e8_b1af_c85b76fac13frow20_col1 {\n",
       "            background-color:  #ffe5e5;\n",
       "        }    #T_70f66ea6_b56f_11e8_b1af_c85b76fac13frow21_col0 {\n",
       "            background-color:  #ffd2d2;\n",
       "        }    #T_70f66ea6_b56f_11e8_b1af_c85b76fac13frow21_col1 {\n",
       "            background-color:  #ffd2d2;\n",
       "        }    #T_70f66ea6_b56f_11e8_b1af_c85b76fac13frow22_col0 {\n",
       "            background-color:  #ffd2d2;\n",
       "        }    #T_70f66ea6_b56f_11e8_b1af_c85b76fac13frow22_col1 {\n",
       "            background-color:  #ffd2d2;\n",
       "        }    #T_70f66ea6_b56f_11e8_b1af_c85b76fac13frow23_col0 {\n",
       "            background-color:  #ffcccc;\n",
       "        }    #T_70f66ea6_b56f_11e8_b1af_c85b76fac13frow23_col1 {\n",
       "            background-color:  #ffcccc;\n",
       "        }    #T_70f66ea6_b56f_11e8_b1af_c85b76fac13frow24_col0 {\n",
       "            background-color:  #ffcccc;\n",
       "        }    #T_70f66ea6_b56f_11e8_b1af_c85b76fac13frow24_col1 {\n",
       "            background-color:  #ffcccc;\n",
       "        }    #T_70f66ea6_b56f_11e8_b1af_c85b76fac13frow25_col0 {\n",
       "            background-color:  #ffe5e5;\n",
       "        }    #T_70f66ea6_b56f_11e8_b1af_c85b76fac13frow25_col1 {\n",
       "            background-color:  #ffe5e5;\n",
       "        }    #T_70f66ea6_b56f_11e8_b1af_c85b76fac13frow26_col0 {\n",
       "            background-color:  #ffe4e4;\n",
       "        }    #T_70f66ea6_b56f_11e8_b1af_c85b76fac13frow26_col1 {\n",
       "            background-color:  #ffe4e4;\n",
       "        }    #T_70f66ea6_b56f_11e8_b1af_c85b76fac13frow27_col0 {\n",
       "            background-color:  #ffe4e4;\n",
       "        }    #T_70f66ea6_b56f_11e8_b1af_c85b76fac13frow27_col1 {\n",
       "            background-color:  #ffe4e4;\n",
       "        }    #T_70f66ea6_b56f_11e8_b1af_c85b76fac13frow28_col0 {\n",
       "            background-color:  #ffe5e5;\n",
       "        }    #T_70f66ea6_b56f_11e8_b1af_c85b76fac13frow28_col1 {\n",
       "            background-color:  #ffe5e5;\n",
       "        }</style>  \n",
       "<table id=\"T_70f66ea6_b56f_11e8_b1af_c85b76fac13f\" > \n",
       "<thead>    <tr> \n",
       "        <th class=\"blank level0\" ></th> \n",
       "        <th class=\"col_heading level0 col0\" >% Missing</th> \n",
       "        <th class=\"col_heading level0 col1\" >n Missing</th> \n",
       "    </tr></thead> \n",
       "<tbody>    <tr> \n",
       "        <th id=\"T_70f66ea6_b56f_11e8_b1af_c85b76fac13flevel0_row0\" class=\"row_heading level0 row0\" >Type_Location</th> \n",
       "        <td id=\"T_70f66ea6_b56f_11e8_b1af_c85b76fac13frow0_col0\" class=\"data row0 col0\" >2.67</td> \n",
       "        <td id=\"T_70f66ea6_b56f_11e8_b1af_c85b76fac13frow0_col1\" class=\"data row0 col1\" >12546</td> \n",
       "    </tr>    <tr> \n",
       "        <th id=\"T_70f66ea6_b56f_11e8_b1af_c85b76fac13flevel0_row1\" class=\"row_heading level0 row1\" >Reporting_Area</th> \n",
       "        <td id=\"T_70f66ea6_b56f_11e8_b1af_c85b76fac13frow1_col0\" class=\"data row1 col0\" >0.12</td> \n",
       "        <td id=\"T_70f66ea6_b56f_11e8_b1af_c85b76fac13frow1_col1\" class=\"data row1 col1\" >561</td> \n",
       "    </tr>    <tr> \n",
       "        <th id=\"T_70f66ea6_b56f_11e8_b1af_c85b76fac13flevel0_row2\" class=\"row_heading level0 row2\" >Beat</th> \n",
       "        <td id=\"T_70f66ea6_b56f_11e8_b1af_c85b76fac13frow2_col0\" class=\"data row2 col0\" >0.05</td> \n",
       "        <td id=\"T_70f66ea6_b56f_11e8_b1af_c85b76fac13frow2_col1\" class=\"data row2 col1\" >217</td> \n",
       "    </tr>    <tr> \n",
       "        <th id=\"T_70f66ea6_b56f_11e8_b1af_c85b76fac13flevel0_row3\" class=\"row_heading level0 row3\" >Division</th> \n",
       "        <td id=\"T_70f66ea6_b56f_11e8_b1af_c85b76fac13frow3_col0\" class=\"data row3 col0\" >0.05</td> \n",
       "        <td id=\"T_70f66ea6_b56f_11e8_b1af_c85b76fac13frow3_col1\" class=\"data row3 col1\" >217</td> \n",
       "    </tr>    <tr> \n",
       "        <th id=\"T_70f66ea6_b56f_11e8_b1af_c85b76fac13flevel0_row4\" class=\"row_heading level0 row4\" >Sector</th> \n",
       "        <td id=\"T_70f66ea6_b56f_11e8_b1af_c85b76fac13frow4_col0\" class=\"data row4 col0\" >0.04</td> \n",
       "        <td id=\"T_70f66ea6_b56f_11e8_b1af_c85b76fac13frow4_col1\" class=\"data row4 col1\" >208</td> \n",
       "    </tr>    <tr> \n",
       "        <th id=\"T_70f66ea6_b56f_11e8_b1af_c85b76fac13flevel0_row5\" class=\"row_heading level0 row5\" >Council_District</th> \n",
       "        <td id=\"T_70f66ea6_b56f_11e8_b1af_c85b76fac13frow5_col0\" class=\"data row5 col0\" >0.43</td> \n",
       "        <td id=\"T_70f66ea6_b56f_11e8_b1af_c85b76fac13frow5_col1\" class=\"data row5 col1\" >2030</td> \n",
       "    </tr>    <tr> \n",
       "        <th id=\"T_70f66ea6_b56f_11e8_b1af_c85b76fac13flevel0_row6\" class=\"row_heading level0 row6\" >Call_Received_Date_Time</th> \n",
       "        <td id=\"T_70f66ea6_b56f_11e8_b1af_c85b76fac13frow6_col0\" class=\"data row6 col0\" >0.4</td> \n",
       "        <td id=\"T_70f66ea6_b56f_11e8_b1af_c85b76fac13frow6_col1\" class=\"data row6 col1\" >1868</td> \n",
       "    </tr>    <tr> \n",
       "        <th id=\"T_70f66ea6_b56f_11e8_b1af_c85b76fac13flevel0_row7\" class=\"row_heading level0 row7\" >Call_Cleared_Date_Time</th> \n",
       "        <td id=\"T_70f66ea6_b56f_11e8_b1af_c85b76fac13frow7_col0\" class=\"data row7 col0\" >0.47</td> \n",
       "        <td id=\"T_70f66ea6_b56f_11e8_b1af_c85b76fac13frow7_col1\" class=\"data row7 col1\" >2203</td> \n",
       "    </tr>    <tr> \n",
       "        <th id=\"T_70f66ea6_b56f_11e8_b1af_c85b76fac13flevel0_row8\" class=\"row_heading level0 row8\" >Call_Dispatch_Date_Time</th> \n",
       "        <td id=\"T_70f66ea6_b56f_11e8_b1af_c85b76fac13frow8_col0\" class=\"data row8 col0\" >0.41</td> \n",
       "        <td id=\"T_70f66ea6_b56f_11e8_b1af_c85b76fac13frow8_col1\" class=\"data row8 col1\" >1912</td> \n",
       "    </tr>    <tr> \n",
       "        <th id=\"T_70f66ea6_b56f_11e8_b1af_c85b76fac13flevel0_row9\" class=\"row_heading level0 row9\" >Person_Involvement_Type</th> \n",
       "        <td id=\"T_70f66ea6_b56f_11e8_b1af_c85b76fac13frow9_col0\" class=\"data row9 col0\" >3.46</td> \n",
       "        <td id=\"T_70f66ea6_b56f_11e8_b1af_c85b76fac13frow9_col1\" class=\"data row9 col1\" >16281</td> \n",
       "    </tr>    <tr> \n",
       "        <th id=\"T_70f66ea6_b56f_11e8_b1af_c85b76fac13flevel0_row10\" class=\"row_heading level0 row10\" >Victim_Type</th> \n",
       "        <td id=\"T_70f66ea6_b56f_11e8_b1af_c85b76fac13frow10_col0\" class=\"data row10 col0\" >5.22</td> \n",
       "        <td id=\"T_70f66ea6_b56f_11e8_b1af_c85b76fac13frow10_col1\" class=\"data row10 col1\" >24552</td> \n",
       "    </tr>    <tr> \n",
       "        <th id=\"T_70f66ea6_b56f_11e8_b1af_c85b76fac13flevel0_row11\" class=\"row_heading level0 row11\" >Victim_Race</th> \n",
       "        <td id=\"T_70f66ea6_b56f_11e8_b1af_c85b76fac13frow11_col0\" class=\"data row11 col0\" >34.53</td> \n",
       "        <td id=\"T_70f66ea6_b56f_11e8_b1af_c85b76fac13frow11_col1\" class=\"data row11 col1\" >162270</td> \n",
       "    </tr>    <tr> \n",
       "        <th id=\"T_70f66ea6_b56f_11e8_b1af_c85b76fac13flevel0_row12\" class=\"row_heading level0 row12\" >Victim_Gender</th> \n",
       "        <td id=\"T_70f66ea6_b56f_11e8_b1af_c85b76fac13frow12_col0\" class=\"data row12 col0\" >34.5</td> \n",
       "        <td id=\"T_70f66ea6_b56f_11e8_b1af_c85b76fac13frow12_col1\" class=\"data row12 col1\" >162109</td> \n",
       "    </tr>    <tr> \n",
       "        <th id=\"T_70f66ea6_b56f_11e8_b1af_c85b76fac13flevel0_row13\" class=\"row_heading level0 row13\" >Victim_Age</th> \n",
       "        <td id=\"T_70f66ea6_b56f_11e8_b1af_c85b76fac13frow13_col0\" class=\"data row13 col0\" >38.01</td> \n",
       "        <td id=\"T_70f66ea6_b56f_11e8_b1af_c85b76fac13frow13_col1\" class=\"data row13 col1\" >178601</td> \n",
       "    </tr>    <tr> \n",
       "        <th id=\"T_70f66ea6_b56f_11e8_b1af_c85b76fac13flevel0_row14\" class=\"row_heading level0 row14\" >Victim_State</th> \n",
       "        <td id=\"T_70f66ea6_b56f_11e8_b1af_c85b76fac13frow14_col0\" class=\"data row14 col0\" >7.53</td> \n",
       "        <td id=\"T_70f66ea6_b56f_11e8_b1af_c85b76fac13frow14_col1\" class=\"data row14 col1\" >35401</td> \n",
       "    </tr>    <tr> \n",
       "        <th id=\"T_70f66ea6_b56f_11e8_b1af_c85b76fac13flevel0_row15\" class=\"row_heading level0 row15\" >Offense_Status</th> \n",
       "        <td id=\"T_70f66ea6_b56f_11e8_b1af_c85b76fac13frow15_col0\" class=\"data row15 col0\" >2.03</td> \n",
       "        <td id=\"T_70f66ea6_b56f_11e8_b1af_c85b76fac13frow15_col1\" class=\"data row15 col1\" >9519</td> \n",
       "    </tr>    <tr> \n",
       "        <th id=\"T_70f66ea6_b56f_11e8_b1af_c85b76fac13flevel0_row16\" class=\"row_heading level0 row16\" >Victim_Condition</th> \n",
       "        <td id=\"T_70f66ea6_b56f_11e8_b1af_c85b76fac13frow16_col0\" class=\"data row16 col0\" >95.23</td> \n",
       "        <td id=\"T_70f66ea6_b56f_11e8_b1af_c85b76fac13frow16_col1\" class=\"data row16 col1\" >447529</td> \n",
       "    </tr>    <tr> \n",
       "        <th id=\"T_70f66ea6_b56f_11e8_b1af_c85b76fac13flevel0_row17\" class=\"row_heading level0 row17\" >Hate_Crime</th> \n",
       "        <td id=\"T_70f66ea6_b56f_11e8_b1af_c85b76fac13frow17_col0\" class=\"data row17 col0\" >99.88</td> \n",
       "        <td id=\"T_70f66ea6_b56f_11e8_b1af_c85b76fac13frow17_col1\" class=\"data row17 col1\" >469340</td> \n",
       "    </tr>    <tr> \n",
       "        <th id=\"T_70f66ea6_b56f_11e8_b1af_c85b76fac13flevel0_row18\" class=\"row_heading level0 row18\" >Weapon_Used</th> \n",
       "        <td id=\"T_70f66ea6_b56f_11e8_b1af_c85b76fac13frow18_col0\" class=\"data row18 col0\" >15.78</td> \n",
       "        <td id=\"T_70f66ea6_b56f_11e8_b1af_c85b76fac13frow18_col1\" class=\"data row18 col1\" >74176</td> \n",
       "    </tr>    <tr> \n",
       "        <th id=\"T_70f66ea6_b56f_11e8_b1af_c85b76fac13flevel0_row19\" class=\"row_heading level0 row19\" >Gang_Related_Offense</th> \n",
       "        <td id=\"T_70f66ea6_b56f_11e8_b1af_c85b76fac13frow19_col0\" class=\"data row19 col0\" >15.67</td> \n",
       "        <td id=\"T_70f66ea6_b56f_11e8_b1af_c85b76fac13frow19_col1\" class=\"data row19 col1\" >73628</td> \n",
       "    </tr>    <tr> \n",
       "        <th id=\"T_70f66ea6_b56f_11e8_b1af_c85b76fac13flevel0_row20\" class=\"row_heading level0 row20\" >Drug_Related_Istevencident</th> \n",
       "        <td id=\"T_70f66ea6_b56f_11e8_b1af_c85b76fac13frow20_col0\" class=\"data row20 col0\" >0.03</td> \n",
       "        <td id=\"T_70f66ea6_b56f_11e8_b1af_c85b76fac13frow20_col1\" class=\"data row20 col1\" >154</td> \n",
       "    </tr>    <tr> \n",
       "        <th id=\"T_70f66ea6_b56f_11e8_b1af_c85b76fac13flevel0_row21\" class=\"row_heading level0 row21\" >UCR_Offense_Name</th> \n",
       "        <td id=\"T_70f66ea6_b56f_11e8_b1af_c85b76fac13frow21_col0\" class=\"data row21 col0\" >8.78</td> \n",
       "        <td id=\"T_70f66ea6_b56f_11e8_b1af_c85b76fac13frow21_col1\" class=\"data row21 col1\" >41240</td> \n",
       "    </tr>    <tr> \n",
       "        <th id=\"T_70f66ea6_b56f_11e8_b1af_c85b76fac13flevel0_row22\" class=\"row_heading level0 row22\" >UCR_Code</th> \n",
       "        <td id=\"T_70f66ea6_b56f_11e8_b1af_c85b76fac13frow22_col0\" class=\"data row22 col0\" >8.78</td> \n",
       "        <td id=\"T_70f66ea6_b56f_11e8_b1af_c85b76fac13frow22_col1\" class=\"data row22 col1\" >41240</td> \n",
       "    </tr>    <tr> \n",
       "        <th id=\"T_70f66ea6_b56f_11e8_b1af_c85b76fac13flevel0_row23\" class=\"row_heading level0 row23\" >X_Coordinate</th> \n",
       "        <td id=\"T_70f66ea6_b56f_11e8_b1af_c85b76fac13frow23_col0\" class=\"data row23 col0\" >10.98</td> \n",
       "        <td id=\"T_70f66ea6_b56f_11e8_b1af_c85b76fac13frow23_col1\" class=\"data row23 col1\" >51620</td> \n",
       "    </tr>    <tr> \n",
       "        <th id=\"T_70f66ea6_b56f_11e8_b1af_c85b76fac13flevel0_row24\" class=\"row_heading level0 row24\" >Y_Cordinate</th> \n",
       "        <td id=\"T_70f66ea6_b56f_11e8_b1af_c85b76fac13frow24_col0\" class=\"data row24 col0\" >10.98</td> \n",
       "        <td id=\"T_70f66ea6_b56f_11e8_b1af_c85b76fac13frow24_col1\" class=\"data row24 col1\" >51620</td> \n",
       "    </tr>    <tr> \n",
       "        <th id=\"T_70f66ea6_b56f_11e8_b1af_c85b76fac13flevel0_row25\" class=\"row_heading level0 row25\" >Zip_Code</th> \n",
       "        <td id=\"T_70f66ea6_b56f_11e8_b1af_c85b76fac13frow25_col0\" class=\"data row25 col0\" >0.74</td> \n",
       "        <td id=\"T_70f66ea6_b56f_11e8_b1af_c85b76fac13frow25_col1\" class=\"data row25 col1\" >3495</td> \n",
       "    </tr>    <tr> \n",
       "        <th id=\"T_70f66ea6_b56f_11e8_b1af_c85b76fac13flevel0_row26\" class=\"row_heading level0 row26\" >City</th> \n",
       "        <td id=\"T_70f66ea6_b56f_11e8_b1af_c85b76fac13frow26_col0\" class=\"data row26 col0\" >1.04</td> \n",
       "        <td id=\"T_70f66ea6_b56f_11e8_b1af_c85b76fac13frow26_col1\" class=\"data row26 col1\" >4898</td> \n",
       "    </tr>    <tr> \n",
       "        <th id=\"T_70f66ea6_b56f_11e8_b1af_c85b76fac13flevel0_row27\" class=\"row_heading level0 row27\" >State</th> \n",
       "        <td id=\"T_70f66ea6_b56f_11e8_b1af_c85b76fac13frow27_col0\" class=\"data row27 col0\" >0.95</td> \n",
       "        <td id=\"T_70f66ea6_b56f_11e8_b1af_c85b76fac13frow27_col1\" class=\"data row27 col1\" >4441</td> \n",
       "    </tr>    <tr> \n",
       "        <th id=\"T_70f66ea6_b56f_11e8_b1af_c85b76fac13flevel0_row28\" class=\"row_heading level0 row28\" >Location1</th> \n",
       "        <td id=\"T_70f66ea6_b56f_11e8_b1af_c85b76fac13frow28_col0\" class=\"data row28 col0\" >0.71</td> \n",
       "        <td id=\"T_70f66ea6_b56f_11e8_b1af_c85b76fac13frow28_col1\" class=\"data row28 col1\" >3324</td> \n",
       "    </tr></tbody> \n",
       "</table> "
      ],
      "text/plain": [
       "<pandas.io.formats.style.Styler at 0x2180003f400>"
      ]
     },
     "execution_count": 10,
     "metadata": {},
     "output_type": "execute_result"
    }
   ],
   "source": [
    "# CHECKING FOR BIN'S CODE FOR MISSING DATA INFORMATION\n",
    "incident_NullCols = incident.isnull().sum()\n",
    "incident_NullCols = incident_NullCols[incident_NullCols > 0]\n",
    "incident_NullCols = pd.DataFrame({'n Missing' : incident_NullCols,\n",
    "                                  '% Missing' : ((incident_NullCols / incident.shape[0])*100).round(2)})\n",
    "\n",
    "cm = sns.light_palette(\"red\", as_cmap=True)\n",
    "incident_NullCols.style.background_gradient(cmap=cm)\n",
    "\n",
    "\n",
    "# MARKUP ADD"
   ]
  },
  {
   "cell_type": "code",
   "execution_count": 11,
   "metadata": {},
   "outputs": [
    {
     "data": {
      "text/plain": [
       "Index(['Incident_Number_w_year', 'Year_of_Incident', 'Service_Number_ID',\n",
       "       'Watch', 'Type_of_Incident', 'Type_Location', 'Reporting_Area', 'Beat',\n",
       "       'Division', 'Sector', 'Council_District', 'Date_of_Report',\n",
       "       'Date_incident_created', 'Offense_Entered_Date_Time',\n",
       "       'Call_Received_Date_Time', 'Call_Cleared_Date_Time',\n",
       "       'Call_Dispatch_Date_Time', 'Person_Involvement_Type', 'Victim_Type',\n",
       "       'Victim_Race', 'Victim_Gender', 'Victim_Age', 'Victim_State',\n",
       "       'Offense_Status', 'Victim_Condition', 'Hate_Crime', 'Weapon_Used',\n",
       "       'Gang_Related_Offense', 'Drug_Related_Istevencident',\n",
       "       'UCR_Offense_Name', 'UCR_Code', 'X_Coordinate', 'Y_Cordinate',\n",
       "       'Zip_Code', 'City', 'State', 'Location1'],\n",
       "      dtype='object')"
      ]
     },
     "execution_count": 11,
     "metadata": {},
     "output_type": "execute_result"
    }
   ],
   "source": [
    "incident.columns"
   ]
  },
  {
   "cell_type": "markdown",
   "metadata": {},
   "source": [
    "# LIST NEW FEATURES AND DESCRIPTION AFTER THIS"
   ]
  },
  {
   "cell_type": "markdown",
   "metadata": {},
   "source": [
    "#### STAGING DATA FOR CLEANUP TO CREATE NEW ATTRIBUTES"
   ]
  },
  {
   "cell_type": "markdown",
   "metadata": {},
   "source": [
    "##### *  NOTES \n",
    "\n",
    "- 'Service Number ID' means Incident number plus year code plus offense number (Ex: -02 means there is two offense with this one incident) Internal use\n",
    "\n",
    "- 'Watch' means Police watch 1st 2nd or 3rd (1st watch = Late Night, 2nd watch = Days and 3rd watch = Evenings)\n",
    "\n",
    "- 'beat' is the territory and time that a police officer patrols\n",
    "\n",
    "\n",
    "- Cleaner and full categorical data UCR and NIBR\n",
    "\n",
    "\n",
    "- CLEAN YEAR"
   ]
  },
  {
   "cell_type": "markdown",
   "metadata": {},
   "source": [
    "### CODE TO CLEAN"
   ]
  },
  {
   "cell_type": "code",
   "execution_count": 12,
   "metadata": {},
   "outputs": [],
   "source": [
    "# NORMALIZING THE DISTANCE AND COORDINATES\n",
    "incident.loc[:,'X_Coordinate'] = incident[np.isfinite(incident['X_Coordinate'])]\n",
    "incident.loc[:,'Y_Coordinate'] = incident[np.isfinite(incident['Y_Cordinate'])]\n",
    "\n",
    "incident.loc[:,'Zip_Code'] = incident['Zip_Code'].fillna(0).astype(int)  # \"O\" being missing values \n",
    "incident.loc[:,'City'] = incident['City'].fillna(\"MISSING\")\n"
   ]
  },
  {
   "cell_type": "code",
   "execution_count": 13,
   "metadata": {},
   "outputs": [],
   "source": [
    "# Coding Binary variables for some columns  \n",
    "def get_binary_code(row):\n",
    "    if row == 'Yes':\n",
    "        return 1\n",
    "    else:\n",
    "        return 0\n",
    "\n",
    "    \n",
    "# Arrest_status variable binary coding\n",
    "def get_status(row):\n",
    "    if row['Offense_Status']=='Clear by Arrest':\n",
    "        return 1\n",
    "    elif row['Offense_Status']=='Clear by Exceptional Arrest':\n",
    "        return 1\n",
    "    else:\n",
    "        return 0"
   ]
  },
  {
   "cell_type": "code",
   "execution_count": 14,
   "metadata": {},
   "outputs": [
    {
     "data": {
      "text/plain": [
       "array([ 400,  710,  640,  680,  450,    0,  511, 1400, 2100,  300,  521,\n",
       "        630, 3300,  720, 3200, 2600, 4200,  512,  610, 4300, 4000, 1100,\n",
       "        660, 2300, 3700, 2400,  650,  690, 1500,  522, 1200,  110, 1800,\n",
       "        531, 1000,  730,  971,  911, 3400,  670,  532, 2200, 3600, 5600,\n",
       "        981, 3500, 2000,  961,  990,  620,  972,  922, 1903,  952,  921,\n",
       "       1870,  932,  951,  912,  931, 5700,  962, 2212,  120, 3150,  982,\n",
       "       4400, 3050,  942], dtype=int64)"
      ]
     },
     "execution_count": 14,
     "metadata": {},
     "output_type": "execute_result"
    }
   ],
   "source": [
    "# JUST CHECKING ON UCR CODE (MAIN DATAFRAME UNCHANGED)\n",
    "incident['UCR_Code'].fillna(0).astype(int, error='ignore').unique()\n",
    "\n",
    "# USE UCR_CODE INSTEAD TO SUMMARIZE"
   ]
  },
  {
   "cell_type": "code",
   "execution_count": 15,
   "metadata": {},
   "outputs": [
    {
     "name": "stdout",
     "output_type": "stream",
     "text": [
      "['1' 'U' '2' '3']\n"
     ]
    },
    {
     "data": {
      "text/html": [
       "<div>\n",
       "<style scoped>\n",
       "    .dataframe tbody tr th:only-of-type {\n",
       "        vertical-align: middle;\n",
       "    }\n",
       "\n",
       "    .dataframe tbody tr th {\n",
       "        vertical-align: top;\n",
       "    }\n",
       "\n",
       "    .dataframe thead th {\n",
       "        text-align: right;\n",
       "    }\n",
       "</style>\n",
       "<table border=\"1\" class=\"dataframe\">\n",
       "  <thead>\n",
       "    <tr style=\"text-align: right;\">\n",
       "      <th></th>\n",
       "      <th>Incident_Number_w_year</th>\n",
       "      <th>Year_of_Incident</th>\n",
       "      <th>Service_Number_ID</th>\n",
       "      <th>Watch</th>\n",
       "      <th>Type_of_Incident</th>\n",
       "      <th>Type_Location</th>\n",
       "      <th>Reporting_Area</th>\n",
       "      <th>Beat</th>\n",
       "      <th>Division</th>\n",
       "      <th>Sector</th>\n",
       "      <th>...</th>\n",
       "      <th>Drug_Related_Istevencident</th>\n",
       "      <th>UCR_Offense_Name</th>\n",
       "      <th>UCR_Code</th>\n",
       "      <th>X_Coordinate</th>\n",
       "      <th>Y_Cordinate</th>\n",
       "      <th>Zip_Code</th>\n",
       "      <th>City</th>\n",
       "      <th>State</th>\n",
       "      <th>Location1</th>\n",
       "      <th>Y_Coordinate</th>\n",
       "    </tr>\n",
       "  </thead>\n",
       "  <tbody>\n",
       "  </tbody>\n",
       "</table>\n",
       "<p>0 rows × 38 columns</p>\n",
       "</div>"
      ],
      "text/plain": [
       "Empty DataFrame\n",
       "Columns: [Incident_Number_w_year, Year_of_Incident, Service_Number_ID, Watch, Type_of_Incident, Type_Location, Reporting_Area, Beat, Division, Sector, Council_District, Date_of_Report, Date_incident_created, Offense_Entered_Date_Time, Call_Received_Date_Time, Call_Cleared_Date_Time, Call_Dispatch_Date_Time, Person_Involvement_Type, Victim_Type, Victim_Race, Victim_Gender, Victim_Age, Victim_State, Offense_Status, Victim_Condition, Hate_Crime, Weapon_Used, Gang_Related_Offense, Drug_Related_Istevencident, UCR_Offense_Name, UCR_Code, X_Coordinate, Y_Cordinate, Zip_Code, City, State, Location1, Y_Coordinate]\n",
       "Index: []\n",
       "\n",
       "[0 rows x 38 columns]"
      ]
     },
     "execution_count": 15,
     "metadata": {},
     "output_type": "execute_result"
    }
   ],
   "source": [
    "print(incident['Watch'].unique())\n",
    "incident[incident['Watch'].isnull()==True]"
   ]
  },
  {
   "cell_type": "code",
   "execution_count": 16,
   "metadata": {},
   "outputs": [
    {
     "data": {
      "text/plain": [
       "array([1, 0, 2, 3], dtype=int64)"
      ]
     },
     "execution_count": 16,
     "metadata": {},
     "output_type": "execute_result"
    }
   ],
   "source": [
    "# WRITE ANNOTATION FOR NUMBERS\n",
    "\n",
    "incident.loc[:,'Watch'] = np.where(incident['Watch']=='U', '0', incident['Watch']).astype(int)\n",
    "incident['Watch'].unique()"
   ]
  },
  {
   "cell_type": "code",
   "execution_count": 17,
   "metadata": {},
   "outputs": [
    {
     "name": "stdout",
     "output_type": "stream",
     "text": [
      "['Male' nan 'Female' 'Unknown' 'TEST' 'N']\n",
      "Cleaned Victim Gender Type\n",
      "['M' 'U' 'F']\n"
     ]
    }
   ],
   "source": [
    "print(incident['Victim_Gender'].unique())\n",
    "print(\"Cleaned Victim Gender Type\")\n",
    "incident['Victim_Gender'] = np.where(incident['Victim_Gender']=='Male', \"M\",\n",
    "                                     np.where(incident['Victim_Gender']=='Female', \"F\", \"U\"))\n",
    "\n",
    "\n",
    "print(incident['Victim_Gender'].unique())"
   ]
  },
  {
   "cell_type": "code",
   "execution_count": 18,
   "metadata": {},
   "outputs": [
    {
     "name": "stdout",
     "output_type": "stream",
     "text": [
      "['White' nan 'Latin/Hispanic' 'Black' 'Middle Eastern' 'Asian' 'Unknown'\n",
      " 'Native Hawaiian or Pacific Islander' 'American Indian/Native American'\n",
      " 'TEST' 'Latin / Hispanic' 'Asian or Pacific Islander' 'N'\n",
      " 'American Indian / Native American']\n"
     ]
    }
   ],
   "source": [
    "# VIVEK PLEASE SEE THIS \n",
    "\n",
    "print(incident['Victim_Race'].unique())\n",
    "\n",
    "# def race_classification(row):\n",
    "#     if row['Victim_Race'].str.contains(r'Hispanic', case=False):\n",
    "#         return 'Hispanic_Latino'\n",
    "#     elif row['Victim_Race'].str.contains(r'Asian', case=False) :\n",
    "#         return 'Asian' \n",
    "#     elif row['Victim_Race'].str.contains(r'Black', case=False) :\n",
    "#         return 'Black'\n",
    "#     elif row['Victim_Race'].str.contains(r'White', case=False) :\n",
    "#         return 'White'\n",
    "#     elif row['Victim_Race'].str.contains(r'Middle Eastern', case=False) :\n",
    "#         return 'Middle_Eastern'\n",
    "#     elif row['Victim_Race'].str.contains(r'Pacific', case=False):\n",
    "#         return 'Hawaiian_Pacific_Islander' \n",
    "#     elif row['Victim_Race'].str.contains(r'American'|'Indian', case=False):\n",
    "#         return 'Native American'\n",
    "#     else:\n",
    "#         return 'Unknown'\n",
    "\n",
    "# # one hot encoding for race (try this method for getting scores)\n",
    "# tmp_df = pd.get_dummies(incident.Victim_Race,prefix='Race')\n",
    "# incident = pd.concat((incident,tmp_df),axis=1)\n",
    "\n",
    "\n",
    "# incident['Victim_Race'].replace(\" \", '').unique()\n"
   ]
  },
  {
   "cell_type": "code",
   "execution_count": 19,
   "metadata": {},
   "outputs": [],
   "source": [
    "# Converting Division to upper case as names are in different cases\n",
    "incident.loc[:,'Division']=incident['Division'].str.upper()\n",
    "\n",
    "# Converting string to datetimes\n",
    "\n",
    "incident.loc[:,'Call_Received']= pd.to_datetime(incident['Call_Received_Date_Time'], \n",
    "                                                format=\"%m/%d/%Y %I:%M:%S %p\")\n",
    "incident.loc[:,'Call_Cleared']= pd.to_datetime(incident['Call_Cleared_Date_Time'], \n",
    "                                               format=\"%m/%d/%Y %I:%M:%S %p\")\n",
    "incident.loc[:,'Call_Dispatch']= pd.to_datetime(incident['Call_Dispatch_Date_Time'], \n",
    "                                                format=\"%m/%d/%Y %I:%M:%S %p\")\n"
   ]
  },
  {
   "cell_type": "code",
   "execution_count": 38,
   "metadata": {},
   "outputs": [],
   "source": [
    "# Parsing number of offenses per incident from 'Service_Number_ID' data definition\n",
    "incident.loc[:,'Number_of_offense']= incident['Service_Number_ID'].str.split(\"-\",\n",
    "                                                                             expand=True).rename(columns = {2:'Number_of_offense'})\n",
    "\n",
    "\n",
    "# incident.loc[:,'Year_of_offense']= incident['Service_Number_ID'].str.split(\"-\",\n",
    "#                                                                              expand=True).rename(columns = {1:'Year_of_offense'})\n",
    "\n",
    "# Calulcating response time from Call Received to Call dispatch from original columns 'Call_Received_Date_Time' and 'Call_Dispatch_Date_Time'\n",
    "incident.loc[:,'Response_time'] = pd.Series(data=(incident['Call_Dispatch']-incident['Call_Received']).astype('timedelta64[m]').astype('float'),\n",
    "                                          index=incident.index,name='Response_Time')\n",
    "\n",
    "\n",
    "# Parsing Latitude and Longitude from 'Location1 attribute which was in mixed form of variables \n",
    "incident.loc[:,'Latitude']= incident['Location1'].str.split(\"\\n\",\n",
    "                                                            expand=True)[2].str.split(',',\n",
    "                                                                                      expand=True)[0].str.split('(',\n",
    "                                                                                                                expand=True).rename(columns = {1 : 'Latitude'}).astype(int, errors='ignore')\n",
    "                                                                                                  \n",
    "incident.loc[:,'Longitude']= incident['Location1'].str.split(\"\\n\",\n",
    "                                                            expand=True)[2].str.split(',',\n",
    "                                                                                      expand=True)[1].str.split(')',\n",
    "                                                                                                                expand=True).rename(columns = {0 : 'Longitude'}).astype(int, errors='ignore')\n",
    "\n",
    "\n",
    "# Incident arrest status based on \"Offense_Status\" columns\n",
    "incident.loc[:,'Arrest_status']= incident.apply(get_status, axis=1)    \n",
    "# Applying Binary Coding to these attributes\n",
    "incident.loc[:,'Hate_Crime'] = incident['Hate_Crime'].apply(get_binary_code)\n",
    "incident.loc[:,'Gang_Related_Offense'] = incident['Gang_Related_Offense'].apply(get_binary_code)\n",
    "incident.loc[:,'Drug_Related_Istevencident'] = incident['Drug_Related_Istevencident'].apply(get_binary_code)"
   ]
  },
  {
   "cell_type": "code",
   "execution_count": 21,
   "metadata": {},
   "outputs": [
    {
     "data": {
      "text/plain": [
       "count    468015.000000\n",
       "mean         36.923648\n",
       "std          76.341880\n",
       "min         -61.000000\n",
       "25%           2.000000\n",
       "50%           9.000000\n",
       "75%          40.000000\n",
       "max       13290.000000\n",
       "Name: Response_time, dtype: float64"
      ]
     },
     "execution_count": 21,
     "metadata": {},
     "output_type": "execute_result"
    }
   ],
   "source": [
    "incident['Response_time'].describe()"
   ]
  },
  {
   "cell_type": "code",
   "execution_count": 22,
   "metadata": {},
   "outputs": [],
   "source": [
    "# Since Response time cannot be negative and cannot be larger than 24 hrs, removing those records\n",
    "# Assumption: Response time from call received to dispatch should be within 0-1440 minutes (i.e. 24 hrs)\n",
    "\n",
    "incident = incident[incident['Response_time']> 0]\n",
    "incident = incident[incident['Response_time'] < 1441] \n",
    "\n",
    "# Expalin the urgent time and emergent time"
   ]
  },
  {
   "cell_type": "code",
   "execution_count": 23,
   "metadata": {},
   "outputs": [
    {
     "data": {
      "text/plain": [
       "count    388211.000000\n",
       "mean         44.369742\n",
       "std          73.968715\n",
       "min           1.000000\n",
       "25%           5.000000\n",
       "50%          15.000000\n",
       "75%          52.000000\n",
       "max        1438.000000\n",
       "Name: Response_time, dtype: float64"
      ]
     },
     "execution_count": 23,
     "metadata": {},
     "output_type": "execute_result"
    }
   ],
   "source": [
    "incident['Response_time'].describe()"
   ]
  },
  {
   "cell_type": "markdown",
   "metadata": {},
   "source": [
    "- Response time in minutes can't be negative \n",
    "\n",
    "Discuss on removing those values"
   ]
  },
  {
   "cell_type": "code",
   "execution_count": 24,
   "metadata": {},
   "outputs": [
    {
     "data": {
      "text/plain": [
       "<matplotlib.axes._subplots.AxesSubplot at 0x21823e15860>"
      ]
     },
     "execution_count": 24,
     "metadata": {},
     "output_type": "execute_result"
    },
    {
     "data": {
      "image/png": "[encoded data removed]",
      "text/plain": [
       "<matplotlib.figure.Figure at 0x2180a41cf28>"
      ]
     },
     "metadata": {},
     "output_type": "display_data"
    }
   ],
   "source": [
    "incident['Response_time'].plot(kind='hist')"
   ]
  },
  {
   "cell_type": "markdown",
   "metadata": {},
   "source": [
    "FROM CALL RECEIVED TO DISPATCH, assuming 24 hrs data\n",
    "- Average response time is now 44 minutes "
   ]
  },
  {
   "cell_type": "code",
   "execution_count": 25,
   "metadata": {},
   "outputs": [
    {
     "name": "stdout",
     "output_type": "stream",
     "text": [
      "2016    93313\n",
      "2015    86751\n",
      "2017    86502\n",
      "2018    70356\n",
      "2014    51287\n",
      "2918        1\n",
      "2108        1\n",
      "Name: Year_of_Incident, dtype: int64\n"
     ]
    }
   ],
   "source": [
    "print(incident['Year_of_Incident'].value_counts())\n",
    "incident= incident[incident['Year_of_Incident']!=2108]\n",
    "incident= incident[incident['Year_of_Incident']!=2918]"
   ]
  },
  {
   "cell_type": "code",
   "execution_count": 26,
   "metadata": {},
   "outputs": [
    {
     "data": {
      "image/png": "[encoded data removed]",
      "text/plain": [
       "<matplotlib.figure.Figure at 0x21823e01cf8>"
      ]
     },
     "metadata": {},
     "output_type": "display_data"
    }
   ],
   "source": [
    "plt.subplots(figsize = (12,9))\n",
    "plt.scatter(incident['Year_of_Incident'], incident['Response_time'], color='blue');\n",
    "plt.plot(incident.groupby(['Year_of_Incident'])['Response_time'].median(), color = 'red', linewidth = 4)\n",
    "plt.show()"
   ]
  },
  {
   "cell_type": "code",
   "execution_count": 27,
   "metadata": {},
   "outputs": [],
   "source": [
    "# incident.hist(bins=15, color='darkturquoise', edgecolor='black', linewidth=1.0,\n",
    "#            xlabelsize=8, ylabelsize=8, grid=False)  \n",
    "# plt.show()"
   ]
  },
  {
   "cell_type": "markdown",
   "metadata": {},
   "source": [
    "## REDUCED DATAFRAME"
   ]
  },
  {
   "cell_type": "markdown",
   "metadata": {},
   "source": [
    "#### PLEASE UTILIZE THIS CELL FOR REDUCTION OF DATAFRAME FROM THIS POINT"
   ]
  },
  {
   "cell_type": "code",
   "execution_count": 40,
   "metadata": {},
   "outputs": [],
   "source": [
    "#### PLEASE UTILIZE THIS CELL FOR REDUCTION OR ADDITION OF ATTRIBUTES OF DATAFRAME FROM THIS POINT\n",
    "\n",
    "incident= incident.drop(['Incident_Number_w_year', 'Year_of_Incident', 'Service_Number_ID',\n",
    "       'Watch', 'Type_of_Incident', 'Type_Location', 'Reporting_Area', 'Beat',\n",
    "       'Division', 'Sector', 'Council_District', 'Person_Involvement_Type', 'Victim_Type',\n",
    "       'Victim_Race', 'Victim_Gender', 'Victim_Age', 'Victim_State',\n",
    "       'Offense_Status', 'Victim_Condition', 'Hate_Crime', 'Weapon_Used',\n",
    "       'Gang_Related_Offense', 'Drug_Related_Istevencident',\n",
    "       'UCR_Offense_Name', 'UCR_Code', 'X_Coordinate', 'Y_Cordinate',\n",
    "       'Zip_Code', 'City', 'State', 'Y_Coordinate',\n",
    "       'Call_Received', 'Call_Cleared', 'Call_Dispatch', 'Number_of_offense',\n",
    "       'Response_time', 'Latitude', 'Longitude', 'Arrest_status'], axis=1)"
   ]
  },
  {
   "cell_type": "markdown",
   "metadata": {},
   "source": [
    "### PLOTS AND STATS"
   ]
  },
  {
   "cell_type": "code",
   "execution_count": 29,
   "metadata": {},
   "outputs": [
    {
     "data": {
      "text/plain": [
       "<matplotlib.axes._subplots.AxesSubplot at 0x21823dc3cf8>"
      ]
     },
     "execution_count": 29,
     "metadata": {},
     "output_type": "execute_result"
    },
    {
     "data": {
      "image/png": "[encoded data removed]",
      "text/plain": [
       "<matplotlib.figure.Figure at 0x21823de7dd8>"
      ]
     },
     "metadata": {},
     "output_type": "display_data"
    }
   ],
   "source": [
    "incident['Division'].fillna('***MISSING***').value_counts().plot('barh')"
   ]
  },
  {
   "cell_type": "code",
   "execution_count": 30,
   "metadata": {},
   "outputs": [
    {
     "data": {
      "text/plain": [
       "<matplotlib.axes._subplots.AxesSubplot at 0x21823daf668>"
      ]
     },
     "execution_count": 30,
     "metadata": {},
     "output_type": "execute_result"
    },
    {
     "data": {
      "image/png": "[encoded data removed]",
      "text/plain": [
       "<matplotlib.figure.Figure at 0x21823df1a90>"
      ]
     },
     "metadata": {},
     "output_type": "display_data"
    }
   ],
   "source": [
    "incident['Arrest_status'].value_counts().plot(kind='barh', legend= True)"
   ]
  },
  {
   "cell_type": "code",
   "execution_count": 31,
   "metadata": {},
   "outputs": [
    {
     "data": {
      "text/plain": [
       "<matplotlib.axes._subplots.AxesSubplot at 0x21823d91e48>"
      ]
     },
     "execution_count": 31,
     "metadata": {},
     "output_type": "execute_result"
    },
    {
     "data": {
      "image/png": "[encoded data removed]",
      "text/plain": [
       "<matplotlib.figure.Figure at 0x21823d7f2b0>"
      ]
     },
     "metadata": {},
     "output_type": "display_data"
    }
   ],
   "source": [
    "# 1st watch = Late Night, 2nd watch = Days and 3rd watch = Evenings\n",
    "incident['Watch'].value_counts().plot(kind='bar', legend=True)"
   ]
  },
  {
   "cell_type": "code",
   "execution_count": 32,
   "metadata": {},
   "outputs": [
    {
     "data": {
      "text/plain": [
       "<matplotlib.axes._subplots.AxesSubplot at 0x21823d7a128>"
      ]
     },
     "execution_count": 32,
     "metadata": {},
     "output_type": "execute_result"
    },
    {
     "data": {
      "image/png": "[encoded data removed]",
      "text/plain": [
       "<matplotlib.figure.Figure at 0x21823d59e80>"
      ]
     },
     "metadata": {},
     "output_type": "display_data"
    }
   ],
   "source": [
    "incident['Call_Dispatch'].value_counts().plot(kind='line', legend=True)"
   ]
  },
  {
   "cell_type": "code",
   "execution_count": 33,
   "metadata": {},
   "outputs": [
    {
     "data": {
      "text/plain": [
       "<matplotlib.axes._subplots.AxesSubplot at 0x21823d38320>"
      ]
     },
     "execution_count": 33,
     "metadata": {},
     "output_type": "execute_result"
    },
    {
     "data": {
      "image/png": "[encoded data removed]",
      "text/plain": [
       "<matplotlib.figure.Figure at 0x21823d49358>"
      ]
     },
     "metadata": {},
     "output_type": "display_data"
    }
   ],
   "source": [
    "incident['Division'].value_counts().plot(kind='pie', legend=False)"
   ]
  },
  {
   "cell_type": "code",
   "execution_count": 34,
   "metadata": {},
   "outputs": [
    {
     "data": {
      "text/plain": [
       "<matplotlib.axes._subplots.AxesSubplot at 0x21823d4d518>"
      ]
     },
     "execution_count": 34,
     "metadata": {},
     "output_type": "execute_result"
    },
    {
     "data": {
      "image/png": "[encoded data removed]",
      "text/plain": [
       "<matplotlib.figure.Figure at 0x21823d23c88>"
      ]
     },
     "metadata": {},
     "output_type": "display_data"
    }
   ],
   "source": [
    "incident['Type_Location'].value_counts().plot(kind='barh', legend=True)"
   ]
  },
  {
   "cell_type": "markdown",
   "metadata": {},
   "source": [
    "# MORE FUNCTIONS "
   ]
  },
  {
   "cell_type": "code",
   "execution_count": 36,
   "metadata": {},
   "outputs": [],
   "source": [
    "# def outlier_elim_sdt(df, columns_list):\n",
    "#     '''\n",
    "#     This function identifies outliers, using mean +/- 2STDev and reports the index of the row\n",
    "#     the list of indices can then be used to eliminate the rows with outliers. \n",
    "#     '''\n",
    "#     outliers_all = np.array([], dtype='int64')\n",
    "#     for column in columns_list:\n",
    "#         LOW  = df[column].mean() - (2*df[column].std())\n",
    "#         HIGH = df[column].mean() + (2*df[column].std())\n",
    "#         out_list_feat = list(df[~((df[column] >= LOW) & (df[column] <= HIGH))].index)\n",
    "#         outliers_all  = np.append(outliers_all, out_list_feat)\n",
    "#     out_count = Counter(outliers_all)\n",
    "#     out_customer = []\n",
    "#     for customer, count in out_count.items():\n",
    "#         if count > 0:#1:\n",
    "#             out_customer.append(customer.astype(int))\n",
    "#     outliers  = list(sorted(out_customer))\n",
    "#     return outliers\n",
    "\n",
    "    \n",
    "    \n",
    "# outlier_decision(incident, columns_list=['Response_time'])"
   ]
  }
 ],
 "metadata": {
  "kernelspec": {
   "display_name": "Python 3",
   "language": "python",
   "name": "python3"
  },
  "language_info": {
   "codemirror_mode": {
    "name": "ipython",
    "version": 3
   },
   "file_extension": ".py",
   "mimetype": "text/x-python",
   "name": "python",
   "nbconvert_exporter": "python",
   "pygments_lexer": "ipython3",
   "version": "3.6.1"
  }
 },
 "nbformat": 4,
 "nbformat_minor": 2
}
