{
 "cells": [
  {
   "cell_type": "code",
   "execution_count": 1,
   "metadata": {},
   "outputs": [],
   "source": [
    "# Importing necessary packages for python\n",
    "import pandas as pd\n",
    "import numpy as np\n",
    "from sklearn.model_selection import ShuffleSplit, cross_validate\n",
    "from sklearn.linear_model import LogisticRegression\n",
    "import warnings\n",
    "import matplotlib.pyplot as plt\n",
    "import plotly.tools as tls\n",
    "\n",
    "warnings.filterwarnings('ignore')\n",
    "warnings.simplefilter('ignore', DeprecationWarning)\n",
    "pd.set_option('mode.chained_assignment', None)\n",
    "\n",
    "%matplotlib inline"
   ]
  },
  {
   "cell_type": "code",
   "execution_count": 2,
   "metadata": {},
   "outputs": [],
   "source": [
    "# Importing data from Lab#1 and exploring the data, the csv file is the result dataset from Lab1\n",
    "path = \"../Data/\" # Generic path\n",
    "incident = pd.read_csv(path + 'LAB1_completed_Dataset_clean.csv', low_memory= False)"
   ]
  },
  {
   "cell_type": "code",
   "execution_count": 3,
   "metadata": {},
   "outputs": [
    {
     "data": {
      "text/html": [
       "<div>\n",
       "<style scoped>\n",
       "    .dataframe tbody tr th:only-of-type {\n",
       "        vertical-align: middle;\n",
       "    }\n",
       "\n",
       "    .dataframe tbody tr th {\n",
       "        vertical-align: top;\n",
       "    }\n",
       "\n",
       "    .dataframe thead th {\n",
       "        text-align: right;\n",
       "    }\n",
       "</style>\n",
       "<table border=\"1\" class=\"dataframe\">\n",
       "  <thead>\n",
       "    <tr style=\"text-align: right;\">\n",
       "      <th></th>\n",
       "      <th>Unnamed: 0</th>\n",
       "      <th>Year_of_Incident</th>\n",
       "      <th>Service_Number_ID</th>\n",
       "      <th>Watch</th>\n",
       "      <th>Type_of_Incident</th>\n",
       "      <th>Type_Location</th>\n",
       "      <th>Reporting_Area</th>\n",
       "      <th>Beat</th>\n",
       "      <th>Division</th>\n",
       "      <th>Sector</th>\n",
       "      <th>...</th>\n",
       "      <th>Location1</th>\n",
       "      <th>Call_Received</th>\n",
       "      <th>Call_Cleared</th>\n",
       "      <th>Call_Dispatch</th>\n",
       "      <th>Number_of_offense</th>\n",
       "      <th>Response_time</th>\n",
       "      <th>Latitude</th>\n",
       "      <th>Longitude</th>\n",
       "      <th>Arrest_status</th>\n",
       "      <th>Call_Received_Hour</th>\n",
       "    </tr>\n",
       "  </thead>\n",
       "  <tbody>\n",
       "    <tr>\n",
       "      <th>0</th>\n",
       "      <td>2</td>\n",
       "      <td>2016</td>\n",
       "      <td>175975-2016-01</td>\n",
       "      <td>1</td>\n",
       "      <td>BMV</td>\n",
       "      <td>Motor Vehicle</td>\n",
       "      <td>3104.0</td>\n",
       "      <td>542.0</td>\n",
       "      <td>NORTHWEST</td>\n",
       "      <td>540.0</td>\n",
       "      <td>...</td>\n",
       "      <td>3136 HUDNALL ST\\r\\nDALLAS, TX 75235\\r\\n(32.823...</td>\n",
       "      <td>2016-07-22 03:43:21</td>\n",
       "      <td>2016-07-22 11:49:54</td>\n",
       "      <td>2016-07-22 03:52:33</td>\n",
       "      <td>01</td>\n",
       "      <td>9.0</td>\n",
       "      <td>3.282394e+01</td>\n",
       "      <td>-9.682623e+01</td>\n",
       "      <td>1</td>\n",
       "      <td>3.0</td>\n",
       "    </tr>\n",
       "    <tr>\n",
       "      <th>1</th>\n",
       "      <td>5</td>\n",
       "      <td>2015</td>\n",
       "      <td>258177-2015-01</td>\n",
       "      <td>3</td>\n",
       "      <td>DEADLY CONDUCT</td>\n",
       "      <td>Apartment Parking Lot</td>\n",
       "      <td>4380.0</td>\n",
       "      <td>451.0</td>\n",
       "      <td>SOUTHWEST</td>\n",
       "      <td>450.0</td>\n",
       "      <td>...</td>\n",
       "      <td>3913 GANNON LN\\r\\nDALLAS, TX 75237\\r\\n(32.6539...</td>\n",
       "      <td>2015-11-05 18:37:20</td>\n",
       "      <td>2015-11-05 19:32:15</td>\n",
       "      <td>2015-11-05 18:51:51</td>\n",
       "      <td>01</td>\n",
       "      <td>14.0</td>\n",
       "      <td>3.265393e+01</td>\n",
       "      <td>-9.688384e+01</td>\n",
       "      <td>0</td>\n",
       "      <td>18.0</td>\n",
       "    </tr>\n",
       "    <tr>\n",
       "      <th>2</th>\n",
       "      <td>6</td>\n",
       "      <td>2017</td>\n",
       "      <td>065324-2017-01</td>\n",
       "      <td>2</td>\n",
       "      <td>BMV</td>\n",
       "      <td>Highway, Street, Alley ETC</td>\n",
       "      <td>4411.0</td>\n",
       "      <td>132.0</td>\n",
       "      <td>CENTRAL</td>\n",
       "      <td>130.0</td>\n",
       "      <td>...</td>\n",
       "      <td>1800 N ST PAUL ST\\r\\nDALLAS, TX 75201\\r\\n(2490...</td>\n",
       "      <td>2017-03-23 18:36:32</td>\n",
       "      <td>2017-03-23 19:48:44</td>\n",
       "      <td>2017-03-23 18:51:25</td>\n",
       "      <td>01</td>\n",
       "      <td>14.0</td>\n",
       "      <td>2.490567e+06</td>\n",
       "      <td>6.973511e+06</td>\n",
       "      <td>0</td>\n",
       "      <td>18.0</td>\n",
       "    </tr>\n",
       "    <tr>\n",
       "      <th>3</th>\n",
       "      <td>8</td>\n",
       "      <td>2018</td>\n",
       "      <td>165442-2018-01</td>\n",
       "      <td>2</td>\n",
       "      <td>MIR (MISCELLANEOUS INCIDENT REPORT NO OFFENSE)</td>\n",
       "      <td>Highway, Street, Alley ETC</td>\n",
       "      <td>3106.0</td>\n",
       "      <td>544.0</td>\n",
       "      <td>NORTHWEST</td>\n",
       "      <td>540.0</td>\n",
       "      <td>...</td>\n",
       "      <td>4800 LEMMON AVE\\r\\nHIGHLAND PARK, TX 75219\\r\\n...</td>\n",
       "      <td>2018-07-28 15:12:54</td>\n",
       "      <td>2018-07-28 17:31:57</td>\n",
       "      <td>2018-07-28 15:48:21</td>\n",
       "      <td>01</td>\n",
       "      <td>35.0</td>\n",
       "      <td>3.282183e+01</td>\n",
       "      <td>-9.681709e+01</td>\n",
       "      <td>0</td>\n",
       "      <td>15.0</td>\n",
       "    </tr>\n",
       "    <tr>\n",
       "      <th>4</th>\n",
       "      <td>10</td>\n",
       "      <td>2018</td>\n",
       "      <td>159507-2018-01</td>\n",
       "      <td>1</td>\n",
       "      <td>ACCIDENT INV DAMAGE TO VEHICLE &gt; OR EQUAL $200</td>\n",
       "      <td>Highway, Street, Alley ETC</td>\n",
       "      <td>4357.0</td>\n",
       "      <td>737.0</td>\n",
       "      <td>SOUTH CENTRAL</td>\n",
       "      <td>730.0</td>\n",
       "      <td>...</td>\n",
       "      <td>6100 FLAGSTAFF DR\\r\\nDALLAS, TX 75241\\r\\n(32.6...</td>\n",
       "      <td>2018-07-21 07:28:35</td>\n",
       "      <td>2018-07-21 09:01:49</td>\n",
       "      <td>2018-07-21 07:37:16</td>\n",
       "      <td>01</td>\n",
       "      <td>8.0</td>\n",
       "      <td>3.267381e+01</td>\n",
       "      <td>-9.675580e+01</td>\n",
       "      <td>0</td>\n",
       "      <td>7.0</td>\n",
       "    </tr>\n",
       "  </tbody>\n",
       "</table>\n",
       "<p>5 rows × 45 columns</p>\n",
       "</div>"
      ],
      "text/plain": [
       "   Unnamed: 0  Year_of_Incident Service_Number_ID  Watch  \\\n",
       "0           2              2016    175975-2016-01      1   \n",
       "1           5              2015    258177-2015-01      3   \n",
       "2           6              2017    065324-2017-01      2   \n",
       "3           8              2018    165442-2018-01      2   \n",
       "4          10              2018    159507-2018-01      1   \n",
       "\n",
       "                                 Type_of_Incident               Type_Location  \\\n",
       "0                                             BMV               Motor Vehicle   \n",
       "1                                  DEADLY CONDUCT       Apartment Parking Lot   \n",
       "2                                             BMV  Highway, Street, Alley ETC   \n",
       "3  MIR (MISCELLANEOUS INCIDENT REPORT NO OFFENSE)  Highway, Street, Alley ETC   \n",
       "4  ACCIDENT INV DAMAGE TO VEHICLE > OR EQUAL $200  Highway, Street, Alley ETC   \n",
       "\n",
       "   Reporting_Area   Beat       Division  Sector         ...          \\\n",
       "0          3104.0  542.0      NORTHWEST   540.0         ...           \n",
       "1          4380.0  451.0      SOUTHWEST   450.0         ...           \n",
       "2          4411.0  132.0        CENTRAL   130.0         ...           \n",
       "3          3106.0  544.0      NORTHWEST   540.0         ...           \n",
       "4          4357.0  737.0  SOUTH CENTRAL   730.0         ...           \n",
       "\n",
       "                                           Location1        Call_Received  \\\n",
       "0  3136 HUDNALL ST\\r\\nDALLAS, TX 75235\\r\\n(32.823...  2016-07-22 03:43:21   \n",
       "1  3913 GANNON LN\\r\\nDALLAS, TX 75237\\r\\n(32.6539...  2015-11-05 18:37:20   \n",
       "2  1800 N ST PAUL ST\\r\\nDALLAS, TX 75201\\r\\n(2490...  2017-03-23 18:36:32   \n",
       "3  4800 LEMMON AVE\\r\\nHIGHLAND PARK, TX 75219\\r\\n...  2018-07-28 15:12:54   \n",
       "4  6100 FLAGSTAFF DR\\r\\nDALLAS, TX 75241\\r\\n(32.6...  2018-07-21 07:28:35   \n",
       "\n",
       "          Call_Cleared        Call_Dispatch Number_of_offense Response_time  \\\n",
       "0  2016-07-22 11:49:54  2016-07-22 03:52:33                01           9.0   \n",
       "1  2015-11-05 19:32:15  2015-11-05 18:51:51                01          14.0   \n",
       "2  2017-03-23 19:48:44  2017-03-23 18:51:25                01          14.0   \n",
       "3  2018-07-28 17:31:57  2018-07-28 15:48:21                01          35.0   \n",
       "4  2018-07-21 09:01:49  2018-07-21 07:37:16                01           8.0   \n",
       "\n",
       "       Latitude     Longitude Arrest_status  Call_Received_Hour  \n",
       "0  3.282394e+01 -9.682623e+01             1                 3.0  \n",
       "1  3.265393e+01 -9.688384e+01             0                18.0  \n",
       "2  2.490567e+06  6.973511e+06             0                18.0  \n",
       "3  3.282183e+01 -9.681709e+01             0                15.0  \n",
       "4  3.267381e+01 -9.675580e+01             0                 7.0  \n",
       "\n",
       "[5 rows x 45 columns]"
      ]
     },
     "execution_count": 3,
     "metadata": {},
     "output_type": "execute_result"
    }
   ],
   "source": [
    "incident.head()"
   ]
  },
  {
   "cell_type": "code",
   "execution_count": 4,
   "metadata": {},
   "outputs": [
    {
     "name": "stdout",
     "output_type": "stream",
     "text": [
      "(254091, 45)\n",
      "Number of null columns and their counts\n",
      "Type_Location                4856\n",
      "Reporting_Area                155\n",
      "Beat                           70\n",
      "Sector                         70\n",
      "Call_Cleared_Date_Time        165\n",
      "Call_Dispatch_Date_Time        21\n",
      "Offense_Status                557\n",
      "Victim_Condition           233793\n",
      "Family_Offense                 32\n",
      "Weapon_Used                 28804\n",
      "UCR_Offense_Name            14475\n",
      "UCR_Code                    14475\n",
      "X_Coordinate                21095\n",
      "Y_Coordinate                21095\n",
      "State                         608\n",
      "Call_Cleared                  165\n",
      "Call_Dispatch                  21\n",
      "Latitude                     9755\n",
      "Longitude                    9755\n",
      "dtype: int64\n"
     ]
    }
   ],
   "source": [
    "# Exploying the dataset\n",
    "incident['Response_time'] = incident['Response_time'].fillna(incident['Response_time'].mean()).astype(np.int)\n",
    "incident = incident[incident['Call_Received_Hour'].isnull()==False]\n",
    "incident_NullCols = incident.isnull().sum()\n",
    "incident_NullCols = incident_NullCols[incident_NullCols > 0]\n",
    "\n",
    "# Print out the data properties\n",
    "print(incident.shape)\n",
    "print('Number of null columns and their counts')\n",
    "print(incident_NullCols)"
   ]
  },
  {
   "cell_type": "code",
   "execution_count": 5,
   "metadata": {},
   "outputs": [],
   "source": [
    "# Further cleanup the dataset\n",
    "incident = incident[incident['Watch']!=0]\n",
    "incident = incident[(incident['Victim_Age']>=0) & (incident['Victim_Age']<=90)]\n",
    "incident = incident[incident['Victim_Race']!=\"Unknown\"]\n",
    "incident = incident[incident['Victim_Type']!=\"Unknown\"]\n",
    "incident= incident[incident.Number_of_offense != \"RP\"]\n",
    "\n",
    "incident = incident[incident['Victim_Gender']!=\"U\"]"
   ]
  },
  {
   "cell_type": "code",
   "execution_count": 6,
   "metadata": {},
   "outputs": [],
   "source": [
    "# Further data clean up on the feature variables\n",
    "\n",
    "incident.loc[:,'UCR_Offense_Name'] = incident['UCR_Offense_Name'].fillna(\"MISSING\")\n",
    "\n",
    "# Setup the UCR Offense Name Groups\n",
    "THEFT_FRAUD     = dict.fromkeys(['THEFT/BMV', 'THEFT ORG RETAIL', 'BURGLARY-RESIDENCE', 'OTHER THEFTS',\n",
    "                                 'ROBBERY-INDIVIDUAL','THEFT/SHOPLIFT', 'BURGLARY-BUSINESS', 'FORGE & COUNTERFEIT', \n",
    "                                 'FRAUD', 'EMBEZZLEMENT','ROBBERY-BUSINESS','THEFT ORG RETAIL'],\"THEFT_FRAUD\" ) \n",
    "MVA_TRAFFIC      =dict.fromkeys(['ACCIDENT MV', 'MOTOR VEHICLE ACCIDENT', 'UUMV', 'TRAFFIC VIOLATION',\n",
    "                                 'TRAFFIC FATALITY'],\"MVA_TRAFFIC\" )        \n",
    "WEAPONS_FIREARMS =dict.fromkeys(['WEAPONS', 'ARSON', 'INJURED FIREARM'], \"WEAPONS_FIREARMS\")         \n",
    "ASSUALT          = dict.fromkeys(['ASSAULT','VANDALISM & CRIM MISCHIEF', 'AGG ASSAULT - NFV', 'OFFENSE AGAINST CHILD',\n",
    "                                  'AGG ASSAULT - FV'], \"ASSUALT\")\n",
    "OTHERS_THREATS   = dict.fromkeys(['FOUND', 'OTHERS', 'LOST', 'CRIMINAL TRESPASS', 'DISORDERLY CONDUCT', \n",
    "                                  'ANIMAL BITE','INJURED HOME','INJURED PUBLIC', 'TERRORISTIC THREAT', \n",
    "                                  'EVADING', 'INJURED OCCUPA', 'ORANIZED CRIME', 'KIDNAPPING', \n",
    "                                  'RESIST ARREST','FAIL TO ID', 'HUMAN TRAFFICKING', 'MISSING'], \"OTHERS_THREATS\")\n",
    "INTOXICATION     = dict.fromkeys(['DRUNK & DISORDERLY', 'DWI', 'NARCOTICS & DRUGS', 'LIQUOR OFFENSE', \n",
    "                                  'INTOXICATION MANSLAUGHTER'],\"INTOXICATION\")\n",
    "MURDER_DEATH     = dict.fromkeys(['SUDDEN DEATH&FOUND BODIES','MURDER'], \"MURDER_DEATH\")\n",
    "                    \n",
    "# Regroup the UCR_Offense_Name\n",
    "incident.loc[:,'UCR_Offense_Name']= incident['UCR_Offense_Name'].replace(THEFT_FRAUD)\n",
    "incident.loc[:,'UCR_Offense_Name']= incident['UCR_Offense_Name'].replace(MVA_TRAFFIC)\n",
    "incident.loc[:,'UCR_Offense_Name']= incident['UCR_Offense_Name'].replace(WEAPONS_FIREARMS)\n",
    "incident.loc[:,'UCR_Offense_Name']= incident['UCR_Offense_Name'].replace(ASSUALT)\n",
    "incident.loc[:,'UCR_Offense_Name']= incident['UCR_Offense_Name'].replace(OTHERS_THREATS)\n",
    "incident.loc[:,'UCR_Offense_Name']= incident['UCR_Offense_Name'].replace(INTOXICATION)\n",
    "incident.loc[:,'UCR_Offense_Name']= incident['UCR_Offense_Name'].replace(MURDER_DEATH)"
   ]
  },
  {
   "cell_type": "code",
   "execution_count": 7,
   "metadata": {},
   "outputs": [],
   "source": [
    "# Change norminal attributes to numeric\n",
    "incident.loc[:,'IsMale'] = incident.Victim_Gender=='M' \n",
    "incident.IsMale = incident.IsMale.astype(np.int)\n",
    "incident.loc[:,'Social_crime_score'] = incident['Hate_Crime']+incident['Gang_Related_Offense']+incident['Drug_Related']\n",
    "incident.loc[:,'Victim_Age'] = incident['Victim_Age'].astype(np.int)\n",
    "incident.loc[:,'Number_of_offense']= incident.Number_of_offense.astype(np.int)\n",
    "# coding\n",
    "incident['UCR_Offense_Name'] = pd.Categorical(incident['UCR_Offense_Name']).codes\n",
    "incident['Day1_of_the_Week'] = pd.Categorical(incident['Day1_of_the_Week']).codes\n",
    "incident['Division'] = pd.Categorical(incident['Division']).codes\n",
    "incident['Victim_Type'] = pd.Categorical(incident['Victim_Type']).codes\n",
    "incident['Victim_Race'] = pd.Categorical(incident['Victim_Race']).codes"
   ]
  },
  {
   "cell_type": "code",
   "execution_count": 8,
   "metadata": {},
   "outputs": [
    {
     "data": {
      "text/plain": [
       "Index(['Unnamed: 0', 'Year_of_Incident', 'Service_Number_ID', 'Watch',\n",
       "       'Type_of_Incident', 'Type_Location', 'Reporting_Area', 'Beat',\n",
       "       'Division', 'Sector', 'Council_District', 'Day1_of_the_Week',\n",
       "       'Call_Received_Date_Time', 'Call_Cleared_Date_Time',\n",
       "       'Call_Dispatch_Date_Time', 'Person_Involvement_Type', 'Victim_Type',\n",
       "       'Victim_Race', 'Victim_Gender', 'Victim_Age', 'Offense_Status',\n",
       "       'Victim_Condition', 'Hate_Crime', 'Family_Offense', 'Weapon_Used',\n",
       "       'Gang_Related_Offense', 'Drug_Related', 'UCR_Offense_Name', 'RMS_Code',\n",
       "       'UCR_Code', 'X_Coordinate', 'Y_Coordinate', 'Zip_Code', 'City', 'State',\n",
       "       'Location1', 'Call_Received', 'Call_Cleared', 'Call_Dispatch',\n",
       "       'Number_of_offense', 'Response_time', 'Latitude', 'Longitude',\n",
       "       'Arrest_status', 'Call_Received_Hour', 'IsMale', 'Social_crime_score'],\n",
       "      dtype='object')"
      ]
     },
     "execution_count": 8,
     "metadata": {},
     "output_type": "execute_result"
    }
   ],
   "source": [
    "incident.columns"
   ]
  },
  {
   "cell_type": "code",
   "execution_count": 11,
   "metadata": {},
   "outputs": [],
   "source": [
    "incident = incident.drop(['Year_of_Incident', 'Service_Number_ID', 'Type_of_Incident','Type_Location', \n",
    "                          'Reporting_Area', 'Beat', 'Sector','Council_District', 'Victim_Race', 'Day1_of_the_Week',\n",
    "                          'Person_Involvement_Type', 'Call_Received_Date_Time', 'Call_Cleared_Date_Time', 'Call_Dispatch_Date_Time', \n",
    "                          'Zip_Code', \n",
    "                          'Victim_Gender', 'Offense_Status', 'Victim_Condition','Family_Offense', 'Weapon_Used', \n",
    "                          'RMS_Code', 'UCR_Code','X_Coordinate', 'Y_Coordinate', 'City', 'State',\n",
    "                          'Location1', 'Call_Received', 'Call_Cleared', 'Call_Dispatch','Latitude', 'Longitude'],axis=1)"
   ]
  },
  {
   "cell_type": "code",
   "execution_count": 12,
   "metadata": {},
   "outputs": [
    {
     "data": {
      "text/html": [
       "<div>\n",
       "<style scoped>\n",
       "    .dataframe tbody tr th:only-of-type {\n",
       "        vertical-align: middle;\n",
       "    }\n",
       "\n",
       "    .dataframe tbody tr th {\n",
       "        vertical-align: top;\n",
       "    }\n",
       "\n",
       "    .dataframe thead th {\n",
       "        text-align: right;\n",
       "    }\n",
       "</style>\n",
       "<table border=\"1\" class=\"dataframe\">\n",
       "  <thead>\n",
       "    <tr style=\"text-align: right;\">\n",
       "      <th></th>\n",
       "      <th>Unnamed: 0</th>\n",
       "      <th>Watch</th>\n",
       "      <th>Division</th>\n",
       "      <th>Victim_Type</th>\n",
       "      <th>Victim_Age</th>\n",
       "      <th>Hate_Crime</th>\n",
       "      <th>Gang_Related_Offense</th>\n",
       "      <th>Drug_Related</th>\n",
       "      <th>UCR_Offense_Name</th>\n",
       "      <th>Number_of_offense</th>\n",
       "      <th>Response_time</th>\n",
       "      <th>Arrest_status</th>\n",
       "      <th>Call_Received_Hour</th>\n",
       "      <th>IsMale</th>\n",
       "      <th>Social_crime_score</th>\n",
       "    </tr>\n",
       "  </thead>\n",
       "  <tbody>\n",
       "    <tr>\n",
       "      <th>166038</th>\n",
       "      <td>296501</td>\n",
       "      <td>1</td>\n",
       "      <td>0</td>\n",
       "      <td>2</td>\n",
       "      <td>52</td>\n",
       "      <td>0</td>\n",
       "      <td>0</td>\n",
       "      <td>1</td>\n",
       "      <td>5</td>\n",
       "      <td>1</td>\n",
       "      <td>0</td>\n",
       "      <td>0</td>\n",
       "      <td>13.0</td>\n",
       "      <td>0</td>\n",
       "      <td>1</td>\n",
       "    </tr>\n",
       "    <tr>\n",
       "      <th>253187</th>\n",
       "      <td>465204</td>\n",
       "      <td>3</td>\n",
       "      <td>5</td>\n",
       "      <td>2</td>\n",
       "      <td>28</td>\n",
       "      <td>0</td>\n",
       "      <td>0</td>\n",
       "      <td>0</td>\n",
       "      <td>4</td>\n",
       "      <td>1</td>\n",
       "      <td>41</td>\n",
       "      <td>0</td>\n",
       "      <td>21.0</td>\n",
       "      <td>1</td>\n",
       "      <td>0</td>\n",
       "    </tr>\n",
       "  </tbody>\n",
       "</table>\n",
       "</div>"
      ],
      "text/plain": [
       "        Unnamed: 0  Watch  Division  Victim_Type  Victim_Age  Hate_Crime  \\\n",
       "166038      296501      1         0            2          52           0   \n",
       "253187      465204      3         5            2          28           0   \n",
       "\n",
       "        Gang_Related_Offense  Drug_Related  UCR_Offense_Name  \\\n",
       "166038                     0             1                 5   \n",
       "253187                     0             0                 4   \n",
       "\n",
       "        Number_of_offense  Response_time  Arrest_status  Call_Received_Hour  \\\n",
       "166038                  1              0              0                13.0   \n",
       "253187                  1             41              0                21.0   \n",
       "\n",
       "        IsMale  Social_crime_score  \n",
       "166038       0                   1  \n",
       "253187       1                   0  "
      ]
     },
     "execution_count": 12,
     "metadata": {},
     "output_type": "execute_result"
    }
   ],
   "source": [
    "incident.sample(2)"
   ]
  },
  {
   "cell_type": "code",
   "execution_count": 13,
   "metadata": {},
   "outputs": [
    {
     "name": "stdout",
     "output_type": "stream",
     "text": [
      "Class 0: 202337\n",
      "Class 1: 23115\n",
      "Proportion: 8.75 : 1\n"
     ]
    },
    {
     "data": {
      "text/plain": [
       "<Figure size 576x360 with 0 Axes>"
      ]
     },
     "metadata": {},
     "output_type": "display_data"
    },
    {
     "data": {
      "image/png": "[encoded data removed]",
      "text/plain": [
       "<Figure size 720x432 with 1 Axes>"
      ]
     },
     "metadata": {},
     "output_type": "display_data"
    }
   ],
   "source": [
    "# Explore response variable distribution\n",
    "plt.figure(figsize=(8,5))\n",
    "target_count = incident.Arrest_status.value_counts()\n",
    "print('Class 0:', target_count[0])\n",
    "print('Class 1:', target_count[1])\n",
    "print('Proportion:', round(target_count[0] / target_count[1], 2), ': 1')\n",
    "\n",
    "# Draw bar plot\n",
    "\n",
    "# data to plot\n",
    "n_groups = 1\n",
    "NoArrest=incident.Arrest_status.value_counts()[0]\n",
    "Arrest=incident.Arrest_status.value_counts()[1]\n",
    " \n",
    "# create plot\n",
    "index = np.arange(n_groups)\n",
    "bar_width = 0.5\n",
    "opacity = 0.8\n",
    "plt.figure(figsize=(10,6))\n",
    "plt.bar(index, NoArrest, bar_width,\n",
    "                 alpha=opacity,\n",
    "                 color='g',\n",
    "                 label='No Arrest')\n",
    " \n",
    "plt.bar(index + bar_width, Arrest, bar_width,\n",
    "                 alpha=opacity,\n",
    "                 color='r',\n",
    "                 label='Arrest')\n",
    " \n",
    "plt.xlabel('Arrest Status')\n",
    "plt.ylabel('Number of Incident')\n",
    "plt.title('Dallas City Police Incident Vs. Arrest Status Before Resampling')\n",
    "plt.xlim(-0.8, 2)\n",
    "plt.xticks(index + bar_width/2, (''))\n",
    "plt.legend()\n",
    " \n",
    "plt.show()"
   ]
  },
  {
   "cell_type": "code",
   "execution_count": 14,
   "metadata": {},
   "outputs": [
    {
     "data": {
      "text/plain": [
       "1    23115\n",
       "0    23115\n",
       "Name: Arrest_status, dtype: int64"
      ]
     },
     "execution_count": 14,
     "metadata": {},
     "output_type": "execute_result"
    }
   ],
   "source": [
    "# Import resample package\n",
    "from sklearn.utils import resample\n",
    "\n",
    "# Downsampling\n",
    "df_majority = incident[incident.Arrest_status==0]\n",
    "df_minority = incident[incident.Arrest_status==1]\n",
    " \n",
    "# Downsample majority class\n",
    "df_majority_downsampled = resample(df_majority, \n",
    "                                 replace=False,    # sample without replacement\n",
    "                                 n_samples=23115,     # to match minority class\n",
    "                                 random_state=123) # reproducible results\n",
    " \n",
    "# Combine minority class with downsampled majority class\n",
    "df_downsampled = pd.concat([df_majority_downsampled, df_minority])\n",
    " \n",
    "# Display new class counts\n",
    "df_downsampled.Arrest_status.value_counts()"
   ]
  },
  {
   "cell_type": "code",
   "execution_count": 15,
   "metadata": {},
   "outputs": [
    {
     "data": {
      "image/png": "[encoded data removed]",
      "text/plain": [
       "<Figure size 720x432 with 1 Axes>"
      ]
     },
     "metadata": {},
     "output_type": "display_data"
    }
   ],
   "source": [
    "n_groups = 1\n",
    "NoArrest=df_downsampled.Arrest_status.value_counts()[0]\n",
    "Arrest=df_downsampled.Arrest_status.value_counts()[1]\n",
    " \n",
    "# create plot\n",
    "#ax = plt.subplots()\n",
    "index = np.arange(n_groups)\n",
    "bar_width = 0.5\n",
    "opacity = 0.8\n",
    "plt.figure(figsize=(10,6))\n",
    "plt.bar(index, NoArrest, bar_width,\n",
    "                 alpha=opacity,\n",
    "                 color='g',\n",
    "                 label='No Arrest')\n",
    " \n",
    "plt.bar(index + bar_width, Arrest, bar_width,\n",
    "                 alpha=opacity,\n",
    "                 color='r',\n",
    "                 label='Arrest')\n",
    " \n",
    "plt.xlabel('Arrest Status')\n",
    "plt.ylabel('Number of Incident')\n",
    "plt.title('Dallas City Police Incident Vs. Arrest Status After Resampling')\n",
    "plt.xlim(-0.8, 2)\n",
    "plt.xticks(index + bar_width/2, (''))\n",
    "plt.legend()\n",
    " \n",
    "#plt.tight_layout()\n",
    "plt.show()\n"
   ]
  },
  {
   "cell_type": "code",
   "execution_count": 16,
   "metadata": {},
   "outputs": [],
   "source": [
    "# copy the down sampling dataset to original incident data frame and continue the anl\n",
    "incident= df_downsampled.copy()"
   ]
  },
  {
   "cell_type": "code",
   "execution_count": 17,
   "metadata": {},
   "outputs": [
    {
     "name": "stdout",
     "output_type": "stream",
     "text": [
      "Drug_Related        Social_crime_score      0.842685\n",
      "Watch               Call_Received_Hour      0.712316\n",
      "Social_crime_score  Gang_Related_Offense    0.562247\n",
      "Hate_Crime          Social_crime_score      0.152233\n",
      "Social_crime_score  Number_of_offense       0.110633\n",
      "                                              ...   \n",
      "Number_of_offense   Response_time          -0.058011\n",
      "Arrest_status       Victim_Age             -0.067700\n",
      "UCR_Offense_Name    Watch                  -0.103933\n",
      "Response_time       Arrest_status          -0.174816\n",
      "UCR_Offense_Name    Arrest_status          -0.310592\n",
      "Length: 105, dtype: float64\n"
     ]
    }
   ],
   "source": [
    "#Create correlation matrix\n",
    "CorrMat = incident.corr()\n",
    "\n",
    "# Highest Correlation Pairs\n",
    "corrPairs = CorrMat.unstack().sort_values(kind=\"quicksort\", ascending=False)\n",
    "#- REMOVE DUPLICATES\n",
    "corrPairs = corrPairs[::2]\n",
    "corrPairs = corrPairs[corrPairs.index.get_level_values(0) != corrPairs.index.get_level_values(1)]\n",
    "with pd.option_context('display.max_rows',10):\n",
    "    print(corrPairs)"
   ]
  },
  {
   "cell_type": "code",
   "execution_count": 18,
   "metadata": {},
   "outputs": [
    {
     "name": "stdout",
     "output_type": "stream",
     "text": [
      "Social_crime_score  Number_of_offense    0.110633\n",
      "Number_of_offense   Arrest_status        0.081587\n",
      "Response_time       UCR_Offense_Name     0.072490\n",
      "Call_Received_Hour  Response_time        0.071725\n",
      "Victim_Age          IsMale               0.068702\n",
      "                                           ...   \n",
      "UCR_Offense_Name    Division            -0.056991\n",
      "Number_of_offense   Response_time       -0.058011\n",
      "Victim_Age          Arrest_status       -0.067700\n",
      "Response_time       Arrest_status       -0.174816\n",
      "Arrest_status       UCR_Offense_Name    -0.310592\n",
      "Length: 55, dtype: float64\n"
     ]
    }
   ],
   "source": [
    "\n",
    "#Drop highly correlated, insignificant and high VIF columns.\n",
    "incident = incident.drop(['Drug_Related','Watch','Gang_Related_Offense','Hate_Crime'], axis=1)\n",
    "\n",
    "#Create correlation matrix\n",
    "CorrMat = incident.corr()\n",
    "\n",
    "# Highest Correlation Pairs\n",
    "corrPairs = CorrMat.unstack().sort_values(kind=\"quicksort\", ascending=False)\n",
    "#- REMOVE DUPLICATES\n",
    "corrPairs = corrPairs[::2]\n",
    "corrPairs = corrPairs[corrPairs.index.get_level_values(0) != corrPairs.index.get_level_values(1)]\n",
    "with pd.option_context('display.max_rows',10):\n",
    "    print(corrPairs)"
   ]
  },
  {
   "cell_type": "code",
   "execution_count": 19,
   "metadata": {},
   "outputs": [],
   "source": [
    "# Y Response variable dataframe\n",
    "inci_Y = incident['Arrest_status']\n",
    "\n",
    "# Features with no predictive features with respect to resposne variable\n",
    "incident = incident.drop(['Arrest_status'],axis=1)\n"
   ]
  },
  {
   "cell_type": "code",
   "execution_count": 20,
   "metadata": {},
   "outputs": [],
   "source": [
    "from sklearn.preprocessing import StandardScaler\n",
    "\n",
    "#Scale data\n",
    "scaler = StandardScaler()\n",
    "incident = scaler.fit_transform(incident)\n",
    "\n",
    "#Save as data frames\n",
    "df_incident = pd.DataFrame(incident)"
   ]
  },
  {
   "cell_type": "code",
   "execution_count": 21,
   "metadata": {},
   "outputs": [
    {
     "ename": "AttributeError",
     "evalue": "'numpy.ndarray' object has no attribute 'values'",
     "output_type": "error",
     "traceback": [
      "\u001b[1;31m---------------------------------------------------------------------------\u001b[0m",
      "\u001b[1;31mAttributeError\u001b[0m                            Traceback (most recent call last)",
      "\u001b[1;32m<ipython-input-21-4386a6acdf22>\u001b[0m in \u001b[0;36m<module>\u001b[1;34m()\u001b[0m\n\u001b[0;32m      1\u001b[0m \u001b[1;32mfrom\u001b[0m \u001b[0mstatsmodels\u001b[0m\u001b[1;33m.\u001b[0m\u001b[0mstats\u001b[0m\u001b[1;33m.\u001b[0m\u001b[0moutliers_influence\u001b[0m \u001b[1;32mimport\u001b[0m \u001b[0mvariance_inflation_factor\u001b[0m \u001b[1;32mas\u001b[0m \u001b[0mvif\u001b[0m\u001b[1;33m\u001b[0m\u001b[0m\n\u001b[0;32m      2\u001b[0m \u001b[0mdf2_vif\u001b[0m \u001b[1;33m=\u001b[0m \u001b[0mpd\u001b[0m\u001b[1;33m.\u001b[0m\u001b[0mDataFrame\u001b[0m\u001b[1;33m(\u001b[0m\u001b[1;33m)\u001b[0m\u001b[1;33m\u001b[0m\u001b[0m\n\u001b[1;32m----> 3\u001b[1;33m \u001b[0mdf2_vif\u001b[0m\u001b[1;33m[\u001b[0m\u001b[1;34m\"VIF Factor\"\u001b[0m\u001b[1;33m]\u001b[0m \u001b[1;33m=\u001b[0m \u001b[1;33m[\u001b[0m\u001b[0mvif\u001b[0m\u001b[1;33m(\u001b[0m\u001b[0mincident\u001b[0m\u001b[1;33m.\u001b[0m\u001b[0mvalues\u001b[0m\u001b[1;33m,\u001b[0m \u001b[0mi\u001b[0m\u001b[1;33m)\u001b[0m \u001b[1;32mfor\u001b[0m \u001b[0mi\u001b[0m \u001b[1;32min\u001b[0m \u001b[0mrange\u001b[0m\u001b[1;33m(\u001b[0m\u001b[0mincident\u001b[0m\u001b[1;33m.\u001b[0m\u001b[0mshape\u001b[0m\u001b[1;33m[\u001b[0m\u001b[1;36m1\u001b[0m\u001b[1;33m]\u001b[0m\u001b[1;33m)\u001b[0m\u001b[1;33m]\u001b[0m\u001b[1;33m\u001b[0m\u001b[0m\n\u001b[0m\u001b[0;32m      4\u001b[0m \u001b[0mdf2_vif\u001b[0m\u001b[1;33m[\u001b[0m\u001b[1;34m\"features\"\u001b[0m\u001b[1;33m]\u001b[0m \u001b[1;33m=\u001b[0m \u001b[0mincident\u001b[0m\u001b[1;33m.\u001b[0m\u001b[0mcolumns\u001b[0m\u001b[1;33m\u001b[0m\u001b[0m\n\u001b[0;32m      5\u001b[0m \u001b[0mprint\u001b[0m\u001b[1;33m(\u001b[0m\u001b[1;34m\"VIF Factors before Scaling\"\u001b[0m\u001b[1;33m)\u001b[0m\u001b[1;33m\u001b[0m\u001b[0m\n",
      "\u001b[1;32m<ipython-input-21-4386a6acdf22>\u001b[0m in \u001b[0;36m<listcomp>\u001b[1;34m(.0)\u001b[0m\n\u001b[0;32m      1\u001b[0m \u001b[1;32mfrom\u001b[0m \u001b[0mstatsmodels\u001b[0m\u001b[1;33m.\u001b[0m\u001b[0mstats\u001b[0m\u001b[1;33m.\u001b[0m\u001b[0moutliers_influence\u001b[0m \u001b[1;32mimport\u001b[0m \u001b[0mvariance_inflation_factor\u001b[0m \u001b[1;32mas\u001b[0m \u001b[0mvif\u001b[0m\u001b[1;33m\u001b[0m\u001b[0m\n\u001b[0;32m      2\u001b[0m \u001b[0mdf2_vif\u001b[0m \u001b[1;33m=\u001b[0m \u001b[0mpd\u001b[0m\u001b[1;33m.\u001b[0m\u001b[0mDataFrame\u001b[0m\u001b[1;33m(\u001b[0m\u001b[1;33m)\u001b[0m\u001b[1;33m\u001b[0m\u001b[0m\n\u001b[1;32m----> 3\u001b[1;33m \u001b[0mdf2_vif\u001b[0m\u001b[1;33m[\u001b[0m\u001b[1;34m\"VIF Factor\"\u001b[0m\u001b[1;33m]\u001b[0m \u001b[1;33m=\u001b[0m \u001b[1;33m[\u001b[0m\u001b[0mvif\u001b[0m\u001b[1;33m(\u001b[0m\u001b[0mincident\u001b[0m\u001b[1;33m.\u001b[0m\u001b[0mvalues\u001b[0m\u001b[1;33m,\u001b[0m \u001b[0mi\u001b[0m\u001b[1;33m)\u001b[0m \u001b[1;32mfor\u001b[0m \u001b[0mi\u001b[0m \u001b[1;32min\u001b[0m \u001b[0mrange\u001b[0m\u001b[1;33m(\u001b[0m\u001b[0mincident\u001b[0m\u001b[1;33m.\u001b[0m\u001b[0mshape\u001b[0m\u001b[1;33m[\u001b[0m\u001b[1;36m1\u001b[0m\u001b[1;33m]\u001b[0m\u001b[1;33m)\u001b[0m\u001b[1;33m]\u001b[0m\u001b[1;33m\u001b[0m\u001b[0m\n\u001b[0m\u001b[0;32m      4\u001b[0m \u001b[0mdf2_vif\u001b[0m\u001b[1;33m[\u001b[0m\u001b[1;34m\"features\"\u001b[0m\u001b[1;33m]\u001b[0m \u001b[1;33m=\u001b[0m \u001b[0mincident\u001b[0m\u001b[1;33m.\u001b[0m\u001b[0mcolumns\u001b[0m\u001b[1;33m\u001b[0m\u001b[0m\n\u001b[0;32m      5\u001b[0m \u001b[0mprint\u001b[0m\u001b[1;33m(\u001b[0m\u001b[1;34m\"VIF Factors before Scaling\"\u001b[0m\u001b[1;33m)\u001b[0m\u001b[1;33m\u001b[0m\u001b[0m\n",
      "\u001b[1;31mAttributeError\u001b[0m: 'numpy.ndarray' object has no attribute 'values'"
     ]
    }
   ],
   "source": [
    "from statsmodels.stats.outliers_influence import variance_inflation_factor as vif\n",
    "df2_vif = pd.DataFrame()\n",
    "df2_vif[\"VIF Factor\"] = [vif(incident.values, i) for i in range(incident.shape[1])]\n",
    "df2_vif[\"features\"] = incident.columns\n",
    "print(\"VIF Factors before Scaling\")\n",
    "df2_vif"
   ]
  },
  {
   "cell_type": "code",
   "execution_count": 22,
   "metadata": {},
   "outputs": [
    {
     "name": "stdout",
     "output_type": "stream",
     "text": [
      "Optimization terminated successfully.\n",
      "         Current function value: 0.624290\n",
      "         Iterations 5\n",
      "                         Results: Logit\n",
      "=================================================================\n",
      "Model:              Logit            Pseudo R-squared: 0.099     \n",
      "Dependent Variable: Arrest_status    AIC:              57741.8852\n",
      "Date:               2018-10-10 19:19 BIC:              57829.2991\n",
      "No. Observations:   46230            Log-Likelihood:   -28861.   \n",
      "Df Model:           9                LL-Null:          -32044.   \n",
      "Df Residuals:       46220            LLR p-value:      0.0000    \n",
      "Converged:          1.0000           Scale:            1.0000    \n",
      "No. Iterations:     5.0000                                       \n",
      "-------------------------------------------------------------------\n",
      "          Coef.    Std.Err.      z       P>|z|     [0.025    0.975]\n",
      "-------------------------------------------------------------------\n",
      "x1        0.0242     0.0100     2.4228   0.0154    0.0046    0.0437\n",
      "x2        0.0256     0.0100     2.5616   0.0104    0.0060    0.0452\n",
      "x3       -0.0169     0.0124    -1.3658   0.1720   -0.0411    0.0074\n",
      "x4       -0.1038     0.0100   -10.3282   0.0000   -0.1234   -0.0841\n",
      "x5       -0.6421     0.0102   -63.0745   0.0000   -0.6620   -0.6221\n",
      "x6        0.2052     0.0136    15.1241   0.0000    0.1786    0.2318\n",
      "x7       -0.3429     0.0107   -32.1175   0.0000   -0.3638   -0.3219\n",
      "x8        0.0358     0.0100     3.5745   0.0004    0.0162    0.0554\n",
      "x9        0.0515     0.0100     5.1251   0.0000    0.0318    0.0712\n",
      "x10       0.1098     0.0111     9.9242   0.0000    0.0881    0.1315\n",
      "=================================================================\n",
      "\n"
     ]
    }
   ],
   "source": [
    "from sklearn import metrics as mt\n",
    "import statsmodels.api as sm\n",
    "logit_model = sm.Logit(inci_Y, incident)\n",
    "result = logit_model.fit()\n",
    "print(result.summary2())\n"
   ]
  },
  {
   "cell_type": "code",
   "execution_count": 23,
   "metadata": {},
   "outputs": [],
   "source": [
    "from sklearn.model_selection import train_test_split"
   ]
  },
  {
   "cell_type": "code",
   "execution_count": 25,
   "metadata": {},
   "outputs": [],
   "source": [
    "X_train, X_test, y_train, y_test = train_test_split(incident,inci_Y,\n",
    "                                                    test_size=0.20, random_state=101)"
   ]
  },
  {
   "cell_type": "code",
   "execution_count": 26,
   "metadata": {},
   "outputs": [],
   "source": [
    "from sklearn.neighbors import KNeighborsClassifier"
   ]
  },
  {
   "cell_type": "code",
   "execution_count": 27,
   "metadata": {},
   "outputs": [],
   "source": [
    "knn = KNeighborsClassifier(n_neighbors=1)"
   ]
  },
  {
   "cell_type": "code",
   "execution_count": 28,
   "metadata": {},
   "outputs": [
    {
     "data": {
      "text/plain": [
       "KNeighborsClassifier(algorithm='auto', leaf_size=30, metric='minkowski',\n",
       "           metric_params=None, n_jobs=1, n_neighbors=1, p=2,\n",
       "           weights='uniform')"
      ]
     },
     "execution_count": 28,
     "metadata": {},
     "output_type": "execute_result"
    }
   ],
   "source": [
    "knn.fit(X_train,y_train)"
   ]
  },
  {
   "cell_type": "code",
   "execution_count": 29,
   "metadata": {},
   "outputs": [],
   "source": [
    "pred = knn.predict(X_test)"
   ]
  },
  {
   "cell_type": "code",
   "execution_count": 30,
   "metadata": {},
   "outputs": [],
   "source": [
    "from sklearn.metrics import classification_report,confusion_matrix"
   ]
  },
  {
   "cell_type": "code",
   "execution_count": 31,
   "metadata": {},
   "outputs": [
    {
     "name": "stdout",
     "output_type": "stream",
     "text": [
      "[[2641 1992]\n",
      " [1882 2731]]\n"
     ]
    }
   ],
   "source": [
    "print(confusion_matrix(y_test,pred))"
   ]
  },
  {
   "cell_type": "code",
   "execution_count": 32,
   "metadata": {},
   "outputs": [
    {
     "name": "stdout",
     "output_type": "stream",
     "text": [
      "             precision    recall  f1-score   support\n",
      "\n",
      "          0       0.58      0.57      0.58      4633\n",
      "          1       0.58      0.59      0.59      4613\n",
      "\n",
      "avg / total       0.58      0.58      0.58      9246\n",
      "\n"
     ]
    }
   ],
   "source": [
    "print(classification_report(y_test,pred))"
   ]
  },
  {
   "cell_type": "code",
   "execution_count": 33,
   "metadata": {},
   "outputs": [],
   "source": [
    "error_rate = []\n",
    "\n",
    "# Will take some time\n",
    "for i in range(1,40):\n",
    "    \n",
    "    knn = KNeighborsClassifier(n_neighbors=i)\n",
    "    knn.fit(X_train,y_train)\n",
    "    pred_i = knn.predict(X_test)\n",
    "    error_rate.append(np.mean(pred_i != y_test))"
   ]
  },
  {
   "cell_type": "code",
   "execution_count": 34,
   "metadata": {},
   "outputs": [
    {
     "data": {
      "text/plain": [
       "Text(0,0.5,'Error Rate')"
      ]
     },
     "execution_count": 34,
     "metadata": {},
     "output_type": "execute_result"
    },
    {
     "data": {
      "image/png": "[encoded data removed]",
      "text/plain": [
       "<Figure size 720x432 with 1 Axes>"
      ]
     },
     "metadata": {},
     "output_type": "display_data"
    }
   ],
   "source": [
    "plt.figure(figsize=(10,6))\n",
    "plt.plot(range(1,40),error_rate,color='blue', linestyle='dashed', marker='o',\n",
    "         markerfacecolor='red', markersize=10)\n",
    "plt.title('Error Rate vs. K Value')\n",
    "plt.xlabel('K')\n",
    "plt.ylabel('Error Rate')"
   ]
  },
  {
   "cell_type": "code",
   "execution_count": 35,
   "metadata": {},
   "outputs": [
    {
     "name": "stdout",
     "output_type": "stream",
     "text": [
      "WITH K=1\n",
      "\n",
      "\n",
      "[[2641 1992]\n",
      " [1882 2731]]\n",
      "\n",
      "\n",
      "             precision    recall  f1-score   support\n",
      "\n",
      "          0       0.58      0.57      0.58      4633\n",
      "          1       0.58      0.59      0.59      4613\n",
      "\n",
      "avg / total       0.58      0.58      0.58      9246\n",
      "\n"
     ]
    }
   ],
   "source": [
    "# FIRST A QUICK COMPARISON TO OUR ORIGINAL K=1\n",
    "knn = KNeighborsClassifier(n_neighbors=1)\n",
    "\n",
    "knn.fit(X_train,y_train)\n",
    "pred = knn.predict(X_test)\n",
    "\n",
    "print('WITH K=1')\n",
    "print('\\n')\n",
    "print(confusion_matrix(y_test,pred))\n",
    "print('\\n')\n",
    "print(classification_report(y_test,pred))"
   ]
  },
  {
   "cell_type": "code",
   "execution_count": 36,
   "metadata": {},
   "outputs": [
    {
     "name": "stdout",
     "output_type": "stream",
     "text": [
      "WITH K=37\n",
      "\n",
      "\n",
      "[[3166 1467]\n",
      " [1637 2976]]\n",
      "\n",
      "\n",
      "             precision    recall  f1-score   support\n",
      "\n",
      "          0       0.66      0.68      0.67      4633\n",
      "          1       0.67      0.65      0.66      4613\n",
      "\n",
      "avg / total       0.66      0.66      0.66      9246\n",
      "\n"
     ]
    }
   ],
   "source": [
    "# FIRST A QUICK COMPARISON TO OUR ORIGINAL K=37\n",
    "knn = KNeighborsClassifier(n_neighbors=37)\n",
    "\n",
    "knn.fit(X_train,y_train)\n",
    "pred = knn.predict(X_test)\n",
    "\n",
    "print('WITH K=37')\n",
    "print('\\n')\n",
    "print(confusion_matrix(y_test,pred))\n",
    "print('\\n')\n",
    "print(classification_report(y_test,pred))"
   ]
  },
  {
   "cell_type": "code",
   "execution_count": 37,
   "metadata": {},
   "outputs": [
    {
     "name": "stdout",
     "output_type": "stream",
     "text": [
      "WITH K=24\n",
      "\n",
      "\n",
      "[[3213 1420]\n",
      " [1706 2907]]\n",
      "\n",
      "\n",
      "             precision    recall  f1-score   support\n",
      "\n",
      "          0       0.65      0.69      0.67      4633\n",
      "          1       0.67      0.63      0.65      4613\n",
      "\n",
      "avg / total       0.66      0.66      0.66      9246\n",
      "\n"
     ]
    }
   ],
   "source": [
    "# FIRST A QUICK COMPARISON TO OUR ORIGINAL K=24\n",
    "knn = KNeighborsClassifier(n_neighbors=24)\n",
    "\n",
    "knn.fit(X_train,y_train)\n",
    "pred = knn.predict(X_test)\n",
    "\n",
    "print('WITH K=24')\n",
    "print('\\n')\n",
    "print(confusion_matrix(y_test,pred))\n",
    "print('\\n')\n",
    "print(classification_report(y_test,pred))"
   ]
  },
  {
   "cell_type": "code",
   "execution_count": null,
   "metadata": {},
   "outputs": [],
   "source": []
  }
 ],
 "metadata": {
  "kernelspec": {
   "display_name": "Python 3",
   "language": "python",
   "name": "python3"
  },
  "language_info": {
   "codemirror_mode": {
    "name": "ipython",
    "version": 3
   },
   "file_extension": ".py",
   "mimetype": "text/x-python",
   "name": "python",
   "nbconvert_exporter": "python",
   "pygments_lexer": "ipython3",
   "version": "3.6.5"
  }
 },
 "nbformat": 4,
 "nbformat_minor": 2
}
