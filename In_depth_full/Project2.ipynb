{
 "cells": [
  {
   "cell_type": "code",
   "execution_count": 1,
   "metadata": {},
   "outputs": [],
   "source": [
    "# Importing necessary packages for python\n",
    "import pandas as pd\n",
    "import numpy as np\n",
    "from sklearn.model_selection import ShuffleSplit, cross_validate\n",
    "from sklearn.linear_model import LogisticRegression\n",
    "import warnings\n",
    "import matplotlib.pyplot as plt\n",
    "import plotly.tools as tls\n",
    "import datetime as dt\n",
    "\n",
    "warnings.filterwarnings('ignore')\n",
    "warnings.simplefilter('ignore', DeprecationWarning)\n",
    "pd.set_option('mode.chained_assignment', None)\n",
    "\n",
    "%matplotlib inline"
   ]
  },
  {
   "cell_type": "code",
   "execution_count": 2,
   "metadata": {},
   "outputs": [],
   "source": [
    "# Importing data from Lab#1 and exploring the data, the csv file is the result dataset from Lab1\n",
    "path = \"../Data/\" # Generic path\n",
    "incident = pd.read_csv(path + 'LAB1_completed_Dataset_clean.csv', low_memory= False)"
   ]
  },
  {
   "cell_type": "code",
   "execution_count": 3,
   "metadata": {},
   "outputs": [
    {
     "data": {
      "text/html": [
       "<div>\n",
       "<style scoped>\n",
       "    .dataframe tbody tr th:only-of-type {\n",
       "        vertical-align: middle;\n",
       "    }\n",
       "\n",
       "    .dataframe tbody tr th {\n",
       "        vertical-align: top;\n",
       "    }\n",
       "\n",
       "    .dataframe thead th {\n",
       "        text-align: right;\n",
       "    }\n",
       "</style>\n",
       "<table border=\"1\" class=\"dataframe\">\n",
       "  <thead>\n",
       "    <tr style=\"text-align: right;\">\n",
       "      <th></th>\n",
       "      <th>Unnamed: 0</th>\n",
       "      <th>Year_of_Incident</th>\n",
       "      <th>Service_Number_ID</th>\n",
       "      <th>Watch</th>\n",
       "      <th>Type_of_Incident</th>\n",
       "      <th>Type_Location</th>\n",
       "      <th>Reporting_Area</th>\n",
       "      <th>Beat</th>\n",
       "      <th>Division</th>\n",
       "      <th>Sector</th>\n",
       "      <th>...</th>\n",
       "      <th>Location1</th>\n",
       "      <th>Call_Received</th>\n",
       "      <th>Call_Cleared</th>\n",
       "      <th>Call_Dispatch</th>\n",
       "      <th>Number_of_offense</th>\n",
       "      <th>Response_time</th>\n",
       "      <th>Latitude</th>\n",
       "      <th>Longitude</th>\n",
       "      <th>Arrest_status</th>\n",
       "      <th>Call_Received_Hour</th>\n",
       "    </tr>\n",
       "  </thead>\n",
       "  <tbody>\n",
       "    <tr>\n",
       "      <th>0</th>\n",
       "      <td>2</td>\n",
       "      <td>2016</td>\n",
       "      <td>175975-2016-01</td>\n",
       "      <td>1</td>\n",
       "      <td>BMV</td>\n",
       "      <td>Motor Vehicle</td>\n",
       "      <td>3104.0</td>\n",
       "      <td>542.0</td>\n",
       "      <td>NORTHWEST</td>\n",
       "      <td>540.0</td>\n",
       "      <td>...</td>\n",
       "      <td>3136 HUDNALL ST\\r\\nDALLAS, TX 75235\\r\\n(32.823...</td>\n",
       "      <td>2016-07-22 03:43:21</td>\n",
       "      <td>2016-07-22 11:49:54</td>\n",
       "      <td>2016-07-22 03:52:33</td>\n",
       "      <td>01</td>\n",
       "      <td>9.0</td>\n",
       "      <td>3.282394e+01</td>\n",
       "      <td>-9.682623e+01</td>\n",
       "      <td>1</td>\n",
       "      <td>3.0</td>\n",
       "    </tr>\n",
       "    <tr>\n",
       "      <th>1</th>\n",
       "      <td>5</td>\n",
       "      <td>2015</td>\n",
       "      <td>258177-2015-01</td>\n",
       "      <td>3</td>\n",
       "      <td>DEADLY CONDUCT</td>\n",
       "      <td>Apartment Parking Lot</td>\n",
       "      <td>4380.0</td>\n",
       "      <td>451.0</td>\n",
       "      <td>SOUTHWEST</td>\n",
       "      <td>450.0</td>\n",
       "      <td>...</td>\n",
       "      <td>3913 GANNON LN\\r\\nDALLAS, TX 75237\\r\\n(32.6539...</td>\n",
       "      <td>2015-11-05 18:37:20</td>\n",
       "      <td>2015-11-05 19:32:15</td>\n",
       "      <td>2015-11-05 18:51:51</td>\n",
       "      <td>01</td>\n",
       "      <td>14.0</td>\n",
       "      <td>3.265393e+01</td>\n",
       "      <td>-9.688384e+01</td>\n",
       "      <td>0</td>\n",
       "      <td>18.0</td>\n",
       "    </tr>\n",
       "    <tr>\n",
       "      <th>2</th>\n",
       "      <td>6</td>\n",
       "      <td>2017</td>\n",
       "      <td>065324-2017-01</td>\n",
       "      <td>2</td>\n",
       "      <td>BMV</td>\n",
       "      <td>Highway, Street, Alley ETC</td>\n",
       "      <td>4411.0</td>\n",
       "      <td>132.0</td>\n",
       "      <td>CENTRAL</td>\n",
       "      <td>130.0</td>\n",
       "      <td>...</td>\n",
       "      <td>1800 N ST PAUL ST\\r\\nDALLAS, TX 75201\\r\\n(2490...</td>\n",
       "      <td>2017-03-23 18:36:32</td>\n",
       "      <td>2017-03-23 19:48:44</td>\n",
       "      <td>2017-03-23 18:51:25</td>\n",
       "      <td>01</td>\n",
       "      <td>14.0</td>\n",
       "      <td>2.490567e+06</td>\n",
       "      <td>6.973511e+06</td>\n",
       "      <td>0</td>\n",
       "      <td>18.0</td>\n",
       "    </tr>\n",
       "    <tr>\n",
       "      <th>3</th>\n",
       "      <td>8</td>\n",
       "      <td>2018</td>\n",
       "      <td>165442-2018-01</td>\n",
       "      <td>2</td>\n",
       "      <td>MIR (MISCELLANEOUS INCIDENT REPORT NO OFFENSE)</td>\n",
       "      <td>Highway, Street, Alley ETC</td>\n",
       "      <td>3106.0</td>\n",
       "      <td>544.0</td>\n",
       "      <td>NORTHWEST</td>\n",
       "      <td>540.0</td>\n",
       "      <td>...</td>\n",
       "      <td>4800 LEMMON AVE\\r\\nHIGHLAND PARK, TX 75219\\r\\n...</td>\n",
       "      <td>2018-07-28 15:12:54</td>\n",
       "      <td>2018-07-28 17:31:57</td>\n",
       "      <td>2018-07-28 15:48:21</td>\n",
       "      <td>01</td>\n",
       "      <td>35.0</td>\n",
       "      <td>3.282183e+01</td>\n",
       "      <td>-9.681709e+01</td>\n",
       "      <td>0</td>\n",
       "      <td>15.0</td>\n",
       "    </tr>\n",
       "    <tr>\n",
       "      <th>4</th>\n",
       "      <td>10</td>\n",
       "      <td>2018</td>\n",
       "      <td>159507-2018-01</td>\n",
       "      <td>1</td>\n",
       "      <td>ACCIDENT INV DAMAGE TO VEHICLE &gt; OR EQUAL $200</td>\n",
       "      <td>Highway, Street, Alley ETC</td>\n",
       "      <td>4357.0</td>\n",
       "      <td>737.0</td>\n",
       "      <td>SOUTH CENTRAL</td>\n",
       "      <td>730.0</td>\n",
       "      <td>...</td>\n",
       "      <td>6100 FLAGSTAFF DR\\r\\nDALLAS, TX 75241\\r\\n(32.6...</td>\n",
       "      <td>2018-07-21 07:28:35</td>\n",
       "      <td>2018-07-21 09:01:49</td>\n",
       "      <td>2018-07-21 07:37:16</td>\n",
       "      <td>01</td>\n",
       "      <td>8.0</td>\n",
       "      <td>3.267381e+01</td>\n",
       "      <td>-9.675580e+01</td>\n",
       "      <td>0</td>\n",
       "      <td>7.0</td>\n",
       "    </tr>\n",
       "  </tbody>\n",
       "</table>\n",
       "<p>5 rows × 45 columns</p>\n",
       "</div>"
      ],
      "text/plain": [
       "   Unnamed: 0  Year_of_Incident Service_Number_ID  Watch  \\\n",
       "0           2              2016    175975-2016-01      1   \n",
       "1           5              2015    258177-2015-01      3   \n",
       "2           6              2017    065324-2017-01      2   \n",
       "3           8              2018    165442-2018-01      2   \n",
       "4          10              2018    159507-2018-01      1   \n",
       "\n",
       "                                 Type_of_Incident               Type_Location  \\\n",
       "0                                             BMV               Motor Vehicle   \n",
       "1                                  DEADLY CONDUCT       Apartment Parking Lot   \n",
       "2                                             BMV  Highway, Street, Alley ETC   \n",
       "3  MIR (MISCELLANEOUS INCIDENT REPORT NO OFFENSE)  Highway, Street, Alley ETC   \n",
       "4  ACCIDENT INV DAMAGE TO VEHICLE > OR EQUAL $200  Highway, Street, Alley ETC   \n",
       "\n",
       "   Reporting_Area   Beat       Division  Sector         ...          \\\n",
       "0          3104.0  542.0      NORTHWEST   540.0         ...           \n",
       "1          4380.0  451.0      SOUTHWEST   450.0         ...           \n",
       "2          4411.0  132.0        CENTRAL   130.0         ...           \n",
       "3          3106.0  544.0      NORTHWEST   540.0         ...           \n",
       "4          4357.0  737.0  SOUTH CENTRAL   730.0         ...           \n",
       "\n",
       "                                           Location1        Call_Received  \\\n",
       "0  3136 HUDNALL ST\\r\\nDALLAS, TX 75235\\r\\n(32.823...  2016-07-22 03:43:21   \n",
       "1  3913 GANNON LN\\r\\nDALLAS, TX 75237\\r\\n(32.6539...  2015-11-05 18:37:20   \n",
       "2  1800 N ST PAUL ST\\r\\nDALLAS, TX 75201\\r\\n(2490...  2017-03-23 18:36:32   \n",
       "3  4800 LEMMON AVE\\r\\nHIGHLAND PARK, TX 75219\\r\\n...  2018-07-28 15:12:54   \n",
       "4  6100 FLAGSTAFF DR\\r\\nDALLAS, TX 75241\\r\\n(32.6...  2018-07-21 07:28:35   \n",
       "\n",
       "          Call_Cleared        Call_Dispatch Number_of_offense Response_time  \\\n",
       "0  2016-07-22 11:49:54  2016-07-22 03:52:33                01           9.0   \n",
       "1  2015-11-05 19:32:15  2015-11-05 18:51:51                01          14.0   \n",
       "2  2017-03-23 19:48:44  2017-03-23 18:51:25                01          14.0   \n",
       "3  2018-07-28 17:31:57  2018-07-28 15:48:21                01          35.0   \n",
       "4  2018-07-21 09:01:49  2018-07-21 07:37:16                01           8.0   \n",
       "\n",
       "       Latitude     Longitude Arrest_status  Call_Received_Hour  \n",
       "0  3.282394e+01 -9.682623e+01             1                 3.0  \n",
       "1  3.265393e+01 -9.688384e+01             0                18.0  \n",
       "2  2.490567e+06  6.973511e+06             0                18.0  \n",
       "3  3.282183e+01 -9.681709e+01             0                15.0  \n",
       "4  3.267381e+01 -9.675580e+01             0                 7.0  \n",
       "\n",
       "[5 rows x 45 columns]"
      ]
     },
     "execution_count": 3,
     "metadata": {},
     "output_type": "execute_result"
    }
   ],
   "source": [
    "incident.head()"
   ]
  },
  {
   "cell_type": "code",
   "execution_count": 4,
   "metadata": {},
   "outputs": [
    {
     "name": "stdout",
     "output_type": "stream",
     "text": [
      "(253905, 45)\n",
      "Number of null columns and their counts\n",
      "Type_Location                4856\n",
      "Reporting_Area                155\n",
      "Beat                           70\n",
      "Sector                         70\n",
      "Call_Cleared_Date_Time        165\n",
      "Call_Dispatch_Date_Time        21\n",
      "Offense_Status                557\n",
      "Victim_Condition           233793\n",
      "Family_Offense                 32\n",
      "Weapon_Used                 28804\n",
      "UCR_Offense_Name            14475\n",
      "UCR_Code                    14475\n",
      "X_Coordinate                21095\n",
      "Y_Coordinate                21095\n",
      "State                         608\n",
      "Call_Cleared                  165\n",
      "Call_Dispatch                  21\n",
      "Latitude                     9755\n",
      "Longitude                    9755\n",
      "dtype: int64\n",
      "<class 'pandas.core.frame.DataFrame'>\n",
      "Int64Index: 253905 entries, 0 to 255153\n",
      "Data columns (total 45 columns):\n",
      "Unnamed: 0                 253905 non-null int64\n",
      "Year_of_Incident           253905 non-null int64\n",
      "Service_Number_ID          253905 non-null object\n",
      "Watch                      253905 non-null int64\n",
      "Type_of_Incident           253905 non-null object\n",
      "Type_Location              249052 non-null object\n",
      "Reporting_Area             253751 non-null float64\n",
      "Beat                       253835 non-null float64\n",
      "Division                   253905 non-null object\n",
      "Sector                     253835 non-null float64\n",
      "Council_District           253905 non-null object\n",
      "Day1_of_the_Week           253905 non-null object\n",
      "Call_Received_Date_Time    253905 non-null int64\n",
      "Call_Cleared_Date_Time     253905 non-null int64\n",
      "Call_Dispatch_Date_Time    253905 non-null int64\n",
      "Person_Involvement_Type    253905 non-null object\n",
      "Victim_Type                253905 non-null object\n",
      "Victim_Race                253905 non-null object\n",
      "Victim_Gender              253905 non-null object\n",
      "Victim_Age                 253905 non-null float64\n",
      "Offense_Status             253349 non-null object\n",
      "Victim_Condition           20283 non-null object\n",
      "Hate_Crime                 253905 non-null int64\n",
      "Family_Offense             253873 non-null object\n",
      "Weapon_Used                225111 non-null object\n",
      "Gang_Related_Offense       253905 non-null int64\n",
      "Drug_Related               253905 non-null int64\n",
      "UCR_Offense_Name           239437 non-null object\n",
      "RMS_Code                   253905 non-null object\n",
      "UCR_Code                   239437 non-null float64\n",
      "X_Coordinate               232825 non-null float64\n",
      "Y_Coordinate               232825 non-null float64\n",
      "Zip_Code                   253905 non-null int64\n",
      "City                       253905 non-null object\n",
      "State                      253297 non-null object\n",
      "Location1                  253905 non-null object\n",
      "Call_Received              253905 non-null object\n",
      "Call_Cleared               253905 non-null object\n",
      "Call_Dispatch              253905 non-null object\n",
      "Number_of_offense          253905 non-null object\n",
      "Response_time              253905 non-null int32\n",
      "Latitude                   244155 non-null float64\n",
      "Longitude                  244155 non-null float64\n",
      "Arrest_status              253905 non-null int64\n",
      "Call_Received_Hour         253905 non-null float64\n",
      "dtypes: float64(10), int32(1), int64(11), object(23)\n",
      "memory usage: 88.1+ MB\n"
     ]
    }
   ],
   "source": [
    "%%time\n",
    "\n",
    "# Exploying the dataset\n",
    "incident['Response_time'] = incident['Response_time'].fillna(incident['Response_time'].mean()).astype(np.int)\n",
    "incident = incident[incident['Call_Received_Hour'].isnull()==False]\n",
    "incident_NullCols = incident.isnull().sum()\n",
    "incident_NullCols = incident_NullCols[incident_NullCols > 0]\n",
    "\n",
    "# Dropna on Datetime columns\n",
    "incident.dropna(subset=['Call_Cleared_Date_Time', 'Call_Dispatch_Date_Time', 'Call_Received_Date_Time'], inplace=True)\n",
    "\n",
    "# Print out the data properties\n",
    "print(incident.shape)\n",
    "print('Number of null columns and their counts')\n",
    "print(incident_NullCols)\n",
    "\n",
    "# Convert Date Time columns from Char to Datetime Format\n",
    "# Call_Cleared_Date_Time\n",
    "# Call_Dispatch_Date_Time\n",
    "# Call_Received_Date_Time    \n",
    "\n",
    "incident['Call_Cleared_Date_Time'] = pd.to_datetime(incident['Call_Cleared_Date_Time'])\n",
    "incident['Call_Dispatch_Date_Time'] = pd.to_datetime(incident['Call_Dispatch_Date_Time'])\n",
    "incident['Call_Received_Date_Time'] = pd.to_datetime(incident['Call_Received_Date_Time'])\n",
    "\n",
    "# Convert Date Time columns from Datetime to EPOCH Format\n",
    "# incident['Call_Cleared_Date_Time'] = incident['Call_Cleared_Date_Time'].astype('int64')\n",
    "# incident['Call_Dispatch_Date_Time'] = incident['Call_Dispatch_Date_Time'].astype('int64')\n",
    "# incident['Call_Received_Date_Time'] = incident['Call_Received_Date_Time'].astype('int64')\n",
    "\n",
    "incident['Call_Cleared_Date_Time'] = (incident['Call_Cleared_Date_Time'] - dt.datetime(1970,1,1)).dt.total_seconds()\n",
    "incident['Call_Cleared_Date_Time'] = incident['Call_Cleared_Date_Time'].astype('int64')\n",
    "incident['Call_Dispatch_Date_Time'] = (incident['Call_Dispatch_Date_Time'] - dt.datetime(1970,1,1)).dt.total_seconds()\n",
    "incident['Call_Dispatch_Date_Time'] = incident['Call_Dispatch_Date_Time'].astype('int64')\n",
    "incident['Call_Received_Date_Time'] = (incident['Call_Received_Date_Time'] - dt.datetime(1970,1,1)).dt.total_seconds()\n",
    "incident['Call_Received_Date_Time'] = incident['Call_Received_Date_Time'].astype('int64')\n",
    "\n",
    "incident.info()"
   ]
  },
  {
   "cell_type": "code",
   "execution_count": 5,
   "metadata": {},
   "outputs": [
    {
     "data": {
      "text/plain": [
       "0    1469159553\n",
       "1    1446749511\n",
       "2    1490295085\n",
       "3    1532792901\n",
       "4    1532158636\n",
       "Name: Call_Dispatch_Date_Time, dtype: int64"
      ]
     },
     "execution_count": 5,
     "metadata": {},
     "output_type": "execute_result"
    }
   ],
   "source": [
    "incident['Call_Dispatch_Date_Time'].head()"
   ]
  },
  {
   "cell_type": "code",
   "execution_count": 6,
   "metadata": {},
   "outputs": [],
   "source": [
    "# Further cleanup the dataset\n",
    "incident = incident[incident['Watch']!=0]\n",
    "incident = incident[(incident['Victim_Age']>=0) & (incident['Victim_Age']<=90)]\n",
    "incident = incident[incident['Victim_Race']!=\"Unknown\"]\n",
    "incident = incident[incident['Victim_Type']!=\"Unknown\"]\n",
    "incident= incident[incident.Number_of_offense != \"RP\"]\n",
    "\n",
    "incident = incident[incident['Victim_Gender']!=\"U\"]"
   ]
  },
  {
   "cell_type": "code",
   "execution_count": 7,
   "metadata": {},
   "outputs": [],
   "source": [
    "# Further data clean up on the feature variables\n",
    "\n",
    "incident.loc[:,'UCR_Offense_Name'] = incident['UCR_Offense_Name'].fillna(\"MISSING\")\n",
    "\n",
    "# Setup the UCR Offense Name Groups\n",
    "THEFT_FRAUD     = dict.fromkeys(['THEFT/BMV', 'THEFT ORG RETAIL', 'BURGLARY-RESIDENCE', 'OTHER THEFTS',\n",
    "                                 'ROBBERY-INDIVIDUAL','THEFT/SHOPLIFT', 'BURGLARY-BUSINESS', 'FORGE & COUNTERFEIT', \n",
    "                                 'FRAUD', 'EMBEZZLEMENT','ROBBERY-BUSINESS','THEFT ORG RETAIL'],\"THEFT_FRAUD\" ) \n",
    "MVA_TRAFFIC      =dict.fromkeys(['ACCIDENT MV', 'MOTOR VEHICLE ACCIDENT', 'UUMV', 'TRAFFIC VIOLATION',\n",
    "                                 'TRAFFIC FATALITY'],\"MVA_TRAFFIC\" )        \n",
    "WEAPONS_FIREARMS =dict.fromkeys(['WEAPONS', 'ARSON', 'INJURED FIREARM'], \"WEAPONS_FIREARMS\")         \n",
    "ASSUALT          = dict.fromkeys(['ASSAULT','VANDALISM & CRIM MISCHIEF', 'AGG ASSAULT - NFV', 'OFFENSE AGAINST CHILD',\n",
    "                                  'AGG ASSAULT - FV'], \"ASSUALT\")\n",
    "OTHERS_THREATS   = dict.fromkeys(['FOUND', 'OTHERS', 'LOST', 'CRIMINAL TRESPASS', 'DISORDERLY CONDUCT', \n",
    "                                  'ANIMAL BITE','INJURED HOME','INJURED PUBLIC', 'TERRORISTIC THREAT', \n",
    "                                  'EVADING', 'INJURED OCCUPA', 'ORANIZED CRIME', 'KIDNAPPING', \n",
    "                                  'RESIST ARREST','FAIL TO ID', 'HUMAN TRAFFICKING', 'MISSING'], \"OTHERS_THREATS\")\n",
    "INTOXICATION     = dict.fromkeys(['DRUNK & DISORDERLY', 'DWI', 'NARCOTICS & DRUGS', 'LIQUOR OFFENSE', \n",
    "                                  'INTOXICATION MANSLAUGHTER'],\"INTOXICATION\")\n",
    "MURDER_DEATH     = dict.fromkeys(['SUDDEN DEATH&FOUND BODIES','MURDER'], \"MURDER_DEATH\")\n",
    "                    \n",
    "# Regroup the UCR_Offense_Name\n",
    "incident.loc[:,'UCR_Offense_Name']= incident['UCR_Offense_Name'].replace(THEFT_FRAUD)\n",
    "incident.loc[:,'UCR_Offense_Name']= incident['UCR_Offense_Name'].replace(MVA_TRAFFIC)\n",
    "incident.loc[:,'UCR_Offense_Name']= incident['UCR_Offense_Name'].replace(WEAPONS_FIREARMS)\n",
    "incident.loc[:,'UCR_Offense_Name']= incident['UCR_Offense_Name'].replace(ASSUALT)\n",
    "incident.loc[:,'UCR_Offense_Name']= incident['UCR_Offense_Name'].replace(OTHERS_THREATS)\n",
    "incident.loc[:,'UCR_Offense_Name']= incident['UCR_Offense_Name'].replace(INTOXICATION)\n",
    "incident.loc[:,'UCR_Offense_Name']= incident['UCR_Offense_Name'].replace(MURDER_DEATH)"
   ]
  },
  {
   "cell_type": "code",
   "execution_count": 8,
   "metadata": {},
   "outputs": [],
   "source": [
    "# Change norminal attributes to numeric\n",
    "incident.loc[:,'IsMale'] = incident.Victim_Gender=='M' \n",
    "incident.IsMale = incident.IsMale.astype(np.int)\n",
    "incident.loc[:,'Social_crime_score'] = incident['Hate_Crime']+incident['Gang_Related_Offense']+incident['Drug_Related']\n",
    "incident.loc[:,'Victim_Age'] = incident['Victim_Age'].astype(np.int)\n",
    "incident.loc[:,'Number_of_offense']= incident.Number_of_offense.astype(np.int)\n",
    "# coding\n",
    "incident['UCR_Offense_Name'] = pd.Categorical(incident['UCR_Offense_Name']).codes\n",
    "incident['Day1_of_the_Week'] = pd.Categorical(incident['Day1_of_the_Week']).codes\n",
    "incident['Division'] = pd.Categorical(incident['Division']).codes\n",
    "incident['Victim_Type'] = pd.Categorical(incident['Victim_Type']).codes\n",
    "incident['Victim_Race'] = pd.Categorical(incident['Victim_Race']).codes"
   ]
  },
  {
   "cell_type": "code",
   "execution_count": 9,
   "metadata": {},
   "outputs": [
    {
     "data": {
      "text/plain": [
       "Index(['Unnamed: 0', 'Year_of_Incident', 'Service_Number_ID', 'Watch',\n",
       "       'Type_of_Incident', 'Type_Location', 'Reporting_Area', 'Beat',\n",
       "       'Division', 'Sector', 'Council_District', 'Day1_of_the_Week',\n",
       "       'Call_Received_Date_Time', 'Call_Cleared_Date_Time',\n",
       "       'Call_Dispatch_Date_Time', 'Person_Involvement_Type', 'Victim_Type',\n",
       "       'Victim_Race', 'Victim_Gender', 'Victim_Age', 'Offense_Status',\n",
       "       'Victim_Condition', 'Hate_Crime', 'Family_Offense', 'Weapon_Used',\n",
       "       'Gang_Related_Offense', 'Drug_Related', 'UCR_Offense_Name', 'RMS_Code',\n",
       "       'UCR_Code', 'X_Coordinate', 'Y_Coordinate', 'Zip_Code', 'City', 'State',\n",
       "       'Location1', 'Call_Received', 'Call_Cleared', 'Call_Dispatch',\n",
       "       'Number_of_offense', 'Response_time', 'Latitude', 'Longitude',\n",
       "       'Arrest_status', 'Call_Received_Hour', 'IsMale', 'Social_crime_score'],\n",
       "      dtype='object')"
      ]
     },
     "execution_count": 9,
     "metadata": {},
     "output_type": "execute_result"
    }
   ],
   "source": [
    "incident.columns"
   ]
  },
  {
   "cell_type": "code",
   "execution_count": 10,
   "metadata": {},
   "outputs": [],
   "source": [
    "incident = incident.drop(['Year_of_Incident', 'Service_Number_ID', 'Type_of_Incident','Type_Location', \n",
    "                          'Reporting_Area', 'Beat', 'Sector','Council_District', 'Victim_Race', 'Day1_of_the_Week',\n",
    "                          'Person_Involvement_Type', 'Zip_Code', \n",
    "#                           'Call_Received_Date_Time', 'Call_Cleared_Date_Time', 'Call_Dispatch_Date_Time', \n",
    "                          'Victim_Gender', 'Offense_Status', 'Victim_Condition','Family_Offense', 'Weapon_Used', \n",
    "                          'RMS_Code', 'UCR_Code','X_Coordinate', 'Y_Coordinate', 'City', 'State',\n",
    "                          'Location1', 'Call_Received', 'Call_Cleared', 'Call_Dispatch','Latitude', 'Longitude'],axis=1)"
   ]
  },
  {
   "cell_type": "code",
   "execution_count": 11,
   "metadata": {},
   "outputs": [
    {
     "data": {
      "text/html": [
       "<div>\n",
       "<style scoped>\n",
       "    .dataframe tbody tr th:only-of-type {\n",
       "        vertical-align: middle;\n",
       "    }\n",
       "\n",
       "    .dataframe tbody tr th {\n",
       "        vertical-align: top;\n",
       "    }\n",
       "\n",
       "    .dataframe thead th {\n",
       "        text-align: right;\n",
       "    }\n",
       "</style>\n",
       "<table border=\"1\" class=\"dataframe\">\n",
       "  <thead>\n",
       "    <tr style=\"text-align: right;\">\n",
       "      <th></th>\n",
       "      <th>Unnamed: 0</th>\n",
       "      <th>Watch</th>\n",
       "      <th>Division</th>\n",
       "      <th>Call_Received_Date_Time</th>\n",
       "      <th>Call_Cleared_Date_Time</th>\n",
       "      <th>Call_Dispatch_Date_Time</th>\n",
       "      <th>Victim_Type</th>\n",
       "      <th>Victim_Age</th>\n",
       "      <th>Hate_Crime</th>\n",
       "      <th>Gang_Related_Offense</th>\n",
       "      <th>Drug_Related</th>\n",
       "      <th>UCR_Offense_Name</th>\n",
       "      <th>Number_of_offense</th>\n",
       "      <th>Response_time</th>\n",
       "      <th>Arrest_status</th>\n",
       "      <th>Call_Received_Hour</th>\n",
       "      <th>IsMale</th>\n",
       "      <th>Social_crime_score</th>\n",
       "    </tr>\n",
       "  </thead>\n",
       "  <tbody>\n",
       "    <tr>\n",
       "      <th>134241</th>\n",
       "      <td>238623</td>\n",
       "      <td>2</td>\n",
       "      <td>2</td>\n",
       "      <td>1459933507</td>\n",
       "      <td>1459944139</td>\n",
       "      <td>1459933756</td>\n",
       "      <td>2</td>\n",
       "      <td>58</td>\n",
       "      <td>0</td>\n",
       "      <td>0</td>\n",
       "      <td>0</td>\n",
       "      <td>3</td>\n",
       "      <td>1</td>\n",
       "      <td>4</td>\n",
       "      <td>0</td>\n",
       "      <td>9.0</td>\n",
       "      <td>0</td>\n",
       "      <td>0</td>\n",
       "    </tr>\n",
       "    <tr>\n",
       "      <th>18208</th>\n",
       "      <td>32321</td>\n",
       "      <td>1</td>\n",
       "      <td>6</td>\n",
       "      <td>1458611308</td>\n",
       "      <td>1458618992</td>\n",
       "      <td>1458611568</td>\n",
       "      <td>2</td>\n",
       "      <td>43</td>\n",
       "      <td>0</td>\n",
       "      <td>0</td>\n",
       "      <td>0</td>\n",
       "      <td>5</td>\n",
       "      <td>1</td>\n",
       "      <td>4</td>\n",
       "      <td>0</td>\n",
       "      <td>1.0</td>\n",
       "      <td>1</td>\n",
       "      <td>0</td>\n",
       "    </tr>\n",
       "  </tbody>\n",
       "</table>\n",
       "</div>"
      ],
      "text/plain": [
       "        Unnamed: 0  Watch  Division  Call_Received_Date_Time  \\\n",
       "134241      238623      2         2               1459933507   \n",
       "18208        32321      1         6               1458611308   \n",
       "\n",
       "        Call_Cleared_Date_Time  Call_Dispatch_Date_Time  Victim_Type  \\\n",
       "134241              1459944139               1459933756            2   \n",
       "18208               1458618992               1458611568            2   \n",
       "\n",
       "        Victim_Age  Hate_Crime  Gang_Related_Offense  Drug_Related  \\\n",
       "134241          58           0                     0             0   \n",
       "18208           43           0                     0             0   \n",
       "\n",
       "        UCR_Offense_Name  Number_of_offense  Response_time  Arrest_status  \\\n",
       "134241                 3                  1              4              0   \n",
       "18208                  5                  1              4              0   \n",
       "\n",
       "        Call_Received_Hour  IsMale  Social_crime_score  \n",
       "134241                 9.0       0                   0  \n",
       "18208                  1.0       1                   0  "
      ]
     },
     "execution_count": 11,
     "metadata": {},
     "output_type": "execute_result"
    }
   ],
   "source": [
    "incident.sample(2)"
   ]
  },
  {
   "cell_type": "code",
   "execution_count": 12,
   "metadata": {},
   "outputs": [
    {
     "name": "stdout",
     "output_type": "stream",
     "text": [
      "Class 0: 202193\n",
      "Class 1: 23094\n",
      "Proportion: 8.76 : 1\n"
     ]
    },
    {
     "data": {
      "text/plain": [
       "<Figure size 576x360 with 0 Axes>"
      ]
     },
     "metadata": {},
     "output_type": "display_data"
    },
    {
     "data": {
      "image/png": "[encoded data removed]",
      "text/plain": [
       "<Figure size 720x432 with 1 Axes>"
      ]
     },
     "metadata": {},
     "output_type": "display_data"
    }
   ],
   "source": [
    "# Explore response variable distribution\n",
    "plt.figure(figsize=(8,5))\n",
    "target_count = incident.Arrest_status.value_counts()\n",
    "print('Class 0:', target_count[0])\n",
    "print('Class 1:', target_count[1])\n",
    "print('Proportion:', round(target_count[0] / target_count[1], 2), ': 1')\n",
    "\n",
    "# Draw bar plot\n",
    "\n",
    "# data to plot\n",
    "n_groups = 1\n",
    "NoArrest=incident.Arrest_status.value_counts()[0]\n",
    "Arrest=incident.Arrest_status.value_counts()[1]\n",
    " \n",
    "# create plot\n",
    "index = np.arange(n_groups)\n",
    "bar_width = 0.5\n",
    "opacity = 0.8\n",
    "plt.figure(figsize=(10,6))\n",
    "plt.bar(index, NoArrest, bar_width,\n",
    "                 alpha=opacity,\n",
    "                 color='g',\n",
    "                 label='No Arrest')\n",
    " \n",
    "plt.bar(index + bar_width, Arrest, bar_width,\n",
    "                 alpha=opacity,\n",
    "                 color='r',\n",
    "                 label='Arrest')\n",
    " \n",
    "plt.xlabel('Arrest Status')\n",
    "plt.ylabel('Number of Incident')\n",
    "plt.title('Dallas City Police Incident Vs. Arrest Status Before Resampling')\n",
    "plt.xlim(-0.8, 2)\n",
    "plt.xticks(index + bar_width/2, (''))\n",
    "plt.legend()\n",
    " \n",
    "plt.show()"
   ]
  },
  {
   "cell_type": "code",
   "execution_count": 13,
   "metadata": {},
   "outputs": [],
   "source": [
    "# # Import resample package\n",
    "# from sklearn.utils import resample\n",
    "\n",
    "# # Downsampling\n",
    "# df_majority = incident[incident.Arrest_status==0]\n",
    "# df_minority = incident[incident.Arrest_status==1]\n",
    " \n",
    "# # Downsample majority class\n",
    "# df_majority_downsampled = resample(df_majority, \n",
    "#                                  replace=False,    # sample without replacement\n",
    "#                                  n_samples=23094,     # to match minority class\n",
    "#                                  random_state=123) # reproducible results\n",
    " \n",
    "# # Combine minority class with downsampled majority class\n",
    "# df_downsampled = pd.concat([df_majority_downsampled, df_minority])\n",
    " \n",
    "# # Display new class counts\n",
    "# df_downsampled.Arrest_status.value_counts()"
   ]
  },
  {
   "cell_type": "code",
   "execution_count": 14,
   "metadata": {},
   "outputs": [],
   "source": [
    "# n_groups = 1\n",
    "# NoArrest=df_downsampled.Arrest_status.value_counts()[0]\n",
    "# Arrest=df_downsampled.Arrest_status.value_counts()[1]\n",
    " \n",
    "# # create plot\n",
    "# #ax = plt.subplots()\n",
    "# index = np.arange(n_groups)\n",
    "# bar_width = 0.5\n",
    "# opacity = 0.8\n",
    "# plt.figure(figsize=(10,6))\n",
    "# plt.bar(index, NoArrest, bar_width,\n",
    "#                  alpha=opacity,\n",
    "#                  color='g',\n",
    "#                  label='No Arrest')\n",
    " \n",
    "# plt.bar(index + bar_width, Arrest, bar_width,\n",
    "#                  alpha=opacity,\n",
    "#                  color='r',\n",
    "#                  label='Arrest')\n",
    " \n",
    "# plt.xlabel('Arrest Status')\n",
    "# plt.ylabel('Number of Incident')\n",
    "# plt.title('Dallas City Police Incident Vs. Arrest Status After Resampling')\n",
    "# plt.xlim(-0.8, 2)\n",
    "# plt.xticks(index + bar_width/2, (''))\n",
    "# plt.legend()\n",
    " \n",
    "# #plt.tight_layout()\n",
    "# plt.show()\n"
   ]
  },
  {
   "cell_type": "code",
   "execution_count": 15,
   "metadata": {},
   "outputs": [],
   "source": [
    "# copy the down sampling dataset to original incident data frame and continue the anl\n",
    "# incident= df_downsampled.copy()"
   ]
  },
  {
   "cell_type": "code",
   "execution_count": 16,
   "metadata": {},
   "outputs": [
    {
     "name": "stdout",
     "output_type": "stream",
     "text": [
      "Call_Received_Date_Time  Call_Dispatch_Date_Time    1.000000\n",
      "                         Call_Cleared_Date_Time     0.999972\n",
      "Call_Cleared_Date_Time   Call_Dispatch_Date_Time    0.999972\n",
      "Drug_Related             Social_crime_score         0.854221\n",
      "Watch                    Call_Received_Hour         0.661572\n",
      "                                                      ...   \n",
      "Response_time            Social_crime_score        -0.050088\n",
      "Division                 UCR_Offense_Name          -0.056816\n",
      "UCR_Offense_Name         Watch                     -0.076426\n",
      "Arrest_status            Response_time             -0.096978\n",
      "UCR_Offense_Name         Arrest_status             -0.202279\n",
      "Length: 153, dtype: float64\n"
     ]
    }
   ],
   "source": [
    "#Create correlation matrix\n",
    "CorrMat = incident.corr()\n",
    "\n",
    "# Highest Correlation Pairs\n",
    "corrPairs = CorrMat.unstack().sort_values(kind=\"quicksort\", ascending=False)\n",
    "#- REMOVE DUPLICATES\n",
    "corrPairs = corrPairs[::2]\n",
    "corrPairs = corrPairs[corrPairs.index.get_level_values(0) != corrPairs.index.get_level_values(1)]\n",
    "with pd.option_context('display.max_rows',10):\n",
    "    print(corrPairs)"
   ]
  },
  {
   "cell_type": "code",
   "execution_count": 17,
   "metadata": {},
   "outputs": [
    {
     "name": "stdout",
     "output_type": "stream",
     "text": [
      "Call_Received_Date_Time  Call_Dispatch_Date_Time    1.000000\n",
      "Call_Cleared_Date_Time   Call_Received_Date_Time    0.999972\n",
      "                         Call_Dispatch_Date_Time    0.999972\n",
      "Unnamed: 0               Call_Received_Date_Time    0.243089\n",
      "                         Call_Dispatch_Date_Time    0.243089\n",
      "                                                      ...   \n",
      "Response_time            Number_of_offense         -0.042419\n",
      "Social_crime_score       Response_time             -0.050088\n",
      "UCR_Offense_Name         Division                  -0.056816\n",
      "Response_time            Arrest_status             -0.096978\n",
      "Arrest_status            UCR_Offense_Name          -0.202279\n",
      "Length: 91, dtype: float64\n"
     ]
    }
   ],
   "source": [
    "\n",
    "#Drop highly correlated, insignificant and high VIF columns.\n",
    "incident = incident.drop(['Drug_Related','Watch','Gang_Related_Offense','Hate_Crime'], axis=1)\n",
    "\n",
    "#Create correlation matrix\n",
    "CorrMat = incident.corr()\n",
    "\n",
    "# Highest Correlation Pairs\n",
    "corrPairs = CorrMat.unstack().sort_values(kind=\"quicksort\", ascending=False)\n",
    "#- REMOVE DUPLICATES\n",
    "corrPairs = corrPairs[::2]\n",
    "corrPairs = corrPairs[corrPairs.index.get_level_values(0) != corrPairs.index.get_level_values(1)]\n",
    "with pd.option_context('display.max_rows',10):\n",
    "    print(corrPairs)"
   ]
  },
  {
   "cell_type": "code",
   "execution_count": 18,
   "metadata": {},
   "outputs": [],
   "source": [
    "# Y Response variable dataframe\n",
    "inci_Y = incident['Arrest_status']\n",
    "\n",
    "# Features with no predictive features with respect to resposne variable\n",
    "inci_X = incident.drop(['Arrest_status'],axis=1)\n"
   ]
  },
  {
   "cell_type": "code",
   "execution_count": 19,
   "metadata": {},
   "outputs": [
    {
     "data": {
      "text/plain": [
       "225287"
      ]
     },
     "execution_count": 19,
     "metadata": {},
     "output_type": "execute_result"
    }
   ],
   "source": [
    "inci_Y.count()"
   ]
  },
  {
   "cell_type": "code",
   "execution_count": 20,
   "metadata": {},
   "outputs": [
    {
     "data": {
      "text/html": [
       "<div>\n",
       "<style scoped>\n",
       "    .dataframe tbody tr th:only-of-type {\n",
       "        vertical-align: middle;\n",
       "    }\n",
       "\n",
       "    .dataframe tbody tr th {\n",
       "        vertical-align: top;\n",
       "    }\n",
       "\n",
       "    .dataframe thead th {\n",
       "        text-align: right;\n",
       "    }\n",
       "</style>\n",
       "<table border=\"1\" class=\"dataframe\">\n",
       "  <thead>\n",
       "    <tr style=\"text-align: right;\">\n",
       "      <th></th>\n",
       "      <th>Unnamed: 0</th>\n",
       "      <th>Division</th>\n",
       "      <th>Call_Received_Date_Time</th>\n",
       "      <th>Call_Cleared_Date_Time</th>\n",
       "      <th>Call_Dispatch_Date_Time</th>\n",
       "      <th>Victim_Type</th>\n",
       "      <th>Victim_Age</th>\n",
       "      <th>UCR_Offense_Name</th>\n",
       "      <th>Number_of_offense</th>\n",
       "      <th>Response_time</th>\n",
       "      <th>Call_Received_Hour</th>\n",
       "      <th>IsMale</th>\n",
       "      <th>Social_crime_score</th>\n",
       "    </tr>\n",
       "  </thead>\n",
       "  <tbody>\n",
       "    <tr>\n",
       "      <th>0</th>\n",
       "      <td>-1.715359</td>\n",
       "      <td>-0.057161</td>\n",
       "      <td>-0.010744</td>\n",
       "      <td>-0.010230</td>\n",
       "      <td>-0.010760</td>\n",
       "      <td>0.007051</td>\n",
       "      <td>0.820985</td>\n",
       "      <td>0.898067</td>\n",
       "      <td>-0.193623</td>\n",
       "      <td>-0.431360</td>\n",
       "      <td>-1.552211</td>\n",
       "      <td>0.932474</td>\n",
       "      <td>-0.1164</td>\n",
       "    </tr>\n",
       "    <tr>\n",
       "      <th>1</th>\n",
       "      <td>-1.715337</td>\n",
       "      <td>1.455243</td>\n",
       "      <td>-0.595468</td>\n",
       "      <td>-0.595612</td>\n",
       "      <td>-0.595476</td>\n",
       "      <td>0.007051</td>\n",
       "      <td>0.615549</td>\n",
       "      <td>-1.516044</td>\n",
       "      <td>-0.193623</td>\n",
       "      <td>-0.215865</td>\n",
       "      <td>0.845110</td>\n",
       "      <td>0.932474</td>\n",
       "      <td>-0.1164</td>\n",
       "    </tr>\n",
       "    <tr>\n",
       "      <th>2</th>\n",
       "      <td>-1.715329</td>\n",
       "      <td>-1.569564</td>\n",
       "      <td>0.540709</td>\n",
       "      <td>0.540557</td>\n",
       "      <td>0.540702</td>\n",
       "      <td>0.007051</td>\n",
       "      <td>-1.438812</td>\n",
       "      <td>0.898067</td>\n",
       "      <td>-0.193623</td>\n",
       "      <td>-0.215865</td>\n",
       "      <td>0.845110</td>\n",
       "      <td>0.932474</td>\n",
       "      <td>-0.1164</td>\n",
       "    </tr>\n",
       "    <tr>\n",
       "      <th>3</th>\n",
       "      <td>-1.715314</td>\n",
       "      <td>-0.057161</td>\n",
       "      <td>1.649516</td>\n",
       "      <td>1.649434</td>\n",
       "      <td>1.649542</td>\n",
       "      <td>0.007051</td>\n",
       "      <td>-0.754025</td>\n",
       "      <td>0.415245</td>\n",
       "      <td>-0.193623</td>\n",
       "      <td>0.689213</td>\n",
       "      <td>0.365646</td>\n",
       "      <td>0.932474</td>\n",
       "      <td>-0.1164</td>\n",
       "    </tr>\n",
       "    <tr>\n",
       "      <th>4</th>\n",
       "      <td>-1.715299</td>\n",
       "      <td>0.446974</td>\n",
       "      <td>1.633009</td>\n",
       "      <td>1.632856</td>\n",
       "      <td>1.632993</td>\n",
       "      <td>0.007051</td>\n",
       "      <td>-1.027940</td>\n",
       "      <td>0.415245</td>\n",
       "      <td>-0.193623</td>\n",
       "      <td>-0.474459</td>\n",
       "      <td>-0.912925</td>\n",
       "      <td>-1.072415</td>\n",
       "      <td>-0.1164</td>\n",
       "    </tr>\n",
       "  </tbody>\n",
       "</table>\n",
       "</div>"
      ],
      "text/plain": [
       "   Unnamed: 0  Division  Call_Received_Date_Time  Call_Cleared_Date_Time  \\\n",
       "0   -1.715359 -0.057161                -0.010744               -0.010230   \n",
       "1   -1.715337  1.455243                -0.595468               -0.595612   \n",
       "2   -1.715329 -1.569564                 0.540709                0.540557   \n",
       "3   -1.715314 -0.057161                 1.649516                1.649434   \n",
       "4   -1.715299  0.446974                 1.633009                1.632856   \n",
       "\n",
       "   Call_Dispatch_Date_Time  Victim_Type  Victim_Age  UCR_Offense_Name  \\\n",
       "0                -0.010760     0.007051    0.820985          0.898067   \n",
       "1                -0.595476     0.007051    0.615549         -1.516044   \n",
       "2                 0.540702     0.007051   -1.438812          0.898067   \n",
       "3                 1.649542     0.007051   -0.754025          0.415245   \n",
       "4                 1.632993     0.007051   -1.027940          0.415245   \n",
       "\n",
       "   Number_of_offense  Response_time  Call_Received_Hour    IsMale  \\\n",
       "0          -0.193623      -0.431360           -1.552211  0.932474   \n",
       "1          -0.193623      -0.215865            0.845110  0.932474   \n",
       "2          -0.193623      -0.215865            0.845110  0.932474   \n",
       "3          -0.193623       0.689213            0.365646  0.932474   \n",
       "4          -0.193623      -0.474459           -0.912925 -1.072415   \n",
       "\n",
       "   Social_crime_score  \n",
       "0             -0.1164  \n",
       "1             -0.1164  \n",
       "2             -0.1164  \n",
       "3             -0.1164  \n",
       "4             -0.1164  "
      ]
     },
     "execution_count": 20,
     "metadata": {},
     "output_type": "execute_result"
    }
   ],
   "source": [
    "from sklearn.preprocessing import StandardScaler\n",
    "\n",
    "#Scale data\n",
    "scaler = StandardScaler()\n",
    "# inci_X = scaler.fit_transform(inci_X)\n",
    "\n",
    "#Save as data frames\n",
    "inci_X = pd.DataFrame(scaler.fit_transform(inci_X), columns=inci_X.columns)\n",
    "inci_X.head()"
   ]
  },
  {
   "cell_type": "code",
   "execution_count": 21,
   "metadata": {},
   "outputs": [],
   "source": [
    "# from sklearn.model_selection import train_test_split"
   ]
  },
  {
   "cell_type": "code",
   "execution_count": 22,
   "metadata": {},
   "outputs": [],
   "source": [
    "# X_train, X_test, y_train, y_test = train_test_split(inci_X,inci_Y,\n",
    "#                                                     test_size=0.20, random_state=101)"
   ]
  },
  {
   "cell_type": "code",
   "execution_count": 23,
   "metadata": {},
   "outputs": [],
   "source": [
    "from sklearn.model_selection import StratifiedKFold"
   ]
  },
  {
   "cell_type": "code",
   "execution_count": 24,
   "metadata": {},
   "outputs": [
    {
     "name": "stdout",
     "output_type": "stream",
     "text": [
      "TRAIN: [     0      2      3 ... 225283 225284 225286] TEST: [     1      4      6 ... 225279 225281 225285]\n",
      "TRAIN: [     1      4      6 ... 225279 225281 225285] TEST: [     0      2      3 ... 225283 225284 225286]\n",
      "Wall time: 138 ms\n"
     ]
    }
   ],
   "source": [
    "%%time\n",
    "\n",
    "skf = StratifiedKFold(n_splits=2, random_state=0, shuffle=True)\n",
    "for train_index, test_index in skf.split(inci_X, inci_Y):\n",
    "    print(\"TRAIN:\", train_index, \"TEST:\", test_index)\n",
    "    X_train, X_test = inci_X.iloc[train_index,], inci_X.iloc[test_index,]\n",
    "    y_train, y_test = inci_Y.iloc[train_index,], inci_Y.iloc[test_index,]"
   ]
  },
  {
   "cell_type": "code",
   "execution_count": 25,
   "metadata": {},
   "outputs": [],
   "source": [
    "from sklearn.neighbors import KNeighborsClassifier"
   ]
  },
  {
   "cell_type": "code",
   "execution_count": 26,
   "metadata": {},
   "outputs": [],
   "source": [
    "knn = KNeighborsClassifier(n_neighbors=1)"
   ]
  },
  {
   "cell_type": "code",
   "execution_count": 27,
   "metadata": {},
   "outputs": [
    {
     "name": "stdout",
     "output_type": "stream",
     "text": [
      "Wall time: 50.2 s\n"
     ]
    },
    {
     "data": {
      "text/plain": [
       "KNeighborsClassifier(algorithm='auto', leaf_size=30, metric='minkowski',\n",
       "           metric_params=None, n_jobs=1, n_neighbors=1, p=2,\n",
       "           weights='uniform')"
      ]
     },
     "execution_count": 27,
     "metadata": {},
     "output_type": "execute_result"
    }
   ],
   "source": [
    "%%time\n",
    "\n",
    "knn.fit(X_train,y_train)"
   ]
  },
  {
   "cell_type": "code",
   "execution_count": 28,
   "metadata": {},
   "outputs": [
    {
     "name": "stdout",
     "output_type": "stream",
     "text": [
      "Wall time: 1min 53s\n"
     ]
    }
   ],
   "source": [
    "%%time\n",
    "\n",
    "pred = knn.predict(X_test)"
   ]
  },
  {
   "cell_type": "code",
   "execution_count": 29,
   "metadata": {},
   "outputs": [],
   "source": [
    "from sklearn.metrics import classification_report,confusion_matrix"
   ]
  },
  {
   "cell_type": "code",
   "execution_count": 30,
   "metadata": {},
   "outputs": [
    {
     "name": "stdout",
     "output_type": "stream",
     "text": [
      "[[91478  9618]\n",
      " [ 9466  2081]]\n",
      "Wall time: 121 ms\n"
     ]
    }
   ],
   "source": [
    "%%time\n",
    "\n",
    "print(confusion_matrix(y_test,pred))"
   ]
  },
  {
   "cell_type": "code",
   "execution_count": 31,
   "metadata": {},
   "outputs": [
    {
     "name": "stdout",
     "output_type": "stream",
     "text": [
      "             precision    recall  f1-score   support\n",
      "\n",
      "          0       0.91      0.90      0.91    101096\n",
      "          1       0.18      0.18      0.18     11547\n",
      "\n",
      "avg / total       0.83      0.83      0.83    112643\n",
      "\n",
      "Wall time: 37.4 ms\n"
     ]
    }
   ],
   "source": [
    "%%time\n",
    "\n",
    "print(classification_report(y_test,pred))"
   ]
  },
  {
   "cell_type": "code",
   "execution_count": 32,
   "metadata": {},
   "outputs": [
    {
     "name": "stdout",
     "output_type": "stream",
     "text": [
      "Iteration::  1\n",
      "Iteration::  2\n",
      "Iteration::  3\n",
      "Iteration::  4\n",
      "Iteration::  5\n",
      "Iteration::  6\n",
      "Iteration::  7\n",
      "Iteration::  8\n",
      "Iteration::  9\n",
      "Iteration::  10\n",
      "Iteration::  11\n",
      "Iteration::  12\n",
      "Iteration::  13\n",
      "Iteration::  14\n",
      "Iteration::  15\n",
      "Iteration::  16\n",
      "Iteration::  17\n",
      "Iteration::  18\n",
      "Iteration::  19\n",
      "Iteration::  20\n",
      "Iteration::  21\n",
      "Iteration::  22\n",
      "Iteration::  23\n",
      "Iteration::  24\n",
      "Iteration::  25\n",
      "Iteration::  26\n",
      "Iteration::  27\n",
      "Iteration::  28\n",
      "Iteration::  29\n",
      "Iteration::  30\n",
      "Iteration::  31\n",
      "Iteration::  32\n",
      "Iteration::  33\n",
      "Iteration::  34\n",
      "Iteration::  35\n",
      "Iteration::  36\n",
      "Iteration::  37\n",
      "Iteration::  38\n",
      "Iteration::  39\n",
      "Wall time: 2h 22min 16s\n"
     ]
    }
   ],
   "source": [
    "%%time\n",
    "\n",
    "error_rate = []\n",
    "\n",
    "# Will take some time\n",
    "for i in range(1,40):\n",
    "    \n",
    "    print(\"Iteration:: \",i)\n",
    "    knn = KNeighborsClassifier(n_neighbors=i)\n",
    "    knn.fit(X_train,y_train)\n",
    "    pred_i = knn.predict(X_test)\n",
    "    error_rate.append(np.mean(pred_i != y_test))"
   ]
  },
  {
   "cell_type": "code",
   "execution_count": 33,
   "metadata": {},
   "outputs": [
    {
     "name": "stdout",
     "output_type": "stream",
     "text": [
      "Wall time: 46.8 ms\n"
     ]
    },
    {
     "data": {
      "image/png": "[encoded data removed]",
      "text/plain": [
       "<Figure size 720x432 with 1 Axes>"
      ]
     },
     "metadata": {},
     "output_type": "display_data"
    }
   ],
   "source": [
    "%%time\n",
    "\n",
    "plt.figure(figsize=(10,6))\n",
    "plt.plot(range(1,40),error_rate,color='blue', linestyle='dashed', marker='o',\n",
    "         markerfacecolor='red', markersize=10)\n",
    "plt.title('Error Rate vs. K Value')\n",
    "plt.xlabel('K')\n",
    "plt.ylabel('Error Rate')"
   ]
  },
  {
   "cell_type": "code",
   "execution_count": 34,
   "metadata": {},
   "outputs": [
    {
     "name": "stdout",
     "output_type": "stream",
     "text": [
      "WITH K=1\n",
      "\n",
      "\n",
      "[[91478  9618]\n",
      " [ 9466  2081]]\n",
      "\n",
      "\n",
      "             precision    recall  f1-score   support\n",
      "\n",
      "          0       0.91      0.90      0.91    101096\n",
      "          1       0.18      0.18      0.18     11547\n",
      "\n",
      "avg / total       0.83      0.83      0.83    112643\n",
      "\n",
      "Wall time: 1min 15s\n"
     ]
    }
   ],
   "source": [
    "%%time\n",
    "\n",
    "# FIRST A QUICK COMPARISON TO OUR ORIGINAL K=1\n",
    "knn = KNeighborsClassifier(n_neighbors=1)\n",
    "\n",
    "knn.fit(X_train,y_train)\n",
    "pred = knn.predict(X_test)\n",
    "\n",
    "print('WITH K=1')\n",
    "print('\\n')\n",
    "print(confusion_matrix(y_test,pred))\n",
    "print('\\n')\n",
    "print(classification_report(y_test,pred))"
   ]
  },
  {
   "cell_type": "code",
   "execution_count": 35,
   "metadata": {},
   "outputs": [
    {
     "name": "stdout",
     "output_type": "stream",
     "text": [
      "WITH K=38\n",
      "\n",
      "\n",
      "[[101061     35]\n",
      " [ 11505     42]]\n",
      "\n",
      "\n",
      "             precision    recall  f1-score   support\n",
      "\n",
      "          0       0.90      1.00      0.95    101096\n",
      "          1       0.55      0.00      0.01     11547\n",
      "\n",
      "avg / total       0.86      0.90      0.85    112643\n",
      "\n",
      "Wall time: 2min 41s\n"
     ]
    }
   ],
   "source": [
    "%%time\n",
    "\n",
    "# FIRST A QUICK COMPARISON TO OUR ORIGINAL K=38\n",
    "knn = KNeighborsClassifier(n_neighbors=38)\n",
    "\n",
    "knn.fit(X_train,y_train)\n",
    "pred = knn.predict(X_test)\n",
    "\n",
    "print('WITH K=38')\n",
    "print('\\n')\n",
    "print(confusion_matrix(y_test,pred))\n",
    "print('\\n')\n",
    "print(classification_report(y_test,pred))"
   ]
  },
  {
   "cell_type": "code",
   "execution_count": 36,
   "metadata": {},
   "outputs": [
    {
     "name": "stdout",
     "output_type": "stream",
     "text": [
      "WITH K=25\n",
      "\n",
      "\n",
      "[[100972    124]\n",
      " [ 11448     99]]\n",
      "\n",
      "\n",
      "             precision    recall  f1-score   support\n",
      "\n",
      "          0       0.90      1.00      0.95    101096\n",
      "          1       0.44      0.01      0.02     11547\n",
      "\n",
      "avg / total       0.85      0.90      0.85    112643\n",
      "\n",
      "Wall time: 2min 32s\n"
     ]
    }
   ],
   "source": [
    "%%time\n",
    "\n",
    "# FIRST A QUICK COMPARISON TO OUR ORIGINAL K=25\n",
    "knn = KNeighborsClassifier(n_neighbors=25)\n",
    "\n",
    "knn.fit(X_train,y_train)\n",
    "pred = knn.predict(X_test)\n",
    "\n",
    "print('WITH K=25')\n",
    "print('\\n')\n",
    "print(confusion_matrix(y_test,pred))\n",
    "print('\\n')\n",
    "print(classification_report(y_test,pred))"
   ]
  },
  {
   "cell_type": "code",
   "execution_count": 39,
   "metadata": {},
   "outputs": [
    {
     "name": "stdout",
     "output_type": "stream",
     "text": [
      "WITH K=44\n",
      "\n",
      "\n",
      "[[101069     27]\n",
      " [ 11517     30]]\n",
      "\n",
      "\n",
      "             precision    recall  f1-score   support\n",
      "\n",
      "          0       0.90      1.00      0.95    101096\n",
      "          1       0.53      0.00      0.01     11547\n",
      "\n",
      "avg / total       0.86      0.90      0.85    112643\n",
      "\n",
      "Wall time: 2min 45s\n"
     ]
    }
   ],
   "source": [
    "%%time\n",
    "\n",
    "# FIRST A QUICK COMPARISON TO OUR ORIGINAL K=44\n",
    "knn = KNeighborsClassifier(n_neighbors=44)\n",
    "\n",
    "knn.fit(X_train,y_train)\n",
    "pred = knn.predict(X_test)\n",
    "\n",
    "print('WITH K=44')\n",
    "print('\\n')\n",
    "print(confusion_matrix(y_test,pred))\n",
    "print('\\n')\n",
    "print(classification_report(y_test,pred))"
   ]
  },
  {
   "cell_type": "code",
   "execution_count": null,
   "metadata": {},
   "outputs": [],
   "source": []
  }
 ],
 "metadata": {
  "kernelspec": {
   "display_name": "Python 3",
   "language": "python",
   "name": "python3"
  },
  "language_info": {
   "codemirror_mode": {
    "name": "ipython",
    "version": 3
   },
   "file_extension": ".py",
   "mimetype": "text/x-python",
   "name": "python",
   "nbconvert_exporter": "python",
   "pygments_lexer": "ipython3",
   "version": "3.6.5"
  }
 },
 "nbformat": 4,
 "nbformat_minor": 2
}
