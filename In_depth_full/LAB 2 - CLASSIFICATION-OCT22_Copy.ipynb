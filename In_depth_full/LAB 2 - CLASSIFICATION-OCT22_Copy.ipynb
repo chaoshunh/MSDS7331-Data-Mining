{
 "cells": [
  {
   "cell_type": "markdown",
   "metadata": {},
   "source": [
    "<h1><center>DALLAS CRIME DATA</center></h1>\n",
    "<h2><center>MSDS 7331 LAB 2</center></h2>\n",
    "<h2><center>Classification Modelling</center></h2>\n",
    "\n",
    "<h4><center>Team Members</center></h4>\n",
    "\n",
    "           Yejur Singh Kunwar           Bin Yu               Vivek Viswanathan          Kevin Mendonsa\n",
    "              Dallas, TX               Dallas, TX               Dallas, TX                Irvine, CA"
   ]
  },
  {
   "cell_type": "markdown",
   "metadata": {},
   "source": [
    "## Introduction\n",
    "##### Data Description\n",
    "The Dallas Crime Incident data set that is used in the Mini Project acts as a bridge between the citizens of Dallas and the Dallas PD. It represents the Dallas Police Public Data - RMS Incidents from June 1, 2014 to September 7, 2018. \n",
    "For purposes of this Mini Project, the main dataframe that is trimmed based on the analysis performed as part of Lab 1. The details of the data quality clean up and choice of columns have been detailed in the Lab 1 notebook link provided below.\n",
    "\n",
    "The data set currently has 222,147 rows and 45 columns.\n",
    "\n",
    "**Lab 1 Notebook Link -** https://github.com/wtubin/MSDS7331-Data-Mining/MSDS7331_Data_Mining_Lab1_Data-Viz_Pre-Processing.ipynb\n",
    "**Note -** The structure of the document will closely follow the phases of the CRISP-DM Modeling Phase.\n",
    "\n",
    "##### Objective\n",
    "\n",
    "The objective of this unit is to perform Predictive Analysis (Classification) on the chosen data set and apply new classification algorithms. The first task of this lab is to clasify the arrest made in the incident call based on the selected features in the dataset. The second task will attempt to categorize the response time (speed of dispatch) into the categories that have been defined below.\n",
    "\n",
    "**GitHub Repository containing the artifacts -** https://github.com/wtubin/MSDS7331-Data-Mining\n",
    "\n",
    "**Location of the raw (compressed) data file -** https://github.com/wtubin/MSDS7331-Data-Mining/Police_Incidents.7z \n",
    "\n",
    "As part of this analysis, we are attempting to train and test our classification models Stratified Shuffle Split technique. The details of the Stratified Shuffle Split are discussed in the subsequent sections.\n",
    "\n",
    "**The EvaluateClassifierEstimator function from Dr. Drew's NC Education project GitHub has been modified so as to output Accuracy, Precision, and Recall. We'll use these parameters to evaluate the effectiveness of our model.**"
   ]
  },
  {
   "cell_type": "markdown",
   "metadata": {},
   "source": [
    "### Modeling Assumptions\n",
    "For purposes of our modeling, we have performed the following transformations to ensure:\n",
    " * All features are uniformly distributed with 0 mean and unit standard deviation\n",
    " * Features are scaled to ensure that one of the features does not have more emphasis than another\n",
    " * Multi-colinearity has been removed\n",
    " * Features have been converted to categories to improve model efficiency."
   ]
  },
  {
   "cell_type": "markdown",
   "metadata": {},
   "source": [
    "# Data Preparation Part 1"
   ]
  },
  {
   "cell_type": "markdown",
   "metadata": {},
   "source": [
    "### Data Preparation\n",
    "\n",
    "The dataset is loaded into the workspace as a data frame and undergoes transformation or standardization before being fed into model. The attributes with zero variance (closer) or those attributes that does not have value in predicting the respose variable are removed. For example attributes like beats, sector, Location1, etc. serves no purpose for our model. \n",
    "\n",
    "Once the unwanted attributes are removed, we're left with attributes that can contribute to our model. Since these attributes will help us classify the Response, going forward, we will refer to the Explanatory variables as Features.\n",
    "\n",
    "Then dataset is split into explanatory, for running the models.\n",
    "\n",
    "        - TASK 1\n",
    "            - inci_X : Explanatory variables (Features)\n",
    "            - inci_Y : Response variable (Arrest_status)\n",
    "        \n",
    "        - TASK 2\n",
    "            - inci_res_X : Explanatory variables (Features)\n",
    "            - inci_res_Y : Response variable (Response_time_cat)\n",
    "        \n",
    "\n",
    "\n",
    "The Features are being scaled to have a mean of 0 and variance of 1 in order to imporve accuracy of the classification models. The data will be split into 80/20 training/test set. We have tested the models with different paramters in order to choose the best parameters for our data set. e.g. Model was fitted with different values of K in the KNN algorithm; different values of metric was used to identify the best fit for our data set.\n",
    "\n",
    "Correlation scores, variance inflaion scores, variance inflation factors (VIFs) and significance has been utilized for manual determination of Features. This will help with feature reduction or feature selection for our final model. The remaining features will be utilized in our models: KNN, Nearest Centroid and Support Vector Machine (SVM). We used a simple for loop to test out different parameters for our models.\n",
    "\n",
    "The following techniques have been used during the analysis to improve the performance and accuracy.\n",
    " - Class balancing using down sampling\n",
    " - Removing Multicolinearity by reviewing correlation matrix\n",
    " - Removing Multicolinearity by reviewing VIF\n",
    " - Scaling the features\n",
    " - Stratified Shuffle Split\n",
    " \n",
    "A brief description of the purpose and outcome of each of the techniques is explained as they are being applied to the data set."
   ]
  },
  {
   "cell_type": "code",
   "execution_count": 1,
   "metadata": {
    "collapsed": true
   },
   "outputs": [],
   "source": [
    "# Importing necessary packages for python\n",
    "import pandas as pd\n",
    "import numpy as np\n",
    "from sklearn.model_selection import ShuffleSplit, cross_validate\n",
    "from sklearn.linear_model import LogisticRegression\n",
    "import matplotlib.pyplot as plt\n",
    "import plotly.tools as tls\n",
    "import seaborn as sns\n",
    "import warnings\n",
    "warnings.simplefilter('ignore')\n",
    "warnings.simplefilter('ignore', DeprecationWarning)\n",
    "pd.set_option('mode.chained_assignment', None)\n",
    "\n",
    "%matplotlib inline"
   ]
  },
  {
   "cell_type": "code",
   "execution_count": 2,
   "metadata": {
    "collapsed": true
   },
   "outputs": [],
   "source": [
    "# Importing data from Lab#1 and exploring the data, the csv file is the result dataset from Lab1\n",
    "path = \"../../Data/\" # Generic path\n",
    "incident = pd.read_csv(path + 'LAB1_completed_Dataset_clean_new.csv', low_memory= False)"
   ]
  },
  {
   "cell_type": "code",
   "execution_count": 3,
   "metadata": {},
   "outputs": [
    {
     "name": "stdout",
     "output_type": "stream",
     "text": [
      "(223803, 48)\n",
      "Number of null columns and their counts\n",
      "Type_Location                3828\n",
      "Reporting_Area                129\n",
      "Beat                           53\n",
      "Sector                         53\n",
      "Call_Cleared_Date_Time        148\n",
      "Call_Dispatch_Date_Time        21\n",
      "Offense_Status                399\n",
      "Victim_Condition           206053\n",
      "Family_Offense                 29\n",
      "Weapon_Used                 23889\n",
      "UCR_Offense_Name            12102\n",
      "UCR_Code                    12102\n",
      "X_Coordinate                17588\n",
      "Y_Coordinate                17588\n",
      "State                         536\n",
      "UCR_Offense_Description     12102\n",
      "Call_Cleared                  148\n",
      "Call_Dispatch                  21\n",
      "Latitude                     8362\n",
      "Longitude                    8362\n",
      "dtype: int64\n"
     ]
    }
   ],
   "source": [
    "# Exploring the dataset\n",
    "incident['Response_time'] = incident['Response_time'].fillna(incident['Response_time'].mean()).astype(np.int)\n",
    "# 0-11 (Emergency), 11-31(Urgent), 31-60(Important), (60-max)(Non_Urgent)\n",
    "incident['Res_time_category'] = pd.cut(incident.Response_time,[0,11,31,60,1e6],2,labels=[0,1,2,3])\n",
    "incident = incident[incident['Res_time_category'].isnull()==False]\n",
    "\n",
    "incident = incident[incident['Call_Received_Hour'].isnull()==False]\n",
    "incident_NullCols = incident.isnull().sum()\n",
    "incident_NullCols = incident_NullCols[incident_NullCols > 0]\n",
    "\n",
    "# Print out the data properties\n",
    "print(incident.shape)\n",
    "print('Number of null columns and their counts')\n",
    "print(incident_NullCols)"
   ]
  },
  {
   "cell_type": "code",
   "execution_count": 4,
   "metadata": {
    "collapsed": true
   },
   "outputs": [],
   "source": [
    "# Further cleanup the dataset\n",
    "incident = incident[incident['Watch']!=0]\n",
    "incident = incident[(incident['Victim_Age']>=0) & (incident['Victim_Age']<=90)]\n",
    "incident = incident[incident['Victim_Race']!=\"Unknown\"]\n",
    "incident = incident[incident['Victim_Type']!=\"Unknown\"]\n",
    "incident= incident[incident.Number_of_offense != \"RP\"]\n",
    "\n",
    "incident = incident[incident['Victim_Gender']!=\"U\"]\n",
    "\n",
    "# Further data clean up of feature variables\n",
    "incident.loc[:,'UCR_Offense_Name'] = incident['UCR_Offense_Name'].fillna(\"MISSING\")\n",
    "\n",
    "# Setup the UCR Offense Name Groups\n",
    "THEFT_FRAUD     = dict.fromkeys(['THEFT/BMV', 'THEFT ORG RETAIL', 'BURGLARY-RESIDENCE', 'OTHER THEFTS',\n",
    "                                 'ROBBERY-INDIVIDUAL','THEFT/SHOPLIFT', 'BURGLARY-BUSINESS', 'FORGE & COUNTERFEIT', \n",
    "                                 'FRAUD', 'EMBEZZLEMENT','ROBBERY-BUSINESS','THEFT ORG RETAIL'],\"THEFT_FRAUD\" ) \n",
    "MVA_TRAFFIC      =dict.fromkeys(['ACCIDENT MV', 'MOTOR VEHICLE ACCIDENT', 'UUMV', 'TRAFFIC VIOLATION',\n",
    "                                 'TRAFFIC FATALITY'],\"MVA_TRAFFIC\" )        \n",
    "WEAPONS_FIREARMS =dict.fromkeys(['WEAPONS', 'ARSON', 'INJURED FIREARM'], \"WEAPONS_FIREARMS\")         \n",
    "ASSUALT          = dict.fromkeys(['ASSAULT','VANDALISM & CRIM MISCHIEF', 'AGG ASSAULT - NFV', 'OFFENSE AGAINST CHILD',\n",
    "                                  'AGG ASSAULT - FV'], \"ASSUALT\")\n",
    "OTHERS_THREATS   = dict.fromkeys(['FOUND', 'OTHERS', 'LOST', 'CRIMINAL TRESPASS', 'DISORDERLY CONDUCT', \n",
    "                                  'ANIMAL BITE','INJURED HOME','INJURED PUBLIC', 'TERRORISTIC THREAT', \n",
    "                                  'EVADING', 'INJURED OCCUPA', 'ORANIZED CRIME', 'KIDNAPPING', \n",
    "                                  'RESIST ARREST','FAIL TO ID', 'HUMAN TRAFFICKING', 'MISSING'], \"OTHERS_THREATS\")\n",
    "INTOXICATION     = dict.fromkeys(['DRUNK & DISORDERLY', 'DWI', 'NARCOTICS & DRUGS', 'LIQUOR OFFENSE', \n",
    "                                  'INTOXICATION MANSLAUGHTER'],\"INTOXICATION\")\n",
    "MURDER_DEATH     = dict.fromkeys(['SUDDEN DEATH&FOUND BODIES','MURDER'], \"MURDER_DEATH\")\n",
    "                    \n",
    "# Regroup the UCR_Offense_Name\n",
    "incident.loc[:,'UCR_Offense_Name']= incident['UCR_Offense_Name'].replace(THEFT_FRAUD)\n",
    "incident.loc[:,'UCR_Offense_Name']= incident['UCR_Offense_Name'].replace(MVA_TRAFFIC)\n",
    "incident.loc[:,'UCR_Offense_Name']= incident['UCR_Offense_Name'].replace(WEAPONS_FIREARMS)\n",
    "incident.loc[:,'UCR_Offense_Name']= incident['UCR_Offense_Name'].replace(ASSUALT)\n",
    "incident.loc[:,'UCR_Offense_Name']= incident['UCR_Offense_Name'].replace(OTHERS_THREATS)\n",
    "incident.loc[:,'UCR_Offense_Name']= incident['UCR_Offense_Name'].replace(INTOXICATION)\n",
    "incident.loc[:,'UCR_Offense_Name']= incident['UCR_Offense_Name'].replace(MURDER_DEATH)\n",
    "\n",
    "# Change nominal attributes to numeric\n",
    "incident.loc[:,'IsMale'] = incident.Victim_Gender=='M' \n",
    "incident.IsMale = incident.IsMale.astype(np.int)\n",
    "incident.loc[:,'Social_crime_score'] = incident['Hate_Crime']+incident['Gang_Related_Offense']+incident['Drug_Related']\n",
    "incident.loc[:,'Victim_Age'] = incident['Victim_Age'].astype(np.int)\n",
    "incident.loc[:,'Number_of_offense']= incident.Number_of_offense.astype(np.int)\n",
    "\n",
    "# Coding\n",
    "incident['UCR_Offense_Name'] = pd.Categorical(incident['UCR_Offense_Name']).codes\n",
    "incident['Day1_of_the_Week'] = pd.Categorical(incident['Day1_of_the_Week']).codes\n",
    "incident['Division'] = pd.Categorical(incident['Division']).codes\n",
    "incident['Victim_Type'] = pd.Categorical(incident['Victim_Type']).codes\n",
    "incident['Victim_Race'] = pd.Categorical(incident['Victim_Race']).codes\n",
    "# Added UCR_Offense_Description\n",
    "incident['UCR_Offense_Description'] = pd.Categorical(incident['UCR_Offense_Description']).codes"
   ]
  },
  {
   "cell_type": "code",
   "execution_count": 5,
   "metadata": {
    "collapsed": true
   },
   "outputs": [],
   "source": [
    "incident['Res_time_category'] = pd.Categorical(incident['Res_time_category']).codes"
   ]
  },
  {
   "cell_type": "code",
   "execution_count": 8,
   "metadata": {},
   "outputs": [
    {
     "ename": "KeyError",
     "evalue": "'Call_Received_Date_Time'",
     "output_type": "error",
     "traceback": [
      "\u001b[0;31m---------------------------------------------------------------------------\u001b[0m",
      "\u001b[0;31mKeyError\u001b[0m                                  Traceback (most recent call last)",
      "\u001b[0;32mD:\\Anaconda3\\lib\\site-packages\\pandas\\indexes\\base.py\u001b[0m in \u001b[0;36mget_loc\u001b[0;34m(self, key, method, tolerance)\u001b[0m\n\u001b[1;32m   2133\u001b[0m             \u001b[1;32mtry\u001b[0m\u001b[1;33m:\u001b[0m\u001b[1;33m\u001b[0m\u001b[0m\n\u001b[0;32m-> 2134\u001b[0;31m                 \u001b[1;32mreturn\u001b[0m \u001b[0mself\u001b[0m\u001b[1;33m.\u001b[0m\u001b[0m_engine\u001b[0m\u001b[1;33m.\u001b[0m\u001b[0mget_loc\u001b[0m\u001b[1;33m(\u001b[0m\u001b[0mkey\u001b[0m\u001b[1;33m)\u001b[0m\u001b[1;33m\u001b[0m\u001b[0m\n\u001b[0m\u001b[1;32m   2135\u001b[0m             \u001b[1;32mexcept\u001b[0m \u001b[0mKeyError\u001b[0m\u001b[1;33m:\u001b[0m\u001b[1;33m\u001b[0m\u001b[0m\n",
      "\u001b[0;32mpandas\\index.pyx\u001b[0m in \u001b[0;36mpandas.index.IndexEngine.get_loc (pandas\\index.c:4433)\u001b[0;34m()\u001b[0m\n",
      "\u001b[0;32mpandas\\index.pyx\u001b[0m in \u001b[0;36mpandas.index.IndexEngine.get_loc (pandas\\index.c:4279)\u001b[0;34m()\u001b[0m\n",
      "\u001b[0;32mpandas\\src\\hashtable_class_helper.pxi\u001b[0m in \u001b[0;36mpandas.hashtable.PyObjectHashTable.get_item (pandas\\hashtable.c:13742)\u001b[0;34m()\u001b[0m\n",
      "\u001b[0;32mpandas\\src\\hashtable_class_helper.pxi\u001b[0m in \u001b[0;36mpandas.hashtable.PyObjectHashTable.get_item (pandas\\hashtable.c:13696)\u001b[0;34m()\u001b[0m\n",
      "\u001b[0;31mKeyError\u001b[0m: 'Call_Received_Date_Time'",
      "\nDuring handling of the above exception, another exception occurred:\n",
      "\u001b[0;31mKeyError\u001b[0m                                  Traceback (most recent call last)",
      "\u001b[0;32m<ipython-input-8-8a8d3e3fb50c>\u001b[0m in \u001b[0;36m<module>\u001b[0;34m()\u001b[0m\n\u001b[1;32m      3\u001b[0m \u001b[1;33m\u001b[0m\u001b[0m\n\u001b[1;32m      4\u001b[0m \u001b[1;32mimport\u001b[0m \u001b[0mtime\u001b[0m\u001b[1;33m\u001b[0m\u001b[0m\n\u001b[0;32m----> 5\u001b[0;31m \u001b[0mincident\u001b[0m\u001b[1;33m[\u001b[0m\u001b[1;34m'Call_Received_Date_Time'\u001b[0m\u001b[1;33m]\u001b[0m \u001b[1;33m=\u001b[0m \u001b[0mpd\u001b[0m\u001b[1;33m.\u001b[0m\u001b[0mto_datetime\u001b[0m\u001b[1;33m(\u001b[0m\u001b[0mincident\u001b[0m\u001b[1;33m[\u001b[0m\u001b[1;34m'Call_Received_Date_Time'\u001b[0m\u001b[1;33m]\u001b[0m\u001b[1;33m)\u001b[0m\u001b[1;33m\u001b[0m\u001b[0m\n\u001b[0m\u001b[1;32m      6\u001b[0m \u001b[0mincident\u001b[0m\u001b[1;33m[\u001b[0m\u001b[1;34m'Call_Cleared_Date_Time'\u001b[0m\u001b[1;33m]\u001b[0m \u001b[1;33m=\u001b[0m \u001b[0mpd\u001b[0m\u001b[1;33m.\u001b[0m\u001b[0mto_datetime\u001b[0m\u001b[1;33m(\u001b[0m\u001b[0mincident\u001b[0m\u001b[1;33m[\u001b[0m\u001b[1;34m'Call_Cleared_Date_Time'\u001b[0m\u001b[1;33m]\u001b[0m\u001b[1;33m)\u001b[0m\u001b[1;33m\u001b[0m\u001b[0m\n\u001b[1;32m      7\u001b[0m \u001b[0mincident\u001b[0m\u001b[1;33m[\u001b[0m\u001b[1;34m'Call_Dispatch_Date_Time'\u001b[0m\u001b[1;33m]\u001b[0m \u001b[1;33m=\u001b[0m \u001b[0mpd\u001b[0m\u001b[1;33m.\u001b[0m\u001b[0mto_datetime\u001b[0m\u001b[1;33m(\u001b[0m\u001b[0mincident\u001b[0m\u001b[1;33m[\u001b[0m\u001b[1;34m'Call_Dispatch_Date_Time'\u001b[0m\u001b[1;33m]\u001b[0m\u001b[1;33m)\u001b[0m\u001b[1;33m\u001b[0m\u001b[0m\n",
      "\u001b[0;32mD:\\Anaconda3\\lib\\site-packages\\pandas\\core\\frame.py\u001b[0m in \u001b[0;36m__getitem__\u001b[0;34m(self, key)\u001b[0m\n\u001b[1;32m   2057\u001b[0m             \u001b[1;32mreturn\u001b[0m \u001b[0mself\u001b[0m\u001b[1;33m.\u001b[0m\u001b[0m_getitem_multilevel\u001b[0m\u001b[1;33m(\u001b[0m\u001b[0mkey\u001b[0m\u001b[1;33m)\u001b[0m\u001b[1;33m\u001b[0m\u001b[0m\n\u001b[1;32m   2058\u001b[0m         \u001b[1;32melse\u001b[0m\u001b[1;33m:\u001b[0m\u001b[1;33m\u001b[0m\u001b[0m\n\u001b[0;32m-> 2059\u001b[0;31m             \u001b[1;32mreturn\u001b[0m \u001b[0mself\u001b[0m\u001b[1;33m.\u001b[0m\u001b[0m_getitem_column\u001b[0m\u001b[1;33m(\u001b[0m\u001b[0mkey\u001b[0m\u001b[1;33m)\u001b[0m\u001b[1;33m\u001b[0m\u001b[0m\n\u001b[0m\u001b[1;32m   2060\u001b[0m \u001b[1;33m\u001b[0m\u001b[0m\n\u001b[1;32m   2061\u001b[0m     \u001b[1;32mdef\u001b[0m \u001b[0m_getitem_column\u001b[0m\u001b[1;33m(\u001b[0m\u001b[0mself\u001b[0m\u001b[1;33m,\u001b[0m \u001b[0mkey\u001b[0m\u001b[1;33m)\u001b[0m\u001b[1;33m:\u001b[0m\u001b[1;33m\u001b[0m\u001b[0m\n",
      "\u001b[0;32mD:\\Anaconda3\\lib\\site-packages\\pandas\\core\\frame.py\u001b[0m in \u001b[0;36m_getitem_column\u001b[0;34m(self, key)\u001b[0m\n\u001b[1;32m   2064\u001b[0m         \u001b[1;31m# get column\u001b[0m\u001b[1;33m\u001b[0m\u001b[1;33m\u001b[0m\u001b[0m\n\u001b[1;32m   2065\u001b[0m         \u001b[1;32mif\u001b[0m \u001b[0mself\u001b[0m\u001b[1;33m.\u001b[0m\u001b[0mcolumns\u001b[0m\u001b[1;33m.\u001b[0m\u001b[0mis_unique\u001b[0m\u001b[1;33m:\u001b[0m\u001b[1;33m\u001b[0m\u001b[0m\n\u001b[0;32m-> 2066\u001b[0;31m             \u001b[1;32mreturn\u001b[0m \u001b[0mself\u001b[0m\u001b[1;33m.\u001b[0m\u001b[0m_get_item_cache\u001b[0m\u001b[1;33m(\u001b[0m\u001b[0mkey\u001b[0m\u001b[1;33m)\u001b[0m\u001b[1;33m\u001b[0m\u001b[0m\n\u001b[0m\u001b[1;32m   2067\u001b[0m \u001b[1;33m\u001b[0m\u001b[0m\n\u001b[1;32m   2068\u001b[0m         \u001b[1;31m# duplicate columns & possible reduce dimensionality\u001b[0m\u001b[1;33m\u001b[0m\u001b[1;33m\u001b[0m\u001b[0m\n",
      "\u001b[0;32mD:\\Anaconda3\\lib\\site-packages\\pandas\\core\\generic.py\u001b[0m in \u001b[0;36m_get_item_cache\u001b[0;34m(self, item)\u001b[0m\n\u001b[1;32m   1384\u001b[0m         \u001b[0mres\u001b[0m \u001b[1;33m=\u001b[0m \u001b[0mcache\u001b[0m\u001b[1;33m.\u001b[0m\u001b[0mget\u001b[0m\u001b[1;33m(\u001b[0m\u001b[0mitem\u001b[0m\u001b[1;33m)\u001b[0m\u001b[1;33m\u001b[0m\u001b[0m\n\u001b[1;32m   1385\u001b[0m         \u001b[1;32mif\u001b[0m \u001b[0mres\u001b[0m \u001b[1;32mis\u001b[0m \u001b[1;32mNone\u001b[0m\u001b[1;33m:\u001b[0m\u001b[1;33m\u001b[0m\u001b[0m\n\u001b[0;32m-> 1386\u001b[0;31m             \u001b[0mvalues\u001b[0m \u001b[1;33m=\u001b[0m \u001b[0mself\u001b[0m\u001b[1;33m.\u001b[0m\u001b[0m_data\u001b[0m\u001b[1;33m.\u001b[0m\u001b[0mget\u001b[0m\u001b[1;33m(\u001b[0m\u001b[0mitem\u001b[0m\u001b[1;33m)\u001b[0m\u001b[1;33m\u001b[0m\u001b[0m\n\u001b[0m\u001b[1;32m   1387\u001b[0m             \u001b[0mres\u001b[0m \u001b[1;33m=\u001b[0m \u001b[0mself\u001b[0m\u001b[1;33m.\u001b[0m\u001b[0m_box_item_values\u001b[0m\u001b[1;33m(\u001b[0m\u001b[0mitem\u001b[0m\u001b[1;33m,\u001b[0m \u001b[0mvalues\u001b[0m\u001b[1;33m)\u001b[0m\u001b[1;33m\u001b[0m\u001b[0m\n\u001b[1;32m   1388\u001b[0m             \u001b[0mcache\u001b[0m\u001b[1;33m[\u001b[0m\u001b[0mitem\u001b[0m\u001b[1;33m]\u001b[0m \u001b[1;33m=\u001b[0m \u001b[0mres\u001b[0m\u001b[1;33m\u001b[0m\u001b[0m\n",
      "\u001b[0;32mD:\\Anaconda3\\lib\\site-packages\\pandas\\core\\internals.py\u001b[0m in \u001b[0;36mget\u001b[0;34m(self, item, fastpath)\u001b[0m\n\u001b[1;32m   3541\u001b[0m \u001b[1;33m\u001b[0m\u001b[0m\n\u001b[1;32m   3542\u001b[0m             \u001b[1;32mif\u001b[0m \u001b[1;32mnot\u001b[0m \u001b[0misnull\u001b[0m\u001b[1;33m(\u001b[0m\u001b[0mitem\u001b[0m\u001b[1;33m)\u001b[0m\u001b[1;33m:\u001b[0m\u001b[1;33m\u001b[0m\u001b[0m\n\u001b[0;32m-> 3543\u001b[0;31m                 \u001b[0mloc\u001b[0m \u001b[1;33m=\u001b[0m \u001b[0mself\u001b[0m\u001b[1;33m.\u001b[0m\u001b[0mitems\u001b[0m\u001b[1;33m.\u001b[0m\u001b[0mget_loc\u001b[0m\u001b[1;33m(\u001b[0m\u001b[0mitem\u001b[0m\u001b[1;33m)\u001b[0m\u001b[1;33m\u001b[0m\u001b[0m\n\u001b[0m\u001b[1;32m   3544\u001b[0m             \u001b[1;32melse\u001b[0m\u001b[1;33m:\u001b[0m\u001b[1;33m\u001b[0m\u001b[0m\n\u001b[1;32m   3545\u001b[0m                 \u001b[0mindexer\u001b[0m \u001b[1;33m=\u001b[0m \u001b[0mnp\u001b[0m\u001b[1;33m.\u001b[0m\u001b[0marange\u001b[0m\u001b[1;33m(\u001b[0m\u001b[0mlen\u001b[0m\u001b[1;33m(\u001b[0m\u001b[0mself\u001b[0m\u001b[1;33m.\u001b[0m\u001b[0mitems\u001b[0m\u001b[1;33m)\u001b[0m\u001b[1;33m)\u001b[0m\u001b[1;33m[\u001b[0m\u001b[0misnull\u001b[0m\u001b[1;33m(\u001b[0m\u001b[0mself\u001b[0m\u001b[1;33m.\u001b[0m\u001b[0mitems\u001b[0m\u001b[1;33m)\u001b[0m\u001b[1;33m]\u001b[0m\u001b[1;33m\u001b[0m\u001b[0m\n",
      "\u001b[0;32mD:\\Anaconda3\\lib\\site-packages\\pandas\\indexes\\base.py\u001b[0m in \u001b[0;36mget_loc\u001b[0;34m(self, key, method, tolerance)\u001b[0m\n\u001b[1;32m   2134\u001b[0m                 \u001b[1;32mreturn\u001b[0m \u001b[0mself\u001b[0m\u001b[1;33m.\u001b[0m\u001b[0m_engine\u001b[0m\u001b[1;33m.\u001b[0m\u001b[0mget_loc\u001b[0m\u001b[1;33m(\u001b[0m\u001b[0mkey\u001b[0m\u001b[1;33m)\u001b[0m\u001b[1;33m\u001b[0m\u001b[0m\n\u001b[1;32m   2135\u001b[0m             \u001b[1;32mexcept\u001b[0m \u001b[0mKeyError\u001b[0m\u001b[1;33m:\u001b[0m\u001b[1;33m\u001b[0m\u001b[0m\n\u001b[0;32m-> 2136\u001b[0;31m                 \u001b[1;32mreturn\u001b[0m \u001b[0mself\u001b[0m\u001b[1;33m.\u001b[0m\u001b[0m_engine\u001b[0m\u001b[1;33m.\u001b[0m\u001b[0mget_loc\u001b[0m\u001b[1;33m(\u001b[0m\u001b[0mself\u001b[0m\u001b[1;33m.\u001b[0m\u001b[0m_maybe_cast_indexer\u001b[0m\u001b[1;33m(\u001b[0m\u001b[0mkey\u001b[0m\u001b[1;33m)\u001b[0m\u001b[1;33m)\u001b[0m\u001b[1;33m\u001b[0m\u001b[0m\n\u001b[0m\u001b[1;32m   2137\u001b[0m \u001b[1;33m\u001b[0m\u001b[0m\n\u001b[1;32m   2138\u001b[0m         \u001b[0mindexer\u001b[0m \u001b[1;33m=\u001b[0m \u001b[0mself\u001b[0m\u001b[1;33m.\u001b[0m\u001b[0mget_indexer\u001b[0m\u001b[1;33m(\u001b[0m\u001b[1;33m[\u001b[0m\u001b[0mkey\u001b[0m\u001b[1;33m]\u001b[0m\u001b[1;33m,\u001b[0m \u001b[0mmethod\u001b[0m\u001b[1;33m=\u001b[0m\u001b[0mmethod\u001b[0m\u001b[1;33m,\u001b[0m \u001b[0mtolerance\u001b[0m\u001b[1;33m=\u001b[0m\u001b[0mtolerance\u001b[0m\u001b[1;33m)\u001b[0m\u001b[1;33m\u001b[0m\u001b[0m\n",
      "\u001b[0;32mpandas\\index.pyx\u001b[0m in \u001b[0;36mpandas.index.IndexEngine.get_loc (pandas\\index.c:4433)\u001b[0;34m()\u001b[0m\n",
      "\u001b[0;32mpandas\\index.pyx\u001b[0m in \u001b[0;36mpandas.index.IndexEngine.get_loc (pandas\\index.c:4279)\u001b[0;34m()\u001b[0m\n",
      "\u001b[0;32mpandas\\src\\hashtable_class_helper.pxi\u001b[0m in \u001b[0;36mpandas.hashtable.PyObjectHashTable.get_item (pandas\\hashtable.c:13742)\u001b[0;34m()\u001b[0m\n",
      "\u001b[0;32mpandas\\src\\hashtable_class_helper.pxi\u001b[0m in \u001b[0;36mpandas.hashtable.PyObjectHashTable.get_item (pandas\\hashtable.c:13696)\u001b[0;34m()\u001b[0m\n",
      "\u001b[0;31mKeyError\u001b[0m: 'Call_Received_Date_Time'"
     ]
    }
   ],
   "source": [
    "def get_unixtime(time):    \n",
    "    return (time.astype(np.int64)/1e6).astype(np.int64)\n",
    "\n",
    "import time\n",
    "incident['Call_Received_Date_Time'] = pd.to_datetime(incident['Call_Received_Date_Time'])\n",
    "incident['Call_Cleared_Date_Time'] = pd.to_datetime(incident['Call_Cleared_Date_Time'])\n",
    "incident['Call_Dispatch_Date_Time'] = pd.to_datetime(incident['Call_Dispatch_Date_Time'])\n",
    "\n",
    "incident['Call_Received_Date_Time_epoch']= get_unixtime(incident['Call_Received_Date_Time'])\n",
    "incident['Call_Cleared_Date_Time_epoch']=get_unixtime(incident['Call_Cleared_Date_Time'])\n",
    "incident['Call_Dispatch_Date_Time_epoch']=get_unixtime(incident['Call_Dispatch_Date_Time'])"
   ]
  },
  {
   "cell_type": "code",
   "execution_count": 9,
   "metadata": {},
   "outputs": [
    {
     "ename": "ValueError",
     "evalue": "labels ['Incident_Number_w/year' 'Year_of_Incident' 'Service_Number_ID'\n 'Type_of_Incident' 'Type_Location' 'Reporting_Area' 'Beat' 'Sector'\n 'Council_District' 'Call_Received_Date_Time' 'Call_Cleared_Date_Time'\n 'Call_Dispatch_Date_Time' 'Person_Involvement_Type' 'Victim_Gender'\n 'Offense_Status' 'Victim_Condition' 'Family_Offense' 'Weapon_Used'\n 'RMS_Code' 'UCR_Code' 'Zip_Code' 'City' 'State' 'Location1'\n 'Call_Received' 'Call_Cleared' 'Call_Dispatch' 'Latitude' 'Longitude'\n 'Unnamed: 0'] not contained in axis",
     "output_type": "error",
     "traceback": [
      "\u001b[0;31m---------------------------------------------------------------------------\u001b[0m",
      "\u001b[0;31mValueError\u001b[0m                                Traceback (most recent call last)",
      "\u001b[0;32m<ipython-input-9-86f79bc41c4b>\u001b[0m in \u001b[0;36m<module>\u001b[0;34m()\u001b[0m\n\u001b[1;32m      5\u001b[0m                           \u001b[1;34m'Victim_Gender'\u001b[0m\u001b[1;33m,\u001b[0m \u001b[1;34m'Offense_Status'\u001b[0m\u001b[1;33m,\u001b[0m \u001b[1;34m'Victim_Condition'\u001b[0m\u001b[1;33m,\u001b[0m\u001b[1;34m'Family_Offense'\u001b[0m\u001b[1;33m,\u001b[0m \u001b[1;34m'Weapon_Used'\u001b[0m\u001b[1;33m,\u001b[0m\u001b[1;33m\u001b[0m\u001b[0m\n\u001b[1;32m      6\u001b[0m                           \u001b[1;34m'RMS_Code'\u001b[0m\u001b[1;33m,\u001b[0m \u001b[1;34m'UCR_Code'\u001b[0m\u001b[1;33m,\u001b[0m \u001b[1;34m'Zip_Code'\u001b[0m\u001b[1;33m,\u001b[0m \u001b[1;34m'City'\u001b[0m\u001b[1;33m,\u001b[0m \u001b[1;34m'State'\u001b[0m\u001b[1;33m,\u001b[0m\u001b[1;33m\u001b[0m\u001b[0m\n\u001b[0;32m----> 7\u001b[0;31m                           'Location1', 'Call_Received', 'Call_Cleared', 'Call_Dispatch','Latitude', 'Longitude','Unnamed: 0'],axis=1)\n\u001b[0m\u001b[1;32m      8\u001b[0m \u001b[1;33m\u001b[0m\u001b[0m\n\u001b[1;32m      9\u001b[0m \u001b[0mincident\u001b[0m\u001b[1;33m=\u001b[0m \u001b[0mincident\u001b[0m\u001b[1;33m.\u001b[0m\u001b[0mdropna\u001b[0m\u001b[1;33m(\u001b[0m\u001b[1;33m)\u001b[0m\u001b[1;33m\u001b[0m\u001b[0m\n",
      "\u001b[0;32mD:\\Anaconda3\\lib\\site-packages\\pandas\\core\\generic.py\u001b[0m in \u001b[0;36mdrop\u001b[0;34m(self, labels, axis, level, inplace, errors)\u001b[0m\n\u001b[1;32m   1905\u001b[0m                 \u001b[0mnew_axis\u001b[0m \u001b[1;33m=\u001b[0m \u001b[0maxis\u001b[0m\u001b[1;33m.\u001b[0m\u001b[0mdrop\u001b[0m\u001b[1;33m(\u001b[0m\u001b[0mlabels\u001b[0m\u001b[1;33m,\u001b[0m \u001b[0mlevel\u001b[0m\u001b[1;33m=\u001b[0m\u001b[0mlevel\u001b[0m\u001b[1;33m,\u001b[0m \u001b[0merrors\u001b[0m\u001b[1;33m=\u001b[0m\u001b[0merrors\u001b[0m\u001b[1;33m)\u001b[0m\u001b[1;33m\u001b[0m\u001b[0m\n\u001b[1;32m   1906\u001b[0m             \u001b[1;32melse\u001b[0m\u001b[1;33m:\u001b[0m\u001b[1;33m\u001b[0m\u001b[0m\n\u001b[0;32m-> 1907\u001b[0;31m                 \u001b[0mnew_axis\u001b[0m \u001b[1;33m=\u001b[0m \u001b[0maxis\u001b[0m\u001b[1;33m.\u001b[0m\u001b[0mdrop\u001b[0m\u001b[1;33m(\u001b[0m\u001b[0mlabels\u001b[0m\u001b[1;33m,\u001b[0m \u001b[0merrors\u001b[0m\u001b[1;33m=\u001b[0m\u001b[0merrors\u001b[0m\u001b[1;33m)\u001b[0m\u001b[1;33m\u001b[0m\u001b[0m\n\u001b[0m\u001b[1;32m   1908\u001b[0m             \u001b[0mdropped\u001b[0m \u001b[1;33m=\u001b[0m \u001b[0mself\u001b[0m\u001b[1;33m.\u001b[0m\u001b[0mreindex\u001b[0m\u001b[1;33m(\u001b[0m\u001b[1;33m**\u001b[0m\u001b[1;33m{\u001b[0m\u001b[0maxis_name\u001b[0m\u001b[1;33m:\u001b[0m \u001b[0mnew_axis\u001b[0m\u001b[1;33m}\u001b[0m\u001b[1;33m)\u001b[0m\u001b[1;33m\u001b[0m\u001b[0m\n\u001b[1;32m   1909\u001b[0m             \u001b[1;32mtry\u001b[0m\u001b[1;33m:\u001b[0m\u001b[1;33m\u001b[0m\u001b[0m\n",
      "\u001b[0;32mD:\\Anaconda3\\lib\\site-packages\\pandas\\indexes\\base.py\u001b[0m in \u001b[0;36mdrop\u001b[0;34m(self, labels, errors)\u001b[0m\n\u001b[1;32m   3260\u001b[0m             \u001b[1;32mif\u001b[0m \u001b[0merrors\u001b[0m \u001b[1;33m!=\u001b[0m \u001b[1;34m'ignore'\u001b[0m\u001b[1;33m:\u001b[0m\u001b[1;33m\u001b[0m\u001b[0m\n\u001b[1;32m   3261\u001b[0m                 raise ValueError('labels %s not contained in axis' %\n\u001b[0;32m-> 3262\u001b[0;31m                                  labels[mask])\n\u001b[0m\u001b[1;32m   3263\u001b[0m             \u001b[0mindexer\u001b[0m \u001b[1;33m=\u001b[0m \u001b[0mindexer\u001b[0m\u001b[1;33m[\u001b[0m\u001b[1;33m~\u001b[0m\u001b[0mmask\u001b[0m\u001b[1;33m]\u001b[0m\u001b[1;33m\u001b[0m\u001b[0m\n\u001b[1;32m   3264\u001b[0m         \u001b[1;32mreturn\u001b[0m \u001b[0mself\u001b[0m\u001b[1;33m.\u001b[0m\u001b[0mdelete\u001b[0m\u001b[1;33m(\u001b[0m\u001b[0mindexer\u001b[0m\u001b[1;33m)\u001b[0m\u001b[1;33m\u001b[0m\u001b[0m\n",
      "\u001b[0;31mValueError\u001b[0m: labels ['Incident_Number_w/year' 'Year_of_Incident' 'Service_Number_ID'\n 'Type_of_Incident' 'Type_Location' 'Reporting_Area' 'Beat' 'Sector'\n 'Council_District' 'Call_Received_Date_Time' 'Call_Cleared_Date_Time'\n 'Call_Dispatch_Date_Time' 'Person_Involvement_Type' 'Victim_Gender'\n 'Offense_Status' 'Victim_Condition' 'Family_Offense' 'Weapon_Used'\n 'RMS_Code' 'UCR_Code' 'Zip_Code' 'City' 'State' 'Location1'\n 'Call_Received' 'Call_Cleared' 'Call_Dispatch' 'Latitude' 'Longitude'\n 'Unnamed: 0'] not contained in axis"
     ]
    }
   ],
   "source": [
    "# Drop columns that do not contribute towards our model\n",
    "incident = incident.drop(['Incident_Number_w/year','Year_of_Incident', 'Service_Number_ID', 'Type_of_Incident','Type_Location', \n",
    "                          'Reporting_Area', 'Beat', 'Sector','Council_District','Call_Received_Date_Time',\n",
    "                          'Call_Cleared_Date_Time', 'Call_Dispatch_Date_Time','Person_Involvement_Type', \n",
    "                          'Victim_Gender', 'Offense_Status', 'Victim_Condition','Family_Offense', 'Weapon_Used', \n",
    "                          'RMS_Code', 'UCR_Code', 'Zip_Code', 'City', 'State',\n",
    "                          'Location1', 'Call_Received', 'Call_Cleared', 'Call_Dispatch','Latitude', 'Longitude','Unnamed: 0'],axis=1)\n",
    "\n",
    "incident= incident.dropna()"
   ]
  },
  {
   "cell_type": "code",
   "execution_count": 10,
   "metadata": {},
   "outputs": [
    {
     "name": "stdout",
     "output_type": "stream",
     "text": [
      "<class 'pandas.core.frame.DataFrame'>\n",
      "Int64Index: 184971 entries, 0 to 255153\n",
      "Data columns (total 23 columns):\n",
      "Watch                            184971 non-null int64\n",
      "Division                         184971 non-null int8\n",
      "Day1_of_the_Week                 184971 non-null int8\n",
      "Victim_Type                      184971 non-null int8\n",
      "Victim_Race                      184971 non-null int8\n",
      "Victim_Age                       184971 non-null int32\n",
      "Hate_Crime                       184971 non-null int64\n",
      "Gang_Related_Offense             184971 non-null int64\n",
      "Drug_Related                     184971 non-null int64\n",
      "UCR_Offense_Name                 184971 non-null int8\n",
      "X_Coordinate                     184971 non-null float64\n",
      "Y_Coordinate                     184971 non-null float64\n",
      "UCR_Offense_Description          184971 non-null int8\n",
      "Number_of_offense                184971 non-null int32\n",
      "Response_time                    184971 non-null int32\n",
      "Arrest_status                    184971 non-null int64\n",
      "Call_Received_Hour               184971 non-null float64\n",
      "Res_time_category                184971 non-null int8\n",
      "IsMale                           184971 non-null int32\n",
      "Social_crime_score               184971 non-null int64\n",
      "Call_Received_Date_Time_epoch    184971 non-null int64\n",
      "Call_Cleared_Date_Time_epoch     184971 non-null int64\n",
      "Call_Dispatch_Date_Time_epoch    184971 non-null int64\n",
      "dtypes: float64(3), int32(4), int64(9), int8(7)\n",
      "memory usage: 22.4 MB\n"
     ]
    }
   ],
   "source": [
    "incident.info()\n",
    "\n",
    "## TRY ADDING UCR_OFFENSE_DESC"
   ]
  },
  {
   "cell_type": "code",
   "execution_count": 11,
   "metadata": {
    "collapsed": true
   },
   "outputs": [],
   "source": [
    "# incident= incident[['Watch', 'Division', 'Day1_of_the_Week', 'Victim_Type', 'Victim_Race',\n",
    "#                     'Victim_Age', 'Hate_Crime', 'Gang_Related_Offense', 'Drug_Related',\n",
    "#                     'UCR_Offense_Name', 'Number_of_offense',\n",
    "#                     'Response_time', 'Arrest_status', 'Call_Received_Hour', 'IsMale',\n",
    "#                     'Social_crime_score', 'Call_Received_Date_Time_epoch',\n",
    "#                     'Call_Cleared_Date_Time_epoch', 'Call_Dispatch_Date_Time_epoch']]"
   ]
  },
  {
   "cell_type": "markdown",
   "metadata": {},
   "source": [
    "### Response Variable Analysis\n",
    "\n",
    "As part of this analysis, we look at the distinct values and distribution of the response variable. \n",
    "\n",
    "- Arrest status\n",
    "\n",
    "- Response time category"
   ]
  },
  {
   "cell_type": "code",
   "execution_count": 12,
   "metadata": {},
   "outputs": [
    {
     "name": "stdout",
     "output_type": "stream",
     "text": [
      "Class 0: 166451\n",
      "Class 1: 18520\n"
     ]
    },
    {
     "data": {
      "text/plain": [
       "<matplotlib.figure.Figure at 0x1b32e888f98>"
      ]
     },
     "metadata": {},
     "output_type": "display_data"
    },
    {
     "data": {
      "image/png": "[encoded data removed]",
      "text/plain": [
       "<matplotlib.figure.Figure at 0x1b32e889748>"
      ]
     },
     "metadata": {},
     "output_type": "display_data"
    }
   ],
   "source": [
    "# Explore response variable distribution\n",
    "plt.figure(figsize=(8,5))\n",
    "target_count = incident.Arrest_status.value_counts()\n",
    "print('Class 0:', target_count[0])\n",
    "print('Class 1:', target_count[1])\n",
    "# print('Proportion:', round(target_count[0] / target_count[1], 2), ': 1')\n",
    "\n",
    "# Draw bar plot\n",
    "\n",
    "# data to plot\n",
    "n_groups = 1\n",
    "NoArrest=incident.Arrest_status.value_counts()[0]\n",
    "Arrest=incident.Arrest_status.value_counts()[1]\n",
    " \n",
    "# create plot\n",
    "index = np.arange(n_groups)\n",
    "bar_width = 0.5\n",
    "opacity = 0.8\n",
    "plt.figure(figsize=(10,6))\n",
    "plt.bar(index, NoArrest, bar_width,\n",
    "                 alpha=opacity,\n",
    "                 color='g',\n",
    "                 label='No Arrest')\n",
    " \n",
    "plt.bar(index + bar_width, Arrest, bar_width,\n",
    "                 alpha=opacity,\n",
    "                 color='r',\n",
    "                 label='Arrest')\n",
    " \n",
    "plt.xlabel('Arrest Status')\n",
    "plt.ylabel('Number of Incident')\n",
    "plt.title('Dallas City Police Incident Vs. Arrest Status Before Resampling')\n",
    "plt.xlim(-0.8, 2)\n",
    "plt.xticks(index + bar_width/2, (''))\n",
    "plt.legend()\n",
    " \n",
    "plt.show()"
   ]
  },
  {
   "cell_type": "code",
   "execution_count": 13,
   "metadata": {},
   "outputs": [
    {
     "name": "stdout",
     "output_type": "stream",
     "text": [
      "Class 0: 94192\n",
      "Class 1: 44893\n",
      "Class 2: 27847\n",
      "Class 3: 18039\n"
     ]
    },
    {
     "data": {
      "text/plain": [
       "<matplotlib.figure.Figure at 0x1b33eb55710>"
      ]
     },
     "metadata": {},
     "output_type": "display_data"
    },
    {
     "data": {
      "image/png": "[encoded data removed]",
      "text/plain": [
       "<matplotlib.figure.Figure at 0x1b33eb554e0>"
      ]
     },
     "metadata": {},
     "output_type": "display_data"
    }
   ],
   "source": [
    "# Explore response variable distribution\n",
    "plt.figure(figsize=(8,5))\n",
    "target_count = incident.Res_time_category.value_counts()\n",
    "print('Class 0:', target_count[0])\n",
    "print('Class 1:', target_count[1])\n",
    "print('Class 2:', target_count[2])\n",
    "print('Class 3:', target_count[3])\n",
    "\n",
    "# print('Proportion:', round(target_count[0] / target_count[1], 2), ': 1')\n",
    "# print('Proportion1:', round(target_count[0] / target_count[2], 2), ': 1')\n",
    "# print('Proportion2:', round(target_count[0] / target_count[3], 2), ': 1')\n",
    "\n",
    "# (0-11)(Emergency), 11-31(Urgent), 31-60(Important), (60-max)(Non_Urgent)\n",
    "\n",
    "\n",
    "# data to plot\n",
    "n_groups = 1\n",
    "Emergent=incident.Res_time_category.value_counts()[0]\n",
    "Urgent=incident.Res_time_category.value_counts()[1]\n",
    "Important=incident.Res_time_category.value_counts()[2]\n",
    "Non_Urgent=incident.Res_time_category.value_counts()[3] \n",
    "# create plot\n",
    "index = np.arange(n_groups)\n",
    "bar_width = 0.5\n",
    "opacity = 0.8\n",
    "plt.figure(figsize=(10,6))\n",
    "plt.bar(index, Emergent, bar_width,\n",
    "                 alpha=opacity,\n",
    "                 color='g',\n",
    "                 label='Emergency')\n",
    " \n",
    "plt.bar(index + bar_width, Urgent, bar_width,\n",
    "                 alpha=opacity,\n",
    "                 color='r',\n",
    "                 label='Urgent')\n",
    " \n",
    "plt.bar(index + bar_width+ 0.5, Important, bar_width,\n",
    "                 alpha=opacity,\n",
    "                 color='b',\n",
    "                 label='Important')\n",
    "\n",
    "plt.bar(index + bar_width+ 1.0 , Non_Urgent, bar_width,\n",
    "                 alpha=opacity,\n",
    "                 color='c',\n",
    "                 label='Non_Urgent')\n",
    "\n",
    "plt.xlabel('Response time category')\n",
    "plt.ylabel('Number of Incident')\n",
    "plt.title('Dallas City Police Incident Vs. Response time Before Resampling')\n",
    "plt.xlim(-0.8, 2)\n",
    "plt.xticks(index + bar_width/2, (''))\n",
    "plt.legend()\n",
    " \n",
    "plt.show()"
   ]
  },
  {
   "cell_type": "markdown",
   "metadata": {},
   "source": [
    "### Resampling (Downsampling) the data set\n",
    "\n",
    "Based on the above analysis, we have almost 10 times the number of samples for perpetrator not being arrested compared to where an arrest is made. \n",
    "\n",
    "In an imbalanced class, we cannot reliably use accuracy to measure performance. This makes training the model very tricky. The model may predict the majority class better and sometimes ignore the minority class completely. There are 2 ways to blanace the data set: downsampling and upsampling. We selected the downsampling as we have a big dataset. It will run long time in SVM if we choose upsampling method.\n",
    "\n",
    "We perform down-sample by \n",
    "1. Separating observations based on class\n",
    "2. Resample the majority class without replacement after setting the number of samples to match the minorit class count\n",
    "3. Combine the down-sampled majority class and the original minority class\n",
    "\n",
    "Finally, we plot the distribution of distinct classes of the response variable to check that it is balanced before proceeding with further analysis.\n",
    "\n",
    "Source: https://elitedatascience.com/imbalanced-classes"
   ]
  },
  {
   "cell_type": "code",
   "execution_count": 14,
   "metadata": {},
   "outputs": [
    {
     "data": {
      "text/plain": [
       "1    18520\n",
       "0    18520\n",
       "Name: Arrest_status, dtype: int64"
      ]
     },
     "execution_count": 14,
     "metadata": {},
     "output_type": "execute_result"
    }
   ],
   "source": [
    "# Import resample package\n",
    "from sklearn.utils import resample\n",
    "\n",
    "# Downsampling\n",
    "df_majority = incident[incident.Arrest_status==0]\n",
    "df_minority = incident[incident.Arrest_status==1]\n",
    " \n",
    "# Downsample majority class\n",
    "df_majority_downsampled = resample(df_majority, \n",
    "                                 replace=False,    # sample without replacement\n",
    "                                 n_samples=18520,  # to match minority class\n",
    "                                 random_state=123) # reproducible results\n",
    " \n",
    "# Combine minority class with downsampled majority class\n",
    "df_downsampled = pd.concat([df_majority_downsampled, df_minority])\n",
    " \n",
    "# Display new class counts\n",
    "df_downsampled.Arrest_status.value_counts()"
   ]
  },
  {
   "cell_type": "code",
   "execution_count": 15,
   "metadata": {},
   "outputs": [
    {
     "data": {
      "image/png": "[encoded data removed]",
      "text/plain": [
       "<matplotlib.figure.Figure at 0x1b34261d3c8>"
      ]
     },
     "metadata": {},
     "output_type": "display_data"
    }
   ],
   "source": [
    "n_groups = 1\n",
    "NoArrest=df_downsampled.Arrest_status.value_counts()[0]\n",
    "Arrest=df_downsampled.Arrest_status.value_counts()[1]\n",
    " \n",
    "# create plot\n",
    "#ax = plt.subplots()\n",
    "index = np.arange(n_groups)\n",
    "bar_width = 0.5\n",
    "opacity = 0.8\n",
    "plt.figure(figsize=(10,6))\n",
    "plt.bar(index, \n",
    "        NoArrest, \n",
    "        bar_width,\n",
    "        alpha=opacity,\n",
    "        color='g',\n",
    "        label='No Arrest')\n",
    " \n",
    "plt.bar(index + bar_width, \n",
    "        Arrest, \n",
    "        bar_width,\n",
    "        alpha=opacity,\n",
    "        color='r',\n",
    "        label='Arrest')\n",
    " \n",
    "plt.xlabel('Arrest Status')\n",
    "plt.ylabel('Number of Incident')\n",
    "plt.title('Dallas City Police Incident Vs. Arrest Status After Resampling')\n",
    "plt.xlim(-0.8, 2)\n",
    "plt.xticks(index + bar_width/2, (''))\n",
    "plt.legend()\n",
    " \n",
    "#plt.tight_layout()\n",
    "plt.show()"
   ]
  },
  {
   "cell_type": "code",
   "execution_count": 16,
   "metadata": {},
   "outputs": [
    {
     "name": "stdout",
     "output_type": "stream",
     "text": [
      "Class 0: 21280\n",
      "Class 1: 8334\n",
      "Class 2: 4572\n",
      "Class 3: 2854\n"
     ]
    },
    {
     "data": {
      "text/plain": [
       "<matplotlib.figure.Figure at 0x1b355ee72b0>"
      ]
     },
     "metadata": {},
     "output_type": "display_data"
    },
    {
     "data": {
      "image/png": "[encoded data removed]",
      "text/plain": [
       "<matplotlib.figure.Figure at 0x1b33eb4e5c0>"
      ]
     },
     "metadata": {},
     "output_type": "display_data"
    }
   ],
   "source": [
    "# Explore response variable distribution\n",
    "plt.figure(figsize=(8,5))\n",
    "target_count = df_downsampled.Res_time_category.value_counts()\n",
    "print('Class 0:', target_count[0])\n",
    "print('Class 1:', target_count[1])\n",
    "print('Class 2:', target_count[2])\n",
    "print('Class 3:', target_count[3])\n",
    "\n",
    "# print('Proportion:', round(target_count[0] / target_count[1], 2), ': 1')\n",
    "# print('Proportion1:', round(target_count[0] / target_count[2], 2), ': 1')\n",
    "# print('Proportion2:', round(target_count[0] / target_count[3], 2), ': 1')\n",
    "\n",
    "# (0-11)(Emergency), 11-31(Urgent), 31-60(Important), (60-max)(Non_Urgent)\n",
    "\n",
    "\n",
    "# data to plot\n",
    "n_groups = 1\n",
    "Emergent=df_downsampled.Res_time_category.value_counts()[0]\n",
    "Urgent=df_downsampled.Res_time_category.value_counts()[1]\n",
    "Important=df_downsampled.Res_time_category.value_counts()[2]\n",
    "Non_Urgent=df_downsampled.Res_time_category.value_counts()[3] \n",
    "\n",
    "# create plot\n",
    "index = np.arange(n_groups)\n",
    "bar_width = 0.5\n",
    "opacity = 0.8\n",
    "plt.figure(figsize=(10,6))\n",
    "plt.bar(index, Emergent, bar_width,\n",
    "                 alpha=opacity,\n",
    "                 color='g',\n",
    "                 label='Emergency')\n",
    " \n",
    "plt.bar(index + bar_width, Urgent, bar_width,\n",
    "                 alpha=opacity,\n",
    "                 color='r',\n",
    "                 label='Urgent')\n",
    " \n",
    "plt.bar(index + bar_width+ 0.5, Important, bar_width,\n",
    "                 alpha=opacity,\n",
    "                 color='b',\n",
    "                 label='Important')\n",
    "\n",
    "plt.bar(index + bar_width+ 1.0 , Non_Urgent, bar_width,\n",
    "                 alpha=opacity,\n",
    "                 color='c',\n",
    "                 label='Non_Urgent')\n",
    "\n",
    "plt.xlabel('Response time category')\n",
    "plt.ylabel('Number of Incident')\n",
    "plt.title('Dallas City Police Incident Vs. Response time After Resampling')\n",
    "plt.xlim(-0.8, 2)\n",
    "plt.xticks(index + bar_width/2, (''))\n",
    "plt.legend()\n",
    " \n",
    "plt.show()"
   ]
  },
  {
   "cell_type": "code",
   "execution_count": 17,
   "metadata": {
    "collapsed": true
   },
   "outputs": [],
   "source": [
    "# copy the down sampled dataset to the original incident data frame and continue the analysis\n",
    "incident= df_downsampled.copy()"
   ]
  },
  {
   "cell_type": "markdown",
   "metadata": {},
   "source": [
    "### Collinearity\n",
    "\n",
    "During Lab 1 data exploration, the team identified the attributes in the original dataset to have multicollinearity. In other words, one predictor variable in the regression model can be linearly predicted from the others with a substantial degree of accuracy.\n",
    "\n",
    "During this Mini Lab exercise, some additional collinearity was introduced because:\n",
    " * Continous Variables were converted to Categorical variables (e.g.: Response Time & Victim Age are converted to Categorical)\n",
    " * Derived Features based on (or a combination of) values of existing features (e.g.: Social Crime Score)\n",
    " * Identical features where one was a roll up of the other (e.g.: Watch & Call Received Hour)\n",
    " \n",
    "Based on the analysis of Correlation Matrix, we would be dropping one of the columns from the pair that are highly correlated."
   ]
  },
  {
   "cell_type": "code",
   "execution_count": 18,
   "metadata": {},
   "outputs": [
    {
     "name": "stdout",
     "output_type": "stream",
     "text": [
      "Res_time_category        Response_time              0.955328\n",
      "Drug_Related             Social_crime_score         0.841239\n",
      "Watch                    Call_Received_Hour         0.732130\n",
      "UCR_Offense_Description  UCR_Offense_Name           0.690865\n",
      "Social_crime_score       Gang_Related_Offense       0.565914\n",
      "                                                      ...   \n",
      "Arrest_status            Response_time             -0.179920\n",
      "                         UCR_Offense_Description   -0.244570\n",
      "Victim_Race              Division                  -0.285132\n",
      "Arrest_status            UCR_Offense_Name          -0.311077\n",
      "Division                 Y_Coordinate              -0.632288\n",
      "dtype: float64\n"
     ]
    }
   ],
   "source": [
    "# Create correlation matrix\n",
    "CorrMat = incident.corr()\n",
    "\n",
    "# Highest Correlation Pairs\n",
    "corrPairs = CorrMat.unstack().sort_values(kind=\"quicksort\", ascending=False)\n",
    "\n",
    "# REMOVE DUPLICATES\n",
    "corrPairs = corrPairs[::2]\n",
    "corrPairs = corrPairs[corrPairs.index.get_level_values(0) != corrPairs.index.get_level_values(1)]\n",
    "with pd.option_context('display.max_rows',10):\n",
    "    print(corrPairs)"
   ]
  },
  {
   "cell_type": "code",
   "execution_count": 19,
   "metadata": {},
   "outputs": [
    {
     "name": "stdout",
     "output_type": "stream",
     "text": [
      "UCR_Offense_Name               UCR_Offense_Description          0.690865\n",
      "Call_Dispatch_Date_Time_epoch  Call_Received_Date_Time_epoch    0.313625\n",
      "Victim_Race                    Y_Coordinate                     0.252684\n",
      "Call_Cleared_Date_Time_epoch   Call_Received_Date_Time_epoch    0.140156\n",
      "Victim_Race                    UCR_Offense_Name                 0.129969\n",
      "                                                                  ...   \n",
      "Res_time_category              Arrest_status                   -0.178764\n",
      "UCR_Offense_Description        Arrest_status                   -0.244570\n",
      "Division                       Victim_Race                     -0.285132\n",
      "UCR_Offense_Name               Arrest_status                   -0.311077\n",
      "Division                       Y_Coordinate                    -0.632288\n",
      "dtype: float64\n"
     ]
    }
   ],
   "source": [
    "# Drop highly correlated, insignificant and high VIF variables.\n",
    "incident = incident.drop(['Drug_Related','Watch','Gang_Related_Offense','Hate_Crime','Response_time'], axis=1)\n",
    "\n",
    "# Create correlation matrix\n",
    "CorrMat = incident.corr()\n",
    "\n",
    "# Highest Correlation Pairs\n",
    "corrPairs = CorrMat.unstack().sort_values(kind=\"quicksort\", ascending=False)\n",
    "\n",
    "# Remove Duplicates\n",
    "corrPairs = corrPairs[::2]\n",
    "corrPairs = corrPairs[corrPairs.index.get_level_values(0) != corrPairs.index.get_level_values(1)]\n",
    "with pd.option_context('display.max_rows',10):\n",
    "    print(corrPairs)"
   ]
  },
  {
   "cell_type": "markdown",
   "metadata": {},
   "source": [
    "# Data Preparation Part 2"
   ]
  },
  {
   "cell_type": "code",
   "execution_count": null,
   "metadata": {},
   "outputs": [],
   "source": [
    "incident.describe()"
   ]
  },
  {
   "cell_type": "markdown",
   "metadata": {},
   "source": [
    "#### DATA DESCRIPTION TABLE HERE !!!!!!!!!!!!!!!!!!!"
   ]
  },
  {
   "cell_type": "markdown",
   "metadata": {},
   "source": [
    "Below are the definitions and descriptions of attributes we selected for our analysis:\n",
    "\n",
    "#### Attribues from original dataset:\n",
    "\n",
    "Attribute|Data Type|Description|%missing    \n",
    ":--------- | :----------------- | :-------------               | :---------\n",
    "<p align=\"left\">Watch</p>|Norminal|<p align=\"left\">Police watch 1st 2nd or 3rd (1st watch = Late Night, 2nd watch = Days and 3rd watch = Evenings)</p>|0.00\n",
    "<p align=\"left\">Day1_of_the_Week</p>|Interval|<p align=\"left\">Day of the indent based on the Date of Occurrence (Date1). Internal use</p>|0.00\n",
    "<p align=\"left\">Victim_Type</p>|Norminal|<p align=\"left\">Victim Type</p>|5.22\n",
    "<p align=\"left\">Victim_Race</p>|Norminal|<p align=\"left\">Victim Race</p>|34.53\n",
    "<p align=\"left\">Victim_Ethnicity</p>|Norminal|<p align=\"left\">Victim Ethnicity</p>|35.13\n",
    "<p align=\"left\">Victim_Gender</p>|Norminal|<p align=\"left\">Victim Gender</p>|34.50\n",
    "<p align=\"left\">Victim_Age</p>|Ratio|<p align=\"left\">Victim Age</p>|38.01\n",
    "<p align=\"left\">Hate_Crime</p>|Interval|<p align=\"left\">Yes or no if offense is a hate crime. We keep this attribute as we may find useful information in it</p>|99.88\n",
    "<p align=\"left\">Gang_Related_Offense</p>|Interval|<p align=\"left\">Yes or no if offense is gang realated</p>|15.67\n",
    "<p align=\"left\">Drug_Related_Incident</p>|Interval|<p align=\"left\">Yes or no if incident is drug related</p>|0.03\n",
    "<p align=\"left\">UCR_Offense_Name</p>|Norminal|<p align=\"left\">UCR Offense Name</p>|0.02\n",
    "<p align=\"left\">UCR_Offense_Description</p>|Norminal|<p align=\"left\">UCR Offense Description</p>|0.00"
   ]
  },
  {
   "cell_type": "markdown",
   "metadata": {},
   "source": [
    "#### Attribute we calculated:\n",
    "Attribute|Data Type|Description    \n",
    ":--------- | :----------------- | :-------------               \n",
    "<p align=\"left\">Number_of_offense</p>|Interval|<p align=\"left\">Number of Offense, calculated attribute</p>\n",
    "<p align=\"left\">Response_time</p>|Interval|<p align=\"left\">Response time, call dispatched time minus call received time, calculated attribute which will be used as response variable for task 2.</p>\n",
    "<p align=\"left\">Arrest_status</p>|Interval|<p align=\"left\">Arrest or No Arrest, calculated attribute which will be used as response variable for task 1.</p>\n",
    "<p align=\"left\">Call_Received_Hour</p>|Interval|<p align=\"left\">Call Received Hours, calculated attribute</p>\n",
    "<p align=\"left\">IsMale</p>|Interval|<p align=\"left\">Is Male or Not, calculate from the Victim Gender, calculated attribute</p>\n",
    "<p align=\"left\">Social_crime_score</p>|Interval|<p align=\"left\">Social crime score, calculated attribute from Gang_Related_Offense, Drug_Related_Incident</p>\n",
    "<p align=\"left\">Call_Received_Date_Time_epoch</p>|Interval|<p align=\"left\">Call Received Time with numeric format, calculated attribute</p>\n",
    "<p align=\"left\">Call_Cleared_Date_Time_epoch</p>|Interval|<p align=\"left\">Call Cleared Time with numeric format, calculated attribute</p>\n",
    "<p align=\"left\">Call_Dispatch_Date_Time_epoch</p>|Interval|<p align=\"left\">Call Dispatch Time with numeric format, calculated attribute</p>"
   ]
  },
  {
   "cell_type": "markdown",
   "metadata": {},
   "source": [
    "# Modeling and Evaluation 1"
   ]
  },
  {
   "cell_type": "code",
   "execution_count": null,
   "metadata": {
    "collapsed": true
   },
   "outputs": [],
   "source": []
  },
  {
   "cell_type": "markdown",
   "metadata": {},
   "source": [
    "- Choose and explain your evaluation metrics that you will use (i.e., accuracy, precision, recall, F-measure, or any metric we have discussed). \n",
    "\n",
    "The performance of the Classification models will be measured using the following evaluation metrics:\n",
    "\n",
    " - Accuracy: **True positive + True negative / (True positive + False positive + True negative + False negative)**. Refers to the closeness of a measured value to a standard or known value. It is the percentage of correct predictions\n",
    " \n",
    " - Precision: **True positive / (True positive + False positive)**. Refers to the closeness of two or more measurements to each other. It means that an algorithm returned substantially more relevant results than irrelevant ones.\n",
    " \n",
    " - Recall: **True positive / (True positive + False negative)**. Refres to the measure of completeness or quantity. It means that an algorithm returned most of the relevant results.\n",
    " \n",
    " - F1 score: Is the weighted average of Precision and Recall. Therefore, this score takes both false positives and false negatives into account. Intuitively it is not as easy to understand as accuracy, but F1 score is usually more useful than accuracy, especially with an uneven class distribution\n",
    " \n",
    " - ROC & AUC: AUC is an abbrevation for area under the curve. It is used in classification analysis in order to determine which of the models predicts the classes best. An example of its application are ROC curves. Here, the true positive rates are plotted against false positive rates.\n",
    "\n",
    "- Why are the measure(s) appropriate for analyzing the results of your modeling? Give a detailed explanation backing up any assertions.\n",
    "The metrics above provide the best measures to evaluate the models as they deliver a consistent scale on which models can be compared to each other. These types of metrics are scalar in nature where the entire model performance can be presented using a single score value. Thus, making it easier to do the comparison and analysis, although it could mask subtle details of their behaviours. Classification accuracy is the easiest classification metric to understand, but it does not tell you the underlying distribution of response values. It also does not tell you what \"types\" of errors the classifier is making. \n",
    "\n",
    "The choice of metric depends on the business objective of focus. Identification of the false positives or false negatives are important so they can be reduced as appropriate to better meet objectives. Medical applications for example i.e. identification of cancer or other ailments require a much higher degree of accuracy, precision and recall compared to other industry applications. \n",
    "\n",
    "Confusion matrices provide a more complete picture of how the classifier is performing and also allows for the computation of various classification metrics which guide model selection.\n",
    "\n",
    "Which metrics should you focus on?\n",
    "\n",
    "Choose metric with relevant variable (FP or FN in the equation)\n",
    "If a positive class is preferable then Optimize for precision or specificity\n",
    "If a negative class is preferred then Optimize for sensitivity\n",
    "\n",
    "- NearestCentroid: The metric to use when calculating distance between instances in a feature array. If metric is a string or callable, it must be one of the options allowed by metrics.pairwise.pairwise_distances for its metric parameter. The centroids for the samples corresponding to each class is the point from which the sum of the distances (according to the metric) of all samples that belong to that particular class are minimized. If the “manhattan” metric is provided, this centroid is the median and for all other metrics, the centroid is now set to be the mean.\n"
   ]
  },
  {
   "cell_type": "code",
   "execution_count": null,
   "metadata": {
    "collapsed": true
   },
   "outputs": [],
   "source": []
  },
  {
   "cell_type": "markdown",
   "metadata": {},
   "source": [
    "# Modeling and Evaluation 2 "
   ]
  },
  {
   "cell_type": "markdown",
   "metadata": {},
   "source": [
    "- Choose the method you will use for dividing your data into training and testing splits (i.e., are you using Stratified 10-fold cross validation? Why?). Explain why your chosen method is appropriate or use more than one method as appropriate. For example, if you are using time series data then you should be using continuous training and testing sets across time."
   ]
  },
  {
   "cell_type": "markdown",
   "metadata": {},
   "source": [
    "The **Stratified shufflesplit** cross validation iterator was chosen for dividing the data into training and testing data sets.  It provides train/test indices to split data into the train and test sets.\n",
    "\n",
    "- This cross-validation method is a merge of the StratifiedKFold and ShuffleSplit iterators, which returns stratified randomized folds. The folds are made by preserving the percentage of samples for each class.\n",
    "\n",
    "- In stratified k-fold cross-validation, the folds are selected so that the mean response value is approximately equal in all the folds. In the case of a dichotomous classification, this means that each fold contains roughly the same proportions of the two types of class labels.\n",
    "\n",
    "The difference between StratifiedKFold and StratifiedShuffleSplit is that StratifiedKFold just shuffles and splits once, therefore the test sets do not overlap, while StratifiedShuffleSplit shuffles each time before splitting, and it splits n_splits times, therefore the resulting test sets can overlap.\n",
    "\n",
    "    \n",
    "Parameters:\t\n",
    "y : array, [n_samples]\n",
    "\n",
    "Labels of samples.\n",
    "\n",
    "n_iter : int (default 10)\n",
    "\n",
    "Number of re-shuffling & splitting iterations.\n",
    "\n",
    "test_size : float (default 0.1), int, or None\n",
    "\n",
    "If float, should be between 0.0 and 1.0 and represent the proportion of the dataset to include in the test split. If int, represents the absolute number of test samples. If None, the value is automatically set to the complement of the train size.\n",
    "\n",
    "train_size : float, int, or None (default is None)\n",
    "\n",
    "If float, should be between 0.0 and 1.0 and represent the proportion of the dataset to include in the train split. If int, represents the absolute number of train samples. If None, the value is automatically set to the complement of the test size.\n",
    "\n",
    "random_state : int or RandomState\n",
    "\n",
    "Pseudo-random number generator state used for random sampling."
   ]
  },
  {
   "cell_type": "markdown",
   "metadata": {},
   "source": [
    "# Modeling and Evaluation 3 "
   ]
  },
  {
   "cell_type": "markdown",
   "metadata": {},
   "source": [
    "- Create three different classification/regression models for each task (e.g., random forest, KNN, and SVM for task one and the same or different algorithms for task two). Two modeling techniques must be new (but the third could be SVM or logistic regression). Adjust parameters as appropriate to increase generalization performance using your chosen metric. You must investigate different parameters of the algorithms!"
   ]
  },
  {
   "cell_type": "markdown",
   "metadata": {},
   "source": [
    "### k-NN\n",
    "In KNN classification, the output is a class membership. An object is classified by a majority vote of its neighbors, with the object being assigned to the class most common among its k nearest neighbors (k is a positive integer, typically small). If k = 1, then the object is simply assigned to the class of that single nearest neighbor.\n",
    "\n",
    "In pattern recognition, the k-nearest neighbors algorithm (k-NN) is a non-parametric method (it does not make any assumptions on the underlying data distribution) used for classification. The input consists of the k closest training examples in the feature space. The output depends on whether k-NN is used for classification or regression. It is a simple algorithm that stores all available cases and classifies new cases based on a similarity measure (e.g. distance functions).\n",
    "\n",
    "##### Limitations of k-NN\n",
    "- In high dimensions, points that may be similar may have very large distances. All points will be far away from each other and our intuition for distances in simple 2 and 3-dimensional spaces breaks down. This might feel unintuitive at first, but this general problem is called the “Curse of Dimensionality“.\n",
    "\n",
    "- Each input variable can be considered a dimension of a p-dimensional input space. For example, if you had two input variables x1 and x2, the input space would be 2-dimensional.\n",
    "\n",
    "- As the number of dimensions increases the volume of the input space increases at an exponential rate.\n",
    "\n",
    "##### Prepping for k-NN\n",
    "- Rescale Data: KNN performs much better if all of the data has the same scale. Normalizing your data to the range [0, 1] is a good idea. It may also be a good idea to standardize your data if it has a Gaussian distribution.\n",
    "\n",
    "- Address Missing Data: Missing data will mean that the distance between samples can not be calculated. These samples could be excluded or the missing values could be imputed.\n",
    "\n",
    "- Lower Dimensionality: KNN is suited for lower dimensional data. You can try it on high dimensional data (hundreds or thousands of input variables) but be aware that it may not perform as well as other techniques. KNN can benefit from feature selection that reduces the dimensionality of the input feature space.\n",
    "\n",
    "### RANDOM FORESTS\n",
    "Source: https://www.datascience.com/resources/notebooks/random-forest-intro\n",
    "\n",
    "Random forests, also known as random decision forests, are a popular ensemble method to build predictive models for both classification and regression. The ensemble methods uses multiple learning models to gain better predictive results — in the case of a random forest, the model creates an entire forest of random uncorrelated decision trees to arrive at the best possible answer.\n",
    "\n",
    "Decision trees are simple but intuitive models that utilize a top-down approach in which the root node creates binary splits until a certain criteria is met. This binary splitting of nodes provides a predicted value based on the interior nodes leading to the terminal (final) nodes. In a classification context, a decision tree will output a predicted target class for each terminal node produced.\n",
    "\n",
    "Source: www.stat.berkeley.edu/~breiman/RandomForests/cc_home.htm#workings\n",
    "##### Features of Random Forests\n",
    "- Unexcelled in accuracy among current algorithms.\n",
    "- Runs efficiently on large data bases.\n",
    "- Can handle thousands of input variables without variable deletion.\n",
    "- Provides estimates of what variables are important in the classification.\n",
    "- Generates an internal unbiased estimate of the generalization error as the forest building progresses.\n",
    "- Effective method for estimating missing data and maintains accuracy when a large proportion of the data are missing.\n",
    "- Includes methods for balancing error in class population unbalanced data sets.\n",
    "- Generated forests can be saved for future use on other data.\n",
    "- Prototypes are computed that give information about the relation between the variables and the classification.\n",
    "- Computes proximities between pairs of cases that can be used in clustering, locating outliers, or (by scaling) give interesting views of the data.\n",
    "- Capabilities of the above can be extended to unlabeled data, leading to unsupervised clustering, data views and outlier detection.\n",
    "- Offers an experimental method for detecting variable interactions.\n",
    "\n",
    "##### Limitations to Decision Trees\n",
    "Decision trees tend to have high variance when they utilize different training and test sets of the same data, since they tend to overfit on training data. This leads to poor performance on unseen data. Unfortunately, this limits the usage of decision trees in predictive modeling. However, using ensemble methods, we can create models that utilize underlying decision trees as a foundation for producing powerful results.\n",
    "\n",
    "\n",
    "### SVM\n",
    "##### Interpreting Support Vectors (from mini lab)\n",
    "\n",
    "For SVM models, the interpretation of field importance is not as straight forward. Non-linear SVM models create hyperplanes in infinite dimensional space. To accomplish this the source data used in the analysis must be mapped to a higher dimensional space and as a result is very different from the original data. Because of this it is not possible to determine feature weights like we did with the logisitc regessions above.\n",
    "\n",
    "However, we can examine individual features to investigate how SVM approaches classification problems.In the case below, we are vizualizing decision boundaries of two features i.e UCR_Offense_Name and Division.\n",
    "\n",
    "- In this section, the models for classification of two task where Arrest Status and Response Time Category will be build.\n",
    "- Models per task = 3 \n",
    "- These are two predictive tasks spanning two different modes of machine learning. \n",
    "- Both prediction as a classification task.\n",
    "- The available features will be utilized for classiffication of Arrest status. \n",
    "\n",
    "- MAYBE BASE LINE AS LOGIT\n",
    "\n",
    "The cross validation will be performed for each task as mentioned........***"
   ]
  },
  {
   "cell_type": "markdown",
   "metadata": {},
   "source": [
    "### TASK 1\n",
    "- Arrest Status Classification"
   ]
  },
  {
   "cell_type": "code",
   "execution_count": 22,
   "metadata": {},
   "outputs": [
    {
     "name": "stdout",
     "output_type": "stream",
     "text": [
      "<class 'pandas.core.frame.DataFrame'>\n",
      "Int64Index: 37040 entries, 111777 to 255143\n",
      "Data columns (total 18 columns):\n",
      "Division                         37040 non-null int8\n",
      "Day1_of_the_Week                 37040 non-null int8\n",
      "Victim_Type                      37040 non-null int8\n",
      "Victim_Race                      37040 non-null int8\n",
      "Victim_Age                       37040 non-null int32\n",
      "UCR_Offense_Name                 37040 non-null int8\n",
      "X_Coordinate                     37040 non-null float64\n",
      "Y_Coordinate                     37040 non-null float64\n",
      "UCR_Offense_Description          37040 non-null int8\n",
      "Number_of_offense                37040 non-null int32\n",
      "Arrest_status                    37040 non-null int64\n",
      "Call_Received_Hour               37040 non-null float64\n",
      "Res_time_category                37040 non-null int8\n",
      "IsMale                           37040 non-null int32\n",
      "Social_crime_score               37040 non-null int64\n",
      "Call_Received_Date_Time_epoch    37040 non-null int64\n",
      "Call_Cleared_Date_Time_epoch     37040 non-null int64\n",
      "Call_Dispatch_Date_Time_epoch    37040 non-null int64\n",
      "dtypes: float64(3), int32(3), int64(5), int8(7)\n",
      "memory usage: 3.2 MB\n"
     ]
    }
   ],
   "source": [
    "incident.info()"
   ]
  },
  {
   "cell_type": "code",
   "execution_count": 23,
   "metadata": {
    "collapsed": true
   },
   "outputs": [],
   "source": [
    "# Y Response variable dataframe\n",
    "inci_Y = incident['Arrest_status']\n",
    "# Features with no predictive features with respect to resposne variable\n",
    "inci_X = incident.drop(['Arrest_status'],axis=1)\n",
    "\n",
    "from sklearn.preprocessing import StandardScaler\n",
    "#Scale data\n",
    "scaler = StandardScaler()\n",
    "inci_X = scaler.fit_transform(inci_X)\n",
    "#Save as data frames\n",
    "inci_X = pd.DataFrame(inci_X)"
   ]
  },
  {
   "cell_type": "code",
   "execution_count": 24,
   "metadata": {
    "collapsed": true,
    "scrolled": true
   },
   "outputs": [],
   "source": [
    "# # Credit: https://etav.github.io/\n",
    "\n",
    "# from statsmodels.stats.outliers_influence import variance_inflation_factor as vif\n",
    "# df2_vif = pd.DataFrame()\n",
    "# df2_vif[\"VIF Factor\"] = [vif(inci_X.values, i) for i in range(inci_X.shape[1])]\n",
    "# df2_vif[\"features\"] = inci_X.columns\n",
    "# print(\"VIF Factors before Scaling\")\n",
    "# df2_vif"
   ]
  },
  {
   "cell_type": "code",
   "execution_count": 25,
   "metadata": {
    "collapsed": true
   },
   "outputs": [],
   "source": [
    "# # Credit: https://etav.github.io/\n",
    "\n",
    "# from statsmodels.stats.outliers_influence import variance_inflation_factor as vif\n",
    "\n",
    "# df2_vif = pd.DataFrame()\n",
    "# df2_vif[\"VIF Factor\"] = [vif(df_inci_X_scaled.values, i) for i in range(df_inci_X_scaled.shape[1])]\n",
    "# df2_vif[\"features\"] = inci_X.columns\n",
    "# print(\"VIF Factors after Scaling\")\n",
    "# df2_vif"
   ]
  },
  {
   "cell_type": "code",
   "execution_count": 26,
   "metadata": {
    "collapsed": true
   },
   "outputs": [],
   "source": [
    "# # LOGISTIC REGRESSION: SUMMARY TABLE WITHOUT SCALING- FEATURE SIGNIFICANCE, CROSS VALIDATION OF FULL MODEL\n",
    "# from sklearn import metrics as mt\n",
    "# import statsmodels.api as sm\n",
    "# logit_model = sm.Logit(inci_Y, inci_X)\n",
    "# result = logit_model.fit()\n",
    "# print(result.summary2())"
   ]
  },
  {
   "cell_type": "markdown",
   "metadata": {},
   "source": [
    "\n",
    "###### Cross Validation\n",
    "\n",
    "For the below model execution, we use Cross Validation to improve the model classification. We use the below settings for the cross validation module.\n",
    "\n",
    "    1. The data is divided into 80/20 train -test split.\n",
    "    2. 10 folds cross validation\n",
    "    3. Random seed with random state 0 for random test and training splits for each iteration of cross validation"
   ]
  },
  {
   "cell_type": "code",
   "execution_count": 27,
   "metadata": {},
   "outputs": [
    {
     "name": "stdout",
     "output_type": "stream",
     "text": [
      "Wall time: 99.2 ms\n"
     ]
    }
   ],
   "source": [
    "%%time\n",
    "from sklearn.model_selection import ShuffleSplit\n",
    "# Create Cross Validation Object with 10 folds with 80/20 train - test split\n",
    "cv = ShuffleSplit(n_splits = 10, test_size=0.20, random_state=0)\n",
    "\n",
    "\n",
    "inci_X = inci_X.as_matrix().astype(np.float)\n",
    "inci_Y = inci_Y.as_matrix().astype(np.float)\n",
    "\n",
    "for trainidx, testidx in cv.split(inci_X,inci_Y):\n",
    "    X_train, X_test = inci_X[trainidx], inci_X[testidx]    \n",
    "    y_train, y_test = inci_Y[trainidx], inci_Y[testidx]"
   ]
  },
  {
   "cell_type": "markdown",
   "metadata": {},
   "source": [
    "### TASK 1.1\n",
    "###### KNN Classification \n",
    "\n",
    "- Parameter Optimization\n",
    "\n",
    "K-Nearest Neighbor (KNN) classification is valid option for this dataset since the dataset has been preprocessed and it has no missing values. Parameter selections are critical to the performance of KNN classifiers; therefore, substantial time and effort was put forth to fully investigate the optimal parameters.\n",
    "\n",
    "#### Parameter Settings\n",
    "\n",
    "\n",
    "**Writeup"
   ]
  },
  {
   "cell_type": "code",
   "execution_count": 28,
   "metadata": {},
   "outputs": [
    {
     "name": "stdout",
     "output_type": "stream",
     "text": [
      "Iteration::  1\n",
      "Classification Report\n",
      "              precision    recall  f1-score   support\n",
      "\n",
      "         0.0       0.60      0.60      0.60      3658\n",
      "         1.0       0.61      0.61      0.61      3750\n",
      "\n",
      "   micro avg       0.60      0.60      0.60      7408\n",
      "   macro avg       0.60      0.60      0.60      7408\n",
      "weighted avg       0.60      0.60      0.60      7408\n",
      "\n",
      "Confusion Matrix\n",
      "[[2178 1480]\n",
      " [1468 2282]]\n",
      "Accuracy of classifier with 1 neighbors is: 0.60\n",
      "Precision Score of classifier with 1 neighbors is: 0.61\n",
      "Iteration::  2\n",
      "Classification Report\n",
      "              precision    recall  f1-score   support\n",
      "\n",
      "         0.0       0.57      0.80      0.66      3658\n",
      "         1.0       0.68      0.40      0.50      3750\n",
      "\n",
      "   micro avg       0.60      0.60      0.60      7408\n",
      "   macro avg       0.62      0.60      0.58      7408\n",
      "weighted avg       0.62      0.60      0.58      7408\n",
      "\n",
      "Confusion Matrix\n",
      "[[2937  721]\n",
      " [2246 1504]]\n",
      "Accuracy of classifier with 2 neighbors is: 0.60\n",
      "Precision Score of classifier with 2 neighbors is: 0.68\n",
      "Iteration::  3\n",
      "Classification Report\n",
      "              precision    recall  f1-score   support\n",
      "\n",
      "         0.0       0.62      0.62      0.62      3658\n",
      "         1.0       0.63      0.63      0.63      3750\n",
      "\n",
      "   micro avg       0.62      0.62      0.62      7408\n",
      "   macro avg       0.62      0.62      0.62      7408\n",
      "weighted avg       0.62      0.62      0.62      7408\n",
      "\n",
      "Confusion Matrix\n",
      "[[2273 1385]\n",
      " [1398 2352]]\n",
      "Accuracy of classifier with 3 neighbors is: 0.62\n",
      "Precision Score of classifier with 3 neighbors is: 0.63\n",
      "Iteration::  4\n",
      "Classification Report\n",
      "              precision    recall  f1-score   support\n",
      "\n",
      "         0.0       0.59      0.75      0.66      3658\n",
      "         1.0       0.67      0.50      0.57      3750\n",
      "\n",
      "   micro avg       0.62      0.62      0.62      7408\n",
      "   macro avg       0.63      0.63      0.62      7408\n",
      "weighted avg       0.63      0.62      0.62      7408\n",
      "\n",
      "Confusion Matrix\n",
      "[[2751  907]\n",
      " [1881 1869]]\n",
      "Accuracy of classifier with 4 neighbors is: 0.62\n",
      "Precision Score of classifier with 4 neighbors is: 0.67\n",
      "Iteration::  5\n",
      "Classification Report\n",
      "              precision    recall  f1-score   support\n",
      "\n",
      "         0.0       0.63      0.63      0.63      3658\n",
      "         1.0       0.64      0.64      0.64      3750\n",
      "\n",
      "   micro avg       0.63      0.63      0.63      7408\n",
      "   macro avg       0.63      0.63      0.63      7408\n",
      "weighted avg       0.63      0.63      0.63      7408\n",
      "\n",
      "Confusion Matrix\n",
      "[[2316 1342]\n",
      " [1367 2383]]\n",
      "Accuracy of classifier with 5 neighbors is: 0.63\n",
      "Precision Score of classifier with 5 neighbors is: 0.64\n",
      "Iteration::  6\n",
      "Classification Report\n",
      "              precision    recall  f1-score   support\n",
      "\n",
      "         0.0       0.61      0.74      0.67      3658\n",
      "         1.0       0.68      0.54      0.60      3750\n",
      "\n",
      "   micro avg       0.64      0.64      0.64      7408\n",
      "   macro avg       0.64      0.64      0.63      7408\n",
      "weighted avg       0.64      0.64      0.63      7408\n",
      "\n",
      "Confusion Matrix\n",
      "[[2692  966]\n",
      " [1722 2028]]\n",
      "Accuracy of classifier with 6 neighbors is: 0.64\n",
      "Precision Score of classifier with 6 neighbors is: 0.68\n",
      "Iteration::  7\n",
      "Classification Report\n",
      "              precision    recall  f1-score   support\n",
      "\n",
      "         0.0       0.64      0.65      0.64      3658\n",
      "         1.0       0.65      0.64      0.65      3750\n",
      "\n",
      "   micro avg       0.64      0.64      0.64      7408\n",
      "   macro avg       0.64      0.64      0.64      7408\n",
      "weighted avg       0.64      0.64      0.64      7408\n",
      "\n",
      "Confusion Matrix\n",
      "[[2362 1296]\n",
      " [1337 2413]]\n",
      "Accuracy of classifier with 7 neighbors is: 0.64\n",
      "Precision Score of classifier with 7 neighbors is: 0.65\n",
      "Iteration::  8\n",
      "Classification Report\n",
      "              precision    recall  f1-score   support\n",
      "\n",
      "         0.0       0.62      0.73      0.67      3658\n",
      "         1.0       0.68      0.57      0.62      3750\n",
      "\n",
      "   micro avg       0.65      0.65      0.65      7408\n",
      "   macro avg       0.65      0.65      0.64      7408\n",
      "weighted avg       0.65      0.65      0.64      7408\n",
      "\n",
      "Confusion Matrix\n",
      "[[2658 1000]\n",
      " [1621 2129]]\n",
      "Accuracy of classifier with 8 neighbors is: 0.65\n",
      "Precision Score of classifier with 8 neighbors is: 0.68\n",
      "Iteration::  9\n",
      "Classification Report\n",
      "              precision    recall  f1-score   support\n",
      "\n",
      "         0.0       0.65      0.65      0.65      3658\n",
      "         1.0       0.66      0.65      0.65      3750\n",
      "\n",
      "   micro avg       0.65      0.65      0.65      7408\n",
      "   macro avg       0.65      0.65      0.65      7408\n",
      "weighted avg       0.65      0.65      0.65      7408\n",
      "\n",
      "Confusion Matrix\n",
      "[[2395 1263]\n",
      " [1313 2437]]\n",
      "Accuracy of classifier with 9 neighbors is: 0.65\n",
      "Precision Score of classifier with 9 neighbors is: 0.66\n",
      "Iteration::  10\n",
      "Classification Report\n",
      "              precision    recall  f1-score   support\n",
      "\n",
      "         0.0       0.63      0.72      0.67      3658\n",
      "         1.0       0.68      0.59      0.63      3750\n",
      "\n",
      "   micro avg       0.65      0.65      0.65      7408\n",
      "   macro avg       0.65      0.65      0.65      7408\n",
      "weighted avg       0.65      0.65      0.65      7408\n",
      "\n",
      "Confusion Matrix\n",
      "[[2616 1042]\n",
      " [1545 2205]]\n",
      "Accuracy of classifier with 10 neighbors is: 0.65\n",
      "Precision Score of classifier with 10 neighbors is: 0.68\n",
      "Iteration::  11\n",
      "Classification Report\n",
      "              precision    recall  f1-score   support\n",
      "\n",
      "         0.0       0.65      0.66      0.66      3658\n",
      "         1.0       0.66      0.66      0.66      3750\n",
      "\n",
      "   micro avg       0.66      0.66      0.66      7408\n",
      "   macro avg       0.66      0.66      0.66      7408\n",
      "weighted avg       0.66      0.66      0.66      7408\n",
      "\n",
      "Confusion Matrix\n",
      "[[2408 1250]\n",
      " [1285 2465]]\n",
      "Accuracy of classifier with 11 neighbors is: 0.66\n",
      "Precision Score of classifier with 11 neighbors is: 0.66\n",
      "Iteration::  12\n",
      "Classification Report\n",
      "              precision    recall  f1-score   support\n",
      "\n",
      "         0.0       0.64      0.71      0.67      3658\n",
      "         1.0       0.68      0.60      0.64      3750\n",
      "\n",
      "   micro avg       0.66      0.66      0.66      7408\n",
      "   macro avg       0.66      0.66      0.66      7408\n",
      "weighted avg       0.66      0.66      0.66      7408\n",
      "\n",
      "Confusion Matrix\n",
      "[[2597 1061]\n",
      " [1487 2263]]\n",
      "Accuracy of classifier with 12 neighbors is: 0.66\n",
      "Precision Score of classifier with 12 neighbors is: 0.68\n",
      "Iteration::  13\n",
      "Classification Report\n",
      "              precision    recall  f1-score   support\n",
      "\n",
      "         0.0       0.65      0.67      0.66      3658\n",
      "         1.0       0.67      0.66      0.66      3750\n",
      "\n",
      "   micro avg       0.66      0.66      0.66      7408\n",
      "   macro avg       0.66      0.66      0.66      7408\n",
      "weighted avg       0.66      0.66      0.66      7408\n",
      "\n",
      "Confusion Matrix\n",
      "[[2438 1220]\n",
      " [1285 2465]]\n",
      "Accuracy of classifier with 13 neighbors is: 0.66\n",
      "Precision Score of classifier with 13 neighbors is: 0.67\n",
      "Iteration::  14\n",
      "Classification Report\n",
      "              precision    recall  f1-score   support\n",
      "\n",
      "         0.0       0.64      0.71      0.67      3658\n",
      "         1.0       0.68      0.61      0.65      3750\n",
      "\n",
      "   micro avg       0.66      0.66      0.66      7408\n",
      "   macro avg       0.66      0.66      0.66      7408\n",
      "weighted avg       0.66      0.66      0.66      7408\n",
      "\n",
      "Confusion Matrix\n",
      "[[2593 1065]\n",
      " [1450 2300]]\n",
      "Accuracy of classifier with 14 neighbors is: 0.66\n",
      "Precision Score of classifier with 14 neighbors is: 0.68\n",
      "Iteration::  15\n",
      "Classification Report\n",
      "              precision    recall  f1-score   support\n",
      "\n",
      "         0.0       0.65      0.67      0.66      3658\n",
      "         1.0       0.67      0.66      0.66      3750\n",
      "\n",
      "   micro avg       0.66      0.66      0.66      7408\n",
      "   macro avg       0.66      0.66      0.66      7408\n",
      "weighted avg       0.66      0.66      0.66      7408\n",
      "\n",
      "Confusion Matrix\n",
      "[[2436 1222]\n",
      " [1285 2465]]\n",
      "Accuracy of classifier with 15 neighbors is: 0.66\n",
      "Precision Score of classifier with 15 neighbors is: 0.67\n",
      "Iteration::  16\n",
      "Classification Report\n",
      "              precision    recall  f1-score   support\n",
      "\n",
      "         0.0       0.64      0.71      0.67      3658\n",
      "         1.0       0.68      0.62      0.65      3750\n",
      "\n",
      "   micro avg       0.66      0.66      0.66      7408\n",
      "   macro avg       0.66      0.66      0.66      7408\n",
      "weighted avg       0.66      0.66      0.66      7408\n",
      "\n",
      "Confusion Matrix\n",
      "[[2582 1076]\n",
      " [1424 2326]]\n",
      "Accuracy of classifier with 16 neighbors is: 0.66\n",
      "Precision Score of classifier with 16 neighbors is: 0.68\n",
      "Iteration::  17\n",
      "Classification Report\n",
      "              precision    recall  f1-score   support\n",
      "\n",
      "         0.0       0.66      0.67      0.66      3658\n",
      "         1.0       0.67      0.66      0.67      3750\n",
      "\n",
      "   micro avg       0.67      0.67      0.67      7408\n",
      "   macro avg       0.67      0.67      0.67      7408\n",
      "weighted avg       0.67      0.67      0.67      7408\n",
      "\n",
      "Confusion Matrix\n",
      "[[2462 1196]\n",
      " [1285 2465]]\n",
      "Accuracy of classifier with 17 neighbors is: 0.67\n",
      "Precision Score of classifier with 17 neighbors is: 0.67\n",
      "Iteration::  18\n",
      "Classification Report\n",
      "              precision    recall  f1-score   support\n",
      "\n",
      "         0.0       0.65      0.70      0.68      3658\n",
      "         1.0       0.69      0.63      0.66      3750\n",
      "\n",
      "   micro avg       0.67      0.67      0.67      7408\n",
      "   macro avg       0.67      0.67      0.67      7408\n",
      "weighted avg       0.67      0.67      0.67      7408\n",
      "\n",
      "Confusion Matrix\n",
      "[[2577 1081]\n",
      " [1395 2355]]\n",
      "Accuracy of classifier with 18 neighbors is: 0.67\n",
      "Precision Score of classifier with 18 neighbors is: 0.69\n",
      "Iteration::  19\n",
      "Classification Report\n",
      "              precision    recall  f1-score   support\n",
      "\n",
      "         0.0       0.66      0.68      0.67      3658\n",
      "         1.0       0.68      0.66      0.67      3750\n",
      "\n",
      "   micro avg       0.67      0.67      0.67      7408\n",
      "   macro avg       0.67      0.67      0.67      7408\n",
      "weighted avg       0.67      0.67      0.67      7408\n",
      "\n",
      "Confusion Matrix\n",
      "[[2471 1187]\n",
      " [1282 2468]]\n",
      "Accuracy of classifier with 19 neighbors is: 0.67\n",
      "Precision Score of classifier with 19 neighbors is: 0.68\n",
      "Wall time: 5min 8s\n"
     ]
    }
   ],
   "source": [
    "%%time\n",
    "from sklearn.model_selection import StratifiedKFold\n",
    "from sklearn.model_selection import StratifiedShuffleSplit\n",
    "from sklearn.metrics import classification_report,confusion_matrix, accuracy_score, precision_score, precision_recall_fscore_support\n",
    "from sklearn.neighbors import KNeighborsClassifier\n",
    "\n",
    "error_rate = []\n",
    "acc_score = []\n",
    "pres_score = []\n",
    "\n",
    "for K in np.arange(1, 20, 1):\n",
    "    print(\"Iteration:: \",K)\n",
    "    knn = KNeighborsClassifier(n_neighbors=K, weights='uniform', metric='euclidean')\n",
    "    knn.fit(X_train,y_train)\n",
    "    yhat = knn.predict(X_test)\n",
    "    \n",
    "    error_rate.append(np.mean(yhat != y_test))\n",
    "    acc = accuracy_score(y_test, yhat)\n",
    "    pres = precision_score(y_test, yhat)\n",
    "    acc_score.append(acc)\n",
    "    pres_score.append(pres)\n",
    "    print('Classification Report')\n",
    "    print(classification_report(y_test, yhat))\n",
    "    print('Confusion Matrix')\n",
    "    print(confusion_matrix(y_test, yhat))\n",
    "    print('Accuracy of classifier with %d neighbors is: %.2f'%(K,acc))\n",
    "    print('Precision Score of classifier with %d neighbors is: %.2f'%(K,pres))\n",
    "    \n",
    "    \n"
   ]
  },
  {
   "cell_type": "code",
   "execution_count": 29,
   "metadata": {},
   "outputs": [
    {
     "name": "stdout",
     "output_type": "stream",
     "text": [
      "Wall time: 50.1 ms\n"
     ]
    },
    {
     "data": {
      "image/png": "[encoded data removed]",
      "text/plain": [
       "<matplotlib.figure.Figure at 0x1b3428dc0f0>"
      ]
     },
     "metadata": {},
     "output_type": "display_data"
    }
   ],
   "source": [
    "%%time\n",
    "\n",
    "plt.figure(figsize=(10,6))\n",
    "plt.plot(np.arange(1, 20, 1),error_rate,color='blue', linestyle='dashed', marker='o', markerfacecolor='red', markersize=10)\n",
    "plt.plot(np.arange(1, 20, 1),acc_score,color='red', linestyle='dashed', marker='o', markerfacecolor='blue', markersize=10)\n",
    "plt.plot(np.arange(1, 20, 1),pres_score,color='green', linestyle='dashed', marker='o', markerfacecolor='black', markersize=10)\n",
    "plt.title('Error Rate vs. K Value')\n",
    "plt.xlabel('K Value')\n",
    "plt.ylabel('Error Rate')"
   ]
  },
  {
   "cell_type": "code",
   "execution_count": 30,
   "metadata": {},
   "outputs": [
    {
     "data": {
      "image/png": "[encoded data removed]",
      "text/plain": [
       "<matplotlib.figure.Figure at 0x1b355ee4518>"
      ]
     },
     "metadata": {},
     "output_type": "display_data"
    }
   ],
   "source": [
    "from sklearn import metrics as mt\n",
    "\n",
    "def per_class_accuracy(ytrue,yhat):\n",
    "    conf = mt.confusion_matrix(ytrue,yhat)\n",
    "    norm_conf = conf.astype('float') / conf.sum(axis=1)[:, np.newaxis]\n",
    "    return np.diag(norm_conf)\n",
    "\n",
    "def plot_class_acc(ytrue,yhat, title=''):\n",
    "    acc_list = per_class_accuracy(ytrue,yhat)\n",
    "    plt.bar(range(len(acc_list)), acc_list)\n",
    "    plt.xlabel('Class value')\n",
    "    plt.ylabel('Accuracy within class')\n",
    "    plt.title(title+\", Total Acc=%.1f\"%(100*mt.accuracy_score(ytrue,yhat)))\n",
    "    plt.grid()\n",
    "    plt.ylim([0,1])\n",
    "    plt.show()\n",
    "    \n",
    "plot_class_acc(y_test,yhat,title=\"KNN\")"
   ]
  },
  {
   "cell_type": "code",
   "execution_count": 31,
   "metadata": {},
   "outputs": [
    {
     "data": {
      "image/png": "[encoded data removed]",
      "text/plain": [
       "<matplotlib.figure.Figure at 0x1b355ee9ef0>"
      ]
     },
     "metadata": {},
     "output_type": "display_data"
    }
   ],
   "source": [
    "%%time\n",
    "# Validation Curv\n",
    "from yellowbrick.model_selection import ValidationCurve\n",
    "from sklearn.neighbors import KNeighborsClassifier\n",
    "\n",
    "param_range = np.arange(1, 11)\n",
    "\n",
    "oz = ValidationCurve(\n",
    "    KNeighborsClassifier(), param_name=\"n_neighbors\",\n",
    "    param_range=param_range, cv=cv, scoring=\"f1_weighted\", n_jobs=4,\n",
    ")\n",
    "\n",
    "\n",
    "oz.fit(X_train,y_train)\n",
    "oz.poof()\n"
   ]
  },
  {
   "cell_type": "markdown",
   "metadata": {},
   "source": [
    "### TASK 1.2"
   ]
  },
  {
   "cell_type": "markdown",
   "metadata": {},
   "source": [
    "#### RandomForest Classifier "
   ]
  },
  {
   "cell_type": "code",
   "execution_count": 32,
   "metadata": {},
   "outputs": [
    {
     "name": "stdout",
     "output_type": "stream",
     "text": [
      "Accuracy 0.7298866090712743\n",
      "Precision 0.7551794572512401\n",
      "Classification Report\n",
      "              precision    recall  f1-score   support\n",
      "\n",
      "         0.0       0.71      0.77      0.74      3658\n",
      "         1.0       0.76      0.69      0.72      3750\n",
      "\n",
      "   micro avg       0.73      0.73      0.73      7408\n",
      "   macro avg       0.73      0.73      0.73      7408\n",
      "weighted avg       0.73      0.73      0.73      7408\n",
      "\n",
      "Confusion Matrix\n",
      "[[2819  839]\n",
      " [1162 2588]]\n"
     ]
    },
    {
     "data": {
      "image/png": "[encoded data removed]",
      "text/plain": [
       "<matplotlib.figure.Figure at 0x1b33114e2e8>"
      ]
     },
     "metadata": {},
     "output_type": "display_data"
    },
    {
     "name": "stdout",
     "output_type": "stream",
     "text": [
      "Wall time: 4 s\n"
     ]
    }
   ],
   "source": [
    "%%time\n",
    "from sklearn.ensemble import RandomForestClassifier\n",
    "\n",
    "clf = RandomForestClassifier(max_depth=50, n_estimators=150, n_jobs=-1, oob_score=True)\n",
    "\n",
    "clf.fit(X_train,y_train)\n",
    "yhat = clf.predict(X_test)\n",
    "    \n",
    "total_accuracy = mt.accuracy_score(y_test, yhat)\n",
    "total_precision = precision_score(y_test, yhat)\n",
    "print ('Accuracy', total_accuracy)\n",
    "print ('Precision', total_precision)\n",
    "print('Classification Report')\n",
    "print(classification_report(y_test, yhat))\n",
    "print('Confusion Matrix')\n",
    "print(confusion_matrix(y_test, yhat))\n",
    "plot_class_acc(y_test,yhat,title=\"Random Forest, Raw\")"
   ]
  },
  {
   "cell_type": "code",
   "execution_count": null,
   "metadata": {},
   "outputs": [],
   "source": [
    "# Validation Curv\n",
    "from yellowbrick.model_selection import ValidationCurve\n",
    "from sklearn.ensemble import RandomForestClassifier\n",
    "\n",
    "param_range = np.arange(1, 11)\n",
    "\n",
    "oz = ValidationCurve(\n",
    "    RandomForestClassifier(), param_name=\"max_depth\",\n",
    "    param_range=param_range, cv=cv, scoring=\"r2\", n_jobs=4,\n",
    ")\n",
    "\n",
    "\n",
    "oz.fit(X_train,y_train)\n",
    "oz.poof()"
   ]
  },
  {
   "cell_type": "code",
   "execution_count": 33,
   "metadata": {},
   "outputs": [
    {
     "name": "stderr",
     "output_type": "stream",
     "text": [
      "Failed to import duecredit due to No module named 'duecredit'\n"
     ]
    },
    {
     "ename": "NameError",
     "evalue": "name 'RandomForestRegressor' is not defined",
     "output_type": "error",
     "traceback": [
      "\u001b[0;31m---------------------------------------------------------------------------\u001b[0m",
      "\u001b[0;31mNameError\u001b[0m                                 Traceback (most recent call last)",
      "\u001b[0;32m<ipython-input-33-66958c814aa2>\u001b[0m in \u001b[0;36m<module>\u001b[0;34m()\u001b[0m\n\u001b[1;32m      1\u001b[0m \u001b[1;32mimport\u001b[0m \u001b[0mforestci\u001b[0m \u001b[1;32mas\u001b[0m \u001b[0mfci\u001b[0m\u001b[1;33m\u001b[0m\u001b[0m\n\u001b[1;32m      2\u001b[0m \u001b[0mn_trees\u001b[0m \u001b[1;33m=\u001b[0m \u001b[1;36m2000\u001b[0m\u001b[1;33m\u001b[0m\u001b[0m\n\u001b[0;32m----> 3\u001b[0;31m \u001b[0mmpg_forest\u001b[0m \u001b[1;33m=\u001b[0m \u001b[0mRandomForestRegressor\u001b[0m\u001b[1;33m(\u001b[0m\u001b[0mn_estimators\u001b[0m\u001b[1;33m=\u001b[0m\u001b[0mn_trees\u001b[0m\u001b[1;33m,\u001b[0m \u001b[0mrandom_state\u001b[0m\u001b[1;33m=\u001b[0m\u001b[1;36m42\u001b[0m\u001b[1;33m)\u001b[0m\u001b[1;33m\u001b[0m\u001b[0m\n\u001b[0m\u001b[1;32m      4\u001b[0m \u001b[0mmpg_forest\u001b[0m\u001b[1;33m.\u001b[0m\u001b[0mfit\u001b[0m\u001b[1;33m(\u001b[0m\u001b[0mX_train\u001b[0m\u001b[1;33m,\u001b[0m \u001b[0my_train\u001b[0m\u001b[1;33m)\u001b[0m\u001b[1;33m\u001b[0m\u001b[0m\n\u001b[1;32m      5\u001b[0m \u001b[1;33m\u001b[0m\u001b[0m\n",
      "\u001b[0;31mNameError\u001b[0m: name 'RandomForestRegressor' is not defined"
     ]
    }
   ],
   "source": [
    "import forestci as fci\n",
    "n_trees = 2000\n",
    "mpg_forest = RandomForestRegressor(n_estimators=n_trees, random_state=42)\n",
    "mpg_forest.fit(X_train, y_train)\n",
    "\n",
    "plt.ylabel('Predicted MPG')\n",
    "plt.show()\n",
    "\n"
   ]
  },
  {
   "cell_type": "markdown",
   "metadata": {},
   "source": [
    "### TASK 1.3"
   ]
  },
  {
   "cell_type": "markdown",
   "metadata": {},
   "source": [
    "### NearestCentroid"
   ]
  },
  {
   "cell_type": "code",
   "execution_count": null,
   "metadata": {},
   "outputs": [],
   "source": [
    "%%time\n",
    "from sklearn.neighbors.nearest_centroid import NearestCentroid\n",
    "for d in ['l1', 'l2', 'cosine', 'euclidean']:\n",
    "    clf = NearestCentroid(metric=d)\n",
    "    clf.fit(X_train, y_train)\n",
    "    yhat = clf.predict(X_test)\n",
    "    acc = accuracy_score(y_test, yhat)\n",
    "    pres = precision_score(y_test, yhat)\n",
    "    print('Classification Report')\n",
    "    print(classification_report(y_test, yhat))\n",
    "    print('Confusion Matrix')\n",
    "    print(confusion_matrix(y_test, yhat))\n",
    "    print('Accuracy of classifier with %s metric is: %.2f'%(d,acc))\n",
    "    print('Precision Score of classifier with %s metric is: %.2f'%(d,pres))"
   ]
  },
  {
   "cell_type": "code",
   "execution_count": null,
   "metadata": {
    "collapsed": true
   },
   "outputs": [],
   "source": []
  },
  {
   "cell_type": "markdown",
   "metadata": {},
   "source": [
    "### TASK 2\n",
    "- Response Time Category Status Classification"
   ]
  },
  {
   "cell_type": "code",
   "execution_count": null,
   "metadata": {},
   "outputs": [],
   "source": [
    "# Y Response variable dataframe\n",
    "inci_res_Y = incident['Res_time_category']\n",
    "# Features with no predictive features with respect to resposne variable\n",
    "inci_res_X = incident.drop(['Res_time_category', 'Response_time'],axis=1)  # Added Response_time  to drop as it was causing accuracy to be 1\n",
    "\n",
    "                                                                            # Try removing ARREST STATUS for this too\n",
    "from sklearn.preprocessing import StandardScaler\n",
    "#Scale data\n",
    "scaler = StandardScaler()\n",
    "inci_res_X = scaler.fit_transform(inci_res_X)\n",
    "#Save as data frames\n",
    "inci_res_X = pd.DataFrame(inci_res_X)"
   ]
  },
  {
   "cell_type": "code",
   "execution_count": null,
   "metadata": {
    "collapsed": true
   },
   "outputs": [],
   "source": [
    "%%time\n",
    "inci_res_X = inci_res_X.as_matrix().astype(np.float)\n",
    "inci_res_Y = inci_res_Y.as_matrix().astype(np.float)\n",
    "\n",
    "for trainidx, testidx in cv.split(inci_res_X,inci_res_Y):\n",
    "    X_train_R, X_test_R = inci_res_X[trainidx], inci_res_X[testidx]    \n",
    "    y_train_R, y_test_R = inci_res_Y[trainidx], inci_res_Y[testidx]"
   ]
  },
  {
   "cell_type": "markdown",
   "metadata": {},
   "source": [
    "### TASK 2.1\n",
    "- KNN"
   ]
  },
  {
   "cell_type": "code",
   "execution_count": null,
   "metadata": {
    "collapsed": true
   },
   "outputs": [],
   "source": [
    "%%time\n",
    "from sklearn.model_selection import StratifiedKFold\n",
    "from sklearn.model_selection import StratifiedShuffleSplit\n",
    "from sklearn.metrics import classification_report,confusion_matrix, accuracy_score, precision_score, precision_recall_fscore_support\n",
    "from sklearn.neighbors import KNeighborsClassifier\n",
    "\n",
    "error_rate = []\n",
    "acc_score = []\n",
    "pres_score = []\n",
    "\n",
    "for K in np.arange(1, 20, 1):\n",
    "    print(\"Iteration:: \",K)\n",
    "    knn = KNeighborsClassifier(n_neighbors=K, weights='uniform', metric='euclidean')\n",
    "    knn.fit(X_train_R,y_train_R)\n",
    "    yhat= knn.predict(X_test_R)\n",
    "    \n",
    "    error_rate.append(np.mean(yhat != y_test))\n",
    "    acc = accuracy_score(y_test_R, yhat)\n",
    "    pres = precision_score(y_test_R, yhat, average='weighted')\n",
    "    acc_score.append(acc)\n",
    "    pres_score.append(pres)\n",
    "    print('Classification Report')\n",
    "    print(classification_report(y_test_R, yhat))\n",
    "    print('Confusion Matrix')\n",
    "    print(confusion_matrix(y_test_R, yhat))\n",
    "    print('Accuracy of classifier with %d neighbors is: %.2f'%(K,acc))\n",
    "    print('Precision Score of classifier with %d neighbors is: %.2f'%(K,pres))"
   ]
  },
  {
   "cell_type": "markdown",
   "metadata": {},
   "source": [
    "### TASK 2.2\n",
    "- Random forest classifier"
   ]
  },
  {
   "cell_type": "code",
   "execution_count": null,
   "metadata": {
    "collapsed": true
   },
   "outputs": [],
   "source": [
    "%%time\n",
    "from sklearn.ensemble import RandomForestClassifier\n",
    "\n",
    "clf = RandomForestClassifier(max_depth=20, n_estimators=150, n_jobs=-1, oob_score=True, class_weight=\"balanced\")\n",
    "\n",
    "clf.fit(X_train_R,y_train_R)\n",
    "yhat = clf.predict(X_test_R)\n",
    "    \n",
    "total_accuracy = mt.accuracy_score(y_test_R, yhat)\n",
    "total_precision = precision_score(y_test_R, yhat, average='weighted')\n",
    "print ('Accuracy', total_accuracy)\n",
    "print ('Precision', total_precision)\n",
    "print('Classification Report')\n",
    "print(classification_report(y_test_R, yhat))\n",
    "print('Confusion Matrix')\n",
    "print(confusion_matrix(y_test_R, yhat))\n",
    "plot_class_acc(y_test_R,yhat,title=\"Random Forest, Raw\")"
   ]
  },
  {
   "cell_type": "code",
   "execution_count": null,
   "metadata": {
    "collapsed": true
   },
   "outputs": [],
   "source": [
    "%%time\n",
    "from sklearn.ensemble import RandomForestClassifier\n",
    "from sklearn.decomposition import PCA \n",
    "from sklearn.pipeline import Pipeline\n",
    "from sklearn.naive_bayes import GaussianNB\n",
    "\n",
    "\n",
    "clf_pipe = Pipeline(\n",
    "    [('PCA',PCA(n_components=11, svd_solver='randomized')),\n",
    "     ('CLF',RandomForestClassifier(max_depth=50, n_estimators=150, n_jobs=-1))]\n",
    ")\n",
    "\n",
    "total_accuracy = mt.accuracy_score(y_test_R, yhat)\n",
    "total_precision = precision_score(y_test_R, yhat, average='weighted')\n",
    "print ('Pipeline Accuracy', total_accuracy)\n",
    "print ('Precision', total_precision)\n",
    "print('Classification Report')\n",
    "print(classification_report(y_test_R, yhat))\n",
    "print('Confusion Matrix')\n",
    "print(confusion_matrix(y_test_R, yhat))\n",
    "plot_class_acc(y_test_R,yhat,title=\"Random Forest, Raw\")  # PCA"
   ]
  },
  {
   "cell_type": "markdown",
   "metadata": {},
   "source": [
    "### Task 2.3\n",
    "- NearestCentroid"
   ]
  },
  {
   "cell_type": "code",
   "execution_count": null,
   "metadata": {
    "collapsed": true
   },
   "outputs": [],
   "source": [
    "%%time\n",
    "from sklearn.neighbors.nearest_centroid import NearestCentroid\n",
    "for d in ['l1', 'l2', 'cosine', 'euclidean']:\n",
    "    clf = NearestCentroid(metric=d)\n",
    "    clf.fit(X_train_R, y_train_R)\n",
    "    yhat = clf.predict(X_test_R)\n",
    "    acc = accuracy_score(y_test_R, yhat)\n",
    "    pres = precision_score(y_test_R, yhat, average='weighted')\n",
    "    print('Classification Report')\n",
    "    print(classification_report(y_test_R, yhat))\n",
    "    print('Confusion Matrix')\n",
    "    print(confusion_matrix(y_test_R, yhat))\n",
    "    print('Accuracy of classifier with %s metric is: %.2f'%(d,acc))\n",
    "    print('Precision Score of classifier with %s metric is: %.2f'%(d,pres))"
   ]
  },
  {
   "cell_type": "code",
   "execution_count": null,
   "metadata": {
    "collapsed": true
   },
   "outputs": [],
   "source": []
  },
  {
   "cell_type": "markdown",
   "metadata": {},
   "source": [
    "# Modeling and Evaluation 4\n",
    "\n",
    "- Analyze the results using your chosen method of evaluation. Use visualizations of the results to bolster the analysis. Explain any visuals and analyze why they are interesting to someone that might use this model.\n",
    "\n"
   ]
  },
  {
   "cell_type": "code",
   "execution_count": null,
   "metadata": {
    "collapsed": true
   },
   "outputs": [],
   "source": [
    "## Credit To: https://machinelearningmastery.com/compare-machine-learning-algorithms-python-scikit-learn/\n",
    "# Compare Algorithms\n",
    "import pandas\n",
    "import matplotlib.pyplot as plt\n",
    "from sklearn import model_selection\n",
    "from sklearn.linear_model import LogisticRegression\n",
    "from sklearn.tree import DecisionTreeClassifier\n",
    "from sklearn.neighbors import KNeighborsClassifier\n",
    "from sklearn.discriminant_analysis import LinearDiscriminantAnalysis\n",
    "from sklearn.naive_bayes import GaussianNB\n",
    "from sklearn.svm import SVC\n",
    "\n",
    "# models = []\n",
    "# models.append(('LR', LogisticRegression()))\n",
    "# models.append(('LDA', LinearDiscriminantAnalysis()))\n",
    "# models.append(('KNN', KNeighborsClassifier()))\n",
    "# models.append(('CART', DecisionTreeClassifier()))\n",
    "# models.append(('NB', GaussianNB()))\n",
    "# models.append(('SVM', SVC()))\n",
    "\n",
    "# ***********MODELS FUNCTION*************\n",
    "# evaluate each model in turn\n",
    "def Results_analysis(fmodels, fscoring, fX, fy):\n",
    "    results = []\n",
    "    names = []\n",
    "    #scoring = 'accuracy'\n",
    "    for name, model in fmodels:\n",
    "        if (fscoring == 'accuracy'):\n",
    "            skf = StratifiedKFold(n_splits=10, random_state=seed)\n",
    "        else:\n",
    "            skf = 10\n",
    "        cv_results = model_selection.cross_val_score(model, fX, fy, cv=skf, scoring=fscoring)\n",
    "        results.append(cv_results)\n",
    "        names.append(name)\n",
    "        msg = \"%s: %f (%f)\" % (name, cv_results.mean(), cv_results.std())\n",
    "        print(msg)\n",
    "    # boxplot algorithm comparison\n",
    "    fig = plt.figure()\n",
    "    fig.suptitle('Algorithm Comparison')\n",
    "    sns.boxplot(x=names, y=results, palette=\"Set1\")\n",
    "    plt.show()\n",
    "    \n",
    "    return [names, results]"
   ]
  },
  {
   "cell_type": "markdown",
   "metadata": {},
   "source": [
    "### Arrest Status (models in TASK 1)"
   ]
  },
  {
   "cell_type": "code",
   "execution_count": null,
   "metadata": {
    "collapsed": true
   },
   "outputs": [],
   "source": [
    "\n",
    "\n",
    "## Credit To: https://machinelearningmastery.com/compare-machine-learning-algorithms-python-scikit-learn/\n",
    "from sklearn.discriminant_analysis import LinearDiscriminantAnalysis\n",
    "from sklearn.neighbors import KNeighborsClassifier\n",
    "from sklearn.ensemble import RandomForestClassifier, ExtraTreesClassifier\n",
    "from sklearn import model_selection\n",
    "\n",
    "seed = 7\n",
    "# prepare models\n",
    "class_models = []\n",
    "class_models.append(('LDA', LinearDiscriminantAnalysis(n_components=1, priors=None, solver='lsqr')))\n",
    "class_models.append(('KNN', KNeighborsClassifier(algorithm='auto', leaf_size=10, metric='minkowski', \n",
    "                                           metric_params=None, n_jobs=-1, n_neighbors=13, p=2,\n",
    "                                           weights='uniform')))\n",
    "class_models.append(('RF', RandomForestClassifier(n_estimators=600, max_depth=None, min_samples_split=2, random_state=0,  n_jobs=-1)))\n",
    "class_models.append(('RFET', ExtraTreesClassifier(n_estimators=600, max_depth=None, min_samples_split=2, random_state=0,  n_jobs=-1)))\n",
    "\n",
    "class_models.append(('NearestCentroid', NearestCentroid(metric='cosine')))\n",
    "class_models.append(('NB', GaussianNB()))\n",
    "\n",
    "\n",
    "\n",
    "classModelResults = Results_analysis(class_models, 'accuracy', X_test, y_test)"
   ]
  },
  {
   "cell_type": "markdown",
   "metadata": {},
   "source": [
    "### Response Time Category (models in TASK 2)"
   ]
  },
  {
   "cell_type": "code",
   "execution_count": null,
   "metadata": {
    "collapsed": true
   },
   "outputs": [],
   "source": [
    "## Credit To: https://machinelearningmastery.com/compare-machine-learning-algorithms-python-scikit-learn/\n",
    "from sklearn.discriminant_analysis import LinearDiscriminantAnalysis\n",
    "from sklearn.neighbors import KNeighborsClassifier\n",
    "from sklearn.ensemble import RandomForestClassifier, ExtraTreesClassifier\n",
    "from sklearn import model_selection\n",
    "\n",
    "seed = 7\n",
    "# prepare models\n",
    "class_models_R = []\n",
    "# class_models_R.append(('LDA', LinearDiscriminantAnalysis(n_components=1, priors=None, solver='lsqr')))\n",
    "class_models_R.append(('KNN', KNeighborsClassifier(algorithm='auto', leaf_size=10, metric='minkowski', \n",
    "                                           metric_params=None, n_jobs=-1, n_neighbors=13, p=2,\n",
    "                                           weights='uniform')))\n",
    "class_models_R.append(('RF', RandomForestClassifier(n_estimators=600, max_depth=None, min_samples_split=2, random_state=0,  n_jobs=-1)))\n",
    "class_models_R.append(('RFET', ExtraTreesClassifier(n_estimators=600, max_depth=None, min_samples_split=2, random_state=0,  n_jobs=-1)))\n",
    "\n",
    "class_models_R.append(('NearestCentroid', NearestCentroid(metric='l1')))\n",
    "\n",
    "class_models_R.append(('RF+PCA',Pipeline([('PCA',PCA(n_components=11, svd_solver='randomized')),\n",
    "                                    ('CLF',RandomForestClassifier(max_depth=50, n_estimators=150, n_jobs=-1))])))\n",
    "\n",
    "\n",
    "classModelResults_R = Results_analysis(class_models_R, 'accuracy', X_test_R, y_test_R)"
   ]
  },
  {
   "cell_type": "markdown",
   "metadata": {},
   "source": [
    "# Modeling and Evaluation 5 \n",
    "\n",
    "- Discuss the advantages of each model for each classification task, if any. If there are not advantages, explain why. Is any model better than another? Is the difference significant with 95% confidence? Use proper statistical comparison methods. You must use statistical comparison techniques—be sure they are appropriate for your chosen method of validation as discussed in unit 7 of the course.\n",
    "\n"
   ]
  },
  {
   "cell_type": "code",
   "execution_count": null,
   "metadata": {
    "collapsed": true
   },
   "outputs": [],
   "source": [
    "# credit: https://machinelearningmastery.com/compare-machine-learning-algorithms-python-scikit-learn/\n",
    "# credit: https://stackoverflow.com/questions/5389507/iterating-over-every-two-elements-in-a-list\n",
    "from math import sqrt\n",
    "from scipy import stats\n",
    "# Iterate Pairwise through models and calculate CI\n",
    "def modelCiComp(modelResults):\n",
    "    for i in range(len(classModelResults[0])):\n",
    "        for j in range(i+1, len(classModelResults[1])):\n",
    "            m1Acc = classModelResults[1][i]\n",
    "            m2Acc = classModelResults[1][j]\n",
    "            d = m1Acc - m2Acc\n",
    "            dBar = np.mean(d)\n",
    "            v = np.var(d)\n",
    "            ci = (1/sqrt(len(m1Acc)))*stats.t.ppf(q = .975, df = len(m1Acc) - 1)*sqrt(v)\n",
    "            ci = \"[\" + str(round(dBar - ci, 5)) + \", \" + str(round(dBar + ci, 5)) + \"]\"\n",
    "            print(\"95% CI for\", classModelResults[0][i], \"vs\", classModelResults[0][j], \"=\", ci)"
   ]
  },
  {
   "cell_type": "markdown",
   "metadata": {},
   "source": [
    "#### Arrest Status models"
   ]
  },
  {
   "cell_type": "code",
   "execution_count": null,
   "metadata": {
    "collapsed": true
   },
   "outputs": [],
   "source": [
    "modelCiComp(classModelResults)"
   ]
  },
  {
   "cell_type": "markdown",
   "metadata": {},
   "source": [
    "#### Response time category models"
   ]
  },
  {
   "cell_type": "code",
   "execution_count": null,
   "metadata": {
    "collapsed": true
   },
   "outputs": [],
   "source": [
    "modelCiComp(classModelResults_R)"
   ]
  },
  {
   "cell_type": "code",
   "execution_count": null,
   "metadata": {
    "collapsed": true
   },
   "outputs": [],
   "source": []
  },
  {
   "cell_type": "markdown",
   "metadata": {},
   "source": [
    "# Modeling and Evaluation 6 \n",
    "\n",
    "- Which attributes from your analysis are most important? Use proper methods discussed in class to evaluate the importance of different attributes. Discuss the results and hypothesize about why certain attributes are more important than others for a given classification task.\n"
   ]
  },
  {
   "cell_type": "markdown",
   "metadata": {},
   "source": [
    "#### Arrest status"
   ]
  },
  {
   "cell_type": "code",
   "execution_count": null,
   "metadata": {
    "collapsed": true
   },
   "outputs": [],
   "source": [
    "# KNN: 0.705720 (0.012338)\n",
    "\n",
    "# now lets get access to the different properties of our RF\n",
    "clf = RandomForestClassifier(max_depth=20, n_estimators=150, n_jobs=-1, oob_score=True, class_weight=\"balanced\")\n",
    "\n",
    "clf.fit(X_train,y_train)\n",
    "    \n",
    "print (clf)\n",
    "\n",
    "plt.barh(range(len(clf.feature_importances_)), clf.feature_importances_)\n",
    "plt.show()\n",
    "\n",
    "print ('Generalization score estimate from training data', clf.oob_score_)\n",
    "\n",
    "\n",
    "# oob_SCORE - Very close to accuracy, represents data which are not just a guess and are not placed on the main data for ..\n",
    "# ..do not use it as a replacement to cross validation"
   ]
  },
  {
   "cell_type": "markdown",
   "metadata": {},
   "source": [
    "### Response time cat"
   ]
  },
  {
   "cell_type": "code",
   "execution_count": null,
   "metadata": {
    "collapsed": true
   },
   "outputs": [],
   "source": [
    "# KNN: 0.705720 (0.012338)\n",
    "\n",
    "# now lets get access to the different properties of our RF\n",
    "clf = RandomForestClassifier(max_depth=20, n_estimators=150, n_jobs=-1, oob_score=True, class_weight=\"balanced\")\n",
    "\n",
    "clf.fit(X_train_R, y_train_R)\n",
    "    \n",
    "print (clf)\n",
    "\n",
    "plt.barh(range(len(clf.feature_importances_)), clf.feature_importances_)\n",
    "plt.show()\n",
    "\n",
    "print ('Generalization score estimate from training data', clf.oob_score_)\n",
    "\n",
    "\n",
    "# oob_SCORE - Very close to accuracy, represents data which are not just a guess and are not placed on the main data for ..\n",
    "# ..do not use it as a replacement to cross validation"
   ]
  },
  {
   "cell_type": "code",
   "execution_count": null,
   "metadata": {
    "collapsed": true
   },
   "outputs": [],
   "source": [
    "# model = RandomForestClassifier()\n",
    "\n",
    "forest = ExtraTreesClassifier(n_estimators=250,\n",
    "                              random_state=0)\n",
    "\n",
    "forest.fit(X_train_R, y_train_R)\n",
    "\n",
    "importances = forest.feature_importances_\n",
    "std = np.std([tree.feature_importances_ for tree in forest.estimators_],\n",
    "             axis=0)\n",
    "indices = np.argsort(importances)\n",
    "\n",
    "# Plot the feature importances of the forest\n",
    "plt.figure()\n",
    "plt.title(\"Feature importances\")\n",
    "plt.barh(range(X_train_R.shape[1]), importances[indices],\n",
    "       color=\"r\", xerr=std[indices], align=\"center\")\n",
    "# If you want to define your own labels,\n",
    "# change indices to a list of labels on the following line.\n",
    "plt.yticks(range(X_train_R.shape[1]), indices)\n",
    "plt.ylim([-1, X_train_R.shape[1]])\n",
    "plt.show()"
   ]
  },
  {
   "cell_type": "code",
   "execution_count": null,
   "metadata": {
    "collapsed": true
   },
   "outputs": [],
   "source": []
  },
  {
   "cell_type": "code",
   "execution_count": null,
   "metadata": {
    "collapsed": true
   },
   "outputs": [],
   "source": []
  },
  {
   "cell_type": "code",
   "execution_count": null,
   "metadata": {
    "collapsed": true
   },
   "outputs": [],
   "source": [
    "# from matplotlib import pyplot as plt\n",
    "\n",
    "# def plotCoef(coef, names, t):\n",
    "#     imp = coef\n",
    "#     imp,names = zip(*sorted(zip(imp,names), key=lambda x: abs(x[0])))\n",
    "#     plt.figure(figsize=(9,12))\n",
    "#     barlist = plt.barh(range(len(names)), imp, align='center')\n",
    "#     for x in np.nditer(np.where(np.asarray(list(imp)) < 0)):\n",
    "#         barlist[x].set_color('r')\n",
    "#     plt.yticks(range(len(names)), names)\n",
    "#     plt.title(t)\n",
    "#     plt.show()\n"
   ]
  },
  {
   "cell_type": "code",
   "execution_count": null,
   "metadata": {
    "collapsed": true
   },
   "outputs": [],
   "source": [
    "# plotCoef(regGridSearch.best_estimator_.coef_[0], inci_X.columns.values, \"Manual Logistic Features\")\n",
    "# list(sorted(zip(regGridSearch.best_estimator_.coef_.ravel(), inci_X.columns.values)))"
   ]
  },
  {
   "cell_type": "markdown",
   "metadata": {},
   "source": [
    "# Deployment\n",
    "\n",
    "- How useful is your model for interested parties (i.e., the companies or organizations that might want to use it for prediction)? How would you measure the model's value if it was used by these parties? How would your deploy your model for interested parties? What other data should be collected? How often would the model need to be updated, etc.? \n",
    "\n"
   ]
  },
  {
   "cell_type": "code",
   "execution_count": null,
   "metadata": {
    "collapsed": true
   },
   "outputs": [],
   "source": []
  },
  {
   "cell_type": "code",
   "execution_count": null,
   "metadata": {
    "collapsed": true
   },
   "outputs": [],
   "source": []
  },
  {
   "cell_type": "markdown",
   "metadata": {},
   "source": [
    "# Exceptional Work \n",
    "\n",
    "- You have free reign to provide additional analyses. One idea: grid search parameters in a parallelized fashion and visualize the performances across attributes. Which parameters are most significant for making a good model for each classification algorithm?"
   ]
  },
  {
   "cell_type": "code",
   "execution_count": null,
   "metadata": {
    "collapsed": true
   },
   "outputs": [],
   "source": []
  },
  {
   "cell_type": "code",
   "execution_count": null,
   "metadata": {
    "collapsed": true
   },
   "outputs": [],
   "source": []
  },
  {
   "cell_type": "code",
   "execution_count": null,
   "metadata": {
    "collapsed": true
   },
   "outputs": [],
   "source": []
  },
  {
   "cell_type": "markdown",
   "metadata": {},
   "source": [
    "# TEST"
   ]
  },
  {
   "cell_type": "code",
   "execution_count": null,
   "metadata": {
    "collapsed": true
   },
   "outputs": [],
   "source": [
    "# %%time\n",
    "# from sklearn.decomposition import PCA \n",
    "# from sklearn.pipeline import Pipeline\n",
    "\n",
    "# # setup pipeline to take PCA, then fit a KNN classifier\n",
    "# clf_pipe = Pipeline(\n",
    "#     [('PCA_Eric',PCA(n_components=11,svd_solver='randomized')),\n",
    "#      ('CLF_Eric',KNeighborsClassifier(n_neighbors=1))]\n",
    "# )\n",
    "\n",
    "# # now iterate through and get predictions, saved to the correct row in yhat\n",
    "# for train, test in cv.split(X,y):\n",
    "#     clf_pipe.fit(X[train],y[train])\n",
    "#     yhat[test] = clf_pipe.predict(X[test])\n",
    "\n",
    "# total_accuracy = mt.accuracy_score(y, yhat)\n",
    "# print ('KNN, pipeline accuracy', total_accuracy)"
   ]
  },
  {
   "cell_type": "code",
   "execution_count": null,
   "metadata": {
    "collapsed": true
   },
   "outputs": [],
   "source": [
    "# def per_class_accuracy(ytrue,yhat):\n",
    "#     conf = mt.confusion_matrix(ytrue,yhat)\n",
    "#     norm_conf = conf.astype('float') / conf.sum(axis=1)[:, np.newaxis]\n",
    "#     return np.diag(norm_conf)\n",
    "\n",
    "# def plot_class_acc(ytrue,yhat, title=''):\n",
    "#     acc_list = per_class_accuracy(ytrue,yhat)\n",
    "#     plt.bar(range(len(acc_list)), acc_list)\n",
    "#     plt.xlabel('Class value (one per face)')\n",
    "#     plt.ylabel('Accuracy within class')\n",
    "#     plt.title(title+\", Total Acc=%.1f\"%(100*mt.accuracy_score(ytrue,yhat)))\n",
    "#     plt.grid()\n",
    "#     plt.ylim([0,1])\n",
    "#     plt.show()\n",
    "    \n",
    "# plot_class_acc(y,yhat,title=\"KNN\")"
   ]
  },
  {
   "cell_type": "code",
   "execution_count": null,
   "metadata": {
    "collapsed": true
   },
   "outputs": [],
   "source": [
    "# %%time\n",
    "# from sklearn.ensemble import RandomForestClassifier\n",
    "\n",
    "# clf_pipe = Pipeline(\n",
    "#     [('PCA',PCA(n_components=11, svd_solver='randomized')),\n",
    "#      ('CLF',RandomForestClassifier(max_depth=50, n_estimators=150, n_jobs=-1))]\n",
    "# )\n",
    "\n",
    "# # now iterate through and get predictions, saved to the correct row in yhat\n",
    "# for train, test in cv.split(X,y):\n",
    "#     clf_pipe.fit(X[train],y[train])\n",
    "#     yhat[test] = clf_pipe.predict(X[test])\n",
    "    \n",
    "# total_accuracy = mt.accuracy_score(y, yhat)\n",
    "# print ('Pipeline accuracy', total_accuracy)\n",
    "# plot_class_acc(y,yhat,title=\"Random Forest + PCA\")"
   ]
  },
  {
   "cell_type": "code",
   "execution_count": null,
   "metadata": {
    "collapsed": true
   },
   "outputs": [],
   "source": [
    "# %%time\n",
    "# from sklearn.ensemble import RandomForestClassifier\n",
    "\n",
    "# clf = RandomForestClassifier(max_depth=50, n_estimators=150, n_jobs=-1, oob_score=True)\n",
    "\n",
    "# # now iterate through and get predictions, saved to the correct row in yhat\n",
    "# for train, test in cv.split(X,y):\n",
    "#     clf.fit(X[train],y[train])\n",
    "#     yhat[test] = clf.predict(X[test])\n",
    "    \n",
    "# total_accuracy = mt.accuracy_score(y, yhat)\n",
    "# print ('Accuracy', total_accuracy)\n",
    "# plot_class_acc(y,yhat,title=\"Random Forest, Raw\")"
   ]
  },
  {
   "cell_type": "markdown",
   "metadata": {},
   "source": [
    "- Overall importance of each feature, magnitude of feature importance."
   ]
  },
  {
   "cell_type": "markdown",
   "metadata": {},
   "source": [
    "# TREE ENSEMBLE METHOD"
   ]
  },
  {
   "cell_type": "code",
   "execution_count": null,
   "metadata": {
    "collapsed": true
   },
   "outputs": [],
   "source": [
    "%%time\n",
    "from sklearn.tree import DecisionTreeClassifier\n",
    "from sklearn.ensemble import RandomForestClassifier\n",
    "from sklearn.ensemble import ExtraTreesClassifier\n",
    "from sklearn.ensemble import GradientBoostingClassifier\n",
    "\n",
    "from sklearn.model_selection import cross_val_score\n",
    "\n",
    "num_estimators = 50\n",
    "# lets train some trees\n",
    "clf_array = [\n",
    "    ('Stump',              DecisionTreeClassifier(max_depth=1, min_samples_leaf=1)),\n",
    "    ('Tree',               DecisionTreeClassifier()),\n",
    "    ('Random Trees',       RandomForestClassifier(max_depth=50, n_estimators=num_estimators)),\n",
    "    ('Extra Random Trees', ExtraTreesClassifier(n_estimators=num_estimators,min_samples_split=2)),\n",
    "    ('Boosted Tree',       GradientBoostingClassifier(n_estimators=num_estimators)), #takes a long time\n",
    "    ]\n",
    "\n",
    "for clf in clf_array:\n",
    "    acc = cross_val_score(clf[1],X,y)\n",
    "    print (clf[0], acc.mean())"
   ]
  },
  {
   "cell_type": "code",
   "execution_count": null,
   "metadata": {
    "collapsed": true
   },
   "outputs": [],
   "source": [
    "# # from sklearn.svm import SVC\n",
    "# # from sklearn.linear_model import LogisticRegression\n",
    "# # from sklearn.linear_model import SGDClassifier\n",
    "# from sklearn.naive_bayes import GaussianNB\n",
    "\n",
    "\n",
    "# # setup pipeline to take PCA, then fit a different classifier\n",
    "# clf_pipe = Pipeline(\n",
    "#     [('PCA',PCA(n_components=11,svd_solver='randomized')),\n",
    "#      ('CLF',GaussianNB())]\n",
    "# )\n",
    "\n",
    "# # now iterate through and get predictions, saved to the correct row in yhat\n",
    "# for train, test in cv.split(X,y):\n",
    "#     clf_pipe.fit(X[train],y[train])\n",
    "#     yhat[test] = clf_pipe.predict(X[test])\n",
    "\n",
    "# total_accuracy = mt.accuracy_score(y, yhat)\n",
    "# print ('Pipeline accuracy', total_accuracy)\n",
    "# plot_class_acc(y,yhat,title=\"Naive Bayes + PCA\")"
   ]
  },
  {
   "cell_type": "code",
   "execution_count": null,
   "metadata": {
    "collapsed": true
   },
   "outputs": [],
   "source": [
    "# from sklearn.naive_bayes import GaussianNB\n",
    "\n",
    "\n",
    "# # setup pipeline to take PCA, then fit a different classifier\n",
    "# clf_pipe = Pipeline(\n",
    "#     [('PCA',PCA(n_components=11,svd_solver='randomized')),\n",
    "#      ('CLF',GaussianNB())]\n",
    "# )\n",
    "\n",
    "# yhat_score = np.zeros((y.shape[0],len(X)))\n",
    "\n",
    "# # now iterate through and get predictions, saved to the correct row in yhat\n",
    "# for train, test in cv.split(X,y):\n",
    "#     clf_pipe.fit(X[train],y[train])\n",
    "#     yhat[test] = clf_pipe.predict(X[test])\n",
    "#     yhat_score[test] = clf_pipe.predict_proba(X[test])\n",
    "\n",
    "# total_accuracy = mt.accuracy_score(y, yhat)\n",
    "# print ('Pipeline accuracy', total_accuracy)"
   ]
  },
  {
   "cell_type": "code",
   "execution_count": null,
   "metadata": {
    "collapsed": true
   },
   "outputs": [],
   "source": []
  },
  {
   "cell_type": "code",
   "execution_count": null,
   "metadata": {
    "collapsed": true
   },
   "outputs": [],
   "source": [
    "# import seaborn as sns\n",
    "# sns.set_palette(\"dark\")\n",
    "# # code manipulated from http://scikit-learn.org/stable/auto_examples/plot_roc.html\n",
    "# from sklearn.preprocessing import label_binarize\n",
    "\n",
    "# # Compute ROC curve for a subset of interesting classes\n",
    "# fpr = dict()\n",
    "# tpr = dict()\n",
    "# roc_auc = dict()\n",
    "# for i in np.unique(y):\n",
    "#     fpr[i], tpr[i], _ = mt.roc_curve(y, yhat_score[:, i], pos_label=i)\n",
    "#     roc_auc[i] = mt.auc(fpr[i], tpr[i])\n",
    "\n",
    "# for i in np.random.permutation(60)[0:6]:\n",
    "#     plt.plot(fpr[i], tpr[i], label='class {0} with {1} instances (area = {2:0.2f})'\n",
    "#                                    ''.format(i, sum(y==i), roc_auc[i]))\n",
    "\n",
    "# plt.legend(loc=\"lower right\")  \n",
    "# plt.xlabel('False Positive Rate')\n",
    "# plt.ylabel('True Positive Rate')\n",
    "# plt.show()"
   ]
  },
  {
   "cell_type": "code",
   "execution_count": null,
   "metadata": {
    "collapsed": true
   },
   "outputs": [],
   "source": [
    "# # combined ROC over all classes\n",
    "# one_hot_class_encoding = label_binarize(y,np.unique(y))\n",
    "# fpr[\"micro\"], tpr[\"micro\"], _ = mt.roc_curve(one_hot_class_encoding.ravel(), yhat_score.ravel())\n",
    "# roc_auc[\"micro\"] = mt.auc(fpr[\"micro\"], tpr[\"micro\"])\n",
    "\n",
    "# plt.figure(figsize=(12,4))\n",
    "# plt.plot(fpr[\"micro\"], tpr[\"micro\"],\n",
    "#          label='micro-average ROC curve (area = {0:0.2f})'\n",
    "#                ''.format(roc_auc[\"micro\"]))"
   ]
  },
  {
   "cell_type": "code",
   "execution_count": null,
   "metadata": {
    "collapsed": true
   },
   "outputs": [],
   "source": []
  }
 ],
 "metadata": {
  "kernelspec": {
   "display_name": "Python 3",
   "language": "python",
   "name": "python3"
  },
  "language_info": {
   "codemirror_mode": {
    "name": "ipython",
    "version": 3
   },
   "file_extension": ".py",
   "mimetype": "text/x-python",
   "name": "python",
   "nbconvert_exporter": "python",
   "pygments_lexer": "ipython3",
   "version": "3.6.6"
  }
 },
 "nbformat": 4,
 "nbformat_minor": 2
}
