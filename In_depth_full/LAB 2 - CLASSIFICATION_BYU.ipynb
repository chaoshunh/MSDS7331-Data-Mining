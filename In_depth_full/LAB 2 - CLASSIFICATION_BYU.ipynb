{
 "cells": [
  {
   "cell_type": "markdown",
   "metadata": {},
   "source": [
    "# LAB 2_ CLASSIFICATION"
   ]
  },
  {
   "cell_type": "markdown",
   "metadata": {},
   "source": [
    "### Rubric\n",
    "\n",
    "#### Data Preparation (15 points total)\n",
    "- Define and prepare your class variables. Use proper variable representations (int, float, one-hot, etc.). Use pre-processing methods (as needed) for dimensionality reduction, scaling, etc. Remove variables that are not needed/useful for the analysis.\n",
    "- Describe the final dataset that is used for classification/regression (include a description of any newly formed variables you created).\n",
    "\n",
    "### Modeling and Evaluation (70 points total)\n",
    "- Choose and explain your evaluation metrics that you will use (i.e., accuracy,precision, recall, F-measure, or any metric we have discussed). Why are the measure(s)appropriate for analyzing the results of your modeling? Give a detailed explanation backing up any assertions.\n",
    "- Choose the method you will use for dividing your data into training and testing splits (i.e., are you using Stratified 10-fold cross validation? Why?). Explain why your chosen method is appropriate or use more than one method as appropriate. For example, if you are using time series data then you should be using continuous training and testing sets across time.\n",
    "- Create three different classification/regression models for each task (e.g.,random forest, KNN, and SVM for task one and the same or different algorithms for task two). Two modeling techniques must be new (but the third could be SVM or logistic regression). Adjust parameters as appropriate to increase generalization performance using your chosen metric. You must investigate different parameters of the algorithms!\n",
    "- Analyze the results using your chosen method of evaluation. Use visualizations of the results to bolster the analysis. Explain any visuals and analyze why they are interesting to someone that might use this model.\n",
    "- Discuss the advantages of each model for each classification task, if any. If there are not advantages, explain why. Is any model better than another? Is the difference significant with 95% confidence? Use proper statistical comparison methods. You must use statistical comparison techniques—be sure they are appropriate for your chosen method of validation as discussed in unit 7 of the course.\n",
    "- Which attributes from your analysis are most important? Use proper methods discussed in class to evaluate the importance of different attributes. Discuss the results and hypothesize about why certain attributes are more important than others for a given classification task.\n",
    "\n",
    "### Deployment (5 points total)\n",
    "- How useful is your model for interested parties (i.e., the companies or organizations that might want to use it for prediction)? How would you measure the model's value if it was used by these parties? How would your deploy your model for interested parties? What other data should be collected? How often would the model need to be updated, etc.?\n",
    "\n",
    "### Exceptional Work (10 points total)\n",
    "\n",
    "- You have free reign to provide additional analyses.\n",
    "- One idea: grid search parameters in a parallelized fashion and visualize the performances across attributes. Which parameters are most significant for making a good model for each classification algorithm?"
   ]
  },
  {
   "cell_type": "code",
   "execution_count": 1,
   "metadata": {},
   "outputs": [],
   "source": [
    "# Importing necessary packages for python\n",
    "import pandas as pd\n",
    "import numpy as np\n",
    "from sklearn.model_selection import ShuffleSplit, cross_validate\n",
    "import warnings\n",
    "import matplotlib.pyplot as plt\n",
    "import plotly.tools as tls\n",
    "import seaborn as sns\n",
    "\n",
    "warnings.filterwarnings('ignore')\n",
    "warnings.simplefilter('ignore', DeprecationWarning)\n",
    "pd.set_option('mode.chained_assignment', None)\n",
    "\n",
    "%matplotlib inline"
   ]
  },
  {
   "cell_type": "code",
   "execution_count": 2,
   "metadata": {},
   "outputs": [],
   "source": [
    "# Importing data from Lab#1 and exploring the data, the csv file is the result dataset from Lab1\n",
    "path = \"../../Data/\" # Generic path\n",
    "incident = pd.read_csv(path + 'LAB1_completed_Dataset_clean_new.csv', low_memory= False)\n",
    "\n",
    "#--------------------------------------------\n",
    "# Police arrest records for crosss reference\n",
    "#--------------------------------------------\n",
    "police_arrest = pd.read_csv(path + 'Police_arrests.csv', low_memory=False)"
   ]
  },
  {
   "cell_type": "code",
   "execution_count": 3,
   "metadata": {},
   "outputs": [],
   "source": [
    "Arrest_Inc = pd.DataFrame (police_arrest['IncidentNum'].dropna())"
   ]
  },
  {
   "cell_type": "code",
   "execution_count": 4,
   "metadata": {},
   "outputs": [
    {
     "name": "stdout",
     "output_type": "stream",
     "text": [
      "<class 'pandas.core.frame.DataFrame'>\n",
      "Int64Index: 125426 entries, 0 to 125425\n",
      "Data columns (total 1 columns):\n",
      "IncidentNum    125426 non-null object\n",
      "dtypes: object(1)\n",
      "memory usage: 1.9+ MB\n"
     ]
    }
   ],
   "source": [
    "Arrest_Inc.info()"
   ]
  },
  {
   "cell_type": "code",
   "execution_count": 5,
   "metadata": {},
   "outputs": [],
   "source": [
    "incident = pd.merge(incident,Arrest_Inc, how='left', left_on = 'Incident_Number_w/year', right_on = 'IncidentNum')"
   ]
  },
  {
   "cell_type": "code",
   "execution_count": 6,
   "metadata": {},
   "outputs": [
    {
     "name": "stdout",
     "output_type": "stream",
     "text": [
      "<class 'pandas.core.frame.DataFrame'>\n",
      "Int64Index: 256278 entries, 0 to 256277\n",
      "Data columns (total 48 columns):\n",
      "Unnamed: 0                 256278 non-null int64\n",
      "Incident_Number_w/year     256278 non-null object\n",
      "Year_of_Incident           256278 non-null int64\n",
      "Service_Number_ID          256278 non-null object\n",
      "Watch                      256278 non-null int64\n",
      "Type_of_Incident           256278 non-null object\n",
      "Type_Location              251346 non-null object\n",
      "Reporting_Area             256122 non-null float64\n",
      "Beat                       256207 non-null float64\n",
      "Division                   256278 non-null object\n",
      "Sector                     256207 non-null float64\n",
      "Council_District           256278 non-null object\n",
      "Day1_of_the_Week           256278 non-null object\n",
      "Call_Received_Date_Time    255213 non-null object\n",
      "Call_Cleared_Date_Time     255045 non-null object\n",
      "Call_Dispatch_Date_Time    255192 non-null object\n",
      "Person_Involvement_Type    256278 non-null object\n",
      "Victim_Type                256278 non-null object\n",
      "Victim_Race                256278 non-null object\n",
      "Victim_Gender              256278 non-null object\n",
      "Victim_Age                 256278 non-null float64\n",
      "Offense_Status             255717 non-null object\n",
      "Victim_Condition           20467 non-null object\n",
      "Hate_Crime                 256278 non-null int64\n",
      "Family_Offense             256234 non-null object\n",
      "Weapon_Used                226988 non-null object\n",
      "Gang_Related_Offense       256278 non-null int64\n",
      "Drug_Related               256278 non-null int64\n",
      "UCR_Offense_Name           241768 non-null object\n",
      "RMS_Code                   256278 non-null object\n",
      "UCR_Code                   241768 non-null float64\n",
      "X_Coordinate               234729 non-null float64\n",
      "Y_Coordinate               234729 non-null float64\n",
      "Zip_Code                   256278 non-null int64\n",
      "City                       256278 non-null object\n",
      "State                      255649 non-null object\n",
      "Location1                  256278 non-null object\n",
      "UCR_Offense_Description    241768 non-null object\n",
      "Call_Received              255213 non-null object\n",
      "Call_Cleared               255045 non-null object\n",
      "Call_Dispatch              255192 non-null object\n",
      "Number_of_offense          256278 non-null object\n",
      "Response_time              255192 non-null float64\n",
      "Latitude                   246226 non-null float64\n",
      "Longitude                  246226 non-null float64\n",
      "Arrest_status              256278 non-null int64\n",
      "Call_Received_Hour         255213 non-null float64\n",
      "IncidentNum                9607 non-null object\n",
      "dtypes: float64(11), int64(8), object(29)\n",
      "memory usage: 95.8+ MB\n"
     ]
    },
    {
     "data": {
      "text/html": [
       "<div>\n",
       "<style scoped>\n",
       "    .dataframe tbody tr th:only-of-type {\n",
       "        vertical-align: middle;\n",
       "    }\n",
       "\n",
       "    .dataframe tbody tr th {\n",
       "        vertical-align: top;\n",
       "    }\n",
       "\n",
       "    .dataframe thead th {\n",
       "        text-align: right;\n",
       "    }\n",
       "</style>\n",
       "<table border=\"1\" class=\"dataframe\">\n",
       "  <thead>\n",
       "    <tr style=\"text-align: right;\">\n",
       "      <th></th>\n",
       "      <th>Unnamed: 0</th>\n",
       "      <th>Incident_Number_w/year</th>\n",
       "      <th>Year_of_Incident</th>\n",
       "      <th>Service_Number_ID</th>\n",
       "      <th>Watch</th>\n",
       "      <th>Type_of_Incident</th>\n",
       "      <th>Type_Location</th>\n",
       "      <th>Reporting_Area</th>\n",
       "      <th>Beat</th>\n",
       "      <th>Division</th>\n",
       "      <th>...</th>\n",
       "      <th>Call_Received</th>\n",
       "      <th>Call_Cleared</th>\n",
       "      <th>Call_Dispatch</th>\n",
       "      <th>Number_of_offense</th>\n",
       "      <th>Response_time</th>\n",
       "      <th>Latitude</th>\n",
       "      <th>Longitude</th>\n",
       "      <th>Arrest_status</th>\n",
       "      <th>Call_Received_Hour</th>\n",
       "      <th>IncidentNum</th>\n",
       "    </tr>\n",
       "  </thead>\n",
       "  <tbody>\n",
       "    <tr>\n",
       "      <th>0</th>\n",
       "      <td>2</td>\n",
       "      <td>175975-2016</td>\n",
       "      <td>2016</td>\n",
       "      <td>175975-2016-01</td>\n",
       "      <td>1</td>\n",
       "      <td>BMV</td>\n",
       "      <td>Motor Vehicle</td>\n",
       "      <td>3104.0</td>\n",
       "      <td>542.0</td>\n",
       "      <td>NORTHWEST</td>\n",
       "      <td>...</td>\n",
       "      <td>2016-07-22 03:43:21</td>\n",
       "      <td>2016-07-22 11:49:54</td>\n",
       "      <td>2016-07-22 03:52:33</td>\n",
       "      <td>01</td>\n",
       "      <td>9.0</td>\n",
       "      <td>32.823936</td>\n",
       "      <td>-96.82623</td>\n",
       "      <td>1</td>\n",
       "      <td>3.0</td>\n",
       "      <td>175975-2016</td>\n",
       "    </tr>\n",
       "    <tr>\n",
       "      <th>1</th>\n",
       "      <td>2</td>\n",
       "      <td>175975-2016</td>\n",
       "      <td>2016</td>\n",
       "      <td>175975-2016-01</td>\n",
       "      <td>1</td>\n",
       "      <td>BMV</td>\n",
       "      <td>Motor Vehicle</td>\n",
       "      <td>3104.0</td>\n",
       "      <td>542.0</td>\n",
       "      <td>NORTHWEST</td>\n",
       "      <td>...</td>\n",
       "      <td>2016-07-22 03:43:21</td>\n",
       "      <td>2016-07-22 11:49:54</td>\n",
       "      <td>2016-07-22 03:52:33</td>\n",
       "      <td>01</td>\n",
       "      <td>9.0</td>\n",
       "      <td>32.823936</td>\n",
       "      <td>-96.82623</td>\n",
       "      <td>1</td>\n",
       "      <td>3.0</td>\n",
       "      <td>175975-2016</td>\n",
       "    </tr>\n",
       "    <tr>\n",
       "      <th>2</th>\n",
       "      <td>5</td>\n",
       "      <td>258177-2015</td>\n",
       "      <td>2015</td>\n",
       "      <td>258177-2015-01</td>\n",
       "      <td>3</td>\n",
       "      <td>DEADLY CONDUCT</td>\n",
       "      <td>Apartment Parking Lot</td>\n",
       "      <td>4380.0</td>\n",
       "      <td>451.0</td>\n",
       "      <td>SOUTHWEST</td>\n",
       "      <td>...</td>\n",
       "      <td>2015-11-05 18:37:20</td>\n",
       "      <td>2015-11-05 19:32:15</td>\n",
       "      <td>2015-11-05 18:51:51</td>\n",
       "      <td>01</td>\n",
       "      <td>14.0</td>\n",
       "      <td>32.653927</td>\n",
       "      <td>-96.88384</td>\n",
       "      <td>0</td>\n",
       "      <td>18.0</td>\n",
       "      <td>NaN</td>\n",
       "    </tr>\n",
       "  </tbody>\n",
       "</table>\n",
       "<p>3 rows × 48 columns</p>\n",
       "</div>"
      ],
      "text/plain": [
       "   Unnamed: 0 Incident_Number_w/year  Year_of_Incident Service_Number_ID  \\\n",
       "0           2            175975-2016              2016    175975-2016-01   \n",
       "1           2            175975-2016              2016    175975-2016-01   \n",
       "2           5            258177-2015              2015    258177-2015-01   \n",
       "\n",
       "   Watch Type_of_Incident          Type_Location  Reporting_Area   Beat  \\\n",
       "0      1              BMV          Motor Vehicle          3104.0  542.0   \n",
       "1      1              BMV          Motor Vehicle          3104.0  542.0   \n",
       "2      3   DEADLY CONDUCT  Apartment Parking Lot          4380.0  451.0   \n",
       "\n",
       "    Division     ...             Call_Received         Call_Cleared  \\\n",
       "0  NORTHWEST     ...       2016-07-22 03:43:21  2016-07-22 11:49:54   \n",
       "1  NORTHWEST     ...       2016-07-22 03:43:21  2016-07-22 11:49:54   \n",
       "2  SOUTHWEST     ...       2015-11-05 18:37:20  2015-11-05 19:32:15   \n",
       "\n",
       "         Call_Dispatch Number_of_offense Response_time   Latitude Longitude  \\\n",
       "0  2016-07-22 03:52:33                01           9.0  32.823936 -96.82623   \n",
       "1  2016-07-22 03:52:33                01           9.0  32.823936 -96.82623   \n",
       "2  2015-11-05 18:51:51                01          14.0  32.653927 -96.88384   \n",
       "\n",
       "  Arrest_status Call_Received_Hour  IncidentNum  \n",
       "0             1                3.0  175975-2016  \n",
       "1             1                3.0  175975-2016  \n",
       "2             0               18.0          NaN  \n",
       "\n",
       "[3 rows x 48 columns]"
      ]
     },
     "execution_count": 6,
     "metadata": {},
     "output_type": "execute_result"
    }
   ],
   "source": [
    "incident.info()\n",
    "incident.head(3)"
   ]
  },
  {
   "cell_type": "code",
   "execution_count": 7,
   "metadata": {},
   "outputs": [],
   "source": [
    "#-----------------------------------------------------------------    \n",
    "# Arrest_status variable binary coding\n",
    "#-----------------------------------------------------------------\n",
    "def get_status(row):\n",
    "    if row['Offense_Status']=='Clear by Arrest':\n",
    "        return 1\n",
    "    elif row['Offense_Status']=='Clear by Exceptional Arrest':\n",
    "        return 1\n",
    "    elif not pd.isnull(row['IncidentNum']):\n",
    "        return 1\n",
    "    else:\n",
    "        return 0\n",
    "\n",
    "#------------------------------------------------------------\n",
    "# Incident arrest status based on \"Offense_Status\" attribute\n",
    "#------------------------------------------------------------\n",
    "incident.loc[:,'Arrest_status']= incident.apply(get_status, axis=1) "
   ]
  },
  {
   "cell_type": "code",
   "execution_count": 8,
   "metadata": {},
   "outputs": [
    {
     "data": {
      "text/plain": [
       "0    229639\n",
       "1     26639\n",
       "Name: Arrest_status, dtype: int64"
      ]
     },
     "execution_count": 8,
     "metadata": {},
     "output_type": "execute_result"
    }
   ],
   "source": [
    "incident['Arrest_status'].value_counts()"
   ]
  },
  {
   "cell_type": "code",
   "execution_count": 9,
   "metadata": {},
   "outputs": [],
   "source": [
    "\n",
    "# Exploying the dataset\n",
    "incident['Response_time'] = incident['Response_time'].fillna(incident['Response_time'].mean()).astype(np.int)\n",
    "incident = incident[incident['Call_Received_Hour'].isnull()==False]\n",
    "incident_NullCols = incident.isnull().sum()\n",
    "incident_NullCols = incident_NullCols[incident_NullCols > 0]\n",
    "\n",
    "# Print out the data properties\n",
    "# print(incident.shape)\n",
    "# print('Number of null columns and their counts')\n",
    "# print(incident_NullCols)"
   ]
  },
  {
   "cell_type": "code",
   "execution_count": 10,
   "metadata": {},
   "outputs": [],
   "source": [
    "\n",
    "# Further cleanup the dataset\n",
    "incident = incident[incident['Watch']!=0]\n",
    "incident = incident[(incident['Victim_Age']>=0) & (incident['Victim_Age']<=90)]\n",
    "incident = incident[incident['Victim_Race']!=\"Unknown\"]\n",
    "incident = incident[incident['Victim_Type']!=\"Unknown\"]\n",
    "incident= incident[incident.Number_of_offense != \"RP\"]\n",
    "\n",
    "incident = incident[incident['Victim_Gender']!=\"U\"]\n",
    "incident =  incident[incident['X_Coordinate']>0]\n",
    "incident =  incident[incident['Y_Coordinate']>0]"
   ]
  },
  {
   "cell_type": "code",
   "execution_count": 11,
   "metadata": {},
   "outputs": [],
   "source": [
    "\n",
    "# Further data clean up on the feature variables\n",
    "\n",
    "incident.loc[:,'UCR_Offense_Name'] = incident['UCR_Offense_Name'].fillna(\"MISSING\")\n",
    "\n",
    "# Setup the UCR Offense Name Groups\n",
    "THEFT_FRAUD     = dict.fromkeys(['THEFT/BMV', 'THEFT ORG RETAIL', 'BURGLARY-RESIDENCE', 'OTHER THEFTS',\n",
    "                                 'ROBBERY-INDIVIDUAL','THEFT/SHOPLIFT', 'BURGLARY-BUSINESS', 'FORGE & COUNTERFEIT', \n",
    "                                 'FRAUD', 'EMBEZZLEMENT','ROBBERY-BUSINESS','THEFT ORG RETAIL'],\"THEFT_FRAUD\" ) \n",
    "MVA_TRAFFIC      =dict.fromkeys(['ACCIDENT MV', 'MOTOR VEHICLE ACCIDENT', 'UUMV', 'TRAFFIC VIOLATION',\n",
    "                                 'TRAFFIC FATALITY'],\"MVA_TRAFFIC\" )        \n",
    "WEAPONS_FIREARMS =dict.fromkeys(['WEAPONS', 'ARSON', 'INJURED FIREARM'], \"WEAPONS_FIREARMS\")         \n",
    "ASSUALT          = dict.fromkeys(['ASSAULT','VANDALISM & CRIM MISCHIEF', 'AGG ASSAULT - NFV', 'OFFENSE AGAINST CHILD',\n",
    "                                  'AGG ASSAULT - FV'], \"ASSUALT\")\n",
    "OTHERS_THREATS   = dict.fromkeys(['FOUND', 'OTHERS', 'LOST', 'CRIMINAL TRESPASS', 'DISORDERLY CONDUCT', \n",
    "                                  'ANIMAL BITE','INJURED HOME','INJURED PUBLIC', 'TERRORISTIC THREAT', \n",
    "                                  'EVADING', 'INJURED OCCUPA', 'ORANIZED CRIME', 'KIDNAPPING', \n",
    "                                  'RESIST ARREST','FAIL TO ID', 'HUMAN TRAFFICKING', 'MISSING'], \"OTHERS_THREATS\")\n",
    "INTOXICATION     = dict.fromkeys(['DRUNK & DISORDERLY', 'DWI', 'NARCOTICS & DRUGS', 'LIQUOR OFFENSE', \n",
    "                                  'INTOXICATION MANSLAUGHTER'],\"INTOXICATION\")\n",
    "MURDER_DEATH     = dict.fromkeys(['SUDDEN DEATH&FOUND BODIES','MURDER'], \"MURDER_DEATH\")\n",
    "                    \n",
    "# Regroup the UCR_Offense_Name\n",
    "incident.loc[:,'UCR_Offense_Name']= incident['UCR_Offense_Name'].replace(THEFT_FRAUD)\n",
    "incident.loc[:,'UCR_Offense_Name']= incident['UCR_Offense_Name'].replace(MVA_TRAFFIC)\n",
    "incident.loc[:,'UCR_Offense_Name']= incident['UCR_Offense_Name'].replace(WEAPONS_FIREARMS)\n",
    "incident.loc[:,'UCR_Offense_Name']= incident['UCR_Offense_Name'].replace(ASSUALT)\n",
    "incident.loc[:,'UCR_Offense_Name']= incident['UCR_Offense_Name'].replace(OTHERS_THREATS)\n",
    "incident.loc[:,'UCR_Offense_Name']= incident['UCR_Offense_Name'].replace(INTOXICATION)\n",
    "incident.loc[:,'UCR_Offense_Name']= incident['UCR_Offense_Name'].replace(MURDER_DEATH)"
   ]
  },
  {
   "cell_type": "code",
   "execution_count": 13,
   "metadata": {},
   "outputs": [],
   "source": [
    "\n",
    "# Change norminal attributes to numeric\n",
    "incident.loc[:,'IsMale'] = incident.Victim_Gender=='M' \n",
    "incident.IsMale = incident.IsMale.astype(np.int)\n",
    "incident.loc[:,'Social_crime_score'] = incident['Hate_Crime']+incident['Gang_Related_Offense']+incident['Drug_Related']\n",
    "incident.loc[:,'Victim_Age'] = incident['Victim_Age'].astype(np.int)\n",
    "incident.loc[:,'Number_of_offense']= incident.Number_of_offense.astype(np.int)\n",
    "# coding\n",
    "incident['UCR_Offense_Name'] = pd.Categorical(incident['UCR_Offense_Name']).codes\n",
    "incident['Day1_of_the_Week'] = pd.Categorical(incident['Day1_of_the_Week']).codes\n",
    "incident['Division'] = pd.Categorical(incident['Division']).codes\n",
    "incident['Victim_Type'] = pd.Categorical(incident['Victim_Type']).codes\n",
    "incident['Victim_Race'] = pd.Categorical(incident['Victim_Race']).codes\n",
    "incident['Person_Involvement_Type'] = pd.Categorical(incident['Person_Involvement_Type']).codes\n",
    "incident['UCR_Offense_Description'] = pd.Categorical(incident['UCR_Offense_Description']).codes"
   ]
  },
  {
   "cell_type": "code",
   "execution_count": 14,
   "metadata": {},
   "outputs": [],
   "source": [
    "# incident.describe()"
   ]
  },
  {
   "cell_type": "code",
   "execution_count": 15,
   "metadata": {},
   "outputs": [],
   "source": [
    "incident = incident.drop(['Year_of_Incident',\n",
    "                          #'Service_Number_ID', \n",
    "                          'Type_of_Incident','Type_Location', \n",
    "                          'Reporting_Area', 'Beat', 'Sector','Council_District',\n",
    "                          'Call_Received_Date_Time', 'Call_Cleared_Date_Time', 'Call_Dispatch_Date_Time',\n",
    "                          #'Person_Involvement_Type', \n",
    "                          'Victim_Gender', 'Offense_Status', 'Victim_Condition',\n",
    "                          #'Family_Offense', \n",
    "                          'Weapon_Used', \n",
    "                          'RMS_Code', 'UCR_Code',\n",
    "                          #'X_Coordinate', 'Y_Coordinate',\n",
    "                          #'Zip_Code', \n",
    "                          'City', 'State',\n",
    "                          'Location1', \n",
    "                          'Call_Received', 'Call_Cleared', 'Call_Dispatch',\n",
    "                          'Latitude', 'Longitude','Unnamed: 0'],axis=1)"
   ]
  },
  {
   "cell_type": "code",
   "execution_count": 16,
   "metadata": {},
   "outputs": [
    {
     "name": "stdout",
     "output_type": "stream",
     "text": [
      "Class 0: 184733\n",
      "Class 1: 23258\n",
      "Proportion: 7.94 : 1\n"
     ]
    },
    {
     "data": {
      "text/plain": [
       "<Figure size 576x360 with 0 Axes>"
      ]
     },
     "metadata": {},
     "output_type": "display_data"
    },
    {
     "data": {
      "image/png": "[encoded data removed]",
      "text/plain": [
       "<Figure size 720x432 with 1 Axes>"
      ]
     },
     "metadata": {
      "needs_background": "light"
     },
     "output_type": "display_data"
    }
   ],
   "source": [
    "# Explore response variable distribution\n",
    "plt.figure(figsize=(8,5))\n",
    "target_count = incident.Arrest_status.value_counts()\n",
    "print('Class 0:', target_count[0])\n",
    "print('Class 1:', target_count[1])\n",
    "print('Proportion:', round(target_count[0] / target_count[1], 2), ': 1')\n",
    "\n",
    "# Draw bar plot\n",
    "\n",
    "# data to plot\n",
    "n_groups = 1\n",
    "NoArrest=incident.Arrest_status.value_counts()[0]\n",
    "Arrest=incident.Arrest_status.value_counts()[1]\n",
    " \n",
    "# create plot\n",
    "index = np.arange(n_groups)\n",
    "bar_width = 0.5\n",
    "opacity = 0.8\n",
    "plt.figure(figsize=(10,6))\n",
    "plt.bar(index, NoArrest, bar_width,\n",
    "                 alpha=opacity,\n",
    "                 color='g',\n",
    "                 label='No Arrest')\n",
    " \n",
    "plt.bar(index + bar_width, Arrest, bar_width,\n",
    "                 alpha=opacity,\n",
    "                 color='r',\n",
    "                 label='Arrest')\n",
    " \n",
    "plt.xlabel('Arrest Status')\n",
    "plt.ylabel('Number of Incident')\n",
    "plt.title('Dallas City Police Incident Vs. Arrest Status Before Resampling')\n",
    "plt.xlim(-0.8, 2)\n",
    "plt.xticks(index + bar_width/2, (''))\n",
    "plt.legend()\n",
    " \n",
    "plt.show()"
   ]
  },
  {
   "cell_type": "code",
   "execution_count": 17,
   "metadata": {},
   "outputs": [
    {
     "data": {
      "text/plain": [
       "1    23258\n",
       "0    23258\n",
       "Name: Arrest_status, dtype: int64"
      ]
     },
     "execution_count": 17,
     "metadata": {},
     "output_type": "execute_result"
    }
   ],
   "source": [
    "# Import resample package\n",
    "from sklearn.utils import resample\n",
    "\n",
    "# Downsampling\n",
    "df_majority = incident[incident.Arrest_status==0]\n",
    "df_minority = incident[incident.Arrest_status==1]\n",
    " \n",
    "# Downsample majority class\n",
    "df_majority_downsampled = resample(df_majority, \n",
    "                                 replace=False,    # sample without replacement\n",
    "                                 n_samples=23258,     # to match minority class\n",
    "                                 random_state=123) # reproducible results\n",
    " \n",
    "# Combine minority class with downsampled majority class\n",
    "df_downsampled = pd.concat([df_majority_downsampled, df_minority])\n",
    " \n",
    "# Display new class counts\n",
    "df_downsampled.Arrest_status.value_counts()"
   ]
  },
  {
   "cell_type": "code",
   "execution_count": 18,
   "metadata": {},
   "outputs": [
    {
     "data": {
      "image/png": "[encoded data removed]",
      "text/plain": [
       "<Figure size 720x432 with 1 Axes>"
      ]
     },
     "metadata": {
      "needs_background": "light"
     },
     "output_type": "display_data"
    }
   ],
   "source": [
    "n_groups = 1\n",
    "NoArrest=df_downsampled.Arrest_status.value_counts()[0]\n",
    "Arrest=df_downsampled.Arrest_status.value_counts()[1]\n",
    " \n",
    "# create plot\n",
    "#ax = plt.subplots()\n",
    "index = np.arange(n_groups)\n",
    "bar_width = 0.5\n",
    "opacity = 0.8\n",
    "plt.figure(figsize=(10,6))\n",
    "plt.bar(index, NoArrest, bar_width,\n",
    "                 alpha=opacity,\n",
    "                 color='g',\n",
    "                 label='No Arrest')\n",
    " \n",
    "plt.bar(index + bar_width, Arrest, bar_width,\n",
    "                 alpha=opacity,\n",
    "                 color='r',\n",
    "                 label='Arrest')\n",
    " \n",
    "plt.xlabel('Arrest Status')\n",
    "plt.ylabel('Number of Incident')\n",
    "plt.title('Dallas City Police Incident Vs. Arrest Status After Resampling')\n",
    "plt.xlim(-0.8, 2)\n",
    "plt.xticks(index + bar_width/2, (''))\n",
    "plt.legend()\n",
    " \n",
    "#plt.tight_layout()\n",
    "plt.show()"
   ]
  },
  {
   "cell_type": "code",
   "execution_count": 19,
   "metadata": {},
   "outputs": [],
   "source": [
    "# copy the down sampling dataset to original incident data frame and continue the anl\n",
    "incident= df_downsampled.copy() # skip reampling for now"
   ]
  },
  {
   "cell_type": "code",
   "execution_count": 20,
   "metadata": {},
   "outputs": [
    {
     "name": "stdout",
     "output_type": "stream",
     "text": [
      "Drug_Related          Social_crime_score         0.842025\n",
      "Call_Received_Hour    Watch                      0.714936\n",
      "UCR_Offense_Name      UCR_Offense_Description    0.682055\n",
      "Gang_Related_Offense  Social_crime_score         0.572519\n",
      "Y_Coordinate          Victim_Race                0.254865\n",
      "                                                   ...   \n",
      "Response_time         Arrest_status             -0.182065\n",
      "Arrest_status         UCR_Offense_Description   -0.226914\n",
      "Victim_Race           Division                  -0.287539\n",
      "Arrest_status         UCR_Offense_Name          -0.289751\n",
      "Division              Y_Coordinate              -0.619457\n",
      "Length: 210, dtype: float64\n"
     ]
    }
   ],
   "source": [
    "\n",
    "#Create correlation matrix\n",
    "CorrMat = incident.corr()\n",
    "\n",
    "# Highest Correlation Pairs\n",
    "corrPairs = CorrMat.unstack().sort_values(kind=\"quicksort\", ascending=False)\n",
    "#- REMOVE DUPLICATES\n",
    "corrPairs = corrPairs[::2]\n",
    "corrPairs = corrPairs[corrPairs.index.get_level_values(0) != corrPairs.index.get_level_values(1)]\n",
    "with pd.option_context('display.max_rows',10):\n",
    "    print(corrPairs)"
   ]
  },
  {
   "cell_type": "code",
   "execution_count": 21,
   "metadata": {},
   "outputs": [
    {
     "name": "stdout",
     "output_type": "stream",
     "text": [
      "UCR_Offense_Name         UCR_Offense_Description    0.682055\n",
      "Y_Coordinate             Victim_Race                0.254865\n",
      "UCR_Offense_Name         Victim_Race                0.127743\n",
      "UCR_Offense_Description  Victim_Race                0.110224\n",
      "Number_of_offense        Social_crime_score         0.106100\n",
      "                                                      ...   \n",
      "Response_time            Arrest_status             -0.182065\n",
      "Arrest_status            UCR_Offense_Description   -0.226914\n",
      "Division                 Victim_Race               -0.287539\n",
      "Arrest_status            UCR_Offense_Name          -0.289751\n",
      "Y_Coordinate             Division                  -0.619457\n",
      "Length: 136, dtype: float64\n"
     ]
    }
   ],
   "source": [
    "#Drop highly correlated, insignificant and high VIF columns.\n",
    "incident = incident.drop(['Drug_Related','Watch','Gang_Related_Offense','Hate_Crime'], axis=1)\n",
    "\n",
    "#Create correlation matrix\n",
    "CorrMat = incident.corr()\n",
    "\n",
    "# Highest Correlation Pairs\n",
    "corrPairs = CorrMat.unstack().sort_values(kind=\"quicksort\", ascending=False)\n",
    "#- REMOVE DUPLICATES\n",
    "corrPairs = corrPairs[::2]\n",
    "corrPairs = corrPairs[corrPairs.index.get_level_values(0) != corrPairs.index.get_level_values(1)]\n",
    "with pd.option_context('display.max_rows',10):\n",
    "    print(corrPairs)"
   ]
  },
  {
   "cell_type": "code",
   "execution_count": 22,
   "metadata": {},
   "outputs": [
    {
     "data": {
      "text/html": [
       "<style  type=\"text/css\" >\n",
       "    #T_b6514408_d57b_11e8_8b39_3ca0677b960erow0_col0 {\n",
       "            background-color:  #ffe5e5;\n",
       "        }    #T_b6514408_d57b_11e8_8b39_3ca0677b960erow0_col1 {\n",
       "            background-color:  #ffe5e5;\n",
       "        }    #T_b6514408_d57b_11e8_8b39_3ca0677b960erow1_col0 {\n",
       "            background-color:  #ff0000;\n",
       "        }    #T_b6514408_d57b_11e8_8b39_3ca0677b960erow1_col1 {\n",
       "            background-color:  #ff0000;\n",
       "        }</style>  \n",
       "<table id=\"T_b6514408_d57b_11e8_8b39_3ca0677b960e\" > \n",
       "<thead>    <tr> \n",
       "        <th class=\"blank level0\" ></th> \n",
       "        <th class=\"col_heading level0 col0\" >n Missing</th> \n",
       "        <th class=\"col_heading level0 col1\" >% Missing</th> \n",
       "    </tr></thead> \n",
       "<tbody>    <tr> \n",
       "        <th id=\"T_b6514408_d57b_11e8_8b39_3ca0677b960elevel0_row0\" class=\"row_heading level0 row0\" >Family_Offense</th> \n",
       "        <td id=\"T_b6514408_d57b_11e8_8b39_3ca0677b960erow0_col0\" class=\"data row0 col0\" >13</td> \n",
       "        <td id=\"T_b6514408_d57b_11e8_8b39_3ca0677b960erow0_col1\" class=\"data row0 col1\" >0.03</td> \n",
       "    </tr>    <tr> \n",
       "        <th id=\"T_b6514408_d57b_11e8_8b39_3ca0677b960elevel0_row1\" class=\"row_heading level0 row1\" >IncidentNum</th> \n",
       "        <td id=\"T_b6514408_d57b_11e8_8b39_3ca0677b960erow1_col0\" class=\"data row1 col0\" >37954</td> \n",
       "        <td id=\"T_b6514408_d57b_11e8_8b39_3ca0677b960erow1_col1\" class=\"data row1 col1\" >81.59</td> \n",
       "    </tr></tbody> \n",
       "</table> "
      ],
      "text/plain": [
       "<pandas.io.formats.style.Styler at 0x17d1e293240>"
      ]
     },
     "execution_count": 22,
     "metadata": {},
     "output_type": "execute_result"
    }
   ],
   "source": [
    "#-----------------------------------------------------------------------------\n",
    "# Aggregating the data\n",
    "#-----------------------------------------------------------------------------\n",
    "incident_NullCols = incident.isnull().sum()\n",
    "incident_NullCols = incident_NullCols[incident_NullCols > 0]\n",
    "\n",
    "#-----------------------------------------------------------------------------\n",
    "# Renaming the headers for clarity\n",
    "#-----------------------------------------------------------------------------\n",
    "incident_NullCols = pd.DataFrame({'n Missing' : incident_NullCols,\n",
    "                                  '% Missing' : ((incident_NullCols / incident.shape[0])*100).round(2)})\n",
    "\n",
    "#-----------------------------------------------------------------------------\n",
    "# Sorting the dataframe \n",
    "#-----------------------------------------------------------------------------\n",
    "incident_NullCols = incident_NullCols.sort_values('n Missing')\n",
    "\n",
    "#-----------------------------------------------------------------------------\n",
    "# Color coding the results for enhanced visualization of results\n",
    "#-----------------------------------------------------------------------------\n",
    "cm = sns.light_palette(\"red\", as_cmap=True)\n",
    "incident_NullCols.style.background_gradient(cmap=cm)\n"
   ]
  },
  {
   "cell_type": "code",
   "execution_count": 23,
   "metadata": {},
   "outputs": [],
   "source": [
    "incident = incident.drop(['Family_Offense',\n",
    "                          #'Call_Dispatch_Date_Time','Call_Cleared_Date_Time','Call_Received_Date_Time',\n",
    "                          #'UCR_Offense_Description',\n",
    "                          'IncidentNum','Incident_Number_w/year',\n",
    "                          'Service_Number_ID'\n",
    "                        #,'Unnamed: 0'\n",
    "                         ]\n",
    "                         ,axis = 1)"
   ]
  },
  {
   "cell_type": "code",
   "execution_count": 24,
   "metadata": {},
   "outputs": [
    {
     "name": "stdout",
     "output_type": "stream",
     "text": [
      "<class 'pandas.core.frame.DataFrame'>\n",
      "Int64Index: 46516 entries, 231052 to 256267\n",
      "Data columns (total 17 columns):\n",
      "Division                   46516 non-null int8\n",
      "Day1_of_the_Week           46516 non-null int8\n",
      "Person_Involvement_Type    46516 non-null int8\n",
      "Victim_Type                46516 non-null int8\n",
      "Victim_Race                46516 non-null int8\n",
      "Victim_Age                 46516 non-null int32\n",
      "UCR_Offense_Name           46516 non-null int8\n",
      "X_Coordinate               46516 non-null float64\n",
      "Y_Coordinate               46516 non-null float64\n",
      "Zip_Code                   46516 non-null int64\n",
      "UCR_Offense_Description    46516 non-null int8\n",
      "Number_of_offense          46516 non-null int32\n",
      "Response_time              46516 non-null int32\n",
      "Arrest_status              46516 non-null int64\n",
      "Call_Received_Hour         46516 non-null float64\n",
      "IsMale                     46516 non-null int32\n",
      "Social_crime_score         46516 non-null int64\n",
      "dtypes: float64(3), int32(4), int64(3), int8(7)\n",
      "memory usage: 3.5 MB\n"
     ]
    }
   ],
   "source": [
    "incident.info()"
   ]
  },
  {
   "cell_type": "code",
   "execution_count": 25,
   "metadata": {},
   "outputs": [],
   "source": [
    "incident_final = incident.copy()"
   ]
  },
  {
   "cell_type": "code",
   "execution_count": 26,
   "metadata": {},
   "outputs": [],
   "source": [
    "\n",
    "# Y Response variable dataframe\n",
    "inci_Y = incident_final['Arrest_status']\n",
    "\n",
    "# Features with no predictive features with respect to resposne variable\n",
    "inci_X = incident_final.drop(['Arrest_status'],axis=1)"
   ]
  },
  {
   "cell_type": "code",
   "execution_count": 27,
   "metadata": {},
   "outputs": [],
   "source": [
    "from sklearn.preprocessing import StandardScaler\n",
    "\n",
    "#Scale data\n",
    "scaler = StandardScaler()\n",
    "inci_X = scaler.fit_transform(inci_X)\n",
    "# inci_X_Rfe_scaled = scaler.fit_transform(inci_X_Rfe)\n",
    "# inci_X_SVM_scaled = scaler.fit_transform(inci_X_SVM)\n",
    "\n",
    "#Save as data frames\n",
    "inci_X = pd.DataFrame(inci_X)\n",
    "# df_inci_X_Rfe_scaled = pd.DataFrame(inci_X_Rfe_scaled)\n",
    "# df_inci_X_SVM_scaled= pd.DataFrame(inci_X_SVM_scaled)"
   ]
  },
  {
   "cell_type": "markdown",
   "metadata": {},
   "source": [
    "### Cross Validation "
   ]
  },
  {
   "cell_type": "code",
   "execution_count": 28,
   "metadata": {},
   "outputs": [
    {
     "data": {
      "text/plain": [
       "0     0\n",
       "1     0\n",
       "2     0\n",
       "3     0\n",
       "4     0\n",
       "5     0\n",
       "6     0\n",
       "7     0\n",
       "8     0\n",
       "9     0\n",
       "10    0\n",
       "11    0\n",
       "12    0\n",
       "13    0\n",
       "14    0\n",
       "15    0\n",
       "dtype: int64"
      ]
     },
     "execution_count": 28,
     "metadata": {},
     "output_type": "execute_result"
    }
   ],
   "source": [
    "inci_X.isnull().sum()"
   ]
  },
  {
   "cell_type": "code",
   "execution_count": 29,
   "metadata": {},
   "outputs": [],
   "source": [
    "from sklearn.model_selection import ShuffleSplit\n",
    "# Create Cross Validation Object with 10 folds with 80/20 train - test split\n",
    "cv = ShuffleSplit(n_splits = 10, test_size=0.20, random_state=0)"
   ]
  },
  {
   "cell_type": "code",
   "execution_count": 30,
   "metadata": {},
   "outputs": [
    {
     "name": "stdout",
     "output_type": "stream",
     "text": [
      "Wall time: 96.8 ms\n"
     ]
    }
   ],
   "source": [
    "%%time\n",
    "inci_X = inci_X.as_matrix().astype(np.float)\n",
    "inci_Y = inci_Y.as_matrix().astype(np.float)\n",
    "\n",
    "for trainidx, testidx in cv.split(inci_X,inci_Y):\n",
    "    X_train, X_test = inci_X[trainidx], inci_X[testidx]    \n",
    "    y_train, y_test = inci_Y[trainidx], inci_Y[testidx]"
   ]
  },
  {
   "cell_type": "code",
   "execution_count": 31,
   "metadata": {},
   "outputs": [
    {
     "data": {
      "image/png": "[encoded data removed]",
      "text/plain": [
       "<Figure size 576x396 with 1 Axes>"
      ]
     },
     "metadata": {},
     "output_type": "display_data"
    }
   ],
   "source": [
    "\n",
    "from sklearn.tree import DecisionTreeRegressor\n",
    "from yellowbrick.model_selection import ValidationCurve\n",
    "\n",
    "\n",
    "viz = ValidationCurve(\n",
    "    DecisionTreeRegressor(),  param_name=\"max_depth\",\n",
    "    param_range=np.arange(1, 11), cv=10, scoring=\"r2\"\n",
    ")\n",
    "\n",
    "# Fit and poof the visualizer\n",
    "viz.fit(X_train, y_train)\n",
    "viz.poof()"
   ]
  },
  {
   "cell_type": "code",
   "execution_count": 32,
   "metadata": {},
   "outputs": [
    {
     "name": "stdout",
     "output_type": "stream",
     "text": [
      "Iteration::  1\n",
      "Classification Report\n",
      "              precision    recall  f1-score   support\n",
      "\n",
      "         0.0       0.62      0.62      0.62      4619\n",
      "         1.0       0.62      0.63      0.63      4685\n",
      "\n",
      "   micro avg       0.62      0.62      0.62      9304\n",
      "   macro avg       0.62      0.62      0.62      9304\n",
      "weighted avg       0.62      0.62      0.62      9304\n",
      "\n",
      "Confusion Matrix\n",
      "[[2845 1774]\n",
      " [1737 2948]]\n",
      "Accuracy of classifier with 1 neighbors is: 0.62\n",
      "Precision Score of classifier with 1 neighbors is: 0.62\n",
      "Iteration::  2\n",
      "Classification Report\n",
      "              precision    recall  f1-score   support\n",
      "\n",
      "         0.0       0.58      0.80      0.67      4619\n",
      "         1.0       0.68      0.42      0.52      4685\n",
      "\n",
      "   micro avg       0.61      0.61      0.61      9304\n",
      "   macro avg       0.63      0.61      0.59      9304\n",
      "weighted avg       0.63      0.61      0.59      9304\n",
      "\n",
      "Confusion Matrix\n",
      "[[3687  932]\n",
      " [2723 1962]]\n",
      "Accuracy of classifier with 2 neighbors is: 0.61\n",
      "Precision Score of classifier with 2 neighbors is: 0.68\n",
      "Iteration::  3\n",
      "Classification Report\n",
      "              precision    recall  f1-score   support\n",
      "\n",
      "         0.0       0.64      0.63      0.63      4619\n",
      "         1.0       0.64      0.65      0.64      4685\n",
      "\n",
      "   micro avg       0.64      0.64      0.64      9304\n",
      "   macro avg       0.64      0.64      0.64      9304\n",
      "weighted avg       0.64      0.64      0.64      9304\n",
      "\n",
      "Confusion Matrix\n",
      "[[2907 1712]\n",
      " [1661 3024]]\n",
      "Accuracy of classifier with 3 neighbors is: 0.64\n",
      "Precision Score of classifier with 3 neighbors is: 0.64\n",
      "Iteration::  4\n",
      "Classification Report\n",
      "              precision    recall  f1-score   support\n",
      "\n",
      "         0.0       0.61      0.75      0.67      4619\n",
      "         1.0       0.68      0.52      0.59      4685\n",
      "\n",
      "   micro avg       0.63      0.63      0.63      9304\n",
      "   macro avg       0.64      0.63      0.63      9304\n",
      "weighted avg       0.64      0.63      0.63      9304\n",
      "\n",
      "Confusion Matrix\n",
      "[[3464 1155]\n",
      " [2258 2427]]\n",
      "Accuracy of classifier with 4 neighbors is: 0.63\n",
      "Precision Score of classifier with 4 neighbors is: 0.68\n",
      "Iteration::  5\n",
      "Classification Report\n",
      "              precision    recall  f1-score   support\n",
      "\n",
      "         0.0       0.65      0.64      0.64      4619\n",
      "         1.0       0.65      0.66      0.65      4685\n",
      "\n",
      "   micro avg       0.65      0.65      0.65      9304\n",
      "   macro avg       0.65      0.65      0.65      9304\n",
      "weighted avg       0.65      0.65      0.65      9304\n",
      "\n",
      "Confusion Matrix\n",
      "[[2940 1679]\n",
      " [1592 3093]]\n",
      "Accuracy of classifier with 5 neighbors is: 0.65\n",
      "Precision Score of classifier with 5 neighbors is: 0.65\n",
      "Iteration::  6\n",
      "Classification Report\n",
      "              precision    recall  f1-score   support\n",
      "\n",
      "         0.0       0.62      0.73      0.67      4619\n",
      "         1.0       0.68      0.57      0.62      4685\n",
      "\n",
      "   micro avg       0.65      0.65      0.65      9304\n",
      "   macro avg       0.65      0.65      0.64      9304\n",
      "weighted avg       0.65      0.65      0.64      9304\n",
      "\n",
      "Confusion Matrix\n",
      "[[3366 1253]\n",
      " [2034 2651]]\n",
      "Accuracy of classifier with 6 neighbors is: 0.65\n",
      "Precision Score of classifier with 6 neighbors is: 0.68\n",
      "Iteration::  7\n",
      "Classification Report\n",
      "              precision    recall  f1-score   support\n",
      "\n",
      "         0.0       0.66      0.63      0.64      4619\n",
      "         1.0       0.65      0.67      0.66      4685\n",
      "\n",
      "   micro avg       0.65      0.65      0.65      9304\n",
      "   macro avg       0.65      0.65      0.65      9304\n",
      "weighted avg       0.65      0.65      0.65      9304\n",
      "\n",
      "Confusion Matrix\n",
      "[[2909 1710]\n",
      " [1523 3162]]\n",
      "Accuracy of classifier with 7 neighbors is: 0.65\n",
      "Precision Score of classifier with 7 neighbors is: 0.65\n",
      "Iteration::  8\n",
      "Classification Report\n",
      "              precision    recall  f1-score   support\n",
      "\n",
      "         0.0       0.64      0.72      0.68      4619\n",
      "         1.0       0.68      0.59      0.63      4685\n",
      "\n",
      "   micro avg       0.66      0.66      0.66      9304\n",
      "   macro avg       0.66      0.66      0.66      9304\n",
      "weighted avg       0.66      0.66      0.66      9304\n",
      "\n",
      "Confusion Matrix\n",
      "[[3327 1292]\n",
      " [1905 2780]]\n",
      "Accuracy of classifier with 8 neighbors is: 0.66\n",
      "Precision Score of classifier with 8 neighbors is: 0.68\n",
      "Iteration::  9\n",
      "Classification Report\n",
      "              precision    recall  f1-score   support\n",
      "\n",
      "         0.0       0.66      0.65      0.65      4619\n",
      "         1.0       0.66      0.67      0.67      4685\n",
      "\n",
      "   micro avg       0.66      0.66      0.66      9304\n",
      "   macro avg       0.66      0.66      0.66      9304\n",
      "weighted avg       0.66      0.66      0.66      9304\n",
      "\n",
      "Confusion Matrix\n",
      "[[2986 1633]\n",
      " [1525 3160]]\n",
      "Accuracy of classifier with 9 neighbors is: 0.66\n",
      "Precision Score of classifier with 9 neighbors is: 0.66\n",
      "Iteration::  10\n",
      "Classification Report\n",
      "              precision    recall  f1-score   support\n",
      "\n",
      "         0.0       0.64      0.71      0.68      4619\n",
      "         1.0       0.68      0.61      0.65      4685\n",
      "\n",
      "   micro avg       0.66      0.66      0.66      9304\n",
      "   macro avg       0.66      0.66      0.66      9304\n",
      "weighted avg       0.66      0.66      0.66      9304\n",
      "\n",
      "Confusion Matrix\n",
      "[[3299 1320]\n",
      " [1818 2867]]\n",
      "Accuracy of classifier with 10 neighbors is: 0.66\n",
      "Precision Score of classifier with 10 neighbors is: 0.68\n",
      "Iteration::  11\n",
      "Classification Report\n",
      "              precision    recall  f1-score   support\n",
      "\n",
      "         0.0       0.66      0.65      0.66      4619\n",
      "         1.0       0.66      0.67      0.67      4685\n",
      "\n",
      "   micro avg       0.66      0.66      0.66      9304\n",
      "   macro avg       0.66      0.66      0.66      9304\n",
      "weighted avg       0.66      0.66      0.66      9304\n",
      "\n",
      "Confusion Matrix\n",
      "[[3015 1604]\n",
      " [1526 3159]]\n",
      "Accuracy of classifier with 11 neighbors is: 0.66\n",
      "Precision Score of classifier with 11 neighbors is: 0.66\n",
      "Iteration::  12\n",
      "Classification Report\n",
      "              precision    recall  f1-score   support\n",
      "\n",
      "         0.0       0.65      0.70      0.67      4619\n",
      "         1.0       0.68      0.62      0.65      4685\n",
      "\n",
      "   micro avg       0.66      0.66      0.66      9304\n",
      "   macro avg       0.66      0.66      0.66      9304\n",
      "weighted avg       0.66      0.66      0.66      9304\n",
      "\n",
      "Confusion Matrix\n",
      "[[3252 1367]\n",
      " [1787 2898]]\n",
      "Accuracy of classifier with 12 neighbors is: 0.66\n",
      "Precision Score of classifier with 12 neighbors is: 0.68\n",
      "Iteration::  13\n",
      "Classification Report\n",
      "              precision    recall  f1-score   support\n",
      "\n",
      "         0.0       0.66      0.66      0.66      4619\n",
      "         1.0       0.67      0.67      0.67      4685\n",
      "\n",
      "   micro avg       0.66      0.66      0.66      9304\n",
      "   macro avg       0.66      0.66      0.66      9304\n",
      "weighted avg       0.66      0.66      0.66      9304\n",
      "\n",
      "Confusion Matrix\n",
      "[[3038 1581]\n",
      " [1539 3146]]\n",
      "Accuracy of classifier with 13 neighbors is: 0.66\n",
      "Precision Score of classifier with 13 neighbors is: 0.67\n",
      "Iteration::  14\n",
      "Classification Report\n",
      "              precision    recall  f1-score   support\n",
      "\n",
      "         0.0       0.65      0.71      0.68      4619\n",
      "         1.0       0.69      0.63      0.66      4685\n",
      "\n",
      "   micro avg       0.67      0.67      0.67      9304\n",
      "   macro avg       0.67      0.67      0.67      9304\n",
      "weighted avg       0.67      0.67      0.67      9304\n",
      "\n",
      "Confusion Matrix\n",
      "[[3275 1344]\n",
      " [1735 2950]]\n",
      "Accuracy of classifier with 14 neighbors is: 0.67\n",
      "Precision Score of classifier with 14 neighbors is: 0.69\n",
      "Iteration::  15\n",
      "Classification Report\n",
      "              precision    recall  f1-score   support\n",
      "\n",
      "         0.0       0.67      0.66      0.66      4619\n",
      "         1.0       0.67      0.67      0.67      4685\n",
      "\n",
      "   micro avg       0.67      0.67      0.67      9304\n",
      "   macro avg       0.67      0.67      0.67      9304\n",
      "weighted avg       0.67      0.67      0.67      9304\n",
      "\n",
      "Confusion Matrix\n",
      "[[3061 1558]\n",
      " [1535 3150]]\n",
      "Accuracy of classifier with 15 neighbors is: 0.67\n",
      "Precision Score of classifier with 15 neighbors is: 0.67\n",
      "Iteration::  16\n",
      "Classification Report\n",
      "              precision    recall  f1-score   support\n",
      "\n",
      "         0.0       0.65      0.70      0.68      4619\n",
      "         1.0       0.68      0.63      0.66      4685\n",
      "\n",
      "   micro avg       0.67      0.67      0.67      9304\n",
      "   macro avg       0.67      0.67      0.67      9304\n",
      "weighted avg       0.67      0.67      0.67      9304\n",
      "\n",
      "Confusion Matrix\n",
      "[[3244 1375]\n",
      " [1716 2969]]\n",
      "Accuracy of classifier with 16 neighbors is: 0.67\n",
      "Precision Score of classifier with 16 neighbors is: 0.68\n",
      "Iteration::  17\n"
     ]
    },
    {
     "name": "stdout",
     "output_type": "stream",
     "text": [
      "Classification Report\n",
      "              precision    recall  f1-score   support\n",
      "\n",
      "         0.0       0.67      0.66      0.66      4619\n",
      "         1.0       0.67      0.67      0.67      4685\n",
      "\n",
      "   micro avg       0.67      0.67      0.67      9304\n",
      "   macro avg       0.67      0.67      0.67      9304\n",
      "weighted avg       0.67      0.67      0.67      9304\n",
      "\n",
      "Confusion Matrix\n",
      "[[3062 1557]\n",
      " [1538 3147]]\n",
      "Accuracy of classifier with 17 neighbors is: 0.67\n",
      "Precision Score of classifier with 17 neighbors is: 0.67\n",
      "Iteration::  18\n",
      "Classification Report\n",
      "              precision    recall  f1-score   support\n",
      "\n",
      "         0.0       0.65      0.70      0.67      4619\n",
      "         1.0       0.68      0.64      0.66      4685\n",
      "\n",
      "   micro avg       0.67      0.67      0.67      9304\n",
      "   macro avg       0.67      0.67      0.67      9304\n",
      "weighted avg       0.67      0.67      0.67      9304\n",
      "\n",
      "Confusion Matrix\n",
      "[[3222 1397]\n",
      " [1707 2978]]\n",
      "Accuracy of classifier with 18 neighbors is: 0.67\n",
      "Precision Score of classifier with 18 neighbors is: 0.68\n",
      "Iteration::  19\n",
      "Classification Report\n",
      "              precision    recall  f1-score   support\n",
      "\n",
      "         0.0       0.67      0.66      0.66      4619\n",
      "         1.0       0.67      0.67      0.67      4685\n",
      "\n",
      "   micro avg       0.67      0.67      0.67      9304\n",
      "   macro avg       0.67      0.67      0.67      9304\n",
      "weighted avg       0.67      0.67      0.67      9304\n",
      "\n",
      "Confusion Matrix\n",
      "[[3052 1567]\n",
      " [1536 3149]]\n",
      "Accuracy of classifier with 19 neighbors is: 0.67\n",
      "Precision Score of classifier with 19 neighbors is: 0.67\n",
      "Iteration::  20\n",
      "Classification Report\n",
      "              precision    recall  f1-score   support\n",
      "\n",
      "         0.0       0.66      0.70      0.68      4619\n",
      "         1.0       0.68      0.64      0.66      4685\n",
      "\n",
      "   micro avg       0.67      0.67      0.67      9304\n",
      "   macro avg       0.67      0.67      0.67      9304\n",
      "weighted avg       0.67      0.67      0.67      9304\n",
      "\n",
      "Confusion Matrix\n",
      "[[3220 1399]\n",
      " [1693 2992]]\n",
      "Accuracy of classifier with 20 neighbors is: 0.67\n",
      "Precision Score of classifier with 20 neighbors is: 0.68\n",
      "Iteration::  21\n",
      "Classification Report\n",
      "              precision    recall  f1-score   support\n",
      "\n",
      "         0.0       0.67      0.66      0.66      4619\n",
      "         1.0       0.67      0.67      0.67      4685\n",
      "\n",
      "   micro avg       0.67      0.67      0.67      9304\n",
      "   macro avg       0.67      0.67      0.67      9304\n",
      "weighted avg       0.67      0.67      0.67      9304\n",
      "\n",
      "Confusion Matrix\n",
      "[[3066 1553]\n",
      " [1537 3148]]\n",
      "Accuracy of classifier with 21 neighbors is: 0.67\n",
      "Precision Score of classifier with 21 neighbors is: 0.67\n",
      "Iteration::  22\n",
      "Classification Report\n",
      "              precision    recall  f1-score   support\n",
      "\n",
      "         0.0       0.66      0.70      0.68      4619\n",
      "         1.0       0.68      0.64      0.66      4685\n",
      "\n",
      "   micro avg       0.67      0.67      0.67      9304\n",
      "   macro avg       0.67      0.67      0.67      9304\n",
      "weighted avg       0.67      0.67      0.67      9304\n",
      "\n",
      "Confusion Matrix\n",
      "[[3223 1396]\n",
      " [1674 3011]]\n",
      "Accuracy of classifier with 22 neighbors is: 0.67\n",
      "Precision Score of classifier with 22 neighbors is: 0.68\n",
      "Iteration::  23\n",
      "Classification Report\n",
      "              precision    recall  f1-score   support\n",
      "\n",
      "         0.0       0.67      0.66      0.66      4619\n",
      "         1.0       0.67      0.67      0.67      4685\n",
      "\n",
      "   micro avg       0.67      0.67      0.67      9304\n",
      "   macro avg       0.67      0.67      0.67      9304\n",
      "weighted avg       0.67      0.67      0.67      9304\n",
      "\n",
      "Confusion Matrix\n",
      "[[3071 1548]\n",
      " [1547 3138]]\n",
      "Accuracy of classifier with 23 neighbors is: 0.67\n",
      "Precision Score of classifier with 23 neighbors is: 0.67\n",
      "Iteration::  24\n",
      "Classification Report\n",
      "              precision    recall  f1-score   support\n",
      "\n",
      "         0.0       0.66      0.70      0.68      4619\n",
      "         1.0       0.68      0.64      0.66      4685\n",
      "\n",
      "   micro avg       0.67      0.67      0.67      9304\n",
      "   macro avg       0.67      0.67      0.67      9304\n",
      "weighted avg       0.67      0.67      0.67      9304\n",
      "\n",
      "Confusion Matrix\n",
      "[[3227 1392]\n",
      " [1691 2994]]\n",
      "Accuracy of classifier with 24 neighbors is: 0.67\n",
      "Precision Score of classifier with 24 neighbors is: 0.68\n",
      "Iteration::  25\n",
      "Classification Report\n",
      "              precision    recall  f1-score   support\n",
      "\n",
      "         0.0       0.67      0.67      0.67      4619\n",
      "         1.0       0.67      0.67      0.67      4685\n",
      "\n",
      "   micro avg       0.67      0.67      0.67      9304\n",
      "   macro avg       0.67      0.67      0.67      9304\n",
      "weighted avg       0.67      0.67      0.67      9304\n",
      "\n",
      "Confusion Matrix\n",
      "[[3107 1512]\n",
      " [1563 3122]]\n",
      "Accuracy of classifier with 25 neighbors is: 0.67\n",
      "Precision Score of classifier with 25 neighbors is: 0.67\n",
      "Iteration::  26\n",
      "Classification Report\n",
      "              precision    recall  f1-score   support\n",
      "\n",
      "         0.0       0.66      0.70      0.68      4619\n",
      "         1.0       0.68      0.64      0.66      4685\n",
      "\n",
      "   micro avg       0.67      0.67      0.67      9304\n",
      "   macro avg       0.67      0.67      0.67      9304\n",
      "weighted avg       0.67      0.67      0.67      9304\n",
      "\n",
      "Confusion Matrix\n",
      "[[3232 1387]\n",
      " [1700 2985]]\n",
      "Accuracy of classifier with 26 neighbors is: 0.67\n",
      "Precision Score of classifier with 26 neighbors is: 0.68\n",
      "Iteration::  27\n",
      "Classification Report\n",
      "              precision    recall  f1-score   support\n",
      "\n",
      "         0.0       0.67      0.68      0.67      4619\n",
      "         1.0       0.68      0.67      0.67      4685\n",
      "\n",
      "   micro avg       0.67      0.67      0.67      9304\n",
      "   macro avg       0.67      0.67      0.67      9304\n",
      "weighted avg       0.67      0.67      0.67      9304\n",
      "\n",
      "Confusion Matrix\n",
      "[[3124 1495]\n",
      " [1568 3117]]\n",
      "Accuracy of classifier with 27 neighbors is: 0.67\n",
      "Precision Score of classifier with 27 neighbors is: 0.68\n",
      "Iteration::  28\n",
      "Classification Report\n",
      "              precision    recall  f1-score   support\n",
      "\n",
      "         0.0       0.66      0.70      0.68      4619\n",
      "         1.0       0.68      0.64      0.66      4685\n",
      "\n",
      "   micro avg       0.67      0.67      0.67      9304\n",
      "   macro avg       0.67      0.67      0.67      9304\n",
      "weighted avg       0.67      0.67      0.67      9304\n",
      "\n",
      "Confusion Matrix\n",
      "[[3230 1389]\n",
      " [1673 3012]]\n",
      "Accuracy of classifier with 28 neighbors is: 0.67\n",
      "Precision Score of classifier with 28 neighbors is: 0.68\n",
      "Iteration::  29\n",
      "Classification Report\n",
      "              precision    recall  f1-score   support\n",
      "\n",
      "         0.0       0.67      0.68      0.67      4619\n",
      "         1.0       0.68      0.66      0.67      4685\n",
      "\n",
      "   micro avg       0.67      0.67      0.67      9304\n",
      "   macro avg       0.67      0.67      0.67      9304\n",
      "weighted avg       0.67      0.67      0.67      9304\n",
      "\n",
      "Confusion Matrix\n",
      "[[3136 1483]\n",
      " [1573 3112]]\n",
      "Accuracy of classifier with 29 neighbors is: 0.67\n",
      "Precision Score of classifier with 29 neighbors is: 0.68\n",
      "Iteration::  30\n",
      "Classification Report\n",
      "              precision    recall  f1-score   support\n",
      "\n",
      "         0.0       0.66      0.70      0.68      4619\n",
      "         1.0       0.68      0.64      0.66      4685\n",
      "\n",
      "   micro avg       0.67      0.67      0.67      9304\n",
      "   macro avg       0.67      0.67      0.67      9304\n",
      "weighted avg       0.67      0.67      0.67      9304\n",
      "\n",
      "Confusion Matrix\n",
      "[[3233 1386]\n",
      " [1678 3007]]\n",
      "Accuracy of classifier with 30 neighbors is: 0.67\n",
      "Precision Score of classifier with 30 neighbors is: 0.68\n",
      "Iteration::  31\n",
      "Classification Report\n",
      "              precision    recall  f1-score   support\n",
      "\n",
      "         0.0       0.66      0.68      0.67      4619\n",
      "         1.0       0.68      0.66      0.67      4685\n",
      "\n",
      "   micro avg       0.67      0.67      0.67      9304\n",
      "   macro avg       0.67      0.67      0.67      9304\n",
      "weighted avg       0.67      0.67      0.67      9304\n",
      "\n",
      "Confusion Matrix\n",
      "[[3137 1482]\n",
      " [1585 3100]]\n",
      "Accuracy of classifier with 31 neighbors is: 0.67\n",
      "Precision Score of classifier with 31 neighbors is: 0.68\n",
      "Iteration::  32\n",
      "Classification Report\n",
      "              precision    recall  f1-score   support\n",
      "\n",
      "         0.0       0.66      0.70      0.68      4619\n",
      "         1.0       0.68      0.64      0.66      4685\n",
      "\n",
      "   micro avg       0.67      0.67      0.67      9304\n",
      "   macro avg       0.67      0.67      0.67      9304\n",
      "weighted avg       0.67      0.67      0.67      9304\n",
      "\n",
      "Confusion Matrix\n",
      "[[3234 1385]\n",
      " [1684 3001]]\n",
      "Accuracy of classifier with 32 neighbors is: 0.67\n",
      "Precision Score of classifier with 32 neighbors is: 0.68\n",
      "Iteration::  33\n"
     ]
    },
    {
     "name": "stdout",
     "output_type": "stream",
     "text": [
      "Classification Report\n",
      "              precision    recall  f1-score   support\n",
      "\n",
      "         0.0       0.66      0.68      0.67      4619\n",
      "         1.0       0.68      0.66      0.67      4685\n",
      "\n",
      "   micro avg       0.67      0.67      0.67      9304\n",
      "   macro avg       0.67      0.67      0.67      9304\n",
      "weighted avg       0.67      0.67      0.67      9304\n",
      "\n",
      "Confusion Matrix\n",
      "[[3144 1475]\n",
      " [1586 3099]]\n",
      "Accuracy of classifier with 33 neighbors is: 0.67\n",
      "Precision Score of classifier with 33 neighbors is: 0.68\n",
      "Iteration::  34\n",
      "Classification Report\n",
      "              precision    recall  f1-score   support\n",
      "\n",
      "         0.0       0.66      0.70      0.68      4619\n",
      "         1.0       0.69      0.64      0.66      4685\n",
      "\n",
      "   micro avg       0.67      0.67      0.67      9304\n",
      "   macro avg       0.67      0.67      0.67      9304\n",
      "weighted avg       0.67      0.67      0.67      9304\n",
      "\n",
      "Confusion Matrix\n",
      "[[3242 1377]\n",
      " [1673 3012]]\n",
      "Accuracy of classifier with 34 neighbors is: 0.67\n",
      "Precision Score of classifier with 34 neighbors is: 0.69\n",
      "Iteration::  35\n",
      "Classification Report\n",
      "              precision    recall  f1-score   support\n",
      "\n",
      "         0.0       0.67      0.69      0.68      4619\n",
      "         1.0       0.68      0.66      0.67      4685\n",
      "\n",
      "   micro avg       0.67      0.67      0.67      9304\n",
      "   macro avg       0.67      0.67      0.67      9304\n",
      "weighted avg       0.67      0.67      0.67      9304\n",
      "\n",
      "Confusion Matrix\n",
      "[[3165 1454]\n",
      " [1582 3103]]\n",
      "Accuracy of classifier with 35 neighbors is: 0.67\n",
      "Precision Score of classifier with 35 neighbors is: 0.68\n",
      "Iteration::  36\n",
      "Classification Report\n",
      "              precision    recall  f1-score   support\n",
      "\n",
      "         0.0       0.66      0.70      0.68      4619\n",
      "         1.0       0.69      0.64      0.66      4685\n",
      "\n",
      "   micro avg       0.67      0.67      0.67      9304\n",
      "   macro avg       0.67      0.67      0.67      9304\n",
      "weighted avg       0.67      0.67      0.67      9304\n",
      "\n",
      "Confusion Matrix\n",
      "[[3244 1375]\n",
      " [1668 3017]]\n",
      "Accuracy of classifier with 36 neighbors is: 0.67\n",
      "Precision Score of classifier with 36 neighbors is: 0.69\n",
      "Iteration::  37\n",
      "Classification Report\n",
      "              precision    recall  f1-score   support\n",
      "\n",
      "         0.0       0.67      0.68      0.68      4619\n",
      "         1.0       0.68      0.66      0.67      4685\n",
      "\n",
      "   micro avg       0.67      0.67      0.67      9304\n",
      "   macro avg       0.67      0.67      0.67      9304\n",
      "weighted avg       0.67      0.67      0.67      9304\n",
      "\n",
      "Confusion Matrix\n",
      "[[3162 1457]\n",
      " [1585 3100]]\n",
      "Accuracy of classifier with 37 neighbors is: 0.67\n",
      "Precision Score of classifier with 37 neighbors is: 0.68\n",
      "Iteration::  38\n",
      "Classification Report\n",
      "              precision    recall  f1-score   support\n",
      "\n",
      "         0.0       0.66      0.70      0.68      4619\n",
      "         1.0       0.69      0.64      0.67      4685\n",
      "\n",
      "   micro avg       0.67      0.67      0.67      9304\n",
      "   macro avg       0.67      0.67      0.67      9304\n",
      "weighted avg       0.67      0.67      0.67      9304\n",
      "\n",
      "Confusion Matrix\n",
      "[[3251 1368]\n",
      " [1667 3018]]\n",
      "Accuracy of classifier with 38 neighbors is: 0.67\n",
      "Precision Score of classifier with 38 neighbors is: 0.69\n",
      "Iteration::  39\n",
      "Classification Report\n",
      "              precision    recall  f1-score   support\n",
      "\n",
      "         0.0       0.66      0.69      0.67      4619\n",
      "         1.0       0.68      0.66      0.67      4685\n",
      "\n",
      "   micro avg       0.67      0.67      0.67      9304\n",
      "   macro avg       0.67      0.67      0.67      9304\n",
      "weighted avg       0.67      0.67      0.67      9304\n",
      "\n",
      "Confusion Matrix\n",
      "[[3165 1454]\n",
      " [1602 3083]]\n",
      "Accuracy of classifier with 39 neighbors is: 0.67\n",
      "Precision Score of classifier with 39 neighbors is: 0.68\n",
      "Wall time: 8min 27s\n"
     ]
    }
   ],
   "source": [
    "%%time\n",
    "from sklearn.model_selection import StratifiedKFold\n",
    "from sklearn.model_selection import StratifiedShuffleSplit\n",
    "from sklearn.metrics import classification_report,confusion_matrix, accuracy_score, precision_score, precision_recall_fscore_support\n",
    "from sklearn.neighbors import KNeighborsClassifier\n",
    "\n",
    "error_rate = []\n",
    "acc_score = []\n",
    "pres_score = []\n",
    "\n",
    "# Will take some time\n",
    "for K in np.arange(1, 40, 1):\n",
    "    print(\"Iteration:: \",K)\n",
    "    knn = KNeighborsClassifier(n_neighbors=K, weights='uniform', metric='euclidean')\n",
    "    knn.fit(X_train,y_train)\n",
    "    yhat = knn.predict(X_test)\n",
    "    \n",
    "    error_rate.append(np.mean(yhat != y_test))\n",
    "    acc = accuracy_score(y_test, yhat)\n",
    "    pres = precision_score(y_test, yhat)\n",
    "    acc_score.append(acc)\n",
    "    pres_score.append(pres)\n",
    "    print('Classification Report')\n",
    "    print(classification_report(y_test, yhat))\n",
    "    print('Confusion Matrix')\n",
    "    print(confusion_matrix(y_test, yhat))\n",
    "    print('Accuracy of classifier with %d neighbors is: %.2f'%(K,acc))\n",
    "    print('Precision Score of classifier with %d neighbors is: %.2f'%(K,pres))"
   ]
  },
  {
   "cell_type": "code",
   "execution_count": 33,
   "metadata": {},
   "outputs": [
    {
     "name": "stdout",
     "output_type": "stream",
     "text": [
      "Wall time: 14 ms\n"
     ]
    },
    {
     "data": {
      "image/png": "[encoded data removed]",
      "text/plain": [
       "<Figure size 720x432 with 1 Axes>"
      ]
     },
     "metadata": {},
     "output_type": "display_data"
    }
   ],
   "source": [
    "%%time\n",
    "\n",
    "plt.figure(figsize=(10,6))\n",
    "plt.plot(np.arange(1, 40, 1),error_rate,color='blue', linestyle='dashed', marker='o', markerfacecolor='red', markersize=10)\n",
    "plt.plot(np.arange(1, 40, 1),acc_score,color='red', linestyle='dashed', marker='o', markerfacecolor='blue', markersize=10)\n",
    "plt.plot(np.arange(1, 40, 1),pres_score,color='green', linestyle='dashed', marker='o', markerfacecolor='black', markersize=10)\n",
    "plt.title('Error Rate vs. K Value')\n",
    "plt.xlabel('K')\n",
    "plt.ylabel('Error Rate')"
   ]
  },
  {
   "cell_type": "code",
   "execution_count": 35,
   "metadata": {},
   "outputs": [
    {
     "name": "stdout",
     "output_type": "stream",
     "text": [
      "Classification Report\n",
      "              precision    recall  f1-score   support\n",
      "\n",
      "         0.0       0.65      0.71      0.68      4619\n",
      "         1.0       0.69      0.63      0.66      4685\n",
      "\n",
      "   micro avg       0.67      0.67      0.67      9304\n",
      "   macro avg       0.67      0.67      0.67      9304\n",
      "weighted avg       0.67      0.67      0.67      9304\n",
      "\n",
      "Confusion Matrix\n",
      "[[3275 1344]\n",
      " [1735 2950]]\n",
      "Accuracy of classifier with 14 neighbors is: 0.67\n",
      "Precision Score of classifier with 14 neighbors is: 0.69\n",
      "Wall time: 15.6 s\n"
     ]
    }
   ],
   "source": [
    "%%time\n",
    "\n",
    "K=14 #39\n",
    "\n",
    "knn = KNeighborsClassifier(n_neighbors=K, weights='uniform', metric='euclidean')\n",
    "knn.fit(X_train,y_train)\n",
    "yhat = knn.predict(X_test)\n",
    "\n",
    "acc = accuracy_score(y_test, yhat)\n",
    "pres = precision_score(y_test, yhat)\n",
    "print('Classification Report')\n",
    "print(classification_report(y_test, yhat))\n",
    "print('Confusion Matrix')\n",
    "print(confusion_matrix(y_test, yhat))\n",
    "print('Accuracy of classifier with %d neighbors is: %.2f'%(K,acc))\n",
    "print('Precision Score of classifier with %d neighbors is: %.2f'%(K,pres))"
   ]
  },
  {
   "cell_type": "code",
   "execution_count": 36,
   "metadata": {},
   "outputs": [
    {
     "data": {
      "image/png": "[encoded data removed]",
      "text/plain": [
       "<Figure size 576x396 with 1 Axes>"
      ]
     },
     "metadata": {},
     "output_type": "display_data"
    }
   ],
   "source": [
    "from sklearn import metrics as mt\n",
    "\n",
    "def per_class_accuracy(ytrue,yhat):\n",
    "    conf = mt.confusion_matrix(ytrue,yhat)\n",
    "    norm_conf = conf.astype('float') / conf.sum(axis=1)[:, np.newaxis]\n",
    "    return np.diag(norm_conf)\n",
    "\n",
    "def plot_class_acc(ytrue,yhat, title=''):\n",
    "    acc_list = per_class_accuracy(ytrue,yhat)\n",
    "    plt.bar(range(len(acc_list)), acc_list)\n",
    "    plt.xlabel('Class value (one per face)')\n",
    "    plt.ylabel('Accuracy within class')\n",
    "    plt.title(title+\", Total Acc=%.1f\"%(100*mt.accuracy_score(ytrue,yhat)))\n",
    "    plt.grid()\n",
    "    plt.ylim([0,1])\n",
    "    plt.show()\n",
    "    \n",
    "plot_class_acc(y_test,yhat,title=\"KNN\")"
   ]
  },
  {
   "cell_type": "code",
   "execution_count": 37,
   "metadata": {},
   "outputs": [
    {
     "name": "stdout",
     "output_type": "stream",
     "text": [
      "Classification Report\n",
      "              precision    recall  f1-score   support\n",
      "\n",
      "         0.0       0.63      0.71      0.67      4619\n",
      "         1.0       0.67      0.59      0.63      4685\n",
      "\n",
      "   micro avg       0.65      0.65      0.65      9304\n",
      "   macro avg       0.65      0.65      0.65      9304\n",
      "weighted avg       0.65      0.65      0.65      9304\n",
      "\n",
      "Confusion Matrix\n",
      "[[3269 1350]\n",
      " [1904 2781]]\n",
      "Accuracy of classifier with l1 metric is: 0.65\n",
      "Precision Score of classifier with l1 metric is: 0.67\n",
      "Classification Report\n",
      "              precision    recall  f1-score   support\n",
      "\n",
      "         0.0       0.64      0.67      0.65      4619\n",
      "         1.0       0.66      0.64      0.65      4685\n",
      "\n",
      "   micro avg       0.65      0.65      0.65      9304\n",
      "   macro avg       0.65      0.65      0.65      9304\n",
      "weighted avg       0.65      0.65      0.65      9304\n",
      "\n",
      "Confusion Matrix\n",
      "[[3076 1543]\n",
      " [1709 2976]]\n",
      "Accuracy of classifier with l2 metric is: 0.65\n",
      "Precision Score of classifier with l2 metric is: 0.66\n",
      "Classification Report\n",
      "              precision    recall  f1-score   support\n",
      "\n",
      "         0.0       0.64      0.67      0.65      4619\n",
      "         1.0       0.66      0.63      0.65      4685\n",
      "\n",
      "   micro avg       0.65      0.65      0.65      9304\n",
      "   macro avg       0.65      0.65      0.65      9304\n",
      "weighted avg       0.65      0.65      0.65      9304\n",
      "\n",
      "Confusion Matrix\n",
      "[[3077 1542]\n",
      " [1714 2971]]\n",
      "Accuracy of classifier with cosine metric is: 0.65\n",
      "Precision Score of classifier with cosine metric is: 0.66\n",
      "Classification Report\n",
      "              precision    recall  f1-score   support\n",
      "\n",
      "         0.0       0.64      0.67      0.65      4619\n",
      "         1.0       0.66      0.64      0.65      4685\n",
      "\n",
      "   micro avg       0.65      0.65      0.65      9304\n",
      "   macro avg       0.65      0.65      0.65      9304\n",
      "weighted avg       0.65      0.65      0.65      9304\n",
      "\n",
      "Confusion Matrix\n",
      "[[3076 1543]\n",
      " [1709 2976]]\n",
      "Accuracy of classifier with euclidean metric is: 0.65\n",
      "Precision Score of classifier with euclidean metric is: 0.66\n",
      "Wall time: 164 ms\n"
     ]
    }
   ],
   "source": [
    "%%time\n",
    "\n",
    "from sklearn.neighbors.nearest_centroid import NearestCentroid\n",
    "for d in ['l1', 'l2', 'cosine', 'euclidean']:\n",
    "    clf = NearestCentroid(metric=d)\n",
    "    clf.fit(X_train, y_train)\n",
    "    yhat = clf.predict(X_test)\n",
    "    acc = accuracy_score(y_test, yhat)\n",
    "    pres = precision_score(y_test, yhat)\n",
    "    print('Classification Report')\n",
    "    print(classification_report(y_test, yhat))\n",
    "    print('Confusion Matrix')\n",
    "    print(confusion_matrix(y_test, yhat))\n",
    "    print('Accuracy of classifier with %s metric is: %.2f'%(d,acc))\n",
    "    print('Precision Score of classifier with %s metric is: %.2f'%(d,pres))"
   ]
  },
  {
   "cell_type": "code",
   "execution_count": 38,
   "metadata": {},
   "outputs": [
    {
     "name": "stdout",
     "output_type": "stream",
     "text": [
      "Accuracy 0.7489251934651763\n"
     ]
    },
    {
     "data": {
      "image/png": "[encoded data removed]",
      "text/plain": [
       "<Figure size 576x396 with 1 Axes>"
      ]
     },
     "metadata": {},
     "output_type": "display_data"
    },
    {
     "name": "stdout",
     "output_type": "stream",
     "text": [
      "Wall time: 3.2 s\n"
     ]
    }
   ],
   "source": [
    "%%time\n",
    "from sklearn.ensemble import RandomForestClassifier\n",
    "\n",
    "clf = RandomForestClassifier(max_depth=50, n_estimators=150, n_jobs=-1, oob_score=True)\n",
    "\n",
    "# now iterate through and get predictions, saved to the correct row in yhat\n",
    "for train, test in cv.split(inci_X,inci_Y):\n",
    "    X_train, X_test = inci_X[train], inci_X[test]    \n",
    "    y_train, y_test = inci_Y[train], inci_Y[test]\n",
    "    \n",
    "clf.fit(X_train,y_train)\n",
    "yhat = clf.predict(X_test)\n",
    "    \n",
    "total_accuracy = mt.accuracy_score(y_test, yhat)\n",
    "print ('Accuracy', total_accuracy)\n",
    "plot_class_acc(y_test,yhat,title=\"Random Forest, Raw\")"
   ]
  },
  {
   "cell_type": "code",
   "execution_count": 39,
   "metadata": {},
   "outputs": [
    {
     "name": "stdout",
     "output_type": "stream",
     "text": [
      "RandomForestClassifier(bootstrap=True, class_weight=None, criterion='gini',\n",
      "            max_depth=50, max_features='auto', max_leaf_nodes=None,\n",
      "            min_impurity_decrease=0.0, min_impurity_split=None,\n",
      "            min_samples_leaf=1, min_samples_split=2,\n",
      "            min_weight_fraction_leaf=0.0, n_estimators=150, n_jobs=-1,\n",
      "            oob_score=True, random_state=None, verbose=0, warm_start=False)\n"
     ]
    },
    {
     "data": {
      "image/png": "[encoded data removed]",
      "text/plain": [
       "<Figure size 576x396 with 1 Axes>"
      ]
     },
     "metadata": {},
     "output_type": "display_data"
    },
    {
     "name": "stdout",
     "output_type": "stream",
     "text": [
      "Generalization score estimate from training data 0.7434698484359884\n"
     ]
    }
   ],
   "source": [
    "# now lets get access to the different properties of our RF\n",
    "\n",
    "print (clf)\n",
    "\n",
    "plt.barh(range(len(clf.feature_importances_)), clf.feature_importances_)\n",
    "plt.show()\n",
    "\n",
    "print ('Generalization score estimate from training data', clf.oob_score_)\n",
    "\n",
    "\n",
    "# oob_SCORE - Very close to accuracy, represents data which are not just a guess and are not placed on the main data for ..\n",
    "# ..do not use it as a replacement to cross validation"
   ]
  },
  {
   "cell_type": "markdown",
   "metadata": {},
   "source": [
    "- Overall importance of each feature, magnitude of feature importance."
   ]
  },
  {
   "cell_type": "markdown",
   "metadata": {},
   "source": [
    "# TREE ENSEMBLE METHOD"
   ]
  },
  {
   "cell_type": "code",
   "execution_count": 40,
   "metadata": {},
   "outputs": [
    {
     "name": "stdout",
     "output_type": "stream",
     "text": [
      "Stump 0.6353726728550676\n",
      "Tree 0.6420796985229948\n",
      "Random Trees 0.7247606411641936\n",
      "Extra Random Trees 0.7197947077844762\n",
      "Boosted Tree 0.7249759389387802\n",
      "Wall time: 17.7 s\n"
     ]
    }
   ],
   "source": [
    "%%time\n",
    "from sklearn.tree import DecisionTreeClassifier\n",
    "from sklearn.ensemble import RandomForestClassifier\n",
    "from sklearn.ensemble import ExtraTreesClassifier\n",
    "from sklearn.ensemble import GradientBoostingClassifier\n",
    "\n",
    "from sklearn.model_selection import cross_val_score\n",
    "\n",
    "num_estimators = 50\n",
    "# lets train some trees\n",
    "clf_array = [\n",
    "    ('Stump',              DecisionTreeClassifier(max_depth=1, min_samples_leaf=1)),\n",
    "    ('Tree',               DecisionTreeClassifier()),\n",
    "    ('Random Trees',       RandomForestClassifier(max_depth=50, n_estimators=num_estimators)),\n",
    "    ('Extra Random Trees', ExtraTreesClassifier(n_estimators=num_estimators,min_samples_split=2)),\n",
    "    ('Boosted Tree',       GradientBoostingClassifier(n_estimators=num_estimators)), #takes a long time\n",
    "    ]\n",
    "\n",
    "for clf in clf_array:\n",
    "    acc = cross_val_score(clf[1],inci_X,inci_Y)\n",
    "    print (clf[0], acc.mean())"
   ]
  },
  {
   "cell_type": "code",
   "execution_count": 41,
   "metadata": {},
   "outputs": [
    {
     "name": "stdout",
     "output_type": "stream",
     "text": [
      "Pipeline accuracy 0.538585554600172\n"
     ]
    },
    {
     "data": {
      "image/png": "[encoded data removed]",
      "text/plain": [
       "<Figure size 576x396 with 1 Axes>"
      ]
     },
     "metadata": {},
     "output_type": "display_data"
    }
   ],
   "source": [
    "# from sklearn.svm import SVC\n",
    "# from sklearn.linear_model import LogisticRegression\n",
    "# from sklearn.linear_model import SGDClassifier\n",
    "from sklearn.decomposition import PCA \n",
    "from sklearn.pipeline import Pipeline\n",
    "from sklearn.naive_bayes import GaussianNB\n",
    "\n",
    "\n",
    "# setup pipeline to take PCA, then fit a different classifier\n",
    "clf_pipe = Pipeline(\n",
    "    [('PCA',PCA(n_components=11,svd_solver='randomized')),\n",
    "     ('CLF',GaussianNB())]\n",
    ")\n",
    "\n",
    "# now iterate through and get predictions, saved to the correct row in yhat\n",
    "for train, test in cv.split(inci_X,inci_Y):\n",
    "    X_train, X_test = inci_X[train], inci_X[test]    \n",
    "    y_train, y_test = inci_Y[train], inci_Y[test]\n",
    "\n",
    "clf_pipe.fit(X_train,y_train)\n",
    "yhat = clf_pipe.predict(X_test)\n",
    "\n",
    "total_accuracy = mt.accuracy_score(y_test, yhat)\n",
    "print ('Pipeline accuracy', total_accuracy)\n",
    "plot_class_acc(y_test,yhat,title=\"Naive Bayes + PCA\")"
   ]
  },
  {
   "cell_type": "code",
   "execution_count": 42,
   "metadata": {},
   "outputs": [
    {
     "name": "stdout",
     "output_type": "stream",
     "text": [
      "Total Accuracy: 0.538585554600172\n",
      "Number of infrequent faces: 0 with average recall of: nan\n",
      "Number of frequent faces: 2 with average precision of: 0.5931417098349675\n"
     ]
    }
   ],
   "source": [
    "from sklearn import metrics as mt\n",
    "\n",
    "freq_infreq_threshold = 40\n",
    "\n",
    "# get various measures of performance\n",
    "total_accuracy = mt.accuracy_score(y_test, yhat)\n",
    "per_class_acc_list = per_class_accuracy(y_test,yhat)\n",
    "\n",
    "prec_for_freq_classes = []\n",
    "recall_for_infreq_classes = []\n",
    "rec_tot = []\n",
    "prec_tot = []\n",
    "\n",
    "for cls in np.unique(y_test):\n",
    "    idx = (y_test==cls) # get classes\n",
    "    ytmp_actual = np.zeros(y_test.shape) # make binary class problem\n",
    "    ytmp_actual[idx] = 1 # set the instances for this specific class\n",
    "    \n",
    "    ytmp_predicted = np.zeros(y_test.shape) # binary prediction array\n",
    "    ytmp_predicted[yhat==cls] = 1\n",
    "    \n",
    "    num_in_class = sum(idx)\n",
    "    \n",
    "    rec = mt.recall_score(ytmp_actual, ytmp_predicted)\n",
    "    prec = mt.precision_score(ytmp_actual, ytmp_predicted)\n",
    "    rec_tot.append(rec)\n",
    "    prec_tot.append(prec)\n",
    "    \n",
    "    if num_in_class < freq_infreq_threshold:\n",
    "        recall_for_infreq_classes.append(rec)\n",
    "    elif num_in_class >= freq_infreq_threshold:\n",
    "        prec_for_freq_classes.append(prec)\n",
    "        \n",
    "print ('Total Accuracy:',total_accuracy)\n",
    "print ('Number of infrequent faces:',len(recall_for_infreq_classes), \n",
    "       'with average recall of:', np.mean(recall_for_infreq_classes))\n",
    "print ('Number of frequent faces:',len(prec_for_freq_classes), \n",
    "       'with average precision of:',np.mean(prec_for_freq_classes))"
   ]
  },
  {
   "cell_type": "code",
   "execution_count": 43,
   "metadata": {},
   "outputs": [
    {
     "data": {
      "image/png": "[encoded data removed]",
      "text/plain": [
       "<Figure size 1080x360 with 1 Axes>"
      ]
     },
     "metadata": {},
     "output_type": "display_data"
    }
   ],
   "source": [
    "# But we can really summarize this data much better than this. \n",
    "# How about looking at more statistics of the precision and recall for each class?\n",
    "\n",
    "import seaborn as sns\n",
    "sns.set_palette(\"dark\")\n",
    "plt.figure(figsize=(15,5))\n",
    "plt.boxplot([ rec_tot, prec_tot, recall_for_infreq_classes,prec_for_freq_classes],\n",
    "            labels=['Recall, all faces','Precision, all faces','Recall Infreq. faces','Prec Freq. faces'])\n",
    "plt.ylim([0,1])\n",
    "plt.show()"
   ]
  },
  {
   "cell_type": "code",
   "execution_count": 44,
   "metadata": {},
   "outputs": [
    {
     "data": {
      "image/png": "[encoded data removed]",
      "text/plain": [
       "<Figure size 576x396 with 1 Axes>"
      ]
     },
     "metadata": {},
     "output_type": "display_data"
    }
   ],
   "source": [
    "# how about plotting a confusion matrix?\n",
    "cm = mt.confusion_matrix(y_test, yhat)\n",
    "plt.imshow(cm,cmap=plt.get_cmap('Reds'),aspect='auto')\n",
    "plt.grid(False)"
   ]
  },
  {
   "cell_type": "code",
   "execution_count": 45,
   "metadata": {},
   "outputs": [],
   "source": [
    "from sklearn.datasets import make_classification\n",
    "from sklearn.model_selection import train_test_split\n",
    "\n",
    "# # Create classification dataset\n",
    "# inci_X, inci_Y = make_classification(\n",
    "#     n_samples=1000, n_classes=2, n_informative=3, n_clusters_per_class=1\n",
    "# )\n",
    "\n",
    "classes = [\"No Arrest\", \"Arrest\"]\n",
    "\n",
    "# # Perform 80/20 training/test split\n",
    "# X_train, X_test, y_train, y_test = train_test_split(inci_X, inci_Y, test_size=0.20,\n",
    "#                                                     random_state=42)\n"
   ]
  },
  {
   "cell_type": "code",
   "execution_count": 46,
   "metadata": {},
   "outputs": [
    {
     "data": {
      "image/png": "[encoded data removed]",
      "text/plain": [
       "<Figure size 576x396 with 1 Axes>"
      ]
     },
     "metadata": {},
     "output_type": "display_data"
    }
   ],
   "source": [
    "from sklearn.ensemble import RandomForestClassifier\n",
    "\n",
    "from yellowbrick.classifier import ClassPredictionError\n",
    "\n",
    "# Instantiate the classification model and visualizer\n",
    "visualizer = ClassPredictionError(\n",
    "    RandomForestClassifier(), classes=classes\n",
    ")\n",
    "\n",
    "# Fit the training data to the visualizer\n",
    "visualizer.fit(X_train, y_train)\n",
    "\n",
    "# Evaluate the model on the test data\n",
    "visualizer.score(X_test, y_test)\n",
    "\n",
    "# Draw visualization\n",
    "g = visualizer.poof()"
   ]
  },
  {
   "cell_type": "code",
   "execution_count": 47,
   "metadata": {},
   "outputs": [
    {
     "data": {
      "image/png": "[encoded data removed]",
      "text/plain": [
       "<Figure size 576x396 with 2 Axes>"
      ]
     },
     "metadata": {},
     "output_type": "display_data"
    }
   ],
   "source": [
    "from sklearn.cluster import MiniBatchKMeans\n",
    "\n",
    "from yellowbrick.cluster import KElbowVisualizer\n",
    "\n",
    "# Instantiate the clustering model and visualizer\n",
    "visualizer = KElbowVisualizer(MiniBatchKMeans(), k=(4,12))\n",
    "\n",
    "visualizer.fit(X_train) # Fit the training data to the visualizer\n",
    "visualizer.poof() # Draw/show/poof the data"
   ]
  },
  {
   "cell_type": "code",
   "execution_count": 50,
   "metadata": {},
   "outputs": [
    {
     "data": {
      "image/png": "[encoded data removed]",
      "text/plain": [
       "<Figure size 576x396 with 1 Axes>"
      ]
     },
     "metadata": {},
     "output_type": "display_data"
    }
   ],
   "source": [
    "from sklearn.cluster import MiniBatchKMeans\n",
    "\n",
    "from yellowbrick.cluster import SilhouetteVisualizer\n",
    "\n",
    "# Instantiate the clustering model and visualizer\n",
    "model = MiniBatchKMeans(2)\n",
    "visualizer = SilhouetteVisualizer(model)\n",
    "\n",
    "visualizer.fit(X_train) # Fit the training data to the visualizer\n",
    "visualizer.poof() # Draw/show/poof the data"
   ]
  },
  {
   "cell_type": "markdown",
   "metadata": {},
   "source": [
    "### Decision Tree"
   ]
  },
  {
   "cell_type": "code",
   "execution_count": 49,
   "metadata": {},
   "outputs": [
    {
     "data": {
      "image/png": "[encoded data removed]",
      "text/plain": [
       "<Figure size 576x396 with 1 Axes>"
      ]
     },
     "metadata": {},
     "output_type": "display_data"
    }
   ],
   "source": [
    "from sklearn.tree import DecisionTreeRegressor\n",
    "from yellowbrick.model_selection import ValidationCurve\n",
    "\n",
    "viz = ValidationCurve(\n",
    "    DecisionTreeRegressor(), param_name=\"max_depth\",\n",
    "    param_range=np.arange(1, 11), cv=10, scoring=\"r2\"\n",
    ")\n",
    "\n",
    "# Fit and poof the visualizer\n",
    "viz.fit(X_train, y_train)\n",
    "viz.poof()"
   ]
  },
  {
   "cell_type": "code",
   "execution_count": 53,
   "metadata": {},
   "outputs": [
    {
     "name": "stdout",
     "output_type": "stream",
     "text": [
      "Classification Report\n",
      "              precision    recall  f1-score   support\n",
      "\n",
      "         0.0       0.66      0.65      0.66      4619\n",
      "         1.0       0.66      0.67      0.67      4685\n",
      "\n",
      "   micro avg       0.66      0.66      0.66      9304\n",
      "   macro avg       0.66      0.66      0.66      9304\n",
      "weighted avg       0.66      0.66      0.66      9304\n",
      "\n",
      "Confusion Matrix\n",
      "[[3016 1603]\n",
      " [1524 3161]]\n",
      "Accuracy of classifier with euclidean metric is: 0.66\n",
      "Precision Score of classifier with euclidean metric is: 0.66\n"
     ]
    }
   ],
   "source": [
    "from sklearn import tree\n",
    "\n",
    "clf_DTree = tree.DecisionTreeClassifier(criterion='gini', splitter='best', max_depth=None, min_samples_split=2\n",
    "                            , min_samples_leaf=1, min_weight_fraction_leaf=0.0, max_features=None\n",
    "                            , random_state=None, max_leaf_nodes=None, min_impurity_decrease=0.0\n",
    "                            , min_impurity_split=None, class_weight=None, presort=False)\n",
    "clf_DTree = clf_DTree.fit(X_train, y_train)\n",
    "\n",
    "yhat = clf_DTree.predict(X_test)\n",
    "acc = accuracy_score(y_test, yhat)\n",
    "pres = precision_score(y_test, yhat)\n",
    "print('Classification Report')\n",
    "print(classification_report(y_test, yhat))\n",
    "print('Confusion Matrix')\n",
    "print(confusion_matrix(y_test, yhat))\n",
    "print('Accuracy of classifier with %s metric is: %.2f'%(d,acc))\n",
    "print('Precision Score of classifier with %s metric is: %.2f'%(d,pres))"
   ]
  },
  {
   "cell_type": "markdown",
   "metadata": {},
   "source": [
    "### SVM"
   ]
  },
  {
   "cell_type": "code",
   "execution_count": null,
   "metadata": {},
   "outputs": [],
   "source": [
    "%%time\n",
    "\n",
    "from sklearn.svm import SVC\n",
    "param_range = np.logspace(-6, -1, 12)\n",
    "viz = ValidationCurve(\n",
    "    SVC(), param_name=\"gamma\", param_range=param_range,\n",
    "    logx=True, cv=cv, scoring=\"f1_weighted\", n_jobs=8,\n",
    ")\n",
    "\n",
    "viz.fit(X_train, y_train)\n",
    "viz.poof()"
   ]
  },
  {
   "cell_type": "code",
   "execution_count": null,
   "metadata": {},
   "outputs": [],
   "source": [
    "%%time\n",
    "\n",
    "#SVM model on main dataframe.\n",
    "from sklearn.svc import SVC\n",
    "from sklearn.preprocessing import StandardScaler\n",
    "from sklearn import metrics as mt\n",
    "\n",
    "\n",
    "#train the model just as before\n",
    "svm_clf = SVC(C=0.5, kernel='linear', degree=3, gamma='auto') # get object\n",
    "svm_clf.fit(inci_X, inci_Y)  # train object\n",
    "\n",
    "y_hat = svm_clf.predict(X_test)\n",
    "\n",
    "acc = mt.accuracy_score(inci_Y,y_hat)\n",
    "conf = mt.confusion_matrix(inci_Y,y_hat)\n",
    "prec = mt.precision_score(inci_Y, y_hat)\n",
    "recall = mt.recall_score(inci_Y, y_hat)\n",
    "print('accuracy:', acc )\n",
    "print('precision:', prec)\n",
    "print('recall:', recall)\n",
    "print(conf)\n",
    "\n",
    "results.append({'Model': 'SVM', 'Accuracy': acc, 'Precision': prec, 'Recall': recall})"
   ]
  },
  {
   "cell_type": "code",
   "execution_count": null,
   "metadata": {},
   "outputs": [],
   "source": []
  }
 ],
 "metadata": {
  "kernelspec": {
   "display_name": "Python 3",
   "language": "python",
   "name": "python3"
  },
  "language_info": {
   "codemirror_mode": {
    "name": "ipython",
    "version": 3
   },
   "file_extension": ".py",
   "mimetype": "text/x-python",
   "name": "python",
   "nbconvert_exporter": "python",
   "pygments_lexer": "ipython3",
   "version": "3.6.6"
  }
 },
 "nbformat": 4,
 "nbformat_minor": 2
}
