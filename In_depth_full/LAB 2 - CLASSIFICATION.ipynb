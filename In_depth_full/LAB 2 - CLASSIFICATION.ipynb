{
 "cells": [
  {
   "cell_type": "markdown",
   "metadata": {},
   "source": [
    "# LAB 2_ CLASSIFICATION"
   ]
  },
  {
   "cell_type": "markdown",
   "metadata": {},
   "source": [
    "### Rubric\n",
    "\n",
    "#### Data Preparation (15 points total)\n",
    "- Define and prepare your class variables. Use proper variable representations (int, float, one-hot, etc.). Use pre-processing methods (as needed) for dimensionality reduction, scaling, etc. Remove variables that are not needed/useful for the analysis.\n",
    "- Describe the final dataset that is used for classification/regression (include a description of any newly formed variables you created).\n",
    "\n",
    "### Modeling and Evaluation (70 points total)\n",
    "- Choose and explain your evaluation metrics that you will use (i.e., accuracy,precision, recall, F-measure, or any metric we have discussed). Why are the measure(s)appropriate for analyzing the results of your modeling? Give a detailed explanation backing up any assertions.\n",
    "- Choose the method you will use for dividing your data into training and testing splits (i.e., are you using Stratified 10-fold cross validation? Why?). Explain why your chosen method is appropriate or use more than one method as appropriate. For example, if you are using time series data then you should be using continuous training and testing sets across time.\n",
    "- Create three different classification/regression models for each task (e.g.,random forest, KNN, and SVM for task one and the same or different algorithms for task two). Two modeling techniques must be new (but the third could be SVM or logistic regression). Adjust parameters as appropriate to increase generalization performance using your chosen metric. You must investigate different parameters of the algorithms!\n",
    "- Analyze the results using your chosen method of evaluation. Use visualizations of the results to bolster the analysis. Explain any visuals and analyze why they are interesting to someone that might use this model.\n",
    "- Discuss the advantages of each model for each classification task, if any. If there are not advantages, explain why. Is any model better than another? Is the difference significant with 95% confidence? Use proper statistical comparison methods. You must use statistical comparison techniques—be sure they are appropriate for your chosen method of validation as discussed in unit 7 of the course.\n",
    "- Which attributes from your analysis are most important? Use proper methods discussed in class to evaluate the importance of different attributes. Discuss the results and hypothesize about why certain attributes are more important than others for a given classification task.\n",
    "\n",
    "### Deployment (5 points total)\n",
    "- How useful is your model for interested parties (i.e., the companies or organizations that might want to use it for prediction)? How would you measure the model's value if it was used by these parties? How would your deploy your model for interested parties? What other data should be collected? How often would the model need to be updated, etc.?\n",
    "\n",
    "### Exceptional Work (10 points total)\n",
    "\n",
    "- You have free reign to provide additional analyses.\n",
    "- One idea: grid search parameters in a parallelized fashion and visualize the performances across attributes. Which parameters are most significant for making a good model for each classification algorithm?"
   ]
  },
  {
   "cell_type": "code",
   "execution_count": 2,
   "metadata": {},
   "outputs": [],
   "source": [
    "# Importing necessary packages for python\n",
    "import pandas as pd\n",
    "import numpy as np\n",
    "from sklearn.model_selection import ShuffleSplit, cross_validate\n",
    "from sklearn.linear_model import LogisticRegression\n",
    "import warnings\n",
    "import matplotlib.pyplot as plt\n",
    "import plotly.tools as tls\n",
    "\n",
    "warnings.filterwarnings('ignore')\n",
    "warnings.simplefilter('ignore', DeprecationWarning)\n",
    "pd.set_option('mode.chained_assignment', None)\n",
    "\n",
    "%matplotlib inline"
   ]
  },
  {
   "cell_type": "code",
   "execution_count": 3,
   "metadata": {},
   "outputs": [],
   "source": [
    "# Importing data from Lab#1 and exploring the data, the csv file is the result dataset from Lab1\n",
    "path = \"../../Data/\" # Generic path\n",
    "incident = pd.read_csv(path + 'LAB1_completed_Dataset_clean.csv', low_memory= False)"
   ]
  },
  {
   "cell_type": "code",
   "execution_count": 4,
   "metadata": {},
   "outputs": [],
   "source": [
    "\n",
    "# Exploying the dataset\n",
    "incident['Response_time'] = incident['Response_time'].fillna(incident['Response_time'].mean()).astype(np.int)\n",
    "incident = incident[incident['Call_Received_Hour'].isnull()==False]\n",
    "incident_NullCols = incident.isnull().sum()\n",
    "incident_NullCols = incident_NullCols[incident_NullCols > 0]\n",
    "\n",
    "# Print out the data properties\n",
    "# print(incident.shape)\n",
    "# print('Number of null columns and their counts')\n",
    "# print(incident_NullCols)"
   ]
  },
  {
   "cell_type": "code",
   "execution_count": 5,
   "metadata": {},
   "outputs": [],
   "source": [
    "\n",
    "# Further cleanup the dataset\n",
    "incident = incident[incident['Watch']!=0]\n",
    "incident = incident[(incident['Victim_Age']>=0) & (incident['Victim_Age']<=90)]\n",
    "incident = incident[incident['Victim_Race']!=\"Unknown\"]\n",
    "incident = incident[incident['Victim_Type']!=\"Unknown\"]\n",
    "incident= incident[incident.Number_of_offense != \"RP\"]\n",
    "\n",
    "incident = incident[incident['Victim_Gender']!=\"U\"]"
   ]
  },
  {
   "cell_type": "code",
   "execution_count": 6,
   "metadata": {},
   "outputs": [],
   "source": [
    "\n",
    "# Further data clean up on the feature variables\n",
    "\n",
    "incident.loc[:,'UCR_Offense_Name'] = incident['UCR_Offense_Name'].fillna(\"MISSING\")\n",
    "\n",
    "# Setup the UCR Offense Name Groups\n",
    "THEFT_FRAUD     = dict.fromkeys(['THEFT/BMV', 'THEFT ORG RETAIL', 'BURGLARY-RESIDENCE', 'OTHER THEFTS',\n",
    "                                 'ROBBERY-INDIVIDUAL','THEFT/SHOPLIFT', 'BURGLARY-BUSINESS', 'FORGE & COUNTERFEIT', \n",
    "                                 'FRAUD', 'EMBEZZLEMENT','ROBBERY-BUSINESS','THEFT ORG RETAIL'],\"THEFT_FRAUD\" ) \n",
    "MVA_TRAFFIC      =dict.fromkeys(['ACCIDENT MV', 'MOTOR VEHICLE ACCIDENT', 'UUMV', 'TRAFFIC VIOLATION',\n",
    "                                 'TRAFFIC FATALITY'],\"MVA_TRAFFIC\" )        \n",
    "WEAPONS_FIREARMS =dict.fromkeys(['WEAPONS', 'ARSON', 'INJURED FIREARM'], \"WEAPONS_FIREARMS\")         \n",
    "ASSUALT          = dict.fromkeys(['ASSAULT','VANDALISM & CRIM MISCHIEF', 'AGG ASSAULT - NFV', 'OFFENSE AGAINST CHILD',\n",
    "                                  'AGG ASSAULT - FV'], \"ASSUALT\")\n",
    "OTHERS_THREATS   = dict.fromkeys(['FOUND', 'OTHERS', 'LOST', 'CRIMINAL TRESPASS', 'DISORDERLY CONDUCT', \n",
    "                                  'ANIMAL BITE','INJURED HOME','INJURED PUBLIC', 'TERRORISTIC THREAT', \n",
    "                                  'EVADING', 'INJURED OCCUPA', 'ORANIZED CRIME', 'KIDNAPPING', \n",
    "                                  'RESIST ARREST','FAIL TO ID', 'HUMAN TRAFFICKING', 'MISSING'], \"OTHERS_THREATS\")\n",
    "INTOXICATION     = dict.fromkeys(['DRUNK & DISORDERLY', 'DWI', 'NARCOTICS & DRUGS', 'LIQUOR OFFENSE', \n",
    "                                  'INTOXICATION MANSLAUGHTER'],\"INTOXICATION\")\n",
    "MURDER_DEATH     = dict.fromkeys(['SUDDEN DEATH&FOUND BODIES','MURDER'], \"MURDER_DEATH\")\n",
    "                    \n",
    "# Regroup the UCR_Offense_Name\n",
    "incident.loc[:,'UCR_Offense_Name']= incident['UCR_Offense_Name'].replace(THEFT_FRAUD)\n",
    "incident.loc[:,'UCR_Offense_Name']= incident['UCR_Offense_Name'].replace(MVA_TRAFFIC)\n",
    "incident.loc[:,'UCR_Offense_Name']= incident['UCR_Offense_Name'].replace(WEAPONS_FIREARMS)\n",
    "incident.loc[:,'UCR_Offense_Name']= incident['UCR_Offense_Name'].replace(ASSUALT)\n",
    "incident.loc[:,'UCR_Offense_Name']= incident['UCR_Offense_Name'].replace(OTHERS_THREATS)\n",
    "incident.loc[:,'UCR_Offense_Name']= incident['UCR_Offense_Name'].replace(INTOXICATION)\n",
    "incident.loc[:,'UCR_Offense_Name']= incident['UCR_Offense_Name'].replace(MURDER_DEATH)"
   ]
  },
  {
   "cell_type": "code",
   "execution_count": 7,
   "metadata": {},
   "outputs": [],
   "source": [
    "\n",
    "# Change norminal attributes to numeric\n",
    "incident.loc[:,'IsMale'] = incident.Victim_Gender=='M' \n",
    "incident.IsMale = incident.IsMale.astype(np.int)\n",
    "incident.loc[:,'Social_crime_score'] = incident['Hate_Crime']+incident['Gang_Related_Offense']+incident['Drug_Related']\n",
    "incident.loc[:,'Victim_Age'] = incident['Victim_Age'].astype(np.int)\n",
    "incident.loc[:,'Number_of_offense']= incident.Number_of_offense.astype(np.int)\n",
    "# coding\n",
    "incident['UCR_Offense_Name'] = pd.Categorical(incident['UCR_Offense_Name']).codes\n",
    "incident['Day1_of_the_Week'] = pd.Categorical(incident['Day1_of_the_Week']).codes\n",
    "incident['Division'] = pd.Categorical(incident['Division']).codes\n",
    "incident['Victim_Type'] = pd.Categorical(incident['Victim_Type']).codes\n",
    "incident['Victim_Race'] = pd.Categorical(incident['Victim_Race']).codes"
   ]
  },
  {
   "cell_type": "code",
   "execution_count": 8,
   "metadata": {},
   "outputs": [],
   "source": [
    "incident = incident.drop(['Year_of_Incident', 'Service_Number_ID', 'Type_of_Incident','Type_Location', \n",
    "                          'Reporting_Area', 'Beat', 'Sector','Council_District','Call_Received_Date_Time',\n",
    "                          'Call_Cleared_Date_Time', 'Call_Dispatch_Date_Time','Person_Involvement_Type', \n",
    "                          'Victim_Gender', 'Offense_Status', 'Victim_Condition','Family_Offense', 'Weapon_Used', \n",
    "                          'RMS_Code', 'UCR_Code','X_Coordinate', 'Y_Coordinate', 'Zip_Code', 'City', 'State',\n",
    "                          'Location1', 'Call_Received', 'Call_Cleared', 'Call_Dispatch','Latitude', 'Longitude'],axis=1)"
   ]
  },
  {
   "cell_type": "code",
   "execution_count": 9,
   "metadata": {},
   "outputs": [
    {
     "name": "stdout",
     "output_type": "stream",
     "text": [
      "Class 0: 202337\n",
      "Class 1: 23115\n",
      "Proportion: 8.75 : 1\n"
     ]
    },
    {
     "data": {
      "text/plain": [
       "<Figure size 576x360 with 0 Axes>"
      ]
     },
     "metadata": {},
     "output_type": "display_data"
    },
    {
     "data": {
      "image/png": "[encoded data removed]",
      "text/plain": [
       "<Figure size 720x432 with 1 Axes>"
      ]
     },
     "metadata": {},
     "output_type": "display_data"
    }
   ],
   "source": [
    "# Explore response variable distribution\n",
    "plt.figure(figsize=(8,5))\n",
    "target_count = incident.Arrest_status.value_counts()\n",
    "print('Class 0:', target_count[0])\n",
    "print('Class 1:', target_count[1])\n",
    "print('Proportion:', round(target_count[0] / target_count[1], 2), ': 1')\n",
    "\n",
    "# Draw bar plot\n",
    "\n",
    "# data to plot\n",
    "n_groups = 1\n",
    "NoArrest=incident.Arrest_status.value_counts()[0]\n",
    "Arrest=incident.Arrest_status.value_counts()[1]\n",
    " \n",
    "# create plot\n",
    "index = np.arange(n_groups)\n",
    "bar_width = 0.5\n",
    "opacity = 0.8\n",
    "plt.figure(figsize=(10,6))\n",
    "plt.bar(index, NoArrest, bar_width,\n",
    "                 alpha=opacity,\n",
    "                 color='g',\n",
    "                 label='No Arrest')\n",
    " \n",
    "plt.bar(index + bar_width, Arrest, bar_width,\n",
    "                 alpha=opacity,\n",
    "                 color='r',\n",
    "                 label='Arrest')\n",
    " \n",
    "plt.xlabel('Arrest Status')\n",
    "plt.ylabel('Number of Incident')\n",
    "plt.title('Dallas City Police Incident Vs. Arrest Status Before Resampling')\n",
    "plt.xlim(-0.8, 2)\n",
    "plt.xticks(index + bar_width/2, (''))\n",
    "plt.legend()\n",
    " \n",
    "plt.show()"
   ]
  },
  {
   "cell_type": "code",
   "execution_count": 10,
   "metadata": {},
   "outputs": [
    {
     "data": {
      "text/plain": [
       "1    23115\n",
       "0    23115\n",
       "Name: Arrest_status, dtype: int64"
      ]
     },
     "execution_count": 10,
     "metadata": {},
     "output_type": "execute_result"
    }
   ],
   "source": [
    "# Import resample package\n",
    "from sklearn.utils import resample\n",
    "\n",
    "# Downsampling\n",
    "df_majority = incident[incident.Arrest_status==0]\n",
    "df_minority = incident[incident.Arrest_status==1]\n",
    " \n",
    "# Downsample majority class\n",
    "df_majority_downsampled = resample(df_majority, \n",
    "                                 replace=False,    # sample without replacement\n",
    "                                 n_samples=23115,     # to match minority class\n",
    "                                 random_state=123) # reproducible results\n",
    " \n",
    "# Combine minority class with downsampled majority class\n",
    "df_downsampled = pd.concat([df_majority_downsampled, df_minority])\n",
    " \n",
    "# Display new class counts\n",
    "df_downsampled.Arrest_status.value_counts()"
   ]
  },
  {
   "cell_type": "code",
   "execution_count": 11,
   "metadata": {},
   "outputs": [
    {
     "data": {
      "image/png": "[encoded data removed]",
      "text/plain": [
       "<Figure size 720x432 with 1 Axes>"
      ]
     },
     "metadata": {},
     "output_type": "display_data"
    }
   ],
   "source": [
    "n_groups = 1\n",
    "NoArrest=df_downsampled.Arrest_status.value_counts()[0]\n",
    "Arrest=df_downsampled.Arrest_status.value_counts()[1]\n",
    " \n",
    "# create plot\n",
    "#ax = plt.subplots()\n",
    "index = np.arange(n_groups)\n",
    "bar_width = 0.5\n",
    "opacity = 0.8\n",
    "plt.figure(figsize=(10,6))\n",
    "plt.bar(index, NoArrest, bar_width,\n",
    "                 alpha=opacity,\n",
    "                 color='g',\n",
    "                 label='No Arrest')\n",
    " \n",
    "plt.bar(index + bar_width, Arrest, bar_width,\n",
    "                 alpha=opacity,\n",
    "                 color='r',\n",
    "                 label='Arrest')\n",
    " \n",
    "plt.xlabel('Arrest Status')\n",
    "plt.ylabel('Number of Incident')\n",
    "plt.title('Dallas City Police Incident Vs. Arrest Status After Resampling')\n",
    "plt.xlim(-0.8, 2)\n",
    "plt.xticks(index + bar_width/2, (''))\n",
    "plt.legend()\n",
    " \n",
    "#plt.tight_layout()\n",
    "plt.show()"
   ]
  },
  {
   "cell_type": "code",
   "execution_count": 12,
   "metadata": {},
   "outputs": [],
   "source": [
    "# copy the down sampling dataset to original incident data frame and continue the anl\n",
    "incident= df_downsampled.copy()"
   ]
  },
  {
   "cell_type": "code",
   "execution_count": 13,
   "metadata": {},
   "outputs": [
    {
     "name": "stdout",
     "output_type": "stream",
     "text": [
      "Social_crime_score  Drug_Related            0.842685\n",
      "Call_Received_Hour  Watch                   0.712316\n",
      "Social_crime_score  Gang_Related_Offense    0.562247\n",
      "                    Hate_Crime              0.152233\n",
      "Victim_Race         UCR_Offense_Name        0.131186\n",
      "                                              ...   \n",
      "Arrest_status       Victim_Race            -0.071456\n",
      "UCR_Offense_Name    Watch                  -0.103933\n",
      "Response_time       Arrest_status          -0.174816\n",
      "Victim_Race         Division               -0.286416\n",
      "UCR_Offense_Name    Arrest_status          -0.310592\n",
      "Length: 120, dtype: float64\n"
     ]
    }
   ],
   "source": [
    "\n",
    "#Create correlation matrix\n",
    "CorrMat = incident.corr()\n",
    "\n",
    "# Highest Correlation Pairs\n",
    "corrPairs = CorrMat.unstack().sort_values(kind=\"quicksort\", ascending=False)\n",
    "#- REMOVE DUPLICATES\n",
    "corrPairs = corrPairs[::2]\n",
    "corrPairs = corrPairs[corrPairs.index.get_level_values(0) != corrPairs.index.get_level_values(1)]\n",
    "with pd.option_context('display.max_rows',10):\n",
    "    print(corrPairs)"
   ]
  },
  {
   "cell_type": "code",
   "execution_count": 14,
   "metadata": {},
   "outputs": [
    {
     "name": "stdout",
     "output_type": "stream",
     "text": [
      "Victim_Race         UCR_Offense_Name     0.131186\n",
      "Social_crime_score  Number_of_offense    0.110633\n",
      "Victim_Race         Victim_Age           0.106044\n",
      "Number_of_offense   Arrest_status        0.081587\n",
      "UCR_Offense_Name    Response_time        0.072490\n",
      "                                           ...   \n",
      "Arrest_status       Victim_Age          -0.067700\n",
      "Victim_Race         Arrest_status       -0.071456\n",
      "Arrest_status       Response_time       -0.174816\n",
      "Division            Victim_Race         -0.286416\n",
      "Arrest_status       UCR_Offense_Name    -0.310592\n",
      "Length: 66, dtype: float64\n"
     ]
    }
   ],
   "source": [
    "#Drop highly correlated, insignificant and high VIF columns.\n",
    "incident = incident.drop(['Drug_Related','Watch','Gang_Related_Offense','Hate_Crime'], axis=1)\n",
    "\n",
    "#Create correlation matrix\n",
    "CorrMat = incident.corr()\n",
    "\n",
    "# Highest Correlation Pairs\n",
    "corrPairs = CorrMat.unstack().sort_values(kind=\"quicksort\", ascending=False)\n",
    "#- REMOVE DUPLICATES\n",
    "corrPairs = corrPairs[::2]\n",
    "corrPairs = corrPairs[corrPairs.index.get_level_values(0) != corrPairs.index.get_level_values(1)]\n",
    "with pd.option_context('display.max_rows',10):\n",
    "    print(corrPairs)"
   ]
  },
  {
   "cell_type": "code",
   "execution_count": 15,
   "metadata": {},
   "outputs": [],
   "source": [
    "\n",
    "# Y Response variable dataframe\n",
    "inci_Y = incident['Arrest_status']\n",
    "\n",
    "# Features with no predictive features with respect to resposne variable\n",
    "incident = incident.drop(['Arrest_status'],axis=1)"
   ]
  },
  {
   "cell_type": "code",
   "execution_count": 16,
   "metadata": {},
   "outputs": [],
   "source": [
    "# # Create inci_X Explanatory Variables DF to support the individual models\n",
    "inci_X = incident\n",
    "# inci_X = incident.drop(['Day1_of_the_Week', 'Victim_Race'], axis=1)\n",
    "# inci_X_Rfe = incident\n",
    "# inci_X_SVM = incident\n",
    "# print(\"inci_X\", inci_X.info())\n",
    "# print(\"inci_X_Rfe\", inci_X_Rfe.info())\n",
    "# print(\"inci_X_SVM\", inci_X_SVM.info())"
   ]
  },
  {
   "cell_type": "code",
   "execution_count": 17,
   "metadata": {},
   "outputs": [],
   "source": [
    "from sklearn.preprocessing import StandardScaler\n",
    "\n",
    "#Scale data\n",
    "scaler = StandardScaler()\n",
    "inci_X_scaled = scaler.fit_transform(inci_X)\n",
    "# inci_X_Rfe_scaled = scaler.fit_transform(inci_X_Rfe)\n",
    "# inci_X_SVM_scaled = scaler.fit_transform(inci_X_SVM)\n",
    "\n",
    "#Save as data frames\n",
    "df_inci_X_scaled = pd.DataFrame(inci_X_scaled)\n",
    "# df_inci_X_Rfe_scaled = pd.DataFrame(inci_X_Rfe_scaled)\n",
    "# df_inci_X_SVM_scaled= pd.DataFrame(inci_X_SVM_scaled)"
   ]
  },
  {
   "cell_type": "code",
   "execution_count": 18,
   "metadata": {},
   "outputs": [
    {
     "name": "stdout",
     "output_type": "stream",
     "text": [
      "VIF Factors before Scaling\n"
     ]
    },
    {
     "data": {
      "text/html": [
       "<div>\n",
       "<style scoped>\n",
       "    .dataframe tbody tr th:only-of-type {\n",
       "        vertical-align: middle;\n",
       "    }\n",
       "\n",
       "    .dataframe tbody tr th {\n",
       "        vertical-align: top;\n",
       "    }\n",
       "\n",
       "    .dataframe thead th {\n",
       "        text-align: right;\n",
       "    }\n",
       "</style>\n",
       "<table border=\"1\" class=\"dataframe\">\n",
       "  <thead>\n",
       "    <tr style=\"text-align: right;\">\n",
       "      <th></th>\n",
       "      <th>VIF Factor</th>\n",
       "      <th>features</th>\n",
       "    </tr>\n",
       "  </thead>\n",
       "  <tbody>\n",
       "    <tr>\n",
       "      <th>0</th>\n",
       "      <td>3.823012</td>\n",
       "      <td>Division</td>\n",
       "    </tr>\n",
       "    <tr>\n",
       "      <th>1</th>\n",
       "      <td>3.180293</td>\n",
       "      <td>Day1_of_the_Week</td>\n",
       "    </tr>\n",
       "    <tr>\n",
       "      <th>2</th>\n",
       "      <td>28.176086</td>\n",
       "      <td>Victim_Type</td>\n",
       "    </tr>\n",
       "    <tr>\n",
       "      <th>3</th>\n",
       "      <td>5.835838</td>\n",
       "      <td>Victim_Race</td>\n",
       "    </tr>\n",
       "    <tr>\n",
       "      <th>4</th>\n",
       "      <td>8.471107</td>\n",
       "      <td>Victim_Age</td>\n",
       "    </tr>\n",
       "    <tr>\n",
       "      <th>5</th>\n",
       "      <td>2.435642</td>\n",
       "      <td>UCR_Offense_Name</td>\n",
       "    </tr>\n",
       "    <tr>\n",
       "      <th>6</th>\n",
       "      <td>5.083418</td>\n",
       "      <td>Number_of_offense</td>\n",
       "    </tr>\n",
       "    <tr>\n",
       "      <th>7</th>\n",
       "      <td>1.596640</td>\n",
       "      <td>Response_time</td>\n",
       "    </tr>\n",
       "    <tr>\n",
       "      <th>8</th>\n",
       "      <td>5.007212</td>\n",
       "      <td>Call_Received_Hour</td>\n",
       "    </tr>\n",
       "    <tr>\n",
       "      <th>9</th>\n",
       "      <td>2.184831</td>\n",
       "      <td>IsMale</td>\n",
       "    </tr>\n",
       "    <tr>\n",
       "      <th>10</th>\n",
       "      <td>1.038687</td>\n",
       "      <td>Social_crime_score</td>\n",
       "    </tr>\n",
       "  </tbody>\n",
       "</table>\n",
       "</div>"
      ],
      "text/plain": [
       "    VIF Factor            features\n",
       "0     3.823012            Division\n",
       "1     3.180293    Day1_of_the_Week\n",
       "2    28.176086         Victim_Type\n",
       "3     5.835838         Victim_Race\n",
       "4     8.471107          Victim_Age\n",
       "5     2.435642    UCR_Offense_Name\n",
       "6     5.083418   Number_of_offense\n",
       "7     1.596640       Response_time\n",
       "8     5.007212  Call_Received_Hour\n",
       "9     2.184831              IsMale\n",
       "10    1.038687  Social_crime_score"
      ]
     },
     "execution_count": 18,
     "metadata": {},
     "output_type": "execute_result"
    }
   ],
   "source": [
    "# Credit: https://etav.github.io/\n",
    "\n",
    "from statsmodels.stats.outliers_influence import variance_inflation_factor as vif\n",
    "df2_vif = pd.DataFrame()\n",
    "df2_vif[\"VIF Factor\"] = [vif(inci_X.values, i) for i in range(inci_X.shape[1])]\n",
    "df2_vif[\"features\"] = inci_X.columns\n",
    "print(\"VIF Factors before Scaling\")\n",
    "df2_vif"
   ]
  },
  {
   "cell_type": "code",
   "execution_count": 19,
   "metadata": {},
   "outputs": [
    {
     "name": "stdout",
     "output_type": "stream",
     "text": [
      "VIF Factors after Scaling\n"
     ]
    },
    {
     "data": {
      "text/html": [
       "<div>\n",
       "<style scoped>\n",
       "    .dataframe tbody tr th:only-of-type {\n",
       "        vertical-align: middle;\n",
       "    }\n",
       "\n",
       "    .dataframe tbody tr th {\n",
       "        vertical-align: top;\n",
       "    }\n",
       "\n",
       "    .dataframe thead th {\n",
       "        text-align: right;\n",
       "    }\n",
       "</style>\n",
       "<table border=\"1\" class=\"dataframe\">\n",
       "  <thead>\n",
       "    <tr style=\"text-align: right;\">\n",
       "      <th></th>\n",
       "      <th>VIF Factor</th>\n",
       "      <th>features</th>\n",
       "    </tr>\n",
       "  </thead>\n",
       "  <tbody>\n",
       "    <tr>\n",
       "      <th>0</th>\n",
       "      <td>1.093477</td>\n",
       "      <td>Division</td>\n",
       "    </tr>\n",
       "    <tr>\n",
       "      <th>1</th>\n",
       "      <td>1.001584</td>\n",
       "      <td>Day1_of_the_Week</td>\n",
       "    </tr>\n",
       "    <tr>\n",
       "      <th>2</th>\n",
       "      <td>1.001024</td>\n",
       "      <td>Victim_Type</td>\n",
       "    </tr>\n",
       "    <tr>\n",
       "      <th>3</th>\n",
       "      <td>1.122006</td>\n",
       "      <td>Victim_Race</td>\n",
       "    </tr>\n",
       "    <tr>\n",
       "      <th>4</th>\n",
       "      <td>1.022246</td>\n",
       "      <td>Victim_Age</td>\n",
       "    </tr>\n",
       "    <tr>\n",
       "      <th>5</th>\n",
       "      <td>1.031494</td>\n",
       "      <td>UCR_Offense_Name</td>\n",
       "    </tr>\n",
       "    <tr>\n",
       "      <th>6</th>\n",
       "      <td>1.017487</td>\n",
       "      <td>Number_of_offense</td>\n",
       "    </tr>\n",
       "    <tr>\n",
       "      <th>7</th>\n",
       "      <td>1.019102</td>\n",
       "      <td>Response_time</td>\n",
       "    </tr>\n",
       "    <tr>\n",
       "      <th>8</th>\n",
       "      <td>1.009191</td>\n",
       "      <td>Call_Received_Hour</td>\n",
       "    </tr>\n",
       "    <tr>\n",
       "      <th>9</th>\n",
       "      <td>1.014029</td>\n",
       "      <td>IsMale</td>\n",
       "    </tr>\n",
       "    <tr>\n",
       "      <th>10</th>\n",
       "      <td>1.016729</td>\n",
       "      <td>Social_crime_score</td>\n",
       "    </tr>\n",
       "  </tbody>\n",
       "</table>\n",
       "</div>"
      ],
      "text/plain": [
       "    VIF Factor            features\n",
       "0     1.093477            Division\n",
       "1     1.001584    Day1_of_the_Week\n",
       "2     1.001024         Victim_Type\n",
       "3     1.122006         Victim_Race\n",
       "4     1.022246          Victim_Age\n",
       "5     1.031494    UCR_Offense_Name\n",
       "6     1.017487   Number_of_offense\n",
       "7     1.019102       Response_time\n",
       "8     1.009191  Call_Received_Hour\n",
       "9     1.014029              IsMale\n",
       "10    1.016729  Social_crime_score"
      ]
     },
     "execution_count": 19,
     "metadata": {},
     "output_type": "execute_result"
    }
   ],
   "source": [
    "# Credit: https://etav.github.io/\n",
    "\n",
    "from statsmodels.stats.outliers_influence import variance_inflation_factor as vif\n",
    "\n",
    "df2_vif = pd.DataFrame()\n",
    "df2_vif[\"VIF Factor\"] = [vif(df_inci_X_scaled.values, i) for i in range(df_inci_X_scaled.shape[1])]\n",
    "df2_vif[\"features\"] = inci_X.columns\n",
    "print(\"VIF Factors after Scaling\")\n",
    "df2_vif"
   ]
  },
  {
   "cell_type": "code",
   "execution_count": 20,
   "metadata": {},
   "outputs": [
    {
     "name": "stdout",
     "output_type": "stream",
     "text": [
      "Optimization terminated successfully.\n",
      "         Current function value: 0.624114\n",
      "         Iterations 6\n",
      "                          Results: Logit\n",
      "===================================================================\n",
      "Model:                Logit            Pseudo R-squared: 0.100     \n",
      "Dependent Variable:   Arrest_status    AIC:              57727.6014\n",
      "Date:                 2018-10-10 20:54 BIC:              57823.7566\n",
      "No. Observations:     46230            Log-Likelihood:   -28853.   \n",
      "Df Model:             10               LL-Null:          -32044.   \n",
      "Df Residuals:         46219            LLR p-value:      0.0000    \n",
      "Converged:            1.0000           Scale:            1.0000    \n",
      "No. Iterations:       6.0000                                       \n",
      "-------------------------------------------------------------------\n",
      "                    Coef.  Std.Err.    z     P>|z|   [0.025  0.975]\n",
      "-------------------------------------------------------------------\n",
      "Division            0.0057   0.0052   1.0983 0.2721 -0.0045  0.0160\n",
      "Day1_of_the_Week    0.0063   0.0050   1.2626 0.2067 -0.0035  0.0162\n",
      "Victim_Type         0.3870   0.0281  13.7965 0.0000  0.3320  0.4420\n",
      "Victim_Race        -0.0322   0.0064  -5.0381 0.0000 -0.0447 -0.0197\n",
      "Victim_Age         -0.0069   0.0007  -9.6999 0.0000 -0.0083 -0.0055\n",
      "UCR_Offense_Name   -0.2865   0.0046 -62.2517 0.0000 -0.2955 -0.2775\n",
      "Number_of_offense   0.3698   0.0241  15.3383 0.0000  0.3225  0.4170\n",
      "Response_time      -0.0160   0.0005 -32.0092 0.0000 -0.0170 -0.0150\n",
      "Call_Received_Hour  0.0057   0.0015   3.6727 0.0002  0.0026  0.0087\n",
      "IsMale              0.1091   0.0202   5.4100 0.0000  0.0696  0.1487\n",
      "Social_crime_score  0.7198   0.0727   9.8951 0.0000  0.5772  0.8624\n",
      "===================================================================\n",
      "\n"
     ]
    }
   ],
   "source": [
    "# LOGISTIC REGRESSION: SUMMARY TABLE WITHOUT SCALING- FEATURE SIGNIFICANCE, CROSS VALIDATION OF FULL MODEL\n",
    "from sklearn import metrics as mt\n",
    "import statsmodels.api as sm\n",
    "logit_model = sm.Logit(inci_Y, inci_X)\n",
    "result = logit_model.fit()\n",
    "print(result.summary2())"
   ]
  },
  {
   "cell_type": "markdown",
   "metadata": {},
   "source": [
    "### Cross Validation "
   ]
  },
  {
   "cell_type": "code",
   "execution_count": 21,
   "metadata": {},
   "outputs": [],
   "source": [
    "from sklearn.model_selection import ShuffleSplit\n",
    "# Create Cross Validation Object with 10 folds with 80/20 train - test split\n",
    "cv = ShuffleSplit(n_splits = 10, test_size=0.20, random_state=0)"
   ]
  },
  {
   "cell_type": "code",
   "execution_count": 24,
   "metadata": {},
   "outputs": [
    {
     "data": {
      "text/plain": [
       "Division              0\n",
       "Day1_of_the_Week      0\n",
       "Victim_Type           0\n",
       "Victim_Race           0\n",
       "Victim_Age            0\n",
       "UCR_Offense_Name      0\n",
       "Number_of_offense     0\n",
       "Response_time         0\n",
       "Call_Received_Hour    0\n",
       "IsMale                0\n",
       "Social_crime_score    0\n",
       "dtype: int64"
      ]
     },
     "execution_count": 24,
     "metadata": {},
     "output_type": "execute_result"
    }
   ],
   "source": [
    "inci_X.isnull().sum()"
   ]
  },
  {
   "cell_type": "code",
   "execution_count": 25,
   "metadata": {},
   "outputs": [
    {
     "name": "stdout",
     "output_type": "stream",
     "text": [
      "<class 'pandas.core.frame.DataFrame'>\n",
      "Int64Index: 46230 entries, 72724 to 255143\n",
      "Data columns (total 11 columns):\n",
      "Division              46230 non-null int8\n",
      "Day1_of_the_Week      46230 non-null int8\n",
      "Victim_Type           46230 non-null int8\n",
      "Victim_Race           46230 non-null int8\n",
      "Victim_Age            46230 non-null int32\n",
      "UCR_Offense_Name      46230 non-null int8\n",
      "Number_of_offense     46230 non-null int32\n",
      "Response_time         46230 non-null int32\n",
      "Call_Received_Hour    46230 non-null float64\n",
      "IsMale                46230 non-null int32\n",
      "Social_crime_score    46230 non-null int64\n",
      "dtypes: float64(1), int32(4), int64(1), int8(5)\n",
      "memory usage: 3.2 MB\n"
     ]
    }
   ],
   "source": [
    "inci_X.info()"
   ]
  },
  {
   "cell_type": "code",
   "execution_count": 28,
   "metadata": {},
   "outputs": [
    {
     "name": "stdout",
     "output_type": "stream",
     "text": [
      "KNN accuracy 0.6160501838632922\n",
      "Wall time: 1min 15s\n"
     ]
    }
   ],
   "source": [
    "%%time\n",
    "from sklearn.neighbors import KNeighborsClassifier\n",
    "from sklearn.model_selection import StratifiedKFold\n",
    "from sklearn.preprocessing import StandardScaler\n",
    "import numpy as np\n",
    "from sklearn import metrics as mt\n",
    "\n",
    "\n",
    "# create variables we are more familiar with\n",
    "# X = inci_X\n",
    "# y = inci_Y\n",
    "X = inci_X.as_matrix().astype(np.float)\n",
    "y = inci_Y.as_matrix().astype(np.float)\n",
    "yhat = np.zeros(y.shape) # we will fill this with predictions\n",
    "\n",
    "scl = StandardScaler()\n",
    "X = scl.fit_transform(X)\n",
    "\n",
    "# create cross validation iterator\n",
    "cv = StratifiedKFold(n_splits=10)\n",
    "\n",
    "# get a handle to the classifier object, which defines the type\n",
    "clf = KNeighborsClassifier(n_neighbors=3)\n",
    "\n",
    "# now iterate through and get predictions, saved to the correct row in yhat\n",
    "# NOTE: you can parallelize this using the cross_val_predict method\n",
    "for train, test in cv.split(X,y):\n",
    "    clf.fit(X[train],y[train])\n",
    "    yhat[test] = clf.predict(X[test])\n",
    "\n",
    "total_accuracy = mt.accuracy_score(y, yhat)\n",
    "print ('KNN accuracy', total_accuracy)"
   ]
  },
  {
   "cell_type": "code",
   "execution_count": 33,
   "metadata": {},
   "outputs": [
    {
     "name": "stdout",
     "output_type": "stream",
     "text": [
      "KNN, pipeline accuracy 0.5878866536880814\n",
      "Wall time: 7.42 s\n"
     ]
    }
   ],
   "source": [
    "%%time\n",
    "from sklearn.decomposition import PCA \n",
    "from sklearn.pipeline import Pipeline\n",
    "\n",
    "# setup pipeline to take PCA, then fit a KNN classifier\n",
    "clf_pipe = Pipeline(\n",
    "    [('PCA_Eric',PCA(n_components=11,svd_solver='randomized')),\n",
    "     ('CLF_Eric',KNeighborsClassifier(n_neighbors=1))]\n",
    ")\n",
    "\n",
    "# now iterate through and get predictions, saved to the correct row in yhat\n",
    "for train, test in cv.split(X,y):\n",
    "    clf_pipe.fit(X[train],y[train])\n",
    "    yhat[test] = clf_pipe.predict(X[test])\n",
    "\n",
    "total_accuracy = mt.accuracy_score(y, yhat)\n",
    "print ('KNN, pipeline accuracy', total_accuracy)"
   ]
  },
  {
   "cell_type": "code",
   "execution_count": 34,
   "metadata": {},
   "outputs": [
    {
     "data": {
      "image/png": "[encoded data removed]",
      "text/plain": [
       "<Figure size 432x288 with 1 Axes>"
      ]
     },
     "metadata": {},
     "output_type": "display_data"
    }
   ],
   "source": [
    "def per_class_accuracy(ytrue,yhat):\n",
    "    conf = mt.confusion_matrix(ytrue,yhat)\n",
    "    norm_conf = conf.astype('float') / conf.sum(axis=1)[:, np.newaxis]\n",
    "    return np.diag(norm_conf)\n",
    "\n",
    "def plot_class_acc(ytrue,yhat, title=''):\n",
    "    acc_list = per_class_accuracy(ytrue,yhat)\n",
    "    plt.bar(range(len(acc_list)), acc_list)\n",
    "    plt.xlabel('Class value (one per face)')\n",
    "    plt.ylabel('Accuracy within class')\n",
    "    plt.title(title+\", Total Acc=%.1f\"%(100*mt.accuracy_score(ytrue,yhat)))\n",
    "    plt.grid()\n",
    "    plt.ylim([0,1])\n",
    "    plt.show()\n",
    "    \n",
    "plot_class_acc(y,yhat,title=\"KNN\")"
   ]
  },
  {
   "cell_type": "code",
   "execution_count": 35,
   "metadata": {},
   "outputs": [
    {
     "name": "stdout",
     "output_type": "stream",
     "text": [
      "Pipeline accuracy 0.6601557430240104\n"
     ]
    },
    {
     "data": {
      "image/png": "[encoded data removed]",
      "text/plain": [
       "<Figure size 432x288 with 1 Axes>"
      ]
     },
     "metadata": {},
     "output_type": "display_data"
    },
    {
     "name": "stdout",
     "output_type": "stream",
     "text": [
      "Wall time: 1min 58s\n"
     ]
    }
   ],
   "source": [
    "%%time\n",
    "from sklearn.ensemble import RandomForestClassifier\n",
    "\n",
    "clf_pipe = Pipeline(\n",
    "    [('PCA',PCA(n_components=11, svd_solver='randomized')),\n",
    "     ('CLF',RandomForestClassifier(max_depth=50, n_estimators=150, n_jobs=-1))]\n",
    ")\n",
    "\n",
    "# now iterate through and get predictions, saved to the correct row in yhat\n",
    "for train, test in cv.split(X,y):\n",
    "    clf_pipe.fit(X[train],y[train])\n",
    "    yhat[test] = clf_pipe.predict(X[test])\n",
    "    \n",
    "total_accuracy = mt.accuracy_score(y, yhat)\n",
    "print ('Pipeline accuracy', total_accuracy)\n",
    "plot_class_acc(y,yhat,title=\"Random Forest + PCA\")"
   ]
  },
  {
   "cell_type": "code",
   "execution_count": 36,
   "metadata": {},
   "outputs": [
    {
     "name": "stdout",
     "output_type": "stream",
     "text": [
      "Accuracy 0.6667964525200086\n"
     ]
    },
    {
     "data": {
      "image/png": "[encoded data removed]",
      "text/plain": [
       "<Figure size 432x288 with 1 Axes>"
      ]
     },
     "metadata": {},
     "output_type": "display_data"
    },
    {
     "name": "stdout",
     "output_type": "stream",
     "text": [
      "Wall time: 40.6 s\n"
     ]
    }
   ],
   "source": [
    "%%time\n",
    "from sklearn.ensemble import RandomForestClassifier\n",
    "\n",
    "clf = RandomForestClassifier(max_depth=50, n_estimators=150, n_jobs=-1, oob_score=True)\n",
    "\n",
    "# now iterate through and get predictions, saved to the correct row in yhat\n",
    "for train, test in cv.split(X,y):\n",
    "    clf.fit(X[train],y[train])\n",
    "    yhat[test] = clf.predict(X[test])\n",
    "    \n",
    "total_accuracy = mt.accuracy_score(y, yhat)\n",
    "print ('Accuracy', total_accuracy)\n",
    "plot_class_acc(y,yhat,title=\"Random Forest, Raw\")"
   ]
  },
  {
   "cell_type": "code",
   "execution_count": 37,
   "metadata": {},
   "outputs": [
    {
     "name": "stdout",
     "output_type": "stream",
     "text": [
      "RandomForestClassifier(bootstrap=True, class_weight=None, criterion='gini',\n",
      "            max_depth=50, max_features='auto', max_leaf_nodes=None,\n",
      "            min_impurity_decrease=0.0, min_impurity_split=None,\n",
      "            min_samples_leaf=1, min_samples_split=2,\n",
      "            min_weight_fraction_leaf=0.0, n_estimators=150, n_jobs=-1,\n",
      "            oob_score=True, random_state=None, verbose=0, warm_start=False)\n"
     ]
    },
    {
     "data": {
      "image/png": "[encoded data removed]",
      "text/plain": [
       "<Figure size 432x288 with 1 Axes>"
      ]
     },
     "metadata": {},
     "output_type": "display_data"
    },
    {
     "name": "stdout",
     "output_type": "stream",
     "text": [
      "Generalization score estimate from training data 0.6770572966737166\n"
     ]
    }
   ],
   "source": [
    "# now lets get access to the different properties of our RF\n",
    "\n",
    "print (clf)\n",
    "\n",
    "plt.barh(range(len(clf.feature_importances_)), clf.feature_importances_)\n",
    "plt.show()\n",
    "\n",
    "print ('Generalization score estimate from training data', clf.oob_score_)\n",
    "\n",
    "\n",
    "# oob_SCORE - Very close to accuracy, represents data which are not just a guess and are not placed on the main data for ..\n",
    "# ..do not use it as a replacement to cross validation"
   ]
  },
  {
   "cell_type": "markdown",
   "metadata": {},
   "source": [
    "- Overall importance of each feature, magnitude of feature importance."
   ]
  },
  {
   "cell_type": "code",
   "execution_count": null,
   "metadata": {},
   "outputs": [],
   "source": []
  },
  {
   "cell_type": "markdown",
   "metadata": {},
   "source": [
    "# TREE ENSEMBLE METHOD"
   ]
  },
  {
   "cell_type": "code",
   "execution_count": 38,
   "metadata": {},
   "outputs": [
    {
     "name": "stdout",
     "output_type": "stream",
     "text": [
      "Stump 0.6594635518061865\n",
      "Tree 0.5845771144278608\n",
      "Random Trees 0.6601557430240104\n",
      "Extra Random Trees 0.6551589876703439\n",
      "Boosted Tree 0.681440622972096\n",
      "Wall time: 19.6 s\n"
     ]
    }
   ],
   "source": [
    "%%time\n",
    "from sklearn.tree import DecisionTreeClassifier\n",
    "from sklearn.ensemble import RandomForestClassifier\n",
    "from sklearn.ensemble import ExtraTreesClassifier\n",
    "from sklearn.ensemble import GradientBoostingClassifier\n",
    "\n",
    "from sklearn.model_selection import cross_val_score\n",
    "\n",
    "num_estimators = 50\n",
    "# lets train some trees\n",
    "clf_array = [\n",
    "    ('Stump',              DecisionTreeClassifier(max_depth=1, min_samples_leaf=1)),\n",
    "    ('Tree',               DecisionTreeClassifier()),\n",
    "    ('Random Trees',       RandomForestClassifier(max_depth=50, n_estimators=num_estimators)),\n",
    "    ('Extra Random Trees', ExtraTreesClassifier(n_estimators=num_estimators,min_samples_split=2)),\n",
    "    ('Boosted Tree',       GradientBoostingClassifier(n_estimators=num_estimators)), #takes a long time\n",
    "    ]\n",
    "\n",
    "for clf in clf_array:\n",
    "    acc = cross_val_score(clf[1],X,y)\n",
    "    print (clf[0], acc.mean())"
   ]
  },
  {
   "cell_type": "code",
   "execution_count": 40,
   "metadata": {},
   "outputs": [
    {
     "name": "stdout",
     "output_type": "stream",
     "text": [
      "Pipeline accuracy 0.5509409474367294\n"
     ]
    },
    {
     "data": {
      "image/png": "[encoded data removed]",
      "text/plain": [
       "<Figure size 432x288 with 1 Axes>"
      ]
     },
     "metadata": {},
     "output_type": "display_data"
    }
   ],
   "source": [
    "# from sklearn.svm import SVC\n",
    "# from sklearn.linear_model import LogisticRegression\n",
    "# from sklearn.linear_model import SGDClassifier\n",
    "from sklearn.naive_bayes import GaussianNB\n",
    "\n",
    "\n",
    "# setup pipeline to take PCA, then fit a different classifier\n",
    "clf_pipe = Pipeline(\n",
    "    [('PCA',PCA(n_components=11,svd_solver='randomized')),\n",
    "     ('CLF',GaussianNB())]\n",
    ")\n",
    "\n",
    "# now iterate through and get predictions, saved to the correct row in yhat\n",
    "for train, test in cv.split(X,y):\n",
    "    clf_pipe.fit(X[train],y[train])\n",
    "    yhat[test] = clf_pipe.predict(X[test])\n",
    "\n",
    "total_accuracy = mt.accuracy_score(y, yhat)\n",
    "print ('Pipeline accuracy', total_accuracy)\n",
    "plot_class_acc(y,yhat,title=\"Naive Bayes + PCA\")"
   ]
  },
  {
   "cell_type": "code",
   "execution_count": 41,
   "metadata": {},
   "outputs": [
    {
     "name": "stdout",
     "output_type": "stream",
     "text": [
      "Total Accuracy: 0.5509409474367294\n",
      "Number of infrequent faces: 0 with average recall of: nan\n",
      "Number of frequent faces: 2 with average precision of: 0.6168135404882085\n"
     ]
    }
   ],
   "source": [
    "from sklearn import metrics as mt\n",
    "\n",
    "freq_infreq_threshold = 40\n",
    "\n",
    "# get various measures of performance\n",
    "total_accuracy = mt.accuracy_score(y, yhat)\n",
    "per_class_acc_list = per_class_accuracy(y,yhat)\n",
    "\n",
    "prec_for_freq_classes = []\n",
    "recall_for_infreq_classes = []\n",
    "rec_tot = []\n",
    "prec_tot = []\n",
    "\n",
    "for cls in np.unique(y):\n",
    "    idx = (y==cls) # get classes\n",
    "    ytmp_actual = np.zeros(y.shape) # make binary class problem\n",
    "    ytmp_actual[idx] = 1 # set the instances for this specific class\n",
    "    \n",
    "    ytmp_predicted = np.zeros(y.shape) # binary prediction array\n",
    "    ytmp_predicted[yhat==cls] = 1\n",
    "    \n",
    "    num_in_class = sum(idx)\n",
    "    \n",
    "    rec = mt.recall_score(ytmp_actual, ytmp_predicted)\n",
    "    prec = mt.precision_score(ytmp_actual, ytmp_predicted)\n",
    "    rec_tot.append(rec)\n",
    "    prec_tot.append(prec)\n",
    "    \n",
    "    if num_in_class < freq_infreq_threshold:\n",
    "        recall_for_infreq_classes.append(rec)\n",
    "    elif num_in_class >= freq_infreq_threshold:\n",
    "        prec_for_freq_classes.append(prec)\n",
    "        \n",
    "print ('Total Accuracy:',total_accuracy)\n",
    "print ('Number of infrequent faces:',len(recall_for_infreq_classes), \n",
    "       'with average recall of:', np.mean(recall_for_infreq_classes))\n",
    "print ('Number of frequent faces:',len(prec_for_freq_classes), \n",
    "       'with average precision of:',np.mean(prec_for_freq_classes))"
   ]
  },
  {
   "cell_type": "code",
   "execution_count": 42,
   "metadata": {},
   "outputs": [
    {
     "data": {
      "image/png": "[encoded data removed]",
      "text/plain": [
       "<Figure size 1080x360 with 1 Axes>"
      ]
     },
     "metadata": {},
     "output_type": "display_data"
    }
   ],
   "source": [
    "# But we can really summarize this data much better than this. \n",
    "# How about looking at more statistics of the precision and recall for each class?\n",
    "\n",
    "import seaborn as sns\n",
    "sns.set_palette(\"dark\")\n",
    "plt.figure(figsize=(15,5))\n",
    "plt.boxplot([ rec_tot, prec_tot, recall_for_infreq_classes,prec_for_freq_classes],\n",
    "            labels=['Recall, all faces','Precision, all faces','Recall Infreq. faces','Prec Freq. faces'])\n",
    "plt.ylim([0,1])\n",
    "plt.show()"
   ]
  },
  {
   "cell_type": "code",
   "execution_count": 43,
   "metadata": {},
   "outputs": [
    {
     "data": {
      "image/png": "[encoded data removed]",
      "text/plain": [
       "<Figure size 432x288 with 1 Axes>"
      ]
     },
     "metadata": {},
     "output_type": "display_data"
    }
   ],
   "source": [
    "# how about plotting a confusion matrix?\n",
    "cm = mt.confusion_matrix(y, yhat)\n",
    "plt.imshow(cm,cmap=plt.get_cmap('Reds'),aspect='auto')\n",
    "plt.grid(False)"
   ]
  },
  {
   "cell_type": "code",
   "execution_count": null,
   "metadata": {},
   "outputs": [],
   "source": []
  },
  {
   "cell_type": "markdown",
   "metadata": {},
   "source": [
    "- Nearestnearoids...etc"
   ]
  },
  {
   "cell_type": "code",
   "execution_count": 54,
   "metadata": {},
   "outputs": [],
   "source": [
    "# from sklearn.naive_bayes import GaussianNB\n",
    "\n",
    "\n",
    "# # setup pipeline to take PCA, then fit a different classifier\n",
    "# clf_pipe = Pipeline(\n",
    "#     [('PCA',PCA(n_components=11,svd_solver='randomized')),\n",
    "#      ('CLF',GaussianNB())]\n",
    "# )\n",
    "\n",
    "# yhat_score = np.zeros((y.shape[0],len(X)))\n",
    "\n",
    "# # now iterate through and get predictions, saved to the correct row in yhat\n",
    "# for train, test in cv.split(X,y):\n",
    "#     clf_pipe.fit(X[train],y[train])\n",
    "#     yhat[test] = clf_pipe.predict(X[test])\n",
    "#     yhat_score[test] = clf_pipe.predict_proba(X[test])\n",
    "\n",
    "# total_accuracy = mt.accuracy_score(y, yhat)\n",
    "# print ('Pipeline accuracy', total_accuracy)"
   ]
  },
  {
   "cell_type": "code",
   "execution_count": null,
   "metadata": {},
   "outputs": [],
   "source": []
  },
  {
   "cell_type": "code",
   "execution_count": 56,
   "metadata": {},
   "outputs": [],
   "source": [
    "# import seaborn as sns\n",
    "# sns.set_palette(\"dark\")\n",
    "# # code manipulated from http://scikit-learn.org/stable/auto_examples/plot_roc.html\n",
    "# from sklearn.preprocessing import label_binarize\n",
    "\n",
    "# # Compute ROC curve for a subset of interesting classes\n",
    "# fpr = dict()\n",
    "# tpr = dict()\n",
    "# roc_auc = dict()\n",
    "# for i in np.unique(y):\n",
    "#     fpr[i], tpr[i], _ = mt.roc_curve(y, yhat_score[:, i], pos_label=i)\n",
    "#     roc_auc[i] = mt.auc(fpr[i], tpr[i])\n",
    "\n",
    "# for i in np.random.permutation(60)[0:6]:\n",
    "#     plt.plot(fpr[i], tpr[i], label='class {0} with {1} instances (area = {2:0.2f})'\n",
    "#                                    ''.format(i, sum(y==i), roc_auc[i]))\n",
    "\n",
    "# plt.legend(loc=\"lower right\")  \n",
    "# plt.xlabel('False Positive Rate')\n",
    "# plt.ylabel('True Positive Rate')\n",
    "# plt.show()"
   ]
  },
  {
   "cell_type": "code",
   "execution_count": null,
   "metadata": {},
   "outputs": [],
   "source": []
  },
  {
   "cell_type": "code",
   "execution_count": 58,
   "metadata": {},
   "outputs": [],
   "source": [
    "# # combined ROC over all classes\n",
    "# one_hot_class_encoding = label_binarize(y,np.unique(y))\n",
    "# fpr[\"micro\"], tpr[\"micro\"], _ = mt.roc_curve(one_hot_class_encoding.ravel(), yhat_score.ravel())\n",
    "# roc_auc[\"micro\"] = mt.auc(fpr[\"micro\"], tpr[\"micro\"])\n",
    "\n",
    "# plt.figure(figsize=(12,4))\n",
    "# plt.plot(fpr[\"micro\"], tpr[\"micro\"],\n",
    "#          label='micro-average ROC curve (area = {0:0.2f})'\n",
    "#                ''.format(roc_auc[\"micro\"]))"
   ]
  },
  {
   "cell_type": "code",
   "execution_count": null,
   "metadata": {},
   "outputs": [],
   "source": []
  },
  {
   "cell_type": "markdown",
   "metadata": {},
   "source": [
    "# Classifier evaluation function"
   ]
  },
  {
   "cell_type": "code",
   "execution_count": 66,
   "metadata": {},
   "outputs": [],
   "source": [
    "from sklearn.model_selection import cross_validate\n",
    "from sklearn.metrics import classification_report, confusion_matrix, accuracy_score\n",
    "\n",
    "results = []\n",
    "\n",
    "def EvaluateClassifierEstimator(classifierEstimator, X, y, cv, model):\n",
    "   \n",
    "    #Perform cross validation \n",
    "    scores = cross_validate(classifierEstimator, X, y, scoring=['accuracy','precision','recall']\n",
    "                            , cv=cv, return_train_score=True)\n",
    "\n",
    "    Accavg = scores['test_accuracy'].mean()\n",
    "    Preavg = scores['test_precision'].mean()\n",
    "    Recavg = scores['test_recall'].mean()\n",
    "\n",
    "    print_str = \"The average accuracy for all cv folds is: \\t\\t\\t {Accavg:.5}\"\n",
    "    print_str2 = \"The average precision for all cv folds is: \\t\\t\\t {Preavg:.5}\"\n",
    "    print_str3 = \"The average recall for all cv folds is: \\t\\t\\t {Recavg:.5}\"\n",
    "\n",
    "    print(print_str.format(Accavg=Accavg))\n",
    "    print(print_str2.format(Preavg=Preavg))\n",
    "    print(print_str3.format(Recavg=Recavg))\n",
    "    print('*********************************************************')\n",
    "\n",
    "    print('Cross Validation Fold Mean Error Scores')\n",
    "    scoresResults = pd.DataFrame()\n",
    "    scoresResults['Accuracy'] = scores['test_accuracy']\n",
    "    scoresResults['Precision'] = scores['test_precision']\n",
    "    scoresResults['Recall'] = scores['test_recall']\n",
    "    \n",
    "    results.append({'Model': model, 'Accuracy': Accavg, 'Precision': Preavg, 'Recall': Recavg})\n",
    "\n",
    "    return scoresResults\n",
    "\n",
    "def EvaluateClassifierEstimator2(classifierEstimator, X, y, cv):\n",
    "    \n",
    "    #Perform cross validation \n",
    "    from sklearn.model_selection import cross_val_predict\n",
    "    predictions = cross_val_predict(classifierEstimator, X, y, cv=cv)\n",
    "    \n",
    "    #model evaluation \n",
    "    from sklearn.metrics import classification_report, confusion_matrix, accuracy_score\n",
    "    \n",
    "    #pass true test set values and predictions to classification_report\n",
    "    classReport = classification_report(Y,predictions)\n",
    "    confMat = confusion_matrix(Y,predictions)\n",
    "    acc = accuracy_score(Y,predictions)\n",
    "    \n",
    "    print (classReport)\n",
    "    print (confMat)\n",
    "    print (acc)"
   ]
  },
  {
   "cell_type": "markdown",
   "metadata": {},
   "source": [
    "# Linear Regression"
   ]
  },
  {
   "cell_type": "code",
   "execution_count": 67,
   "metadata": {},
   "outputs": [
    {
     "name": "stdout",
     "output_type": "stream",
     "text": [
      "Fitting 10 folds for each of 28 candidates, totalling 280 fits\n"
     ]
    },
    {
     "name": "stderr",
     "output_type": "stream",
     "text": [
      "[Parallel(n_jobs=8)]: Done  34 tasks      | elapsed:   15.9s\n",
      "[Parallel(n_jobs=8)]: Done 184 tasks      | elapsed:   20.6s\n",
      "[Parallel(n_jobs=8)]: Done 280 out of 280 | elapsed:   23.1s finished\n"
     ]
    },
    {
     "name": "stdout",
     "output_type": "stream",
     "text": [
      "Wall time: 23.7 s\n"
     ]
    }
   ],
   "source": [
    "%%time\n",
    "\n",
    "#Logisitic regression 10-fold cross-validation \n",
    "from sklearn.linear_model import LogisticRegression\n",
    "regEstimator = LogisticRegression()\n",
    "\n",
    "parameters = { 'penalty':['l2']\n",
    "              ,'C': [0.001, 0.01, 0.1, 1, 10, 100, 1000]\n",
    "              ,'class_weight': ['balanced', 'none']\n",
    "              ,'solver': ['lbfgs']\n",
    "              ,'max_iter':[100,500]\n",
    "             }\n",
    "\n",
    "#Create a grid search object using the  \n",
    "from sklearn.model_selection import GridSearchCV\n",
    "regGridSearch = GridSearchCV(estimator=regEstimator\n",
    "                   , n_jobs=8 # jobs to run in parallel\n",
    "                   , verbose=1 # low verbosity\n",
    "                   , param_grid=parameters\n",
    "                   , cv=cv # KFolds = 10\n",
    "                   , scoring='accuracy')\n",
    "\n",
    "#Perform hyperparameter search to find the best combination of parameters for our data\n",
    "#regGridSearch.fit(teamX, teamY)\n",
    "regGridSearch.fit(df_inci_X_scaled, inci_Y)"
   ]
  },
  {
   "cell_type": "code",
   "execution_count": 68,
   "metadata": {},
   "outputs": [
    {
     "data": {
      "text/plain": [
       "array([[ 0.01093505,  0.01216853, -0.01772629, -0.05387113, -0.09840126,\n",
       "        -0.63512951,  0.20641006, -0.34168516,  0.03606739,  0.05396491,\n",
       "         0.10961091]])"
      ]
     },
     "execution_count": 68,
     "metadata": {},
     "output_type": "execute_result"
    }
   ],
   "source": [
    "#Diplay the top model parameters\n",
    "regGridSearch.best_estimator_.coef_"
   ]
  },
  {
   "cell_type": "code",
   "execution_count": 69,
   "metadata": {},
   "outputs": [
    {
     "name": "stdout",
     "output_type": "stream",
     "text": [
      "The average accuracy for all cv folds is: \t\t\t 0.66108\n",
      "The average precision for all cv folds is: \t\t\t 0.67566\n",
      "The average recall for all cv folds is: \t\t\t 0.61297\n",
      "*********************************************************\n",
      "Cross Validation Fold Mean Error Scores\n",
      "\n",
      "    Accuracy  Precision  Recall\n",
      "0    0.6620     0.6714  0.6345\n",
      "1    0.6808     0.6966  0.6406\n",
      "2    0.6795     0.6921  0.6466\n",
      "3    0.6708     0.6836  0.6362\n",
      "4    0.6635     0.6766  0.6263\n",
      "5    0.6705     0.6862  0.6283\n",
      "6    0.6757     0.6910  0.6357\n",
      "7    0.6820     0.6921  0.6556\n",
      "8    0.6729     0.6896  0.6287\n",
      "9    0.5532     0.5774  0.3972\n",
      "\n",
      "---- Logistic Regression - CV, Scaled 'Manual' Attr Elimination ----\n",
      "C : \t  0.1\n",
      "class_weight : \t  balanced\n",
      "max_iter : \t  100\n",
      "penalty : \t  l2\n",
      "solver : \t  lbfgs\n",
      "\n",
      "---- Attributes and their weights -----\n",
      "\n",
      "Number_of_offense  has weight of 0.2064100596609839\n",
      "Social_crime_score  has weight of 0.10961090510827184\n",
      "IsMale  has weight of 0.05396490966659441\n",
      "Call_Received_Hour  has weight of 0.03606739136522091\n",
      "Day1_of_the_Week  has weight of 0.012168532228534486\n",
      "Division  has weight of 0.010935054253307559\n",
      "Victim_Type  has weight of -0.017726292700605734\n",
      "Victim_Race  has weight of -0.053871134198179974\n",
      "Victim_Age  has weight of -0.09840126140744447\n",
      "Response_time  has weight of -0.34168516346972194\n",
      "UCR_Offense_Name  has weight of -0.6351295059239035\n",
      "Wall time: 758 ms\n"
     ]
    }
   ],
   "source": [
    "%%time\n",
    "\n",
    "#Use the best parameters for our Linear Regression object\n",
    "classifierEst = regGridSearch.best_estimator_\n",
    "\n",
    "#Evaluate the regression estimator above using our pre-defined cross validation and scoring metrics.\n",
    "print(\"\\n\",round(EvaluateClassifierEstimator(classifierEst, df_inci_X_scaled, inci_Y, cv, \"manual\"),4))\n",
    "\n",
    "#Use the best parameters for our Linear Regression object\",\n",
    "ClassiferParams = regGridSearch.best_params_\n",
    "print(\"\\n---- Logistic Regression - CV, Scaled 'Manual' Attr Elimination ----\")\n",
    "for keys,values in ClassiferParams.items():\n",
    "    print(keys,\": \\t \",values)\n",
    "    \n",
    "# sort these attributes and spit them out\\n\",\n",
    "name = inci_X\n",
    "zip_vars = zip(regGridSearch.best_estimator_.coef_.T,name) # combine attributes\n",
    "zip_vars = sorted(zip_vars, reverse=True)\n",
    "\n",
    "# Print out Attributes and their weights\\n\",\n",
    "print(\"\\n---- Attributes and their weights -----\\n\")\n",
    "for coef, name in zip_vars:\n",
    "    print(name, ' has weight of', coef[0])"
   ]
  },
  {
   "cell_type": "code",
   "execution_count": 70,
   "metadata": {},
   "outputs": [
    {
     "name": "stdout",
     "output_type": "stream",
     "text": [
      "Best Estimator GridSearch Prediction\n",
      "[0 0 0 ... 1 1 1]\n",
      "[[0.54242639 0.45757361]\n",
      " [0.80506192 0.19493808]\n",
      " [0.64753909 0.35246091]\n",
      " ...\n",
      " [0.36470664 0.63529336]\n",
      " [0.40884151 0.59115849]\n",
      " [0.36760343 0.63239657]]\n"
     ]
    }
   ],
   "source": [
    "\n",
    "print(\"Best Estimator GridSearch Prediction\")\n",
    "print(regGridSearch.best_estimator_.predict(df_inci_X_scaled))\n",
    "print(regGridSearch.best_estimator_.predict_proba(df_inci_X_scaled))"
   ]
  },
  {
   "cell_type": "code",
   "execution_count": null,
   "metadata": {},
   "outputs": [],
   "source": [
    "# if 'Arrest_status' in incident:\n",
    "#     y2 = incident['Arrest_status'].values # get the labels we want\n",
    "#     del incident['Arrest_status'] # get rid of the class label\n",
    "#     X2 = incident.values # use everything else to predict!"
   ]
  },
  {
   "cell_type": "code",
   "execution_count": null,
   "metadata": {},
   "outputs": [],
   "source": []
  },
  {
   "cell_type": "markdown",
   "metadata": {},
   "source": [
    "# LDA"
   ]
  },
  {
   "cell_type": "code",
   "execution_count": 73,
   "metadata": {},
   "outputs": [
    {
     "name": "stdout",
     "output_type": "stream",
     "text": [
      "[{'n_components': [2, 4, 6, 8], 'solver': ['lsqr', 'svd']}]\n",
      "Fitting 3 folds for each of 8 candidates, totalling 24 fits\n"
     ]
    },
    {
     "name": "stderr",
     "output_type": "stream",
     "text": [
      "[Parallel(n_jobs=10)]: Done  24 out of  24 | elapsed:    3.8s finished\n"
     ]
    },
    {
     "name": "stdout",
     "output_type": "stream",
     "text": [
      "GSCV CV2 LDA Accuracy: 0.6629894008219771\n",
      "Fitting 3 folds for each of 8 candidates, totalling 24 fits\n"
     ]
    },
    {
     "name": "stderr",
     "output_type": "stream",
     "text": [
      "[Parallel(n_jobs=10)]: Done  24 out of  24 | elapsed:    3.8s finished\n"
     ]
    },
    {
     "name": "stdout",
     "output_type": "stream",
     "text": [
      "GSCV CV2 LDA Accuracy: 0.6594202898550725\n",
      "Fitting 3 folds for each of 8 candidates, totalling 24 fits\n"
     ]
    },
    {
     "name": "stderr",
     "output_type": "stream",
     "text": [
      "[Parallel(n_jobs=10)]: Done  24 out of  24 | elapsed:    3.5s finished\n"
     ]
    },
    {
     "name": "stdout",
     "output_type": "stream",
     "text": [
      "GSCV CV2 LDA Accuracy: 0.6595284447328574\n",
      "Fitting 3 folds for each of 8 candidates, totalling 24 fits\n"
     ]
    },
    {
     "name": "stderr",
     "output_type": "stream",
     "text": [
      "[Parallel(n_jobs=10)]: Done  24 out of  24 | elapsed:    3.6s finished\n"
     ]
    },
    {
     "name": "stdout",
     "output_type": "stream",
     "text": [
      "GSCV CV2 LDA Accuracy: 0.6561756435215228\n",
      "Fitting 3 folds for each of 8 candidates, totalling 24 fits\n"
     ]
    },
    {
     "name": "stderr",
     "output_type": "stream",
     "text": [
      "[Parallel(n_jobs=10)]: Done  24 out of  24 | elapsed:    3.3s finished\n"
     ]
    },
    {
     "name": "stdout",
     "output_type": "stream",
     "text": [
      "GSCV CV2 LDA Accuracy: 0.6612589227774173\n",
      "Fitting 3 folds for each of 8 candidates, totalling 24 fits\n"
     ]
    },
    {
     "name": "stderr",
     "output_type": "stream",
     "text": [
      "[Parallel(n_jobs=10)]: Done  24 out of  24 | elapsed:    3.3s finished\n"
     ]
    },
    {
     "name": "stdout",
     "output_type": "stream",
     "text": [
      "GSCV CV2 LDA Accuracy: 0.6586632057105776\n",
      "Fitting 3 folds for each of 8 candidates, totalling 24 fits\n"
     ]
    },
    {
     "name": "stderr",
     "output_type": "stream",
     "text": [
      "[Parallel(n_jobs=10)]: Done  24 out of  24 | elapsed:    3.5s finished\n"
     ]
    },
    {
     "name": "stdout",
     "output_type": "stream",
     "text": [
      "GSCV CV2 LDA Accuracy: 0.6622323166774822\n",
      "Fitting 3 folds for each of 8 candidates, totalling 24 fits\n"
     ]
    },
    {
     "name": "stderr",
     "output_type": "stream",
     "text": [
      "[Parallel(n_jobs=10)]: Done  24 out of  24 | elapsed:    3.8s finished\n"
     ]
    },
    {
     "name": "stdout",
     "output_type": "stream",
     "text": [
      "GSCV CV2 LDA Accuracy: 0.6658014276443868\n",
      "Fitting 3 folds for each of 8 candidates, totalling 24 fits\n"
     ]
    },
    {
     "name": "stderr",
     "output_type": "stream",
     "text": [
      "[Parallel(n_jobs=10)]: Done  24 out of  24 | elapsed:    3.5s finished\n"
     ]
    },
    {
     "name": "stdout",
     "output_type": "stream",
     "text": [
      "GSCV CV2 LDA Accuracy: 0.6609344581440623\n",
      "Fitting 3 folds for each of 8 candidates, totalling 24 fits\n"
     ]
    },
    {
     "name": "stderr",
     "output_type": "stream",
     "text": [
      "[Parallel(n_jobs=10)]: Done  24 out of  24 | elapsed:    4.0s finished\n"
     ]
    },
    {
     "name": "stdout",
     "output_type": "stream",
     "text": [
      "GSCV CV2 LDA Accuracy: 0.6605018386329223\n"
     ]
    }
   ],
   "source": [
    "\n",
    "from sklearn.discriminant_analysis import LinearDiscriminantAnalysis\n",
    "from sklearn.model_selection import StratifiedKFold, ShuffleSplit, GridSearchCV, ParameterGrid\n",
    "from sklearn.cross_validation import StratifiedShuffleSplit\n",
    "from sklearn import metrics as mt\n",
    "\n",
    "#Create Lists to Automate LDA Model Search\n",
    "mySolv = ['lsqr', 'svd']\n",
    "myNComponents = list(range(2,10,2))\n",
    "myShrink = [None, 'auto']\n",
    "parms = {'n_components': [myNComponents], 'solver': [mySolv]}\n",
    "parmGrid = (list(ParameterGrid(parms)))\n",
    "print(parmGrid)\n",
    "\n",
    "#Create Target and Data sets\n",
    "X = inci_X\n",
    "y = inci_Y\n",
    "\n",
    "#Save for M&E 4\n",
    "XT1 = X\n",
    "yT1 = y\n",
    "\n",
    "#yhat = np.zeros(y.shape)\n",
    "yhat = np.empty(y.shape,dtype=str)\n",
    "yhat2 = np.empty(y.shape,dtype=str)\n",
    "\n",
    "#Create cross validation interator\n",
    "cv = StratifiedKFold(n_splits=10)\n",
    "cv2 = StratifiedShuffleSplit(y, n_iter = 10, test_size = 0.2, train_size=0.8)\n",
    "\n",
    "#Create arrays from data frame columns as input into dataframe iterators\n",
    "X = X.values\n",
    "y = y.values\n",
    "\n",
    "### Parameter Grid Search for LDA and Stratified Shuffle Split\n",
    "gscv = GridSearchCV(estimator=LinearDiscriminantAnalysis(), \n",
    "                   n_jobs=10, \n",
    "                   verbose=1, \n",
    "                   param_grid = parmGrid, \n",
    "                   scoring='accuracy')\n",
    "\n",
    "for trainidx, testidx in cv2:\n",
    "    X_train = X[trainidx] \n",
    "    X_test = X[testidx] \n",
    "    y_train = y[trainidx]\n",
    "    y_test = y[testidx]    \n",
    "    gscv.fit(X_train, y_train)\n",
    "    print(\"GSCV CV2 LDA Accuracy:\", gscv.score(X_test, y_test))"
   ]
  },
  {
   "cell_type": "code",
   "execution_count": 76,
   "metadata": {},
   "outputs": [],
   "source": [
    "# #Create LDA Object\n",
    "# # clf = LinearDiscriminantAnalysis(n_components=2, priors=myPriors, solver='lsqr')\n",
    "# # clf9 = LinearDiscriminantAnalysis(n_components=2, priors=myPriors, solver='svd')\n",
    "\n",
    "# clf = LinearDiscriminantAnalysis(n_components=2, solver='lsqr')\n",
    "# clf9 = LinearDiscriminantAnalysis(n_components=2,solver='svd')\n",
    "\n",
    "# clf.fit(X_train, y_train)\n",
    "# yhat2 = clf.predict(X_test)\n",
    "\n",
    "# #print(\"LDA Component Coefficients:\", clf.coef_)\n",
    "# print(mt.classification_report(y_test, yhat2, target_names = [0,1]))\n",
    "\n",
    "# from yellowbrick.classifier import ConfusionMatrix, ClassificationReport, ROCAUC\n",
    "# cm2 = ConfusionMatrix(clf, classes=[0,1], cmap='GnBu')\n",
    "# cm2.fit(X_train, y_train)\n",
    "# cm2.score(X_test, y_test)\n",
    "# cm2.poof()\n",
    "\n",
    "# crpt = ClassificationReport(clf, classes=[0,1], cmap='GnBu')\n",
    "# crpt.fit(X_train, y_train)\n",
    "# crpt.score(X_test, y_test)\n",
    "# crpt.poof()"
   ]
  },
  {
   "cell_type": "code",
   "execution_count": null,
   "metadata": {},
   "outputs": [],
   "source": []
  },
  {
   "cell_type": "markdown",
   "metadata": {},
   "source": [
    "# MODELS"
   ]
  },
  {
   "cell_type": "markdown",
   "metadata": {},
   "source": [
    "#### KNN Classification"
   ]
  },
  {
   "cell_type": "code",
   "execution_count": 60,
   "metadata": {},
   "outputs": [
    {
     "name": "stdout",
     "output_type": "stream",
     "text": [
      "KNN recall is  0.47987884032886197\n",
      "KNN precision is  0.5564475664826894\n",
      "Evaluation Metric: F-score is  0.5153345724907064\n"
     ]
    }
   ],
   "source": [
    "from sklearn.neighbors import KNeighborsClassifier\n",
    "from sklearn.cross_validation import StratifiedKFold\n",
    "import numpy as np\n",
    "from sklearn import metrics as mt\n",
    "\n",
    "\n",
    "X2 = inci_X.as_matrix().astype(np.float)\n",
    "y2 = inci_Y.as_matrix().astype(np.float)\n",
    "yhat2 = np.zeros(y2.shape)\n",
    "# create variables we are more familiar with\n",
    "# yhat2 = np.zeros(y2.shape) # we will fill this with predictions\n",
    "\n",
    "# create cross validation iterator\n",
    "cv = StratifiedKFold(y2, n_folds=10)\n",
    "\n",
    "# get a handle to the classifier object, which defines the type\n",
    "clf_K3 = KNeighborsClassifier(n_neighbors=3)\n",
    "\n",
    "# now iterate through and get predictions, saved to the correct row in yhat\n",
    "for train, test in cv:\n",
    "    clf_K3.fit(X2[train],y2[train])\n",
    "    yhat2[test] = clf_K3.predict(X2[test])\n",
    "\n",
    "#total_accuracy = mt.accuracy_score(y2, yhat2)\n",
    "recall = mt.recall_score(y2[test], yhat2[test])\n",
    "precision = mt.precision_score(y2[test], yhat2[test])\n",
    "fscore = mt.f1_score(y2[test], yhat2[test])\n",
    "#print('KNN accuracy is ', total_accuracy)\n",
    "print('KNN recall is ', recall)\n",
    "print('KNN precision is ', precision)\n",
    "\n",
    "fscore = mt.f1_score(y2[test], yhat2[test])\n",
    "print('Evaluation Metric: F-score is ', fscore)"
   ]
  },
  {
   "cell_type": "code",
   "execution_count": null,
   "metadata": {},
   "outputs": [],
   "source": []
  },
  {
   "cell_type": "code",
   "execution_count": 65,
   "metadata": {},
   "outputs": [],
   "source": [
    "# yhat2 = np.zeros(y2.shape) # initializing variable\n",
    "\n",
    "# for train, test in cv.split(X,y):\n",
    "#     # Use Results parameters from GridSearch to run KNN Classifier model\n",
    "#     clf_knn = KNeighborsClassifier(n_neighbors=11, weights='uniform',metric='minkowski', algorithm='auto',p=2,leaf_size=10)\n",
    "#     clf_knn.fit(X2[train],y2[train])\n",
    "#     yhat[test] = clf_knn.predict(X2[test])\n",
    "\n",
    "# total_accuracy = mt.accuracy_score(y2, yhat2)\n",
    "# #print KNN accuracy with corresponding parameter settings\n",
    "# print('KNN classifier accuracy with optimal parameters is: %.3f'%(total_accuracy))"
   ]
  },
  {
   "cell_type": "code",
   "execution_count": 64,
   "metadata": {},
   "outputs": [],
   "source": [
    "\n",
    "# from sklearn.metrics import confusion_matrix\n",
    "# import itertools\n",
    "# class_names = df['Primary'].unique()\n",
    "\n",
    "# def plot_confusion_matrix(cm, classes,\n",
    "#                           normalize=True,\n",
    "#                           title='Confusion matrix',\n",
    "#                           cmap=plt.cm.Blues):\n",
    "#     \"\"\"\n",
    "#     This function prints and plots the confusion matrix.\n",
    "#     Normalization can be applied by setting `normalize=True`.\n",
    "#     \"\"\"\n",
    "#     if normalize:\n",
    "#         cm = cm.astype('float') / cm.sum(axis=1)[:, np.newaxis]\n",
    "#         print(\"Normalized confusion matrix\")\n",
    "#     else:\n",
    "#         print('Confusion matrix, without normalization')\n",
    "\n",
    "#     #print(cm)\n",
    "\n",
    "#     plt.imshow(cm, interpolation='nearest', cmap=cmap)\n",
    "#     plt.title(title)\n",
    "#     plt.colorbar()\n",
    "#     tick_marks = np.arange(len(classes))\n",
    "#     plt.xticks(tick_marks, classes, rotation=0)\n",
    "#     plt.yticks(tick_marks, classes)\n",
    "\n",
    "#     fmt = '.2f' if normalize else 'd'\n",
    "#     thresh = cm.max() / 2.\n",
    "#     for i, j in itertools.product(range(cm.shape[0]), range(cm.shape[1])):\n",
    "#         plt.text(j, i, format(cm[i, j], fmt),\n",
    "#                  horizontalalignment=\"center\",\n",
    "#                  color=\"white\" if cm[i, j] > thresh else \"black\")\n",
    "\n",
    "#     plt.tight_layout()\n",
    "#     plt.ylabel('True Position label')\n",
    "#     plt.xlabel('Predicted Position label')\n",
    "\n",
    "# # Compute confusion matrix\n",
    "# cnf_matrix = confusion_matrix(y, yhat)\n",
    "# np.set_printoptions(precision=2)\n",
    "\n",
    "# # Plot non-normalized confusion matrix\n",
    "# #plt.figure()\n",
    "# #plot_confusion_matrix(cnf_matrix, classes=class_names,\n",
    "# #                      title='Confusion matrix, without normalization')\n",
    "\n",
    "# # Plot normalized confusion matrix\n",
    "# plt.figure()\n",
    "# plot_confusion_matrix(cnf_matrix, classes=class_names, normalize=True,\n",
    "#                       title='Normalized confusion matrix')\n",
    "\n",
    "# plt.show()"
   ]
  },
  {
   "cell_type": "code",
   "execution_count": null,
   "metadata": {},
   "outputs": [],
   "source": []
  }
 ],
 "metadata": {
  "kernelspec": {
   "display_name": "Python 3",
   "language": "python",
   "name": "python3"
  },
  "language_info": {
   "codemirror_mode": {
    "name": "ipython",
    "version": 3
   },
   "file_extension": ".py",
   "mimetype": "text/x-python",
   "name": "python",
   "nbconvert_exporter": "python",
   "pygments_lexer": "ipython3",
   "version": "3.6.5"
  }
 },
 "nbformat": 4,
 "nbformat_minor": 2
}
