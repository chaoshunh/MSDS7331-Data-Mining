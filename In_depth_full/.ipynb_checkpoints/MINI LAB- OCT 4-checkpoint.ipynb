{
 "cells": [
  {
   "cell_type": "markdown",
   "metadata": {},
   "source": [
    "<h1><center>DALLAS CRIME DATA</center></h1>\n",
    "<h2><center>MSDS 7331 Mini Project</center></h2>\n",
    "<h2><center>SVM and Logistic Regression Modeling</center></h2>\n",
    "\n",
    "<h4><center>Team Members</center></h4>\n",
    "\n",
    "           Yejur Singh Kunwar           Bin Yu               Vivek Viswanathan          Kevin Mendonsa\n",
    "              Dallas, TX               Dallas, TX               Dallas, TX                Irvine, CA"
   ]
  },
  {
   "cell_type": "markdown",
   "metadata": {},
   "source": [
    "## Introduction\n",
    "##### Data Description\n",
    "The Dallas Crime Incident data set that is used in the Mini Project acts as a bridge between the citizens of Dallas and the Dallas PD. It represents the Dallas Police Public Data - RMS Incidents from June 1, 2014 to September 7, 2018. \n",
    "For purposes of this Mini Project, the main dataframe that is trimmed based on the analysis performed as part of Lab 1. The details of the data quality clean up and choice of columns have been detailed in the Lab 1 notebook link provided below.\n",
    "\n",
    "The data set currently has 254091 rows and 45 columns.\n",
    "\n",
    "**Lab 1 Notebook Link -** https://github.com/wtubin/MSDS7331-Data-Mining/MSDS7331_Data_Mining_Lab1_Data-Viz_Pre-Processing.ipynb\n",
    "**Note -** The structure of the document will closely follow the phases of the CRISP-DM Modeling Phase.\n",
    "\n",
    "##### Objective\n",
    "\n",
    "The objective of this unit is to perform Logistic Regression and Support Vector Machines categorization on the chosen data set and optimize the parameters in order to improve the accuracy of the model. Our goal of this lab is trying to clasify the arrest taken in each incident call based on the selected features in the dataset.\n",
    "\n",
    "**GitHub Repository containing the artifacts -** https://github.com/wtubin/MSDS7331-Data-Mining\n",
    "\n",
    "**Location of the raw (compressed) data file -** https://github.com/wtubin/MSDS7331-Data-Mining/Police_Incidents.7z \n",
    "\n",
    "As part of this analysis, we are attempting to train and test our classification model 5 different ways using 3 modeling techniques. The details are provided below.\n",
    "\n",
    "The EvaluateClassifierEstimator function from Dr. Drew's NC Education project GitHub has been modified so as to output Accuracy, Precision, and Recall. We'll use these parameters to evaluate the effectiveness of our model."
   ]
  },
  {
   "cell_type": "markdown",
   "metadata": {},
   "source": [
    "# Create Models\n",
    "\n",
    "\n",
    "### Modeling Technique\n",
    "We will be exploring the following modeling techniques as part of our classification\n",
    " * Logistic Regression, using GridSearchCV, with Manual Feature reduction\n",
    " * Logistic Regression, using GridSearchCV, with Recursive Feature Elimination (RFE)\n",
    " * Support Vector Machine (SVM)\n",
    "\n",
    "### Modeling Assumptions\n",
    "For purposes of our modeling, we have performed the following transformations to ensure:\n",
    " * All features are uniformly distributed with 0 mean and unit standard deviation\n",
    " * Features are scaled to ensure that one of the features does not have more emphasis than another\n",
    " * Multi-colinearity has been removed\n",
    " * Features have been converted to categories to improve model efficiency."
   ]
  },
  {
   "cell_type": "markdown",
   "metadata": {},
   "source": [
    "### Data Preparation\n",
    "\n",
    "The dataset is loaded into the workspace as a data frame and undergoes transformation or standardization before being fed into model. The attributes with zero variance (closer) or those attributes that does not have value in predicting the respose variable are removed. For example attributes like beats, sector, Location1, etc. serves no purpose for our model. \n",
    "\n",
    "Once the unwanted attributes are removed, we're left with attributes that can contribute to our model. Since these attributes will help us classify the Response, going forward, we will refer to the Explanatory variables as Features.\n",
    "\n",
    "Then dataset is split into explanatory, referred to as inci_X (Features) and response referred to as inci_Y (response: \"Arrest_status\") for running the models.\n",
    "\n",
    "        - inci_X : Explanatory variables (Features)\n",
    "        - inci_Y : Response variable (Arrest_status)\n",
    "\n",
    "The Features are being scaled to have a mean of 0 and variance of 1 in order to imporve accuracy of the classification models. The data will then be split into 80/20 training/test set. To reduce possibility of \"overfitting\", 10-fold cross validation is being implemented. The GridSearchCV method helps the model search over specified parameters and identify the optimal parameters for model execution. Correlation scores, variance inflaion scores, variance inflation factors (VIFs) and significance will be utilized for manual determination of Features. This will help with feature reduction or feature selection for our final model. The remaining features will also be utilized in other two models: Logistic Regression using GridSearchCV with Recursive Feature Elimination (RFECU) and Support Vector Machine (SVM). The scikit-learn GridSearchCV method will be utilized to adjust model parameters.\n",
    "\n",
    "The following techniques have been used during the analysis to improve the performance and accuracy.\n",
    " - Class balancing using down sampling\n",
    " - Removing Multicolinearity by reviewing correlation matrix\n",
    " - Removing Multicolinearity by reviewing VIF\n",
    " - Scaling the features\n",
    " - 10 fold cross validation\n",
    " \n",
    "A brief description of the purpose and outcome of each of the techniques is explained as they are being applied to the data set.\n",
    "\n",
    "**Note:** As part of Lab 1, we had chosen a continous variable (Response Time) as our Response Variable. However, after viewing class videos and additional reading, the project team decided to change to response variable to Arrest Status because we'd be classifying an outcome that has a binary response."
   ]
  },
  {
   "cell_type": "code",
   "execution_count": 35,
   "metadata": {},
   "outputs": [],
   "source": [
    "# Importing necessary packages for python\n",
    "import pandas as pd\n",
    "import numpy as np\n",
    "from sklearn.model_selection import ShuffleSplit, cross_validate\n",
    "from sklearn.linear_model import LogisticRegression\n",
    "import warnings\n",
    "import matplotlib.pyplot as plt\n",
    "import plotly.tools as tls\n",
    "\n",
    "warnings.filterwarnings('ignore')\n",
    "warnings.simplefilter('ignore', DeprecationWarning)\n",
    "pd.set_option('mode.chained_assignment', None)\n",
    "\n",
    "%matplotlib inline"
   ]
  },
  {
   "cell_type": "code",
   "execution_count": 36,
   "metadata": {},
   "outputs": [],
   "source": [
    "# Importing data from Lab#1 and exploring the data, the csv file is the result dataset from Lab1\n",
    "path = \"../../Data/\" # Generic path\n",
    "incident = pd.read_csv(path + 'LAB1_completed_Dataset_clean.csv', low_memory= False)"
   ]
  },
  {
   "cell_type": "code",
   "execution_count": 37,
   "metadata": {},
   "outputs": [
    {
     "name": "stdout",
     "output_type": "stream",
     "text": [
      "(254091, 44)\n",
      "Number of null columns and their counts\n",
      "Type_Location                4856\n",
      "Reporting_Area                155\n",
      "Beat                           70\n",
      "Sector                         70\n",
      "Call_Cleared_Date_Time        165\n",
      "Call_Dispatch_Date_Time        21\n",
      "Offense_Status                557\n",
      "Victim_Condition           233793\n",
      "Family_Offense                 32\n",
      "Weapon_Used                 28804\n",
      "UCR_Offense_Name            14475\n",
      "UCR_Code                    14475\n",
      "X_Coordinate                21095\n",
      "Y_Coordinate                21095\n",
      "State                         608\n",
      "Call_Cleared                  165\n",
      "Call_Dispatch                  21\n",
      "Latitude                     9755\n",
      "Longitude                    9755\n",
      "dtype: int64\n"
     ]
    }
   ],
   "source": [
    "# Exploying the dataset\n",
    "incident['Response_time'] = incident['Response_time'].fillna(incident['Response_time'].mean()).astype(np.int)\n",
    "incident = incident[incident['Call_Received_Hour'].isnull()==False]\n",
    "incident_NullCols = incident.isnull().sum()\n",
    "incident_NullCols = incident_NullCols[incident_NullCols > 0]\n",
    "\n",
    "# Print out the data properties\n",
    "print(incident.shape)\n",
    "print('Number of null columns and their counts')\n",
    "print(incident_NullCols)"
   ]
  },
  {
   "cell_type": "markdown",
   "metadata": {},
   "source": [
    "The dataset has 254,091 rows and 45 attributes. Among these 45 attributes, there are 19 attributes have missing value."
   ]
  },
  {
   "cell_type": "code",
   "execution_count": 38,
   "metadata": {},
   "outputs": [],
   "source": [
    "# Further cleanup the dataset\n",
    "incident = incident[incident['Watch']!=0]\n",
    "incident = incident[(incident['Victim_Age']>=0) & (incident['Victim_Age']<=90)]\n",
    "incident = incident[incident['Victim_Race']!=\"Unknown\"]\n",
    "incident = incident[incident['Victim_Type']!=\"Unknown\"]\n",
    "incident= incident[incident.Number_of_offense != \"RP\"]\n",
    "\n",
    "incident = incident[incident['Victim_Gender']!=\"U\"]"
   ]
  },
  {
   "cell_type": "code",
   "execution_count": 39,
   "metadata": {},
   "outputs": [],
   "source": [
    "# Further data clean up on the feature variables\n",
    "\n",
    "incident.loc[:,'UCR_Offense_Name'] = incident['UCR_Offense_Name'].fillna(\"MISSING\")\n",
    "\n",
    "# Setup the UCR Offense Name Groups\n",
    "THEFT_FRAUD     = dict.fromkeys(['THEFT/BMV', 'THEFT ORG RETAIL', 'BURGLARY-RESIDENCE', 'OTHER THEFTS',\n",
    "                                 'ROBBERY-INDIVIDUAL','THEFT/SHOPLIFT', 'BURGLARY-BUSINESS', 'FORGE & COUNTERFEIT', \n",
    "                                 'FRAUD', 'EMBEZZLEMENT','ROBBERY-BUSINESS','THEFT ORG RETAIL'],\"THEFT_FRAUD\" ) \n",
    "MVA_TRAFFIC      =dict.fromkeys(['ACCIDENT MV', 'MOTOR VEHICLE ACCIDENT', 'UUMV', 'TRAFFIC VIOLATION',\n",
    "                                 'TRAFFIC FATALITY'],\"MVA_TRAFFIC\" )        \n",
    "WEAPONS_FIREARMS =dict.fromkeys(['WEAPONS', 'ARSON', 'INJURED FIREARM'], \"WEAPONS_FIREARMS\")         \n",
    "ASSUALT          = dict.fromkeys(['ASSAULT','VANDALISM & CRIM MISCHIEF', 'AGG ASSAULT - NFV', 'OFFENSE AGAINST CHILD',\n",
    "                                  'AGG ASSAULT - FV'], \"ASSUALT\")\n",
    "OTHERS_THREATS   = dict.fromkeys(['FOUND', 'OTHERS', 'LOST', 'CRIMINAL TRESPASS', 'DISORDERLY CONDUCT', \n",
    "                                  'ANIMAL BITE','INJURED HOME','INJURED PUBLIC', 'TERRORISTIC THREAT', \n",
    "                                  'EVADING', 'INJURED OCCUPA', 'ORANIZED CRIME', 'KIDNAPPING', \n",
    "                                  'RESIST ARREST','FAIL TO ID', 'HUMAN TRAFFICKING', 'MISSING'], \"OTHERS_THREATS\")\n",
    "INTOXICATION     = dict.fromkeys(['DRUNK & DISORDERLY', 'DWI', 'NARCOTICS & DRUGS', 'LIQUOR OFFENSE', \n",
    "                                  'INTOXICATION MANSLAUGHTER'],\"INTOXICATION\")\n",
    "MURDER_DEATH     = dict.fromkeys(['SUDDEN DEATH&FOUND BODIES','MURDER'], \"MURDER_DEATH\")\n",
    "                    \n",
    "# Regroup the UCR_Offense_Name\n",
    "incident.loc[:,'UCR_Offense_Name']= incident['UCR_Offense_Name'].replace(THEFT_FRAUD)\n",
    "incident.loc[:,'UCR_Offense_Name']= incident['UCR_Offense_Name'].replace(MVA_TRAFFIC)\n",
    "incident.loc[:,'UCR_Offense_Name']= incident['UCR_Offense_Name'].replace(WEAPONS_FIREARMS)\n",
    "incident.loc[:,'UCR_Offense_Name']= incident['UCR_Offense_Name'].replace(ASSUALT)\n",
    "incident.loc[:,'UCR_Offense_Name']= incident['UCR_Offense_Name'].replace(OTHERS_THREATS)\n",
    "incident.loc[:,'UCR_Offense_Name']= incident['UCR_Offense_Name'].replace(INTOXICATION)\n",
    "incident.loc[:,'UCR_Offense_Name']= incident['UCR_Offense_Name'].replace(MURDER_DEATH)"
   ]
  },
  {
   "cell_type": "code",
   "execution_count": 40,
   "metadata": {},
   "outputs": [],
   "source": [
    "# Change norminal attributes to numeric\n",
    "incident.loc[:,'IsMale'] = incident.Victim_Gender=='M' \n",
    "incident.IsMale = incident.IsMale.astype(np.int)\n",
    "incident.loc[:,'Social_crime_score'] = incident['Hate_Crime']+incident['Gang_Related_Offense']+incident['Drug_Related']\n",
    "incident.loc[:,'Victim_Age'] = incident['Victim_Age'].astype(np.int)\n",
    "incident.loc[:,'Number_of_offense']= incident.Number_of_offense.astype(np.int)\n",
    "# coding\n",
    "incident['UCR_Offense_Name'] = pd.Categorical(incident['UCR_Offense_Name']).codes\n",
    "incident['Day1_of_the_Week'] = pd.Categorical(incident['Day1_of_the_Week']).codes\n",
    "incident['Division'] = pd.Categorical(incident['Division']).codes\n",
    "incident['Victim_Type'] = pd.Categorical(incident['Victim_Type']).codes\n",
    "incident['Victim_Race'] = pd.Categorical(incident['Victim_Race']).codes"
   ]
  },
  {
   "cell_type": "code",
   "execution_count": 43,
   "metadata": {},
   "outputs": [
    {
     "data": {
      "text/plain": [
       "Index(['Year_of_Incident', 'Service_Number_ID', 'Watch', 'Type_of_Incident',\n",
       "       'Type_Location', 'Reporting_Area', 'Beat', 'Division', 'Sector',\n",
       "       'Council_District', 'Day1_of_the_Week', 'Call_Received_Date_Time',\n",
       "       'Call_Cleared_Date_Time', 'Call_Dispatch_Date_Time',\n",
       "       'Person_Involvement_Type', 'Victim_Type', 'Victim_Race',\n",
       "       'Victim_Gender', 'Victim_Age', 'Offense_Status', 'Victim_Condition',\n",
       "       'Hate_Crime', 'Family_Offense', 'Weapon_Used', 'Gang_Related_Offense',\n",
       "       'Drug_Related', 'UCR_Offense_Name', 'RMS_Code', 'UCR_Code',\n",
       "       'X_Coordinate', 'Y_Coordinate', 'Zip_Code', 'City', 'State',\n",
       "       'Location1', 'Call_Received', 'Call_Cleared', 'Call_Dispatch',\n",
       "       'Number_of_offense', 'Response_time', 'Latitude', 'Longitude',\n",
       "       'Arrest_status', 'Call_Received_Hour', 'IsMale', 'Social_crime_score'],\n",
       "      dtype='object')"
      ]
     },
     "execution_count": 43,
     "metadata": {},
     "output_type": "execute_result"
    }
   ],
   "source": [
    "incident.columns"
   ]
  },
  {
   "cell_type": "code",
   "execution_count": 44,
   "metadata": {},
   "outputs": [],
   "source": [
    "incident = incident.drop(['Year_of_Incident', 'Service_Number_ID', 'Type_of_Incident','Type_Location', \n",
    "                          'Reporting_Area', 'Beat', 'Sector','Council_District','Call_Received_Date_Time',\n",
    "                          'Call_Cleared_Date_Time', 'Call_Dispatch_Date_Time','Person_Involvement_Type', \n",
    "                          'Victim_Gender', 'Offense_Status', 'Victim_Condition','Family_Offense', 'Weapon_Used', \n",
    "                          'RMS_Code', 'UCR_Code','X_Coordinate', 'Y_Coordinate', 'Zip_Code', 'City', 'State',\n",
    "                          'Location1', 'Call_Received', 'Call_Cleared', 'Call_Dispatch','Latitude', 'Longitude'],axis=1)"
   ]
  },
  {
   "cell_type": "code",
   "execution_count": 45,
   "metadata": {},
   "outputs": [
    {
     "data": {
      "text/html": [
       "<div>\n",
       "<style scoped>\n",
       "    .dataframe tbody tr th:only-of-type {\n",
       "        vertical-align: middle;\n",
       "    }\n",
       "\n",
       "    .dataframe tbody tr th {\n",
       "        vertical-align: top;\n",
       "    }\n",
       "\n",
       "    .dataframe thead th {\n",
       "        text-align: right;\n",
       "    }\n",
       "</style>\n",
       "<table border=\"1\" class=\"dataframe\">\n",
       "  <thead>\n",
       "    <tr style=\"text-align: right;\">\n",
       "      <th></th>\n",
       "      <th>Watch</th>\n",
       "      <th>Division</th>\n",
       "      <th>Day1_of_the_Week</th>\n",
       "      <th>Victim_Type</th>\n",
       "      <th>Victim_Race</th>\n",
       "      <th>Victim_Age</th>\n",
       "      <th>Hate_Crime</th>\n",
       "      <th>Gang_Related_Offense</th>\n",
       "      <th>Drug_Related</th>\n",
       "      <th>UCR_Offense_Name</th>\n",
       "      <th>Number_of_offense</th>\n",
       "      <th>Response_time</th>\n",
       "      <th>Arrest_status</th>\n",
       "      <th>Call_Received_Hour</th>\n",
       "      <th>IsMale</th>\n",
       "      <th>Social_crime_score</th>\n",
       "    </tr>\n",
       "  </thead>\n",
       "  <tbody>\n",
       "    <tr>\n",
       "      <th>131318</th>\n",
       "      <td>2</td>\n",
       "      <td>4</td>\n",
       "      <td>1</td>\n",
       "      <td>2</td>\n",
       "      <td>2</td>\n",
       "      <td>22</td>\n",
       "      <td>0</td>\n",
       "      <td>0</td>\n",
       "      <td>0</td>\n",
       "      <td>0</td>\n",
       "      <td>1</td>\n",
       "      <td>76</td>\n",
       "      <td>0</td>\n",
       "      <td>16.0</td>\n",
       "      <td>0</td>\n",
       "      <td>0</td>\n",
       "    </tr>\n",
       "    <tr>\n",
       "      <th>135103</th>\n",
       "      <td>1</td>\n",
       "      <td>1</td>\n",
       "      <td>1</td>\n",
       "      <td>2</td>\n",
       "      <td>6</td>\n",
       "      <td>25</td>\n",
       "      <td>0</td>\n",
       "      <td>0</td>\n",
       "      <td>0</td>\n",
       "      <td>0</td>\n",
       "      <td>1</td>\n",
       "      <td>3</td>\n",
       "      <td>0</td>\n",
       "      <td>9.0</td>\n",
       "      <td>0</td>\n",
       "      <td>0</td>\n",
       "    </tr>\n",
       "  </tbody>\n",
       "</table>\n",
       "</div>"
      ],
      "text/plain": [
       "        Watch  Division  Day1_of_the_Week  Victim_Type  Victim_Race  \\\n",
       "131318      2         4                 1            2            2   \n",
       "135103      1         1                 1            2            6   \n",
       "\n",
       "        Victim_Age  Hate_Crime  Gang_Related_Offense  Drug_Related  \\\n",
       "131318          22           0                     0             0   \n",
       "135103          25           0                     0             0   \n",
       "\n",
       "        UCR_Offense_Name  Number_of_offense  Response_time  Arrest_status  \\\n",
       "131318                 0                  1             76              0   \n",
       "135103                 0                  1              3              0   \n",
       "\n",
       "        Call_Received_Hour  IsMale  Social_crime_score  \n",
       "131318                16.0       0                   0  \n",
       "135103                 9.0       0                   0  "
      ]
     },
     "execution_count": 45,
     "metadata": {},
     "output_type": "execute_result"
    }
   ],
   "source": [
    "incident.sample(2)"
   ]
  },
  {
   "cell_type": "markdown",
   "metadata": {},
   "source": [
    "### Response Variable Analysis\n",
    "\n",
    "As part of this analysis, we look at the distinct values and distribution of the response variable. "
   ]
  },
  {
   "cell_type": "code",
   "execution_count": 46,
   "metadata": {},
   "outputs": [
    {
     "name": "stdout",
     "output_type": "stream",
     "text": [
      "Class 0: 202337\n",
      "Class 1: 23115\n",
      "Proportion: 8.75 : 1\n"
     ]
    },
    {
     "data": {
      "text/plain": [
       "<Figure size 576x360 with 0 Axes>"
      ]
     },
     "metadata": {},
     "output_type": "display_data"
    },
    {
     "data": {
      "image/png": "[encoded data removed]",
      "text/plain": [
       "<Figure size 720x432 with 1 Axes>"
      ]
     },
     "metadata": {},
     "output_type": "display_data"
    }
   ],
   "source": [
    "# Explore response variable distribution\n",
    "plt.figure(figsize=(8,5))\n",
    "target_count = incident.Arrest_status.value_counts()\n",
    "print('Class 0:', target_count[0])\n",
    "print('Class 1:', target_count[1])\n",
    "print('Proportion:', round(target_count[0] / target_count[1], 2), ': 1')\n",
    "\n",
    "# Draw bar plot\n",
    "\n",
    "# data to plot\n",
    "n_groups = 1\n",
    "NoArrest=incident.Arrest_status.value_counts()[0]\n",
    "Arrest=incident.Arrest_status.value_counts()[1]\n",
    " \n",
    "# create plot\n",
    "index = np.arange(n_groups)\n",
    "bar_width = 0.5\n",
    "opacity = 0.8\n",
    "plt.figure(figsize=(10,6))\n",
    "plt.bar(index, NoArrest, bar_width,\n",
    "                 alpha=opacity,\n",
    "                 color='g',\n",
    "                 label='No Arrest')\n",
    " \n",
    "plt.bar(index + bar_width, Arrest, bar_width,\n",
    "                 alpha=opacity,\n",
    "                 color='r',\n",
    "                 label='Arrest')\n",
    " \n",
    "plt.xlabel('Arrest Status')\n",
    "plt.ylabel('Number of Incident')\n",
    "plt.title('Dallas City Police Incident Vs. Arrest Status Before Resampling')\n",
    "plt.xlim(-0.8, 2)\n",
    "plt.xticks(index + bar_width/2, (''))\n",
    "plt.legend()\n",
    " \n",
    "plt.show()"
   ]
  },
  {
   "cell_type": "markdown",
   "metadata": {},
   "source": [
    "### Resampling (Downsampling) the data set\n",
    "\n",
    "Based on the above analysis, we have almost 10 times the number of samples for perpetrator not being arrested compared to where an arrest is made. \n",
    "\n",
    "In an imbalanced class, we cannot reliably use accuracy to measure performance. This makes training the model very tricky. The model may predict the majority class better and sometimes ignore the minority class completely. There are 2 ways to blanace the data set: downsampling and upsampling. We selected the downsampling as we have a big dataset. It will run long time in SVM if we choose upsampling method.\n",
    "\n",
    "We perform down-sample by \n",
    "1. Separating observations based on class\n",
    "2. Resample the majority class without replacement after setting the number of samples to match the minorit class count\n",
    "3. Combine the down-sampled majority class and the original minority class\n",
    "\n",
    "Finally, we plot the distribution of distinct classes of the response variable to check that it is balanced before proceeding with further analysis.\n",
    "\n",
    "Source: https://elitedatascience.com/imbalanced-classes"
   ]
  },
  {
   "cell_type": "code",
   "execution_count": 47,
   "metadata": {},
   "outputs": [
    {
     "data": {
      "text/plain": [
       "1    23115\n",
       "0    23115\n",
       "Name: Arrest_status, dtype: int64"
      ]
     },
     "execution_count": 47,
     "metadata": {},
     "output_type": "execute_result"
    }
   ],
   "source": [
    "# Import resample package\n",
    "from sklearn.utils import resample\n",
    "\n",
    "# Downsampling\n",
    "df_majority = incident[incident.Arrest_status==0]\n",
    "df_minority = incident[incident.Arrest_status==1]\n",
    " \n",
    "# Downsample majority class\n",
    "df_majority_downsampled = resample(df_majority, \n",
    "                                 replace=False,    # sample without replacement\n",
    "                                 n_samples=23115,     # to match minority class\n",
    "                                 random_state=123) # reproducible results\n",
    " \n",
    "# Combine minority class with downsampled majority class\n",
    "df_downsampled = pd.concat([df_majority_downsampled, df_minority])\n",
    " \n",
    "# Display new class counts\n",
    "df_downsampled.Arrest_status.value_counts()"
   ]
  },
  {
   "cell_type": "code",
   "execution_count": 48,
   "metadata": {},
   "outputs": [
    {
     "data": {
      "image/png": "[encoded data removed]",
      "text/plain": [
       "<Figure size 720x432 with 1 Axes>"
      ]
     },
     "metadata": {},
     "output_type": "display_data"
    }
   ],
   "source": [
    "n_groups = 1\n",
    "NoArrest=df_downsampled.Arrest_status.value_counts()[0]\n",
    "Arrest=df_downsampled.Arrest_status.value_counts()[1]\n",
    " \n",
    "# create plot\n",
    "#ax = plt.subplots()\n",
    "index = np.arange(n_groups)\n",
    "bar_width = 0.5\n",
    "opacity = 0.8\n",
    "plt.figure(figsize=(10,6))\n",
    "plt.bar(index, NoArrest, bar_width,\n",
    "                 alpha=opacity,\n",
    "                 color='g',\n",
    "                 label='No Arrest')\n",
    " \n",
    "plt.bar(index + bar_width, Arrest, bar_width,\n",
    "                 alpha=opacity,\n",
    "                 color='r',\n",
    "                 label='Arrest')\n",
    " \n",
    "plt.xlabel('Arrest Status')\n",
    "plt.ylabel('Number of Incident')\n",
    "plt.title('Dallas City Police Incident Vs. Arrest Status After Resampling')\n",
    "plt.xlim(-0.8, 2)\n",
    "plt.xticks(index + bar_width/2, (''))\n",
    "plt.legend()\n",
    " \n",
    "#plt.tight_layout()\n",
    "plt.show()\n"
   ]
  },
  {
   "cell_type": "markdown",
   "metadata": {},
   "source": [
    " After downsampling, class 0 (No Arrest) has the same size as the classe 1 (Arrest). "
   ]
  },
  {
   "cell_type": "code",
   "execution_count": 49,
   "metadata": {},
   "outputs": [],
   "source": [
    "# copy the down sampling dataset to original incident data frame and continue the anl\n",
    "incident= df_downsampled.copy()"
   ]
  },
  {
   "cell_type": "markdown",
   "metadata": {},
   "source": [
    "### Colinearity\n",
    "\n",
    "During Lab 1 data exploration, the team identified the attributes in the original dataset to have multicollinearity. In other words, one predictor variable in the regression model can be linearly predicted from the others with a substantial degree of accuracy.\n",
    "\n",
    "During this Mini Lab exercise, some additional collinearity was introduced because:\n",
    " * Continous Variables were converted to Categorical variables (e.g.: Response Time & Victim Age are converted to Categorical)\n",
    " * Derived Features based on (or a combination of) values of existing features (e.g.: Social Crime Score)\n",
    " * Identical features where one was a roll up of the other (e.g.: Watch & Call Received Hour)\n",
    " \n",
    "Based on the analysis of Correlation Matrix, we would be dropping one of the columns from the pair that are highly correlated."
   ]
  },
  {
   "cell_type": "code",
   "execution_count": 51,
   "metadata": {},
   "outputs": [
    {
     "name": "stdout",
     "output_type": "stream",
     "text": [
      "Social_crime_score  Drug_Related            0.842685\n",
      "Call_Received_Hour  Watch                   0.712316\n",
      "Social_crime_score  Gang_Related_Offense    0.562247\n",
      "                    Hate_Crime              0.152233\n",
      "Victim_Race         UCR_Offense_Name        0.131186\n",
      "                                              ...   \n",
      "Arrest_status       Victim_Race            -0.071456\n",
      "UCR_Offense_Name    Watch                  -0.103933\n",
      "Response_time       Arrest_status          -0.174816\n",
      "Victim_Race         Division               -0.286416\n",
      "UCR_Offense_Name    Arrest_status          -0.310592\n",
      "Length: 120, dtype: float64\n"
     ]
    }
   ],
   "source": [
    "#Create correlation matrix\n",
    "CorrMat = incident.corr()\n",
    "\n",
    "# Highest Correlation Pairs\n",
    "corrPairs = CorrMat.unstack().sort_values(kind=\"quicksort\", ascending=False)\n",
    "#- REMOVE DUPLICATES\n",
    "corrPairs = corrPairs[::2]\n",
    "corrPairs = corrPairs[corrPairs.index.get_level_values(0) != corrPairs.index.get_level_values(1)]\n",
    "with pd.option_context('display.max_rows',10):\n",
    "    print(corrPairs)"
   ]
  },
  {
   "cell_type": "code",
   "execution_count": 52,
   "metadata": {},
   "outputs": [
    {
     "name": "stdout",
     "output_type": "stream",
     "text": [
      "Victim_Race         UCR_Offense_Name     0.131186\n",
      "Social_crime_score  Number_of_offense    0.110633\n",
      "Victim_Race         Victim_Age           0.106044\n",
      "Number_of_offense   Arrest_status        0.081587\n",
      "UCR_Offense_Name    Response_time        0.072490\n",
      "                                           ...   \n",
      "Arrest_status       Victim_Age          -0.067700\n",
      "Victim_Race         Arrest_status       -0.071456\n",
      "Arrest_status       Response_time       -0.174816\n",
      "Division            Victim_Race         -0.286416\n",
      "Arrest_status       UCR_Offense_Name    -0.310592\n",
      "Length: 66, dtype: float64\n"
     ]
    }
   ],
   "source": [
    "\n",
    "#Drop highly correlated, insignificant and high VIF columns.\n",
    "incident = incident.drop(['Drug_Related','Watch','Gang_Related_Offense','Hate_Crime'], axis=1)\n",
    "\n",
    "#Create correlation matrix\n",
    "CorrMat = incident.corr()\n",
    "\n",
    "# Highest Correlation Pairs\n",
    "corrPairs = CorrMat.unstack().sort_values(kind=\"quicksort\", ascending=False)\n",
    "#- REMOVE DUPLICATES\n",
    "corrPairs = corrPairs[::2]\n",
    "corrPairs = corrPairs[corrPairs.index.get_level_values(0) != corrPairs.index.get_level_values(1)]\n",
    "with pd.option_context('display.max_rows',10):\n",
    "    print(corrPairs)"
   ]
  },
  {
   "cell_type": "code",
   "execution_count": 53,
   "metadata": {},
   "outputs": [],
   "source": [
    "# Y Response variable dataframe\n",
    "inci_Y = incident['Arrest_status']\n",
    "\n",
    "# Features with no predictive features with respect to resposne variable\n",
    "incident = incident.drop(['Arrest_status'],axis=1)\n"
   ]
  },
  {
   "cell_type": "code",
   "execution_count": 56,
   "metadata": {},
   "outputs": [
    {
     "name": "stdout",
     "output_type": "stream",
     "text": [
      "<class 'pandas.core.frame.DataFrame'>\n",
      "Int64Index: 46230 entries, 72724 to 255143\n",
      "Data columns (total 9 columns):\n",
      "Division              46230 non-null int8\n",
      "Victim_Type           46230 non-null int8\n",
      "Victim_Age            46230 non-null int32\n",
      "UCR_Offense_Name      46230 non-null int8\n",
      "Number_of_offense     46230 non-null int32\n",
      "Response_time         46230 non-null int32\n",
      "Call_Received_Hour    46230 non-null float64\n",
      "IsMale                46230 non-null int32\n",
      "Social_crime_score    46230 non-null int64\n",
      "dtypes: float64(1), int32(4), int64(1), int8(3)\n",
      "memory usage: 1.9 MB\n",
      "inci_X None\n",
      "<class 'pandas.core.frame.DataFrame'>\n",
      "Int64Index: 46230 entries, 72724 to 255143\n",
      "Data columns (total 11 columns):\n",
      "Division              46230 non-null int8\n",
      "Day1_of_the_Week      46230 non-null int8\n",
      "Victim_Type           46230 non-null int8\n",
      "Victim_Race           46230 non-null int8\n",
      "Victim_Age            46230 non-null int32\n",
      "UCR_Offense_Name      46230 non-null int8\n",
      "Number_of_offense     46230 non-null int32\n",
      "Response_time         46230 non-null int32\n",
      "Call_Received_Hour    46230 non-null float64\n",
      "IsMale                46230 non-null int32\n",
      "Social_crime_score    46230 non-null int64\n",
      "dtypes: float64(1), int32(4), int64(1), int8(5)\n",
      "memory usage: 2.0 MB\n",
      "inci_X_Rfe None\n",
      "<class 'pandas.core.frame.DataFrame'>\n",
      "Int64Index: 46230 entries, 72724 to 255143\n",
      "Data columns (total 11 columns):\n",
      "Division              46230 non-null int8\n",
      "Day1_of_the_Week      46230 non-null int8\n",
      "Victim_Type           46230 non-null int8\n",
      "Victim_Race           46230 non-null int8\n",
      "Victim_Age            46230 non-null int32\n",
      "UCR_Offense_Name      46230 non-null int8\n",
      "Number_of_offense     46230 non-null int32\n",
      "Response_time         46230 non-null int32\n",
      "Call_Received_Hour    46230 non-null float64\n",
      "IsMale                46230 non-null int32\n",
      "Social_crime_score    46230 non-null int64\n",
      "dtypes: float64(1), int32(4), int64(1), int8(5)\n",
      "memory usage: 2.0 MB\n",
      "inci_X_SVM None\n"
     ]
    }
   ],
   "source": [
    "# Create inci_X Explanatory Variables DF to support the individual models\n",
    "inci_X = incident.drop(['Day1_of_the_Week', 'Victim_Race'], axis=1)\n",
    "inci_X_Rfe = incident\n",
    "inci_X_SVM = incident\n",
    "print(\"inci_X\", inci_X.info())\n",
    "print(\"inci_X_Rfe\", inci_X_Rfe.info())\n",
    "print(\"inci_X_SVM\", inci_X_SVM.info())"
   ]
  },
  {
   "cell_type": "markdown",
   "metadata": {},
   "source": [
    "### Scale Data\n",
    "\n",
    "In order to imporve accuracy and performance of our classification model and to prevent emphasis of one feature over the other, features are scaled to have a mean of 0 and variance of 1 for all models in this mini project. "
   ]
  },
  {
   "cell_type": "code",
   "execution_count": 57,
   "metadata": {},
   "outputs": [],
   "source": [
    "from sklearn.preprocessing import StandardScaler\n",
    "\n",
    "#Scale data\n",
    "scaler = StandardScaler()\n",
    "inci_X_scaled = scaler.fit_transform(inci_X)\n",
    "inci_X_Rfe_scaled = scaler.fit_transform(inci_X_Rfe)\n",
    "inci_X_SVM_scaled = scaler.fit_transform(inci_X_SVM)\n",
    "\n",
    "#Save as data frames\n",
    "df_inci_X_scaled = pd.DataFrame(inci_X_scaled)\n",
    "df_inci_X_Rfe_scaled = pd.DataFrame(inci_X_Rfe_scaled)\n",
    "df_inci_X_SVM_scaled= pd.DataFrame(inci_X_SVM_scaled)"
   ]
  },
  {
   "cell_type": "markdown",
   "metadata": {},
   "source": [
    "### Variance Inflation Factors (VIF)\n",
    "\n",
    "Yet another way of identifying the multicollinearity is by checking the Variance Inflation Factors. When the multicollinearity exists, the standard errors and thereby the variances of the estimated coefficients are inflated. \n",
    "\n",
    "In general, a VIF values of under 10 helps create a better model. \n",
    "\n",
    "Credit: https://onlinecourses.science.psu.edu/stat501/node/347/"
   ]
  },
  {
   "cell_type": "markdown",
   "metadata": {},
   "source": [
    "Let's look at the **VIF values of the features before and after scaling function**. This provides us a better understanding of how the scaling methodology helped standardize the feature values."
   ]
  },
  {
   "cell_type": "code",
   "execution_count": 58,
   "metadata": {},
   "outputs": [
    {
     "name": "stdout",
     "output_type": "stream",
     "text": [
      "VIF Factors before Scaling\n"
     ]
    },
    {
     "data": {
      "text/html": [
       "<div>\n",
       "<style scoped>\n",
       "    .dataframe tbody tr th:only-of-type {\n",
       "        vertical-align: middle;\n",
       "    }\n",
       "\n",
       "    .dataframe tbody tr th {\n",
       "        vertical-align: top;\n",
       "    }\n",
       "\n",
       "    .dataframe thead th {\n",
       "        text-align: right;\n",
       "    }\n",
       "</style>\n",
       "<table border=\"1\" class=\"dataframe\">\n",
       "  <thead>\n",
       "    <tr style=\"text-align: right;\">\n",
       "      <th></th>\n",
       "      <th>VIF Factor</th>\n",
       "      <th>features</th>\n",
       "    </tr>\n",
       "  </thead>\n",
       "  <tbody>\n",
       "    <tr>\n",
       "      <th>0</th>\n",
       "      <td>3.514799</td>\n",
       "      <td>Division</td>\n",
       "    </tr>\n",
       "    <tr>\n",
       "      <th>1</th>\n",
       "      <td>21.557199</td>\n",
       "      <td>Victim_Type</td>\n",
       "    </tr>\n",
       "    <tr>\n",
       "      <th>2</th>\n",
       "      <td>8.373479</td>\n",
       "      <td>Victim_Age</td>\n",
       "    </tr>\n",
       "    <tr>\n",
       "      <th>3</th>\n",
       "      <td>2.403703</td>\n",
       "      <td>UCR_Offense_Name</td>\n",
       "    </tr>\n",
       "    <tr>\n",
       "      <th>4</th>\n",
       "      <td>5.082847</td>\n",
       "      <td>Number_of_offense</td>\n",
       "    </tr>\n",
       "    <tr>\n",
       "      <th>5</th>\n",
       "      <td>1.595905</td>\n",
       "      <td>Response_time</td>\n",
       "    </tr>\n",
       "    <tr>\n",
       "      <th>6</th>\n",
       "      <td>5.007074</td>\n",
       "      <td>Call_Received_Hour</td>\n",
       "    </tr>\n",
       "    <tr>\n",
       "      <th>7</th>\n",
       "      <td>2.179728</td>\n",
       "      <td>IsMale</td>\n",
       "    </tr>\n",
       "    <tr>\n",
       "      <th>8</th>\n",
       "      <td>1.038644</td>\n",
       "      <td>Social_crime_score</td>\n",
       "    </tr>\n",
       "  </tbody>\n",
       "</table>\n",
       "</div>"
      ],
      "text/plain": [
       "   VIF Factor            features\n",
       "0    3.514799            Division\n",
       "1   21.557199         Victim_Type\n",
       "2    8.373479          Victim_Age\n",
       "3    2.403703    UCR_Offense_Name\n",
       "4    5.082847   Number_of_offense\n",
       "5    1.595905       Response_time\n",
       "6    5.007074  Call_Received_Hour\n",
       "7    2.179728              IsMale\n",
       "8    1.038644  Social_crime_score"
      ]
     },
     "execution_count": 58,
     "metadata": {},
     "output_type": "execute_result"
    }
   ],
   "source": [
    "# Credit: https://etav.github.io/\n",
    "\n",
    "from statsmodels.stats.outliers_influence import variance_inflation_factor as vif\n",
    "df2_vif = pd.DataFrame()\n",
    "df2_vif[\"VIF Factor\"] = [vif(inci_X.values, i) for i in range(inci_X.shape[1])]\n",
    "df2_vif[\"features\"] = inci_X.columns\n",
    "print(\"VIF Factors before Scaling\")\n",
    "df2_vif"
   ]
  },
  {
   "cell_type": "code",
   "execution_count": 59,
   "metadata": {},
   "outputs": [
    {
     "name": "stdout",
     "output_type": "stream",
     "text": [
      "VIF Factors after Scaling\n"
     ]
    },
    {
     "data": {
      "text/html": [
       "<div>\n",
       "<style scoped>\n",
       "    .dataframe tbody tr th:only-of-type {\n",
       "        vertical-align: middle;\n",
       "    }\n",
       "\n",
       "    .dataframe tbody tr th {\n",
       "        vertical-align: top;\n",
       "    }\n",
       "\n",
       "    .dataframe thead th {\n",
       "        text-align: right;\n",
       "    }\n",
       "</style>\n",
       "<table border=\"1\" class=\"dataframe\">\n",
       "  <thead>\n",
       "    <tr style=\"text-align: right;\">\n",
       "      <th></th>\n",
       "      <th>VIF Factor</th>\n",
       "      <th>features</th>\n",
       "    </tr>\n",
       "  </thead>\n",
       "  <tbody>\n",
       "    <tr>\n",
       "      <th>0</th>\n",
       "      <td>1.004990</td>\n",
       "      <td>Division</td>\n",
       "    </tr>\n",
       "    <tr>\n",
       "      <th>1</th>\n",
       "      <td>1.000913</td>\n",
       "      <td>Victim_Type</td>\n",
       "    </tr>\n",
       "    <tr>\n",
       "      <th>2</th>\n",
       "      <td>1.010634</td>\n",
       "      <td>Victim_Age</td>\n",
       "    </tr>\n",
       "    <tr>\n",
       "      <th>3</th>\n",
       "      <td>1.017962</td>\n",
       "      <td>UCR_Offense_Name</td>\n",
       "    </tr>\n",
       "    <tr>\n",
       "      <th>4</th>\n",
       "      <td>1.017346</td>\n",
       "      <td>Number_of_offense</td>\n",
       "    </tr>\n",
       "    <tr>\n",
       "      <th>5</th>\n",
       "      <td>1.018629</td>\n",
       "      <td>Response_time</td>\n",
       "    </tr>\n",
       "    <tr>\n",
       "      <th>6</th>\n",
       "      <td>1.009173</td>\n",
       "      <td>Call_Received_Hour</td>\n",
       "    </tr>\n",
       "    <tr>\n",
       "      <th>7</th>\n",
       "      <td>1.011711</td>\n",
       "      <td>IsMale</td>\n",
       "    </tr>\n",
       "    <tr>\n",
       "      <th>8</th>\n",
       "      <td>1.016686</td>\n",
       "      <td>Social_crime_score</td>\n",
       "    </tr>\n",
       "  </tbody>\n",
       "</table>\n",
       "</div>"
      ],
      "text/plain": [
       "   VIF Factor            features\n",
       "0    1.004990            Division\n",
       "1    1.000913         Victim_Type\n",
       "2    1.010634          Victim_Age\n",
       "3    1.017962    UCR_Offense_Name\n",
       "4    1.017346   Number_of_offense\n",
       "5    1.018629       Response_time\n",
       "6    1.009173  Call_Received_Hour\n",
       "7    1.011711              IsMale\n",
       "8    1.016686  Social_crime_score"
      ]
     },
     "execution_count": 59,
     "metadata": {},
     "output_type": "execute_result"
    }
   ],
   "source": [
    "# Credit: https://etav.github.io/\n",
    "\n",
    "from statsmodels.stats.outliers_influence import variance_inflation_factor as vif\n",
    "\n",
    "df2_vif = pd.DataFrame()\n",
    "df2_vif[\"VIF Factor\"] = [vif(df_inci_X_scaled.values, i) for i in range(df_inci_X_scaled.shape[1])]\n",
    "df2_vif[\"features\"] = inci_X.columns\n",
    "print(\"VIF Factors after Scaling\")\n",
    "df2_vif"
   ]
  },
  {
   "cell_type": "markdown",
   "metadata": {},
   "source": [
    "### Feature Significance\n",
    "\n",
    "Feature selection or data dimension reduction is a process of identifying the fewest most important features that help with predicting the outcome. A correct feature selection allows us to develop a faster and simpler prediction model.\n",
    "\n",
    "The feature significance output helps us identify the importance and the relationship between the feature and the response variable. For example, from the below table we can infer that:\n",
    " * Social Crime Score, Number of Offenses and Victim Type plays a highly positive role in an arrest being made (Positive and significant)\n",
    " * The Day1_of_week is not a significant contributor to the arrest being made (P-Value - 0.7729)\n",
    " \n",
    "The table below summarizes the feature significance of the full model."
   ]
  },
  {
   "cell_type": "code",
   "execution_count": 60,
   "metadata": {},
   "outputs": [
    {
     "name": "stdout",
     "output_type": "stream",
     "text": [
      "Optimization terminated successfully.\n",
      "         Current function value: 0.624404\n",
      "         Iterations 6\n",
      "                          Results: Logit\n",
      "===================================================================\n",
      "Model:                Logit            Pseudo R-squared: 0.099     \n",
      "Dependent Variable:   Arrest_status    AIC:              57750.3964\n",
      "Date:                 2018-10-06 13:46 BIC:              57829.0688\n",
      "No. Observations:     46230            Log-Likelihood:   -28866.   \n",
      "Df Model:             8                LL-Null:          -32044.   \n",
      "Df Residuals:         46221            LLR p-value:      0.0000    \n",
      "Converged:            1.0000           Scale:            1.0000    \n",
      "No. Iterations:       6.0000                                       \n",
      "-------------------------------------------------------------------\n",
      "                    Coef.  Std.Err.    z     P>|z|   [0.025  0.975]\n",
      "-------------------------------------------------------------------\n",
      "Division            0.0132   0.0050   2.6308 0.0085  0.0034  0.0230\n",
      "Victim_Type         0.3426   0.0249  13.7420 0.0000  0.2937  0.3914\n",
      "Victim_Age         -0.0073   0.0007 -10.2931 0.0000 -0.0086 -0.0059\n",
      "UCR_Offense_Name   -0.2887   0.0046 -63.0546 0.0000 -0.2976 -0.2797\n",
      "Number_of_offense   0.3690   0.0241  15.3122 0.0000  0.3217  0.4162\n",
      "Response_time      -0.0161   0.0005 -32.1032 0.0000 -0.0170 -0.0151\n",
      "Call_Received_Hour  0.0056   0.0015   3.6472 0.0003  0.0026  0.0087\n",
      "IsMale              0.1040   0.0201   5.1656 0.0000  0.0646  0.1435\n",
      "Social_crime_score  0.7196   0.0727   9.8985 0.0000  0.5771  0.8621\n",
      "===================================================================\n",
      "\n"
     ]
    }
   ],
   "source": [
    "# LOGISTIC REGRESSION: SUMMARY TABLE WITHOUT SCALING- FEATURE SIGNIFICANCE, CROSS VALIDATION OF FULL MODEL\n",
    "from sklearn import metrics as mt\n",
    "import statsmodels.api as sm\n",
    "logit_model = sm.Logit(inci_Y, inci_X)\n",
    "result = logit_model.fit()\n",
    "print(result.summary2())\n"
   ]
  },
  {
   "cell_type": "markdown",
   "metadata": {},
   "source": [
    "## Test Design\n",
    "\n",
    "### Cross Validation\n",
    "\n",
    "For the below model execution, we use Cross Validation to improve the model classification. We use the below settings for the cross validation module.\n",
    "\n",
    "    1. The data is divided into 80/20 train -test split.\n",
    "    2. 10 folds cross validation\n",
    "    3. Random seed with random state 0 for random test and training splits for each iteration of cross validation"
   ]
  },
  {
   "cell_type": "code",
   "execution_count": 61,
   "metadata": {},
   "outputs": [],
   "source": [
    "from sklearn.model_selection import ShuffleSplit\n",
    "# Create Cross Validation Object with 10 folds with 80/20 train - test split\n",
    "cv = ShuffleSplit(n_splits = 10, test_size=0.20, random_state=0)"
   ]
  },
  {
   "cell_type": "markdown",
   "metadata": {},
   "source": [
    "### Classifier Evaluation Functions\n",
    "\n",
    "We will be using the below Classifier Evaluation function to evaluate the performance of the model. The performance of the Classification model will be measured using:\n",
    "\n",
    " - Accuracy\n",
    " - Precision\n",
    " - Recall\n",
    "\n",
    "Functions and code customized based on Dr. Drew's NC models \n",
    "https://github.com/jakemdrew/EducationDataNC/blob/master/2016/Models/2016ComparingSegregatedHighSchoolCampuses.ipynb"
   ]
  },
  {
   "cell_type": "code",
   "execution_count": 62,
   "metadata": {},
   "outputs": [],
   "source": [
    "from sklearn.model_selection import cross_validate\n",
    "from sklearn.metrics import classification_report, confusion_matrix, accuracy_score\n",
    "\n",
    "results = []\n",
    "\n",
    "def EvaluateClassifierEstimator(classifierEstimator, X, y, cv, model):\n",
    "   \n",
    "    #Perform cross validation \n",
    "    scores = cross_validate(classifierEstimator, X, y, scoring=['accuracy','precision','recall']\n",
    "                            , cv=cv, return_train_score=True)\n",
    "\n",
    "    Accavg = scores['test_accuracy'].mean()\n",
    "    Preavg = scores['test_precision'].mean()\n",
    "    Recavg = scores['test_recall'].mean()\n",
    "\n",
    "    print_str = \"The average accuracy for all cv folds is: \\t\\t\\t {Accavg:.5}\"\n",
    "    print_str2 = \"The average precision for all cv folds is: \\t\\t\\t {Preavg:.5}\"\n",
    "    print_str3 = \"The average recall for all cv folds is: \\t\\t\\t {Recavg:.5}\"\n",
    "\n",
    "    print(print_str.format(Accavg=Accavg))\n",
    "    print(print_str2.format(Preavg=Preavg))\n",
    "    print(print_str3.format(Recavg=Recavg))\n",
    "    print('*********************************************************')\n",
    "\n",
    "    print('Cross Validation Fold Mean Error Scores')\n",
    "    scoresResults = pd.DataFrame()\n",
    "    scoresResults['Accuracy'] = scores['test_accuracy']\n",
    "    scoresResults['Precision'] = scores['test_precision']\n",
    "    scoresResults['Recall'] = scores['test_recall']\n",
    "    \n",
    "    results.append({'Model': model, 'Accuracy': Accavg, 'Precision': Preavg, 'Recall': Recavg})\n",
    "\n",
    "    return scoresResults\n",
    "\n",
    "def EvaluateClassifierEstimator2(classifierEstimator, X, y, cv):\n",
    "    \n",
    "    #Perform cross validation \n",
    "    from sklearn.model_selection import cross_val_predict\n",
    "    predictions = cross_val_predict(classifierEstimator, X, y, cv=cv)\n",
    "    \n",
    "    #model evaluation \n",
    "    from sklearn.metrics import classification_report, confusion_matrix, accuracy_score\n",
    "    \n",
    "    #pass true test set values and predictions to classification_report\n",
    "    classReport = classification_report(Y,predictions)\n",
    "    confMat = confusion_matrix(Y,predictions)\n",
    "    acc = accuracy_score(Y,predictions)\n",
    "    \n",
    "    print (classReport)\n",
    "    print (confMat)\n",
    "    print (acc)"
   ]
  },
  {
   "cell_type": "markdown",
   "metadata": {},
   "source": [
    "## Build Model"
   ]
  },
  {
   "cell_type": "markdown",
   "metadata": {},
   "source": [
    "### Logistic Regression, using GridSearchCV, with Manual Feature Reduction\n",
    "\n",
    "Logistic Regresssion is used in many fields of application in which the response variable is binary. Regression models for binary responses, therefore are used to describe probabilities as functions of explanatory variables. It explain a function (logarithm of odds) of mean or probability rather than the mean itself. The interpretations of logistic regression coefficients are made in terms of statemens about odds and odds ratios.\n",
    "\n",
    "#### Parameter Settings\n",
    "The model would be using the GridSearchCV module to test different parameters and identify the best parameters. \n",
    " * C: Inverse of Reularization Strength - Smaller value specifies stronger regularization - [0.001, 0.01, 0.1, 1, 10, 100, 1000]\n",
    " * Class Weight: Weights associated with classes. ['balanced', 'none']\n",
    " * Solver: Algorithm to use in the optimization problem - ['lbgfs'] - It can handle multinomial loss\n",
    " * max_iter: Maximum number of iterations taken for the solvers to converge\n",
    " * n_jobs: This is used to specify how many concurrent processes/threads should be used for parallelized routines.\n",
    " * verbose: Controls the verbosity to check progress; the higher, the more messages\n",
    " * scoring: The evaluation method on the test set to evaluate predictions\n",
    " * Cross Validation object:\n",
    " > * n_split: Number of re-shuffling and splitting iterations - 10\n",
    " > * test_size: Represents the proportion of the dataset to include in the test split - 0.2\n",
    " > * random_state: The seed of the pseudo random number generator to use when shuffling the data - 0"
   ]
  },
  {
   "cell_type": "code",
   "execution_count": 63,
   "metadata": {},
   "outputs": [
    {
     "name": "stdout",
     "output_type": "stream",
     "text": [
      "Fitting 10 folds for each of 28 candidates, totalling 280 fits\n"
     ]
    },
    {
     "name": "stderr",
     "output_type": "stream",
     "text": [
      "[Parallel(n_jobs=8)]: Done  34 tasks      | elapsed:   11.6s\n",
      "[Parallel(n_jobs=8)]: Done 184 tasks      | elapsed:   14.5s\n",
      "[Parallel(n_jobs=8)]: Done 280 out of 280 | elapsed:   16.3s finished\n"
     ]
    },
    {
     "name": "stdout",
     "output_type": "stream",
     "text": [
      "Wall time: 16.8 s\n"
     ]
    }
   ],
   "source": [
    "%%time\n",
    "\n",
    "#Logisitic regression 10-fold cross-validation \n",
    "from sklearn.linear_model import LogisticRegression\n",
    "regEstimator = LogisticRegression()\n",
    "\n",
    "parameters = { 'penalty':['l2']\n",
    "              ,'C': [0.001, 0.01, 0.1, 1, 10, 100, 1000]\n",
    "              ,'class_weight': ['balanced', 'none']\n",
    "              ,'solver': ['lbfgs']\n",
    "              ,'max_iter':[100,500]\n",
    "             }\n",
    "\n",
    "#Create a grid search object using the  \n",
    "from sklearn.model_selection import GridSearchCV\n",
    "regGridSearch = GridSearchCV(estimator=regEstimator\n",
    "                   , n_jobs=8 # jobs to run in parallel\n",
    "                   , verbose=1 # low verbosity\n",
    "                   , param_grid=parameters\n",
    "                   , cv=cv # KFolds = 10\n",
    "                   , scoring='accuracy')\n",
    "\n",
    "#Perform hyperparameter search to find the best combination of parameters for our data\n",
    "#regGridSearch.fit(teamX, teamY)\n",
    "regGridSearch.fit(df_inci_X_scaled, inci_Y)"
   ]
  },
  {
   "cell_type": "code",
   "execution_count": 64,
   "metadata": {},
   "outputs": [
    {
     "data": {
      "text/plain": [
       "array([[ 0.02602496, -0.0172456 , -0.10380125, -0.63999699,  0.20606522,\n",
       "        -0.34260835,  0.03586939,  0.05141883,  0.10958348]])"
      ]
     },
     "execution_count": 64,
     "metadata": {},
     "output_type": "execute_result"
    }
   ],
   "source": [
    "#Diplay the top model parameters\n",
    "regGridSearch.best_estimator_.coef_"
   ]
  },
  {
   "cell_type": "markdown",
   "metadata": {},
   "source": [
    "#### Models\n",
    "The model is executed above and the model output is listed below. The output includes Accuracy, Precision, Recall, Model features, and their corresponding weights."
   ]
  },
  {
   "cell_type": "code",
   "execution_count": 65,
   "metadata": {},
   "outputs": [
    {
     "name": "stdout",
     "output_type": "stream",
     "text": [
      "The average accuracy for all cv folds is: \t\t\t 0.66075\n",
      "The average precision for all cv folds is: \t\t\t 0.67989\n",
      "The average recall for all cv folds is: \t\t\t 0.61046\n",
      "*********************************************************\n",
      "Cross Validation Fold Mean Error Scores\n",
      "\n",
      "    Accuracy  Precision  Recall\n",
      "0    0.6630     0.6867  0.6133\n",
      "1    0.6616     0.6811  0.6142\n",
      "2    0.6609     0.6747  0.6129\n",
      "3    0.6630     0.6751  0.6137\n",
      "4    0.6582     0.6800  0.6052\n",
      "5    0.6564     0.6755  0.6057\n",
      "6    0.6626     0.6849  0.6216\n",
      "7    0.6591     0.6733  0.6075\n",
      "8    0.6607     0.6794  0.6097\n",
      "9    0.6620     0.6881  0.6010\n",
      "\n",
      "---- Logistic Regression - CV, Scaled 'Manual' Attr Elimination ----\n",
      "C : \t  0.1\n",
      "class_weight : \t  none\n",
      "max_iter : \t  100\n",
      "penalty : \t  l2\n",
      "solver : \t  lbfgs\n",
      "\n",
      "---- Attributes and their weights -----\n",
      "\n",
      "Number_of_offense  has weight of 0.20606521657154311\n",
      "Social_crime_score  has weight of 0.10958347792129841\n",
      "IsMale  has weight of 0.05141882762706277\n",
      "Call_Received_Hour  has weight of 0.03586939320939996\n",
      "Division  has weight of 0.026024958906345267\n",
      "Victim_Type  has weight of -0.01724560165276642\n",
      "Victim_Age  has weight of -0.10380124662246015\n",
      "Response_time  has weight of -0.342608347337627\n",
      "UCR_Offense_Name  has weight of -0.6399969896532242\n",
      "Wall time: 515 ms\n"
     ]
    }
   ],
   "source": [
    "%%time\n",
    "\n",
    "#Use the best parameters for our Linear Regression object\n",
    "classifierEst = regGridSearch.best_estimator_\n",
    "\n",
    "#Evaluate the regression estimator above using our pre-defined cross validation and scoring metrics.\n",
    "print(\"\\n\",round(EvaluateClassifierEstimator(classifierEst, df_inci_X_scaled, inci_Y, cv, \"manual\"),4))\n",
    "\n",
    "#Use the best parameters for our Linear Regression object\",\n",
    "ClassiferParams = regGridSearch.best_params_\n",
    "print(\"\\n---- Logistic Regression - CV, Scaled 'Manual' Attr Elimination ----\")\n",
    "for keys,values in ClassiferParams.items():\n",
    "    print(keys,\": \\t \",values)\n",
    "    \n",
    "# sort these attributes and spit them out\\n\",\n",
    "name = inci_X\n",
    "zip_vars = zip(regGridSearch.best_estimator_.coef_.T,name) # combine attributes\n",
    "zip_vars = sorted(zip_vars, reverse=True)\n",
    "\n",
    "# Print out Attributes and their weights\\n\",\n",
    "print(\"\\n---- Attributes and their weights -----\\n\")\n",
    "for coef, name in zip_vars:\n",
    "    print(name, ' has weight of', coef[0])"
   ]
  },
  {
   "cell_type": "code",
   "execution_count": 66,
   "metadata": {},
   "outputs": [
    {
     "name": "stdout",
     "output_type": "stream",
     "text": [
      "Best Estimator GridSearch Prediction\n",
      "[0 0 0 ... 1 1 1]\n",
      "[[0.54691193 0.45308807]\n",
      " [0.7987495  0.2012505 ]\n",
      " [0.65033663 0.34966337]\n",
      " ...\n",
      " [0.3721809  0.6278191 ]\n",
      " [0.40901526 0.59098474]\n",
      " [0.37969988 0.62030012]]\n"
     ]
    }
   ],
   "source": [
    "print(\"Best Estimator GridSearch Prediction\")\n",
    "print(regGridSearch.best_estimator_.predict(df_inci_X_scaled))\n",
    "print(regGridSearch.best_estimator_.predict_proba(df_inci_X_scaled))"
   ]
  },
  {
   "cell_type": "markdown",
   "metadata": {},
   "source": [
    "#### Model Description\n",
    "\n",
    "The odds of being arrested for males (IsMale=1) over the odds of getting arrested for females is 1.05 times when all other parameters are held constant."
   ]
  },
  {
   "cell_type": "markdown",
   "metadata": {},
   "source": [
    "### Logistic Regression, using GridSearchCV, with Recursive Feature Elimination\n",
    "\n",
    "#### Parameter Settings\n",
    "The model would be using the GridSearchCV module to test different parameters and identify the best parameters. \n",
    " * C: Inverse of Reularization Strength - Smaller value specifies stronger regularization - [0.001, 0.01, 0.1, 1, 10, 100, 1000]\n",
    " * Class Weight: Weights associated with classes. ['balanced', 'none']\n",
    " * Solver: Algorithm to use in the optimization problem - ['lbgfs'] - It can handle multinomial loss\n",
    " * max_iter: Maximum number of iterations taken for the solvers to converge\n",
    " * n_jobs: This is used to specify how many concurrent processes/threads should be used for parallelized routines.\n",
    " * verbose: Controls the verbosity to check progress; the higher, the more messages\n",
    " * scoring: The evaluation method on the test set to evaluate predictions\n",
    " * Cross Validation object:\n",
    " > * n_split: Number of re-shuffling and splitting iterations - 10\n",
    " > * test_size: Represents the proportion of the dataset to include in the test split - 0.2\n",
    " > * random_state: The seed of the pseudo random number generator to use when shuffling the data - 0"
   ]
  },
  {
   "cell_type": "code",
   "execution_count": 67,
   "metadata": {},
   "outputs": [
    {
     "name": "stdout",
     "output_type": "stream",
     "text": [
      "RFE CV Logistic Regression 1st Pass\n",
      "Fitting estimator with 11 features.\n",
      "Fitting estimator with 10 features.\n",
      "Fitting estimator with 9 features.\n",
      "Fitting estimator with 8 features.\n",
      "Fitting estimator with 7 features.\n",
      "Fitting estimator with 6 features.\n",
      "Fitting estimator with 5 features.\n",
      "Fitting estimator with 4 features.\n",
      "Fitting estimator with 3 features.\n",
      "Fitting estimator with 2 features.\n",
      "Fitting estimator with 11 features.\n",
      "Fitting estimator with 10 features.\n",
      "Fitting estimator with 9 features.\n",
      "Fitting estimator with 8 features.\n",
      "Fitting estimator with 7 features.\n",
      "Fitting estimator with 6 features.\n",
      "Fitting estimator with 5 features.\n",
      "Fitting estimator with 4 features.\n",
      "Fitting estimator with 3 features.\n",
      "Fitting estimator with 2 features.\n",
      "Fitting estimator with 11 features.\n",
      "Fitting estimator with 10 features.\n",
      "Fitting estimator with 9 features.\n",
      "Fitting estimator with 8 features.\n",
      "Fitting estimator with 7 features.\n",
      "Fitting estimator with 6 features.\n",
      "Fitting estimator with 5 features.\n",
      "Fitting estimator with 4 features.\n",
      "Fitting estimator with 3 features.\n",
      "Fitting estimator with 2 features.\n",
      "Fitting estimator with 11 features.\n",
      "Fitting estimator with 10 features.\n",
      "Fitting estimator with 9 features.\n",
      "Fitting estimator with 8 features.\n",
      "Fitting estimator with 7 features.\n",
      "Fitting estimator with 6 features.\n",
      "Fitting estimator with 5 features.\n",
      "Fitting estimator with 4 features.\n",
      "Fitting estimator with 3 features.\n",
      "Fitting estimator with 2 features.\n",
      "Fitting estimator with 11 features.\n",
      "Fitting estimator with 10 features.\n",
      "Fitting estimator with 9 features.\n",
      "Fitting estimator with 8 features.\n",
      "Fitting estimator with 7 features.\n",
      "Fitting estimator with 6 features.\n",
      "Fitting estimator with 5 features.\n",
      "Fitting estimator with 4 features.\n",
      "Fitting estimator with 3 features.\n",
      "Fitting estimator with 2 features.\n",
      "Fitting estimator with 11 features.\n",
      "Fitting estimator with 10 features.\n",
      "Fitting estimator with 9 features.\n",
      "Fitting estimator with 8 features.\n",
      "Fitting estimator with 7 features.\n",
      "Fitting estimator with 6 features.\n",
      "Fitting estimator with 5 features.\n",
      "Fitting estimator with 4 features.\n",
      "Fitting estimator with 3 features.\n",
      "Fitting estimator with 2 features.\n",
      "Fitting estimator with 11 features.\n",
      "Fitting estimator with 10 features.\n",
      "Fitting estimator with 9 features.\n",
      "Fitting estimator with 8 features.\n",
      "Fitting estimator with 7 features.\n",
      "Fitting estimator with 6 features.\n",
      "Fitting estimator with 5 features.\n",
      "Fitting estimator with 4 features.\n",
      "Fitting estimator with 3 features.\n",
      "Fitting estimator with 2 features.\n",
      "Fitting estimator with 11 features.\n",
      "Fitting estimator with 10 features.\n",
      "Fitting estimator with 9 features.\n",
      "Fitting estimator with 8 features.\n",
      "Fitting estimator with 7 features.\n",
      "Fitting estimator with 6 features.\n",
      "Fitting estimator with 5 features.\n",
      "Fitting estimator with 4 features.\n",
      "Fitting estimator with 3 features.\n",
      "Fitting estimator with 2 features.\n",
      "Fitting estimator with 11 features.\n",
      "Fitting estimator with 10 features.\n",
      "Fitting estimator with 9 features.\n",
      "Fitting estimator with 8 features.\n",
      "Fitting estimator with 7 features.\n",
      "Fitting estimator with 6 features.\n",
      "Fitting estimator with 5 features.\n",
      "Fitting estimator with 4 features.\n",
      "Fitting estimator with 3 features.\n",
      "Fitting estimator with 2 features.\n",
      "Fitting estimator with 11 features.\n",
      "Fitting estimator with 10 features.\n",
      "Fitting estimator with 9 features.\n",
      "Fitting estimator with 8 features.\n",
      "Fitting estimator with 7 features.\n",
      "Fitting estimator with 6 features.\n",
      "Fitting estimator with 5 features.\n",
      "Fitting estimator with 4 features.\n",
      "Fitting estimator with 3 features.\n",
      "Fitting estimator with 2 features.\n",
      "Ranking [4 3 2 1 1 1 1 1 1 1 1]\n",
      "Support [False False False  True  True  True  True  True  True  True  True]\n",
      "Number of Features: 8\n",
      "Logistic Regression Second Pass\n",
      "Wall time: 28 s\n"
     ]
    }
   ],
   "source": [
    "%%time\n",
    "\n",
    "from sklearn.pipeline import make_pipeline\n",
    "from sklearn.model_selection import GridSearchCV\n",
    "from sklearn.feature_selection import RFECV\n",
    "from sklearn.linear_model import LogisticRegression\n",
    "from sklearn.preprocessing import StandardScaler\n",
    "from sklearn.model_selection import ShuffleSplit\n",
    "\n",
    "\n",
    "print(\"RFE CV Logistic Regression 1st Pass\")\n",
    "rfecvEstimator = LogisticRegression()\n",
    "\n",
    "parameters = { 'penalty':['l2']\n",
    "              ,'C': [0.001, 0.01, 0.1, 1, 10, 100, 1000]\n",
    "              ,'class_weight': ['balanced', 'none']\n",
    "              ,'solver': ['lbfgs']\n",
    "              ,'max_iter':[100,500]\n",
    "             }\n",
    "\n",
    "#Create a grid search object using the  \n",
    "from sklearn.model_selection import GridSearchCV\n",
    "rfecvGridSearch = GridSearchCV(estimator=rfecvEstimator\n",
    "                   , n_jobs=8 # jobs to run in parallel\n",
    "                   , verbose=0 # low verbosity\n",
    "                   , param_grid=parameters\n",
    "                   , cv=cv # KFolds = 10\n",
    "                   , scoring='accuracy')\n",
    "\n",
    "#Perform hyperparameter search to find the best combination of parameters for our data using RFECV\n",
    "rfecvGridSearch.fit(df_inci_X_Rfe_scaled, inci_Y)\n",
    "\n",
    "#Use the best parameters for our RFECV Linear Regression object\n",
    "rfecvClassifierEst = rfecvGridSearch.best_estimator_\n",
    "\n",
    "#Recursive Feature Elimination\n",
    "rfecv = RFECV(estimator=rfecvClassifierEst, step=1, cv=cv, scoring='accuracy', verbose=1)\n",
    "#X_BestFeatures = rfecv.fit_transform(teamX, teamY)\n",
    "X_BestFeatures = rfecv.fit_transform(df_inci_X_Rfe_scaled, inci_Y)\n",
    "\n",
    "#Print RFECV Details\n",
    "print(\"Ranking\", rfecv.ranking_)\n",
    "print(\"Support\", rfecv.support_)\n",
    "print(\"Number of Features:\", rfecv.n_features_)\n",
    "\n",
    "print(\"Logistic Regression Second Pass\")\n",
    "#create a pipeline to scale all of the data and perform logistic regression during each grid search step.\n",
    "pipe = make_pipeline(StandardScaler(), LogisticRegression())\n",
    "\n",
    "#Define a range of hyper parameters for grid search\n",
    "parameters = { 'logisticregression__penalty':['l2']\n",
    "              ,'logisticregression__C': [0.001, 0.01, 0.1, 1, 10, 100, 1000]\n",
    "              ,'logisticregression__class_weight': ['balanced','none']\n",
    "              ,'logisticregression__random_state': [0]\n",
    "              ,'logisticregression__solver': ['lbfgs']\n",
    "              ,'logisticregression__max_iter':[100,500]\n",
    "             }\n",
    "\n",
    "#Perform the grid search using accuracy as a metric during cross validation.\n",
    "grid = GridSearchCV(pipe, parameters, cv=cv, scoring='accuracy')\n",
    "\n",
    "#Use the best features from recursive feature elimination during the grid search\n",
    "grid.fit(df_inci_X_Rfe_scaled, inci_Y)"
   ]
  },
  {
   "cell_type": "code",
   "execution_count": 68,
   "metadata": {},
   "outputs": [
    {
     "name": "stdout",
     "output_type": "stream",
     "text": [
      "The average accuracy for all cv folds is: \t\t\t 0.66085\n",
      "The average precision for all cv folds is: \t\t\t 0.67982\n",
      "The average recall for all cv folds is: \t\t\t 0.611\n",
      "*********************************************************\n",
      "Cross Validation Fold Mean Error Scores\n"
     ]
    },
    {
     "data": {
      "text/html": [
       "<div>\n",
       "<style scoped>\n",
       "    .dataframe tbody tr th:only-of-type {\n",
       "        vertical-align: middle;\n",
       "    }\n",
       "\n",
       "    .dataframe tbody tr th {\n",
       "        vertical-align: top;\n",
       "    }\n",
       "\n",
       "    .dataframe thead th {\n",
       "        text-align: right;\n",
       "    }\n",
       "</style>\n",
       "<table border=\"1\" class=\"dataframe\">\n",
       "  <thead>\n",
       "    <tr style=\"text-align: right;\">\n",
       "      <th></th>\n",
       "      <th>Accuracy</th>\n",
       "      <th>Precision</th>\n",
       "      <th>Recall</th>\n",
       "    </tr>\n",
       "  </thead>\n",
       "  <tbody>\n",
       "    <tr>\n",
       "      <th>0</th>\n",
       "      <td>0.662232</td>\n",
       "      <td>0.685646</td>\n",
       "      <td>0.613048</td>\n",
       "    </tr>\n",
       "    <tr>\n",
       "      <th>1</th>\n",
       "      <td>0.662773</td>\n",
       "      <td>0.682676</td>\n",
       "      <td>0.614805</td>\n",
       "    </tr>\n",
       "    <tr>\n",
       "      <th>2</th>\n",
       "      <td>0.662016</td>\n",
       "      <td>0.676188</td>\n",
       "      <td>0.613325</td>\n",
       "    </tr>\n",
       "    <tr>\n",
       "      <th>3</th>\n",
       "      <td>0.662232</td>\n",
       "      <td>0.673788</td>\n",
       "      <td>0.614089</td>\n",
       "    </tr>\n",
       "    <tr>\n",
       "      <th>4</th>\n",
       "      <td>0.658988</td>\n",
       "      <td>0.680318</td>\n",
       "      <td>0.607312</td>\n",
       "    </tr>\n",
       "    <tr>\n",
       "      <th>5</th>\n",
       "      <td>0.656500</td>\n",
       "      <td>0.675481</td>\n",
       "      <td>0.606126</td>\n",
       "    </tr>\n",
       "    <tr>\n",
       "      <th>6</th>\n",
       "      <td>0.662449</td>\n",
       "      <td>0.684124</td>\n",
       "      <td>0.623083</td>\n",
       "    </tr>\n",
       "    <tr>\n",
       "      <th>7</th>\n",
       "      <td>0.657906</td>\n",
       "      <td>0.671487</td>\n",
       "      <td>0.607501</td>\n",
       "    </tr>\n",
       "    <tr>\n",
       "      <th>8</th>\n",
       "      <td>0.661800</td>\n",
       "      <td>0.680462</td>\n",
       "      <td>0.611195</td>\n",
       "    </tr>\n",
       "    <tr>\n",
       "      <th>9</th>\n",
       "      <td>0.661583</td>\n",
       "      <td>0.688039</td>\n",
       "      <td>0.599484</td>\n",
       "    </tr>\n",
       "  </tbody>\n",
       "</table>\n",
       "</div>"
      ],
      "text/plain": [
       "   Accuracy  Precision    Recall\n",
       "0  0.662232   0.685646  0.613048\n",
       "1  0.662773   0.682676  0.614805\n",
       "2  0.662016   0.676188  0.613325\n",
       "3  0.662232   0.673788  0.614089\n",
       "4  0.658988   0.680318  0.607312\n",
       "5  0.656500   0.675481  0.606126\n",
       "6  0.662449   0.684124  0.623083\n",
       "7  0.657906   0.671487  0.607501\n",
       "8  0.661800   0.680462  0.611195\n",
       "9  0.661583   0.688039  0.599484"
      ]
     },
     "execution_count": 68,
     "metadata": {},
     "output_type": "execute_result"
    }
   ],
   "source": [
    "#Use the best parameters from RFE for our Logistic Regression object\n",
    "\n",
    "EvaluateClassifierEstimator(rfecvClassifierEst, df_inci_X_Rfe_scaled, inci_Y, cv, 'Rfe')"
   ]
  },
  {
   "cell_type": "markdown",
   "metadata": {},
   "source": [
    "#### Models\n",
    "The model is executed above and the model output is listed below. The output includes Accuracy, Precision, Recall, Model features, and their corresponding weights.\n",
    "\n",
    "###### Reiteration of manual feature reduction of Logistic Regression"
   ]
  },
  {
   "cell_type": "code",
   "execution_count": 69,
   "metadata": {},
   "outputs": [
    {
     "name": "stdout",
     "output_type": "stream",
     "text": [
      "[0 0 0 ... 1 1 1]\n",
      "[[0.54250805 0.45749195]\n",
      " [0.8052575  0.1947425 ]\n",
      " [0.64767684 0.35232316]\n",
      " ...\n",
      " [0.36460476 0.63539524]\n",
      " [0.40876946 0.59123054]\n",
      " [0.36749181 0.63250819]]\n",
      "The average accuracy for all cv folds is: \t\t\t 0.66085\n",
      "The average precision for all cv folds is: \t\t\t 0.67982\n",
      "The average recall for all cv folds is: \t\t\t 0.611\n",
      "*********************************************************\n",
      "Cross Validation Fold Mean Error Scores\n",
      "\n",
      "    Accuracy  Precision  Recall\n",
      "0    0.6622     0.6856  0.6130\n",
      "1    0.6628     0.6827  0.6148\n",
      "2    0.6620     0.6762  0.6133\n",
      "3    0.6622     0.6738  0.6141\n",
      "4    0.6590     0.6803  0.6073\n",
      "5    0.6565     0.6755  0.6061\n",
      "6    0.6624     0.6841  0.6231\n",
      "7    0.6579     0.6715  0.6075\n",
      "8    0.6618     0.6805  0.6112\n",
      "9    0.6616     0.6880  0.5995\n",
      "\n",
      "---- RFECV Regression - CV, Scaled ----\n",
      "C : \t  0.1\n",
      "class_weight : \t  none\n",
      "max_iter : \t  100\n",
      "penalty : \t  l2\n",
      "solver : \t  lbfgs\n",
      "\n",
      "---- Attributes and their weights -----\n",
      "\n",
      "Call_Received_Hour  has weight of 0.2064100596609839\n",
      "Social_crime_score  has weight of 0.03606739136522091\n",
      "Victim_Type  has weight of 0.012168532228534486\n",
      "Division  has weight of 0.010935054253307559\n",
      "Victim_Age  has weight of -0.017726292700605734\n",
      "UCR_Offense_Name  has weight of -0.053871134198179974\n",
      "Number_of_offense  has weight of -0.09840126140744447\n",
      "IsMale  has weight of -0.34168516346972194\n",
      "Response_time  has weight of -0.6351295059239035\n"
     ]
    }
   ],
   "source": [
    "print(grid.best_estimator_.predict(df_inci_X_Rfe_scaled))\n",
    "print(grid.best_estimator_.predict_proba(df_inci_X_Rfe_scaled))\n",
    "\n",
    "#Use the best parameters for our RFE  Regression object\n",
    "rfecvClassifierEst = rfecvGridSearch.best_estimator_\n",
    "\n",
    "#Evaluate the regression estimator above using our pre-defined cross validation and scoring metrics.\n",
    "print(\"\\n\",round(EvaluateClassifierEstimator(rfecvClassifierEst, df_inci_X_Rfe_scaled, inci_Y, cv, \"manual\"),4))\n",
    "\n",
    "#Use the best parameters for our RFECV Regression object\",\n",
    "rfecvClassiferParams = rfecvGridSearch.best_params_\n",
    "print(\"\\n---- RFECV Regression - CV, Scaled ----\")\n",
    "for keys,values in rfecvClassiferParams.items():\n",
    "    print(keys,\": \\t \",values)\n",
    "    \n",
    "# sort these attributes and spit them out\\n\",\n",
    "name = inci_X\n",
    "zip_vars = zip(rfecvGridSearch.best_estimator_.coef_.T,name) # combine attributes\n",
    "zip_vars = sorted(zip_vars, reverse=True)\n",
    "\n",
    "# Print out Attributes and their weights\\n\",\n",
    "print(\"\\n---- Attributes and their weights -----\\n\")\n",
    "for coef, name in zip_vars:\n",
    "    print(name, ' has weight of', coef[0])"
   ]
  },
  {
   "cell_type": "markdown",
   "metadata": {},
   "source": [
    "### Support Vecotor Machine (SVM)\n",
    "\n",
    "#### Parameter Settings\n",
    "The model would be using the GridSearchCV module to test different parameters and identify the best parameters. \n",
    " * C: Inverse of Reularization Strength - Smaller value specifies stronger regularization - [0.5]\n",
    " * Kernel: Specifies the kernel type to be used in the algorithm. It must be one of ‘linear’, ‘poly’, ‘rbf’, ‘sigmoid’, ‘precomputed’ - ['Linear']\n",
    " * degree: Degree of the polynomial kernel function (‘poly’). Ignored by all other kernels. Default of 3 is used.\n",
    " * gamma: Kernel coefficient for ‘rbf’, ‘poly’ and ‘sigmoid’. Default of Auto is used."
   ]
  },
  {
   "cell_type": "code",
   "execution_count": 70,
   "metadata": {},
   "outputs": [
    {
     "name": "stdout",
     "output_type": "stream",
     "text": [
      "accuracy: 0.6581008003460956\n",
      "precision: 0.681175945664568\n",
      "recall: 0.5944192083062946\n",
      "[[16684  6431]\n",
      " [ 9375 13740]]\n",
      "Wall time: 1min 36s\n"
     ]
    }
   ],
   "source": [
    "%%time\n",
    "\n",
    "#SVM model on main dataframe.\n",
    "from sklearn.svm import SVC\n",
    "from sklearn.preprocessing import StandardScaler\n",
    "from sklearn import metrics as mt\n",
    "\n",
    "\n",
    "#train the model just as before\n",
    "svm_clf = SVC(C=0.5, kernel='linear', degree=3, gamma='auto') # get object\n",
    "svm_clf.fit(df_inci_X_SVM_scaled, inci_Y)  # train object\n",
    "\n",
    "y_hat = svm_clf.predict(df_inci_X_SVM_scaled)\n",
    "\n",
    "acc = mt.accuracy_score(inci_Y,y_hat)\n",
    "conf = mt.confusion_matrix(inci_Y,y_hat)\n",
    "prec = mt.precision_score(inci_Y, y_hat)\n",
    "recall = mt.recall_score(inci_Y, y_hat)\n",
    "print('accuracy:', acc )\n",
    "print('precision:', prec)\n",
    "print('recall:', recall)\n",
    "print(conf)\n",
    "\n",
    "results.append({'Model': 'SVM', 'Accuracy': acc, 'Precision': prec, 'Recall': recall})"
   ]
  },
  {
   "cell_type": "code",
   "execution_count": 71,
   "metadata": {},
   "outputs": [
    {
     "name": "stdout",
     "output_type": "stream",
     "text": [
      "(33761, 11)\n",
      "(33761,)\n",
      "[16837 16924]\n"
     ]
    }
   ],
   "source": [
    "#look at the support vectors\n",
    "print(svm_clf.support_vectors_.shape)\n",
    "print(svm_clf.support_.shape)\n",
    "print(svm_clf.n_support_ )"
   ]
  },
  {
   "cell_type": "markdown",
   "metadata": {},
   "source": [
    "## SGD Classifier"
   ]
  },
  {
   "cell_type": "code",
   "execution_count": 79,
   "metadata": {},
   "outputs": [],
   "source": [
    "from sklearn.base import BaseEstimator, TransformerMixin\n",
    "from sklearn.preprocessing import LabelEncoder, OneHotEncoder\n",
    "\n",
    "\n",
    "class EncodeCategorical(BaseEstimator, TransformerMixin):\n",
    "    \"\"\"\n",
    "    Encodes a specified list of columns or all columns if None.\n",
    "    \"\"\"\n",
    "\n",
    "    def __init__(self, columns=None):\n",
    "        self.columns  = [col for col in columns]\n",
    "        self.encoders = None\n",
    "\n",
    "    def fit(self, data, target=None):\n",
    "        \"\"\"\n",
    "        Expects a data frame with named columns to encode.\n",
    "        \"\"\"\n",
    "        # Encode all columns if columns is None\n",
    "        if self.columns is None:\n",
    "            self.columns = data.columns\n",
    "\n",
    "        # Fit a label encoder for each column in the data frame\n",
    "        self.encoders = {\n",
    "            column: LabelEncoder().fit(data[column])\n",
    "            for column in self.columns\n",
    "        }\n",
    "        return self\n",
    "\n",
    "    def transform(self, data):\n",
    "        \"\"\"\n",
    "        Uses the encoders to transform a data frame.\n",
    "        \"\"\"\n",
    "        output = data.copy()\n",
    "        for column, encoder in self.encoders.items():\n",
    "            output[column] = encoder.transform(data[column])\n",
    "\n",
    "        return output\n",
    "    \n",
    "    \n",
    "# precision = true positives / (true positives + false positives)\n",
    "\n",
    "# recall = true positives / (false negatives + true positives)\n",
    "\n",
    "# F1 score = 2 * ((precision * recall) / (precision + recall))\n",
    "\n",
    "\n",
    "from sklearn.metrics import f1_score\n",
    "from sklearn.pipeline import Pipeline\n",
    "\n",
    "\n",
    "def model_selection(X, y, estimator):\n",
    "    \"\"\"\n",
    "    Test various estimators.\n",
    "    \"\"\"\n",
    "    y = LabelEncoder().fit_transform(y.values.ravel())\n",
    "    model = Pipeline([\n",
    "         ('label_encoding', EncodeCategorical(X.keys())),\n",
    "         ('one_hot_encoder', OneHotEncoder()),\n",
    "         ('estimator', estimator)\n",
    "    ])\n",
    "\n",
    "    # Instantiate the classification model and visualizer\n",
    "    model.fit(X, y)\n",
    "\n",
    "    expected  = y\n",
    "    predicted = model.predict(X)\n",
    "\n",
    "    # Compute and return the F1 score (the harmonic mean of precision and recall)\n",
    "    return (f1_score(expected, predicted))"
   ]
  },
  {
   "cell_type": "code",
   "execution_count": 80,
   "metadata": {},
   "outputs": [
    {
     "data": {
      "text/plain": [
       "0.6183217331634154"
      ]
     },
     "execution_count": 80,
     "metadata": {},
     "output_type": "execute_result"
    }
   ],
   "source": [
    "from sklearn.svm import LinearSVC, NuSVC, SVC\n",
    "from sklearn.neighbors import KNeighborsClassifier\n",
    "from sklearn.linear_model import LogisticRegressionCV, LogisticRegression, SGDClassifier\n",
    "from sklearn.ensemble import BaggingClassifier, ExtraTreesClassifier, RandomForestClassifier\n",
    "\n",
    "model_selection(df_inci_X_SVM_scaled, inci_Y, SGDClassifier())"
   ]
  },
  {
   "cell_type": "markdown",
   "metadata": {},
   "source": [
    "## Create Model Summary\n",
    "\n",
    "- The three models: \n",
    "    - Logistic regression with manual selection, \n",
    "    - Logistic regression with RFE selection, \n",
    "    - Support Vector Machine (SVM) \n",
    "    \n",
    "These models were executed successfully. The models were cross validated with controls. \n",
    "\n",
    "- Stochastic Gradient Descent was not utilized for the SVM model because we down-sampled and also scaled the data.\n",
    "- The SVM model executes in roughly 2 minutes and hence we did not require SGD classifiers to optimize our model.\n",
    "- The \"GridSearchCV Logistic Regression with manual variable reduction\" model and \"GridSearchCV Logistic Regression with RFE\" produced the best accuracy and overall results. The results are summarized in the table below.\n"
   ]
  },
  {
   "cell_type": "code",
   "execution_count": 81,
   "metadata": {},
   "outputs": [
    {
     "data": {
      "text/html": [
       "<div>\n",
       "<style scoped>\n",
       "    .dataframe tbody tr th:only-of-type {\n",
       "        vertical-align: middle;\n",
       "    }\n",
       "\n",
       "    .dataframe tbody tr th {\n",
       "        vertical-align: top;\n",
       "    }\n",
       "\n",
       "    .dataframe thead th {\n",
       "        text-align: right;\n",
       "    }\n",
       "</style>\n",
       "<table border=\"1\" class=\"dataframe\">\n",
       "  <thead>\n",
       "    <tr style=\"text-align: right;\">\n",
       "      <th></th>\n",
       "      <th>Model</th>\n",
       "      <th>Accuracy</th>\n",
       "      <th>Precision</th>\n",
       "      <th>Recall</th>\n",
       "    </tr>\n",
       "  </thead>\n",
       "  <tbody>\n",
       "    <tr>\n",
       "      <th>0</th>\n",
       "      <td>manual</td>\n",
       "      <td>0.660751</td>\n",
       "      <td>0.679887</td>\n",
       "      <td>0.610458</td>\n",
       "    </tr>\n",
       "    <tr>\n",
       "      <th>1</th>\n",
       "      <td>Rfe</td>\n",
       "      <td>0.660848</td>\n",
       "      <td>0.679821</td>\n",
       "      <td>0.610997</td>\n",
       "    </tr>\n",
       "    <tr>\n",
       "      <th>2</th>\n",
       "      <td>manual</td>\n",
       "      <td>0.660848</td>\n",
       "      <td>0.679821</td>\n",
       "      <td>0.610997</td>\n",
       "    </tr>\n",
       "    <tr>\n",
       "      <th>3</th>\n",
       "      <td>SVM</td>\n",
       "      <td>0.658101</td>\n",
       "      <td>0.681176</td>\n",
       "      <td>0.594419</td>\n",
       "    </tr>\n",
       "  </tbody>\n",
       "</table>\n",
       "</div>"
      ],
      "text/plain": [
       "    Model  Accuracy  Precision    Recall\n",
       "0  manual  0.660751   0.679887  0.610458\n",
       "1     Rfe  0.660848   0.679821  0.610997\n",
       "2  manual  0.660848   0.679821  0.610997\n",
       "3     SVM  0.658101   0.681176  0.594419"
      ]
     },
     "execution_count": 81,
     "metadata": {},
     "output_type": "execute_result"
    }
   ],
   "source": [
    "df_results = pd.DataFrame(results)\n",
    "df_results = df_results[['Model', 'Accuracy', 'Precision', 'Recall']]\n",
    "df_results"
   ]
  },
  {
   "cell_type": "markdown",
   "metadata": {},
   "source": [
    "## Model Advantages\n",
    "\n",
    "For classification analysis both Logistic regression and Support Vector Machines are common machine learning algorithms for creating models.\n",
    "\n",
    "- Logistic regression\n",
    "\n",
    "    - For maximizing the probability of the data, logistic regression models are generally good. The accuracy of model is acheived at its best in these type of models when data points are distictly separated far away from hyperplane.\n",
    "    - This is more probablistic model.\n",
    "    - RFE (Recursive Feature Elimination) model chooses the peformance of feature and repeats process until all attibutes are analyzed. \n",
    "\n",
    "- Support Vector Machine\n",
    "\n",
    "    - By definition, SVM models tired to score on hyperplane which maximizes the distance closest to margin or support vectors.\n",
    "    - This is deterministic model.\n",
    "    - The SVM model creates hyperplane and puts source data in these dimensional space which is different from original data and is analyzed accordingly. \n",
    "    - This method tries to learn and generalize well when building a model using a given data set. This helps SVMs perform reasonably well on a training set, but not at the expense of performance when making predictions for previously data.\n",
    "    - SVM uses a hyperplane to separate the categorical reponses. In a p-dimensional space, a hyperplane is a flat subspace of dimension p-1. \n",
    "\n",
    "\n",
    "Generally, from the results produced by our models both Logistic Regrerssion and SVM have similar accuracy. However, manual and RFE model of Logistic regression performed well in terms of precision and recall then SVM. In terms of accuracy, manual and RFE model has 66.13%, whereas SVM had 65.78% accuracy, which is with less than 0.5% of each other. \n",
    "\n",
    "In terms of precision, **True positive / (True positive + False positive)**, RFE and manual models had 67.98% precision whereas SVM performed slightly better at 68.1%. \n",
    "\n",
    "In terms of recall, **True positive / (True positive + False negative)**, RFE and manual models had a better value of 61.26% whereas value for SVM was around 59.38%. \n",
    "\n",
    "The \"GridSearchCV Logistic Regression with Manual Feature reduction\" model and \"GridSearchCV Logistic Regression with RFE\" produced the better accuracy and recall. SVM was marginally better with precision. Overall, both the models performance was comparable to each other.\n",
    "\n",
    "Upon the analysis of time and resource evaluation to optimize our models, manual variable selection technique deliberatley took more human intervention although gridsearch parameters was utilized for modeling. Retrospectively, minimal intervention was done for recursive elimination features and SVM model. For most part, for larger reasearch and business environment, this would be the most preferred method to eliminate any errors caused by human errors. Generally, for understanding the model and fine tunining purpose, manual selection of variable method would better serve in exploration phase, but recursive feature elimination and SVM would help maintain the consistency with precision of model. Conclusivley, all models help solve the classification problem, so all situation and use depends upon business requirement, time and resource availability. "
   ]
  },
  {
   "cell_type": "markdown",
   "metadata": {},
   "source": [
    "\n",
    "## Interpret Feature Importance\n",
    "\n",
    "### Logistic Regression\n",
    "In logistic models, feature weights will provide us with importance of attribute. We can compare RFE and manual models in terms of weight as both were normalized.\n",
    "\n",
    "The graphs below shows the feature weights of both types of Logistic regression which helps determine classification of our response variable i.e Arrest status. The variables were normalized in order to run the model, we can compare weights of features in both models. In manual variable selection method, UCR_Offense_Name and Response_time are two most important variable to detrermine the arrest status. This practically seems like a good classifier attribute as type of offense determines whether someone is arrested or not. Also quicker response time may indicate criminal incident reporting or any emergency situation where arrest is likely to be made. The intuitive directional weights indicates that postive weights directly impacts the arrest status like number of offenses, \"higher is most likely to lead to arrest\", and negative weights inversly impacts the arrest status like response time, \"quicker or lower is most likely to lead to arrest\".\n",
    "\n",
    "The feature importance of the variables in the RFE feature selection is slightly different due to the presence of multicolinearity. The RFE provides more stable results because it uses feature ranking with recursive feature elimination and cross-validated selection of the best number of features.\n"
   ]
  },
  {
   "cell_type": "code",
   "execution_count": 82,
   "metadata": {},
   "outputs": [],
   "source": [
    "from matplotlib import pyplot as plt\n",
    "\n",
    "def plotCoef(coef, names, t):\n",
    "    imp = coef\n",
    "    imp,names = zip(*sorted(zip(imp,names), key=lambda x: abs(x[0])))\n",
    "    plt.figure(figsize=(9,12))\n",
    "    barlist = plt.barh(range(len(names)), imp, align='center')\n",
    "    for x in np.nditer(np.where(np.asarray(list(imp)) < 0)):\n",
    "        barlist[x].set_color('r')\n",
    "    plt.yticks(range(len(names)), names)\n",
    "    plt.title(t)\n",
    "    plt.show()\n",
    "\n"
   ]
  },
  {
   "cell_type": "code",
   "execution_count": 83,
   "metadata": {},
   "outputs": [
    {
     "data": {
      "image/png": "[encoded data removed]",
      "text/plain": [
       "<Figure size 648x864 with 1 Axes>"
      ]
     },
     "metadata": {},
     "output_type": "display_data"
    },
    {
     "data": {
      "text/plain": [
       "[(-0.6399969896532242, 'UCR_Offense_Name'),\n",
       " (-0.342608347337627, 'Response_time'),\n",
       " (-0.10380124662246015, 'Victim_Age'),\n",
       " (-0.01724560165276642, 'Victim_Type'),\n",
       " (0.026024958906345267, 'Division'),\n",
       " (0.03586939320939996, 'Call_Received_Hour'),\n",
       " (0.05141882762706277, 'IsMale'),\n",
       " (0.10958347792129841, 'Social_crime_score'),\n",
       " (0.20606521657154311, 'Number_of_offense')]"
      ]
     },
     "execution_count": 83,
     "metadata": {},
     "output_type": "execute_result"
    }
   ],
   "source": [
    "plotCoef(regGridSearch.best_estimator_.coef_[0], inci_X.columns.values, \"Manual Logistic Features\")\n",
    "list(sorted(zip(regGridSearch.best_estimator_.coef_.ravel(), inci_X.columns.values)))"
   ]
  },
  {
   "cell_type": "code",
   "execution_count": 84,
   "metadata": {},
   "outputs": [
    {
     "data": {
      "image/png": "[encoded data removed]",
      "text/plain": [
       "<Figure size 648x864 with 1 Axes>"
      ]
     },
     "metadata": {},
     "output_type": "display_data"
    },
    {
     "data": {
      "text/plain": [
       "[(-0.6357403042630152, 'UCR_Offense_Name'),\n",
       " (-0.342035682836637, 'Response_time'),\n",
       " (-0.09847028899992874, 'Victim_Age'),\n",
       " (-0.053853591243530195, 'Victim_Race'),\n",
       " (-0.017736734529159373, 'Victim_Type'),\n",
       " (0.010924510060529679, 'Division'),\n",
       " (0.012205151971932022, 'Day1_of_the_Week'),\n",
       " (0.03610300601121635, 'Call_Received_Hour'),\n",
       " (0.0540398110994203, 'IsMale'),\n",
       " (0.1097155845047364, 'Social_crime_score'),\n",
       " (0.20676061195918596, 'Number_of_offense')]"
      ]
     },
     "execution_count": 84,
     "metadata": {},
     "output_type": "execute_result"
    }
   ],
   "source": [
    "plotCoef(grid.best_estimator_.named_steps['logisticregression'].coef_.ravel(), inci_X_Rfe.columns.values, \"Recursive Logistic Features\")\n",
    "list(sorted(zip(grid.best_estimator_.named_steps['logisticregression'].coef_.ravel(), inci_X_Rfe.columns.values)))"
   ]
  },
  {
   "cell_type": "markdown",
   "metadata": {},
   "source": [
    "## Interpreting Support Vectors\n",
    "\n",
    "For SVM models, the interpretation of field importance is not as straight forward. Non-linear SVM models create hyperplanes in infinite dimensional space. To accomplish this the source data used in the analysis must be mapped to a higher dimentional space and as a result is very different from the original data. Because of this it is not possible to determine feature weights like we did with the logisitc regessions above.\n",
    "\n",
    "However, we can examine individual features to investigate how SVM approaches classification problems.**** EXPLANATION"
   ]
  },
  {
   "cell_type": "code",
   "execution_count": 86,
   "metadata": {},
   "outputs": [],
   "source": [
    "# #Credit To:\n",
    "# ####http://scikit-learn.org/stable/auto_examples/svm/plot_iris.html\n",
    "# from matplotlib import pyplot as plt\n",
    "\n",
    "# #R and RA\n",
    "# pX = pd.DataFrame()\n",
    "\n",
    "# pX['a'] = inci_X_SVM['IsMale']\n",
    "# pX['b'] = inci_X_SVM['Number_of_offense']\n",
    "\n",
    "# psvc = SVC(kernel='linear', C=0.5, gamma='auto').fit(pX, inci_Y)\n",
    "\n",
    "# pXAmin = pX['a'].min() - 1\n",
    "# pXAmax = pX['a'].max() + 1\n",
    "# pXBmin = pX['b'].min() - 1\n",
    "# pXBmax = pX['b'].max() + 1\n",
    "\n",
    "# pxx, pyy = np.meshgrid(np.arange(pXAmin, pXAmax, 10), np.arange(pXBmin, pXBmax, 10))\n",
    "\n",
    "# plt.subplot(1, 1, 1)\n",
    "\n",
    "# pZ = psvc.predict(np.c_[pxx.ravel(), pyy.ravel()])\n",
    "\n",
    "# pZ = pZ.reshape(pxx.shape)\n",
    "# plt.contourf(pxx, pyy, pZ, cmap=plt.cm.Paired, alpha=0.8)\n",
    "\n",
    "# plt.scatter(pX['a'], pX['b'], c=inci_Y, cmap=plt.cm.Paired)\n",
    "# plt.xlabel('UCR_Offense_Name')\n",
    "# plt.ylabel('Number_of_offense')\n",
    "# plt.xlim(pxx.min(), pxx.max())\n",
    "# plt.title('SVM:  UCR_Offense_Name and Number_of_offense')\n",
    "# plt.show()"
   ]
  },
  {
   "cell_type": "markdown",
   "metadata": {},
   "source": [
    "# Area Under Curve- Receiver Operating Characteristics(AUC-ROC Curve) \n",
    " \n",
    "To visualize the performance of our classification problem, below are the AUC-ROC curve for  logistic regression."
   ]
  },
  {
   "cell_type": "markdown",
   "metadata": {},
   "source": [
    "### Logistic Regression AUC-ROC Curve"
   ]
  },
  {
   "cell_type": "code",
   "execution_count": 87,
   "metadata": {},
   "outputs": [],
   "source": [
    "from sklearn.model_selection import train_test_split\n",
    "\n",
    "# Extract the numpy arrays from the data frame\n",
    "X = df_inci_X_scaled.as_matrix()\n",
    "y = inci_Y.as_matrix()\n",
    "\n",
    "# Create the train and test data\n",
    "X_train, X_test, y_train, y_test = train_test_split(X, y, test_size=0.2)"
   ]
  },
  {
   "cell_type": "code",
   "execution_count": 88,
   "metadata": {},
   "outputs": [
    {
     "data": {
      "image/png": "[encoded data removed]",
      "text/plain": [
       "<Figure size 576x396 with 1 Axes>"
      ]
     },
     "metadata": {},
     "output_type": "display_data"
    }
   ],
   "source": [
    "from sklearn.linear_model import LogisticRegression\n",
    "\n",
    "from yellowbrick.classifier import ROCAUC\n",
    "\n",
    "# Instantiate the classification model and visualizer\n",
    "logistic = LogisticRegression()\n",
    "visualizer = ROCAUC(logistic)\n",
    "\n",
    "visualizer.fit(X_train, y_train)  # Fit the training data to the visualizer\n",
    "visualizer.score(X_test, y_test)  # Evaluate the model on the test data\n",
    "g = visualizer.poof()             # Draw/show/poof the data"
   ]
  },
  {
   "cell_type": "markdown",
   "metadata": {},
   "source": [
    "In the **Receiver Operating Characteristic** (ROC) curve, we plot the True Positive Rate (Sensitivity) against the False Positive Rate (Specificity) for different cut-off points. Classifiers that give curves closer to the top-left corner indicate a better performance. \n",
    "\n",
    "As we can see in the above plot, the ROC curve has a nice shape indicating that the model is better at discriminating between the positives and negatives."
   ]
  },
  {
   "cell_type": "code",
   "execution_count": 89,
   "metadata": {},
   "outputs": [
    {
     "data": {
      "image/png": "[encoded data removed]",
      "text/plain": [
       "<Figure size 576x396 with 2 Axes>"
      ]
     },
     "metadata": {},
     "output_type": "display_data"
    }
   ],
   "source": [
    "# CLASSIFICATION REPORT\n",
    "from yellowbrick.classifier import ClassificationReport\n",
    "from sklearn.linear_model import LogisticRegression\n",
    "viz = ClassificationReport(LogisticRegression())\n",
    "viz.fit(X_train, y_train)\n",
    "viz.score(X_test, y_test)\n",
    "viz.poof()"
   ]
  },
  {
   "cell_type": "markdown",
   "metadata": {},
   "source": [
    "# SVM"
   ]
  },
  {
   "cell_type": "code",
   "execution_count": 92,
   "metadata": {},
   "outputs": [],
   "source": [
    "from sklearn.datasets import make_classification\n",
    "from sklearn.model_selection import train_test_split\n",
    "\n",
    "# Create classification dataset\n",
    "X= df_inci_X_SVM_scaled\n",
    "Y = inci_Y\n",
    "\n",
    "# classes = [\"ARRESTED\", \"NOT ARRESTED\"]\n",
    "# Perform 80/20 training/test split\n",
    "X_train, X_test, y_train, y_test = train_test_split(X, Y, test_size=0.20,\n",
    "                                                    random_state=42)"
   ]
  },
  {
   "cell_type": "code",
   "execution_count": 93,
   "metadata": {},
   "outputs": [
    {
     "data": {
      "image/png": "[encoded data removed]",
      "text/plain": [
       "<Figure size 576x396 with 2 Axes>"
      ]
     },
     "metadata": {},
     "output_type": "display_data"
    }
   ],
   "source": [
    "# CLASSIFICATION REPORT\n",
    "from yellowbrick.classifier import ClassificationReport\n",
    "# from sklearn.linear_model import SVC\n",
    "from sklearn.svm import SVC\n",
    "viz = ClassificationReport(SVC())\n",
    "viz.fit(X_train, y_train)\n",
    "viz.score(X_test, y_test)\n",
    "viz.poof()"
   ]
  },
  {
   "cell_type": "code",
   "execution_count": 94,
   "metadata": {},
   "outputs": [
    {
     "data": {
      "image/png": "[encoded data removed]",
      "text/plain": [
       "<Figure size 576x396 with 1 Axes>"
      ]
     },
     "metadata": {},
     "output_type": "display_data"
    }
   ],
   "source": [
    "from sklearn.ensemble import RandomForestClassifier\n",
    "\n",
    "from yellowbrick.classifier import ClassPredictionError\n",
    "\n",
    "# Instantiate the classification model and visualizer\n",
    "visualizer = ClassPredictionError(\n",
    "    SVC(), classes=[\"NOT ARRESTED\",\"ARRESTED\"]\n",
    ")\n",
    "\n",
    "# Fit the training data to the visualizer\n",
    "visualizer.fit(X_train, y_train)\n",
    "\n",
    "# Evaluate the model on the test data\n",
    "visualizer.score(X_test, y_test)\n",
    "\n",
    "# Draw visualization\n",
    "g = visualizer.poof()"
   ]
  },
  {
   "cell_type": "code",
   "execution_count": null,
   "metadata": {},
   "outputs": [],
   "source": [
    "# from sklearn.linear_model import LogisticRegression\n",
    "# from sklearn.svm import SVC\n",
    "# from yellowbrick.classifier import ROCAUC\n",
    "\n",
    "# # Instantiate the classification model and visualizer\n",
    "# SVM_sample = SVC()\n",
    "# visualizer = ROCAUC(SVM_sample)\n",
    "\n",
    "# visualizer.fit(X_train, y_train)  # Fit the training data to the visualizer\n",
    "# visualizer.score(X_test, y_test)  # Evaluate the model on the test data\n",
    "# g = visualizer.poof()   "
   ]
  },
  {
   "cell_type": "markdown",
   "metadata": {},
   "source": [
    "###### Key References\n",
    "\n",
    "https://github.com/eclarson/DataMiningNotebooks/blob/master/04.%20Logits%20and%20SVM.ipynb https://github.com/jakemdrew/EducationDataNC/blob/master/2017/Models/2017ComparingSegregatedHighSchoolCampuses.ipynb (Logit) http://www.cs.toronto.edu/~kswersky/wp-content/uploads/svm_vs_lr.pdf"
   ]
  },
  {
   "cell_type": "markdown",
   "metadata": {},
   "source": [
    "### END OF REPORT"
   ]
  }
 ],
 "metadata": {
  "kernelspec": {
   "display_name": "Python 3",
   "language": "python",
   "name": "python3"
  },
  "language_info": {
   "codemirror_mode": {
    "name": "ipython",
    "version": 3
   },
   "file_extension": ".py",
   "mimetype": "text/x-python",
   "name": "python",
   "nbconvert_exporter": "python",
   "pygments_lexer": "ipython3",
   "version": "3.6.5"
  }
 },
 "nbformat": 4,
 "nbformat_minor": 2
}
