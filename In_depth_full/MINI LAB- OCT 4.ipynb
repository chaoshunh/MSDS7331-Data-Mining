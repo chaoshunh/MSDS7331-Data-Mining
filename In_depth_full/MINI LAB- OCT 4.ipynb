{
 "cells": [
  {
   "cell_type": "markdown",
   "metadata": {},
   "source": [
    "<h1><center>DALLAS CRIME DATA</center></h1>\n",
    "<h2><center>MSDS 7331 Mini Project</center></h2>\n",
    "<h2><center>SVM and Logistic Regression Modeling</center></h2>\n",
    "\n",
    "<h4><center>Team Members</center></h4>\n",
    "\n",
    "           Yejur Singh Kunwar           Bin Yu               Vivek Viswanathan          Kevin Mendonsa\n",
    "              Dallas, TX               Dallas, TX               Dallas, TX                Irvine, CA"
   ]
  },
  {
   "cell_type": "markdown",
   "metadata": {},
   "source": [
    "## Introduction\n",
    "##### Data Description\n",
    "The Dallas Crime Incident data set that is used in the Mini Project acts as a bridge between the citizens of Dallas and the Dallas PD. It represents the Dallas Police Public Data - RMS Incidents from June 1, 2014 to September 7, 2018. \n",
    "For purposes of this Mini Project, the main dataframe that is trimmed based on the analysis performed as part of Lab 1. The details of the data quality clean up and choice of columns have been detailed in the Lab 1 notebook link provided below.\n",
    "\n",
    "The data set currently has 254091 rows and 45 columns.\n",
    "\n",
    "**Lab 1 Notebook Link -** https://github.com/wtubin/MSDS7331-Data-Mining/MSDS7331_Data_Mining_Lab1_Data-Viz_Pre-Processing.ipynb\n",
    "**Note -** The structure of the document will closely follow the phases of the CRISP-DM Modeling Phase.\n",
    "\n",
    "##### Objective\n",
    "\n",
    "The objective of this unit is to perform Logistic Regression and Support Vector Machines categorization on the chosen data set and optimize the parameters in order to improve the accuracy of the model. Our goal of this lab is trying to clasify the arrest taken in each incident call based on the selected features in the dataset.\n",
    "\n",
    "**GitHub Repository containing the artifacts -** https://github.com/wtubin/MSDS7331-Data-Mining\n",
    "\n",
    "**Location of the raw (compressed) data file -** https://github.com/wtubin/MSDS7331-Data-Mining/Police_Incidents.7z \n",
    "\n",
    "As part of this analysis, we are attempting to train and test our classification model 5 different ways using 3 modeling techniques. The details are provided below.\n",
    "\n",
    "The EvaluateClassifierEstimator function from Dr. Drew's NC Education project GitHub has been modified so as to output Accuracy, Precision, and Recall. We'll use these parameters to evaluate the effectiveness of our model."
   ]
  },
  {
   "cell_type": "markdown",
   "metadata": {},
   "source": [
    "# Create Models\n",
    "\n",
    "\n",
    "### Modeling Technique\n",
    "We will be exploring the following modeling techniques as part of our classification\n",
    " * Logistic Regression, using GridSearchCV, with Manual Feature reduction\n",
    " * Logistic Regression, using GridSearchCV, with Recursive Feature Elimination (RFE)\n",
    " * Support Vector Machine (SVM)\n",
    "\n",
    "### Modeling Assumptions\n",
    "For purposes of our modeling, we have performed the following transformations to ensure:\n",
    " * All features are uniformly distributed with 0 mean and unit standard deviation\n",
    " * Features are scaled to ensure that one of the features does not have more emphasis than another\n",
    " * Multi-colinearity has been removed\n",
    " * Features have been converted to categories to improve model efficiency."
   ]
  },
  {
   "cell_type": "markdown",
   "metadata": {},
   "source": [
    "### Data Preparation\n",
    "\n",
    "The dataset is loaded into the workspace as a data frame and undergoes transformation or standardization before being fed into model. The attributes with zero variance (closer) or those attributes that does not have value in predicting the respose variable are removed. For example attributes like beats, sector, Location1, etc. serves no purpose for our model. \n",
    "\n",
    "Once the unwanted attributes are removed, we're left with attributes that can contribute to our model. Since these attributes will help us classify the Response, going forward, we will refer to the Explanatory variables as Features.\n",
    "\n",
    "Then dataset is split into explanatory, referred to as inci_X (Features) and response referred to as inci_Y (response: \"Arrest_status\") for running the models.\n",
    "\n",
    "        - inci_X : Explanatory variables (Features)\n",
    "        - inci_Y : Response variable (Arrest_status)\n",
    "\n",
    "The Features are being scaled to have a mean of 0 and variance of 1 in order to imporve accuracy of the classification models. The data will then be split into 80/20 training/test set. To reduce possibility of \"overfitting\", 10-fold cross validation is being implemented. The GridSearchCV method helps the model search over specified parameters and identify the optimal parameters for model execution. Correlation scores, variance inflaion scores, variance inflation factors (VIFs) and significance will be utilized for manual determination of Features. This will help with feature reduction or feature selection for our final model. The remaining features will also be utilized in other two models: Logistic Regression using GridSearchCV with Recursive Feature Elimination (RFECU) and Support Vector Machine (SVM). The scikit-learn GridSearchCV method will be utilized to adjust model parameters.\n",
    "\n",
    "The following techniques have been used during the analysis to improve the performance and accuracy.\n",
    " - Class balancing using down sampling\n",
    " - Removing Multicolinearity by reviewing correlation matrix\n",
    " - Removing Multicolinearity by reviewing VIF\n",
    " - Scaling the features\n",
    " - 10 fold cross validation\n",
    " \n",
    "A brief description of the purpose and outcome of each of the techniques is explained as they are being applied to the data set.\n",
    "\n",
    "**Note:** As part of Lab 1, we had chosen a continous variable (Response Time) as our Response Variable. However, after viewing class videos and additional reading, the project team decided to change to response variable to Arrest Status because we'd be classifying an outcome that has a binary response."
   ]
  },
  {
   "cell_type": "code",
   "execution_count": 1,
   "metadata": {},
   "outputs": [],
   "source": [
    "# Importing necessary packages for python\n",
    "import pandas as pd\n",
    "import numpy as np\n",
    "from sklearn.model_selection import ShuffleSplit, cross_validate\n",
    "from sklearn.linear_model import LogisticRegression\n",
    "import warnings\n",
    "import matplotlib.pyplot as plt\n",
    "import plotly.tools as tls\n",
    "\n",
    "warnings.filterwarnings('ignore')\n",
    "warnings.simplefilter('ignore', DeprecationWarning)\n",
    "pd.set_option('mode.chained_assignment', None)\n",
    "\n",
    "%matplotlib inline"
   ]
  },
  {
   "cell_type": "code",
   "execution_count": 2,
   "metadata": {},
   "outputs": [],
   "source": [
    "# Importing data from Lab#1 and exploring the data, the csv file is the result dataset from Lab1\n",
    "path = \"../../Data/\" # Generic path\n",
    "incident = pd.read_csv(path + 'LAB1_completed_Dataset_clean.csv', low_memory= False)"
   ]
  },
  {
   "cell_type": "code",
   "execution_count": 3,
   "metadata": {},
   "outputs": [
    {
     "name": "stdout",
     "output_type": "stream",
     "text": [
      "(254091, 45)\n",
      "Number of null columns and their counts\n",
      "Type_Location                4856\n",
      "Reporting_Area                155\n",
      "Beat                           70\n",
      "Sector                         70\n",
      "Call_Cleared_Date_Time        165\n",
      "Call_Dispatch_Date_Time        21\n",
      "Offense_Status                557\n",
      "Victim_Condition           233793\n",
      "Family_Offense                 32\n",
      "Weapon_Used                 28804\n",
      "UCR_Offense_Name            14475\n",
      "UCR_Code                    14475\n",
      "X_Coordinate                21095\n",
      "Y_Coordinate                21095\n",
      "State                         608\n",
      "Call_Cleared                  165\n",
      "Call_Dispatch                  21\n",
      "Latitude                     9755\n",
      "Longitude                    9755\n",
      "dtype: int64\n"
     ]
    }
   ],
   "source": [
    "# Exploying the dataset\n",
    "incident['Response_time'] = incident['Response_time'].fillna(incident['Response_time'].mean()).astype(np.int)\n",
    "incident = incident[incident['Call_Received_Hour'].isnull()==False]\n",
    "incident_NullCols = incident.isnull().sum()\n",
    "incident_NullCols = incident_NullCols[incident_NullCols > 0]\n",
    "\n",
    "# Print out the data properties\n",
    "print(incident.shape)\n",
    "print('Number of null columns and their counts')\n",
    "print(incident_NullCols)"
   ]
  },
  {
   "cell_type": "markdown",
   "metadata": {},
   "source": [
    "The dataset has 254,091 rows and 45 attributes. Among these 45 attributes, there are 19 attributes have missing value."
   ]
  },
  {
   "cell_type": "code",
   "execution_count": 4,
   "metadata": {},
   "outputs": [],
   "source": [
    "# Further cleanup the dataset\n",
    "incident = incident[incident['Watch']!=0]\n",
    "incident = incident[(incident['Victim_Age']>=0) & (incident['Victim_Age']<=90)]\n",
    "incident = incident[incident['Victim_Race']!=\"Unknown\"]\n",
    "incident = incident[incident['Victim_Type']!=\"Unknown\"]\n",
    "incident= incident[incident.Number_of_offense != \"RP\"]\n",
    "\n",
    "incident = incident[incident['Victim_Gender']!=\"U\"]"
   ]
  },
  {
   "cell_type": "code",
   "execution_count": 5,
   "metadata": {},
   "outputs": [],
   "source": [
    "# Further data clean up on the feature variables\n",
    "\n",
    "incident.loc[:,'UCR_Offense_Name'] = incident['UCR_Offense_Name'].fillna(\"MISSING\")\n",
    "\n",
    "# Setup the UCR Offense Name Groups\n",
    "THEFT_FRAUD     = dict.fromkeys(['THEFT/BMV', 'THEFT ORG RETAIL', 'BURGLARY-RESIDENCE', 'OTHER THEFTS',\n",
    "                                 'ROBBERY-INDIVIDUAL','THEFT/SHOPLIFT', 'BURGLARY-BUSINESS', 'FORGE & COUNTERFEIT', \n",
    "                                 'FRAUD', 'EMBEZZLEMENT','ROBBERY-BUSINESS','THEFT ORG RETAIL'],\"THEFT_FRAUD\" ) \n",
    "MVA_TRAFFIC      =dict.fromkeys(['ACCIDENT MV', 'MOTOR VEHICLE ACCIDENT', 'UUMV', 'TRAFFIC VIOLATION',\n",
    "                                 'TRAFFIC FATALITY'],\"MVA_TRAFFIC\" )        \n",
    "WEAPONS_FIREARMS =dict.fromkeys(['WEAPONS', 'ARSON', 'INJURED FIREARM'], \"WEAPONS_FIREARMS\")         \n",
    "ASSUALT          = dict.fromkeys(['ASSAULT','VANDALISM & CRIM MISCHIEF', 'AGG ASSAULT - NFV', 'OFFENSE AGAINST CHILD',\n",
    "                                  'AGG ASSAULT - FV'], \"ASSUALT\")\n",
    "OTHERS_THREATS   = dict.fromkeys(['FOUND', 'OTHERS', 'LOST', 'CRIMINAL TRESPASS', 'DISORDERLY CONDUCT', \n",
    "                                  'ANIMAL BITE','INJURED HOME','INJURED PUBLIC', 'TERRORISTIC THREAT', \n",
    "                                  'EVADING', 'INJURED OCCUPA', 'ORANIZED CRIME', 'KIDNAPPING', \n",
    "                                  'RESIST ARREST','FAIL TO ID', 'HUMAN TRAFFICKING', 'MISSING'], \"OTHERS_THREATS\")\n",
    "INTOXICATION     = dict.fromkeys(['DRUNK & DISORDERLY', 'DWI', 'NARCOTICS & DRUGS', 'LIQUOR OFFENSE', \n",
    "                                  'INTOXICATION MANSLAUGHTER'],\"INTOXICATION\")\n",
    "MURDER_DEATH     = dict.fromkeys(['SUDDEN DEATH&FOUND BODIES','MURDER'], \"MURDER_DEATH\")\n",
    "                    \n",
    "# Regroup the UCR_Offense_Name\n",
    "incident.loc[:,'UCR_Offense_Name']= incident['UCR_Offense_Name'].replace(THEFT_FRAUD)\n",
    "incident.loc[:,'UCR_Offense_Name']= incident['UCR_Offense_Name'].replace(MVA_TRAFFIC)\n",
    "incident.loc[:,'UCR_Offense_Name']= incident['UCR_Offense_Name'].replace(WEAPONS_FIREARMS)\n",
    "incident.loc[:,'UCR_Offense_Name']= incident['UCR_Offense_Name'].replace(ASSUALT)\n",
    "incident.loc[:,'UCR_Offense_Name']= incident['UCR_Offense_Name'].replace(OTHERS_THREATS)\n",
    "incident.loc[:,'UCR_Offense_Name']= incident['UCR_Offense_Name'].replace(INTOXICATION)\n",
    "incident.loc[:,'UCR_Offense_Name']= incident['UCR_Offense_Name'].replace(MURDER_DEATH)"
   ]
  },
  {
   "cell_type": "code",
   "execution_count": 6,
   "metadata": {},
   "outputs": [],
   "source": [
    "# Change norminal attributes to numeric\n",
    "incident.loc[:,'IsMale'] = incident.Victim_Gender=='M' \n",
    "incident.IsMale = incident.IsMale.astype(np.int)\n",
    "incident.loc[:,'Social_crime_score'] = incident['Hate_Crime']+incident['Gang_Related_Offense']+incident['Drug_Related']\n",
    "incident.loc[:,'Victim_Age'] = incident['Victim_Age'].astype(np.int)\n",
    "incident.loc[:,'Number_of_offense']= incident.Number_of_offense.astype(np.int)\n",
    "# coding\n",
    "incident['UCR_Offense_Name'] = pd.Categorical(incident['UCR_Offense_Name']).codes\n",
    "incident['Day1_of_the_Week'] = pd.Categorical(incident['Day1_of_the_Week']).codes\n",
    "incident['Division'] = pd.Categorical(incident['Division']).codes\n",
    "incident['Victim_Type'] = pd.Categorical(incident['Victim_Type']).codes\n",
    "incident['Victim_Race'] = pd.Categorical(incident['Victim_Race']).codes"
   ]
  },
  {
   "cell_type": "code",
   "execution_count": 7,
   "metadata": {},
   "outputs": [],
   "source": [
    "incident = incident.drop(['Year_of_Incident','Type_of_Incident','Type_Location', 'Reporting_Area', \n",
    "                          'Beat', 'Division', 'Sector', 'Council_District','Person_Involvement_Type', 'Offense_Status',\n",
    "                          'Victim_Condition', 'Weapon_Used', 'RMS_Code', 'UCR_Code', \n",
    "                          'Zip_Code', 'City', 'State','Location1', 'Call_Received', 'Call_Cleared', 'X_Coordinate', \n",
    "                          'Y_Coordinate','Call_Dispatch', \n",
    "#                           'Call_Received_Date_Time', 'Call_Cleared_Date_Time', 'Call_Dispatch_Date_Time', 'Service_Number_ID', 'Family_Offense', \n",
    "                          'Latitude', 'Longitude','Victim_Gender'],axis=1)"
   ]
  },
  {
   "cell_type": "markdown",
   "metadata": {},
   "source": [
    "### Response Variable Analysis\n",
    "\n",
    "As part of this analysis, we look at the distinct values and distribution of the response variable. "
   ]
  },
  {
   "cell_type": "code",
   "execution_count": 8,
   "metadata": {},
   "outputs": [
    {
     "name": "stdout",
     "output_type": "stream",
     "text": [
      "Class 0: 202337\n",
      "Class 1: 23115\n",
      "Proportion: 8.75 : 1\n"
     ]
    },
    {
     "data": {
      "text/plain": [
       "<Figure size 576x360 with 0 Axes>"
      ]
     },
     "metadata": {},
     "output_type": "display_data"
    },
    {
     "data": {
      "image/png": "[encoded data removed]",
      "text/plain": [
       "<Figure size 576x360 with 1 Axes>"
      ]
     },
     "metadata": {},
     "output_type": "display_data"
    }
   ],
   "source": [
    "# Explore response variable distribution\n",
    "plt.figure(figsize=(8,5))\n",
    "target_count = incident.Arrest_status.value_counts()\n",
    "print('Class 0:', target_count[0])\n",
    "print('Class 1:', target_count[1])\n",
    "print('Proportion:', round(target_count[0] / target_count[1], 2), ': 1')\n",
    "\n",
    "# Draw bar plot\n",
    "fig = plt.figure(figsize=(8,5))\n",
    "x=[1,0]\n",
    "y=incident.Arrest_status.value_counts().as_matrix()\n",
    "\n",
    "nd = np.arange(2)\n",
    "plt.xticks(nd, ('No Arrest','Arrest'))\n",
    "#plt.xlim(0.5,4.5)\n",
    "my_colors = 'grbkymc'\n",
    "\n",
    "plt.bar(nd, y, 0.5, color=my_colors)\n",
    "plt.xlim(-0.5, 2)\n",
    "plt.title(\"Dallas City Police Incident Vs. Arrest Status Before Resampling\")\n",
    "plt.ylabel('Number of Incident')\n",
    "plt.xlabel('Arrest Status')\n",
    "plt.legend(fig, labels=('No Arrest','Arrest'), loc = \"upper right\"\n",
    "           , frameon =True, bbox_to_anchor=(1, 0.5),fancybox=True, shadow=True)\n",
    "plt.show()"
   ]
  },
  {
   "cell_type": "markdown",
   "metadata": {},
   "source": [
    "### Resampling (Downsampling) the data set\n",
    "\n",
    "Based on the above analysis, we have almost 10 times the number of samples for perpetrator not being arrested compared to where an arrest is made. \n",
    "\n",
    "In an imbalanced class, we cannot reliably use accuracy to measure performance. This makes training the model very tricky. The model may predict the majority class better and sometimes ignore the minority class completely. There are 2 ways to blanace the data set: downsampling and upsampling. We selected the downsampling as we have a big dataset. It will run long time in SVM if we choose upsampling method.\n",
    "\n",
    "We perform down-sample by \n",
    "1. Separating observations based on class\n",
    "2. Resample the majority class without replacement after setting the number of samples to match the minorit class count\n",
    "3. Combine the down-sampled majority class and the original minority class\n",
    "\n",
    "Finally, we plot the distribution of distinct classes of the response variable to check that it is balanced before proceeding with further analysis.\n",
    "\n",
    "Source: https://elitedatascience.com/imbalanced-classes"
   ]
  },
  {
   "cell_type": "code",
   "execution_count": 9,
   "metadata": {},
   "outputs": [
    {
     "data": {
      "text/plain": [
       "1    23115\n",
       "0    23115\n",
       "Name: Arrest_status, dtype: int64"
      ]
     },
     "execution_count": 9,
     "metadata": {},
     "output_type": "execute_result"
    }
   ],
   "source": [
    "# Import resample package\n",
    "from sklearn.utils import resample\n",
    "\n",
    "# Downsampling\n",
    "df_majority = incident[incident.Arrest_status==0]\n",
    "df_minority = incident[incident.Arrest_status==1]\n",
    " \n",
    "# Downsample majority class\n",
    "df_majority_downsampled = resample(df_majority, \n",
    "                                 replace=False,    # sample without replacement\n",
    "                                 n_samples=23115,     # to match minority class\n",
    "                                 random_state=123) # reproducible results\n",
    " \n",
    "# Combine minority class with downsampled majority class\n",
    "df_downsampled = pd.concat([df_majority_downsampled, df_minority])\n",
    " \n",
    "# Display new class counts\n",
    "df_downsampled.Arrest_status.value_counts()"
   ]
  },
  {
   "cell_type": "code",
   "execution_count": 10,
   "metadata": {},
   "outputs": [
    {
     "data": {
      "image/png": "[encoded data removed]",
      "text/plain": [
       "<Figure size 576x360 with 1 Axes>"
      ]
     },
     "metadata": {},
     "output_type": "display_data"
    }
   ],
   "source": [
    "plt.figure(figsize=(8,5))\n",
    "x=[1,0]\n",
    "y=df_downsampled.Arrest_status.value_counts().as_matrix()\n",
    "\n",
    "nd = np.arange(2)\n",
    "plt.xticks(nd, ('No Arrest','Arrest'))\n",
    "#plt.xlim(0.5,4.5)\n",
    "my_colors = 'grbkymc'\n",
    "\n",
    "plt.bar(nd, y, 0.5, color=my_colors)\n",
    "plt.xlim(-0.5, 2)\n",
    "plt.title(\"Dallas City Police Incident Vs. Arrest Status After Resampling\")\n",
    "plt.ylabel('Number of Incident')\n",
    "plt.xlabel('Arrest Status')\n",
    "plt.legend(fig, labels=('No Arrest','Arrest'), loc = \"upper right\"\n",
    "           , frameon =True, bbox_to_anchor=(1, 0.5),fancybox=True, shadow=True)\n",
    "plt.show()"
   ]
  },
  {
   "cell_type": "markdown",
   "metadata": {},
   "source": [
    " After downsampling, class 0 (No Arrest) has the same size as the classe 1 (Arrest). "
   ]
  },
  {
   "cell_type": "code",
   "execution_count": 11,
   "metadata": {},
   "outputs": [],
   "source": [
    "# copy the down sampling dataset to original incident data frame and continue the anl\n",
    "incident= df_downsampled.copy()"
   ]
  },
  {
   "cell_type": "markdown",
   "metadata": {},
   "source": [
    "### Colinearity\n",
    "\n",
    "During Lab 1 data exploration, the team identified the attributes in the original dataset to have multicollinearity. In other words, one predictor variable in the regression model can be linearly predicted from the others with a substantial degree of accuracy.\n",
    "\n",
    "During this Mini Lab exercise, some additional collinearity was introduced because:\n",
    " * Continous Variables were converted to Categorical variables (e.g.: Response Time & Victim Age are converted to Categorical)\n",
    " * Derived Features based on (or a combination of) values of existing features (e.g.: Social Crime Score)\n",
    " * Identical features where one was a roll up of the other (e.g.: Watch & Call Received Hour)\n",
    " \n",
    "Based on the analysis of Correlation Matrix, we would be dropping one of the columns from the pair that are highly correlated."
   ]
  },
  {
   "cell_type": "code",
   "execution_count": 12,
   "metadata": {},
   "outputs": [
    {
     "name": "stdout",
     "output_type": "stream",
     "text": [
      "Social_crime_score  Drug_Related            0.842685\n",
      "Call_Received_Hour  Watch                   0.712316\n",
      "Social_crime_score  Gang_Related_Offense    0.562247\n",
      "Hate_Crime          Social_crime_score      0.152233\n",
      "Victim_Race         UCR_Offense_Name        0.131186\n",
      "                                              ...   \n",
      "Arrest_status       Victim_Age             -0.067700\n",
      "                    Victim_Race            -0.071456\n",
      "Watch               UCR_Offense_Name       -0.103933\n",
      "Response_time       Arrest_status          -0.174816\n",
      "Arrest_status       UCR_Offense_Name       -0.310592\n",
      "Length: 120, dtype: float64\n"
     ]
    }
   ],
   "source": [
    "#Create correlation matrix\n",
    "CorrMat = incident.corr()\n",
    "\n",
    "# Highest Correlation Pairs\n",
    "corrPairs = CorrMat.unstack().sort_values(kind=\"quicksort\", ascending=False)\n",
    "#- REMOVE DUPLICATES\n",
    "corrPairs = corrPairs[::2]\n",
    "corrPairs = corrPairs[corrPairs.index.get_level_values(0) != corrPairs.index.get_level_values(1)]\n",
    "with pd.option_context('display.max_rows',10):\n",
    "    print(corrPairs)"
   ]
  },
  {
   "cell_type": "code",
   "execution_count": 13,
   "metadata": {},
   "outputs": [
    {
     "name": "stdout",
     "output_type": "stream",
     "text": [
      "Victim_Race        UCR_Offense_Name      0.131186\n",
      "Number_of_offense  Social_crime_score    0.110633\n",
      "Victim_Race        Victim_Age            0.106044\n",
      "Arrest_status      Number_of_offense     0.081587\n",
      "UCR_Offense_Name   Response_time         0.072490\n",
      "                                           ...   \n",
      "Response_time      Number_of_offense    -0.058011\n",
      "Arrest_status      Victim_Age           -0.067700\n",
      "Victim_Race        Arrest_status        -0.071456\n",
      "Arrest_status      Response_time        -0.174816\n",
      "UCR_Offense_Name   Arrest_status        -0.310592\n",
      "Length: 66, dtype: float64\n"
     ]
    }
   ],
   "source": [
    "\n",
    "#Drop highly correlated, insignificant and high VIF columns.\n",
    "incident = incident.drop(['Drug_Related','Watch','Gang_Related_Offense','Hate_Crime'], axis=1)\n",
    "\n",
    "#Create correlation matrix\n",
    "CorrMat = incident.corr()\n",
    "\n",
    "# Highest Correlation Pairs\n",
    "corrPairs = CorrMat.unstack().sort_values(kind=\"quicksort\", ascending=False)\n",
    "#- REMOVE DUPLICATES\n",
    "corrPairs = corrPairs[::2]\n",
    "corrPairs = corrPairs[corrPairs.index.get_level_values(0) != corrPairs.index.get_level_values(1)]\n",
    "with pd.option_context('display.max_rows',10):\n",
    "    print(corrPairs)"
   ]
  },
  {
   "cell_type": "code",
   "execution_count": 14,
   "metadata": {},
   "outputs": [],
   "source": [
    "# Y Response variable dataframe\n",
    "inci_Y = incident['Arrest_status']\n",
    "\n",
    "# Features with no predictive features with respect to resposne variable\n",
    "incident = incident.drop(['Arrest_status'],axis=1)"
   ]
  },
  {
   "cell_type": "code",
   "execution_count": 15,
   "metadata": {},
   "outputs": [
    {
     "name": "stdout",
     "output_type": "stream",
     "text": [
      "<class 'pandas.core.frame.DataFrame'>\n",
      "Int64Index: 46230 entries, 72724 to 255143\n",
      "Data columns (total 11 columns):\n",
      "Unnamed: 0            46230 non-null int64\n",
      "Day1_of_the_Week      46230 non-null int8\n",
      "Victim_Type           46230 non-null int8\n",
      "Victim_Race           46230 non-null int8\n",
      "Victim_Age            46230 non-null int32\n",
      "UCR_Offense_Name      46230 non-null int8\n",
      "Number_of_offense     46230 non-null int32\n",
      "Response_time         46230 non-null int32\n",
      "Call_Received_Hour    46230 non-null float64\n",
      "IsMale                46230 non-null int32\n",
      "Social_crime_score    46230 non-null int64\n",
      "dtypes: float64(1), int32(4), int64(2), int8(4)\n",
      "memory usage: 2.3 MB\n",
      "inci_X None\n",
      "<class 'pandas.core.frame.DataFrame'>\n",
      "Int64Index: 46230 entries, 72724 to 255143\n",
      "Data columns (total 11 columns):\n",
      "Unnamed: 0            46230 non-null int64\n",
      "Day1_of_the_Week      46230 non-null int8\n",
      "Victim_Type           46230 non-null int8\n",
      "Victim_Race           46230 non-null int8\n",
      "Victim_Age            46230 non-null int32\n",
      "UCR_Offense_Name      46230 non-null int8\n",
      "Number_of_offense     46230 non-null int32\n",
      "Response_time         46230 non-null int32\n",
      "Call_Received_Hour    46230 non-null float64\n",
      "IsMale                46230 non-null int32\n",
      "Social_crime_score    46230 non-null int64\n",
      "dtypes: float64(1), int32(4), int64(2), int8(4)\n",
      "memory usage: 2.3 MB\n",
      "inci_X_Rfe None\n",
      "<class 'pandas.core.frame.DataFrame'>\n",
      "Int64Index: 46230 entries, 72724 to 255143\n",
      "Data columns (total 11 columns):\n",
      "Unnamed: 0            46230 non-null int64\n",
      "Day1_of_the_Week      46230 non-null int8\n",
      "Victim_Type           46230 non-null int8\n",
      "Victim_Race           46230 non-null int8\n",
      "Victim_Age            46230 non-null int32\n",
      "UCR_Offense_Name      46230 non-null int8\n",
      "Number_of_offense     46230 non-null int32\n",
      "Response_time         46230 non-null int32\n",
      "Call_Received_Hour    46230 non-null float64\n",
      "IsMale                46230 non-null int32\n",
      "Social_crime_score    46230 non-null int64\n",
      "dtypes: float64(1), int32(4), int64(2), int8(4)\n",
      "memory usage: 2.3 MB\n",
      "inci_X_SVM None\n"
     ]
    }
   ],
   "source": [
    "# Create inci_X Explanatory Variables DF to support the individual models\n",
    "inci_X = incident\n",
    "inci_X_Rfe = incident\n",
    "inci_X_SVM = incident\n",
    "print(\"inci_X\", inci_X.info())\n",
    "print(\"inci_X_Rfe\", inci_X_Rfe.info())\n",
    "print(\"inci_X_SVM\", inci_X_SVM.info())"
   ]
  },
  {
   "cell_type": "markdown",
   "metadata": {},
   "source": [
    "### Scale Data\n",
    "\n",
    "In order to imporve accuracy and performance of our classification model and to prevent emphasis of one feature over the other, features are scaled to have a mean of 0 and variance of 1 for all models in this mini project. "
   ]
  },
  {
   "cell_type": "code",
   "execution_count": 16,
   "metadata": {},
   "outputs": [],
   "source": [
    "from sklearn.preprocessing import StandardScaler\n",
    "\n",
    "#Scale data\n",
    "scaler = StandardScaler()\n",
    "inci_X_scaled = scaler.fit_transform(inci_X)\n",
    "inci_X_Rfe_scaled = scaler.fit_transform(inci_X_Rfe)\n",
    "inci_X_SVM_scaled = scaler.fit_transform(inci_X_SVM)\n",
    "\n",
    "#Save as data frames\n",
    "df_inci_X_scaled = pd.DataFrame(inci_X_scaled)\n",
    "df_inci_X_Rfe_scaled = pd.DataFrame(inci_X_Rfe_scaled)\n",
    "df_inci_X_SVM_scaled= pd.DataFrame(inci_X_SVM_scaled)"
   ]
  },
  {
   "cell_type": "markdown",
   "metadata": {},
   "source": [
    "### Variance Inflation Factors (VIF)\n",
    "\n",
    "Yet another way of identifying the multicollinearity is by checking the Variance Inflation Factors. When the multicollinearity exists, the standard errors and thereby the variances of the estimated coefficients are inflated. \n",
    "\n",
    "In general, a VIF values of under 10 helps create a better model. \n",
    "\n",
    "Credit: https://onlinecourses.science.psu.edu/stat501/node/347/"
   ]
  },
  {
   "cell_type": "markdown",
   "metadata": {},
   "source": [
    "Let's look at the **VIF values of the features before and after scaling function**. This provides us a better understanding of how the scaling methodology helped standardize the feature values."
   ]
  },
  {
   "cell_type": "code",
   "execution_count": 17,
   "metadata": {},
   "outputs": [
    {
     "name": "stdout",
     "output_type": "stream",
     "text": [
      "VIF Factors before Scaling\n"
     ]
    },
    {
     "data": {
      "text/html": [
       "<div>\n",
       "<style scoped>\n",
       "    .dataframe tbody tr th:only-of-type {\n",
       "        vertical-align: middle;\n",
       "    }\n",
       "\n",
       "    .dataframe tbody tr th {\n",
       "        vertical-align: top;\n",
       "    }\n",
       "\n",
       "    .dataframe thead th {\n",
       "        text-align: right;\n",
       "    }\n",
       "</style>\n",
       "<table border=\"1\" class=\"dataframe\">\n",
       "  <thead>\n",
       "    <tr style=\"text-align: right;\">\n",
       "      <th></th>\n",
       "      <th>VIF Factor</th>\n",
       "      <th>features</th>\n",
       "    </tr>\n",
       "  </thead>\n",
       "  <tbody>\n",
       "    <tr>\n",
       "      <th>0</th>\n",
       "      <td>3.941698</td>\n",
       "      <td>Unnamed: 0</td>\n",
       "    </tr>\n",
       "    <tr>\n",
       "      <th>1</th>\n",
       "      <td>3.180087</td>\n",
       "      <td>Day1_of_the_Week</td>\n",
       "    </tr>\n",
       "    <tr>\n",
       "      <th>2</th>\n",
       "      <td>26.289877</td>\n",
       "      <td>Victim_Type</td>\n",
       "    </tr>\n",
       "    <tr>\n",
       "      <th>3</th>\n",
       "      <td>5.365679</td>\n",
       "      <td>Victim_Race</td>\n",
       "    </tr>\n",
       "    <tr>\n",
       "      <th>4</th>\n",
       "      <td>8.446536</td>\n",
       "      <td>Victim_Age</td>\n",
       "    </tr>\n",
       "    <tr>\n",
       "      <th>5</th>\n",
       "      <td>2.441709</td>\n",
       "      <td>UCR_Offense_Name</td>\n",
       "    </tr>\n",
       "    <tr>\n",
       "      <th>6</th>\n",
       "      <td>5.085610</td>\n",
       "      <td>Number_of_offense</td>\n",
       "    </tr>\n",
       "    <tr>\n",
       "      <th>7</th>\n",
       "      <td>1.596853</td>\n",
       "      <td>Response_time</td>\n",
       "    </tr>\n",
       "    <tr>\n",
       "      <th>8</th>\n",
       "      <td>5.007072</td>\n",
       "      <td>Call_Received_Hour</td>\n",
       "    </tr>\n",
       "    <tr>\n",
       "      <th>9</th>\n",
       "      <td>2.184101</td>\n",
       "      <td>IsMale</td>\n",
       "    </tr>\n",
       "    <tr>\n",
       "      <th>10</th>\n",
       "      <td>1.038650</td>\n",
       "      <td>Social_crime_score</td>\n",
       "    </tr>\n",
       "  </tbody>\n",
       "</table>\n",
       "</div>"
      ],
      "text/plain": [
       "    VIF Factor            features\n",
       "0     3.941698          Unnamed: 0\n",
       "1     3.180087    Day1_of_the_Week\n",
       "2    26.289877         Victim_Type\n",
       "3     5.365679         Victim_Race\n",
       "4     8.446536          Victim_Age\n",
       "5     2.441709    UCR_Offense_Name\n",
       "6     5.085610   Number_of_offense\n",
       "7     1.596853       Response_time\n",
       "8     5.007072  Call_Received_Hour\n",
       "9     2.184101              IsMale\n",
       "10    1.038650  Social_crime_score"
      ]
     },
     "execution_count": 17,
     "metadata": {},
     "output_type": "execute_result"
    }
   ],
   "source": [
    "# Credit: https://etav.github.io/\n",
    "\n",
    "from statsmodels.stats.outliers_influence import variance_inflation_factor as vif\n",
    "df2_vif = pd.DataFrame()\n",
    "df2_vif[\"VIF Factor\"] = [vif(inci_X.values, i) for i in range(inci_X.shape[1])]\n",
    "df2_vif[\"features\"] = inci_X.columns\n",
    "print(\"VIF Factors before Scaling\")\n",
    "df2_vif"
   ]
  },
  {
   "cell_type": "code",
   "execution_count": 18,
   "metadata": {},
   "outputs": [
    {
     "name": "stdout",
     "output_type": "stream",
     "text": [
      "VIF Factors after Scaling\n"
     ]
    },
    {
     "data": {
      "text/html": [
       "<div>\n",
       "<style scoped>\n",
       "    .dataframe tbody tr th:only-of-type {\n",
       "        vertical-align: middle;\n",
       "    }\n",
       "\n",
       "    .dataframe tbody tr th {\n",
       "        vertical-align: top;\n",
       "    }\n",
       "\n",
       "    .dataframe thead th {\n",
       "        text-align: right;\n",
       "    }\n",
       "</style>\n",
       "<table border=\"1\" class=\"dataframe\">\n",
       "  <thead>\n",
       "    <tr style=\"text-align: right;\">\n",
       "      <th></th>\n",
       "      <th>VIF Factor</th>\n",
       "      <th>features</th>\n",
       "    </tr>\n",
       "  </thead>\n",
       "  <tbody>\n",
       "    <tr>\n",
       "      <th>0</th>\n",
       "      <td>1.003635</td>\n",
       "      <td>Unnamed: 0</td>\n",
       "    </tr>\n",
       "    <tr>\n",
       "      <th>1</th>\n",
       "      <td>1.001529</td>\n",
       "      <td>Day1_of_the_Week</td>\n",
       "    </tr>\n",
       "    <tr>\n",
       "      <th>2</th>\n",
       "      <td>1.001125</td>\n",
       "      <td>Victim_Type</td>\n",
       "    </tr>\n",
       "    <tr>\n",
       "      <th>3</th>\n",
       "      <td>1.031281</td>\n",
       "      <td>Victim_Race</td>\n",
       "    </tr>\n",
       "    <tr>\n",
       "      <th>4</th>\n",
       "      <td>1.019344</td>\n",
       "      <td>Victim_Age</td>\n",
       "    </tr>\n",
       "    <tr>\n",
       "      <th>5</th>\n",
       "      <td>1.034080</td>\n",
       "      <td>UCR_Offense_Name</td>\n",
       "    </tr>\n",
       "    <tr>\n",
       "      <th>6</th>\n",
       "      <td>1.017872</td>\n",
       "      <td>Number_of_offense</td>\n",
       "    </tr>\n",
       "    <tr>\n",
       "      <th>7</th>\n",
       "      <td>1.019236</td>\n",
       "      <td>Response_time</td>\n",
       "    </tr>\n",
       "    <tr>\n",
       "      <th>8</th>\n",
       "      <td>1.009164</td>\n",
       "      <td>Call_Received_Hour</td>\n",
       "    </tr>\n",
       "    <tr>\n",
       "      <th>9</th>\n",
       "      <td>1.013673</td>\n",
       "      <td>IsMale</td>\n",
       "    </tr>\n",
       "    <tr>\n",
       "      <th>10</th>\n",
       "      <td>1.016688</td>\n",
       "      <td>Social_crime_score</td>\n",
       "    </tr>\n",
       "  </tbody>\n",
       "</table>\n",
       "</div>"
      ],
      "text/plain": [
       "    VIF Factor            features\n",
       "0     1.003635          Unnamed: 0\n",
       "1     1.001529    Day1_of_the_Week\n",
       "2     1.001125         Victim_Type\n",
       "3     1.031281         Victim_Race\n",
       "4     1.019344          Victim_Age\n",
       "5     1.034080    UCR_Offense_Name\n",
       "6     1.017872   Number_of_offense\n",
       "7     1.019236       Response_time\n",
       "8     1.009164  Call_Received_Hour\n",
       "9     1.013673              IsMale\n",
       "10    1.016688  Social_crime_score"
      ]
     },
     "execution_count": 18,
     "metadata": {},
     "output_type": "execute_result"
    }
   ],
   "source": [
    "# Credit: https://etav.github.io/\n",
    "\n",
    "from statsmodels.stats.outliers_influence import variance_inflation_factor as vif\n",
    "\n",
    "df2_vif = pd.DataFrame()\n",
    "df2_vif[\"VIF Factor\"] = [vif(df_inci_X_scaled.values, i) for i in range(df_inci_X_scaled.shape[1])]\n",
    "df2_vif[\"features\"] = inci_X.columns\n",
    "print(\"VIF Factors after Scaling\")\n",
    "df2_vif"
   ]
  },
  {
   "cell_type": "markdown",
   "metadata": {},
   "source": [
    "### Feature Significance\n",
    "\n",
    "Feature selection or data dimension reduction is a process of identifying the fewest most important features that help with predicting the outcome. A correct feature selection allows us to develop a faster and simpler prediction model.\n",
    "\n",
    "The feature significance output helps us identify the importance and the relationship between the feature and the response variable. For example, from the below table we can infer that:\n",
    " * Social Crime Score, Number of Offenses and Victim Type plays a highly positive role in an arrest being made (Positive and significant)\n",
    " * The Day1_of_week is not a significant contributor to the arrest being made (P-Value - 0.7729)\n",
    " \n",
    "The table below summarizes the feature significance of the full model."
   ]
  },
  {
   "cell_type": "code",
   "execution_count": 19,
   "metadata": {},
   "outputs": [
    {
     "name": "stdout",
     "output_type": "stream",
     "text": [
      "Optimization terminated successfully.\n",
      "         Current function value: 0.624060\n",
      "         Iterations 6\n",
      "                          Results: Logit\n",
      "===================================================================\n",
      "Model:                Logit            Pseudo R-squared: 0.100     \n",
      "Dependent Variable:   Arrest_status    AIC:              57722.6032\n",
      "Date:                 2018-10-06 11:20 BIC:              57818.7584\n",
      "No. Observations:     46230            Log-Likelihood:   -28850.   \n",
      "Df Model:             10               LL-Null:          -32044.   \n",
      "Df Residuals:         46219            LLR p-value:      0.0000    \n",
      "Converged:            1.0000           Scale:            1.0000    \n",
      "No. Iterations:       6.0000                                       \n",
      "-------------------------------------------------------------------\n",
      "                    Coef.  Std.Err.    z     P>|z|   [0.025  0.975]\n",
      "-------------------------------------------------------------------\n",
      "Unnamed: 0          0.0000   0.0000   2.4907 0.0127  0.0000  0.0000\n",
      "Day1_of_the_Week    0.0064   0.0050   1.2775 0.2014 -0.0034  0.0163\n",
      "Victim_Type         0.3790   0.0272  13.9493 0.0000  0.3257  0.4322\n",
      "Victim_Race        -0.0341   0.0061  -5.5575 0.0000 -0.0461 -0.0221\n",
      "Victim_Age         -0.0068   0.0007  -9.6448 0.0000 -0.0082 -0.0054\n",
      "UCR_Offense_Name   -0.2873   0.0046 -62.3017 0.0000 -0.2963 -0.2783\n",
      "Number_of_offense   0.3679   0.0241  15.2635 0.0000  0.3206  0.4151\n",
      "Response_time      -0.0160   0.0005 -31.9770 0.0000 -0.0170 -0.0150\n",
      "Call_Received_Hour  0.0057   0.0015   3.6671 0.0002  0.0026  0.0087\n",
      "IsMale              0.1087   0.0202   5.3891 0.0000  0.0692  0.1482\n",
      "Social_crime_score  0.7220   0.0728   9.9239 0.0000  0.5794  0.8646\n",
      "===================================================================\n",
      "\n"
     ]
    }
   ],
   "source": [
    "# LOGISTIC REGRESSION: SUMMARY TABLE WITHOUT SCALING- FEATURE SIGNIFICANCE, CROSS VALIDATION OF FULL MODEL\n",
    "from sklearn import metrics as mt\n",
    "import statsmodels.api as sm\n",
    "logit_model = sm.Logit(inci_Y, inci_X)\n",
    "result = logit_model.fit()\n",
    "print(result.summary2())\n"
   ]
  },
  {
   "cell_type": "markdown",
   "metadata": {},
   "source": [
    "## Test Design\n",
    "\n",
    "### Cross Validation\n",
    "\n",
    "For the below model execution, we use Cross Validation to improve the model classification. We use the below settings for the cross validation module.\n",
    "\n",
    "    1. The data is divided into 80/20 train -test split.\n",
    "    2. 10 folds cross validation\n",
    "    3. Random seed with random state 0 for random test and training splits for each iteration of cross validation"
   ]
  },
  {
   "cell_type": "code",
   "execution_count": 20,
   "metadata": {},
   "outputs": [],
   "source": [
    "from sklearn.model_selection import ShuffleSplit\n",
    "# Create Cross Validation Object with 10 folds with 80/20 train - test split\n",
    "cv = ShuffleSplit(n_splits = 10, test_size=0.20, random_state=0)"
   ]
  },
  {
   "cell_type": "markdown",
   "metadata": {},
   "source": [
    "### Classifier Evaluation Functions\n",
    "\n",
    "We will be using the below Classifier Evaluation function to evaluate the performance of the model. The performance of the Classification model will be measured using:\n",
    "\n",
    " - Accuracy\n",
    " - Precision\n",
    " - Recall\n",
    "\n",
    "Functions and code customized based on Dr. Drew's NC models \n",
    "https://github.com/jakemdrew/EducationDataNC/blob/master/2016/Models/2016ComparingSegregatedHighSchoolCampuses.ipynb"
   ]
  },
  {
   "cell_type": "code",
   "execution_count": 21,
   "metadata": {},
   "outputs": [],
   "source": [
    "from sklearn.model_selection import cross_validate\n",
    "from sklearn.metrics import classification_report, confusion_matrix, accuracy_score\n",
    "\n",
    "results = []\n",
    "\n",
    "def EvaluateClassifierEstimator(classifierEstimator, X, y, cv, model):\n",
    "   \n",
    "    #Perform cross validation \n",
    "    scores = cross_validate(classifierEstimator, X, y, scoring=['accuracy','precision','recall']\n",
    "                            , cv=cv, return_train_score=True)\n",
    "\n",
    "    Accavg = scores['test_accuracy'].mean()\n",
    "    Preavg = scores['test_precision'].mean()\n",
    "    Recavg = scores['test_recall'].mean()\n",
    "\n",
    "    print_str = \"The average accuracy for all cv folds is: \\t\\t\\t {Accavg:.5}\"\n",
    "    print_str2 = \"The average precision for all cv folds is: \\t\\t\\t {Preavg:.5}\"\n",
    "    print_str3 = \"The average recall for all cv folds is: \\t\\t\\t {Recavg:.5}\"\n",
    "\n",
    "    print(print_str.format(Accavg=Accavg))\n",
    "    print(print_str2.format(Preavg=Preavg))\n",
    "    print(print_str3.format(Recavg=Recavg))\n",
    "    print('*********************************************************')\n",
    "\n",
    "    print('Cross Validation Fold Mean Error Scores')\n",
    "    scoresResults = pd.DataFrame()\n",
    "    scoresResults['Accuracy'] = scores['test_accuracy']\n",
    "    scoresResults['Precision'] = scores['test_precision']\n",
    "    scoresResults['Recall'] = scores['test_recall']\n",
    "    \n",
    "    results.append({'Model': model, 'Accuracy': Accavg, 'Precision': Preavg, 'Recall': Recavg})\n",
    "\n",
    "    return scoresResults\n",
    "\n",
    "def EvaluateClassifierEstimator2(classifierEstimator, X, y, cv):\n",
    "    \n",
    "    #Perform cross validation \n",
    "    from sklearn.model_selection import cross_val_predict\n",
    "    predictions = cross_val_predict(classifierEstimator, X, y, cv=cv)\n",
    "    \n",
    "    #model evaluation \n",
    "    from sklearn.metrics import classification_report, confusion_matrix, accuracy_score\n",
    "    \n",
    "    #pass true test set values and predictions to classification_report\n",
    "    classReport = classification_report(Y,predictions)\n",
    "    confMat = confusion_matrix(Y,predictions)\n",
    "    acc = accuracy_score(Y,predictions)\n",
    "    \n",
    "    print (classReport)\n",
    "    print (confMat)\n",
    "    print (acc)"
   ]
  },
  {
   "cell_type": "markdown",
   "metadata": {},
   "source": [
    "## Build Model"
   ]
  },
  {
   "cell_type": "markdown",
   "metadata": {},
   "source": [
    "### Logistic Regression, using GridSearchCV, with Manual Feature Reduction\n",
    "\n",
    "Logistic Regresssion is used in many fields of application in which the response variable is binary. Regression models for binary responses, therefore are used to describe probabilities as functions of explanatory variables. It explain a function (logarithm of odds) of mean or probability rather than the mean itself. The interpretations of logistic regression coefficients are made in terms of statemens about odds and odds ratios.\n",
    "\n",
    "#### Parameter Settings\n",
    "The model would be using the GridSearchCV module to test different parameters and identify the best parameters. \n",
    " * C: Inverse of Reularization Strength - Smaller value specifies stronger regularization - [0.001, 0.01, 0.1, 1, 10, 100, 1000]\n",
    " * Class Weight: Weights associated with classes. ['balanced', 'none']\n",
    " * Solver: Algorithm to use in the optimization problem - ['lbgfs'] - It can handle multinomial loss\n",
    " * max_iter: Maximum number of iterations taken for the solvers to converge\n",
    " * n_jobs: This is used to specify how many concurrent processes/threads should be used for parallelized routines.\n",
    " * verbose: Controls the verbosity to check progress; the higher, the more messages\n",
    " * scoring: The evaluation method on the test set to evaluate predictions\n",
    " * Cross Validation object:\n",
    " > * n_split: Number of re-shuffling and splitting iterations - 10\n",
    " > * test_size: Represents the proportion of the dataset to include in the test split - 0.2\n",
    " > * random_state: The seed of the pseudo random number generator to use when shuffling the data - 0"
   ]
  },
  {
   "cell_type": "code",
   "execution_count": 22,
   "metadata": {},
   "outputs": [
    {
     "name": "stdout",
     "output_type": "stream",
     "text": [
      "Fitting 10 folds for each of 28 candidates, totalling 280 fits\n"
     ]
    },
    {
     "name": "stderr",
     "output_type": "stream",
     "text": [
      "[Parallel(n_jobs=8)]: Done  34 tasks      | elapsed:    9.9s\n",
      "[Parallel(n_jobs=8)]: Done 184 tasks      | elapsed:   17.8s\n",
      "[Parallel(n_jobs=8)]: Done 280 out of 280 | elapsed:   21.6s finished\n"
     ]
    },
    {
     "name": "stdout",
     "output_type": "stream",
     "text": [
      "Wall time: 22.2 s\n"
     ]
    }
   ],
   "source": [
    "%%time\n",
    "\n",
    "#Logisitic regression 10-fold cross-validation \n",
    "from sklearn.linear_model import LogisticRegression\n",
    "regEstimator = LogisticRegression()\n",
    "\n",
    "parameters = { 'penalty':['l2']\n",
    "              ,'C': [0.001, 0.01, 0.1, 1, 10, 100, 1000]\n",
    "              ,'class_weight': ['balanced', 'none']\n",
    "              ,'solver': ['lbfgs']\n",
    "              ,'max_iter':[100,500]\n",
    "             }\n",
    "\n",
    "#Create a grid search object using the  \n",
    "from sklearn.model_selection import GridSearchCV\n",
    "regGridSearch = GridSearchCV(estimator=regEstimator\n",
    "                   , n_jobs=8 # jobs to run in parallel\n",
    "                   , verbose=1 # low verbosity\n",
    "                   , param_grid=parameters\n",
    "                   , cv=cv # KFolds = 10\n",
    "                   , scoring='accuracy')\n",
    "\n",
    "#Perform hyperparameter search to find the best combination of parameters for our data\n",
    "#regGridSearch.fit(teamX, teamY)\n",
    "regGridSearch.fit(df_inci_X_scaled, inci_Y)"
   ]
  },
  {
   "cell_type": "code",
   "execution_count": 23,
   "metadata": {},
   "outputs": [
    {
     "data": {
      "text/plain": [
       "array([[ 0.02422159,  0.01236175, -0.01741234, -0.05681421, -0.09778792,\n",
       "        -0.63743915,  0.20574474, -0.34169284,  0.03606959,  0.05384147,\n",
       "         0.11004722]])"
      ]
     },
     "execution_count": 23,
     "metadata": {},
     "output_type": "execute_result"
    }
   ],
   "source": [
    "#Diplay the top model parameters\n",
    "regGridSearch.best_estimator_.coef_"
   ]
  },
  {
   "cell_type": "markdown",
   "metadata": {},
   "source": [
    "#### Models\n",
    "The model is executed above and the model output is listed below. The output includes Accuracy, Precision, Recall, Model features, and their corresponding weights."
   ]
  },
  {
   "cell_type": "code",
   "execution_count": 24,
   "metadata": {},
   "outputs": [
    {
     "name": "stdout",
     "output_type": "stream",
     "text": [
      "The average accuracy for all cv folds is: \t\t\t 0.66128\n",
      "The average precision for all cv folds is: \t\t\t 0.67983\n",
      "The average recall for all cv folds is: \t\t\t 0.61259\n",
      "*********************************************************\n",
      "Cross Validation Fold Mean Error Scores\n",
      "\n",
      "    Accuracy  Precision  Recall\n",
      "0    0.6603     0.6829  0.6126\n",
      "1    0.6630     0.6818  0.6178\n",
      "2    0.6621     0.6768  0.6122\n",
      "3    0.6641     0.6764  0.6145\n",
      "4    0.6590     0.6787  0.6114\n",
      "5    0.6575     0.6763  0.6079\n",
      "6    0.6628     0.6831  0.6267\n",
      "7    0.6593     0.6733  0.6084\n",
      "8    0.6631     0.6816  0.6134\n",
      "9    0.6617     0.6876  0.6010\n",
      "\n",
      "---- Logistic Regression - CV, Scaled 'Manual' Attr Elimination ----\n",
      "C : \t  1\n",
      "class_weight : \t  balanced\n",
      "max_iter : \t  100\n",
      "penalty : \t  l2\n",
      "solver : \t  lbfgs\n",
      "\n",
      "---- Attributes and their weights -----\n",
      "\n",
      "Number_of_offense  has weight of 0.2057447377654947\n",
      "Social_crime_score  has weight of 0.11004721689892784\n",
      "IsMale  has weight of 0.05384147190022717\n",
      "Call_Received_Hour  has weight of 0.036069585158282694\n",
      "Unnamed: 0  has weight of 0.024221590372445895\n",
      "Day1_of_the_Week  has weight of 0.012361746349558611\n",
      "Victim_Type  has weight of -0.017412336816879325\n",
      "Victim_Race  has weight of -0.05681421381529202\n",
      "Victim_Age  has weight of -0.09778792367145236\n",
      "Response_time  has weight of -0.34169284175232156\n",
      "UCR_Offense_Name  has weight of -0.6374391498256661\n",
      "Wall time: 1.11 s\n"
     ]
    }
   ],
   "source": [
    "%%time\n",
    "\n",
    "#Use the best parameters for our Linear Regression object\n",
    "classifierEst = regGridSearch.best_estimator_\n",
    "\n",
    "#Evaluate the regression estimator above using our pre-defined cross validation and scoring metrics.\n",
    "print(\"\\n\",round(EvaluateClassifierEstimator(classifierEst, df_inci_X_scaled, inci_Y, cv, \"manual\"),4))\n",
    "\n",
    "#Use the best parameters for our Linear Regression object\",\n",
    "ClassiferParams = regGridSearch.best_params_\n",
    "print(\"\\n---- Logistic Regression - CV, Scaled 'Manual' Attr Elimination ----\")\n",
    "for keys,values in ClassiferParams.items():\n",
    "    print(keys,\": \\t \",values)\n",
    "    \n",
    "# sort these attributes and spit them out\\n\",\n",
    "name = inci_X\n",
    "zip_vars = zip(regGridSearch.best_estimator_.coef_.T,name) # combine attributes\n",
    "zip_vars = sorted(zip_vars, reverse=True)\n",
    "\n",
    "# Print out Attributes and their weights\\n\",\n",
    "print(\"\\n---- Attributes and their weights -----\\n\")\n",
    "for coef, name in zip_vars:\n",
    "    print(name, ' has weight of', coef[0])"
   ]
  },
  {
   "cell_type": "code",
   "execution_count": 25,
   "metadata": {},
   "outputs": [
    {
     "name": "stdout",
     "output_type": "stream",
     "text": [
      "Best Estimator GridSearch Prediction\n",
      "[0 0 0 ... 1 1 1]\n",
      "[[0.54935037 0.45064963]\n",
      " [0.79932728 0.20067272]\n",
      " [0.6565659  0.3434341 ]\n",
      " ...\n",
      " [0.35707082 0.64292918]\n",
      " [0.40068051 0.59931949]\n",
      " [0.3582768  0.6417232 ]]\n"
     ]
    }
   ],
   "source": [
    "print(\"Best Estimator GridSearch Prediction\")\n",
    "print(regGridSearch.best_estimator_.predict(df_inci_X_scaled))\n",
    "print(regGridSearch.best_estimator_.predict_proba(df_inci_X_scaled))"
   ]
  },
  {
   "cell_type": "markdown",
   "metadata": {},
   "source": [
    "#### Model Description\n",
    "\n",
    "The odds of being arrested for males (IsMale=1) over the odds of getting arrested for females is 1.05 times when all other parameters are held constant."
   ]
  },
  {
   "cell_type": "markdown",
   "metadata": {},
   "source": [
    "### Logistic Regression, using GridSearchCV, with Recursive Feature Elimination\n",
    "\n",
    "#### Parameter Settings\n",
    "The model would be using the GridSearchCV module to test different parameters and identify the best parameters. \n",
    " * C: Inverse of Reularization Strength - Smaller value specifies stronger regularization - [0.001, 0.01, 0.1, 1, 10, 100, 1000]\n",
    " * Class Weight: Weights associated with classes. ['balanced', 'none']\n",
    " * Solver: Algorithm to use in the optimization problem - ['lbgfs'] - It can handle multinomial loss\n",
    " * max_iter: Maximum number of iterations taken for the solvers to converge\n",
    " * n_jobs: This is used to specify how many concurrent processes/threads should be used for parallelized routines.\n",
    " * verbose: Controls the verbosity to check progress; the higher, the more messages\n",
    " * scoring: The evaluation method on the test set to evaluate predictions\n",
    " * Cross Validation object:\n",
    " > * n_split: Number of re-shuffling and splitting iterations - 10\n",
    " > * test_size: Represents the proportion of the dataset to include in the test split - 0.2\n",
    " > * random_state: The seed of the pseudo random number generator to use when shuffling the data - 0"
   ]
  },
  {
   "cell_type": "code",
   "execution_count": 26,
   "metadata": {},
   "outputs": [
    {
     "name": "stdout",
     "output_type": "stream",
     "text": [
      "RFE CV Logistic Regression 1st Pass\n",
      "Fitting estimator with 11 features.\n",
      "Fitting estimator with 10 features.\n",
      "Fitting estimator with 9 features.\n",
      "Fitting estimator with 8 features.\n",
      "Fitting estimator with 7 features.\n",
      "Fitting estimator with 6 features.\n",
      "Fitting estimator with 5 features.\n",
      "Fitting estimator with 4 features.\n",
      "Fitting estimator with 3 features.\n",
      "Fitting estimator with 2 features.\n",
      "Fitting estimator with 11 features.\n",
      "Fitting estimator with 10 features.\n",
      "Fitting estimator with 9 features.\n",
      "Fitting estimator with 8 features.\n",
      "Fitting estimator with 7 features.\n",
      "Fitting estimator with 6 features.\n",
      "Fitting estimator with 5 features.\n",
      "Fitting estimator with 4 features.\n",
      "Fitting estimator with 3 features.\n",
      "Fitting estimator with 2 features.\n",
      "Fitting estimator with 11 features.\n",
      "Fitting estimator with 10 features.\n",
      "Fitting estimator with 9 features.\n",
      "Fitting estimator with 8 features.\n",
      "Fitting estimator with 7 features.\n",
      "Fitting estimator with 6 features.\n",
      "Fitting estimator with 5 features.\n",
      "Fitting estimator with 4 features.\n",
      "Fitting estimator with 3 features.\n",
      "Fitting estimator with 2 features.\n",
      "Fitting estimator with 11 features.\n",
      "Fitting estimator with 10 features.\n",
      "Fitting estimator with 9 features.\n",
      "Fitting estimator with 8 features.\n",
      "Fitting estimator with 7 features.\n",
      "Fitting estimator with 6 features.\n",
      "Fitting estimator with 5 features.\n",
      "Fitting estimator with 4 features.\n",
      "Fitting estimator with 3 features.\n",
      "Fitting estimator with 2 features.\n",
      "Fitting estimator with 11 features.\n",
      "Fitting estimator with 10 features.\n",
      "Fitting estimator with 9 features.\n",
      "Fitting estimator with 8 features.\n",
      "Fitting estimator with 7 features.\n",
      "Fitting estimator with 6 features.\n",
      "Fitting estimator with 5 features.\n",
      "Fitting estimator with 4 features.\n",
      "Fitting estimator with 3 features.\n",
      "Fitting estimator with 2 features.\n",
      "Fitting estimator with 11 features.\n",
      "Fitting estimator with 10 features.\n",
      "Fitting estimator with 9 features.\n",
      "Fitting estimator with 8 features.\n",
      "Fitting estimator with 7 features.\n",
      "Fitting estimator with 6 features.\n",
      "Fitting estimator with 5 features.\n",
      "Fitting estimator with 4 features.\n",
      "Fitting estimator with 3 features.\n",
      "Fitting estimator with 2 features.\n",
      "Fitting estimator with 11 features.\n",
      "Fitting estimator with 10 features.\n",
      "Fitting estimator with 9 features.\n",
      "Fitting estimator with 8 features.\n",
      "Fitting estimator with 7 features.\n",
      "Fitting estimator with 6 features.\n",
      "Fitting estimator with 5 features.\n",
      "Fitting estimator with 4 features.\n",
      "Fitting estimator with 3 features.\n",
      "Fitting estimator with 2 features.\n",
      "Fitting estimator with 11 features.\n",
      "Fitting estimator with 10 features.\n",
      "Fitting estimator with 9 features.\n",
      "Fitting estimator with 8 features.\n",
      "Fitting estimator with 7 features.\n",
      "Fitting estimator with 6 features.\n",
      "Fitting estimator with 5 features.\n",
      "Fitting estimator with 4 features.\n",
      "Fitting estimator with 3 features.\n",
      "Fitting estimator with 2 features.\n",
      "Fitting estimator with 11 features.\n",
      "Fitting estimator with 10 features.\n",
      "Fitting estimator with 9 features.\n",
      "Fitting estimator with 8 features.\n",
      "Fitting estimator with 7 features.\n",
      "Fitting estimator with 6 features.\n",
      "Fitting estimator with 5 features.\n",
      "Fitting estimator with 4 features.\n",
      "Fitting estimator with 3 features.\n",
      "Fitting estimator with 2 features.\n",
      "Fitting estimator with 11 features.\n",
      "Fitting estimator with 10 features.\n",
      "Fitting estimator with 9 features.\n",
      "Fitting estimator with 8 features.\n",
      "Fitting estimator with 7 features.\n",
      "Fitting estimator with 6 features.\n",
      "Fitting estimator with 5 features.\n",
      "Fitting estimator with 4 features.\n",
      "Fitting estimator with 3 features.\n",
      "Fitting estimator with 2 features.\n",
      "Ranking [1 1 1 1 1 1 1 1 1 1 1]\n",
      "Support [ True  True  True  True  True  True  True  True  True  True  True]\n",
      "Number of Features: 11\n",
      "Logistic Regression Second Pass\n",
      "Wall time: 49.4 s\n"
     ]
    }
   ],
   "source": [
    "%%time\n",
    "\n",
    "from sklearn.pipeline import make_pipeline\n",
    "from sklearn.model_selection import GridSearchCV\n",
    "from sklearn.feature_selection import RFECV\n",
    "from sklearn.linear_model import LogisticRegression\n",
    "from sklearn.preprocessing import StandardScaler\n",
    "from sklearn.model_selection import ShuffleSplit\n",
    "\n",
    "\n",
    "print(\"RFE CV Logistic Regression 1st Pass\")\n",
    "rfecvEstimator = LogisticRegression()\n",
    "\n",
    "parameters = { 'penalty':['l2']\n",
    "              ,'C': [0.001, 0.01, 0.1, 1, 10, 100, 1000]\n",
    "              ,'class_weight': ['balanced', 'none']\n",
    "              ,'solver': ['lbfgs']\n",
    "              ,'max_iter':[100,500]\n",
    "             }\n",
    "\n",
    "#Create a grid search object using the  \n",
    "from sklearn.model_selection import GridSearchCV\n",
    "rfecvGridSearch = GridSearchCV(estimator=rfecvEstimator\n",
    "                   , n_jobs=8 # jobs to run in parallel\n",
    "                   , verbose=0 # low verbosity\n",
    "                   , param_grid=parameters\n",
    "                   , cv=cv # KFolds = 10\n",
    "                   , scoring='accuracy')\n",
    "\n",
    "#Perform hyperparameter search to find the best combination of parameters for our data using RFECV\n",
    "rfecvGridSearch.fit(df_inci_X_Rfe_scaled, inci_Y)\n",
    "\n",
    "#Use the best parameters for our RFECV Linear Regression object\n",
    "rfecvClassifierEst = rfecvGridSearch.best_estimator_\n",
    "\n",
    "#Recursive Feature Elimination\n",
    "rfecv = RFECV(estimator=rfecvClassifierEst, step=1, cv=cv, scoring='accuracy', verbose=1)\n",
    "#X_BestFeatures = rfecv.fit_transform(teamX, teamY)\n",
    "X_BestFeatures = rfecv.fit_transform(df_inci_X_Rfe_scaled, inci_Y)\n",
    "\n",
    "#Print RFECV Details\n",
    "print(\"Ranking\", rfecv.ranking_)\n",
    "print(\"Support\", rfecv.support_)\n",
    "print(\"Number of Features:\", rfecv.n_features_)\n",
    "\n",
    "print(\"Logistic Regression Second Pass\")\n",
    "#create a pipeline to scale all of the data and perform logistic regression during each grid search step.\n",
    "pipe = make_pipeline(StandardScaler(), LogisticRegression())\n",
    "\n",
    "#Define a range of hyper parameters for grid search\n",
    "parameters = { 'logisticregression__penalty':['l2']\n",
    "              ,'logisticregression__C': [0.001, 0.01, 0.1, 1, 10, 100, 1000]\n",
    "              ,'logisticregression__class_weight': ['balanced','none']\n",
    "              ,'logisticregression__random_state': [0]\n",
    "              ,'logisticregression__solver': ['lbfgs']\n",
    "              ,'logisticregression__max_iter':[100,500]\n",
    "             }\n",
    "\n",
    "#Perform the grid search using accuracy as a metric during cross validation.\n",
    "grid = GridSearchCV(pipe, parameters, cv=cv, scoring='accuracy')\n",
    "\n",
    "#Use the best features from recursive feature elimination during the grid search\n",
    "grid.fit(df_inci_X_Rfe_scaled, inci_Y)"
   ]
  },
  {
   "cell_type": "code",
   "execution_count": 27,
   "metadata": {},
   "outputs": [
    {
     "name": "stdout",
     "output_type": "stream",
     "text": [
      "The average accuracy for all cv folds is: \t\t\t 0.66128\n",
      "The average precision for all cv folds is: \t\t\t 0.67983\n",
      "The average recall for all cv folds is: \t\t\t 0.61259\n",
      "*********************************************************\n",
      "Cross Validation Fold Mean Error Scores\n"
     ]
    },
    {
     "data": {
      "text/html": [
       "<div>\n",
       "<style scoped>\n",
       "    .dataframe tbody tr th:only-of-type {\n",
       "        vertical-align: middle;\n",
       "    }\n",
       "\n",
       "    .dataframe tbody tr th {\n",
       "        vertical-align: top;\n",
       "    }\n",
       "\n",
       "    .dataframe thead th {\n",
       "        text-align: right;\n",
       "    }\n",
       "</style>\n",
       "<table border=\"1\" class=\"dataframe\">\n",
       "  <thead>\n",
       "    <tr style=\"text-align: right;\">\n",
       "      <th></th>\n",
       "      <th>Accuracy</th>\n",
       "      <th>Precision</th>\n",
       "      <th>Recall</th>\n",
       "    </tr>\n",
       "  </thead>\n",
       "  <tbody>\n",
       "    <tr>\n",
       "      <th>0</th>\n",
       "      <td>0.660286</td>\n",
       "      <td>0.682880</td>\n",
       "      <td>0.612620</td>\n",
       "    </tr>\n",
       "    <tr>\n",
       "      <th>1</th>\n",
       "      <td>0.662989</td>\n",
       "      <td>0.681786</td>\n",
       "      <td>0.617818</td>\n",
       "    </tr>\n",
       "    <tr>\n",
       "      <th>2</th>\n",
       "      <td>0.662124</td>\n",
       "      <td>0.676775</td>\n",
       "      <td>0.612236</td>\n",
       "    </tr>\n",
       "    <tr>\n",
       "      <th>3</th>\n",
       "      <td>0.664071</td>\n",
       "      <td>0.676379</td>\n",
       "      <td>0.614526</td>\n",
       "    </tr>\n",
       "    <tr>\n",
       "      <th>4</th>\n",
       "      <td>0.658988</td>\n",
       "      <td>0.678682</td>\n",
       "      <td>0.611398</td>\n",
       "    </tr>\n",
       "    <tr>\n",
       "      <th>5</th>\n",
       "      <td>0.657474</td>\n",
       "      <td>0.676266</td>\n",
       "      <td>0.607852</td>\n",
       "    </tr>\n",
       "    <tr>\n",
       "      <th>6</th>\n",
       "      <td>0.662773</td>\n",
       "      <td>0.683148</td>\n",
       "      <td>0.626704</td>\n",
       "    </tr>\n",
       "    <tr>\n",
       "      <th>7</th>\n",
       "      <td>0.659312</td>\n",
       "      <td>0.673263</td>\n",
       "      <td>0.608373</td>\n",
       "    </tr>\n",
       "    <tr>\n",
       "      <th>8</th>\n",
       "      <td>0.663098</td>\n",
       "      <td>0.681556</td>\n",
       "      <td>0.613356</td>\n",
       "    </tr>\n",
       "    <tr>\n",
       "      <th>9</th>\n",
       "      <td>0.661692</td>\n",
       "      <td>0.687561</td>\n",
       "      <td>0.600988</td>\n",
       "    </tr>\n",
       "  </tbody>\n",
       "</table>\n",
       "</div>"
      ],
      "text/plain": [
       "   Accuracy  Precision    Recall\n",
       "0  0.660286   0.682880  0.612620\n",
       "1  0.662989   0.681786  0.617818\n",
       "2  0.662124   0.676775  0.612236\n",
       "3  0.664071   0.676379  0.614526\n",
       "4  0.658988   0.678682  0.611398\n",
       "5  0.657474   0.676266  0.607852\n",
       "6  0.662773   0.683148  0.626704\n",
       "7  0.659312   0.673263  0.608373\n",
       "8  0.663098   0.681556  0.613356\n",
       "9  0.661692   0.687561  0.600988"
      ]
     },
     "execution_count": 27,
     "metadata": {},
     "output_type": "execute_result"
    }
   ],
   "source": [
    "#Use the best parameters from RFE for our Logistic Regression object\n",
    "\n",
    "EvaluateClassifierEstimator(rfecvClassifierEst, df_inci_X_Rfe_scaled, inci_Y, cv, 'Rfe')"
   ]
  },
  {
   "cell_type": "markdown",
   "metadata": {},
   "source": [
    "#### Models\n",
    "The model is executed above and the model output is listed below. The output includes Accuracy, Precision, Recall, Model features, and their corresponding weights.\n",
    "\n",
    "###### Reiteration of manual feature reduction of Logistic Regression"
   ]
  },
  {
   "cell_type": "code",
   "execution_count": 28,
   "metadata": {},
   "outputs": [
    {
     "name": "stdout",
     "output_type": "stream",
     "text": [
      "[0 0 0 ... 1 1 1]\n",
      "[[0.54935037 0.45064963]\n",
      " [0.79932728 0.20067272]\n",
      " [0.6565659  0.3434341 ]\n",
      " ...\n",
      " [0.35707082 0.64292918]\n",
      " [0.40068051 0.59931949]\n",
      " [0.3582768  0.6417232 ]]\n",
      "The average accuracy for all cv folds is: \t\t\t 0.66128\n",
      "The average precision for all cv folds is: \t\t\t 0.67983\n",
      "The average recall for all cv folds is: \t\t\t 0.61259\n",
      "*********************************************************\n",
      "Cross Validation Fold Mean Error Scores\n",
      "\n",
      "    Accuracy  Precision  Recall\n",
      "0    0.6603     0.6829  0.6126\n",
      "1    0.6630     0.6818  0.6178\n",
      "2    0.6621     0.6768  0.6122\n",
      "3    0.6641     0.6764  0.6145\n",
      "4    0.6590     0.6787  0.6114\n",
      "5    0.6575     0.6763  0.6079\n",
      "6    0.6628     0.6831  0.6267\n",
      "7    0.6593     0.6733  0.6084\n",
      "8    0.6631     0.6816  0.6134\n",
      "9    0.6617     0.6876  0.6010\n",
      "\n",
      "---- RFECV Regression - CV, Scaled ----\n",
      "C : \t  1\n",
      "class_weight : \t  balanced\n",
      "max_iter : \t  100\n",
      "penalty : \t  l2\n",
      "solver : \t  lbfgs\n",
      "\n",
      "---- Attributes and their weights -----\n",
      "\n",
      "Number_of_offense  has weight of 0.2057447377654947\n",
      "Social_crime_score  has weight of 0.11004721689892784\n",
      "IsMale  has weight of 0.05384147190022717\n",
      "Call_Received_Hour  has weight of 0.036069585158282694\n",
      "Unnamed: 0  has weight of 0.024221590372445895\n",
      "Day1_of_the_Week  has weight of 0.012361746349558611\n",
      "Victim_Type  has weight of -0.017412336816879325\n",
      "Victim_Race  has weight of -0.05681421381529202\n",
      "Victim_Age  has weight of -0.09778792367145236\n",
      "Response_time  has weight of -0.34169284175232156\n",
      "UCR_Offense_Name  has weight of -0.6374391498256661\n"
     ]
    }
   ],
   "source": [
    "print(grid.best_estimator_.predict(df_inci_X_Rfe_scaled))\n",
    "print(grid.best_estimator_.predict_proba(df_inci_X_Rfe_scaled))\n",
    "\n",
    "#Use the best parameters for our RFE  Regression object\n",
    "rfecvClassifierEst = rfecvGridSearch.best_estimator_\n",
    "\n",
    "#Evaluate the regression estimator above using our pre-defined cross validation and scoring metrics.\n",
    "print(\"\\n\",round(EvaluateClassifierEstimator(rfecvClassifierEst, df_inci_X_Rfe_scaled, inci_Y, cv, \"manual\"),4))\n",
    "\n",
    "#Use the best parameters for our RFECV Regression object\",\n",
    "rfecvClassiferParams = rfecvGridSearch.best_params_\n",
    "print(\"\\n---- RFECV Regression - CV, Scaled ----\")\n",
    "for keys,values in rfecvClassiferParams.items():\n",
    "    print(keys,\": \\t \",values)\n",
    "    \n",
    "# sort these attributes and spit them out\\n\",\n",
    "name = inci_X\n",
    "zip_vars = zip(rfecvGridSearch.best_estimator_.coef_.T,name) # combine attributes\n",
    "zip_vars = sorted(zip_vars, reverse=True)\n",
    "\n",
    "# Print out Attributes and their weights\\n\",\n",
    "print(\"\\n---- Attributes and their weights -----\\n\")\n",
    "for coef, name in zip_vars:\n",
    "    print(name, ' has weight of', coef[0])"
   ]
  },
  {
   "cell_type": "markdown",
   "metadata": {},
   "source": [
    "## SUPPORT VECTOR MACHINE (SVM)\n",
    "\n",
    "#### Parameter Settings\n",
    "The model would be using the GridSearchCV module to test different parameters and identify the best parameters. \n",
    " * C: Inverse of Reularization Strength - Smaller value specifies stronger regularization - [0.5]\n",
    " * Kernel: Specifies the kernel type to be used in the algorithm. It must be one of ‘linear’, ‘poly’, ‘rbf’, ‘sigmoid’, ‘precomputed’ - ['Linear']\n",
    " * degree: Degree of the polynomial kernel function (‘poly’). Ignored by all other kernels. Default of 3 is used.\n",
    " * gamma: Kernel coefficient for ‘rbf’, ‘poly’ and ‘sigmoid’. Default of Auto is used."
   ]
  },
  {
   "cell_type": "code",
   "execution_count": 29,
   "metadata": {},
   "outputs": [
    {
     "name": "stdout",
     "output_type": "stream",
     "text": [
      "accuracy: 0.6577979666882976\n",
      "precision: 0.680954507119115\n",
      "recall: 0.5938135409906987\n",
      "[[16684  6431]\n",
      " [ 9389 13726]]\n",
      "Wall time: 2min\n"
     ]
    }
   ],
   "source": [
    "%%time\n",
    "\n",
    "#SVM model on main dataframe.\n",
    "from sklearn.svm import SVC\n",
    "from sklearn.preprocessing import StandardScaler\n",
    "from sklearn import metrics as mt\n",
    "\n",
    "\n",
    "#train the model just as before\n",
    "svm_clf = SVC(C=0.5, kernel='linear', degree=3, gamma='auto') # get object\n",
    "svm_clf.fit(df_inci_X_SVM_scaled, inci_Y)  # train object\n",
    "\n",
    "y_hat = svm_clf.predict(df_inci_X_SVM_scaled)\n",
    "\n",
    "acc = mt.accuracy_score(inci_Y,y_hat)\n",
    "conf = mt.confusion_matrix(inci_Y,y_hat)\n",
    "prec = mt.precision_score(inci_Y, y_hat)\n",
    "recall = mt.recall_score(inci_Y, y_hat)\n",
    "print('accuracy:', acc )\n",
    "print('precision:', prec)\n",
    "print('recall:', recall)\n",
    "print(conf)\n",
    "\n",
    "results.append({'Model': 'SVM', 'Accuracy': acc, 'Precision': prec, 'Recall': recall})"
   ]
  },
  {
   "cell_type": "code",
   "execution_count": 30,
   "metadata": {},
   "outputs": [
    {
     "name": "stdout",
     "output_type": "stream",
     "text": [
      "(33792, 11)\n",
      "(33792,)\n",
      "[16844 16948]\n"
     ]
    }
   ],
   "source": [
    "#look at the support vectors\n",
    "print(svm_clf.support_vectors_.shape)\n",
    "print(svm_clf.support_.shape)\n",
    "print(svm_clf.n_support_ )"
   ]
  },
  {
   "cell_type": "code",
   "execution_count": 31,
   "metadata": {},
   "outputs": [
    {
     "name": "stdout",
     "output_type": "stream",
     "text": [
      "[0 0 0 ... 1 0 1]\n"
     ]
    }
   ],
   "source": [
    "# SVM based Prediction\n",
    "print(y_hat)"
   ]
  },
  {
   "cell_type": "markdown",
   "metadata": {},
   "source": [
    "## SGD Classifier"
   ]
  },
  {
   "cell_type": "code",
   "execution_count": 32,
   "metadata": {},
   "outputs": [],
   "source": [
    "from sklearn.base import BaseEstimator, TransformerMixin\n",
    "from sklearn.preprocessing import LabelEncoder, OneHotEncoder\n",
    "\n",
    "\n",
    "class EncodeCategorical(BaseEstimator, TransformerMixin):\n",
    "    \"\"\"\n",
    "    Encodes a specified list of columns or all columns if None.\n",
    "    \"\"\"\n",
    "\n",
    "    def __init__(self, columns=None):\n",
    "        self.columns  = [col for col in columns]\n",
    "        self.encoders = None\n",
    "\n",
    "    def fit(self, data, target=None):\n",
    "        \"\"\"\n",
    "        Expects a data frame with named columns to encode.\n",
    "        \"\"\"\n",
    "        # Encode all columns if columns is None\n",
    "        if self.columns is None:\n",
    "            self.columns = data.columns\n",
    "\n",
    "        # Fit a label encoder for each column in the data frame\n",
    "        self.encoders = {\n",
    "            column: LabelEncoder().fit(data[column])\n",
    "            for column in self.columns\n",
    "        }\n",
    "        return self\n",
    "\n",
    "    def transform(self, data):\n",
    "        \"\"\"\n",
    "        Uses the encoders to transform a data frame.\n",
    "        \"\"\"\n",
    "        output = data.copy()\n",
    "        for column, encoder in self.encoders.items():\n",
    "            output[column] = encoder.transform(data[column])\n",
    "\n",
    "        return output\n",
    "    \n",
    "    \n",
    "# precision = true positives / (true positives + false positives)\n",
    "\n",
    "# recall = true positives / (false negatives + true positives)\n",
    "\n",
    "# F1 score = 2 * ((precision * recall) / (precision + recall))\n",
    "\n",
    "\n",
    "from sklearn.metrics import f1_score\n",
    "from sklearn.pipeline import Pipeline\n",
    "\n",
    "\n",
    "def model_selection(X, y, estimator):\n",
    "    \"\"\"\n",
    "    Test various estimators.\n",
    "    \"\"\"\n",
    "    y = LabelEncoder().fit_transform(y.values.ravel())\n",
    "    model = Pipeline([\n",
    "         ('label_encoding', EncodeCategorical(X.keys())),\n",
    "         ('one_hot_encoder', OneHotEncoder()),\n",
    "         ('estimator', estimator)\n",
    "    ])\n",
    "\n",
    "    # Instantiate the classification model and visualizer\n",
    "    model.fit(X, y)\n",
    "\n",
    "    expected  = y\n",
    "    predicted = model.predict(X)\n",
    "\n",
    "    # Compute and return the F1 score (the harmonic mean of precision and recall)\n",
    "    return (f1_score(expected, predicted))"
   ]
  },
  {
   "cell_type": "markdown",
   "metadata": {},
   "source": [
    "## Create Model Summary\n",
    "\n",
    "- The three models: \n",
    "    - Logistic regression with manual selection, \n",
    "    - Logistic regression with RFE selection, \n",
    "    - Support Vector Machine (SVM) \n",
    "    \n",
    "These models were executed successfully. The models were cross validated with controls. \n",
    "\n",
    "- Stochastic Gradient Descent was not utilized for the SVM model because we down-sampled and also scaled the data.\n",
    "- The SVM model executes in roughly 2 minutes and hence we did not require SGD classifiers to optimize our model.\n",
    "- The \"GridSearchCV Logistic Regression with manual variable reduction\" model and \"GridSearchCV Logistic Regression with RFE\" produced the best accuracy and overall results. The results are summarized in the table below.\n"
   ]
  },
  {
   "cell_type": "code",
   "execution_count": 33,
   "metadata": {},
   "outputs": [
    {
     "data": {
      "text/html": [
       "<div>\n",
       "<style scoped>\n",
       "    .dataframe tbody tr th:only-of-type {\n",
       "        vertical-align: middle;\n",
       "    }\n",
       "\n",
       "    .dataframe tbody tr th {\n",
       "        vertical-align: top;\n",
       "    }\n",
       "\n",
       "    .dataframe thead th {\n",
       "        text-align: right;\n",
       "    }\n",
       "</style>\n",
       "<table border=\"1\" class=\"dataframe\">\n",
       "  <thead>\n",
       "    <tr style=\"text-align: right;\">\n",
       "      <th></th>\n",
       "      <th>Model</th>\n",
       "      <th>Accuracy</th>\n",
       "      <th>Precision</th>\n",
       "      <th>Recall</th>\n",
       "    </tr>\n",
       "  </thead>\n",
       "  <tbody>\n",
       "    <tr>\n",
       "      <th>0</th>\n",
       "      <td>manual</td>\n",
       "      <td>0.661281</td>\n",
       "      <td>0.679830</td>\n",
       "      <td>0.612587</td>\n",
       "    </tr>\n",
       "    <tr>\n",
       "      <th>1</th>\n",
       "      <td>Rfe</td>\n",
       "      <td>0.661281</td>\n",
       "      <td>0.679830</td>\n",
       "      <td>0.612587</td>\n",
       "    </tr>\n",
       "    <tr>\n",
       "      <th>2</th>\n",
       "      <td>manual</td>\n",
       "      <td>0.661281</td>\n",
       "      <td>0.679830</td>\n",
       "      <td>0.612587</td>\n",
       "    </tr>\n",
       "    <tr>\n",
       "      <th>3</th>\n",
       "      <td>SVM</td>\n",
       "      <td>0.657798</td>\n",
       "      <td>0.680955</td>\n",
       "      <td>0.593814</td>\n",
       "    </tr>\n",
       "  </tbody>\n",
       "</table>\n",
       "</div>"
      ],
      "text/plain": [
       "    Model  Accuracy  Precision    Recall\n",
       "0  manual  0.661281   0.679830  0.612587\n",
       "1     Rfe  0.661281   0.679830  0.612587\n",
       "2  manual  0.661281   0.679830  0.612587\n",
       "3     SVM  0.657798   0.680955  0.593814"
      ]
     },
     "execution_count": 33,
     "metadata": {},
     "output_type": "execute_result"
    }
   ],
   "source": [
    "df_results = pd.DataFrame(results)\n",
    "df_results = df_results[['Model', 'Accuracy', 'Precision', 'Recall']]\n",
    "df_results"
   ]
  },
  {
   "cell_type": "markdown",
   "metadata": {},
   "source": [
    "## Model Advantages\n",
    "\n",
    "For classification analysis both Logistic regression and Support Vector Machines are common machine learning algorithms for creating models.\n",
    "\n",
    "- Logistic regression\n",
    "\n",
    "    - For maximizing the probability of the data, logistic regression models are generally good. The accuracy of model is acheived at its best in these type of models when data points are distictly separated far away from hyperplane.\n",
    "    - This is more probablistic model.\n",
    "    - RFE (Recursive Feature Elimination) model chooses the peformance of feature and repeats process until all attibutes are analyzed. \n",
    "\n",
    "- Support Vector Machine\n",
    "\n",
    "    - By definition, SVM models tired to score on hyperplane which maximizes the distance closest to margin or support vectors.\n",
    "    - This is deterministic model.\n",
    "    - The SVM model creates hyperplane and puts source data in these dimensional space which is different from original data and is analyzed accordingly. \n",
    "\n",
    "\n",
    "Generally, from the results produced by our models both Logistic Regrerssion and SVM have similar accuracy. However, manual and RFE model of Logistic regression performed well in terms of precision and recall then SVM. In terms of accuracy, manual and RFE model has 89.77%, whereas SVM had 89.74% accuracy, which is with less than 1% of each other. \n",
    "In terms of precision, which means correctly classified classes, RFE and manual models had 60.87% precision. SVM did not perform well for out dataset or our variable selection. Overall, the manual************ and RFE logistic regression model performed best for our dataset. \n",
    "\n",
    "\n",
    "\n",
    " "
   ]
  },
  {
   "cell_type": "markdown",
   "metadata": {},
   "source": [
    "\n",
    "## Interpret Feature Importance\n",
    "\n",
    "### Logistic Regression\n",
    "In logistic models, feature weights will provide us with importance of attribute. We can compare RFE and manual models in terms of weight as both were normalized.\n",
    "\n",
    "###### Manual Variable Selection Model\n",
    "\n",
    "From the feature importance plot below, UCR_Offense_Name has major negative impact with the arrest made.  \n",
    "\n",
    "###### Recursive Selection Model\n",
    "\n",
    "*** EXPLANATION RELATED TO ATTRIBUTES"
   ]
  },
  {
   "cell_type": "code",
   "execution_count": 34,
   "metadata": {},
   "outputs": [],
   "source": [
    "from matplotlib import pyplot as plt\n",
    "\n",
    "def plotCoef(coef, names, t):\n",
    "    imp = coef\n",
    "    imp,names = zip(*sorted(zip(imp,names), key=lambda x: abs(x[0])))\n",
    "    plt.figure(figsize=(9,12))\n",
    "    barlist = plt.barh(range(len(names)), imp, align='center')\n",
    "    for x in np.nditer(np.where(np.asarray(list(imp)) < 0)):\n",
    "        barlist[x].set_color('r')\n",
    "    plt.yticks(range(len(names)), names)\n",
    "    plt.title(t)\n",
    "    plt.show()\n",
    "\n"
   ]
  },
  {
   "cell_type": "code",
   "execution_count": 35,
   "metadata": {},
   "outputs": [
    {
     "data": {
      "image/png": "[encoded data removed]",
      "text/plain": [
       "<Figure size 648x864 with 1 Axes>"
      ]
     },
     "metadata": {},
     "output_type": "display_data"
    },
    {
     "data": {
      "text/plain": [
       "[(-0.6374391498256661, 'UCR_Offense_Name'),\n",
       " (-0.34169284175232156, 'Response_time'),\n",
       " (-0.09778792367145236, 'Victim_Age'),\n",
       " (-0.05681421381529202, 'Victim_Race'),\n",
       " (-0.017412336816879325, 'Victim_Type'),\n",
       " (0.012361746349558611, 'Day1_of_the_Week'),\n",
       " (0.024221590372445895, 'Unnamed: 0'),\n",
       " (0.036069585158282694, 'Call_Received_Hour'),\n",
       " (0.05384147190022717, 'IsMale'),\n",
       " (0.11004721689892784, 'Social_crime_score'),\n",
       " (0.2057447377654947, 'Number_of_offense')]"
      ]
     },
     "execution_count": 35,
     "metadata": {},
     "output_type": "execute_result"
    }
   ],
   "source": [
    "plotCoef(regGridSearch.best_estimator_.coef_[0], inci_X.columns.values, \"Manual Logistic Features\")\n",
    "list(sorted(zip(regGridSearch.best_estimator_.coef_.ravel(), inci_X.columns.values)))"
   ]
  },
  {
   "cell_type": "code",
   "execution_count": 36,
   "metadata": {},
   "outputs": [
    {
     "data": {
      "image/png": "[encoded data removed]",
      "text/plain": [
       "<Figure size 648x864 with 1 Axes>"
      ]
     },
     "metadata": {},
     "output_type": "display_data"
    },
    {
     "data": {
      "text/plain": [
       "[(-0.637439149825666, 'UCR_Offense_Name'),\n",
       " (-0.3416928417523215, 'Response_time'),\n",
       " (-0.09778792367145235, 'Victim_Age'),\n",
       " (-0.05681421381529196, 'Victim_Race'),\n",
       " (-0.01741233681687933, 'Victim_Type'),\n",
       " (0.012361746349558552, 'Day1_of_the_Week'),\n",
       " (0.024221590372445978, 'Unnamed: 0'),\n",
       " (0.036069585158282715, 'Call_Received_Hour'),\n",
       " (0.05384147190022717, 'IsMale'),\n",
       " (0.11004721689892778, 'Social_crime_score'),\n",
       " (0.20574473776549476, 'Number_of_offense')]"
      ]
     },
     "execution_count": 36,
     "metadata": {},
     "output_type": "execute_result"
    }
   ],
   "source": [
    "plotCoef(grid.best_estimator_.named_steps['logisticregression'].coef_.ravel(), inci_X_Rfe.columns.values, \"Recursive Logistic Features\")\n",
    "list(sorted(zip(grid.best_estimator_.named_steps['logisticregression'].coef_.ravel(), inci_X_Rfe.columns.values)))"
   ]
  },
  {
   "cell_type": "code",
   "execution_count": 37,
   "metadata": {},
   "outputs": [
    {
     "data": {
      "text/plain": [
       "0.7252186438934046"
      ]
     },
     "execution_count": 37,
     "metadata": {},
     "output_type": "execute_result"
    }
   ],
   "source": [
    "from sklearn.svm import LinearSVC, NuSVC, SVC\n",
    "from sklearn.neighbors import KNeighborsClassifier\n",
    "from sklearn.linear_model import LogisticRegressionCV, LogisticRegression, SGDClassifier\n",
    "from sklearn.ensemble import BaggingClassifier, ExtraTreesClassifier, RandomForestClassifier\n",
    "\n",
    "model_selection(df_inci_X_SVM_scaled, inci_Y, SGDClassifier())"
   ]
  },
  {
   "cell_type": "markdown",
   "metadata": {},
   "source": [
    "## Interpreting Support Vectors\n",
    "\n",
    "For SVM models, the interpretation of field importance is not as straight forward. Non-linear SVM models create hyperplanes in infinite dimensional space. To accomplish this the source data used in the analysis must be mapped to a higher dimentional space and as a result is very different from the original data. Because of this it is not possible to determine feature weights like we did with the logisitc regessions above.\n",
    "\n",
    "However, we can examine individual features to investigate how SVM approaches classification problems.**** EXPLANATION"
   ]
  },
  {
   "cell_type": "code",
   "execution_count": 38,
   "metadata": {},
   "outputs": [],
   "source": [
    "# #Credit To:\n",
    "# ####http://scikit-learn.org/stable/auto_examples/svm/plot_iris.html\n",
    "# from matplotlib import pyplot as plt\n",
    "\n",
    "# #R and RA\n",
    "# pX = pd.DataFrame()\n",
    "\n",
    "# pX['a'] = inci_X_SVM['IsMale']\n",
    "# pX['b'] = inci_X_SVM['Number_of_offense']\n",
    "\n",
    "# psvc = SVC(kernel='linear', C=0.5, gamma='auto').fit(pX, inci_Y)\n",
    "\n",
    "# pXAmin = pX['a'].min() - 1\n",
    "# pXAmax = pX['a'].max() + 1\n",
    "# pXBmin = pX['b'].min() - 1\n",
    "# pXBmax = pX['b'].max() + 1\n",
    "\n",
    "# pxx, pyy = np.meshgrid(np.arange(pXAmin, pXAmax, 10), np.arange(pXBmin, pXBmax, 10))\n",
    "\n",
    "# plt.subplot(1, 1, 1)\n",
    "\n",
    "# pZ = psvc.predict(np.c_[pxx.ravel(), pyy.ravel()])\n",
    "\n",
    "# pZ = pZ.reshape(pxx.shape)\n",
    "# plt.contourf(pxx, pyy, pZ, cmap=plt.cm.Paired, alpha=0.8)\n",
    "\n",
    "# plt.scatter(pX['a'], pX['b'], c=inci_Y, cmap=plt.cm.Paired)\n",
    "# plt.xlabel('UCR_Offense_Name')\n",
    "# plt.ylabel('Number_of_offense')\n",
    "# plt.xlim(pxx.min(), pxx.max())\n",
    "# plt.title('SVM:  UCR_Offense_Name and Number_of_offense')\n",
    "# plt.show()"
   ]
  },
  {
   "cell_type": "markdown",
   "metadata": {},
   "source": [
    "# LOGISTIC REGRESSION ROC CURVE"
   ]
  },
  {
   "cell_type": "code",
   "execution_count": 39,
   "metadata": {},
   "outputs": [],
   "source": [
    "from sklearn.model_selection import train_test_split\n",
    "\n",
    "# Extract the numpy arrays from the data frame\n",
    "X = inci_X.as_matrix()\n",
    "y = inci_Y.as_matrix()\n",
    "\n",
    "# Create the train and test data\n",
    "X_train, X_test, y_train, y_test = train_test_split(X, y, test_size=0.2)"
   ]
  },
  {
   "cell_type": "code",
   "execution_count": 40,
   "metadata": {},
   "outputs": [
    {
     "data": {
      "image/png": "[encoded data removed]",
      "text/plain": [
       "<Figure size 576x396 with 1 Axes>"
      ]
     },
     "metadata": {},
     "output_type": "display_data"
    }
   ],
   "source": [
    "from sklearn.linear_model import LogisticRegression\n",
    "\n",
    "from yellowbrick.classifier import ROCAUC\n",
    "\n",
    "# Instantiate the classification model and visualizer\n",
    "logistic = LogisticRegression()\n",
    "visualizer = ROCAUC(logistic)\n",
    "\n",
    "visualizer.fit(X_train, y_train)  # Fit the training data to the visualizer\n",
    "visualizer.score(X_test, y_test)  # Evaluate the model on the test data\n",
    "g = visualizer.poof()             # Draw/show/poof the data"
   ]
  },
  {
   "cell_type": "code",
   "execution_count": 41,
   "metadata": {},
   "outputs": [
    {
     "data": {
      "image/png": "[encoded data removed]",
      "text/plain": [
       "<Figure size 576x396 with 2 Axes>"
      ]
     },
     "metadata": {},
     "output_type": "display_data"
    }
   ],
   "source": [
    "# CLASSIFICATION REPORT\n",
    "from yellowbrick.classifier import ClassificationReport\n",
    "from sklearn.linear_model import LogisticRegression\n",
    "viz = ClassificationReport(LogisticRegression())\n",
    "viz.fit(X_train, y_train)\n",
    "viz.score(X_test, y_test)\n",
    "viz.poof()"
   ]
  },
  {
   "cell_type": "markdown",
   "metadata": {},
   "source": [
    "# SVM"
   ]
  },
  {
   "cell_type": "code",
   "execution_count": 42,
   "metadata": {},
   "outputs": [],
   "source": [
    "from sklearn.datasets import make_classification\n",
    "from sklearn.model_selection import train_test_split\n",
    "\n",
    "# Create classification dataset\n",
    "X= df_inci_X_SVM_scaled\n",
    "Y = inci_Y\n",
    "\n",
    "# classes = [\"ARRESTED\", \"NOT ARRESTED\"]\n",
    "# Perform 80/20 training/test split\n",
    "X_train, X_test, y_train, y_test = train_test_split(X, Y, test_size=0.20,\n",
    "                                                    random_state=42)"
   ]
  },
  {
   "cell_type": "code",
   "execution_count": 43,
   "metadata": {},
   "outputs": [
    {
     "data": {
      "image/png": "[encoded data removed]",
      "text/plain": [
       "<Figure size 576x396 with 2 Axes>"
      ]
     },
     "metadata": {},
     "output_type": "display_data"
    }
   ],
   "source": [
    "# CLASSIFICATION REPORT\n",
    "from yellowbrick.classifier import ClassificationReport\n",
    "# from sklearn.linear_model import SVC\n",
    "from sklearn.svm import SVC\n",
    "viz = ClassificationReport(SVC())\n",
    "viz.fit(X_train, y_train)\n",
    "viz.score(X_test, y_test)\n",
    "viz.poof()"
   ]
  },
  {
   "cell_type": "code",
   "execution_count": 44,
   "metadata": {},
   "outputs": [
    {
     "data": {
      "image/png": "[encoded data removed]",
      "text/plain": [
       "<Figure size 576x396 with 1 Axes>"
      ]
     },
     "metadata": {},
     "output_type": "display_data"
    }
   ],
   "source": [
    "from sklearn.ensemble import RandomForestClassifier\n",
    "\n",
    "from yellowbrick.classifier import ClassPredictionError\n",
    "\n",
    "# Instantiate the classification model and visualizer\n",
    "visualizer = ClassPredictionError(\n",
    "    SVC(), classes=[\"NOT ARRESTED\",\"ARRESTED\"]\n",
    ")\n",
    "\n",
    "# Fit the training data to the visualizer\n",
    "visualizer.fit(X_train, y_train)\n",
    "\n",
    "# Evaluate the model on the test data\n",
    "visualizer.score(X_test, y_test)\n",
    "\n",
    "# Draw visualization\n",
    "g = visualizer.poof()"
   ]
  },
  {
   "cell_type": "code",
   "execution_count": 45,
   "metadata": {},
   "outputs": [],
   "source": [
    "# from sklearn.linear_model import LogisticRegression\n",
    "# from sklearn.svm import SVC\n",
    "# from yellowbrick.classifier import ROCAUC\n",
    "\n",
    "# # Instantiate the classification model and visualizer\n",
    "# SVM_sample = SVC()\n",
    "# visualizer = ROCAUC(SVM_sample)\n",
    "\n",
    "# visualizer.fit(X_train, y_train)  # Fit the training data to the visualizer\n",
    "# visualizer.score(X_test, y_test)  # Evaluate the model on the test data\n",
    "# g = visualizer.poof()   "
   ]
  },
  {
   "cell_type": "markdown",
   "metadata": {},
   "source": [
    "###### Key References\n",
    "\n",
    "https://github.com/eclarson/DataMiningNotebooks/blob/master/04.%20Logits%20and%20SVM.ipynb https://github.com/jakemdrew/EducationDataNC/blob/master/2017/Models/2017ComparingSegregatedHighSchoolCampuses.ipynb (Logit) http://www.cs.toronto.edu/~kswersky/wp-content/uploads/svm_vs_lr.pdf"
   ]
  },
  {
   "cell_type": "markdown",
   "metadata": {},
   "source": [
    "### END OF REPORT"
   ]
  },
  {
   "cell_type": "code",
   "execution_count": null,
   "metadata": {},
   "outputs": [],
   "source": []
  }
 ],
 "metadata": {
  "kernelspec": {
   "display_name": "Python 3",
   "language": "python",
   "name": "python3"
  },
  "language_info": {
   "codemirror_mode": {
    "name": "ipython",
    "version": 3
   },
   "file_extension": ".py",
   "mimetype": "text/x-python",
   "name": "python",
   "nbconvert_exporter": "python",
   "pygments_lexer": "ipython3",
   "version": "3.6.5"
  }
 },
 "nbformat": 4,
 "nbformat_minor": 2
}
