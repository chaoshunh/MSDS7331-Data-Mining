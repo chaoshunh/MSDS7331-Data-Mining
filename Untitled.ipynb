{
 "cells": [
  {
   "cell_type": "code",
   "execution_count": 1,
   "metadata": {},
   "outputs": [],
   "source": [
    "\n",
    "# Importing necessary packages for python\n",
    "import pandas as pd\n",
    "import numpy as np\n",
    "import datetime\n",
    "import time\n",
    "import string\n",
    "from dateutil.relativedelta import relativedelta\n",
    "%matplotlib inline\n",
    "import matplotlib.pyplot as plt\n",
    "import warnings\n",
    "warnings.simplefilter('ignore', DeprecationWarning)\n",
    "pd.set_option('mode.chained_assignment', None)\n",
    "plt.style.use('ggplot')\n",
    "import seaborn as sns\n",
    "from itertools import cycle, islice"
   ]
  },
  {
   "cell_type": "code",
   "execution_count": 2,
   "metadata": {},
   "outputs": [],
   "source": [
    "#-------------------------------\n",
    "# LOADING DATA INTO DATAFRAME\n",
    "#-------------------------------\n",
    "\n",
    "# MAIN DATA SET- Incident dataset as of  SEP 5, 2018\n",
    "path = \"../Data/\" # Generic path\n",
    "incident_Origin = pd.read_csv(path + 'Police_Incidents.csv', low_memory=False)\n",
    "\n",
    "#-------------------------------\n",
    "# LOADING SUPPORTING DATA SETS\n",
    "#-------------------------------\n",
    "\n",
    "#-------------------------------\n",
    "# Dallas area population dataset\n",
    "#-------------------------------\n",
    "population = pd.read_csv(path + 'Population.csv', low_memory=False)\n",
    "\n",
    "#------------------------------------\n",
    "# Dallas area police station dataset\n",
    "#------------------------------------\n",
    "police_station = pd.read_csv(path + 'Dallas_Police_Stations.csv', low_memory=False)\n",
    "\n",
    "#--------------------------------------------\n",
    "# Police arrest records for crosss reference\n",
    "#--------------------------------------------\n",
    "police_arrest = pd.read_csv(path + 'Police_arrests.csv', low_memory=False)\n"
   ]
  },
  {
   "cell_type": "code",
   "execution_count": 3,
   "metadata": {},
   "outputs": [
    {
     "name": "stdout",
     "output_type": "stream",
     "text": [
      "<class 'pandas.core.frame.DataFrame'>\n",
      "RangeIndex: 469927 entries, 0 to 469926\n",
      "Data columns (total 100 columns):\n",
      "Incident Number w/year                       469927 non-null object\n",
      "Year of Incident                             469927 non-null int64\n",
      "Service Number ID                            469927 non-null object\n",
      "Watch                                        469927 non-null object\n",
      "Call (911) Problem                           468058 non-null object\n",
      "Type of Incident                             469927 non-null object\n",
      "Type  Location                               457381 non-null object\n",
      "Type of Property                             114560 non-null object\n",
      "Incident Address                             466603 non-null object\n",
      "Apartment Number                             89425 non-null object\n",
      "Reporting Area                               469366 non-null float64\n",
      "Beat                                         469710 non-null float64\n",
      "Division                                     469710 non-null object\n",
      "Sector                                       469719 non-null float64\n",
      "Council District                             467897 non-null object\n",
      "Target Area Action Grids                     157645 non-null object\n",
      "Community                                    50284 non-null object\n",
      "Date1 of Occurrence                          469923 non-null object\n",
      "Year1 of Occurrence                          469923 non-null float64\n",
      "Month1 of Occurence                          469923 non-null object\n",
      "Day1 of the Week                             469923 non-null object\n",
      "Time1 of Occurrence                          469923 non-null object\n",
      "Day1 of the Year                             469923 non-null float64\n",
      "Date2 of Occurrence                          469922 non-null object\n",
      "Year2 of Occurrence                          469922 non-null float64\n",
      "Month2 of Occurence                          469922 non-null object\n",
      "Day2 of the Week                             469922 non-null object\n",
      "Time2 of Occurrence                          469922 non-null object\n",
      "Day2 of the Year                             469922 non-null float64\n",
      "Date of Report                               469927 non-null object\n",
      "Date incident created                        469927 non-null object\n",
      "Offense Entered Year                         469927 non-null int64\n",
      "Offense Entered Month                        469927 non-null object\n",
      "Offense Entered Day of the Week              469927 non-null object\n",
      "Offense Entered Time                         469927 non-null object\n",
      "Offense Entered  Date/Time                   469927 non-null int64\n",
      "CFS Number                                   468059 non-null object\n",
      "Call Received Date Time                      468059 non-null object\n",
      "Call Date Time                               468059 non-null object\n",
      "Call Cleared Date Time                       467724 non-null object\n",
      "Call Dispatch Date Time                      468015 non-null object\n",
      "Special Report (Pre-RMS)                     2717 non-null object\n",
      "Person Involvement Type                      453646 non-null object\n",
      "Victim Type                                  445375 non-null object\n",
      "Victim Name                                  450277 non-null object\n",
      "Victim Race                                  307657 non-null object\n",
      "Victim Ethnicity                             304838 non-null object\n",
      "Victim Gender                                307818 non-null object\n",
      "Victim Age                                   291326 non-null float64\n",
      "Victim Age at Offense                        287871 non-null float64\n",
      "Victim Home Address                          440084 non-null object\n",
      "Victim Apartment                             125567 non-null object\n",
      "Victim Zip Code                              432529 non-null float64\n",
      "Victim City                                  439582 non-null object\n",
      "Victim State                                 434526 non-null object\n",
      "Victim Business Name                         18717 non-null object\n",
      "Victim Business Address                      11988 non-null object\n",
      "Victim Business Phone                        6521 non-null object\n",
      "Responding Officer #1  Badge No              467481 non-null object\n",
      "Responding Officer #1  Name                  466688 non-null object\n",
      "Responding Officer #2 Badge No               170541 non-null object\n",
      "Responding Officer #2  Name                  170539 non-null object\n",
      "Reporting Officer Badge No                   468686 non-null object\n",
      "Assisting Officer Badge No                   355821 non-null object\n",
      "Reviewing Officer Badge No                   467955 non-null object\n",
      "Element Number Assigned                      467632 non-null object\n",
      "Investigating Unit 1                         345848 non-null object\n",
      "Investigating Unit 2                         345878 non-null object\n",
      "Offense Status                               460408 non-null object\n",
      "UCR Disposition                              460471 non-null object\n",
      "Victim Injury Description                    27198 non-null object\n",
      "Victim Condition                             22398 non-null object\n",
      "Modus Operandi (MO)                          445450 non-null object\n",
      "Family Offense                               469820 non-null object\n",
      "Hate Crime                                   587 non-null object\n",
      "Hate Crime Description                       469787 non-null object\n",
      "Weapon Used                                  395751 non-null object\n",
      "Gang Related Offense                         396299 non-null object\n",
      "Victim Package                               0 non-null float64\n",
      "Drug Related Istevencident                   469773 non-null object\n",
      "RMS Code                                     469927 non-null object\n",
      "Criminal Justice Information Service Code    469927 non-null int64\n",
      "Penal Code                                   469927 non-null object\n",
      "UCR Offense Name                             428687 non-null object\n",
      "UCR Offense Description                      428687 non-null object\n",
      " UCR Code                                    428687 non-null float64\n",
      "Offense Type                                 428687 non-null object\n",
      "NIBRS Crime                                  196568 non-null object\n",
      "NIBRS Crime Category                         196568 non-null object\n",
      "NIBRS Crime Against                          196568 non-null object\n",
      "NIBRS Code                                   196568 non-null object\n",
      "NIBRS Group                                  196568 non-null object\n",
      "NIBRS Type                                   196568 non-null object\n",
      "Update Date                                  469927 non-null object\n",
      "X Coordinate                                 418307 non-null float64\n",
      "Y Cordinate                                  418307 non-null float64\n",
      "Zip Code                                     466432 non-null float64\n",
      "City                                         465029 non-null object\n",
      "State                                        465486 non-null object\n",
      "Location1                                    466603 non-null object\n",
      "dtypes: float64(15), int64(4), object(81)\n",
      "memory usage: 358.5+ MB\n"
     ]
    }
   ],
   "source": [
    "incident_Origin.info()"
   ]
  },
  {
   "cell_type": "code",
   "execution_count": 11,
   "metadata": {},
   "outputs": [
    {
     "name": "stdout",
     "output_type": "stream",
     "text": [
      "<class 'pandas.core.frame.DataFrame'>\n",
      "RangeIndex: 32038 entries, 0 to 32037\n",
      "Data columns (total 20 columns):\n",
      "Zip                         32038 non-null int64\n",
      "Total population            32038 non-null int64\n",
      "Male                        32038 non-null int64\n",
      "Male - 0  to 9 years        32038 non-null int64\n",
      "Male - 10  to 18 years      32038 non-null int64\n",
      "Male - 19 to 21 years       32038 non-null int64\n",
      "Male - 22 - 29 years        32038 non-null int64\n",
      "Male - 30 - 44 years        32038 non-null int64\n",
      "Male - 45 to 59 years       32038 non-null int64\n",
      "Male - 60 - 69 years        32038 non-null int64\n",
      "Male - 70 years +           32038 non-null int64\n",
      "Female                      32038 non-null int64\n",
      "Female - 0  to 9 years      32038 non-null int64\n",
      "Female - 10  to 18 years    32038 non-null int64\n",
      "Female - 19 to 22 years     32038 non-null int64\n",
      "Female - 23 - 29 years      32038 non-null int64\n",
      "Female - 30 - 44 years      32038 non-null int64\n",
      "Female - 45 to 59 years     32038 non-null int64\n",
      "Female - 60 - 69 years      32038 non-null int64\n",
      "Female - 70 years +         32038 non-null int64\n",
      "dtypes: int64(20)\n",
      "memory usage: 4.9 MB\n"
     ]
    }
   ],
   "source": [
    "population.info()"
   ]
  },
  {
   "cell_type": "code",
   "execution_count": 12,
   "metadata": {},
   "outputs": [
    {
     "name": "stdout",
     "output_type": "stream",
     "text": [
      "<class 'pandas.core.frame.DataFrame'>\n",
      "RangeIndex: 8 entries, 0 to 7\n",
      "Data columns (total 5 columns):\n",
      "Station         8 non-null object\n",
      "Address         8 non-null object\n",
      "Zip Code        8 non-null int64\n",
      "Phone Number    8 non-null object\n",
      "Location        8 non-null object\n",
      "dtypes: int64(1), object(4)\n",
      "memory usage: 400.0+ bytes\n"
     ]
    }
   ],
   "source": [
    "police_station.info()"
   ]
  },
  {
   "cell_type": "code",
   "execution_count": 6,
   "metadata": {},
   "outputs": [
    {
     "name": "stdout",
     "output_type": "stream",
     "text": [
      "<class 'pandas.core.frame.DataFrame'>\n",
      "RangeIndex: 125426 entries, 0 to 125425\n",
      "Data columns (total 77 columns):\n",
      "IncidentNum        125426 non-null object\n",
      "Involvement        0 non-null float64\n",
      "ArrestYr           125426 non-null int64\n",
      "ArrestNum          0 non-null float64\n",
      "ArBkNum            0 non-null float64\n",
      "ArCaseNum          0 non-null float64\n",
      "ArrestNumID        125426 non-null object\n",
      "ArBkDate           125426 non-null object\n",
      "ArBkNo             0 non-null float64\n",
      "ArLBlock           0 non-null float64\n",
      "ArLDir             0 non-null float64\n",
      "ArLStreet          0 non-null float64\n",
      "ArLApt             11047 non-null object\n",
      "ArLZip             125370 non-null float64\n",
      "ArLCity            125298 non-null object\n",
      "ArState            125163 non-null object\n",
      "ArLRA              92717 non-null float64\n",
      "ArLBeat            123472 non-null float64\n",
      "ArLAddress         0 non-null float64\n",
      "ArArrestDate       125426 non-null object\n",
      "ArArrestTime       125426 non-null object\n",
      "ArADOW             125426 non-null object\n",
      "ArPremises         60027 non-null object\n",
      "ArOfcr1            125379 non-null object\n",
      "ArOfcr2            93091 non-null object\n",
      "Transport1         0 non-null float64\n",
      "Transport2         0 non-null float64\n",
      "Search1            0 non-null float64\n",
      "Search2            0 non-null float64\n",
      "ArHow              0 non-null float64\n",
      "ArWeapon           125416 non-null object\n",
      "ArOSR              0 non-null float64\n",
      "ArResisted         0 non-null float64\n",
      "ArArmed            0 non-null float64\n",
      "ArCurrLoc          124074 non-null object\n",
      "ArCond             469 non-null object\n",
      "ArMedFlag          2 non-null object\n",
      "ArMedLoc           2380 non-null object\n",
      "ArOpComm           0 non-null float64\n",
      "ArServYr           0 non-null float64\n",
      "ArServNo           0 non-null float64\n",
      "ServiceNum         0 non-null float64\n",
      "ArNarrKey          0 non-null float64\n",
      "Name               125426 non-null object\n",
      "NickName           4072 non-null object\n",
      "AliasName          1346 non-null object\n",
      "BirthPlace         83472 non-null object\n",
      "Age                124912 non-null float64\n",
      "AgeAtArrestTime    119578 non-null float64\n",
      "Height             125425 non-null object\n",
      "Weight             125426 non-null int64\n",
      "Hair               122032 non-null object\n",
      "Eyes               125424 non-null object\n",
      "Race               125426 non-null object\n",
      "Sex                125078 non-null object\n",
      "DLType             0 non-null float64\n",
      "HBlock             0 non-null float64\n",
      "HDir               0 non-null float64\n",
      "HStreet            0 non-null float64\n",
      "HAddress           122388 non-null object\n",
      "HApt               29922 non-null object\n",
      "HZIP               117085 non-null float64\n",
      "HCity              122092 non-null object\n",
      "HState             118004 non-null object\n",
      "HRA                73247 non-null float64\n",
      "HBeat              76373 non-null float64\n",
      "Tatoo              7910 non-null object\n",
      "TatooComment       4333 non-null object\n",
      "Occupation         7429 non-null object\n",
      "JobSchStatus       0 non-null float64\n",
      "Employer           11177 non-null object\n",
      "Drug               1123 non-null object\n",
      "DrugRelated        61819 non-null object\n",
      "DrugType           7539 non-null object\n",
      "ClothingWorn       124659 non-null object\n",
      "Expunged           0 non-null float64\n",
      "UpZDate            125426 non-null object\n",
      "dtypes: float64(36), int64(2), object(39)\n",
      "memory usage: 73.7+ MB\n"
     ]
    }
   ],
   "source": [
    "police_arrest.info()"
   ]
  },
  {
   "cell_type": "code",
   "execution_count": 8,
   "metadata": {},
   "outputs": [
    {
     "data": {
      "text/plain": [
       "285189210"
      ]
     },
     "execution_count": 8,
     "metadata": {},
     "output_type": "execute_result"
    }
   ],
   "source": [
    "population['Total population'].sum()"
   ]
  },
  {
   "cell_type": "code",
   "execution_count": 10,
   "metadata": {},
   "outputs": [
    {
     "data": {
      "text/plain": [
       "0    9801 Harry Hines Blvd.\\nDallas, Texas 75220\\n(...\n",
       "1    4230 West Illinois Ave.\\nDallas, Texas 75211\\n...\n",
       "2    725 North Jim Miller Rd.\\nDallas, Texas 75217\\...\n",
       "3    9915 East Northwest Highway\\nDallas, Texas 752...\n",
       "4    6969 McCallum Blvd.\\nDallas, Texas 75252\\n(32....\n",
       "5    1400 S. Lamar St.\\nDallas, Texas 75215\\n(32.76...\n",
       "6    334 S. Hall St.\\nDallas, Texas 75226\\n(32.7863...\n",
       "7    1999 East Camp Wisdom Road\\nDallas, Texas 7524...\n",
       "Name: Location, dtype: object"
      ]
     },
     "execution_count": 10,
     "metadata": {},
     "output_type": "execute_result"
    }
   ],
   "source": [
    "police_station['Location']"
   ]
  },
  {
   "cell_type": "code",
   "execution_count": null,
   "metadata": {},
   "outputs": [],
   "source": []
  }
 ],
 "metadata": {
  "kernelspec": {
   "display_name": "Python 3",
   "language": "python",
   "name": "python3"
  },
  "language_info": {
   "codemirror_mode": {
    "name": "ipython",
    "version": 3
   },
   "file_extension": ".py",
   "mimetype": "text/x-python",
   "name": "python",
   "nbconvert_exporter": "python",
   "pygments_lexer": "ipython3",
   "version": "3.6.1"
  }
 },
 "nbformat": 4,
 "nbformat_minor": 2
}
